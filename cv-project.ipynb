{
 "cells": [
  {
   "cell_type": "code",
   "execution_count": null,
   "id": "6a7d4654",
   "metadata": {
    "papermill": {
     "duration": 0.009484,
     "end_time": "2024-08-02T20:34:51.538546",
     "exception": false,
     "start_time": "2024-08-02T20:34:51.529062",
     "status": "completed"
    },
    "tags": []
   },
   "outputs": [],
   "source": []
  },
  {
   "cell_type": "code",
   "execution_count": 1,
   "id": "b1c8417d",
   "metadata": {
    "execution": {
     "iopub.execute_input": "2024-08-02T20:34:51.557783Z",
     "iopub.status.busy": "2024-08-02T20:34:51.557474Z",
     "iopub.status.idle": "2024-08-02T20:35:05.858827Z",
     "shell.execute_reply": "2024-08-02T20:35:05.857437Z"
    },
    "papermill": {
     "duration": 14.313736,
     "end_time": "2024-08-02T20:35:05.861403",
     "exception": false,
     "start_time": "2024-08-02T20:34:51.547667",
     "status": "completed"
    },
    "tags": []
   },
   "outputs": [
    {
     "name": "stdout",
     "output_type": "stream",
     "text": [
      "Collecting wildlife-datasets\r\n",
      "  Downloading wildlife_datasets-1.0.4-py3-none-any.whl.metadata (11 kB)\r\n",
      "Requirement already satisfied: numpy>=1.19.4 in /opt/conda/lib/python3.10/site-packages (from wildlife-datasets) (1.26.4)\r\n",
      "Requirement already satisfied: pandas>=1.1.4 in /opt/conda/lib/python3.10/site-packages (from wildlife-datasets) (2.2.1)\r\n",
      "Requirement already satisfied: tqdm>=4.62.3 in /opt/conda/lib/python3.10/site-packages (from wildlife-datasets) (4.66.4)\r\n",
      "Requirement already satisfied: opencv-python>=4.5.5.62 in /opt/conda/lib/python3.10/site-packages (from wildlife-datasets) (4.10.0.82)\r\n",
      "Requirement already satisfied: Pillow>=7.1.2 in /opt/conda/lib/python3.10/site-packages (from wildlife-datasets) (9.5.0)\r\n",
      "Requirement already satisfied: scikit-learn>=1.0.1 in /opt/conda/lib/python3.10/site-packages (from wildlife-datasets) (1.2.2)\r\n",
      "Requirement already satisfied: matplotlib>=3.5.1 in /opt/conda/lib/python3.10/site-packages (from wildlife-datasets) (3.7.5)\r\n",
      "Collecting gdown (from wildlife-datasets)\r\n",
      "  Downloading gdown-5.2.0-py3-none-any.whl.metadata (5.8 kB)\r\n",
      "Requirement already satisfied: kaggle in /opt/conda/lib/python3.10/site-packages (from wildlife-datasets) (1.6.14)\r\n",
      "Requirement already satisfied: contourpy>=1.0.1 in /opt/conda/lib/python3.10/site-packages (from matplotlib>=3.5.1->wildlife-datasets) (1.2.0)\r\n",
      "Requirement already satisfied: cycler>=0.10 in /opt/conda/lib/python3.10/site-packages (from matplotlib>=3.5.1->wildlife-datasets) (0.12.1)\r\n",
      "Requirement already satisfied: fonttools>=4.22.0 in /opt/conda/lib/python3.10/site-packages (from matplotlib>=3.5.1->wildlife-datasets) (4.47.0)\r\n",
      "Requirement already satisfied: kiwisolver>=1.0.1 in /opt/conda/lib/python3.10/site-packages (from matplotlib>=3.5.1->wildlife-datasets) (1.4.5)\r\n",
      "Requirement already satisfied: packaging>=20.0 in /opt/conda/lib/python3.10/site-packages (from matplotlib>=3.5.1->wildlife-datasets) (21.3)\r\n",
      "Requirement already satisfied: pyparsing>=2.3.1 in /opt/conda/lib/python3.10/site-packages (from matplotlib>=3.5.1->wildlife-datasets) (3.1.1)\r\n",
      "Requirement already satisfied: python-dateutil>=2.7 in /opt/conda/lib/python3.10/site-packages (from matplotlib>=3.5.1->wildlife-datasets) (2.9.0.post0)\r\n",
      "Requirement already satisfied: pytz>=2020.1 in /opt/conda/lib/python3.10/site-packages (from pandas>=1.1.4->wildlife-datasets) (2023.3.post1)\r\n",
      "Requirement already satisfied: tzdata>=2022.7 in /opt/conda/lib/python3.10/site-packages (from pandas>=1.1.4->wildlife-datasets) (2023.4)\r\n",
      "Requirement already satisfied: scipy>=1.3.2 in /opt/conda/lib/python3.10/site-packages (from scikit-learn>=1.0.1->wildlife-datasets) (1.11.4)\r\n",
      "Requirement already satisfied: joblib>=1.1.1 in /opt/conda/lib/python3.10/site-packages (from scikit-learn>=1.0.1->wildlife-datasets) (1.4.2)\r\n",
      "Requirement already satisfied: threadpoolctl>=2.0.0 in /opt/conda/lib/python3.10/site-packages (from scikit-learn>=1.0.1->wildlife-datasets) (3.2.0)\r\n",
      "Requirement already satisfied: beautifulsoup4 in /opt/conda/lib/python3.10/site-packages (from gdown->wildlife-datasets) (4.12.2)\r\n",
      "Requirement already satisfied: filelock in /opt/conda/lib/python3.10/site-packages (from gdown->wildlife-datasets) (3.13.1)\r\n",
      "Requirement already satisfied: requests[socks] in /opt/conda/lib/python3.10/site-packages (from gdown->wildlife-datasets) (2.32.3)\r\n",
      "Requirement already satisfied: six>=1.10 in /opt/conda/lib/python3.10/site-packages (from kaggle->wildlife-datasets) (1.16.0)\r\n",
      "Requirement already satisfied: certifi>=2023.7.22 in /opt/conda/lib/python3.10/site-packages (from kaggle->wildlife-datasets) (2024.2.2)\r\n",
      "Requirement already satisfied: python-slugify in /opt/conda/lib/python3.10/site-packages (from kaggle->wildlife-datasets) (8.0.4)\r\n",
      "Requirement already satisfied: urllib3 in /opt/conda/lib/python3.10/site-packages (from kaggle->wildlife-datasets) (1.26.18)\r\n",
      "Requirement already satisfied: bleach in /opt/conda/lib/python3.10/site-packages (from kaggle->wildlife-datasets) (6.1.0)\r\n",
      "Requirement already satisfied: soupsieve>1.2 in /opt/conda/lib/python3.10/site-packages (from beautifulsoup4->gdown->wildlife-datasets) (2.5)\r\n",
      "Requirement already satisfied: webencodings in /opt/conda/lib/python3.10/site-packages (from bleach->kaggle->wildlife-datasets) (0.5.1)\r\n",
      "Requirement already satisfied: text-unidecode>=1.3 in /opt/conda/lib/python3.10/site-packages (from python-slugify->kaggle->wildlife-datasets) (1.3)\r\n",
      "Requirement already satisfied: charset-normalizer<4,>=2 in /opt/conda/lib/python3.10/site-packages (from requests[socks]->gdown->wildlife-datasets) (3.3.2)\r\n",
      "Requirement already satisfied: idna<4,>=2.5 in /opt/conda/lib/python3.10/site-packages (from requests[socks]->gdown->wildlife-datasets) (3.6)\r\n",
      "Requirement already satisfied: PySocks!=1.5.7,>=1.5.6 in /opt/conda/lib/python3.10/site-packages (from requests[socks]->gdown->wildlife-datasets) (1.7.1)\r\n",
      "Downloading wildlife_datasets-1.0.4-py3-none-any.whl (46 kB)\r\n",
      "\u001b[2K   \u001b[90m━━━━━━━━━━━━━━━━━━━━━━━━━━━━━━━━━━━━━━━━\u001b[0m \u001b[32m46.4/46.4 kB\u001b[0m \u001b[31m762.5 kB/s\u001b[0m eta \u001b[36m0:00:00\u001b[0m\r\n",
      "\u001b[?25hDownloading gdown-5.2.0-py3-none-any.whl (18 kB)\r\n",
      "Installing collected packages: gdown, wildlife-datasets\r\n",
      "Successfully installed gdown-5.2.0 wildlife-datasets-1.0.4\r\n",
      "Note: you may need to restart the kernel to use updated packages.\n"
     ]
    }
   ],
   "source": [
    "%pip install wildlife-datasets"
   ]
  },
  {
   "cell_type": "code",
   "execution_count": 2,
   "id": "26ab929a",
   "metadata": {
    "execution": {
     "iopub.execute_input": "2024-08-02T20:35:05.891015Z",
     "iopub.status.busy": "2024-08-02T20:35:05.890691Z",
     "iopub.status.idle": "2024-08-02T20:35:22.896405Z",
     "shell.execute_reply": "2024-08-02T20:35:22.895274Z"
    },
    "papermill": {
     "duration": 17.022921,
     "end_time": "2024-08-02T20:35:22.898399",
     "exception": false,
     "start_time": "2024-08-02T20:35:05.875478",
     "status": "completed"
    },
    "tags": []
   },
   "outputs": [
    {
     "name": "stdout",
     "output_type": "stream",
     "text": [
      "Collecting wildlife-tools\r\n",
      "  Downloading wildlife_tools-0.0.9-py3-none-any.whl.metadata (9.3 kB)\r\n",
      "Requirement already satisfied: torch>=2.0.1 in /opt/conda/lib/python3.10/site-packages (from wildlife-tools) (2.1.2)\r\n",
      "Requirement already satisfied: timm>=0.9.2 in /opt/conda/lib/python3.10/site-packages (from wildlife-tools) (1.0.3)\r\n",
      "Requirement already satisfied: numpy>=1.19.4 in /opt/conda/lib/python3.10/site-packages (from wildlife-tools) (1.26.4)\r\n",
      "Requirement already satisfied: pandas>=1.1.4 in /opt/conda/lib/python3.10/site-packages (from wildlife-tools) (2.2.1)\r\n",
      "Requirement already satisfied: tqdm>=4.62.3 in /opt/conda/lib/python3.10/site-packages (from wildlife-tools) (4.66.4)\r\n",
      "Requirement already satisfied: opencv-python>=4.5.5.62 in /opt/conda/lib/python3.10/site-packages (from wildlife-tools) (4.10.0.82)\r\n",
      "Requirement already satisfied: Pillow>=7.1.2 in /opt/conda/lib/python3.10/site-packages (from wildlife-tools) (9.5.0)\r\n",
      "Requirement already satisfied: scikit-learn>=1.0.1 in /opt/conda/lib/python3.10/site-packages (from wildlife-tools) (1.2.2)\r\n",
      "Collecting pycocotools (from wildlife-tools)\r\n",
      "  Downloading pycocotools-2.0.8-cp310-cp310-manylinux_2_17_x86_64.manylinux2014_x86_64.whl.metadata (1.1 kB)\r\n",
      "Requirement already satisfied: tensorboard in /opt/conda/lib/python3.10/site-packages (from wildlife-tools) (2.15.1)\r\n",
      "Collecting pytorch-metric-learning (from wildlife-tools)\r\n",
      "  Downloading pytorch_metric_learning-2.6.0-py3-none-any.whl.metadata (17 kB)\r\n",
      "Requirement already satisfied: transformers>=4.30.2 in /opt/conda/lib/python3.10/site-packages (from wildlife-tools) (4.41.2)\r\n",
      "Requirement already satisfied: wildlife-datasets>=0.3.4 in /opt/conda/lib/python3.10/site-packages (from wildlife-tools) (1.0.4)\r\n",
      "Requirement already satisfied: kornia>=0.6.12 in /opt/conda/lib/python3.10/site-packages (from wildlife-tools) (0.7.2)\r\n",
      "Collecting faiss-gpu (from wildlife-tools)\r\n",
      "  Downloading faiss_gpu-1.7.2-cp310-cp310-manylinux_2_17_x86_64.manylinux2014_x86_64.whl.metadata (1.4 kB)\r\n",
      "Requirement already satisfied: kornia-rs>=0.1.0 in /opt/conda/lib/python3.10/site-packages (from kornia>=0.6.12->wildlife-tools) (0.1.3)\r\n",
      "Requirement already satisfied: packaging in /opt/conda/lib/python3.10/site-packages (from kornia>=0.6.12->wildlife-tools) (21.3)\r\n",
      "Requirement already satisfied: python-dateutil>=2.8.2 in /opt/conda/lib/python3.10/site-packages (from pandas>=1.1.4->wildlife-tools) (2.9.0.post0)\r\n",
      "Requirement already satisfied: pytz>=2020.1 in /opt/conda/lib/python3.10/site-packages (from pandas>=1.1.4->wildlife-tools) (2023.3.post1)\r\n",
      "Requirement already satisfied: tzdata>=2022.7 in /opt/conda/lib/python3.10/site-packages (from pandas>=1.1.4->wildlife-tools) (2023.4)\r\n",
      "Requirement already satisfied: scipy>=1.3.2 in /opt/conda/lib/python3.10/site-packages (from scikit-learn>=1.0.1->wildlife-tools) (1.11.4)\r\n",
      "Requirement already satisfied: joblib>=1.1.1 in /opt/conda/lib/python3.10/site-packages (from scikit-learn>=1.0.1->wildlife-tools) (1.4.2)\r\n",
      "Requirement already satisfied: threadpoolctl>=2.0.0 in /opt/conda/lib/python3.10/site-packages (from scikit-learn>=1.0.1->wildlife-tools) (3.2.0)\r\n",
      "Requirement already satisfied: torchvision in /opt/conda/lib/python3.10/site-packages (from timm>=0.9.2->wildlife-tools) (0.16.2)\r\n",
      "Requirement already satisfied: pyyaml in /opt/conda/lib/python3.10/site-packages (from timm>=0.9.2->wildlife-tools) (6.0.1)\r\n",
      "Requirement already satisfied: huggingface_hub in /opt/conda/lib/python3.10/site-packages (from timm>=0.9.2->wildlife-tools) (0.23.2)\r\n",
      "Requirement already satisfied: safetensors in /opt/conda/lib/python3.10/site-packages (from timm>=0.9.2->wildlife-tools) (0.4.3)\r\n",
      "Requirement already satisfied: filelock in /opt/conda/lib/python3.10/site-packages (from torch>=2.0.1->wildlife-tools) (3.13.1)\r\n",
      "Requirement already satisfied: typing-extensions in /opt/conda/lib/python3.10/site-packages (from torch>=2.0.1->wildlife-tools) (4.9.0)\r\n",
      "Requirement already satisfied: sympy in /opt/conda/lib/python3.10/site-packages (from torch>=2.0.1->wildlife-tools) (1.12.1)\r\n",
      "Requirement already satisfied: networkx in /opt/conda/lib/python3.10/site-packages (from torch>=2.0.1->wildlife-tools) (3.2.1)\r\n",
      "Requirement already satisfied: jinja2 in /opt/conda/lib/python3.10/site-packages (from torch>=2.0.1->wildlife-tools) (3.1.2)\r\n",
      "Requirement already satisfied: fsspec in /opt/conda/lib/python3.10/site-packages (from torch>=2.0.1->wildlife-tools) (2024.3.1)\r\n",
      "Requirement already satisfied: regex!=2019.12.17 in /opt/conda/lib/python3.10/site-packages (from transformers>=4.30.2->wildlife-tools) (2023.12.25)\r\n",
      "Requirement already satisfied: requests in /opt/conda/lib/python3.10/site-packages (from transformers>=4.30.2->wildlife-tools) (2.32.3)\r\n",
      "Requirement already satisfied: tokenizers<0.20,>=0.19 in /opt/conda/lib/python3.10/site-packages (from transformers>=4.30.2->wildlife-tools) (0.19.1)\r\n",
      "Requirement already satisfied: matplotlib>=3.5.1 in /opt/conda/lib/python3.10/site-packages (from wildlife-datasets>=0.3.4->wildlife-tools) (3.7.5)\r\n",
      "Requirement already satisfied: gdown in /opt/conda/lib/python3.10/site-packages (from wildlife-datasets>=0.3.4->wildlife-tools) (5.2.0)\r\n",
      "Requirement already satisfied: kaggle in /opt/conda/lib/python3.10/site-packages (from wildlife-datasets>=0.3.4->wildlife-tools) (1.6.14)\r\n",
      "Requirement already satisfied: absl-py>=0.4 in /opt/conda/lib/python3.10/site-packages (from tensorboard->wildlife-tools) (1.4.0)\r\n",
      "Requirement already satisfied: grpcio>=1.48.2 in /opt/conda/lib/python3.10/site-packages (from tensorboard->wildlife-tools) (1.59.3)\r\n",
      "Requirement already satisfied: google-auth<3,>=1.6.3 in /opt/conda/lib/python3.10/site-packages (from tensorboard->wildlife-tools) (2.26.1)\r\n",
      "Requirement already satisfied: google-auth-oauthlib<2,>=0.5 in /opt/conda/lib/python3.10/site-packages (from tensorboard->wildlife-tools) (1.2.0)\r\n",
      "Requirement already satisfied: markdown>=2.6.8 in /opt/conda/lib/python3.10/site-packages (from tensorboard->wildlife-tools) (3.5.2)\r\n",
      "Requirement already satisfied: protobuf<4.24,>=3.19.6 in /opt/conda/lib/python3.10/site-packages (from tensorboard->wildlife-tools) (3.20.3)\r\n",
      "Requirement already satisfied: setuptools>=41.0.0 in /opt/conda/lib/python3.10/site-packages (from tensorboard->wildlife-tools) (69.0.3)\r\n",
      "Requirement already satisfied: six>1.9 in /opt/conda/lib/python3.10/site-packages (from tensorboard->wildlife-tools) (1.16.0)\r\n",
      "Requirement already satisfied: tensorboard-data-server<0.8.0,>=0.7.0 in /opt/conda/lib/python3.10/site-packages (from tensorboard->wildlife-tools) (0.7.2)\r\n",
      "Requirement already satisfied: werkzeug>=1.0.1 in /opt/conda/lib/python3.10/site-packages (from tensorboard->wildlife-tools) (3.0.3)\r\n",
      "Requirement already satisfied: cachetools<6.0,>=2.0.0 in /opt/conda/lib/python3.10/site-packages (from google-auth<3,>=1.6.3->tensorboard->wildlife-tools) (4.2.4)\r\n",
      "Requirement already satisfied: pyasn1-modules>=0.2.1 in /opt/conda/lib/python3.10/site-packages (from google-auth<3,>=1.6.3->tensorboard->wildlife-tools) (0.3.0)\r\n",
      "Requirement already satisfied: rsa<5,>=3.1.4 in /opt/conda/lib/python3.10/site-packages (from google-auth<3,>=1.6.3->tensorboard->wildlife-tools) (4.9)\r\n",
      "Requirement already satisfied: requests-oauthlib>=0.7.0 in /opt/conda/lib/python3.10/site-packages (from google-auth-oauthlib<2,>=0.5->tensorboard->wildlife-tools) (1.3.1)\r\n",
      "Requirement already satisfied: contourpy>=1.0.1 in /opt/conda/lib/python3.10/site-packages (from matplotlib>=3.5.1->wildlife-datasets>=0.3.4->wildlife-tools) (1.2.0)\r\n",
      "Requirement already satisfied: cycler>=0.10 in /opt/conda/lib/python3.10/site-packages (from matplotlib>=3.5.1->wildlife-datasets>=0.3.4->wildlife-tools) (0.12.1)\r\n",
      "Requirement already satisfied: fonttools>=4.22.0 in /opt/conda/lib/python3.10/site-packages (from matplotlib>=3.5.1->wildlife-datasets>=0.3.4->wildlife-tools) (4.47.0)\r\n",
      "Requirement already satisfied: kiwisolver>=1.0.1 in /opt/conda/lib/python3.10/site-packages (from matplotlib>=3.5.1->wildlife-datasets>=0.3.4->wildlife-tools) (1.4.5)\r\n",
      "Requirement already satisfied: pyparsing>=2.3.1 in /opt/conda/lib/python3.10/site-packages (from matplotlib>=3.5.1->wildlife-datasets>=0.3.4->wildlife-tools) (3.1.1)\r\n",
      "Requirement already satisfied: charset-normalizer<4,>=2 in /opt/conda/lib/python3.10/site-packages (from requests->transformers>=4.30.2->wildlife-tools) (3.3.2)\r\n",
      "Requirement already satisfied: idna<4,>=2.5 in /opt/conda/lib/python3.10/site-packages (from requests->transformers>=4.30.2->wildlife-tools) (3.6)\r\n",
      "Requirement already satisfied: urllib3<3,>=1.21.1 in /opt/conda/lib/python3.10/site-packages (from requests->transformers>=4.30.2->wildlife-tools) (1.26.18)\r\n",
      "Requirement already satisfied: certifi>=2017.4.17 in /opt/conda/lib/python3.10/site-packages (from requests->transformers>=4.30.2->wildlife-tools) (2024.2.2)\r\n",
      "Requirement already satisfied: MarkupSafe>=2.1.1 in /opt/conda/lib/python3.10/site-packages (from werkzeug>=1.0.1->tensorboard->wildlife-tools) (2.1.3)\r\n",
      "Requirement already satisfied: beautifulsoup4 in /opt/conda/lib/python3.10/site-packages (from gdown->wildlife-datasets>=0.3.4->wildlife-tools) (4.12.2)\r\n",
      "Requirement already satisfied: python-slugify in /opt/conda/lib/python3.10/site-packages (from kaggle->wildlife-datasets>=0.3.4->wildlife-tools) (8.0.4)\r\n",
      "Requirement already satisfied: bleach in /opt/conda/lib/python3.10/site-packages (from kaggle->wildlife-datasets>=0.3.4->wildlife-tools) (6.1.0)\r\n",
      "Requirement already satisfied: mpmath<1.4.0,>=1.1.0 in /opt/conda/lib/python3.10/site-packages (from sympy->torch>=2.0.1->wildlife-tools) (1.3.0)\r\n",
      "Requirement already satisfied: pyasn1<0.6.0,>=0.4.6 in /opt/conda/lib/python3.10/site-packages (from pyasn1-modules>=0.2.1->google-auth<3,>=1.6.3->tensorboard->wildlife-tools) (0.5.1)\r\n",
      "Requirement already satisfied: oauthlib>=3.0.0 in /opt/conda/lib/python3.10/site-packages (from requests-oauthlib>=0.7.0->google-auth-oauthlib<2,>=0.5->tensorboard->wildlife-tools) (3.2.2)\r\n",
      "Requirement already satisfied: soupsieve>1.2 in /opt/conda/lib/python3.10/site-packages (from beautifulsoup4->gdown->wildlife-datasets>=0.3.4->wildlife-tools) (2.5)\r\n",
      "Requirement already satisfied: webencodings in /opt/conda/lib/python3.10/site-packages (from bleach->kaggle->wildlife-datasets>=0.3.4->wildlife-tools) (0.5.1)\r\n",
      "Requirement already satisfied: text-unidecode>=1.3 in /opt/conda/lib/python3.10/site-packages (from python-slugify->kaggle->wildlife-datasets>=0.3.4->wildlife-tools) (1.3)\r\n",
      "Requirement already satisfied: PySocks!=1.5.7,>=1.5.6 in /opt/conda/lib/python3.10/site-packages (from requests[socks]->gdown->wildlife-datasets>=0.3.4->wildlife-tools) (1.7.1)\r\n",
      "Downloading wildlife_tools-0.0.9-py3-none-any.whl (25 kB)\r\n",
      "Downloading faiss_gpu-1.7.2-cp310-cp310-manylinux_2_17_x86_64.manylinux2014_x86_64.whl (85.5 MB)\r\n",
      "\u001b[2K   \u001b[90m━━━━━━━━━━━━━━━━━━━━━━━━━━━━━━━━━━━━━━━━\u001b[0m \u001b[32m85.5/85.5 MB\u001b[0m \u001b[31m13.2 MB/s\u001b[0m eta \u001b[36m0:00:00\u001b[0m\r\n",
      "\u001b[?25hDownloading pycocotools-2.0.8-cp310-cp310-manylinux_2_17_x86_64.manylinux2014_x86_64.whl (427 kB)\r\n",
      "\u001b[2K   \u001b[90m━━━━━━━━━━━━━━━━━━━━━━━━━━━━━━━━━━━━━━━━\u001b[0m \u001b[32m427.8/427.8 kB\u001b[0m \u001b[31m28.1 MB/s\u001b[0m eta \u001b[36m0:00:00\u001b[0m\r\n",
      "\u001b[?25hDownloading pytorch_metric_learning-2.6.0-py3-none-any.whl (119 kB)\r\n",
      "\u001b[2K   \u001b[90m━━━━━━━━━━━━━━━━━━━━━━━━━━━━━━━━━━━━━━━━\u001b[0m \u001b[32m119.3/119.3 kB\u001b[0m \u001b[31m11.2 MB/s\u001b[0m eta \u001b[36m0:00:00\u001b[0m\r\n",
      "\u001b[?25hInstalling collected packages: faiss-gpu, pytorch-metric-learning, pycocotools, wildlife-tools\r\n",
      "Successfully installed faiss-gpu-1.7.2 pycocotools-2.0.8 pytorch-metric-learning-2.6.0 wildlife-tools-0.0.9\r\n",
      "Note: you may need to restart the kernel to use updated packages.\n"
     ]
    }
   ],
   "source": [
    "%pip install wildlife-tools"
   ]
  },
  {
   "cell_type": "code",
   "execution_count": 3,
   "id": "284ac79f",
   "metadata": {
    "execution": {
     "iopub.execute_input": "2024-08-02T20:35:22.931424Z",
     "iopub.status.busy": "2024-08-02T20:35:22.931004Z",
     "iopub.status.idle": "2024-08-02T20:35:35.128081Z",
     "shell.execute_reply": "2024-08-02T20:35:35.126905Z"
    },
    "papermill": {
     "duration": 12.216401,
     "end_time": "2024-08-02T20:35:35.130337",
     "exception": false,
     "start_time": "2024-08-02T20:35:22.913936",
     "status": "completed"
    },
    "tags": []
   },
   "outputs": [
    {
     "name": "stdout",
     "output_type": "stream",
     "text": [
      "Requirement already satisfied: timm in /opt/conda/lib/python3.10/site-packages (1.0.3)\r\n",
      "Requirement already satisfied: torch in /opt/conda/lib/python3.10/site-packages (from timm) (2.1.2)\r\n",
      "Requirement already satisfied: torchvision in /opt/conda/lib/python3.10/site-packages (from timm) (0.16.2)\r\n",
      "Requirement already satisfied: pyyaml in /opt/conda/lib/python3.10/site-packages (from timm) (6.0.1)\r\n",
      "Requirement already satisfied: huggingface_hub in /opt/conda/lib/python3.10/site-packages (from timm) (0.23.2)\r\n",
      "Requirement already satisfied: safetensors in /opt/conda/lib/python3.10/site-packages (from timm) (0.4.3)\r\n",
      "Requirement already satisfied: filelock in /opt/conda/lib/python3.10/site-packages (from huggingface_hub->timm) (3.13.1)\r\n",
      "Requirement already satisfied: fsspec>=2023.5.0 in /opt/conda/lib/python3.10/site-packages (from huggingface_hub->timm) (2024.3.1)\r\n",
      "Requirement already satisfied: packaging>=20.9 in /opt/conda/lib/python3.10/site-packages (from huggingface_hub->timm) (21.3)\r\n",
      "Requirement already satisfied: requests in /opt/conda/lib/python3.10/site-packages (from huggingface_hub->timm) (2.32.3)\r\n",
      "Requirement already satisfied: tqdm>=4.42.1 in /opt/conda/lib/python3.10/site-packages (from huggingface_hub->timm) (4.66.4)\r\n",
      "Requirement already satisfied: typing-extensions>=3.7.4.3 in /opt/conda/lib/python3.10/site-packages (from huggingface_hub->timm) (4.9.0)\r\n",
      "Requirement already satisfied: sympy in /opt/conda/lib/python3.10/site-packages (from torch->timm) (1.12.1)\r\n",
      "Requirement already satisfied: networkx in /opt/conda/lib/python3.10/site-packages (from torch->timm) (3.2.1)\r\n",
      "Requirement already satisfied: jinja2 in /opt/conda/lib/python3.10/site-packages (from torch->timm) (3.1.2)\r\n",
      "Requirement already satisfied: numpy in /opt/conda/lib/python3.10/site-packages (from torchvision->timm) (1.26.4)\r\n",
      "Requirement already satisfied: pillow!=8.3.*,>=5.3.0 in /opt/conda/lib/python3.10/site-packages (from torchvision->timm) (9.5.0)\r\n",
      "Requirement already satisfied: pyparsing!=3.0.5,>=2.0.2 in /opt/conda/lib/python3.10/site-packages (from packaging>=20.9->huggingface_hub->timm) (3.1.1)\r\n",
      "Requirement already satisfied: MarkupSafe>=2.0 in /opt/conda/lib/python3.10/site-packages (from jinja2->torch->timm) (2.1.3)\r\n",
      "Requirement already satisfied: charset-normalizer<4,>=2 in /opt/conda/lib/python3.10/site-packages (from requests->huggingface_hub->timm) (3.3.2)\r\n",
      "Requirement already satisfied: idna<4,>=2.5 in /opt/conda/lib/python3.10/site-packages (from requests->huggingface_hub->timm) (3.6)\r\n",
      "Requirement already satisfied: urllib3<3,>=1.21.1 in /opt/conda/lib/python3.10/site-packages (from requests->huggingface_hub->timm) (1.26.18)\r\n",
      "Requirement already satisfied: certifi>=2017.4.17 in /opt/conda/lib/python3.10/site-packages (from requests->huggingface_hub->timm) (2024.2.2)\r\n",
      "Requirement already satisfied: mpmath<1.4.0,>=1.1.0 in /opt/conda/lib/python3.10/site-packages (from sympy->torch->timm) (1.3.0)\r\n",
      "Note: you may need to restart the kernel to use updated packages.\n"
     ]
    }
   ],
   "source": [
    "%pip install timm"
   ]
  },
  {
   "cell_type": "code",
   "execution_count": null,
   "id": "1fed2fb8",
   "metadata": {
    "papermill": {
     "duration": 0.01612,
     "end_time": "2024-08-02T20:35:35.163371",
     "exception": false,
     "start_time": "2024-08-02T20:35:35.147251",
     "status": "completed"
    },
    "tags": []
   },
   "outputs": [],
   "source": []
  },
  {
   "cell_type": "markdown",
   "id": "d55abedf",
   "metadata": {
    "papermill": {
     "duration": 0.015584,
     "end_time": "2024-08-02T20:35:35.194937",
     "exception": false,
     "start_time": "2024-08-02T20:35:35.179353",
     "status": "completed"
    },
    "tags": []
   },
   "source": [
    "## **Testing if able to download datasets**"
   ]
  },
  {
   "cell_type": "code",
   "execution_count": 4,
   "id": "0df1f109",
   "metadata": {
    "execution": {
     "iopub.execute_input": "2024-08-02T20:35:35.228172Z",
     "iopub.status.busy": "2024-08-02T20:35:35.227849Z",
     "iopub.status.idle": "2024-08-02T20:37:15.007961Z",
     "shell.execute_reply": "2024-08-02T20:37:15.007020Z"
    },
    "papermill": {
     "duration": 99.799382,
     "end_time": "2024-08-02T20:37:15.010062",
     "exception": false,
     "start_time": "2024-08-02T20:35:35.210680",
     "status": "completed"
    },
    "tags": []
   },
   "outputs": [
    {
     "name": "stdout",
     "output_type": "stream",
     "text": [
      "DATASET ATRW: DOWNLOADING STARTED.\n"
     ]
    },
    {
     "name": "stderr",
     "output_type": "stream",
     "text": [
      "atrw_detection_test.tar.gz: 1.49GB [01:03, 23.6MB/s]                            \n",
      "atrw_reid_train.tar.gz: 139MB [00:05, 24.4MB/s]                           \n",
      "atrw_anno_reid_train.tar.gz: 106kB [00:00, 327kB/s]                              \n",
      "atrw_reid_test.tar.gz: 96.9MB [00:03, 24.8MB/s]                            \n",
      "atrw_anno_reid_test.tar.gz: 90.1kB [00:00, 343kB/s]                             \n",
      "main.zip: 30.7MB [00:09, 3.36MB/s]\n"
     ]
    },
    {
     "name": "stdout",
     "output_type": "stream",
     "text": [
      "DATASET ATRW: EXTRACTING STARTED.\n",
      "DATASET ATRW: FINISHED.\n",
      "\n"
     ]
    },
    {
     "data": {
      "text/plain": [
       "[(array([4568, 3025, 1197, ..., 2301, 4525, 2355]),\n",
       "  array([2199,  612,  634, ..., 4703,  142, 1124]))]"
      ]
     },
     "execution_count": 4,
     "metadata": {},
     "output_type": "execute_result"
    }
   ],
   "source": [
    "#Import wildlife-datasets Library\n",
    "from wildlife_datasets import datasets, splits\n",
    "\n",
    "#Download dataset\n",
    "datasets.ATRW.get_data('data/ATRW')\n",
    "\n",
    "#Load metadata\n",
    "metadata = datasets.ATRW('data/ATRW')\n",
    "\n",
    "#Get 80/20 training/test split\n",
    "splitter = splits.ClosedSetSplit(0.8)\n",
    "splitter.split(metadata.df)\n"
   ]
  },
  {
   "cell_type": "code",
   "execution_count": null,
   "id": "7d0587b3",
   "metadata": {
    "papermill": {
     "duration": 0.067984,
     "end_time": "2024-08-02T20:37:15.144736",
     "exception": false,
     "start_time": "2024-08-02T20:37:15.076752",
     "status": "completed"
    },
    "tags": []
   },
   "outputs": [],
   "source": []
  },
  {
   "cell_type": "markdown",
   "id": "2e6aae37",
   "metadata": {
    "papermill": {
     "duration": 0.068637,
     "end_time": "2024-08-02T20:37:15.279707",
     "exception": false,
     "start_time": "2024-08-02T20:37:15.211070",
     "status": "completed"
    },
    "tags": []
   },
   "source": [
    "# **SIFT**"
   ]
  },
  {
   "cell_type": "code",
   "execution_count": null,
   "id": "fbf257b1",
   "metadata": {
    "papermill": {
     "duration": 0.068441,
     "end_time": "2024-08-02T20:37:15.460873",
     "exception": false,
     "start_time": "2024-08-02T20:37:15.392432",
     "status": "completed"
    },
    "tags": []
   },
   "outputs": [],
   "source": []
  },
  {
   "cell_type": "markdown",
   "id": "ab98d5a3",
   "metadata": {
    "papermill": {
     "duration": 0.065447,
     "end_time": "2024-08-02T20:37:15.593957",
     "exception": false,
     "start_time": "2024-08-02T20:37:15.528510",
     "status": "completed"
    },
    "tags": []
   },
   "source": [
    "# **Acrface_Loss accuracy**"
   ]
  },
  {
   "cell_type": "code",
   "execution_count": null,
   "id": "01330260",
   "metadata": {
    "papermill": {
     "duration": 0.070667,
     "end_time": "2024-08-02T20:37:15.733566",
     "exception": false,
     "start_time": "2024-08-02T20:37:15.662899",
     "status": "completed"
    },
    "tags": []
   },
   "outputs": [],
   "source": []
  },
  {
   "cell_type": "code",
   "execution_count": 5,
   "id": "c25c4e82",
   "metadata": {
    "execution": {
     "iopub.execute_input": "2024-08-02T20:37:15.878670Z",
     "iopub.status.busy": "2024-08-02T20:37:15.877895Z",
     "iopub.status.idle": "2024-08-02T20:37:34.871264Z",
     "shell.execute_reply": "2024-08-02T20:37:34.870478Z"
    },
    "papermill": {
     "duration": 19.073731,
     "end_time": "2024-08-02T20:37:34.873423",
     "exception": false,
     "start_time": "2024-08-02T20:37:15.799692",
     "status": "completed"
    },
    "tags": []
   },
   "outputs": [
    {
     "name": "stderr",
     "output_type": "stream",
     "text": [
      "2024-08-02 20:37:25.116382: E external/local_xla/xla/stream_executor/cuda/cuda_dnn.cc:9261] Unable to register cuDNN factory: Attempting to register factory for plugin cuDNN when one has already been registered\n",
      "2024-08-02 20:37:25.116491: E external/local_xla/xla/stream_executor/cuda/cuda_fft.cc:607] Unable to register cuFFT factory: Attempting to register factory for plugin cuFFT when one has already been registered\n",
      "2024-08-02 20:37:25.241292: E external/local_xla/xla/stream_executor/cuda/cuda_blas.cc:1515] Unable to register cuBLAS factory: Attempting to register factory for plugin cuBLAS when one has already been registered\n"
     ]
    }
   ],
   "source": [
    "import itertools\n",
    "from itertools import chain\n",
    "\n",
    "import timm\n",
    "import pandas as pd\n",
    "import torchvision.transforms as T\n",
    "from torch.optim import SGD\n",
    "\n",
    "from wildlife_tools.data import WildlifeDataset, SplitMetadata\n",
    "from wildlife_tools.train import ArcFaceLoss, BasicTrainer\n",
    "\n",
    "import timm\n",
    "import numpy as np\n",
    "from wildlife_datasets.datasets import MacaqueFaces\n",
    "from wildlife_tools.data import WildlifeDataset\n",
    "import torchvision.transforms as T\n",
    "from wildlife_datasets import datasets, splits\n",
    "\n",
    "from wildlife_tools.features import DeepFeatures\n",
    "from wildlife_tools.similarity import CosineSimilarity\n",
    "from wildlife_tools.inference import KnnClassifier\n",
    "from sklearn.metrics import precision_score, recall_score, f1_score"
   ]
  },
  {
   "cell_type": "markdown",
   "id": "5655c613",
   "metadata": {
    "papermill": {
     "duration": 0.064254,
     "end_time": "2024-08-02T20:37:35.003404",
     "exception": false,
     "start_time": "2024-08-02T20:37:34.939150",
     "status": "completed"
    },
    "tags": []
   },
   "source": [
    "### Training IPanda50"
   ]
  },
  {
   "cell_type": "code",
   "execution_count": 6,
   "id": "9cc6bf25",
   "metadata": {
    "execution": {
     "iopub.execute_input": "2024-08-02T20:37:35.134373Z",
     "iopub.status.busy": "2024-08-02T20:37:35.133810Z",
     "iopub.status.idle": "2024-08-02T21:20:13.365810Z",
     "shell.execute_reply": "2024-08-02T21:20:13.364626Z"
    },
    "papermill": {
     "duration": 2558.299319,
     "end_time": "2024-08-02T21:20:13.367804",
     "exception": false,
     "start_time": "2024-08-02T20:37:35.068485",
     "status": "completed"
    },
    "tags": []
   },
   "outputs": [
    {
     "name": "stdout",
     "output_type": "stream",
     "text": [
      "DATASET IPanda50: DOWNLOADING STARTED.\n"
     ]
    },
    {
     "name": "stderr",
     "output_type": "stream",
     "text": [
      "Downloading...\n",
      "From (original): https://drive.google.com/uc?id=1nkh-g6a8JvWy-XsMaZqrN2AXoPlaXuFg\n",
      "From (redirected): https://drive.google.com/uc?id=1nkh-g6a8JvWy-XsMaZqrN2AXoPlaXuFg&confirm=t&uuid=616aeeb8-fdc9-481f-b15b-0671fc10f17d\n",
      "To: /kaggle/data/IPanda50/iPanda50-images.zip\n",
      "100%|██████████| 926M/926M [00:06<00:00, 146MB/s]\n",
      "Downloading...\n",
      "From: https://drive.google.com/uc?id=1gVREtFWkNec4xwqOyKkpuIQIyWU_Y_Ob\n",
      "To: /kaggle/data/IPanda50/iPanda50-split.zip\n",
      "100%|██████████| 140k/140k [00:00<00:00, 68.8MB/s]\n",
      "Downloading...\n",
      "From: https://drive.google.com/uc?id=1jdACN98uOxedZDT-6X3rpbooLAAUEbNY\n",
      "To: /kaggle/data/IPanda50/iPanda50-eyes-labels.zip\n",
      "100%|██████████| 2.55M/2.55M [00:00<00:00, 177MB/s]\n"
     ]
    },
    {
     "name": "stdout",
     "output_type": "stream",
     "text": [
      "DATASET IPanda50: EXTRACTING STARTED.\n",
      "DATASET IPanda50: FINISHED.\n",
      "\n"
     ]
    },
    {
     "data": {
      "application/vnd.jupyter.widget-view+json": {
       "model_id": "685f3e797cf6472c95f54d07af18bd3a",
       "version_major": 2,
       "version_minor": 0
      },
      "text/plain": [
       "config.json:   0%|          | 0.00/609 [00:00<?, ?B/s]"
      ]
     },
     "metadata": {},
     "output_type": "display_data"
    },
    {
     "data": {
      "application/vnd.jupyter.widget-view+json": {
       "model_id": "c1d37d242ea043b29acdac3a7bcb572d",
       "version_major": 2,
       "version_minor": 0
      },
      "text/plain": [
       "pytorch_model.bin:   0%|          | 0.00/204M [00:00<?, ?B/s]"
      ]
     },
     "metadata": {},
     "output_type": "display_data"
    },
    {
     "name": "stderr",
     "output_type": "stream",
     "text": [
      "Epoch 0:   0%|                                                               | 0/54 [00:00<?, ?it/s]/opt/conda/lib/python3.10/multiprocessing/popen_fork.py:66: RuntimeWarning: os.fork() was called. os.fork() is incompatible with multithreaded code, and JAX is multithreaded, so this will likely lead to a deadlock.\n",
      "  self.pid = os.fork()\n",
      "Epoch 0: 100%|██████████████████████████████████████████████████████| 54/54 [01:19<00:00,  1.33s/it]/opt/conda/lib/python3.10/multiprocessing/popen_fork.py:66: RuntimeWarning: os.fork() was called. os.fork() is incompatible with multithreaded code, and JAX is multithreaded, so this will likely lead to a deadlock.\n",
      "  self.pid = os.fork()\n",
      "Epoch 0: 100%|██████████████████████████████████████████████████████| 54/54 [01:19<00:00,  1.48s/it]\n"
     ]
    },
    {
     "name": "stdout",
     "output_type": "stream",
     "text": [
      "Epoch 1: Average Loss = 31.949222564697266\n"
     ]
    },
    {
     "name": "stderr",
     "output_type": "stream",
     "text": [
      "Epoch 1: 100%|██████████████████████████████████████████████████████| 54/54 [01:23<00:00,  1.55s/it]\n"
     ]
    },
    {
     "name": "stdout",
     "output_type": "stream",
     "text": [
      "Epoch 2: Average Loss = 25.461742401123047\n"
     ]
    },
    {
     "name": "stderr",
     "output_type": "stream",
     "text": [
      "Epoch 2: 100%|██████████████████████████████████████████████████████| 54/54 [01:23<00:00,  1.55s/it]\n"
     ]
    },
    {
     "name": "stdout",
     "output_type": "stream",
     "text": [
      "Epoch 3: Average Loss = 22.287673950195312\n"
     ]
    },
    {
     "name": "stderr",
     "output_type": "stream",
     "text": [
      "Epoch 3: 100%|██████████████████████████████████████████████████████| 54/54 [01:23<00:00,  1.55s/it]\n"
     ]
    },
    {
     "name": "stdout",
     "output_type": "stream",
     "text": [
      "Epoch 4: Average Loss = 20.563663482666016\n"
     ]
    },
    {
     "name": "stderr",
     "output_type": "stream",
     "text": [
      "Epoch 4: 100%|██████████████████████████████████████████████████████| 54/54 [01:23<00:00,  1.55s/it]\n"
     ]
    },
    {
     "name": "stdout",
     "output_type": "stream",
     "text": [
      "Epoch 5: Average Loss = 19.300853729248047\n"
     ]
    },
    {
     "name": "stderr",
     "output_type": "stream",
     "text": [
      "Epoch 5: 100%|██████████████████████████████████████████████████████| 54/54 [01:23<00:00,  1.55s/it]\n"
     ]
    },
    {
     "name": "stdout",
     "output_type": "stream",
     "text": [
      "Epoch 6: Average Loss = 17.522098541259766\n"
     ]
    },
    {
     "name": "stderr",
     "output_type": "stream",
     "text": [
      "Epoch 6: 100%|██████████████████████████████████████████████████████| 54/54 [01:23<00:00,  1.55s/it]\n"
     ]
    },
    {
     "name": "stdout",
     "output_type": "stream",
     "text": [
      "Epoch 7: Average Loss = 15.912717819213867\n"
     ]
    },
    {
     "name": "stderr",
     "output_type": "stream",
     "text": [
      "Epoch 7: 100%|██████████████████████████████████████████████████████| 54/54 [01:23<00:00,  1.56s/it]\n"
     ]
    },
    {
     "name": "stdout",
     "output_type": "stream",
     "text": [
      "Epoch 8: Average Loss = 14.879436492919922\n"
     ]
    },
    {
     "name": "stderr",
     "output_type": "stream",
     "text": [
      "Epoch 8: 100%|██████████████████████████████████████████████████████| 54/54 [01:23<00:00,  1.55s/it]\n"
     ]
    },
    {
     "name": "stdout",
     "output_type": "stream",
     "text": [
      "Epoch 9: Average Loss = 13.809035301208496\n"
     ]
    },
    {
     "name": "stderr",
     "output_type": "stream",
     "text": [
      "Epoch 9: 100%|██████████████████████████████████████████████████████| 54/54 [01:23<00:00,  1.55s/it]\n"
     ]
    },
    {
     "name": "stdout",
     "output_type": "stream",
     "text": [
      "Epoch 10: Average Loss = 12.528947830200195\n"
     ]
    },
    {
     "name": "stderr",
     "output_type": "stream",
     "text": [
      "Epoch 10: 100%|█████████████████████████████████████████████████████| 54/54 [01:23<00:00,  1.55s/it]\n"
     ]
    },
    {
     "name": "stdout",
     "output_type": "stream",
     "text": [
      "Epoch 11: Average Loss = 11.381035804748535\n"
     ]
    },
    {
     "name": "stderr",
     "output_type": "stream",
     "text": [
      "Epoch 11: 100%|█████████████████████████████████████████████████████| 54/54 [01:23<00:00,  1.55s/it]\n"
     ]
    },
    {
     "name": "stdout",
     "output_type": "stream",
     "text": [
      "Epoch 12: Average Loss = 9.858107566833496\n"
     ]
    },
    {
     "name": "stderr",
     "output_type": "stream",
     "text": [
      "Epoch 12: 100%|█████████████████████████████████████████████████████| 54/54 [01:23<00:00,  1.55s/it]\n"
     ]
    },
    {
     "name": "stdout",
     "output_type": "stream",
     "text": [
      "Epoch 13: Average Loss = 8.741409301757812\n"
     ]
    },
    {
     "name": "stderr",
     "output_type": "stream",
     "text": [
      "Epoch 13: 100%|█████████████████████████████████████████████████████| 54/54 [01:23<00:00,  1.55s/it]\n"
     ]
    },
    {
     "name": "stdout",
     "output_type": "stream",
     "text": [
      "Epoch 14: Average Loss = 7.838108062744141\n"
     ]
    },
    {
     "name": "stderr",
     "output_type": "stream",
     "text": [
      "Epoch 14: 100%|█████████████████████████████████████████████████████| 54/54 [01:23<00:00,  1.55s/it]\n"
     ]
    },
    {
     "name": "stdout",
     "output_type": "stream",
     "text": [
      "Epoch 15: Average Loss = 6.689293384552002\n"
     ]
    },
    {
     "name": "stderr",
     "output_type": "stream",
     "text": [
      "Epoch 15: 100%|█████████████████████████████████████████████████████| 54/54 [01:24<00:00,  1.56s/it]\n"
     ]
    },
    {
     "name": "stdout",
     "output_type": "stream",
     "text": [
      "Epoch 16: Average Loss = 5.737268447875977\n"
     ]
    },
    {
     "name": "stderr",
     "output_type": "stream",
     "text": [
      "Epoch 16: 100%|█████████████████████████████████████████████████████| 54/54 [01:23<00:00,  1.55s/it]\n"
     ]
    },
    {
     "name": "stdout",
     "output_type": "stream",
     "text": [
      "Epoch 17: Average Loss = 5.185739517211914\n"
     ]
    },
    {
     "name": "stderr",
     "output_type": "stream",
     "text": [
      "Epoch 17: 100%|█████████████████████████████████████████████████████| 54/54 [01:23<00:00,  1.55s/it]\n"
     ]
    },
    {
     "name": "stdout",
     "output_type": "stream",
     "text": [
      "Epoch 18: Average Loss = 4.735319137573242\n"
     ]
    },
    {
     "name": "stderr",
     "output_type": "stream",
     "text": [
      "Epoch 18: 100%|█████████████████████████████████████████████████████| 54/54 [01:23<00:00,  1.55s/it]\n"
     ]
    },
    {
     "name": "stdout",
     "output_type": "stream",
     "text": [
      "Epoch 19: Average Loss = 3.98391056060791\n"
     ]
    },
    {
     "name": "stderr",
     "output_type": "stream",
     "text": [
      "Epoch 19: 100%|█████████████████████████████████████████████████████| 54/54 [01:23<00:00,  1.55s/it]\n"
     ]
    },
    {
     "name": "stdout",
     "output_type": "stream",
     "text": [
      "Epoch 20: Average Loss = 3.541886806488037\n"
     ]
    },
    {
     "name": "stderr",
     "output_type": "stream",
     "text": [
      "Epoch 20: 100%|█████████████████████████████████████████████████████| 54/54 [01:23<00:00,  1.55s/it]\n"
     ]
    },
    {
     "name": "stdout",
     "output_type": "stream",
     "text": [
      "Epoch 21: Average Loss = 2.980342388153076\n"
     ]
    },
    {
     "name": "stderr",
     "output_type": "stream",
     "text": [
      "Epoch 21: 100%|█████████████████████████████████████████████████████| 54/54 [01:24<00:00,  1.56s/it]\n"
     ]
    },
    {
     "name": "stdout",
     "output_type": "stream",
     "text": [
      "Epoch 22: Average Loss = 2.6356167793273926\n"
     ]
    },
    {
     "name": "stderr",
     "output_type": "stream",
     "text": [
      "Epoch 22: 100%|█████████████████████████████████████████████████████| 54/54 [01:23<00:00,  1.55s/it]\n"
     ]
    },
    {
     "name": "stdout",
     "output_type": "stream",
     "text": [
      "Epoch 23: Average Loss = 2.641713857650757\n"
     ]
    },
    {
     "name": "stderr",
     "output_type": "stream",
     "text": [
      "Epoch 23: 100%|█████████████████████████████████████████████████████| 54/54 [01:23<00:00,  1.55s/it]\n"
     ]
    },
    {
     "name": "stdout",
     "output_type": "stream",
     "text": [
      "Epoch 24: Average Loss = 2.2438769340515137\n"
     ]
    },
    {
     "name": "stderr",
     "output_type": "stream",
     "text": [
      "Epoch 24: 100%|█████████████████████████████████████████████████████| 54/54 [01:23<00:00,  1.55s/it]\n"
     ]
    },
    {
     "name": "stdout",
     "output_type": "stream",
     "text": [
      "Epoch 25: Average Loss = 2.15457820892334\n"
     ]
    },
    {
     "name": "stderr",
     "output_type": "stream",
     "text": [
      "Epoch 25: 100%|█████████████████████████████████████████████████████| 54/54 [01:23<00:00,  1.55s/it]\n"
     ]
    },
    {
     "name": "stdout",
     "output_type": "stream",
     "text": [
      "Epoch 26: Average Loss = 1.8899670839309692\n"
     ]
    },
    {
     "name": "stderr",
     "output_type": "stream",
     "text": [
      "Epoch 26: 100%|█████████████████████████████████████████████████████| 54/54 [01:23<00:00,  1.55s/it]\n"
     ]
    },
    {
     "name": "stdout",
     "output_type": "stream",
     "text": [
      "Epoch 27: Average Loss = 1.7009888887405396\n"
     ]
    },
    {
     "name": "stderr",
     "output_type": "stream",
     "text": [
      "Epoch 27: 100%|█████████████████████████████████████████████████████| 54/54 [01:23<00:00,  1.56s/it]\n"
     ]
    },
    {
     "name": "stdout",
     "output_type": "stream",
     "text": [
      "Epoch 28: Average Loss = 1.576590657234192\n"
     ]
    },
    {
     "name": "stderr",
     "output_type": "stream",
     "text": [
      "Epoch 28: 100%|█████████████████████████████████████████████████████| 54/54 [01:23<00:00,  1.55s/it]\n"
     ]
    },
    {
     "name": "stdout",
     "output_type": "stream",
     "text": [
      "Epoch 29: Average Loss = 1.8520921468734741\n"
     ]
    },
    {
     "name": "stderr",
     "output_type": "stream",
     "text": [
      "Epoch 29: 100%|█████████████████████████████████████████████████████| 54/54 [01:23<00:00,  1.56s/it]"
     ]
    },
    {
     "name": "stdout",
     "output_type": "stream",
     "text": [
      "Epoch 30: Average Loss = 1.6566685438156128\n"
     ]
    },
    {
     "name": "stderr",
     "output_type": "stream",
     "text": [
      "\n"
     ]
    }
   ],
   "source": [
    "\n",
    "# Download dataset (if not already downloaded)\n",
    "datasets.IPanda50.get_data('../data/IPanda50')\n",
    "# Load dataset metadata\n",
    "metadata = datasets.IPanda50('../data/IPanda50')\n",
    "transform = T.Compose([T.Resize([224, 224]), T.ToTensor(), T.Normalize(mean=(0.485, 0.456, 0.406), std=(0.229, 0.224, 0.225))])\n",
    "dataset = WildlifeDataset(metadata.df, metadata.root, transform=transform)\n",
    "\n",
    "\n",
    "# Download MegaDescriptor-T backbone from HuggingFace Hub\n",
    "backbone = timm.create_model('hf-hub:BVRA/MegaDescriptor-T-224', num_classes=0, pretrained=True)\n",
    "\n",
    "# Arcface loss - needs backbone output size and number of classes.\n",
    "objective = ArcFaceLoss(\n",
    "    num_classes=dataset.num_classes,\n",
    "    embedding_size=768,\n",
    "    margin=0.5,\n",
    "    scale=64\n",
    "    )\n",
    "\n",
    "# Optimize parameters in backbone and in objective using single optimizer.\n",
    "params = itertools.chain(backbone.parameters(), objective.parameters())\n",
    "optimizer = SGD(params=params, lr=0.001, momentum=0.9)\n",
    "\n",
    "def print_epoch_loss(trainer, epoch_data):\n",
    "    # This function will print the average loss at the end of each epoch\n",
    "    print(f\"Epoch {trainer.epoch}: Average Loss = {epoch_data['train_loss_epoch_avg']}\")\n",
    "\n",
    "\n",
    "trainer = BasicTrainer(\n",
    "    dataset=dataset,\n",
    "    model=backbone,\n",
    "    objective=objective,\n",
    "    optimizer=optimizer,\n",
    "    epochs=30,\n",
    "    device='cuda',\n",
    "    epoch_callback=print_epoch_loss\n",
    ")\n",
    "\n",
    "trainer.train()\n"
   ]
  },
  {
   "cell_type": "code",
   "execution_count": 7,
   "id": "5bf59e25",
   "metadata": {
    "execution": {
     "iopub.execute_input": "2024-08-02T21:20:13.775939Z",
     "iopub.status.busy": "2024-08-02T21:20:13.775556Z",
     "iopub.status.idle": "2024-08-02T21:20:13.780276Z",
     "shell.execute_reply": "2024-08-02T21:20:13.779466Z"
    },
    "papermill": {
     "duration": 0.21035,
     "end_time": "2024-08-02T21:20:13.782143",
     "exception": false,
     "start_time": "2024-08-02T21:20:13.571793",
     "status": "completed"
    },
    "tags": []
   },
   "outputs": [],
   "source": [
    "import torch"
   ]
  },
  {
   "cell_type": "code",
   "execution_count": 8,
   "id": "e8233254",
   "metadata": {
    "execution": {
     "iopub.execute_input": "2024-08-02T21:20:14.187551Z",
     "iopub.status.busy": "2024-08-02T21:20:14.187273Z",
     "iopub.status.idle": "2024-08-02T21:20:14.548698Z",
     "shell.execute_reply": "2024-08-02T21:20:14.547875Z"
    },
    "papermill": {
     "duration": 0.567217,
     "end_time": "2024-08-02T21:20:14.550936",
     "exception": false,
     "start_time": "2024-08-02T21:20:13.983719",
     "status": "completed"
    },
    "tags": []
   },
   "outputs": [],
   "source": [
    "trainer.save(\"retrained_chks\", file_name=\"arcfaceloass_IPanda50_retrained_checkpoint.pth\")"
   ]
  },
  {
   "cell_type": "code",
   "execution_count": 9,
   "id": "e7a2dcb6",
   "metadata": {
    "execution": {
     "iopub.execute_input": "2024-08-02T21:20:14.959373Z",
     "iopub.status.busy": "2024-08-02T21:20:14.958715Z",
     "iopub.status.idle": "2024-08-02T21:20:14.963490Z",
     "shell.execute_reply": "2024-08-02T21:20:14.962682Z"
    },
    "papermill": {
     "duration": 0.209678,
     "end_time": "2024-08-02T21:20:14.965436",
     "exception": false,
     "start_time": "2024-08-02T21:20:14.755758",
     "status": "completed"
    },
    "tags": []
   },
   "outputs": [],
   "source": [
    "# # Assuming you need to use the model for further operations\n",
    "# # Initialize the model architecture again as needed for loading\n",
    "# # Make sure to initialize it exactly as you did for training\n",
    "# model = timm.create_model('hf-hub:BVRA/MegaDescriptor-T-224', num_classes=0, pretrained=False)\n",
    "\n",
    "# # # Create a BasicTrainer instance with the initialized model (other parameters should match the training setup)\n",
    "# # trainer = BasicTrainer(\n",
    "# #     dataset=None,  # Assuming no dataset is needed just for loading\n",
    "# #     model=model,\n",
    "# #     objective=None,  # Assuming no objective needed just for loading\n",
    "# #     optimizer=None,  # Assuming no optimizer needed just for loading\n",
    "# #     epochs=0,  # No training epochs needed for just loading\n",
    "# #     device='cuda'  # Adjust as per your device configuration\n",
    "# # )\n",
    "\n",
    "# trainer = BasicTrainer(\n",
    "#     dataset=dataset,\n",
    "#     model=backbone,\n",
    "#     objective=objective,\n",
    "#     optimizer=optimizer,\n",
    "#     epochs=2,\n",
    "#     device='cuda',\n",
    "#     epoch_callback=print_epoch_loss\n",
    "# )\n",
    "# # Load the model\n",
    "# trainer.load(\"retrained_chks/arcfaceloass_retrained_checkpoint.pth\")\n",
    "\n",
    "# # After loading, the model in the trainer instance is now the re-trained model\n",
    "# # and is ready for use in further processing or inference\n"
   ]
  },
  {
   "cell_type": "code",
   "execution_count": 10,
   "id": "9966cdc0",
   "metadata": {
    "execution": {
     "iopub.execute_input": "2024-08-02T21:20:15.421399Z",
     "iopub.status.busy": "2024-08-02T21:20:15.420524Z",
     "iopub.status.idle": "2024-08-02T21:20:15.433044Z",
     "shell.execute_reply": "2024-08-02T21:20:15.432360Z"
    },
    "papermill": {
     "duration": 0.265588,
     "end_time": "2024-08-02T21:20:15.434906",
     "exception": false,
     "start_time": "2024-08-02T21:20:15.169318",
     "status": "completed"
    },
    "tags": []
   },
   "outputs": [],
   "source": [
    "dataset_database_P = WildlifeDataset(metadata.df.iloc[100:,:], metadata.root, transform=transform)\n",
    "dataset_query_P = WildlifeDataset(metadata.df.iloc[:100,:], metadata.root, transform=transform)"
   ]
  },
  {
   "cell_type": "code",
   "execution_count": 11,
   "id": "3d23b1b7",
   "metadata": {
    "execution": {
     "iopub.execute_input": "2024-08-02T21:20:15.843993Z",
     "iopub.status.busy": "2024-08-02T21:20:15.843623Z",
     "iopub.status.idle": "2024-08-02T21:35:08.972700Z",
     "shell.execute_reply": "2024-08-02T21:35:08.971775Z"
    },
    "papermill": {
     "duration": 893.505272,
     "end_time": "2024-08-02T21:35:09.143069",
     "exception": false,
     "start_time": "2024-08-02T21:20:15.637797",
     "status": "completed"
    },
    "tags": []
   },
   "outputs": [
    {
     "name": "stderr",
     "output_type": "stream",
     "text": [
      "100%|█████████████████████████████████████████████████████████████████| 1/1 [00:12<00:00, 12.78s/it]\n",
      "100%|███████████████████████████████████████████████████████████████| 53/53 [14:40<00:00, 16.61s/it]\n"
     ]
    }
   ],
   "source": [
    "# name = 'hf-hub:BVRA/MegaDescriptor-T-224'\n",
    "extractor_P = DeepFeatures(trainer.model)\n",
    "query_P, database_P = extractor_P(dataset_query_P), extractor_P(dataset_database_P)"
   ]
  },
  {
   "cell_type": "code",
   "execution_count": null,
   "id": "ab06dc7d",
   "metadata": {
    "papermill": {
     "duration": 0.207085,
     "end_time": "2024-08-02T21:35:09.606116",
     "exception": false,
     "start_time": "2024-08-02T21:35:09.399031",
     "status": "completed"
    },
    "tags": []
   },
   "outputs": [],
   "source": []
  },
  {
   "cell_type": "code",
   "execution_count": 12,
   "id": "5364c9f2",
   "metadata": {
    "execution": {
     "iopub.execute_input": "2024-08-02T21:35:10.024532Z",
     "iopub.status.busy": "2024-08-02T21:35:10.023636Z",
     "iopub.status.idle": "2024-08-02T21:35:10.042366Z",
     "shell.execute_reply": "2024-08-02T21:35:10.041287Z"
    },
    "papermill": {
     "duration": 0.230308,
     "end_time": "2024-08-02T21:35:10.044421",
     "exception": false,
     "start_time": "2024-08-02T21:35:09.814113",
     "status": "completed"
    },
    "tags": []
   },
   "outputs": [
    {
     "name": "stdout",
     "output_type": "stream",
     "text": [
      "{'cosine': array([[ 0.01373724, -0.01693645, -0.00358774, ...,  0.9742421 ,\n",
      "        -0.02400762, -0.03572111],\n",
      "       [ 0.10954875, -0.04768144, -0.00451115, ..., -0.05155712,\n",
      "        -0.10766761, -0.01568238],\n",
      "       [ 0.02020039, -0.01074846,  0.09873386, ..., -0.03288786,\n",
      "         0.00351164, -0.09548655],\n",
      "       ...,\n",
      "       [ 0.00697668, -0.01339691,  0.05396191, ..., -0.02497772,\n",
      "        -0.00802807, -0.05362709],\n",
      "       [-0.01655747,  0.024214  , -0.02615532, ..., -0.12847045,\n",
      "         0.01572288, -0.00589841],\n",
      "       [-0.03794417, -0.07560731,  0.9013165 , ..., -0.01055363,\n",
      "        -0.0507232 , -0.08384195]], dtype=float32)}\n"
     ]
    }
   ],
   "source": [
    "similarity_function = CosineSimilarity()\n",
    "similarity_P = similarity_function(query_P, database_P)\n",
    "print(similarity_P)"
   ]
  },
  {
   "cell_type": "code",
   "execution_count": 13,
   "id": "3be0266f",
   "metadata": {
    "execution": {
     "iopub.execute_input": "2024-08-02T21:35:10.467621Z",
     "iopub.status.busy": "2024-08-02T21:35:10.467317Z",
     "iopub.status.idle": "2024-08-02T21:35:10.500210Z",
     "shell.execute_reply": "2024-08-02T21:35:10.499347Z"
    },
    "papermill": {
     "duration": 0.245314,
     "end_time": "2024-08-02T21:35:10.502341",
     "exception": false,
     "start_time": "2024-08-02T21:35:10.257027",
     "status": "completed"
    },
    "tags": []
   },
   "outputs": [
    {
     "name": "stdout",
     "output_type": "stream",
     "text": [
      "Predictions for 100 test Images:-\n",
      " ['36_xingda' '37_xinger' '01_aoliao' '33_wuyi' '47_yingying' '15_maosun'\n",
      " '09_fushun' '10_hexing' '36_xingda' '19_nannan' '08_fulai' '31_shurong'\n",
      " '44_yayi' '39_xinghui' '28_sa' '14_maodou' '14_maodou' '00_aibang'\n",
      " '21_nina' '35_xilan' '19_nannan' '33_wuyi' '47_yingying' '49_yuanrun'\n",
      " '36_xingda' '34_xiaoqiao' '16_maotao' '48_yongbang' '11_jiaoao'\n",
      " '49_yuanrun' '36_xingda' '28_sa' '35_xilan' '35_xilan' '02_baolan'\n",
      " '31_shurong' '31_shurong' '02_baolan' '23_qiubang' '26_qiyuan'\n",
      " '04_chengdui' '35_xilan' '08_fulai' '00_aibang' '28_sa' '29_shuangxiong'\n",
      " '46_yazhu' '44_yayi' '14_maodou' '30_shuqing' '36_xingda' '39_xinghui'\n",
      " '33_wuyi' '10_hexing' '10_hexing' '00_aibang' '49_yuanrun' '35_xilan'\n",
      " '04_chengdui' '10_hexing' '39_xinghui' '36_xingda' '37_xinger'\n",
      " '36_xingda' '16_maotao' '22_nini' '00_aibang' '39_xinghui' '10_hexing'\n",
      " '17_meibang' '00_aibang' '28_sa' '14_maodou' '15_maosun' '32_susu'\n",
      " '26_qiyuan' '27_rourou' '23_qiubang' '18_miaomiao' '48_yongbang'\n",
      " '46_yazhu' '16_maotao' '33_wuyi' '13_jingliang' '37_xinger' '08_fulai'\n",
      " '09_fushun' '40_xingrong' '22_nini' '49_yuanrun' '09_fushun' '28_sa'\n",
      " '48_yongbang' '47_yingying' '28_sa' '15_maosun' '39_xinghui' '20_nike'\n",
      " '43_yaxing' '47_yingying']\n",
      "Accuracy on IPanda50 data: 100.00%\n",
      "Precision: 1.0\n",
      "Recall: 1.0\n",
      "F1 Score: 1.0\n"
     ]
    },
    {
     "name": "stderr",
     "output_type": "stream",
     "text": [
      "/opt/conda/lib/python3.10/site-packages/wildlife_tools/inference/classifier.py:61: FutureWarning: DataFrame.fillna with 'method' is deprecated and will raise in a future version. Use obj.ffill() or obj.bfill() instead.\n",
      "  results = pd.DataFrame(results).T.fillna(method=\"ffill\").T\n"
     ]
    }
   ],
   "source": [
    "classifier_P = KnnClassifier(k=1, database_labels=dataset_database_P.labels_string)\n",
    "predictions_P = classifier_P(similarity_P['cosine'])\n",
    "print(\"Predictions for 100 test Images:-\\n\",predictions_P)\n",
    "accuracy_P = np.mean(dataset_query_P.labels_string == predictions_P)\n",
    "print(\"Accuracy on IPanda50 data: {:.2f}%\".format(accuracy_P * 100))\n",
    "precision_P = precision_score(dataset_query_P.labels_string, predictions_P, average='weighted',zero_division=1)\n",
    "recall_P = recall_score(dataset_query_P.labels_string, predictions_P, average='weighted',zero_division=1)\n",
    "f1_P = f1_score(dataset_query_P.labels_string, predictions_P, average='weighted',zero_division=1)\n",
    "print(\"Precision:\", precision_P)\n",
    "print(\"Recall:\", recall_P)\n",
    "print(\"F1 Score:\", f1_P)"
   ]
  },
  {
   "cell_type": "code",
   "execution_count": null,
   "id": "ade25288",
   "metadata": {
    "papermill": {
     "duration": 0.208092,
     "end_time": "2024-08-02T21:35:10.918903",
     "exception": false,
     "start_time": "2024-08-02T21:35:10.710811",
     "status": "completed"
    },
    "tags": []
   },
   "outputs": [],
   "source": []
  },
  {
   "cell_type": "markdown",
   "id": "24db278f",
   "metadata": {
    "papermill": {
     "duration": 0.209142,
     "end_time": "2024-08-02T21:35:11.336233",
     "exception": false,
     "start_time": "2024-08-02T21:35:11.127091",
     "status": "completed"
    },
    "tags": []
   },
   "source": [
    "TRIPLET_LOSS"
   ]
  },
  {
   "cell_type": "code",
   "execution_count": 14,
   "id": "de40d435",
   "metadata": {
    "execution": {
     "iopub.execute_input": "2024-08-02T21:35:11.754870Z",
     "iopub.status.busy": "2024-08-02T21:35:11.754185Z",
     "iopub.status.idle": "2024-08-02T21:35:11.761444Z",
     "shell.execute_reply": "2024-08-02T21:35:11.760537Z"
    },
    "papermill": {
     "duration": 0.217995,
     "end_time": "2024-08-02T21:35:11.763296",
     "exception": false,
     "start_time": "2024-08-02T21:35:11.545301",
     "status": "completed"
    },
    "tags": []
   },
   "outputs": [],
   "source": [
    "from itertools import chain\n",
    "import timm\n",
    "import pandas as pd\n",
    "import torchvision.transforms as T\n",
    "from torch.optim import SGD\n",
    "\n",
    "from wildlife_tools.data import WildlifeDataset, SplitMetadata\n",
    "from wildlife_tools.train import ArcFaceLoss, BasicTrainer\n",
    "\n",
    "import timm\n",
    "import numpy as np\n",
    "from wildlife_datasets.datasets import MacaqueFaces\n",
    "from wildlife_tools.data import WildlifeDataset\n",
    "import torchvision.transforms as T\n",
    "from wildlife_datasets import datasets, splits\n",
    "from wildlife_tools.features import DeepFeatures\n",
    "from wildlife_tools.similarity import CosineSimilarity\n",
    "from wildlife_tools.inference import KnnClassifier\n",
    "from sklearn.metrics import precision_score, recall_score, f1_score\n",
    "\n",
    "import timm\n",
    "import itertools\n",
    "from torch.optim import SGD\n",
    "from wildlife_tools.train import ArcFaceLoss, BasicTrainer , TripletLoss"
   ]
  },
  {
   "cell_type": "code",
   "execution_count": 15,
   "id": "2b19f8e7",
   "metadata": {
    "execution": {
     "iopub.execute_input": "2024-08-02T21:35:12.228698Z",
     "iopub.status.busy": "2024-08-02T21:35:12.228327Z",
     "iopub.status.idle": "2024-08-02T22:03:17.092833Z",
     "shell.execute_reply": "2024-08-02T22:03:17.091687Z"
    },
    "papermill": {
     "duration": 1685.122398,
     "end_time": "2024-08-02T22:03:17.094982",
     "exception": false,
     "start_time": "2024-08-02T21:35:11.972584",
     "status": "completed"
    },
    "tags": []
   },
   "outputs": [
    {
     "name": "stdout",
     "output_type": "stream",
     "text": [
      "DATASET IPanda50: DOWNLOADING STARTED.\n",
      "You are trying to download an already downloaded dataset.\n",
      "        This message may have happened to due interrupted download or extract.\n",
      "        To force the download use the `force=True` keyword such as\n",
      "        get_data(..., force=True) or download(..., force=True).\n",
      "        \n"
     ]
    },
    {
     "name": "stderr",
     "output_type": "stream",
     "text": [
      "Epoch 0:   0%|                                                               | 0/54 [00:00<?, ?it/s]/opt/conda/lib/python3.10/multiprocessing/popen_fork.py:66: RuntimeWarning: os.fork() was called. os.fork() is incompatible with multithreaded code, and JAX is multithreaded, so this will likely lead to a deadlock.\n",
      "  self.pid = os.fork()\n",
      "Epoch 0: 100%|██████████████████████████████████████████████████████| 54/54 [01:24<00:00,  1.39s/it]/opt/conda/lib/python3.10/multiprocessing/popen_fork.py:66: RuntimeWarning: os.fork() was called. os.fork() is incompatible with multithreaded code, and JAX is multithreaded, so this will likely lead to a deadlock.\n",
      "  self.pid = os.fork()\n",
      "Epoch 0: 100%|██████████████████████████████████████████████████████| 54/54 [01:24<00:00,  1.57s/it]\n"
     ]
    },
    {
     "name": "stdout",
     "output_type": "stream",
     "text": [
      "Epoch 1: Average Loss = 0.245121568441391\n"
     ]
    },
    {
     "name": "stderr",
     "output_type": "stream",
     "text": [
      "Epoch 1: 100%|██████████████████████████████████████████████████████| 54/54 [01:24<00:00,  1.56s/it]\n"
     ]
    },
    {
     "name": "stdout",
     "output_type": "stream",
     "text": [
      "Epoch 2: Average Loss = 0.2331721931695938\n"
     ]
    },
    {
     "name": "stderr",
     "output_type": "stream",
     "text": [
      "Epoch 2: 100%|██████████████████████████████████████████████████████| 54/54 [01:24<00:00,  1.56s/it]\n"
     ]
    },
    {
     "name": "stdout",
     "output_type": "stream",
     "text": [
      "Epoch 3: Average Loss = 0.22949984669685364\n"
     ]
    },
    {
     "name": "stderr",
     "output_type": "stream",
     "text": [
      "Epoch 3: 100%|██████████████████████████████████████████████████████| 54/54 [01:24<00:00,  1.56s/it]\n"
     ]
    },
    {
     "name": "stdout",
     "output_type": "stream",
     "text": [
      "Epoch 4: Average Loss = 0.2234814614057541\n"
     ]
    },
    {
     "name": "stderr",
     "output_type": "stream",
     "text": [
      "Epoch 4: 100%|██████████████████████████████████████████████████████| 54/54 [01:24<00:00,  1.56s/it]\n"
     ]
    },
    {
     "name": "stdout",
     "output_type": "stream",
     "text": [
      "Epoch 5: Average Loss = 0.22090651094913483\n"
     ]
    },
    {
     "name": "stderr",
     "output_type": "stream",
     "text": [
      "Epoch 5: 100%|██████████████████████████████████████████████████████| 54/54 [01:24<00:00,  1.56s/it]\n"
     ]
    },
    {
     "name": "stdout",
     "output_type": "stream",
     "text": [
      "Epoch 6: Average Loss = 0.21836167573928833\n"
     ]
    },
    {
     "name": "stderr",
     "output_type": "stream",
     "text": [
      "Epoch 6: 100%|██████████████████████████████████████████████████████| 54/54 [01:24<00:00,  1.56s/it]\n"
     ]
    },
    {
     "name": "stdout",
     "output_type": "stream",
     "text": [
      "Epoch 7: Average Loss = 0.21324825286865234\n"
     ]
    },
    {
     "name": "stderr",
     "output_type": "stream",
     "text": [
      "Epoch 7: 100%|██████████████████████████████████████████████████████| 54/54 [01:24<00:00,  1.56s/it]\n"
     ]
    },
    {
     "name": "stdout",
     "output_type": "stream",
     "text": [
      "Epoch 8: Average Loss = 0.21416817605495453\n"
     ]
    },
    {
     "name": "stderr",
     "output_type": "stream",
     "text": [
      "Epoch 8: 100%|██████████████████████████████████████████████████████| 54/54 [01:24<00:00,  1.56s/it]\n"
     ]
    },
    {
     "name": "stdout",
     "output_type": "stream",
     "text": [
      "Epoch 9: Average Loss = 0.21001487970352173\n"
     ]
    },
    {
     "name": "stderr",
     "output_type": "stream",
     "text": [
      "Epoch 9: 100%|██████████████████████████████████████████████████████| 54/54 [01:24<00:00,  1.56s/it]\n"
     ]
    },
    {
     "name": "stdout",
     "output_type": "stream",
     "text": [
      "Epoch 10: Average Loss = 0.21308429539203644\n"
     ]
    },
    {
     "name": "stderr",
     "output_type": "stream",
     "text": [
      "Epoch 10: 100%|█████████████████████████████████████████████████████| 54/54 [01:24<00:00,  1.56s/it]\n"
     ]
    },
    {
     "name": "stdout",
     "output_type": "stream",
     "text": [
      "Epoch 11: Average Loss = 0.20585209131240845\n"
     ]
    },
    {
     "name": "stderr",
     "output_type": "stream",
     "text": [
      "Epoch 11: 100%|█████████████████████████████████████████████████████| 54/54 [01:24<00:00,  1.56s/it]\n"
     ]
    },
    {
     "name": "stdout",
     "output_type": "stream",
     "text": [
      "Epoch 12: Average Loss = 0.2056422233581543\n"
     ]
    },
    {
     "name": "stderr",
     "output_type": "stream",
     "text": [
      "Epoch 12: 100%|█████████████████████████████████████████████████████| 54/54 [01:24<00:00,  1.56s/it]\n"
     ]
    },
    {
     "name": "stdout",
     "output_type": "stream",
     "text": [
      "Epoch 13: Average Loss = 0.20411479473114014\n"
     ]
    },
    {
     "name": "stderr",
     "output_type": "stream",
     "text": [
      "Epoch 13: 100%|█████████████████████████████████████████████████████| 54/54 [01:23<00:00,  1.55s/it]\n"
     ]
    },
    {
     "name": "stdout",
     "output_type": "stream",
     "text": [
      "Epoch 14: Average Loss = 0.20272637903690338\n"
     ]
    },
    {
     "name": "stderr",
     "output_type": "stream",
     "text": [
      "Epoch 14: 100%|█████████████████████████████████████████████████████| 54/54 [01:23<00:00,  1.56s/it]\n"
     ]
    },
    {
     "name": "stdout",
     "output_type": "stream",
     "text": [
      "Epoch 15: Average Loss = 0.20228467881679535\n"
     ]
    },
    {
     "name": "stderr",
     "output_type": "stream",
     "text": [
      "Epoch 15: 100%|█████████████████████████████████████████████████████| 54/54 [01:23<00:00,  1.56s/it]\n"
     ]
    },
    {
     "name": "stdout",
     "output_type": "stream",
     "text": [
      "Epoch 16: Average Loss = 0.1990603357553482\n"
     ]
    },
    {
     "name": "stderr",
     "output_type": "stream",
     "text": [
      "Epoch 16: 100%|█████████████████████████████████████████████████████| 54/54 [01:24<00:00,  1.56s/it]\n"
     ]
    },
    {
     "name": "stdout",
     "output_type": "stream",
     "text": [
      "Epoch 17: Average Loss = 0.2007060945034027\n"
     ]
    },
    {
     "name": "stderr",
     "output_type": "stream",
     "text": [
      "Epoch 17: 100%|█████████████████████████████████████████████████████| 54/54 [01:24<00:00,  1.56s/it]\n"
     ]
    },
    {
     "name": "stdout",
     "output_type": "stream",
     "text": [
      "Epoch 18: Average Loss = 0.19589205086231232\n"
     ]
    },
    {
     "name": "stderr",
     "output_type": "stream",
     "text": [
      "Epoch 18: 100%|█████████████████████████████████████████████████████| 54/54 [01:24<00:00,  1.56s/it]\n"
     ]
    },
    {
     "name": "stdout",
     "output_type": "stream",
     "text": [
      "Epoch 19: Average Loss = 0.1970953643321991\n"
     ]
    },
    {
     "name": "stderr",
     "output_type": "stream",
     "text": [
      "Epoch 19: 100%|█████████████████████████████████████████████████████| 54/54 [01:24<00:00,  1.56s/it]"
     ]
    },
    {
     "name": "stdout",
     "output_type": "stream",
     "text": [
      "Epoch 20: Average Loss = 0.19964082539081573\n"
     ]
    },
    {
     "name": "stderr",
     "output_type": "stream",
     "text": [
      "\n"
     ]
    }
   ],
   "source": [
    "\n",
    "\n",
    "# Download dataset (if not already downloaded)\n",
    "datasets.IPanda50.get_data('../data/IPanda50')\n",
    "# Load dataset metadata\n",
    "metadata = datasets.IPanda50('../data/IPanda50')\n",
    "transform = T.Compose([T.Resize([224, 224]), T.ToTensor(), T.Normalize(mean=(0.485, 0.456, 0.406), std=(0.229, 0.224, 0.225))])\n",
    "dataset = WildlifeDataset(metadata.df, metadata.root, transform=transform)\n",
    "\n",
    "\n",
    "# Download MegaDescriptor-T backbone from HuggingFace Hub\n",
    "backbone = timm.create_model('hf-hub:BVRA/MegaDescriptor-T-224', num_classes=0, pretrained=True)\n",
    "\n",
    "# Arcface loss - needs backbone output size and number of classes.\n",
    "objective = TripletLoss()\n",
    "\n",
    "# Optimize parameters in backbone and in objective using single optimizer.\n",
    "params = itertools.chain(backbone.parameters(), objective.parameters())\n",
    "optimizer = SGD(params=params, lr=0.001, momentum=0.9)\n",
    "\n",
    "def print_epoch_loss(trainer, epoch_data):\n",
    "    # This function will print the average loss at the end of each epoch\n",
    "    print(f\"Epoch {trainer.epoch}: Average Loss = {epoch_data['train_loss_epoch_avg']}\")\n",
    "\n",
    "\n",
    "trainer = BasicTrainer(\n",
    "    dataset=dataset,\n",
    "    model=backbone,\n",
    "    objective=objective,\n",
    "    optimizer=optimizer,\n",
    "    epochs=20,\n",
    "    device='cuda',\n",
    "    epoch_callback=print_epoch_loss\n",
    ")\n",
    "\n",
    "trainer.train()\n",
    "\n"
   ]
  },
  {
   "cell_type": "code",
   "execution_count": 16,
   "id": "baea4fb7",
   "metadata": {
    "execution": {
     "iopub.execute_input": "2024-08-02T22:03:17.751239Z",
     "iopub.status.busy": "2024-08-02T22:03:17.750424Z",
     "iopub.status.idle": "2024-08-02T22:03:18.074953Z",
     "shell.execute_reply": "2024-08-02T22:03:18.073995Z"
    },
    "papermill": {
     "duration": 0.677272,
     "end_time": "2024-08-02T22:03:18.077181",
     "exception": false,
     "start_time": "2024-08-02T22:03:17.399909",
     "status": "completed"
    },
    "tags": []
   },
   "outputs": [],
   "source": [
    "import torch\n",
    "\n",
    "trainer.save(\"retrained_chks\", file_name=\"tripletloss_IPanda50_retrained_checkpoint.pth\")\n",
    "\n",
    "\n"
   ]
  },
  {
   "cell_type": "code",
   "execution_count": 17,
   "id": "99832985",
   "metadata": {
    "execution": {
     "iopub.execute_input": "2024-08-02T22:03:18.681189Z",
     "iopub.status.busy": "2024-08-02T22:03:18.680537Z",
     "iopub.status.idle": "2024-08-02T22:04:20.650498Z",
     "shell.execute_reply": "2024-08-02T22:04:20.649374Z"
    },
    "papermill": {
     "duration": 62.271272,
     "end_time": "2024-08-02T22:04:20.652534",
     "exception": false,
     "start_time": "2024-08-02T22:03:18.381262",
     "status": "completed"
    },
    "tags": []
   },
   "outputs": [
    {
     "name": "stderr",
     "output_type": "stream",
     "text": [
      "100%|█████████████████████████████████████████████████████████████████| 1/1 [00:01<00:00,  1.55s/it]\n",
      "100%|███████████████████████████████████████████████████████████████| 53/53 [01:00<00:00,  1.14s/it]\n"
     ]
    }
   ],
   "source": [
    "dataset_database_P = WildlifeDataset(metadata.df.iloc[100:,:], metadata.root, transform=transform)\n",
    "dataset_query_P = WildlifeDataset(metadata.df.iloc[:100,:], metadata.root, transform=transform)\n",
    "\n",
    "# name = 'hf-hub:BVRA/MegaDescriptor-T-224'\n",
    "extractor_P = DeepFeatures(trainer.model , device = 'cuda')\n",
    "\n",
    "query_P, database_P = extractor_P(dataset_query_P), extractor_P(dataset_database_P)\n"
   ]
  },
  {
   "cell_type": "code",
   "execution_count": 18,
   "id": "6cf218b0",
   "metadata": {
    "execution": {
     "iopub.execute_input": "2024-08-02T22:04:21.262807Z",
     "iopub.status.busy": "2024-08-02T22:04:21.262397Z",
     "iopub.status.idle": "2024-08-02T22:04:21.289491Z",
     "shell.execute_reply": "2024-08-02T22:04:21.288286Z"
    },
    "papermill": {
     "duration": 0.334513,
     "end_time": "2024-08-02T22:04:21.291599",
     "exception": false,
     "start_time": "2024-08-02T22:04:20.957086",
     "status": "completed"
    },
    "tags": []
   },
   "outputs": [
    {
     "name": "stdout",
     "output_type": "stream",
     "text": [
      "{'cosine': array([[ 0.00725734,  0.4591341 ,  0.07825134, ...,  0.41574007,\n",
      "         0.40261596,  0.01987165],\n",
      "       [ 0.04553113,  0.47067708, -0.0557644 , ...,  0.14869562,\n",
      "         0.59519506, -0.14384368],\n",
      "       [-0.04424645,  0.04630635,  0.11701504, ...,  0.02942031,\n",
      "         0.20453586, -0.1253828 ],\n",
      "       ...,\n",
      "       [ 0.1135495 ,  0.1408934 , -0.04747616, ...,  0.015981  ,\n",
      "         0.12062274, -0.09617898],\n",
      "       [-0.09747559,  0.02062405,  0.04569775, ..., -0.1463177 ,\n",
      "         0.10499872,  0.03330991],\n",
      "       [-0.01803307,  0.11700951,  0.7057756 , ...,  0.27263647,\n",
      "         0.04755937,  0.03263355]], dtype=float32)}\n"
     ]
    }
   ],
   "source": [
    "similarity_function = CosineSimilarity()\n",
    "similarity_P = similarity_function(query_P, database_P)\n",
    "print(similarity_P)\n"
   ]
  },
  {
   "cell_type": "code",
   "execution_count": 19,
   "id": "23dce305",
   "metadata": {
    "execution": {
     "iopub.execute_input": "2024-08-02T22:04:21.905157Z",
     "iopub.status.busy": "2024-08-02T22:04:21.904839Z",
     "iopub.status.idle": "2024-08-02T22:04:21.932667Z",
     "shell.execute_reply": "2024-08-02T22:04:21.931428Z"
    },
    "papermill": {
     "duration": 0.334701,
     "end_time": "2024-08-02T22:04:21.934939",
     "exception": false,
     "start_time": "2024-08-02T22:04:21.600238",
     "status": "completed"
    },
    "tags": []
   },
   "outputs": [
    {
     "name": "stdout",
     "output_type": "stream",
     "text": [
      "Predictions for 100 test Images:-\n",
      " ['10_hexing' '37_xinger' '01_aoliao' '33_wuyi' '47_yingying' '15_maosun'\n",
      " '09_fushun' '10_hexing' '36_xingda' '19_nannan' '08_fulai' '31_shurong'\n",
      " '44_yayi' '39_xinghui' '28_sa' '14_maodou' '14_maodou' '00_aibang'\n",
      " '21_nina' '35_xilan' '19_nannan' '33_wuyi' '47_yingying' '49_yuanrun'\n",
      " '44_yayi' '34_xiaoqiao' '16_maotao' '48_yongbang' '11_jiaoao'\n",
      " '49_yuanrun' '36_xingda' '28_sa' '35_xilan' '35_xilan' '02_baolan'\n",
      " '31_shurong' '31_shurong' '02_baolan' '23_qiubang' '26_qiyuan'\n",
      " '34_xiaoqiao' '35_xilan' '08_fulai' '00_aibang' '28_sa' '29_shuangxiong'\n",
      " '46_yazhu' '36_xingda' '14_maodou' '30_shuqing' '36_xingda' '39_xinghui'\n",
      " '33_wuyi' '10_hexing' '10_hexing' '00_aibang' '49_yuanrun' '35_xilan'\n",
      " '04_chengdui' '10_hexing' '39_xinghui' '36_xingda' '10_hexing'\n",
      " '36_xingda' '16_maotao' '22_nini' '00_aibang' '39_xinghui' '10_hexing'\n",
      " '17_meibang' '00_aibang' '28_sa' '14_maodou' '15_maosun' '32_susu'\n",
      " '26_qiyuan' '27_rourou' '23_qiubang' '18_miaomiao' '48_yongbang'\n",
      " '45_yayun' '16_maotao' '33_wuyi' '13_jingliang' '37_xinger' '08_fulai'\n",
      " '09_fushun' '40_xingrong' '22_nini' '49_yuanrun' '09_fushun' '28_sa'\n",
      " '48_yongbang' '47_yingying' '28_sa' '15_maosun' '39_xinghui' '20_nike'\n",
      " '43_yaxing' '47_yingying']\n",
      "Accuracy on IPanda50 data: 94.00%\n",
      "Precision: 0.9590476190476189\n",
      "Recall: 0.94\n",
      "F1 Score: 0.9428461538461538\n"
     ]
    },
    {
     "name": "stderr",
     "output_type": "stream",
     "text": [
      "/opt/conda/lib/python3.10/site-packages/wildlife_tools/inference/classifier.py:61: FutureWarning: DataFrame.fillna with 'method' is deprecated and will raise in a future version. Use obj.ffill() or obj.bfill() instead.\n",
      "  results = pd.DataFrame(results).T.fillna(method=\"ffill\").T\n"
     ]
    }
   ],
   "source": [
    "classifier_P = KnnClassifier(k=1, database_labels=dataset_database_P.labels_string)\n",
    "predictions_P = classifier_P(similarity_P['cosine'])\n",
    "print(\"Predictions for 100 test Images:-\\n\",predictions_P)\n",
    "accuracy_P = np.mean(dataset_query_P.labels_string == predictions_P)\n",
    "print(\"Accuracy on IPanda50 data: {:.2f}%\".format(accuracy_P * 100))\n",
    "precision_P = precision_score(dataset_query_P.labels_string, predictions_P, average='weighted',zero_division=1)\n",
    "recall_P = recall_score(dataset_query_P.labels_string, predictions_P, average='weighted',zero_division=1)\n",
    "f1_P = f1_score(dataset_query_P.labels_string, predictions_P, average='weighted',zero_division=1)\n",
    "print(\"Precision:\", precision_P)\n",
    "print(\"Recall:\", recall_P)\n",
    "print(\"F1 Score:\", f1_P)"
   ]
  },
  {
   "cell_type": "code",
   "execution_count": null,
   "id": "d8e1390d",
   "metadata": {
    "papermill": {
     "duration": 0.356087,
     "end_time": "2024-08-02T22:04:22.605077",
     "exception": false,
     "start_time": "2024-08-02T22:04:22.248990",
     "status": "completed"
    },
    "tags": []
   },
   "outputs": [],
   "source": []
  },
  {
   "cell_type": "markdown",
   "id": "d4dd4ea1",
   "metadata": {
    "papermill": {
     "duration": 0.303807,
     "end_time": "2024-08-02T22:04:23.214159",
     "exception": false,
     "start_time": "2024-08-02T22:04:22.910352",
     "status": "completed"
    },
    "tags": []
   },
   "source": [
    "**NEW DATASET  DogFaceNet**"
   ]
  },
  {
   "cell_type": "markdown",
   "id": "b5d5d52c",
   "metadata": {
    "papermill": {
     "duration": 0.302778,
     "end_time": "2024-08-02T22:04:23.823098",
     "exception": false,
     "start_time": "2024-08-02T22:04:23.520320",
     "status": "completed"
    },
    "tags": []
   },
   "source": [
    "Arcface"
   ]
  },
  {
   "cell_type": "code",
   "execution_count": 20,
   "id": "8899f39b",
   "metadata": {
    "execution": {
     "iopub.execute_input": "2024-08-02T22:04:24.427862Z",
     "iopub.status.busy": "2024-08-02T22:04:24.427405Z",
     "iopub.status.idle": "2024-08-02T22:04:24.435202Z",
     "shell.execute_reply": "2024-08-02T22:04:24.434339Z"
    },
    "papermill": {
     "duration": 0.312744,
     "end_time": "2024-08-02T22:04:24.437057",
     "exception": false,
     "start_time": "2024-08-02T22:04:24.124313",
     "status": "completed"
    },
    "tags": []
   },
   "outputs": [],
   "source": [
    "from itertools import chain\n",
    "import timm\n",
    "import pandas as pd\n",
    "import torchvision.transforms as T\n",
    "from torch.optim import SGD\n",
    "\n",
    "from wildlife_tools.data import WildlifeDataset, SplitMetadata\n",
    "from wildlife_tools.train import ArcFaceLoss, BasicTrainer\n",
    "\n",
    "import timm\n",
    "import numpy as np\n",
    "from wildlife_datasets.datasets import MacaqueFaces\n",
    "from wildlife_tools.data import WildlifeDataset\n",
    "import torchvision.transforms as T\n",
    "from wildlife_datasets import datasets, splits\n",
    "from wildlife_tools.features import DeepFeatures\n",
    "from wildlife_tools.similarity import CosineSimilarity\n",
    "from wildlife_tools.inference import KnnClassifier\n",
    "from sklearn.metrics import precision_score, recall_score, f1_score"
   ]
  },
  {
   "cell_type": "code",
   "execution_count": 21,
   "id": "451e8985",
   "metadata": {
    "execution": {
     "iopub.execute_input": "2024-08-02T22:04:25.044945Z",
     "iopub.status.busy": "2024-08-02T22:04:25.044536Z",
     "iopub.status.idle": "2024-08-02T22:38:10.688880Z",
     "shell.execute_reply": "2024-08-02T22:38:10.687814Z"
    },
    "papermill": {
     "duration": 2025.949887,
     "end_time": "2024-08-02T22:38:10.691242",
     "exception": false,
     "start_time": "2024-08-02T22:04:24.741355",
     "status": "completed"
    },
    "tags": []
   },
   "outputs": [
    {
     "name": "stdout",
     "output_type": "stream",
     "text": [
      "DATASET DogFaceNet: DOWNLOADING STARTED.\n"
     ]
    },
    {
     "name": "stderr",
     "output_type": "stream",
     "text": [
      "DogFaceNet_Dataset_224_1.zip: 75.6MB [00:01, 43.2MB/s]                            \n"
     ]
    },
    {
     "name": "stdout",
     "output_type": "stream",
     "text": [
      "DATASET DogFaceNet: EXTRACTING STARTED.\n",
      "DATASET DogFaceNet: FINISHED.\n",
      "\n"
     ]
    },
    {
     "name": "stderr",
     "output_type": "stream",
     "text": [
      "Epoch 0:   0%|                                                               | 0/66 [00:00<?, ?it/s]/opt/conda/lib/python3.10/multiprocessing/popen_fork.py:66: RuntimeWarning: os.fork() was called. os.fork() is incompatible with multithreaded code, and JAX is multithreaded, so this will likely lead to a deadlock.\n",
      "  self.pid = os.fork()\n",
      "Epoch 0:  98%|█████████████████████████████████████████████████████▏| 65/66 [01:40<00:01,  1.54s/it]/opt/conda/lib/python3.10/multiprocessing/popen_fork.py:66: RuntimeWarning: os.fork() was called. os.fork() is incompatible with multithreaded code, and JAX is multithreaded, so this will likely lead to a deadlock.\n",
      "  self.pid = os.fork()\n",
      "Epoch 0: 100%|██████████████████████████████████████████████████████| 66/66 [01:41<00:00,  1.53s/it]\n"
     ]
    },
    {
     "name": "stdout",
     "output_type": "stream",
     "text": [
      "Epoch 1: Average Loss = 39.466033935546875\n"
     ]
    },
    {
     "name": "stderr",
     "output_type": "stream",
     "text": [
      "Epoch 1: 100%|██████████████████████████████████████████████████████| 66/66 [01:40<00:00,  1.53s/it]\n"
     ]
    },
    {
     "name": "stdout",
     "output_type": "stream",
     "text": [
      "Epoch 2: Average Loss = 38.25303268432617\n"
     ]
    },
    {
     "name": "stderr",
     "output_type": "stream",
     "text": [
      "Epoch 2: 100%|██████████████████████████████████████████████████████| 66/66 [01:40<00:00,  1.53s/it]\n"
     ]
    },
    {
     "name": "stdout",
     "output_type": "stream",
     "text": [
      "Epoch 3: Average Loss = 37.81641387939453\n"
     ]
    },
    {
     "name": "stderr",
     "output_type": "stream",
     "text": [
      "Epoch 3: 100%|██████████████████████████████████████████████████████| 66/66 [01:41<00:00,  1.53s/it]\n"
     ]
    },
    {
     "name": "stdout",
     "output_type": "stream",
     "text": [
      "Epoch 4: Average Loss = 37.405147552490234\n"
     ]
    },
    {
     "name": "stderr",
     "output_type": "stream",
     "text": [
      "Epoch 4: 100%|██████████████████████████████████████████████████████| 66/66 [01:41<00:00,  1.53s/it]\n"
     ]
    },
    {
     "name": "stdout",
     "output_type": "stream",
     "text": [
      "Epoch 5: Average Loss = 36.88409423828125\n"
     ]
    },
    {
     "name": "stderr",
     "output_type": "stream",
     "text": [
      "Epoch 5: 100%|██████████████████████████████████████████████████████| 66/66 [01:41<00:00,  1.53s/it]\n"
     ]
    },
    {
     "name": "stdout",
     "output_type": "stream",
     "text": [
      "Epoch 6: Average Loss = 36.31690979003906\n"
     ]
    },
    {
     "name": "stderr",
     "output_type": "stream",
     "text": [
      "Epoch 6: 100%|██████████████████████████████████████████████████████| 66/66 [01:41<00:00,  1.53s/it]\n"
     ]
    },
    {
     "name": "stdout",
     "output_type": "stream",
     "text": [
      "Epoch 7: Average Loss = 35.64794158935547\n"
     ]
    },
    {
     "name": "stderr",
     "output_type": "stream",
     "text": [
      "Epoch 7: 100%|██████████████████████████████████████████████████████| 66/66 [01:41<00:00,  1.53s/it]\n"
     ]
    },
    {
     "name": "stdout",
     "output_type": "stream",
     "text": [
      "Epoch 8: Average Loss = 34.97807312011719\n"
     ]
    },
    {
     "name": "stderr",
     "output_type": "stream",
     "text": [
      "Epoch 8: 100%|██████████████████████████████████████████████████████| 66/66 [01:41<00:00,  1.53s/it]\n"
     ]
    },
    {
     "name": "stdout",
     "output_type": "stream",
     "text": [
      "Epoch 9: Average Loss = 34.22411346435547\n"
     ]
    },
    {
     "name": "stderr",
     "output_type": "stream",
     "text": [
      "Epoch 9: 100%|██████████████████████████████████████████████████████| 66/66 [01:41<00:00,  1.53s/it]\n"
     ]
    },
    {
     "name": "stdout",
     "output_type": "stream",
     "text": [
      "Epoch 10: Average Loss = 33.5235595703125\n"
     ]
    },
    {
     "name": "stderr",
     "output_type": "stream",
     "text": [
      "Epoch 10: 100%|█████████████████████████████████████████████████████| 66/66 [01:41<00:00,  1.53s/it]\n"
     ]
    },
    {
     "name": "stdout",
     "output_type": "stream",
     "text": [
      "Epoch 11: Average Loss = 32.77500915527344\n"
     ]
    },
    {
     "name": "stderr",
     "output_type": "stream",
     "text": [
      "Epoch 11: 100%|█████████████████████████████████████████████████████| 66/66 [01:41<00:00,  1.53s/it]\n"
     ]
    },
    {
     "name": "stdout",
     "output_type": "stream",
     "text": [
      "Epoch 12: Average Loss = 31.999094009399414\n"
     ]
    },
    {
     "name": "stderr",
     "output_type": "stream",
     "text": [
      "Epoch 12: 100%|█████████████████████████████████████████████████████| 66/66 [01:41<00:00,  1.53s/it]\n"
     ]
    },
    {
     "name": "stdout",
     "output_type": "stream",
     "text": [
      "Epoch 13: Average Loss = 31.342721939086914\n"
     ]
    },
    {
     "name": "stderr",
     "output_type": "stream",
     "text": [
      "Epoch 13: 100%|█████████████████████████████████████████████████████| 66/66 [01:40<00:00,  1.53s/it]\n"
     ]
    },
    {
     "name": "stdout",
     "output_type": "stream",
     "text": [
      "Epoch 14: Average Loss = 30.63734245300293\n"
     ]
    },
    {
     "name": "stderr",
     "output_type": "stream",
     "text": [
      "Epoch 14: 100%|█████████████████████████████████████████████████████| 66/66 [01:40<00:00,  1.53s/it]\n"
     ]
    },
    {
     "name": "stdout",
     "output_type": "stream",
     "text": [
      "Epoch 15: Average Loss = 29.88338279724121\n"
     ]
    },
    {
     "name": "stderr",
     "output_type": "stream",
     "text": [
      "Epoch 15: 100%|█████████████████████████████████████████████████████| 66/66 [01:41<00:00,  1.53s/it]\n"
     ]
    },
    {
     "name": "stdout",
     "output_type": "stream",
     "text": [
      "Epoch 16: Average Loss = 29.260547637939453\n"
     ]
    },
    {
     "name": "stderr",
     "output_type": "stream",
     "text": [
      "Epoch 16: 100%|█████████████████████████████████████████████████████| 66/66 [01:41<00:00,  1.53s/it]\n"
     ]
    },
    {
     "name": "stdout",
     "output_type": "stream",
     "text": [
      "Epoch 17: Average Loss = 28.456422805786133\n"
     ]
    },
    {
     "name": "stderr",
     "output_type": "stream",
     "text": [
      "Epoch 17: 100%|█████████████████████████████████████████████████████| 66/66 [01:40<00:00,  1.53s/it]\n"
     ]
    },
    {
     "name": "stdout",
     "output_type": "stream",
     "text": [
      "Epoch 18: Average Loss = 27.780954360961914\n"
     ]
    },
    {
     "name": "stderr",
     "output_type": "stream",
     "text": [
      "Epoch 18: 100%|█████████████████████████████████████████████████████| 66/66 [01:41<00:00,  1.53s/it]\n"
     ]
    },
    {
     "name": "stdout",
     "output_type": "stream",
     "text": [
      "Epoch 19: Average Loss = 26.996768951416016\n"
     ]
    },
    {
     "name": "stderr",
     "output_type": "stream",
     "text": [
      "Epoch 19: 100%|█████████████████████████████████████████████████████| 66/66 [01:40<00:00,  1.53s/it]"
     ]
    },
    {
     "name": "stdout",
     "output_type": "stream",
     "text": [
      "Epoch 20: Average Loss = 26.420412063598633\n"
     ]
    },
    {
     "name": "stderr",
     "output_type": "stream",
     "text": [
      "\n"
     ]
    }
   ],
   "source": [
    "import timm\n",
    "import itertools\n",
    "from torch.optim import SGD\n",
    "from wildlife_tools.train import ArcFaceLoss, BasicTrainer\n",
    "\n",
    "\n",
    "\n",
    "# Download dataset (if not already downloaded)\n",
    "datasets.DogFaceNet.get_data('../data/DogFaceNet')\n",
    "\n",
    "# Load dataset metadata\n",
    "metadata = datasets.DogFaceNet('../data/DogFaceNet')\n",
    "transform = T.Compose([T.Resize([224, 224]), T.ToTensor(), T.Normalize(mean=(0.485, 0.456, 0.406), std=(0.229, 0.224, 0.225))])\n",
    "dataset = WildlifeDataset(metadata.df, metadata.root, transform=transform)\n",
    "\n",
    "\n",
    "# Download MegaDescriptor-T backbone from HuggingFace Hub\n",
    "backbone = timm.create_model('hf-hub:BVRA/MegaDescriptor-T-224', num_classes=0, pretrained=True)\n",
    "\n",
    "# Arcface loss - needs backbone output size and number of classes.\n",
    "objective = ArcFaceLoss(\n",
    "    num_classes=dataset.num_classes,\n",
    "    embedding_size=768,\n",
    "    margin=0.5,\n",
    "    scale=64\n",
    "    )\n",
    "\n",
    "# Optimize parameters in backbone and in objective using single optimizer.\n",
    "params = itertools.chain(backbone.parameters(), objective.parameters())\n",
    "optimizer = SGD(params=params, lr=0.001, momentum=0.9)\n",
    "\n",
    "def print_epoch_loss(trainer, epoch_data):\n",
    "    # This function will print the average loss at the end of each epoch\n",
    "    print(f\"Epoch {trainer.epoch}: Average Loss = {epoch_data['train_loss_epoch_avg']}\")\n",
    "\n",
    "\n",
    "trainer = BasicTrainer(\n",
    "    dataset=dataset,\n",
    "    model=backbone,\n",
    "    objective=objective,\n",
    "    optimizer=optimizer,\n",
    "    epochs=20,\n",
    "    device='cuda',\n",
    "    epoch_callback=print_epoch_loss\n",
    ")\n",
    "\n",
    "trainer.train()\n"
   ]
  },
  {
   "cell_type": "code",
   "execution_count": 22,
   "id": "9ac98d8c",
   "metadata": {
    "execution": {
     "iopub.execute_input": "2024-08-02T22:38:11.517204Z",
     "iopub.status.busy": "2024-08-02T22:38:11.516833Z",
     "iopub.status.idle": "2024-08-02T22:38:11.854979Z",
     "shell.execute_reply": "2024-08-02T22:38:11.854161Z"
    },
    "papermill": {
     "duration": 0.753716,
     "end_time": "2024-08-02T22:38:11.857219",
     "exception": false,
     "start_time": "2024-08-02T22:38:11.103503",
     "status": "completed"
    },
    "tags": []
   },
   "outputs": [],
   "source": [
    "\n",
    "trainer.save(\"retrained_chks\", file_name=\"arcfaceloass_DogFaceNet_retrained_checkpoint.pth\")"
   ]
  },
  {
   "cell_type": "code",
   "execution_count": 23,
   "id": "d8074bf3",
   "metadata": {
    "execution": {
     "iopub.execute_input": "2024-08-02T22:38:12.745150Z",
     "iopub.status.busy": "2024-08-02T22:38:12.744450Z",
     "iopub.status.idle": "2024-08-02T22:38:12.748571Z",
     "shell.execute_reply": "2024-08-02T22:38:12.747709Z"
    },
    "papermill": {
     "duration": 0.479746,
     "end_time": "2024-08-02T22:38:12.750321",
     "exception": false,
     "start_time": "2024-08-02T22:38:12.270575",
     "status": "completed"
    },
    "tags": []
   },
   "outputs": [],
   "source": [
    "import torch"
   ]
  },
  {
   "cell_type": "code",
   "execution_count": 24,
   "id": "157e7867",
   "metadata": {
    "execution": {
     "iopub.execute_input": "2024-08-02T22:38:13.576316Z",
     "iopub.status.busy": "2024-08-02T22:38:13.575965Z",
     "iopub.status.idle": "2024-08-02T22:38:13.590956Z",
     "shell.execute_reply": "2024-08-02T22:38:13.590266Z"
    },
    "papermill": {
     "duration": 0.432566,
     "end_time": "2024-08-02T22:38:13.592955",
     "exception": false,
     "start_time": "2024-08-02T22:38:13.160389",
     "status": "completed"
    },
    "tags": []
   },
   "outputs": [],
   "source": [
    "dataset_database_P = WildlifeDataset(metadata.df.iloc[100:,:], metadata.root, transform=transform)\n",
    "dataset_query_P = WildlifeDataset(metadata.df.iloc[:100,:], metadata.root, transform=transform)"
   ]
  },
  {
   "cell_type": "code",
   "execution_count": 25,
   "id": "22e104a4",
   "metadata": {
    "execution": {
     "iopub.execute_input": "2024-08-02T22:38:14.421826Z",
     "iopub.status.busy": "2024-08-02T22:38:14.421481Z",
     "iopub.status.idle": "2024-08-02T22:55:04.903359Z",
     "shell.execute_reply": "2024-08-02T22:55:04.902006Z"
    },
    "papermill": {
     "duration": 1010.900585,
     "end_time": "2024-08-02T22:55:04.905391",
     "exception": false,
     "start_time": "2024-08-02T22:38:14.004806",
     "status": "completed"
    },
    "tags": []
   },
   "outputs": [
    {
     "name": "stderr",
     "output_type": "stream",
     "text": [
      "100%|█████████████████████████████████████████████████████████████████| 1/1 [00:11<00:00, 11.74s/it]\n",
      "100%|███████████████████████████████████████████████████████████████| 65/65 [16:38<00:00, 15.36s/it]\n"
     ]
    }
   ],
   "source": [
    "# name = 'hf-hub:BVRA/MegaDescriptor-T-224'\n",
    "extractor_P = DeepFeatures(trainer.model)\n",
    "query_P, database_P = extractor_P(dataset_query_P), extractor_P(dataset_database_P)"
   ]
  },
  {
   "cell_type": "code",
   "execution_count": 26,
   "id": "2624dd1a",
   "metadata": {
    "execution": {
     "iopub.execute_input": "2024-08-02T22:55:05.810678Z",
     "iopub.status.busy": "2024-08-02T22:55:05.810221Z",
     "iopub.status.idle": "2024-08-02T22:55:05.838005Z",
     "shell.execute_reply": "2024-08-02T22:55:05.836792Z"
    },
    "papermill": {
     "duration": 0.513542,
     "end_time": "2024-08-02T22:55:05.840270",
     "exception": false,
     "start_time": "2024-08-02T22:55:05.326728",
     "status": "completed"
    },
    "tags": []
   },
   "outputs": [
    {
     "name": "stdout",
     "output_type": "stream",
     "text": [
      "{'cosine': array([[-0.10120017,  0.00094893,  0.03113229, ...,  0.04185998,\n",
      "        -0.01420362, -0.05570815],\n",
      "       [ 0.01844995, -0.05779577, -0.01275181, ..., -0.11070522,\n",
      "         0.03804523, -0.06749505],\n",
      "       [ 0.0304631 ,  0.00978479,  0.02286835, ...,  0.00567573,\n",
      "         0.03178079,  0.07905479],\n",
      "       ...,\n",
      "       [ 0.11919957, -0.08299096, -0.02329023, ...,  0.04016837,\n",
      "        -0.0122668 ,  0.02739859],\n",
      "       [ 0.07992694,  0.11752124,  0.05448681, ...,  0.0214443 ,\n",
      "         0.02279913,  0.08330725],\n",
      "       [ 0.14088176, -0.08075353, -0.03615448, ..., -0.04716393,\n",
      "         0.08967818, -0.01942327]], dtype=float32)}\n"
     ]
    }
   ],
   "source": [
    "similarity_function = CosineSimilarity()\n",
    "similarity_P = similarity_function(query_P, database_P)\n",
    "print(similarity_P)"
   ]
  },
  {
   "cell_type": "code",
   "execution_count": 27,
   "id": "d0b1dc89",
   "metadata": {
    "execution": {
     "iopub.execute_input": "2024-08-02T22:55:06.719522Z",
     "iopub.status.busy": "2024-08-02T22:55:06.719179Z",
     "iopub.status.idle": "2024-08-02T22:55:06.753469Z",
     "shell.execute_reply": "2024-08-02T22:55:06.752508Z"
    },
    "papermill": {
     "duration": 0.462657,
     "end_time": "2024-08-02T22:55:06.755571",
     "exception": false,
     "start_time": "2024-08-02T22:55:06.292914",
     "status": "completed"
    },
    "tags": []
   },
   "outputs": [
    {
     "name": "stdout",
     "output_type": "stream",
     "text": [
      "Predictions for 100 test Images:-\n",
      " ['1249' '182' '919' '1122' '428' '378' '1063' '426' '470' '405' '764'\n",
      " '1090' '3' '1339' '432' '673' '1075' '274' '296' '234' '1039' '991' '485'\n",
      " '425' '280' '407' '324' '1248' '446' '896' '892' '448' '240' '251' '448'\n",
      " '930' '223' '210' '345' '1266' '622' '1324' '158' '127' '313' '1254'\n",
      " '1139' '208' '901' '424' '293' '415' '99' '147' '373' '192' '333' '333'\n",
      " '1314' '957' '329' '89' '189' '100' '122' '631' '367' '646' '26' '1369'\n",
      " '878' '673' '174' '1276' '1169' '458' '473' '149' '373' '622' '540' '919'\n",
      " '589' '913' '782' '1357' '361' '173' '1324' '953' '183' '200' '299' '191'\n",
      " '397' '187' '270' '563' '1020' '1074']\n",
      "Accuracy on IPanda50 data: 90.00%\n",
      "Precision: 1.0\n",
      "Recall: 0.9\n",
      "F1 Score: 0.9033333333333334\n"
     ]
    },
    {
     "name": "stderr",
     "output_type": "stream",
     "text": [
      "/opt/conda/lib/python3.10/site-packages/wildlife_tools/inference/classifier.py:61: FutureWarning: DataFrame.fillna with 'method' is deprecated and will raise in a future version. Use obj.ffill() or obj.bfill() instead.\n",
      "  results = pd.DataFrame(results).T.fillna(method=\"ffill\").T\n"
     ]
    }
   ],
   "source": [
    "classifier_P = KnnClassifier(k=1, database_labels=dataset_database_P.labels_string)\n",
    "predictions_P = classifier_P(similarity_P['cosine'])\n",
    "print(\"Predictions for 100 test Images:-\\n\",predictions_P)\n",
    "accuracy_P = np.mean(dataset_query_P.labels_string == predictions_P)\n",
    "print(\"Accuracy on IPanda50 data: {:.2f}%\".format(accuracy_P * 100))\n",
    "precision_P = precision_score(dataset_query_P.labels_string, predictions_P, average='weighted',zero_division=1)\n",
    "recall_P = recall_score(dataset_query_P.labels_string, predictions_P, average='weighted',zero_division=1)\n",
    "f1_P = f1_score(dataset_query_P.labels_string, predictions_P, average='weighted',zero_division=1)\n",
    "print(\"Precision:\", precision_P)\n",
    "print(\"Recall:\", recall_P)\n",
    "print(\"F1 Score:\", f1_P)"
   ]
  },
  {
   "cell_type": "code",
   "execution_count": null,
   "id": "bbada0f8",
   "metadata": {
    "papermill": {
     "duration": 0.415917,
     "end_time": "2024-08-02T22:55:07.592314",
     "exception": false,
     "start_time": "2024-08-02T22:55:07.176397",
     "status": "completed"
    },
    "tags": []
   },
   "outputs": [],
   "source": []
  },
  {
   "cell_type": "code",
   "execution_count": null,
   "id": "22b6c0c5",
   "metadata": {
    "papermill": {
     "duration": 0.416065,
     "end_time": "2024-08-02T22:55:08.427576",
     "exception": false,
     "start_time": "2024-08-02T22:55:08.011511",
     "status": "completed"
    },
    "tags": []
   },
   "outputs": [],
   "source": []
  }
 ],
 "metadata": {
  "kaggle": {
   "accelerator": "nvidiaTeslaT4",
   "dataSources": [],
   "dockerImageVersionId": 30732,
   "isGpuEnabled": true,
   "isInternetEnabled": true,
   "language": "python",
   "sourceType": "notebook"
  },
  "kernelspec": {
   "display_name": "Python 3",
   "language": "python",
   "name": "python3"
  },
  "language_info": {
   "codemirror_mode": {
    "name": "ipython",
    "version": 3
   },
   "file_extension": ".py",
   "mimetype": "text/x-python",
   "name": "python",
   "nbconvert_exporter": "python",
   "pygments_lexer": "ipython3",
   "version": "3.10.13"
  },
  "papermill": {
   "default_parameters": {},
   "duration": 8423.159072,
   "end_time": "2024-08-02T22:55:12.010500",
   "environment_variables": {},
   "exception": null,
   "input_path": "__notebook__.ipynb",
   "output_path": "__notebook__.ipynb",
   "parameters": {},
   "start_time": "2024-08-02T20:34:48.851428",
   "version": "2.5.0"
  },
  "widgets": {
   "application/vnd.jupyter.widget-state+json": {
    "state": {
     "03ff14085f5b4ef38c341b1d8f2c1d81": {
      "model_module": "@jupyter-widgets/controls",
      "model_module_version": "1.5.0",
      "model_name": "DescriptionStyleModel",
      "state": {
       "_model_module": "@jupyter-widgets/controls",
       "_model_module_version": "1.5.0",
       "_model_name": "DescriptionStyleModel",
       "_view_count": null,
       "_view_module": "@jupyter-widgets/base",
       "_view_module_version": "1.2.0",
       "_view_name": "StyleView",
       "description_width": ""
      }
     },
     "142d10ffa17443efbf727a8801c453a8": {
      "model_module": "@jupyter-widgets/controls",
      "model_module_version": "1.5.0",
      "model_name": "HTMLModel",
      "state": {
       "_dom_classes": [],
       "_model_module": "@jupyter-widgets/controls",
       "_model_module_version": "1.5.0",
       "_model_name": "HTMLModel",
       "_view_count": null,
       "_view_module": "@jupyter-widgets/controls",
       "_view_module_version": "1.5.0",
       "_view_name": "HTMLView",
       "description": "",
       "description_tooltip": null,
       "layout": "IPY_MODEL_de96a5d6de9243dbb644cf7504e56ebe",
       "placeholder": "​",
       "style": "IPY_MODEL_d94438656c854c2cbe1974187f537c65",
       "value": " 204M/204M [00:01&lt;00:00, 199MB/s]"
      }
     },
     "361e23ddc88a4d5d9986f28b6dc33a55": {
      "model_module": "@jupyter-widgets/base",
      "model_module_version": "1.2.0",
      "model_name": "LayoutModel",
      "state": {
       "_model_module": "@jupyter-widgets/base",
       "_model_module_version": "1.2.0",
       "_model_name": "LayoutModel",
       "_view_count": null,
       "_view_module": "@jupyter-widgets/base",
       "_view_module_version": "1.2.0",
       "_view_name": "LayoutView",
       "align_content": null,
       "align_items": null,
       "align_self": null,
       "border": null,
       "bottom": null,
       "display": null,
       "flex": null,
       "flex_flow": null,
       "grid_area": null,
       "grid_auto_columns": null,
       "grid_auto_flow": null,
       "grid_auto_rows": null,
       "grid_column": null,
       "grid_gap": null,
       "grid_row": null,
       "grid_template_areas": null,
       "grid_template_columns": null,
       "grid_template_rows": null,
       "height": null,
       "justify_content": null,
       "justify_items": null,
       "left": null,
       "margin": null,
       "max_height": null,
       "max_width": null,
       "min_height": null,
       "min_width": null,
       "object_fit": null,
       "object_position": null,
       "order": null,
       "overflow": null,
       "overflow_x": null,
       "overflow_y": null,
       "padding": null,
       "right": null,
       "top": null,
       "visibility": null,
       "width": null
      }
     },
     "3f9cd2efbaf64ff297c8b1a83f6f133c": {
      "model_module": "@jupyter-widgets/controls",
      "model_module_version": "1.5.0",
      "model_name": "ProgressStyleModel",
      "state": {
       "_model_module": "@jupyter-widgets/controls",
       "_model_module_version": "1.5.0",
       "_model_name": "ProgressStyleModel",
       "_view_count": null,
       "_view_module": "@jupyter-widgets/base",
       "_view_module_version": "1.2.0",
       "_view_name": "StyleView",
       "bar_color": null,
       "description_width": ""
      }
     },
     "450ba0cc2dac4a249f1c45177681a7d0": {
      "model_module": "@jupyter-widgets/controls",
      "model_module_version": "1.5.0",
      "model_name": "DescriptionStyleModel",
      "state": {
       "_model_module": "@jupyter-widgets/controls",
       "_model_module_version": "1.5.0",
       "_model_name": "DescriptionStyleModel",
       "_view_count": null,
       "_view_module": "@jupyter-widgets/base",
       "_view_module_version": "1.2.0",
       "_view_name": "StyleView",
       "description_width": ""
      }
     },
     "518926135d2a43cb9856427709ea9ecc": {
      "model_module": "@jupyter-widgets/controls",
      "model_module_version": "1.5.0",
      "model_name": "HTMLModel",
      "state": {
       "_dom_classes": [],
       "_model_module": "@jupyter-widgets/controls",
       "_model_module_version": "1.5.0",
       "_model_name": "HTMLModel",
       "_view_count": null,
       "_view_module": "@jupyter-widgets/controls",
       "_view_module_version": "1.5.0",
       "_view_name": "HTMLView",
       "description": "",
       "description_tooltip": null,
       "layout": "IPY_MODEL_9db4706410f64d4fa8762b3141d2b541",
       "placeholder": "​",
       "style": "IPY_MODEL_450ba0cc2dac4a249f1c45177681a7d0",
       "value": "config.json: 100%"
      }
     },
     "5ad0d3dffbd1421ead32e6ef6a8ba76a": {
      "model_module": "@jupyter-widgets/base",
      "model_module_version": "1.2.0",
      "model_name": "LayoutModel",
      "state": {
       "_model_module": "@jupyter-widgets/base",
       "_model_module_version": "1.2.0",
       "_model_name": "LayoutModel",
       "_view_count": null,
       "_view_module": "@jupyter-widgets/base",
       "_view_module_version": "1.2.0",
       "_view_name": "LayoutView",
       "align_content": null,
       "align_items": null,
       "align_self": null,
       "border": null,
       "bottom": null,
       "display": null,
       "flex": null,
       "flex_flow": null,
       "grid_area": null,
       "grid_auto_columns": null,
       "grid_auto_flow": null,
       "grid_auto_rows": null,
       "grid_column": null,
       "grid_gap": null,
       "grid_row": null,
       "grid_template_areas": null,
       "grid_template_columns": null,
       "grid_template_rows": null,
       "height": null,
       "justify_content": null,
       "justify_items": null,
       "left": null,
       "margin": null,
       "max_height": null,
       "max_width": null,
       "min_height": null,
       "min_width": null,
       "object_fit": null,
       "object_position": null,
       "order": null,
       "overflow": null,
       "overflow_x": null,
       "overflow_y": null,
       "padding": null,
       "right": null,
       "top": null,
       "visibility": null,
       "width": null
      }
     },
     "67e7c53511434674905c9dbe20ede011": {
      "model_module": "@jupyter-widgets/base",
      "model_module_version": "1.2.0",
      "model_name": "LayoutModel",
      "state": {
       "_model_module": "@jupyter-widgets/base",
       "_model_module_version": "1.2.0",
       "_model_name": "LayoutModel",
       "_view_count": null,
       "_view_module": "@jupyter-widgets/base",
       "_view_module_version": "1.2.0",
       "_view_name": "LayoutView",
       "align_content": null,
       "align_items": null,
       "align_self": null,
       "border": null,
       "bottom": null,
       "display": null,
       "flex": null,
       "flex_flow": null,
       "grid_area": null,
       "grid_auto_columns": null,
       "grid_auto_flow": null,
       "grid_auto_rows": null,
       "grid_column": null,
       "grid_gap": null,
       "grid_row": null,
       "grid_template_areas": null,
       "grid_template_columns": null,
       "grid_template_rows": null,
       "height": null,
       "justify_content": null,
       "justify_items": null,
       "left": null,
       "margin": null,
       "max_height": null,
       "max_width": null,
       "min_height": null,
       "min_width": null,
       "object_fit": null,
       "object_position": null,
       "order": null,
       "overflow": null,
       "overflow_x": null,
       "overflow_y": null,
       "padding": null,
       "right": null,
       "top": null,
       "visibility": null,
       "width": null
      }
     },
     "685f3e797cf6472c95f54d07af18bd3a": {
      "model_module": "@jupyter-widgets/controls",
      "model_module_version": "1.5.0",
      "model_name": "HBoxModel",
      "state": {
       "_dom_classes": [],
       "_model_module": "@jupyter-widgets/controls",
       "_model_module_version": "1.5.0",
       "_model_name": "HBoxModel",
       "_view_count": null,
       "_view_module": "@jupyter-widgets/controls",
       "_view_module_version": "1.5.0",
       "_view_name": "HBoxView",
       "box_style": "",
       "children": [
        "IPY_MODEL_518926135d2a43cb9856427709ea9ecc",
        "IPY_MODEL_d36cd2ad15674955bb5f310af708113a",
        "IPY_MODEL_a325db49140f420b9b66d1e867245d26"
       ],
       "layout": "IPY_MODEL_361e23ddc88a4d5d9986f28b6dc33a55"
      }
     },
     "7fad80e6273646d38b52c5f7aa192560": {
      "model_module": "@jupyter-widgets/controls",
      "model_module_version": "1.5.0",
      "model_name": "ProgressStyleModel",
      "state": {
       "_model_module": "@jupyter-widgets/controls",
       "_model_module_version": "1.5.0",
       "_model_name": "ProgressStyleModel",
       "_view_count": null,
       "_view_module": "@jupyter-widgets/base",
       "_view_module_version": "1.2.0",
       "_view_name": "StyleView",
       "bar_color": null,
       "description_width": ""
      }
     },
     "99847032f0e84c8696a5776d4c1b39ea": {
      "model_module": "@jupyter-widgets/base",
      "model_module_version": "1.2.0",
      "model_name": "LayoutModel",
      "state": {
       "_model_module": "@jupyter-widgets/base",
       "_model_module_version": "1.2.0",
       "_model_name": "LayoutModel",
       "_view_count": null,
       "_view_module": "@jupyter-widgets/base",
       "_view_module_version": "1.2.0",
       "_view_name": "LayoutView",
       "align_content": null,
       "align_items": null,
       "align_self": null,
       "border": null,
       "bottom": null,
       "display": null,
       "flex": null,
       "flex_flow": null,
       "grid_area": null,
       "grid_auto_columns": null,
       "grid_auto_flow": null,
       "grid_auto_rows": null,
       "grid_column": null,
       "grid_gap": null,
       "grid_row": null,
       "grid_template_areas": null,
       "grid_template_columns": null,
       "grid_template_rows": null,
       "height": null,
       "justify_content": null,
       "justify_items": null,
       "left": null,
       "margin": null,
       "max_height": null,
       "max_width": null,
       "min_height": null,
       "min_width": null,
       "object_fit": null,
       "object_position": null,
       "order": null,
       "overflow": null,
       "overflow_x": null,
       "overflow_y": null,
       "padding": null,
       "right": null,
       "top": null,
       "visibility": null,
       "width": null
      }
     },
     "9d84e0578fbd4171b7237dec8ae1948a": {
      "model_module": "@jupyter-widgets/base",
      "model_module_version": "1.2.0",
      "model_name": "LayoutModel",
      "state": {
       "_model_module": "@jupyter-widgets/base",
       "_model_module_version": "1.2.0",
       "_model_name": "LayoutModel",
       "_view_count": null,
       "_view_module": "@jupyter-widgets/base",
       "_view_module_version": "1.2.0",
       "_view_name": "LayoutView",
       "align_content": null,
       "align_items": null,
       "align_self": null,
       "border": null,
       "bottom": null,
       "display": null,
       "flex": null,
       "flex_flow": null,
       "grid_area": null,
       "grid_auto_columns": null,
       "grid_auto_flow": null,
       "grid_auto_rows": null,
       "grid_column": null,
       "grid_gap": null,
       "grid_row": null,
       "grid_template_areas": null,
       "grid_template_columns": null,
       "grid_template_rows": null,
       "height": null,
       "justify_content": null,
       "justify_items": null,
       "left": null,
       "margin": null,
       "max_height": null,
       "max_width": null,
       "min_height": null,
       "min_width": null,
       "object_fit": null,
       "object_position": null,
       "order": null,
       "overflow": null,
       "overflow_x": null,
       "overflow_y": null,
       "padding": null,
       "right": null,
       "top": null,
       "visibility": null,
       "width": null
      }
     },
     "9db4706410f64d4fa8762b3141d2b541": {
      "model_module": "@jupyter-widgets/base",
      "model_module_version": "1.2.0",
      "model_name": "LayoutModel",
      "state": {
       "_model_module": "@jupyter-widgets/base",
       "_model_module_version": "1.2.0",
       "_model_name": "LayoutModel",
       "_view_count": null,
       "_view_module": "@jupyter-widgets/base",
       "_view_module_version": "1.2.0",
       "_view_name": "LayoutView",
       "align_content": null,
       "align_items": null,
       "align_self": null,
       "border": null,
       "bottom": null,
       "display": null,
       "flex": null,
       "flex_flow": null,
       "grid_area": null,
       "grid_auto_columns": null,
       "grid_auto_flow": null,
       "grid_auto_rows": null,
       "grid_column": null,
       "grid_gap": null,
       "grid_row": null,
       "grid_template_areas": null,
       "grid_template_columns": null,
       "grid_template_rows": null,
       "height": null,
       "justify_content": null,
       "justify_items": null,
       "left": null,
       "margin": null,
       "max_height": null,
       "max_width": null,
       "min_height": null,
       "min_width": null,
       "object_fit": null,
       "object_position": null,
       "order": null,
       "overflow": null,
       "overflow_x": null,
       "overflow_y": null,
       "padding": null,
       "right": null,
       "top": null,
       "visibility": null,
       "width": null
      }
     },
     "a325db49140f420b9b66d1e867245d26": {
      "model_module": "@jupyter-widgets/controls",
      "model_module_version": "1.5.0",
      "model_name": "HTMLModel",
      "state": {
       "_dom_classes": [],
       "_model_module": "@jupyter-widgets/controls",
       "_model_module_version": "1.5.0",
       "_model_name": "HTMLModel",
       "_view_count": null,
       "_view_module": "@jupyter-widgets/controls",
       "_view_module_version": "1.5.0",
       "_view_name": "HTMLView",
       "description": "",
       "description_tooltip": null,
       "layout": "IPY_MODEL_9d84e0578fbd4171b7237dec8ae1948a",
       "placeholder": "​",
       "style": "IPY_MODEL_aa1d327dc1e843458c9d658c34911460",
       "value": " 609/609 [00:00&lt;00:00, 53.4kB/s]"
      }
     },
     "a34de33e4ec04cb1b163e055808d6a88": {
      "model_module": "@jupyter-widgets/controls",
      "model_module_version": "1.5.0",
      "model_name": "FloatProgressModel",
      "state": {
       "_dom_classes": [],
       "_model_module": "@jupyter-widgets/controls",
       "_model_module_version": "1.5.0",
       "_model_name": "FloatProgressModel",
       "_view_count": null,
       "_view_module": "@jupyter-widgets/controls",
       "_view_module_version": "1.5.0",
       "_view_name": "ProgressView",
       "bar_style": "success",
       "description": "",
       "description_tooltip": null,
       "layout": "IPY_MODEL_5ad0d3dffbd1421ead32e6ef6a8ba76a",
       "max": 204267588.0,
       "min": 0.0,
       "orientation": "horizontal",
       "style": "IPY_MODEL_7fad80e6273646d38b52c5f7aa192560",
       "value": 204267588.0
      }
     },
     "aa1d327dc1e843458c9d658c34911460": {
      "model_module": "@jupyter-widgets/controls",
      "model_module_version": "1.5.0",
      "model_name": "DescriptionStyleModel",
      "state": {
       "_model_module": "@jupyter-widgets/controls",
       "_model_module_version": "1.5.0",
       "_model_name": "DescriptionStyleModel",
       "_view_count": null,
       "_view_module": "@jupyter-widgets/base",
       "_view_module_version": "1.2.0",
       "_view_name": "StyleView",
       "description_width": ""
      }
     },
     "c1d37d242ea043b29acdac3a7bcb572d": {
      "model_module": "@jupyter-widgets/controls",
      "model_module_version": "1.5.0",
      "model_name": "HBoxModel",
      "state": {
       "_dom_classes": [],
       "_model_module": "@jupyter-widgets/controls",
       "_model_module_version": "1.5.0",
       "_model_name": "HBoxModel",
       "_view_count": null,
       "_view_module": "@jupyter-widgets/controls",
       "_view_module_version": "1.5.0",
       "_view_name": "HBoxView",
       "box_style": "",
       "children": [
        "IPY_MODEL_e69211c4e4194f4e8981c0337d61bf3b",
        "IPY_MODEL_a34de33e4ec04cb1b163e055808d6a88",
        "IPY_MODEL_142d10ffa17443efbf727a8801c453a8"
       ],
       "layout": "IPY_MODEL_67e7c53511434674905c9dbe20ede011"
      }
     },
     "d36cd2ad15674955bb5f310af708113a": {
      "model_module": "@jupyter-widgets/controls",
      "model_module_version": "1.5.0",
      "model_name": "FloatProgressModel",
      "state": {
       "_dom_classes": [],
       "_model_module": "@jupyter-widgets/controls",
       "_model_module_version": "1.5.0",
       "_model_name": "FloatProgressModel",
       "_view_count": null,
       "_view_module": "@jupyter-widgets/controls",
       "_view_module_version": "1.5.0",
       "_view_name": "ProgressView",
       "bar_style": "success",
       "description": "",
       "description_tooltip": null,
       "layout": "IPY_MODEL_99847032f0e84c8696a5776d4c1b39ea",
       "max": 609.0,
       "min": 0.0,
       "orientation": "horizontal",
       "style": "IPY_MODEL_3f9cd2efbaf64ff297c8b1a83f6f133c",
       "value": 609.0
      }
     },
     "d94438656c854c2cbe1974187f537c65": {
      "model_module": "@jupyter-widgets/controls",
      "model_module_version": "1.5.0",
      "model_name": "DescriptionStyleModel",
      "state": {
       "_model_module": "@jupyter-widgets/controls",
       "_model_module_version": "1.5.0",
       "_model_name": "DescriptionStyleModel",
       "_view_count": null,
       "_view_module": "@jupyter-widgets/base",
       "_view_module_version": "1.2.0",
       "_view_name": "StyleView",
       "description_width": ""
      }
     },
     "de96a5d6de9243dbb644cf7504e56ebe": {
      "model_module": "@jupyter-widgets/base",
      "model_module_version": "1.2.0",
      "model_name": "LayoutModel",
      "state": {
       "_model_module": "@jupyter-widgets/base",
       "_model_module_version": "1.2.0",
       "_model_name": "LayoutModel",
       "_view_count": null,
       "_view_module": "@jupyter-widgets/base",
       "_view_module_version": "1.2.0",
       "_view_name": "LayoutView",
       "align_content": null,
       "align_items": null,
       "align_self": null,
       "border": null,
       "bottom": null,
       "display": null,
       "flex": null,
       "flex_flow": null,
       "grid_area": null,
       "grid_auto_columns": null,
       "grid_auto_flow": null,
       "grid_auto_rows": null,
       "grid_column": null,
       "grid_gap": null,
       "grid_row": null,
       "grid_template_areas": null,
       "grid_template_columns": null,
       "grid_template_rows": null,
       "height": null,
       "justify_content": null,
       "justify_items": null,
       "left": null,
       "margin": null,
       "max_height": null,
       "max_width": null,
       "min_height": null,
       "min_width": null,
       "object_fit": null,
       "object_position": null,
       "order": null,
       "overflow": null,
       "overflow_x": null,
       "overflow_y": null,
       "padding": null,
       "right": null,
       "top": null,
       "visibility": null,
       "width": null
      }
     },
     "e69211c4e4194f4e8981c0337d61bf3b": {
      "model_module": "@jupyter-widgets/controls",
      "model_module_version": "1.5.0",
      "model_name": "HTMLModel",
      "state": {
       "_dom_classes": [],
       "_model_module": "@jupyter-widgets/controls",
       "_model_module_version": "1.5.0",
       "_model_name": "HTMLModel",
       "_view_count": null,
       "_view_module": "@jupyter-widgets/controls",
       "_view_module_version": "1.5.0",
       "_view_name": "HTMLView",
       "description": "",
       "description_tooltip": null,
       "layout": "IPY_MODEL_fbaa7f5a2a664cab91b61b0178d35784",
       "placeholder": "​",
       "style": "IPY_MODEL_03ff14085f5b4ef38c341b1d8f2c1d81",
       "value": "pytorch_model.bin: 100%"
      }
     },
     "fbaa7f5a2a664cab91b61b0178d35784": {
      "model_module": "@jupyter-widgets/base",
      "model_module_version": "1.2.0",
      "model_name": "LayoutModel",
      "state": {
       "_model_module": "@jupyter-widgets/base",
       "_model_module_version": "1.2.0",
       "_model_name": "LayoutModel",
       "_view_count": null,
       "_view_module": "@jupyter-widgets/base",
       "_view_module_version": "1.2.0",
       "_view_name": "LayoutView",
       "align_content": null,
       "align_items": null,
       "align_self": null,
       "border": null,
       "bottom": null,
       "display": null,
       "flex": null,
       "flex_flow": null,
       "grid_area": null,
       "grid_auto_columns": null,
       "grid_auto_flow": null,
       "grid_auto_rows": null,
       "grid_column": null,
       "grid_gap": null,
       "grid_row": null,
       "grid_template_areas": null,
       "grid_template_columns": null,
       "grid_template_rows": null,
       "height": null,
       "justify_content": null,
       "justify_items": null,
       "left": null,
       "margin": null,
       "max_height": null,
       "max_width": null,
       "min_height": null,
       "min_width": null,
       "object_fit": null,
       "object_position": null,
       "order": null,
       "overflow": null,
       "overflow_x": null,
       "overflow_y": null,
       "padding": null,
       "right": null,
       "top": null,
       "visibility": null,
       "width": null
      }
     }
    },
    "version_major": 2,
    "version_minor": 0
   }
  }
 },
 "nbformat": 4,
 "nbformat_minor": 5
}
