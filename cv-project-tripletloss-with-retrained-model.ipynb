{
 "cells": [
  {
   "cell_type": "code",
   "execution_count": 1,
   "id": "6e0adc71",
   "metadata": {
    "_cell_guid": "b1076dfc-b9ad-4769-8c92-a6c4dae69d19",
    "_uuid": "8f2839f25d086af736a60e9eeb907d3b93b6e0e5",
    "execution": {
     "iopub.execute_input": "2024-08-06T07:23:21.328047Z",
     "iopub.status.busy": "2024-08-06T07:23:21.327262Z",
     "iopub.status.idle": "2024-08-06T07:23:35.364978Z",
     "shell.execute_reply": "2024-08-06T07:23:35.363799Z"
    },
    "papermill": {
     "duration": 14.054046,
     "end_time": "2024-08-06T07:23:35.367143",
     "exception": false,
     "start_time": "2024-08-06T07:23:21.313097",
     "status": "completed"
    },
    "tags": []
   },
   "outputs": [
    {
     "name": "stdout",
     "output_type": "stream",
     "text": [
      "Collecting wildlife-datasets\r\n",
      "  Downloading wildlife_datasets-1.0.4-py3-none-any.whl.metadata (11 kB)\r\n",
      "Requirement already satisfied: numpy>=1.19.4 in /opt/conda/lib/python3.10/site-packages (from wildlife-datasets) (1.26.4)\r\n",
      "Requirement already satisfied: pandas>=1.1.4 in /opt/conda/lib/python3.10/site-packages (from wildlife-datasets) (2.2.2)\r\n",
      "Requirement already satisfied: tqdm>=4.62.3 in /opt/conda/lib/python3.10/site-packages (from wildlife-datasets) (4.66.4)\r\n",
      "Requirement already satisfied: opencv-python>=4.5.5.62 in /opt/conda/lib/python3.10/site-packages (from wildlife-datasets) (4.10.0.84)\r\n",
      "Requirement already satisfied: Pillow>=7.1.2 in /opt/conda/lib/python3.10/site-packages (from wildlife-datasets) (9.5.0)\r\n",
      "Requirement already satisfied: scikit-learn>=1.0.1 in /opt/conda/lib/python3.10/site-packages (from wildlife-datasets) (1.2.2)\r\n",
      "Requirement already satisfied: matplotlib>=3.5.1 in /opt/conda/lib/python3.10/site-packages (from wildlife-datasets) (3.7.5)\r\n",
      "Collecting gdown (from wildlife-datasets)\r\n",
      "  Downloading gdown-5.2.0-py3-none-any.whl.metadata (5.8 kB)\r\n",
      "Requirement already satisfied: kaggle in /opt/conda/lib/python3.10/site-packages (from wildlife-datasets) (1.6.14)\r\n",
      "Requirement already satisfied: contourpy>=1.0.1 in /opt/conda/lib/python3.10/site-packages (from matplotlib>=3.5.1->wildlife-datasets) (1.2.0)\r\n",
      "Requirement already satisfied: cycler>=0.10 in /opt/conda/lib/python3.10/site-packages (from matplotlib>=3.5.1->wildlife-datasets) (0.12.1)\r\n",
      "Requirement already satisfied: fonttools>=4.22.0 in /opt/conda/lib/python3.10/site-packages (from matplotlib>=3.5.1->wildlife-datasets) (4.47.0)\r\n",
      "Requirement already satisfied: kiwisolver>=1.0.1 in /opt/conda/lib/python3.10/site-packages (from matplotlib>=3.5.1->wildlife-datasets) (1.4.5)\r\n",
      "Requirement already satisfied: packaging>=20.0 in /opt/conda/lib/python3.10/site-packages (from matplotlib>=3.5.1->wildlife-datasets) (21.3)\r\n",
      "Requirement already satisfied: pyparsing>=2.3.1 in /opt/conda/lib/python3.10/site-packages (from matplotlib>=3.5.1->wildlife-datasets) (3.1.1)\r\n",
      "Requirement already satisfied: python-dateutil>=2.7 in /opt/conda/lib/python3.10/site-packages (from matplotlib>=3.5.1->wildlife-datasets) (2.9.0.post0)\r\n",
      "Requirement already satisfied: pytz>=2020.1 in /opt/conda/lib/python3.10/site-packages (from pandas>=1.1.4->wildlife-datasets) (2023.3.post1)\r\n",
      "Requirement already satisfied: tzdata>=2022.7 in /opt/conda/lib/python3.10/site-packages (from pandas>=1.1.4->wildlife-datasets) (2023.4)\r\n",
      "Requirement already satisfied: scipy>=1.3.2 in /opt/conda/lib/python3.10/site-packages (from scikit-learn>=1.0.1->wildlife-datasets) (1.11.4)\r\n",
      "Requirement already satisfied: joblib>=1.1.1 in /opt/conda/lib/python3.10/site-packages (from scikit-learn>=1.0.1->wildlife-datasets) (1.4.2)\r\n",
      "Requirement already satisfied: threadpoolctl>=2.0.0 in /opt/conda/lib/python3.10/site-packages (from scikit-learn>=1.0.1->wildlife-datasets) (3.2.0)\r\n",
      "Requirement already satisfied: beautifulsoup4 in /opt/conda/lib/python3.10/site-packages (from gdown->wildlife-datasets) (4.12.2)\r\n",
      "Requirement already satisfied: filelock in /opt/conda/lib/python3.10/site-packages (from gdown->wildlife-datasets) (3.13.1)\r\n",
      "Requirement already satisfied: requests[socks] in /opt/conda/lib/python3.10/site-packages (from gdown->wildlife-datasets) (2.32.3)\r\n",
      "Requirement already satisfied: six>=1.10 in /opt/conda/lib/python3.10/site-packages (from kaggle->wildlife-datasets) (1.16.0)\r\n",
      "Requirement already satisfied: certifi>=2023.7.22 in /opt/conda/lib/python3.10/site-packages (from kaggle->wildlife-datasets) (2024.7.4)\r\n",
      "Requirement already satisfied: python-slugify in /opt/conda/lib/python3.10/site-packages (from kaggle->wildlife-datasets) (8.0.4)\r\n",
      "Requirement already satisfied: urllib3 in /opt/conda/lib/python3.10/site-packages (from kaggle->wildlife-datasets) (1.26.18)\r\n",
      "Requirement already satisfied: bleach in /opt/conda/lib/python3.10/site-packages (from kaggle->wildlife-datasets) (6.1.0)\r\n",
      "Requirement already satisfied: soupsieve>1.2 in /opt/conda/lib/python3.10/site-packages (from beautifulsoup4->gdown->wildlife-datasets) (2.5)\r\n",
      "Requirement already satisfied: webencodings in /opt/conda/lib/python3.10/site-packages (from bleach->kaggle->wildlife-datasets) (0.5.1)\r\n",
      "Requirement already satisfied: text-unidecode>=1.3 in /opt/conda/lib/python3.10/site-packages (from python-slugify->kaggle->wildlife-datasets) (1.3)\r\n",
      "Requirement already satisfied: charset-normalizer<4,>=2 in /opt/conda/lib/python3.10/site-packages (from requests[socks]->gdown->wildlife-datasets) (3.3.2)\r\n",
      "Requirement already satisfied: idna<4,>=2.5 in /opt/conda/lib/python3.10/site-packages (from requests[socks]->gdown->wildlife-datasets) (3.6)\r\n",
      "Requirement already satisfied: PySocks!=1.5.7,>=1.5.6 in /opt/conda/lib/python3.10/site-packages (from requests[socks]->gdown->wildlife-datasets) (1.7.1)\r\n",
      "Downloading wildlife_datasets-1.0.4-py3-none-any.whl (46 kB)\r\n",
      "\u001b[2K   \u001b[90m━━━━━━━━━━━━━━━━━━━━━━━━━━━━━━━━━━━━━━━━\u001b[0m \u001b[32m46.4/46.4 kB\u001b[0m \u001b[31m919.6 kB/s\u001b[0m eta \u001b[36m0:00:00\u001b[0m\r\n",
      "\u001b[?25hDownloading gdown-5.2.0-py3-none-any.whl (18 kB)\r\n",
      "Installing collected packages: gdown, wildlife-datasets\r\n",
      "Successfully installed gdown-5.2.0 wildlife-datasets-1.0.4\r\n",
      "Note: you may need to restart the kernel to use updated packages.\n"
     ]
    }
   ],
   "source": [
    "%pip install wildlife-datasets"
   ]
  },
  {
   "cell_type": "code",
   "execution_count": 2,
   "id": "d56e9270",
   "metadata": {
    "execution": {
     "iopub.execute_input": "2024-08-06T07:23:35.397467Z",
     "iopub.status.busy": "2024-08-06T07:23:35.396931Z",
     "iopub.status.idle": "2024-08-06T07:23:52.424770Z",
     "shell.execute_reply": "2024-08-06T07:23:52.423541Z"
    },
    "papermill": {
     "duration": 17.044977,
     "end_time": "2024-08-06T07:23:52.426753",
     "exception": false,
     "start_time": "2024-08-06T07:23:35.381776",
     "status": "completed"
    },
    "tags": []
   },
   "outputs": [
    {
     "name": "stdout",
     "output_type": "stream",
     "text": [
      "Collecting wildlife-tools\r\n",
      "  Downloading wildlife_tools-0.0.9-py3-none-any.whl.metadata (9.3 kB)\r\n",
      "Requirement already satisfied: torch>=2.0.1 in /opt/conda/lib/python3.10/site-packages (from wildlife-tools) (2.1.2)\r\n",
      "Requirement already satisfied: timm>=0.9.2 in /opt/conda/lib/python3.10/site-packages (from wildlife-tools) (1.0.7)\r\n",
      "Requirement already satisfied: numpy>=1.19.4 in /opt/conda/lib/python3.10/site-packages (from wildlife-tools) (1.26.4)\r\n",
      "Requirement already satisfied: pandas>=1.1.4 in /opt/conda/lib/python3.10/site-packages (from wildlife-tools) (2.2.2)\r\n",
      "Requirement already satisfied: tqdm>=4.62.3 in /opt/conda/lib/python3.10/site-packages (from wildlife-tools) (4.66.4)\r\n",
      "Requirement already satisfied: opencv-python>=4.5.5.62 in /opt/conda/lib/python3.10/site-packages (from wildlife-tools) (4.10.0.84)\r\n",
      "Requirement already satisfied: Pillow>=7.1.2 in /opt/conda/lib/python3.10/site-packages (from wildlife-tools) (9.5.0)\r\n",
      "Requirement already satisfied: scikit-learn>=1.0.1 in /opt/conda/lib/python3.10/site-packages (from wildlife-tools) (1.2.2)\r\n",
      "Collecting pycocotools (from wildlife-tools)\r\n",
      "  Downloading pycocotools-2.0.8-cp310-cp310-manylinux_2_17_x86_64.manylinux2014_x86_64.whl.metadata (1.1 kB)\r\n",
      "Requirement already satisfied: tensorboard in /opt/conda/lib/python3.10/site-packages (from wildlife-tools) (2.15.1)\r\n",
      "Collecting pytorch-metric-learning (from wildlife-tools)\r\n",
      "  Downloading pytorch_metric_learning-2.6.0-py3-none-any.whl.metadata (17 kB)\r\n",
      "Requirement already satisfied: transformers>=4.30.2 in /opt/conda/lib/python3.10/site-packages (from wildlife-tools) (4.42.3)\r\n",
      "Requirement already satisfied: wildlife-datasets>=0.3.4 in /opt/conda/lib/python3.10/site-packages (from wildlife-tools) (1.0.4)\r\n",
      "Requirement already satisfied: kornia>=0.6.12 in /opt/conda/lib/python3.10/site-packages (from wildlife-tools) (0.7.3)\r\n",
      "Collecting faiss-gpu (from wildlife-tools)\r\n",
      "  Downloading faiss_gpu-1.7.2-cp310-cp310-manylinux_2_17_x86_64.manylinux2014_x86_64.whl.metadata (1.4 kB)\r\n",
      "Requirement already satisfied: kornia-rs>=0.1.0 in /opt/conda/lib/python3.10/site-packages (from kornia>=0.6.12->wildlife-tools) (0.1.4)\r\n",
      "Requirement already satisfied: packaging in /opt/conda/lib/python3.10/site-packages (from kornia>=0.6.12->wildlife-tools) (21.3)\r\n",
      "Requirement already satisfied: python-dateutil>=2.8.2 in /opt/conda/lib/python3.10/site-packages (from pandas>=1.1.4->wildlife-tools) (2.9.0.post0)\r\n",
      "Requirement already satisfied: pytz>=2020.1 in /opt/conda/lib/python3.10/site-packages (from pandas>=1.1.4->wildlife-tools) (2023.3.post1)\r\n",
      "Requirement already satisfied: tzdata>=2022.7 in /opt/conda/lib/python3.10/site-packages (from pandas>=1.1.4->wildlife-tools) (2023.4)\r\n",
      "Requirement already satisfied: scipy>=1.3.2 in /opt/conda/lib/python3.10/site-packages (from scikit-learn>=1.0.1->wildlife-tools) (1.11.4)\r\n",
      "Requirement already satisfied: joblib>=1.1.1 in /opt/conda/lib/python3.10/site-packages (from scikit-learn>=1.0.1->wildlife-tools) (1.4.2)\r\n",
      "Requirement already satisfied: threadpoolctl>=2.0.0 in /opt/conda/lib/python3.10/site-packages (from scikit-learn>=1.0.1->wildlife-tools) (3.2.0)\r\n",
      "Requirement already satisfied: torchvision in /opt/conda/lib/python3.10/site-packages (from timm>=0.9.2->wildlife-tools) (0.16.2)\r\n",
      "Requirement already satisfied: pyyaml in /opt/conda/lib/python3.10/site-packages (from timm>=0.9.2->wildlife-tools) (6.0.1)\r\n",
      "Requirement already satisfied: huggingface_hub in /opt/conda/lib/python3.10/site-packages (from timm>=0.9.2->wildlife-tools) (0.23.4)\r\n",
      "Requirement already satisfied: safetensors in /opt/conda/lib/python3.10/site-packages (from timm>=0.9.2->wildlife-tools) (0.4.3)\r\n",
      "Requirement already satisfied: filelock in /opt/conda/lib/python3.10/site-packages (from torch>=2.0.1->wildlife-tools) (3.13.1)\r\n",
      "Requirement already satisfied: typing-extensions in /opt/conda/lib/python3.10/site-packages (from torch>=2.0.1->wildlife-tools) (4.9.0)\r\n",
      "Requirement already satisfied: sympy in /opt/conda/lib/python3.10/site-packages (from torch>=2.0.1->wildlife-tools) (1.13.0)\r\n",
      "Requirement already satisfied: networkx in /opt/conda/lib/python3.10/site-packages (from torch>=2.0.1->wildlife-tools) (3.2.1)\r\n",
      "Requirement already satisfied: jinja2 in /opt/conda/lib/python3.10/site-packages (from torch>=2.0.1->wildlife-tools) (3.1.2)\r\n",
      "Requirement already satisfied: fsspec in /opt/conda/lib/python3.10/site-packages (from torch>=2.0.1->wildlife-tools) (2024.5.0)\r\n",
      "Requirement already satisfied: regex!=2019.12.17 in /opt/conda/lib/python3.10/site-packages (from transformers>=4.30.2->wildlife-tools) (2023.12.25)\r\n",
      "Requirement already satisfied: requests in /opt/conda/lib/python3.10/site-packages (from transformers>=4.30.2->wildlife-tools) (2.32.3)\r\n",
      "Requirement already satisfied: tokenizers<0.20,>=0.19 in /opt/conda/lib/python3.10/site-packages (from transformers>=4.30.2->wildlife-tools) (0.19.1)\r\n",
      "Requirement already satisfied: matplotlib>=3.5.1 in /opt/conda/lib/python3.10/site-packages (from wildlife-datasets>=0.3.4->wildlife-tools) (3.7.5)\r\n",
      "Requirement already satisfied: gdown in /opt/conda/lib/python3.10/site-packages (from wildlife-datasets>=0.3.4->wildlife-tools) (5.2.0)\r\n",
      "Requirement already satisfied: kaggle in /opt/conda/lib/python3.10/site-packages (from wildlife-datasets>=0.3.4->wildlife-tools) (1.6.14)\r\n",
      "Requirement already satisfied: absl-py>=0.4 in /opt/conda/lib/python3.10/site-packages (from tensorboard->wildlife-tools) (1.4.0)\r\n",
      "Requirement already satisfied: grpcio>=1.48.2 in /opt/conda/lib/python3.10/site-packages (from tensorboard->wildlife-tools) (1.60.0)\r\n",
      "Requirement already satisfied: google-auth<3,>=1.6.3 in /opt/conda/lib/python3.10/site-packages (from tensorboard->wildlife-tools) (2.26.1)\r\n",
      "Requirement already satisfied: google-auth-oauthlib<2,>=0.5 in /opt/conda/lib/python3.10/site-packages (from tensorboard->wildlife-tools) (1.2.0)\r\n",
      "Requirement already satisfied: markdown>=2.6.8 in /opt/conda/lib/python3.10/site-packages (from tensorboard->wildlife-tools) (3.5.2)\r\n",
      "Requirement already satisfied: protobuf<4.24,>=3.19.6 in /opt/conda/lib/python3.10/site-packages (from tensorboard->wildlife-tools) (3.20.3)\r\n",
      "Requirement already satisfied: setuptools>=41.0.0 in /opt/conda/lib/python3.10/site-packages (from tensorboard->wildlife-tools) (69.0.3)\r\n",
      "Requirement already satisfied: six>1.9 in /opt/conda/lib/python3.10/site-packages (from tensorboard->wildlife-tools) (1.16.0)\r\n",
      "Requirement already satisfied: tensorboard-data-server<0.8.0,>=0.7.0 in /opt/conda/lib/python3.10/site-packages (from tensorboard->wildlife-tools) (0.7.2)\r\n",
      "Requirement already satisfied: werkzeug>=1.0.1 in /opt/conda/lib/python3.10/site-packages (from tensorboard->wildlife-tools) (3.0.3)\r\n",
      "Requirement already satisfied: cachetools<6.0,>=2.0.0 in /opt/conda/lib/python3.10/site-packages (from google-auth<3,>=1.6.3->tensorboard->wildlife-tools) (4.2.4)\r\n",
      "Requirement already satisfied: pyasn1-modules>=0.2.1 in /opt/conda/lib/python3.10/site-packages (from google-auth<3,>=1.6.3->tensorboard->wildlife-tools) (0.3.0)\r\n",
      "Requirement already satisfied: rsa<5,>=3.1.4 in /opt/conda/lib/python3.10/site-packages (from google-auth<3,>=1.6.3->tensorboard->wildlife-tools) (4.9)\r\n",
      "Requirement already satisfied: requests-oauthlib>=0.7.0 in /opt/conda/lib/python3.10/site-packages (from google-auth-oauthlib<2,>=0.5->tensorboard->wildlife-tools) (1.3.1)\r\n",
      "Requirement already satisfied: contourpy>=1.0.1 in /opt/conda/lib/python3.10/site-packages (from matplotlib>=3.5.1->wildlife-datasets>=0.3.4->wildlife-tools) (1.2.0)\r\n",
      "Requirement already satisfied: cycler>=0.10 in /opt/conda/lib/python3.10/site-packages (from matplotlib>=3.5.1->wildlife-datasets>=0.3.4->wildlife-tools) (0.12.1)\r\n",
      "Requirement already satisfied: fonttools>=4.22.0 in /opt/conda/lib/python3.10/site-packages (from matplotlib>=3.5.1->wildlife-datasets>=0.3.4->wildlife-tools) (4.47.0)\r\n",
      "Requirement already satisfied: kiwisolver>=1.0.1 in /opt/conda/lib/python3.10/site-packages (from matplotlib>=3.5.1->wildlife-datasets>=0.3.4->wildlife-tools) (1.4.5)\r\n",
      "Requirement already satisfied: pyparsing>=2.3.1 in /opt/conda/lib/python3.10/site-packages (from matplotlib>=3.5.1->wildlife-datasets>=0.3.4->wildlife-tools) (3.1.1)\r\n",
      "Requirement already satisfied: charset-normalizer<4,>=2 in /opt/conda/lib/python3.10/site-packages (from requests->transformers>=4.30.2->wildlife-tools) (3.3.2)\r\n",
      "Requirement already satisfied: idna<4,>=2.5 in /opt/conda/lib/python3.10/site-packages (from requests->transformers>=4.30.2->wildlife-tools) (3.6)\r\n",
      "Requirement already satisfied: urllib3<3,>=1.21.1 in /opt/conda/lib/python3.10/site-packages (from requests->transformers>=4.30.2->wildlife-tools) (1.26.18)\r\n",
      "Requirement already satisfied: certifi>=2017.4.17 in /opt/conda/lib/python3.10/site-packages (from requests->transformers>=4.30.2->wildlife-tools) (2024.7.4)\r\n",
      "Requirement already satisfied: MarkupSafe>=2.1.1 in /opt/conda/lib/python3.10/site-packages (from werkzeug>=1.0.1->tensorboard->wildlife-tools) (2.1.3)\r\n",
      "Requirement already satisfied: beautifulsoup4 in /opt/conda/lib/python3.10/site-packages (from gdown->wildlife-datasets>=0.3.4->wildlife-tools) (4.12.2)\r\n",
      "Requirement already satisfied: python-slugify in /opt/conda/lib/python3.10/site-packages (from kaggle->wildlife-datasets>=0.3.4->wildlife-tools) (8.0.4)\r\n",
      "Requirement already satisfied: bleach in /opt/conda/lib/python3.10/site-packages (from kaggle->wildlife-datasets>=0.3.4->wildlife-tools) (6.1.0)\r\n",
      "Requirement already satisfied: mpmath<1.4,>=1.1.0 in /opt/conda/lib/python3.10/site-packages (from sympy->torch>=2.0.1->wildlife-tools) (1.3.0)\r\n",
      "Requirement already satisfied: pyasn1<0.6.0,>=0.4.6 in /opt/conda/lib/python3.10/site-packages (from pyasn1-modules>=0.2.1->google-auth<3,>=1.6.3->tensorboard->wildlife-tools) (0.5.1)\r\n",
      "Requirement already satisfied: oauthlib>=3.0.0 in /opt/conda/lib/python3.10/site-packages (from requests-oauthlib>=0.7.0->google-auth-oauthlib<2,>=0.5->tensorboard->wildlife-tools) (3.2.2)\r\n",
      "Requirement already satisfied: soupsieve>1.2 in /opt/conda/lib/python3.10/site-packages (from beautifulsoup4->gdown->wildlife-datasets>=0.3.4->wildlife-tools) (2.5)\r\n",
      "Requirement already satisfied: webencodings in /opt/conda/lib/python3.10/site-packages (from bleach->kaggle->wildlife-datasets>=0.3.4->wildlife-tools) (0.5.1)\r\n",
      "Requirement already satisfied: text-unidecode>=1.3 in /opt/conda/lib/python3.10/site-packages (from python-slugify->kaggle->wildlife-datasets>=0.3.4->wildlife-tools) (1.3)\r\n",
      "Requirement already satisfied: PySocks!=1.5.7,>=1.5.6 in /opt/conda/lib/python3.10/site-packages (from requests[socks]->gdown->wildlife-datasets>=0.3.4->wildlife-tools) (1.7.1)\r\n",
      "Downloading wildlife_tools-0.0.9-py3-none-any.whl (25 kB)\r\n",
      "Downloading faiss_gpu-1.7.2-cp310-cp310-manylinux_2_17_x86_64.manylinux2014_x86_64.whl (85.5 MB)\r\n",
      "\u001b[2K   \u001b[90m━━━━━━━━━━━━━━━━━━━━━━━━━━━━━━━━━━━━━━━━\u001b[0m \u001b[32m85.5/85.5 MB\u001b[0m \u001b[31m16.8 MB/s\u001b[0m eta \u001b[36m0:00:00\u001b[0m\r\n",
      "\u001b[?25hDownloading pycocotools-2.0.8-cp310-cp310-manylinux_2_17_x86_64.manylinux2014_x86_64.whl (427 kB)\r\n",
      "\u001b[2K   \u001b[90m━━━━━━━━━━━━━━━━━━━━━━━━━━━━━━━━━━━━━━━━\u001b[0m \u001b[32m427.8/427.8 kB\u001b[0m \u001b[31m26.2 MB/s\u001b[0m eta \u001b[36m0:00:00\u001b[0m\r\n",
      "\u001b[?25hDownloading pytorch_metric_learning-2.6.0-py3-none-any.whl (119 kB)\r\n",
      "\u001b[2K   \u001b[90m━━━━━━━━━━━━━━━━━━━━━━━━━━━━━━━━━━━━━━━━\u001b[0m \u001b[32m119.3/119.3 kB\u001b[0m \u001b[31m10.4 MB/s\u001b[0m eta \u001b[36m0:00:00\u001b[0m\r\n",
      "\u001b[?25hInstalling collected packages: faiss-gpu, pytorch-metric-learning, pycocotools, wildlife-tools\r\n",
      "Successfully installed faiss-gpu-1.7.2 pycocotools-2.0.8 pytorch-metric-learning-2.6.0 wildlife-tools-0.0.9\r\n",
      "Note: you may need to restart the kernel to use updated packages.\n"
     ]
    }
   ],
   "source": [
    "%pip install wildlife-tools"
   ]
  },
  {
   "cell_type": "code",
   "execution_count": 3,
   "id": "e9f72b1f",
   "metadata": {
    "execution": {
     "iopub.execute_input": "2024-08-06T07:23:52.467609Z",
     "iopub.status.busy": "2024-08-06T07:23:52.467274Z",
     "iopub.status.idle": "2024-08-06T07:24:04.798063Z",
     "shell.execute_reply": "2024-08-06T07:24:04.796984Z"
    },
    "papermill": {
     "duration": 12.354145,
     "end_time": "2024-08-06T07:24:04.800306",
     "exception": false,
     "start_time": "2024-08-06T07:23:52.446161",
     "status": "completed"
    },
    "tags": []
   },
   "outputs": [
    {
     "name": "stdout",
     "output_type": "stream",
     "text": [
      "Requirement already satisfied: timm in /opt/conda/lib/python3.10/site-packages (1.0.7)\r\n",
      "Requirement already satisfied: torch in /opt/conda/lib/python3.10/site-packages (from timm) (2.1.2)\r\n",
      "Requirement already satisfied: torchvision in /opt/conda/lib/python3.10/site-packages (from timm) (0.16.2)\r\n",
      "Requirement already satisfied: pyyaml in /opt/conda/lib/python3.10/site-packages (from timm) (6.0.1)\r\n",
      "Requirement already satisfied: huggingface_hub in /opt/conda/lib/python3.10/site-packages (from timm) (0.23.4)\r\n",
      "Requirement already satisfied: safetensors in /opt/conda/lib/python3.10/site-packages (from timm) (0.4.3)\r\n",
      "Requirement already satisfied: filelock in /opt/conda/lib/python3.10/site-packages (from huggingface_hub->timm) (3.13.1)\r\n",
      "Requirement already satisfied: fsspec>=2023.5.0 in /opt/conda/lib/python3.10/site-packages (from huggingface_hub->timm) (2024.5.0)\r\n",
      "Requirement already satisfied: packaging>=20.9 in /opt/conda/lib/python3.10/site-packages (from huggingface_hub->timm) (21.3)\r\n",
      "Requirement already satisfied: requests in /opt/conda/lib/python3.10/site-packages (from huggingface_hub->timm) (2.32.3)\r\n",
      "Requirement already satisfied: tqdm>=4.42.1 in /opt/conda/lib/python3.10/site-packages (from huggingface_hub->timm) (4.66.4)\r\n",
      "Requirement already satisfied: typing-extensions>=3.7.4.3 in /opt/conda/lib/python3.10/site-packages (from huggingface_hub->timm) (4.9.0)\r\n",
      "Requirement already satisfied: sympy in /opt/conda/lib/python3.10/site-packages (from torch->timm) (1.13.0)\r\n",
      "Requirement already satisfied: networkx in /opt/conda/lib/python3.10/site-packages (from torch->timm) (3.2.1)\r\n",
      "Requirement already satisfied: jinja2 in /opt/conda/lib/python3.10/site-packages (from torch->timm) (3.1.2)\r\n",
      "Requirement already satisfied: numpy in /opt/conda/lib/python3.10/site-packages (from torchvision->timm) (1.26.4)\r\n",
      "Requirement already satisfied: pillow!=8.3.*,>=5.3.0 in /opt/conda/lib/python3.10/site-packages (from torchvision->timm) (9.5.0)\r\n",
      "Requirement already satisfied: pyparsing!=3.0.5,>=2.0.2 in /opt/conda/lib/python3.10/site-packages (from packaging>=20.9->huggingface_hub->timm) (3.1.1)\r\n",
      "Requirement already satisfied: MarkupSafe>=2.0 in /opt/conda/lib/python3.10/site-packages (from jinja2->torch->timm) (2.1.3)\r\n",
      "Requirement already satisfied: charset-normalizer<4,>=2 in /opt/conda/lib/python3.10/site-packages (from requests->huggingface_hub->timm) (3.3.2)\r\n",
      "Requirement already satisfied: idna<4,>=2.5 in /opt/conda/lib/python3.10/site-packages (from requests->huggingface_hub->timm) (3.6)\r\n",
      "Requirement already satisfied: urllib3<3,>=1.21.1 in /opt/conda/lib/python3.10/site-packages (from requests->huggingface_hub->timm) (1.26.18)\r\n",
      "Requirement already satisfied: certifi>=2017.4.17 in /opt/conda/lib/python3.10/site-packages (from requests->huggingface_hub->timm) (2024.7.4)\r\n",
      "Requirement already satisfied: mpmath<1.4,>=1.1.0 in /opt/conda/lib/python3.10/site-packages (from sympy->torch->timm) (1.3.0)\r\n",
      "Note: you may need to restart the kernel to use updated packages.\n"
     ]
    }
   ],
   "source": [
    "%pip install timm"
   ]
  },
  {
   "cell_type": "code",
   "execution_count": null,
   "id": "e673aff3",
   "metadata": {
    "papermill": {
     "duration": 0.022547,
     "end_time": "2024-08-06T07:24:04.842762",
     "exception": false,
     "start_time": "2024-08-06T07:24:04.820215",
     "status": "completed"
    },
    "tags": []
   },
   "outputs": [],
   "source": []
  },
  {
   "cell_type": "code",
   "execution_count": 4,
   "id": "1d42afbf",
   "metadata": {
    "execution": {
     "iopub.execute_input": "2024-08-06T07:24:04.883261Z",
     "iopub.status.busy": "2024-08-06T07:24:04.882902Z",
     "iopub.status.idle": "2024-08-06T07:24:24.565094Z",
     "shell.execute_reply": "2024-08-06T07:24:24.564223Z"
    },
    "papermill": {
     "duration": 19.705241,
     "end_time": "2024-08-06T07:24:24.567425",
     "exception": false,
     "start_time": "2024-08-06T07:24:04.862184",
     "status": "completed"
    },
    "tags": []
   },
   "outputs": [
    {
     "name": "stderr",
     "output_type": "stream",
     "text": [
      "2024-08-06 07:24:13.585032: E external/local_xla/xla/stream_executor/cuda/cuda_dnn.cc:9261] Unable to register cuDNN factory: Attempting to register factory for plugin cuDNN when one has already been registered\n",
      "2024-08-06 07:24:13.585140: E external/local_xla/xla/stream_executor/cuda/cuda_fft.cc:607] Unable to register cuFFT factory: Attempting to register factory for plugin cuFFT when one has already been registered\n",
      "2024-08-06 07:24:13.697897: E external/local_xla/xla/stream_executor/cuda/cuda_blas.cc:1515] Unable to register cuBLAS factory: Attempting to register factory for plugin cuBLAS when one has already been registered\n"
     ]
    }
   ],
   "source": [
    "from itertools import chain\n",
    "import timm\n",
    "import pandas as pd\n",
    "import torchvision.transforms as T\n",
    "from torch.optim import SGD\n",
    "\n",
    "from wildlife_tools.data import WildlifeDataset, SplitMetadata\n",
    "from wildlife_tools.train import ArcFaceLoss, BasicTrainer\n",
    "\n",
    "import timm\n",
    "import numpy as np\n",
    "from wildlife_datasets.datasets import MacaqueFaces\n",
    "from wildlife_tools.data import WildlifeDataset\n",
    "import torchvision.transforms as T\n",
    "from wildlife_datasets import datasets, splits\n",
    "from wildlife_tools.features import DeepFeatures\n",
    "from wildlife_tools.similarity import CosineSimilarity\n",
    "from wildlife_tools.inference import KnnClassifier\n",
    "from sklearn.metrics import precision_score, recall_score, f1_score\n",
    "\n",
    "import timm\n",
    "import itertools\n",
    "from torch.optim import SGD\n",
    "from wildlife_tools.train import ArcFaceLoss, BasicTrainer , TripletLoss"
   ]
  },
  {
   "cell_type": "markdown",
   "id": "6ffe8a08",
   "metadata": {
    "papermill": {
     "duration": 0.019657,
     "end_time": "2024-08-06T07:24:24.607534",
     "exception": false,
     "start_time": "2024-08-06T07:24:24.587877",
     "status": "completed"
    },
    "tags": []
   },
   "source": [
    "**IPanda50 Dataset**"
   ]
  },
  {
   "cell_type": "code",
   "execution_count": 5,
   "id": "3b588caf",
   "metadata": {
    "execution": {
     "iopub.execute_input": "2024-08-06T07:24:24.649274Z",
     "iopub.status.busy": "2024-08-06T07:24:24.648299Z",
     "iopub.status.idle": "2024-08-06T07:54:30.869374Z",
     "shell.execute_reply": "2024-08-06T07:54:30.868179Z"
    },
    "papermill": {
     "duration": 1806.243916,
     "end_time": "2024-08-06T07:54:30.871587",
     "exception": false,
     "start_time": "2024-08-06T07:24:24.627671",
     "status": "completed"
    },
    "tags": []
   },
   "outputs": [
    {
     "name": "stdout",
     "output_type": "stream",
     "text": [
      "DATASET IPanda50: DOWNLOADING STARTED.\n"
     ]
    },
    {
     "name": "stderr",
     "output_type": "stream",
     "text": [
      "Downloading...\n",
      "From (original): https://drive.google.com/uc?id=1nkh-g6a8JvWy-XsMaZqrN2AXoPlaXuFg\n",
      "From (redirected): https://drive.google.com/uc?id=1nkh-g6a8JvWy-XsMaZqrN2AXoPlaXuFg&confirm=t&uuid=2aa43d58-768f-4d94-a07d-bad329d67675\n",
      "To: /kaggle/data/IPanda50/iPanda50-images.zip\n",
      "100%|██████████| 926M/926M [00:05<00:00, 165MB/s]\n",
      "Downloading...\n",
      "From: https://drive.google.com/uc?id=1gVREtFWkNec4xwqOyKkpuIQIyWU_Y_Ob\n",
      "To: /kaggle/data/IPanda50/iPanda50-split.zip\n",
      "100%|██████████| 140k/140k [00:00<00:00, 76.8MB/s]\n",
      "Downloading...\n",
      "From: https://drive.google.com/uc?id=1jdACN98uOxedZDT-6X3rpbooLAAUEbNY\n",
      "To: /kaggle/data/IPanda50/iPanda50-eyes-labels.zip\n",
      "100%|██████████| 2.55M/2.55M [00:00<00:00, 154MB/s]\n"
     ]
    },
    {
     "name": "stdout",
     "output_type": "stream",
     "text": [
      "DATASET IPanda50: EXTRACTING STARTED.\n",
      "DATASET IPanda50: FINISHED.\n",
      "\n"
     ]
    },
    {
     "data": {
      "application/vnd.jupyter.widget-view+json": {
       "model_id": "da9e7e03cd4d482983afede08b9eb091",
       "version_major": 2,
       "version_minor": 0
      },
      "text/plain": [
       "config.json:   0%|          | 0.00/609 [00:00<?, ?B/s]"
      ]
     },
     "metadata": {},
     "output_type": "display_data"
    },
    {
     "data": {
      "application/vnd.jupyter.widget-view+json": {
       "model_id": "4500e18d63014d30a6c49d1ad4338e78",
       "version_major": 2,
       "version_minor": 0
      },
      "text/plain": [
       "pytorch_model.bin:   0%|          | 0.00/204M [00:00<?, ?B/s]"
      ]
     },
     "metadata": {},
     "output_type": "display_data"
    },
    {
     "name": "stderr",
     "output_type": "stream",
     "text": [
      "Epoch 0:   0%|                                                               | 0/54 [00:00<?, ?it/s]/opt/conda/lib/python3.10/multiprocessing/popen_fork.py:66: RuntimeWarning: os.fork() was called. os.fork() is incompatible with multithreaded code, and JAX is multithreaded, so this will likely lead to a deadlock.\n",
      "  self.pid = os.fork()\n",
      "Epoch 0: 100%|██████████████████████████████████████████████████████| 54/54 [01:27<00:00,  1.48s/it]/opt/conda/lib/python3.10/multiprocessing/popen_fork.py:66: RuntimeWarning: os.fork() was called. os.fork() is incompatible with multithreaded code, and JAX is multithreaded, so this will likely lead to a deadlock.\n",
      "  self.pid = os.fork()\n",
      "Epoch 0: 100%|██████████████████████████████████████████████████████| 54/54 [01:27<00:00,  1.62s/it]\n"
     ]
    },
    {
     "name": "stdout",
     "output_type": "stream",
     "text": [
      "Epoch 1: Average Loss = 0.24666471779346466\n"
     ]
    },
    {
     "name": "stderr",
     "output_type": "stream",
     "text": [
      "Epoch 1: 100%|██████████████████████████████████████████████████████| 54/54 [01:28<00:00,  1.63s/it]\n"
     ]
    },
    {
     "name": "stdout",
     "output_type": "stream",
     "text": [
      "Epoch 2: Average Loss = 0.2329094260931015\n"
     ]
    },
    {
     "name": "stderr",
     "output_type": "stream",
     "text": [
      "Epoch 2: 100%|██████████████████████████████████████████████████████| 54/54 [01:28<00:00,  1.63s/it]\n"
     ]
    },
    {
     "name": "stdout",
     "output_type": "stream",
     "text": [
      "Epoch 3: Average Loss = 0.2285996824502945\n"
     ]
    },
    {
     "name": "stderr",
     "output_type": "stream",
     "text": [
      "Epoch 3: 100%|██████████████████████████████████████████████████████| 54/54 [01:28<00:00,  1.64s/it]\n"
     ]
    },
    {
     "name": "stdout",
     "output_type": "stream",
     "text": [
      "Epoch 4: Average Loss = 0.22578495740890503\n"
     ]
    },
    {
     "name": "stderr",
     "output_type": "stream",
     "text": [
      "Epoch 4: 100%|██████████████████████████████████████████████████████| 54/54 [01:28<00:00,  1.64s/it]\n"
     ]
    },
    {
     "name": "stdout",
     "output_type": "stream",
     "text": [
      "Epoch 5: Average Loss = 0.22178858518600464\n"
     ]
    },
    {
     "name": "stderr",
     "output_type": "stream",
     "text": [
      "Epoch 5: 100%|██████████████████████████████████████████████████████| 54/54 [01:28<00:00,  1.63s/it]\n"
     ]
    },
    {
     "name": "stdout",
     "output_type": "stream",
     "text": [
      "Epoch 6: Average Loss = 0.21800631284713745\n"
     ]
    },
    {
     "name": "stderr",
     "output_type": "stream",
     "text": [
      "Epoch 6: 100%|██████████████████████████████████████████████████████| 54/54 [01:28<00:00,  1.63s/it]\n"
     ]
    },
    {
     "name": "stdout",
     "output_type": "stream",
     "text": [
      "Epoch 7: Average Loss = 0.21674109995365143\n"
     ]
    },
    {
     "name": "stderr",
     "output_type": "stream",
     "text": [
      "Epoch 7: 100%|██████████████████████████████████████████████████████| 54/54 [01:28<00:00,  1.63s/it]\n"
     ]
    },
    {
     "name": "stdout",
     "output_type": "stream",
     "text": [
      "Epoch 8: Average Loss = 0.2150977998971939\n"
     ]
    },
    {
     "name": "stderr",
     "output_type": "stream",
     "text": [
      "Epoch 8: 100%|██████████████████████████████████████████████████████| 54/54 [01:28<00:00,  1.63s/it]\n"
     ]
    },
    {
     "name": "stdout",
     "output_type": "stream",
     "text": [
      "Epoch 9: Average Loss = 0.2085925191640854\n"
     ]
    },
    {
     "name": "stderr",
     "output_type": "stream",
     "text": [
      "Epoch 9: 100%|██████████████████████████████████████████████████████| 54/54 [01:28<00:00,  1.63s/it]\n"
     ]
    },
    {
     "name": "stdout",
     "output_type": "stream",
     "text": [
      "Epoch 10: Average Loss = 0.21212360262870789\n"
     ]
    },
    {
     "name": "stderr",
     "output_type": "stream",
     "text": [
      "Epoch 10: 100%|█████████████████████████████████████████████████████| 54/54 [01:28<00:00,  1.63s/it]\n"
     ]
    },
    {
     "name": "stdout",
     "output_type": "stream",
     "text": [
      "Epoch 11: Average Loss = 0.20773698389530182\n"
     ]
    },
    {
     "name": "stderr",
     "output_type": "stream",
     "text": [
      "Epoch 11: 100%|█████████████████████████████████████████████████████| 54/54 [01:27<00:00,  1.63s/it]\n"
     ]
    },
    {
     "name": "stdout",
     "output_type": "stream",
     "text": [
      "Epoch 12: Average Loss = 0.20619243383407593\n"
     ]
    },
    {
     "name": "stderr",
     "output_type": "stream",
     "text": [
      "Epoch 12: 100%|█████████████████████████████████████████████████████| 54/54 [01:28<00:00,  1.63s/it]\n"
     ]
    },
    {
     "name": "stdout",
     "output_type": "stream",
     "text": [
      "Epoch 13: Average Loss = 0.2049596756696701\n"
     ]
    },
    {
     "name": "stderr",
     "output_type": "stream",
     "text": [
      "Epoch 13: 100%|█████████████████████████████████████████████████████| 54/54 [01:28<00:00,  1.63s/it]\n"
     ]
    },
    {
     "name": "stdout",
     "output_type": "stream",
     "text": [
      "Epoch 14: Average Loss = 0.20150987803936005\n"
     ]
    },
    {
     "name": "stderr",
     "output_type": "stream",
     "text": [
      "Epoch 14: 100%|█████████████████████████████████████████████████████| 54/54 [01:28<00:00,  1.63s/it]\n"
     ]
    },
    {
     "name": "stdout",
     "output_type": "stream",
     "text": [
      "Epoch 15: Average Loss = 0.20098447799682617\n"
     ]
    },
    {
     "name": "stderr",
     "output_type": "stream",
     "text": [
      "Epoch 15: 100%|█████████████████████████████████████████████████████| 54/54 [01:28<00:00,  1.63s/it]\n"
     ]
    },
    {
     "name": "stdout",
     "output_type": "stream",
     "text": [
      "Epoch 16: Average Loss = 0.2009354680776596\n"
     ]
    },
    {
     "name": "stderr",
     "output_type": "stream",
     "text": [
      "Epoch 16: 100%|█████████████████████████████████████████████████████| 54/54 [01:28<00:00,  1.63s/it]\n"
     ]
    },
    {
     "name": "stdout",
     "output_type": "stream",
     "text": [
      "Epoch 17: Average Loss = 0.19925376772880554\n"
     ]
    },
    {
     "name": "stderr",
     "output_type": "stream",
     "text": [
      "Epoch 17: 100%|█████████████████████████████████████████████████████| 54/54 [01:28<00:00,  1.63s/it]\n"
     ]
    },
    {
     "name": "stdout",
     "output_type": "stream",
     "text": [
      "Epoch 18: Average Loss = 0.1955854296684265\n"
     ]
    },
    {
     "name": "stderr",
     "output_type": "stream",
     "text": [
      "Epoch 18: 100%|█████████████████████████████████████████████████████| 54/54 [01:28<00:00,  1.63s/it]\n"
     ]
    },
    {
     "name": "stdout",
     "output_type": "stream",
     "text": [
      "Epoch 19: Average Loss = 0.19826319813728333\n"
     ]
    },
    {
     "name": "stderr",
     "output_type": "stream",
     "text": [
      "Epoch 19: 100%|█████████████████████████████████████████████████████| 54/54 [01:28<00:00,  1.63s/it]"
     ]
    },
    {
     "name": "stdout",
     "output_type": "stream",
     "text": [
      "Epoch 20: Average Loss = 0.19680996239185333\n"
     ]
    },
    {
     "name": "stderr",
     "output_type": "stream",
     "text": [
      "\n"
     ]
    }
   ],
   "source": [
    "\n",
    "\n",
    "# Download dataset (if not already downloaded)\n",
    "datasets.IPanda50.get_data('../data/IPanda50')\n",
    "# Load dataset metadata\n",
    "metadata = datasets.IPanda50('../data/IPanda50')\n",
    "transform = T.Compose([T.Resize([224, 224]), T.ToTensor(), T.Normalize(mean=(0.485, 0.456, 0.406), std=(0.229, 0.224, 0.225))])\n",
    "dataset = WildlifeDataset(metadata.df, metadata.root, transform=transform)\n",
    "\n",
    "\n",
    "# Download MegaDescriptor-T backbone from HuggingFace Hub\n",
    "backbone = timm.create_model('hf-hub:BVRA/MegaDescriptor-T-224', num_classes=0, pretrained=True)\n",
    "\n",
    "# Arcface loss - needs backbone output size and number of classes.\n",
    "objective = TripletLoss()\n",
    "\n",
    "# Optimize parameters in backbone and in objective using single optimizer.\n",
    "params = itertools.chain(backbone.parameters(), objective.parameters())\n",
    "optimizer = SGD(params=params, lr=0.001, momentum=0.9)\n",
    "\n",
    "def print_epoch_loss(trainer, epoch_data):\n",
    "    # This function will print the average loss at the end of each epoch\n",
    "    print(f\"Epoch {trainer.epoch}: Average Loss = {epoch_data['train_loss_epoch_avg']}\")\n",
    "\n",
    "\n",
    "trainer = BasicTrainer(\n",
    "    dataset=dataset,\n",
    "    model=backbone,\n",
    "    objective=objective,\n",
    "    optimizer=optimizer,\n",
    "    epochs=20,\n",
    "    device='cuda',\n",
    "    epoch_callback=print_epoch_loss\n",
    ")\n",
    "\n",
    "trainer.train()\n",
    "\n"
   ]
  },
  {
   "cell_type": "code",
   "execution_count": 6,
   "id": "8bdc12dd",
   "metadata": {
    "execution": {
     "iopub.execute_input": "2024-08-06T07:54:31.102635Z",
     "iopub.status.busy": "2024-08-06T07:54:31.102254Z",
     "iopub.status.idle": "2024-08-06T07:54:31.414990Z",
     "shell.execute_reply": "2024-08-06T07:54:31.414134Z"
    },
    "papermill": {
     "duration": 0.429602,
     "end_time": "2024-08-06T07:54:31.417322",
     "exception": false,
     "start_time": "2024-08-06T07:54:30.987720",
     "status": "completed"
    },
    "tags": []
   },
   "outputs": [],
   "source": [
    "import torch\n",
    "\n",
    "trainer.save(\"retrained_chks\", file_name=\"tripletloss_IPanda50_retrained_checkpoint.pth\")\n"
   ]
  },
  {
   "cell_type": "code",
   "execution_count": 7,
   "id": "dcb62298",
   "metadata": {
    "execution": {
     "iopub.execute_input": "2024-08-06T07:54:31.656902Z",
     "iopub.status.busy": "2024-08-06T07:54:31.655746Z",
     "iopub.status.idle": "2024-08-06T07:55:33.454827Z",
     "shell.execute_reply": "2024-08-06T07:55:33.453388Z"
    },
    "papermill": {
     "duration": 61.923566,
     "end_time": "2024-08-06T07:55:33.456942",
     "exception": false,
     "start_time": "2024-08-06T07:54:31.533376",
     "status": "completed"
    },
    "tags": []
   },
   "outputs": [
    {
     "name": "stderr",
     "output_type": "stream",
     "text": [
      "100%|█████████████████████████████████████████████████████████████████| 1/1 [00:01<00:00,  1.49s/it]\n",
      "100%|███████████████████████████████████████████████████████████████| 53/53 [01:00<00:00,  1.14s/it]\n"
     ]
    }
   ],
   "source": [
    "dataset_database_P = WildlifeDataset(metadata.df.iloc[100:,:], metadata.root, transform=transform)\n",
    "dataset_query_P = WildlifeDataset(metadata.df.iloc[:100,:], metadata.root, transform=transform)\n",
    "\n",
    "# name = 'hf-hub:BVRA/MegaDescriptor-T-224'\n",
    "extractor_P = DeepFeatures(trainer.model , device = 'cuda')\n",
    "\n",
    "query_P, database_P = extractor_P(dataset_query_P), extractor_P(dataset_database_P)\n"
   ]
  },
  {
   "cell_type": "code",
   "execution_count": 8,
   "id": "240075a9",
   "metadata": {
    "execution": {
     "iopub.execute_input": "2024-08-06T07:55:33.700280Z",
     "iopub.status.busy": "2024-08-06T07:55:33.699563Z",
     "iopub.status.idle": "2024-08-06T07:55:33.744350Z",
     "shell.execute_reply": "2024-08-06T07:55:33.743133Z"
    },
    "papermill": {
     "duration": 0.167748,
     "end_time": "2024-08-06T07:55:33.746454",
     "exception": false,
     "start_time": "2024-08-06T07:55:33.578706",
     "status": "completed"
    },
    "tags": []
   },
   "outputs": [
    {
     "name": "stdout",
     "output_type": "stream",
     "text": [
      "{'cosine': array([[-0.02517136,  0.46618938,  0.10621435, ...,  0.41428626,\n",
      "         0.35380605,  0.04320086],\n",
      "       [ 0.04157169,  0.5460777 , -0.08031382, ...,  0.16820785,\n",
      "         0.6844107 , -0.14792083],\n",
      "       [-0.0627168 ,  0.05465455,  0.13370544, ...,  0.03285281,\n",
      "         0.26425716, -0.08095322],\n",
      "       ...,\n",
      "       [ 0.12668093,  0.14969292, -0.08159777, ...,  0.05781694,\n",
      "         0.1480492 , -0.10006993],\n",
      "       [-0.08160634,  0.00846808,  0.07374428, ..., -0.05845805,\n",
      "         0.13918804,  0.00830896],\n",
      "       [-0.02426066,  0.10131115,  0.6356449 , ...,  0.1971657 ,\n",
      "         0.03030281, -0.02112505]], dtype=float32)}\n"
     ]
    }
   ],
   "source": [
    "similarity_function = CosineSimilarity()\n",
    "similarity_P = similarity_function(query_P, database_P)\n",
    "print(similarity_P)\n"
   ]
  },
  {
   "cell_type": "code",
   "execution_count": 9,
   "id": "9f74d5bf",
   "metadata": {
    "execution": {
     "iopub.execute_input": "2024-08-06T07:55:33.990211Z",
     "iopub.status.busy": "2024-08-06T07:55:33.989417Z",
     "iopub.status.idle": "2024-08-06T07:55:34.012142Z",
     "shell.execute_reply": "2024-08-06T07:55:34.011104Z"
    },
    "papermill": {
     "duration": 0.146433,
     "end_time": "2024-08-06T07:55:34.014053",
     "exception": false,
     "start_time": "2024-08-06T07:55:33.867620",
     "status": "completed"
    },
    "tags": []
   },
   "outputs": [
    {
     "name": "stdout",
     "output_type": "stream",
     "text": [
      "Predictions for 100 test Images:-\n",
      " ['10_hexing' '37_xinger' '18_miaomiao' '33_wuyi' '47_yingying' '15_maosun'\n",
      " '09_fushun' '10_hexing' '36_xingda' '19_nannan' '08_fulai' '31_shurong'\n",
      " '44_yayi' '39_xinghui' '28_sa' '14_maodou' '14_maodou' '00_aibang'\n",
      " '21_nina' '35_xilan' '19_nannan' '33_wuyi' '47_yingying' '49_yuanrun'\n",
      " '36_xingda' '34_xiaoqiao' '16_maotao' '48_yongbang' '11_jiaoao'\n",
      " '49_yuanrun' '44_yayi' '28_sa' '35_xilan' '35_xilan' '02_baolan'\n",
      " '31_shurong' '31_shurong' '02_baolan' '23_qiubang' '26_qiyuan'\n",
      " '34_xiaoqiao' '35_xilan' '08_fulai' '00_aibang' '28_sa' '11_jiaoao'\n",
      " '46_yazhu' '44_yayi' '14_maodou' '30_shuqing' '36_xingda' '38_xingfan'\n",
      " '33_wuyi' '10_hexing' '10_hexing' '00_aibang' '49_yuanrun' '35_xilan'\n",
      " '04_chengdui' '10_hexing' '39_xinghui' '36_xingda' '10_hexing'\n",
      " '36_xingda' '16_maotao' '22_nini' '00_aibang' '39_xinghui' '10_hexing'\n",
      " '17_meibang' '00_aibang' '28_sa' '14_maodou' '15_maosun' '32_susu'\n",
      " '26_qiyuan' '27_rourou' '23_qiubang' '18_miaomiao' '48_yongbang'\n",
      " '45_yayun' '16_maotao' '33_wuyi' '13_jingliang' '37_xinger' '08_fulai'\n",
      " '09_fushun' '40_xingrong' '22_nini' '49_yuanrun' '09_fushun' '28_sa'\n",
      " '48_yongbang' '47_yingying' '28_sa' '15_maosun' '39_xinghui' '20_nike'\n",
      " '43_yaxing' '47_yingying']\n"
     ]
    },
    {
     "name": "stderr",
     "output_type": "stream",
     "text": [
      "/opt/conda/lib/python3.10/site-packages/wildlife_tools/inference/classifier.py:61: FutureWarning: DataFrame.fillna with 'method' is deprecated and will raise in a future version. Use obj.ffill() or obj.bfill() instead.\n",
      "  results = pd.DataFrame(results).T.fillna(method=\"ffill\").T\n"
     ]
    }
   ],
   "source": [
    "classifier_P = KnnClassifier(k=1, database_labels=dataset_database_P.labels_string)\n",
    "predictions_P = classifier_P(similarity_P['cosine'])\n",
    "print(\"Predictions for 100 test Images:-\\n\",predictions_P)\n"
   ]
  },
  {
   "cell_type": "code",
   "execution_count": 10,
   "id": "6e05c7e2",
   "metadata": {
    "execution": {
     "iopub.execute_input": "2024-08-06T07:55:34.251184Z",
     "iopub.status.busy": "2024-08-06T07:55:34.250861Z",
     "iopub.status.idle": "2024-08-06T07:55:34.256691Z",
     "shell.execute_reply": "2024-08-06T07:55:34.255834Z"
    },
    "papermill": {
     "duration": 0.126412,
     "end_time": "2024-08-06T07:55:34.258966",
     "exception": false,
     "start_time": "2024-08-06T07:55:34.132554",
     "status": "completed"
    },
    "tags": []
   },
   "outputs": [
    {
     "name": "stdout",
     "output_type": "stream",
     "text": [
      "Accuracy on IPanda50 data: 92.00%\n"
     ]
    }
   ],
   "source": [
    "accuracy_P = np.mean(dataset_query_P.labels_string == predictions_P)\n",
    "print(\"Accuracy on IPanda50 data: {:.2f}%\".format(accuracy_P * 100))\n"
   ]
  },
  {
   "cell_type": "code",
   "execution_count": 11,
   "id": "c7692585",
   "metadata": {
    "execution": {
     "iopub.execute_input": "2024-08-06T07:55:34.500679Z",
     "iopub.status.busy": "2024-08-06T07:55:34.499885Z",
     "iopub.status.idle": "2024-08-06T07:55:34.516799Z",
     "shell.execute_reply": "2024-08-06T07:55:34.515868Z"
    },
    "papermill": {
     "duration": 0.138737,
     "end_time": "2024-08-06T07:55:34.518603",
     "exception": false,
     "start_time": "2024-08-06T07:55:34.379866",
     "status": "completed"
    },
    "tags": []
   },
   "outputs": [
    {
     "name": "stdout",
     "output_type": "stream",
     "text": [
      "Precision: 0.9640476190476189\n",
      "Recall: 0.92\n",
      "F1 Score: 0.9211111111111111\n"
     ]
    }
   ],
   "source": [
    "precision_P = precision_score(dataset_query_P.labels_string, predictions_P, average='weighted',zero_division=1)\n",
    "recall_P = recall_score(dataset_query_P.labels_string, predictions_P, average='weighted',zero_division=1)\n",
    "f1_P = f1_score(dataset_query_P.labels_string, predictions_P, average='weighted',zero_division=1)\n",
    "print(\"Precision:\", precision_P)\n",
    "print(\"Recall:\", recall_P)\n",
    "print(\"F1 Score:\", f1_P)"
   ]
  },
  {
   "cell_type": "markdown",
   "id": "fca72d4c",
   "metadata": {
    "papermill": {
     "duration": 0.118133,
     "end_time": "2024-08-06T07:55:34.754935",
     "exception": false,
     "start_time": "2024-08-06T07:55:34.636802",
     "status": "completed"
    },
    "tags": []
   },
   "source": [
    "**MacaqueFaces Dataset**"
   ]
  },
  {
   "cell_type": "code",
   "execution_count": 12,
   "id": "9e550edc",
   "metadata": {
    "execution": {
     "iopub.execute_input": "2024-08-06T07:55:34.996253Z",
     "iopub.status.busy": "2024-08-06T07:55:34.995161Z",
     "iopub.status.idle": "2024-08-06T08:20:24.258034Z",
     "shell.execute_reply": "2024-08-06T08:20:24.256630Z"
    },
    "papermill": {
     "duration": 1489.386246,
     "end_time": "2024-08-06T08:20:24.260382",
     "exception": false,
     "start_time": "2024-08-06T07:55:34.874136",
     "status": "completed"
    },
    "tags": []
   },
   "outputs": [
    {
     "name": "stdout",
     "output_type": "stream",
     "text": [
      "DATASET MacaqueFaces: DOWNLOADING STARTED.\n"
     ]
    },
    {
     "name": "stderr",
     "output_type": "stream",
     "text": [
      "MacaqueFaces.zip: 12.0MB [00:00, 14.9MB/s]                            \n",
      "MacaqueFaces_ImageInfo.csv: 410kB [00:00, 827kB/s]                             \n"
     ]
    },
    {
     "name": "stdout",
     "output_type": "stream",
     "text": [
      "DATASET MacaqueFaces: EXTRACTING STARTED.\n",
      "DATASET MacaqueFaces: FINISHED.\n",
      "\n"
     ]
    },
    {
     "name": "stderr",
     "output_type": "stream",
     "text": [
      "Epoch 0:   0%|                                                               | 0/50 [00:00<?, ?it/s]/opt/conda/lib/python3.10/multiprocessing/popen_fork.py:66: RuntimeWarning: os.fork() was called. os.fork() is incompatible with multithreaded code, and JAX is multithreaded, so this will likely lead to a deadlock.\n",
      "  self.pid = os.fork()\n",
      "Epoch 0:  98%|████████████████████████████████████████████████████▉ | 49/50 [01:15<00:01,  1.52s/it]/opt/conda/lib/python3.10/multiprocessing/popen_fork.py:66: RuntimeWarning: os.fork() was called. os.fork() is incompatible with multithreaded code, and JAX is multithreaded, so this will likely lead to a deadlock.\n",
      "  self.pid = os.fork()\n",
      "Epoch 0: 100%|██████████████████████████████████████████████████████| 50/50 [01:15<00:00,  1.52s/it]\n"
     ]
    },
    {
     "name": "stdout",
     "output_type": "stream",
     "text": [
      "Epoch 1: Average Loss = 0.1718163937330246\n"
     ]
    },
    {
     "name": "stderr",
     "output_type": "stream",
     "text": [
      "Epoch 1: 100%|██████████████████████████████████████████████████████| 50/50 [01:15<00:00,  1.51s/it]\n"
     ]
    },
    {
     "name": "stdout",
     "output_type": "stream",
     "text": [
      "Epoch 2: Average Loss = 0.20527859032154083\n"
     ]
    },
    {
     "name": "stderr",
     "output_type": "stream",
     "text": [
      "Epoch 2: 100%|██████████████████████████████████████████████████████| 50/50 [01:15<00:00,  1.51s/it]\n"
     ]
    },
    {
     "name": "stdout",
     "output_type": "stream",
     "text": [
      "Epoch 3: Average Loss = 0.1801666021347046\n"
     ]
    },
    {
     "name": "stderr",
     "output_type": "stream",
     "text": [
      "Epoch 3: 100%|██████████████████████████████████████████████████████| 50/50 [01:14<00:00,  1.49s/it]\n"
     ]
    },
    {
     "name": "stdout",
     "output_type": "stream",
     "text": [
      "Epoch 4: Average Loss = 0.16981397569179535\n"
     ]
    },
    {
     "name": "stderr",
     "output_type": "stream",
     "text": [
      "Epoch 4: 100%|██████████████████████████████████████████████████████| 50/50 [01:15<00:00,  1.51s/it]\n"
     ]
    },
    {
     "name": "stdout",
     "output_type": "stream",
     "text": [
      "Epoch 5: Average Loss = 0.18140661716461182\n"
     ]
    },
    {
     "name": "stderr",
     "output_type": "stream",
     "text": [
      "Epoch 5: 100%|██████████████████████████████████████████████████████| 50/50 [01:14<00:00,  1.49s/it]\n"
     ]
    },
    {
     "name": "stdout",
     "output_type": "stream",
     "text": [
      "Epoch 6: Average Loss = 0.18304626643657684\n"
     ]
    },
    {
     "name": "stderr",
     "output_type": "stream",
     "text": [
      "Epoch 6: 100%|██████████████████████████████████████████████████████| 50/50 [01:14<00:00,  1.48s/it]\n"
     ]
    },
    {
     "name": "stdout",
     "output_type": "stream",
     "text": [
      "Epoch 7: Average Loss = 0.1664080172777176\n"
     ]
    },
    {
     "name": "stderr",
     "output_type": "stream",
     "text": [
      "Epoch 7: 100%|██████████████████████████████████████████████████████| 50/50 [01:14<00:00,  1.49s/it]\n"
     ]
    },
    {
     "name": "stdout",
     "output_type": "stream",
     "text": [
      "Epoch 8: Average Loss = 0.18239246308803558\n"
     ]
    },
    {
     "name": "stderr",
     "output_type": "stream",
     "text": [
      "Epoch 8: 100%|██████████████████████████████████████████████████████| 50/50 [01:14<00:00,  1.48s/it]\n"
     ]
    },
    {
     "name": "stdout",
     "output_type": "stream",
     "text": [
      "Epoch 9: Average Loss = 0.13351744413375854\n"
     ]
    },
    {
     "name": "stderr",
     "output_type": "stream",
     "text": [
      "Epoch 9: 100%|██████████████████████████████████████████████████████| 50/50 [01:13<00:00,  1.47s/it]\n"
     ]
    },
    {
     "name": "stdout",
     "output_type": "stream",
     "text": [
      "Epoch 10: Average Loss = 0.1497517228126526\n"
     ]
    },
    {
     "name": "stderr",
     "output_type": "stream",
     "text": [
      "Epoch 10: 100%|█████████████████████████████████████████████████████| 50/50 [01:13<00:00,  1.48s/it]\n"
     ]
    },
    {
     "name": "stdout",
     "output_type": "stream",
     "text": [
      "Epoch 11: Average Loss = 0.16902238130569458\n"
     ]
    },
    {
     "name": "stderr",
     "output_type": "stream",
     "text": [
      "Epoch 11: 100%|█████████████████████████████████████████████████████| 50/50 [01:14<00:00,  1.48s/it]\n"
     ]
    },
    {
     "name": "stdout",
     "output_type": "stream",
     "text": [
      "Epoch 12: Average Loss = 0.18589727580547333\n"
     ]
    },
    {
     "name": "stderr",
     "output_type": "stream",
     "text": [
      "Epoch 12: 100%|█████████████████████████████████████████████████████| 50/50 [01:14<00:00,  1.48s/it]\n"
     ]
    },
    {
     "name": "stdout",
     "output_type": "stream",
     "text": [
      "Epoch 13: Average Loss = 0.13929465413093567\n"
     ]
    },
    {
     "name": "stderr",
     "output_type": "stream",
     "text": [
      "Epoch 13: 100%|█████████████████████████████████████████████████████| 50/50 [01:14<00:00,  1.48s/it]\n"
     ]
    },
    {
     "name": "stdout",
     "output_type": "stream",
     "text": [
      "Epoch 14: Average Loss = 0.16007167100906372\n"
     ]
    },
    {
     "name": "stderr",
     "output_type": "stream",
     "text": [
      "Epoch 14: 100%|█████████████████████████████████████████████████████| 50/50 [01:13<00:00,  1.47s/it]\n"
     ]
    },
    {
     "name": "stdout",
     "output_type": "stream",
     "text": [
      "Epoch 15: Average Loss = 0.15100324153900146\n"
     ]
    },
    {
     "name": "stderr",
     "output_type": "stream",
     "text": [
      "Epoch 15: 100%|█████████████████████████████████████████████████████| 50/50 [01:13<00:00,  1.47s/it]\n"
     ]
    },
    {
     "name": "stdout",
     "output_type": "stream",
     "text": [
      "Epoch 16: Average Loss = 0.12886033952236176\n"
     ]
    },
    {
     "name": "stderr",
     "output_type": "stream",
     "text": [
      "Epoch 16: 100%|█████████████████████████████████████████████████████| 50/50 [01:14<00:00,  1.48s/it]\n"
     ]
    },
    {
     "name": "stdout",
     "output_type": "stream",
     "text": [
      "Epoch 17: Average Loss = 0.16891321539878845\n"
     ]
    },
    {
     "name": "stderr",
     "output_type": "stream",
     "text": [
      "Epoch 17: 100%|█████████████████████████████████████████████████████| 50/50 [01:13<00:00,  1.48s/it]\n"
     ]
    },
    {
     "name": "stdout",
     "output_type": "stream",
     "text": [
      "Epoch 18: Average Loss = 0.15710097551345825\n"
     ]
    },
    {
     "name": "stderr",
     "output_type": "stream",
     "text": [
      "Epoch 18: 100%|█████████████████████████████████████████████████████| 50/50 [01:13<00:00,  1.47s/it]\n"
     ]
    },
    {
     "name": "stdout",
     "output_type": "stream",
     "text": [
      "Epoch 19: Average Loss = 0.14713405072689056\n"
     ]
    },
    {
     "name": "stderr",
     "output_type": "stream",
     "text": [
      "Epoch 19: 100%|█████████████████████████████████████████████████████| 50/50 [01:13<00:00,  1.47s/it]"
     ]
    },
    {
     "name": "stdout",
     "output_type": "stream",
     "text": [
      "Epoch 20: Average Loss = 0.13160353899002075\n"
     ]
    },
    {
     "name": "stderr",
     "output_type": "stream",
     "text": [
      "\n"
     ]
    }
   ],
   "source": [
    "# Download dataset (if not already downloaded)\n",
    "datasets.MacaqueFaces.get_data('../data/MacaqueFaces')\n",
    "# Load dataset metadata\n",
    "metadata = datasets.MacaqueFaces('../data/MacaqueFaces')\n",
    "transform = T.Compose([T.Resize([224, 224]), T.ToTensor(), T.Normalize(mean=(0.485, 0.456, 0.406), std=(0.229, 0.224, 0.225))])\n",
    "dataset = WildlifeDataset(metadata.df, metadata.root, transform=transform)\n",
    "\n",
    "\n",
    "# Download MegaDescriptor-T backbone from HuggingFace Hub\n",
    "backbone = timm.create_model('hf-hub:BVRA/MegaDescriptor-T-224', num_classes=0, pretrained=True)\n",
    "\n",
    "# Arcface loss - needs backbone output size and number of classes.\n",
    "objective = TripletLoss()\n",
    "\n",
    "# Optimize parameters in backbone and in objective using single optimizer.\n",
    "params = itertools.chain(backbone.parameters(), objective.parameters())\n",
    "optimizer = SGD(params=params, lr=0.001, momentum=0.9)\n",
    "\n",
    "def print_epoch_loss(trainer, epoch_data):\n",
    "    # This function will print the average loss at the end of each epoch\n",
    "    print(f\"Epoch {trainer.epoch}: Average Loss = {epoch_data['train_loss_epoch_avg']}\")\n",
    "\n",
    "\n",
    "trainer = BasicTrainer(\n",
    "    dataset=dataset,\n",
    "    model=backbone,\n",
    "    objective=objective,\n",
    "    optimizer=optimizer,\n",
    "    epochs=20,\n",
    "    device='cuda',\n",
    "    epoch_callback=print_epoch_loss\n",
    ")\n",
    "\n",
    "trainer.train()"
   ]
  },
  {
   "cell_type": "code",
   "execution_count": 13,
   "id": "abea858a",
   "metadata": {
    "execution": {
     "iopub.execute_input": "2024-08-06T08:20:24.790499Z",
     "iopub.status.busy": "2024-08-06T08:20:24.789456Z",
     "iopub.status.idle": "2024-08-06T08:20:25.152614Z",
     "shell.execute_reply": "2024-08-06T08:20:25.151494Z"
    },
    "papermill": {
     "duration": 0.598105,
     "end_time": "2024-08-06T08:20:25.155446",
     "exception": false,
     "start_time": "2024-08-06T08:20:24.557341",
     "status": "completed"
    },
    "tags": []
   },
   "outputs": [],
   "source": [
    "\n",
    "import torch\n",
    "\n",
    "trainer.save(\"retrained_chks\", file_name=\"tripletloss_MacaqueFaces_retrained_checkpoint.pth\")"
   ]
  },
  {
   "cell_type": "code",
   "execution_count": 14,
   "id": "f83319c4",
   "metadata": {
    "execution": {
     "iopub.execute_input": "2024-08-06T08:20:25.617223Z",
     "iopub.status.busy": "2024-08-06T08:20:25.616537Z",
     "iopub.status.idle": "2024-08-06T08:20:55.556998Z",
     "shell.execute_reply": "2024-08-06T08:20:55.554023Z"
    },
    "papermill": {
     "duration": 30.174069,
     "end_time": "2024-08-06T08:20:55.559237",
     "exception": false,
     "start_time": "2024-08-06T08:20:25.385168",
     "status": "completed"
    },
    "tags": []
   },
   "outputs": [
    {
     "name": "stderr",
     "output_type": "stream",
     "text": [
      "100%|█████████████████████████████████████████████████████████████████| 1/1 [00:00<00:00,  1.07it/s]\n",
      "100%|███████████████████████████████████████████████████████████████| 49/49 [00:28<00:00,  1.69it/s]"
     ]
    },
    {
     "name": "stdout",
     "output_type": "stream",
     "text": [
      "{'cosine': array([[0.35306308, 0.9281481 , 0.9094564 , ..., 0.09214859, 0.08824382,\n",
      "        0.10833621],\n",
      "       [0.34774375, 0.95749867, 0.94479614, ..., 0.14353333, 0.15559652,\n",
      "        0.18131451],\n",
      "       [0.36218786, 0.9684678 , 0.9563611 , ..., 0.17002882, 0.18282145,\n",
      "        0.19717412],\n",
      "       ...,\n",
      "       [0.3173271 , 0.96006584, 0.9554193 , ..., 0.13212933, 0.1307062 ,\n",
      "        0.1565159 ],\n",
      "       [0.33819792, 0.9518367 , 0.9450941 , ..., 0.12252291, 0.11629605,\n",
      "        0.14149931],\n",
      "       [0.36506605, 0.9744916 , 0.95762205, ..., 0.16555838, 0.17239049,\n",
      "        0.18975937]], dtype=float32)}\n"
     ]
    },
    {
     "name": "stderr",
     "output_type": "stream",
     "text": [
      "\n"
     ]
    }
   ],
   "source": [
    "dataset_database_P = WildlifeDataset(metadata.df.iloc[100:,:], metadata.root, transform=transform)\n",
    "dataset_query_P = WildlifeDataset(metadata.df.iloc[:100,:], metadata.root, transform=transform)\n",
    "\n",
    "# name = 'hf-hub:BVRA/MegaDescriptor-T-224'\n",
    "extractor_P = DeepFeatures(trainer.model , device = 'cuda')\n",
    "\n",
    "query_P, database_P = extractor_P(dataset_query_P), extractor_P(dataset_database_P)\n",
    "\n",
    "similarity_function = CosineSimilarity()\n",
    "similarity_P = similarity_function(query_P, database_P)\n",
    "print(similarity_P)"
   ]
  },
  {
   "cell_type": "code",
   "execution_count": 15,
   "id": "350f6c30",
   "metadata": {
    "execution": {
     "iopub.execute_input": "2024-08-06T08:20:56.029601Z",
     "iopub.status.busy": "2024-08-06T08:20:56.029180Z",
     "iopub.status.idle": "2024-08-06T08:20:56.064750Z",
     "shell.execute_reply": "2024-08-06T08:20:56.063766Z"
    },
    "papermill": {
     "duration": 0.277831,
     "end_time": "2024-08-06T08:20:56.067501",
     "exception": false,
     "start_time": "2024-08-06T08:20:55.789670",
     "status": "completed"
    },
    "tags": []
   },
   "outputs": [
    {
     "name": "stdout",
     "output_type": "stream",
     "text": [
      "Predictions for 100 test Images:-\n",
      " ['Dan' 'Dan' 'Dan' 'Dan' 'Dan' 'Dan' 'Dan' 'Dan' 'Dan' 'Dan' 'Dan' 'Dan'\n",
      " 'Dan' 'Dan' 'Dan' 'Dan' 'Dan' 'Dan' 'Dan' 'Dan' 'Dan' 'Dan' 'Dan' 'Dan'\n",
      " 'Dan' 'Dan' 'Dan' 'Dan' 'Dan' 'Dan' 'Dan' 'Dan' 'Dan' 'Dan' 'Dan' 'Dan'\n",
      " 'Dan' 'Dan' 'Dan' 'Dan' 'Dan' 'Dan' 'Dan' 'Dan' 'Dan' 'Dan' 'Dan' 'Dan'\n",
      " 'Dan' 'Dan' 'Dan' 'Dan' 'Dan' 'Dan' 'Dan' 'Dan' 'Dan' 'Dan' 'Dan' 'Dan'\n",
      " 'Dan' 'Dan' 'Dan' 'Dan' 'Dan' 'Dan' 'Dan' 'Dan' 'Dan' 'Dan' 'Dan' 'Dan'\n",
      " 'Dan' 'Dan' 'Dan' 'Dan' 'Dan' 'Dan' 'Dan' 'Dan' 'Dan' 'Dan' 'Dan' 'Dan'\n",
      " 'Dan' 'Dan' 'Dan' 'Dan' 'Dan' 'Dan' 'Dan' 'Dan' 'Dan' 'Dan' 'Dan' 'Dan'\n",
      " 'Dan' 'Dan' 'Dan' 'Dan']\n"
     ]
    },
    {
     "name": "stderr",
     "output_type": "stream",
     "text": [
      "/opt/conda/lib/python3.10/site-packages/wildlife_tools/inference/classifier.py:61: FutureWarning: DataFrame.fillna with 'method' is deprecated and will raise in a future version. Use obj.ffill() or obj.bfill() instead.\n",
      "  results = pd.DataFrame(results).T.fillna(method=\"ffill\").T\n"
     ]
    }
   ],
   "source": [
    "classifier_P = KnnClassifier(k=1, database_labels=dataset_database_P.labels_string)\n",
    "predictions_P = classifier_P(similarity_P['cosine'])\n",
    "print(\"Predictions for 100 test Images:-\\n\",predictions_P)"
   ]
  },
  {
   "cell_type": "code",
   "execution_count": 16,
   "id": "fc12e4c6",
   "metadata": {
    "execution": {
     "iopub.execute_input": "2024-08-06T08:20:56.605467Z",
     "iopub.status.busy": "2024-08-06T08:20:56.605064Z",
     "iopub.status.idle": "2024-08-06T08:20:56.611112Z",
     "shell.execute_reply": "2024-08-06T08:20:56.610161Z"
    },
    "papermill": {
     "duration": 0.254655,
     "end_time": "2024-08-06T08:20:56.613830",
     "exception": false,
     "start_time": "2024-08-06T08:20:56.359175",
     "status": "completed"
    },
    "tags": []
   },
   "outputs": [
    {
     "name": "stdout",
     "output_type": "stream",
     "text": [
      "Accuracy on MacaqueFaces data: 100.00%\n"
     ]
    }
   ],
   "source": [
    "accuracy_P = np.mean(dataset_query_P.labels_string == predictions_P)\n",
    "print(\"Accuracy on MacaqueFaces data: {:.2f}%\".format(accuracy_P * 100))"
   ]
  },
  {
   "cell_type": "code",
   "execution_count": 17,
   "id": "37586aa8",
   "metadata": {
    "execution": {
     "iopub.execute_input": "2024-08-06T08:20:57.079823Z",
     "iopub.status.busy": "2024-08-06T08:20:57.079432Z",
     "iopub.status.idle": "2024-08-06T08:20:57.096147Z",
     "shell.execute_reply": "2024-08-06T08:20:57.094999Z"
    },
    "papermill": {
     "duration": 0.251429,
     "end_time": "2024-08-06T08:20:57.098373",
     "exception": false,
     "start_time": "2024-08-06T08:20:56.846944",
     "status": "completed"
    },
    "tags": []
   },
   "outputs": [
    {
     "name": "stdout",
     "output_type": "stream",
     "text": [
      "Precision: 1.0\n",
      "Recall: 1.0\n",
      "F1 Score: 1.0\n"
     ]
    }
   ],
   "source": [
    "precision_P = precision_score(dataset_query_P.labels_string, predictions_P, average='weighted',zero_division=1)\n",
    "recall_P = recall_score(dataset_query_P.labels_string, predictions_P, average='weighted',zero_division=1)\n",
    "f1_P = f1_score(dataset_query_P.labels_string, predictions_P, average='weighted',zero_division=1)\n",
    "print(\"Precision:\", precision_P)\n",
    "print(\"Recall:\", recall_P)\n",
    "print(\"F1 Score:\", f1_P)"
   ]
  },
  {
   "cell_type": "markdown",
   "id": "493020bb",
   "metadata": {
    "papermill": {
     "duration": 0.229973,
     "end_time": "2024-08-06T08:20:57.570926",
     "exception": false,
     "start_time": "2024-08-06T08:20:57.340953",
     "status": "completed"
    },
    "tags": []
   },
   "source": [
    "**LionData Dateset**"
   ]
  },
  {
   "cell_type": "code",
   "execution_count": 18,
   "id": "ab542d58",
   "metadata": {
    "execution": {
     "iopub.execute_input": "2024-08-06T08:20:58.027286Z",
     "iopub.status.busy": "2024-08-06T08:20:58.026915Z",
     "iopub.status.idle": "2024-08-06T08:24:41.693398Z",
     "shell.execute_reply": "2024-08-06T08:24:41.691810Z"
    },
    "papermill": {
     "duration": 223.897758,
     "end_time": "2024-08-06T08:24:41.696489",
     "exception": false,
     "start_time": "2024-08-06T08:20:57.798731",
     "status": "completed"
    },
    "tags": []
   },
   "outputs": [
    {
     "name": "stdout",
     "output_type": "stream",
     "text": [
      "DATASET LionData: DOWNLOADING STARTED.\n"
     ]
    },
    {
     "name": "stderr",
     "output_type": "stream",
     "text": [
      "main.zip: 495MB [00:20, 24.3MB/s]\n"
     ]
    },
    {
     "name": "stdout",
     "output_type": "stream",
     "text": [
      "DATASET LionData: EXTRACTING STARTED.\n",
      "DATASET LionData: FINISHED.\n",
      "\n"
     ]
    },
    {
     "name": "stderr",
     "output_type": "stream",
     "text": [
      "Epoch 0:   0%|                                                                | 0/6 [00:00<?, ?it/s]/opt/conda/lib/python3.10/multiprocessing/popen_fork.py:66: RuntimeWarning: os.fork() was called. os.fork() is incompatible with multithreaded code, and JAX is multithreaded, so this will likely lead to a deadlock.\n",
      "  self.pid = os.fork()\n",
      "Epoch 0: 100%|████████████████████████████████████████████████████████| 6/6 [00:09<00:00,  1.52s/it]/opt/conda/lib/python3.10/multiprocessing/popen_fork.py:66: RuntimeWarning: os.fork() was called. os.fork() is incompatible with multithreaded code, and JAX is multithreaded, so this will likely lead to a deadlock.\n",
      "  self.pid = os.fork()\n",
      "Epoch 0: 100%|████████████████████████████████████████████████████████| 6/6 [00:09<00:00,  1.64s/it]\n"
     ]
    },
    {
     "name": "stdout",
     "output_type": "stream",
     "text": [
      "Epoch 1: Average Loss = 0.3153253495693207\n"
     ]
    },
    {
     "name": "stderr",
     "output_type": "stream",
     "text": [
      "Epoch 1: 100%|████████████████████████████████████████████████████████| 6/6 [00:10<00:00,  1.68s/it]\n"
     ]
    },
    {
     "name": "stdout",
     "output_type": "stream",
     "text": [
      "Epoch 2: Average Loss = 0.3326837122440338\n"
     ]
    },
    {
     "name": "stderr",
     "output_type": "stream",
     "text": [
      "Epoch 2: 100%|████████████████████████████████████████████████████████| 6/6 [00:10<00:00,  1.73s/it]\n"
     ]
    },
    {
     "name": "stdout",
     "output_type": "stream",
     "text": [
      "Epoch 3: Average Loss = 0.32061412930488586\n"
     ]
    },
    {
     "name": "stderr",
     "output_type": "stream",
     "text": [
      "Epoch 3: 100%|████████████████████████████████████████████████████████| 6/6 [00:10<00:00,  1.70s/it]\n"
     ]
    },
    {
     "name": "stdout",
     "output_type": "stream",
     "text": [
      "Epoch 4: Average Loss = 0.3223673403263092\n"
     ]
    },
    {
     "name": "stderr",
     "output_type": "stream",
     "text": [
      "Epoch 4: 100%|████████████████████████████████████████████████████████| 6/6 [00:09<00:00,  1.65s/it]\n"
     ]
    },
    {
     "name": "stdout",
     "output_type": "stream",
     "text": [
      "Epoch 5: Average Loss = 0.29762324690818787\n"
     ]
    },
    {
     "name": "stderr",
     "output_type": "stream",
     "text": [
      "Epoch 5: 100%|████████████████████████████████████████████████████████| 6/6 [00:09<00:00,  1.63s/it]\n"
     ]
    },
    {
     "name": "stdout",
     "output_type": "stream",
     "text": [
      "Epoch 6: Average Loss = 0.30118632316589355\n"
     ]
    },
    {
     "name": "stderr",
     "output_type": "stream",
     "text": [
      "Epoch 6: 100%|████████████████████████████████████████████████████████| 6/6 [00:09<00:00,  1.61s/it]\n"
     ]
    },
    {
     "name": "stdout",
     "output_type": "stream",
     "text": [
      "Epoch 7: Average Loss = 0.3015134632587433\n"
     ]
    },
    {
     "name": "stderr",
     "output_type": "stream",
     "text": [
      "Epoch 7: 100%|████████████████████████████████████████████████████████| 6/6 [00:09<00:00,  1.62s/it]\n"
     ]
    },
    {
     "name": "stdout",
     "output_type": "stream",
     "text": [
      "Epoch 8: Average Loss = 0.28692302107810974\n"
     ]
    },
    {
     "name": "stderr",
     "output_type": "stream",
     "text": [
      "Epoch 8: 100%|████████████████████████████████████████████████████████| 6/6 [00:09<00:00,  1.63s/it]\n"
     ]
    },
    {
     "name": "stdout",
     "output_type": "stream",
     "text": [
      "Epoch 9: Average Loss = 0.29584088921546936\n"
     ]
    },
    {
     "name": "stderr",
     "output_type": "stream",
     "text": [
      "Epoch 9: 100%|████████████████████████████████████████████████████████| 6/6 [00:09<00:00,  1.65s/it]\n"
     ]
    },
    {
     "name": "stdout",
     "output_type": "stream",
     "text": [
      "Epoch 10: Average Loss = 0.2861490249633789\n"
     ]
    },
    {
     "name": "stderr",
     "output_type": "stream",
     "text": [
      "Epoch 10: 100%|███████████████████████████████████████████████████████| 6/6 [00:09<00:00,  1.66s/it]\n"
     ]
    },
    {
     "name": "stdout",
     "output_type": "stream",
     "text": [
      "Epoch 11: Average Loss = 0.2776784598827362\n"
     ]
    },
    {
     "name": "stderr",
     "output_type": "stream",
     "text": [
      "Epoch 11: 100%|███████████████████████████████████████████████████████| 6/6 [00:09<00:00,  1.66s/it]\n"
     ]
    },
    {
     "name": "stdout",
     "output_type": "stream",
     "text": [
      "Epoch 12: Average Loss = 0.28140974044799805\n"
     ]
    },
    {
     "name": "stderr",
     "output_type": "stream",
     "text": [
      "Epoch 12: 100%|███████████████████████████████████████████████████████| 6/6 [00:09<00:00,  1.66s/it]\n"
     ]
    },
    {
     "name": "stdout",
     "output_type": "stream",
     "text": [
      "Epoch 13: Average Loss = 0.2801571488380432\n"
     ]
    },
    {
     "name": "stderr",
     "output_type": "stream",
     "text": [
      "Epoch 13: 100%|███████████████████████████████████████████████████████| 6/6 [00:09<00:00,  1.65s/it]\n"
     ]
    },
    {
     "name": "stdout",
     "output_type": "stream",
     "text": [
      "Epoch 14: Average Loss = 0.27497801184654236\n"
     ]
    },
    {
     "name": "stderr",
     "output_type": "stream",
     "text": [
      "Epoch 14: 100%|███████████████████████████████████████████████████████| 6/6 [00:09<00:00,  1.65s/it]\n"
     ]
    },
    {
     "name": "stdout",
     "output_type": "stream",
     "text": [
      "Epoch 15: Average Loss = 0.2736622989177704\n"
     ]
    },
    {
     "name": "stderr",
     "output_type": "stream",
     "text": [
      "Epoch 15: 100%|███████████████████████████████████████████████████████| 6/6 [00:09<00:00,  1.63s/it]\n"
     ]
    },
    {
     "name": "stdout",
     "output_type": "stream",
     "text": [
      "Epoch 16: Average Loss = 0.27351677417755127\n"
     ]
    },
    {
     "name": "stderr",
     "output_type": "stream",
     "text": [
      "Epoch 16: 100%|███████████████████████████████████████████████████████| 6/6 [00:09<00:00,  1.63s/it]\n"
     ]
    },
    {
     "name": "stdout",
     "output_type": "stream",
     "text": [
      "Epoch 17: Average Loss = 0.2681732177734375\n"
     ]
    },
    {
     "name": "stderr",
     "output_type": "stream",
     "text": [
      "Epoch 17: 100%|███████████████████████████████████████████████████████| 6/6 [00:09<00:00,  1.65s/it]\n"
     ]
    },
    {
     "name": "stdout",
     "output_type": "stream",
     "text": [
      "Epoch 18: Average Loss = 0.26607516407966614\n"
     ]
    },
    {
     "name": "stderr",
     "output_type": "stream",
     "text": [
      "Epoch 18: 100%|███████████████████████████████████████████████████████| 6/6 [00:09<00:00,  1.65s/it]\n"
     ]
    },
    {
     "name": "stdout",
     "output_type": "stream",
     "text": [
      "Epoch 19: Average Loss = 0.26645955443382263\n"
     ]
    },
    {
     "name": "stderr",
     "output_type": "stream",
     "text": [
      "Epoch 19: 100%|███████████████████████████████████████████████████████| 6/6 [00:09<00:00,  1.65s/it]"
     ]
    },
    {
     "name": "stdout",
     "output_type": "stream",
     "text": [
      "Epoch 20: Average Loss = 0.2657260000705719\n"
     ]
    },
    {
     "name": "stderr",
     "output_type": "stream",
     "text": [
      "\n"
     ]
    }
   ],
   "source": [
    "# Download dataset (if not already downloaded)\n",
    "datasets.LionData.get_data('../data/LionData')\n",
    "# Load dataset metadata\n",
    "metadata = datasets.LionData('../data/LionData')\n",
    "transform = T.Compose([T.Resize([224, 224]), T.ToTensor(), T.Normalize(mean=(0.485, 0.456, 0.406), std=(0.229, 0.224, 0.225))])\n",
    "dataset = WildlifeDataset(metadata.df, metadata.root, transform=transform)\n",
    "\n",
    "\n",
    "# Download MegaDescriptor-T backbone from HuggingFace Hub\n",
    "backbone = timm.create_model('hf-hub:BVRA/MegaDescriptor-T-224', num_classes=0, pretrained=True)\n",
    "\n",
    "# Arcface loss - needs backbone output size and number of classes.\n",
    "objective = TripletLoss()\n",
    "\n",
    "# Optimize parameters in backbone and in objective using single optimizer.\n",
    "params = itertools.chain(backbone.parameters(), objective.parameters())\n",
    "optimizer = SGD(params=params, lr=0.001, momentum=0.9)\n",
    "\n",
    "def print_epoch_loss(trainer, epoch_data):\n",
    "    # This function will print the average loss at the end of each epoch\n",
    "    print(f\"Epoch {trainer.epoch}: Average Loss = {epoch_data['train_loss_epoch_avg']}\")\n",
    "\n",
    "\n",
    "trainer = BasicTrainer(\n",
    "    dataset=dataset,\n",
    "    model=backbone,\n",
    "    objective=objective,\n",
    "    optimizer=optimizer,\n",
    "    epochs=20,\n",
    "    device='cuda',\n",
    "    epoch_callback=print_epoch_loss\n",
    ")\n",
    "\n",
    "trainer.train()"
   ]
  },
  {
   "cell_type": "code",
   "execution_count": 19,
   "id": "cbe715f1",
   "metadata": {
    "execution": {
     "iopub.execute_input": "2024-08-06T08:24:42.252388Z",
     "iopub.status.busy": "2024-08-06T08:24:42.251466Z",
     "iopub.status.idle": "2024-08-06T08:24:42.612995Z",
     "shell.execute_reply": "2024-08-06T08:24:42.612194Z"
    },
    "papermill": {
     "duration": 0.63977,
     "end_time": "2024-08-06T08:24:42.615453",
     "exception": false,
     "start_time": "2024-08-06T08:24:41.975683",
     "status": "completed"
    },
    "tags": []
   },
   "outputs": [],
   "source": [
    "import torch\n",
    "\n",
    "trainer.save(\"retrained_chks\", file_name=\"tripletloss_LionData_retrained_checkpoint.pth\")"
   ]
  },
  {
   "cell_type": "code",
   "execution_count": 20,
   "id": "119cf5b7",
   "metadata": {
    "execution": {
     "iopub.execute_input": "2024-08-06T08:24:43.165037Z",
     "iopub.status.busy": "2024-08-06T08:24:43.164120Z",
     "iopub.status.idle": "2024-08-06T08:24:47.626359Z",
     "shell.execute_reply": "2024-08-06T08:24:47.624918Z"
    },
    "papermill": {
     "duration": 4.749053,
     "end_time": "2024-08-06T08:24:47.630044",
     "exception": false,
     "start_time": "2024-08-06T08:24:42.880991",
     "status": "completed"
    },
    "tags": []
   },
   "outputs": [
    {
     "name": "stderr",
     "output_type": "stream",
     "text": [
      "100%|█████████████████████████████████████████████████████████████████| 1/1 [00:00<00:00,  1.06it/s]\n",
      "100%|█████████████████████████████████████████████████████████████████| 5/5 [00:03<00:00,  1.45it/s]"
     ]
    },
    {
     "name": "stdout",
     "output_type": "stream",
     "text": [
      "{'cosine': array([[0.59850556, 0.45959282, 0.61357474, ..., 0.6695832 , 0.6892921 ,\n",
      "        0.52469766],\n",
      "       [0.78530467, 0.38379818, 0.7011812 , ..., 0.46585107, 0.79929864,\n",
      "        0.5010545 ],\n",
      "       [0.41573763, 0.37899375, 0.52384824, ..., 0.56756055, 0.6021615 ,\n",
      "        0.6643369 ],\n",
      "       ...,\n",
      "       [0.43302828, 0.6523546 , 0.5352071 , ..., 0.72161615, 0.5247428 ,\n",
      "        0.5202329 ],\n",
      "       [0.39359093, 0.39323217, 0.507957  , ..., 0.57655716, 0.6045318 ,\n",
      "        0.8149848 ],\n",
      "       [0.4478227 , 0.48974007, 0.52272856, ..., 0.71754867, 0.60694253,\n",
      "        0.71562374]], dtype=float32)}\n"
     ]
    },
    {
     "name": "stderr",
     "output_type": "stream",
     "text": [
      "\n"
     ]
    }
   ],
   "source": [
    "dataset_database_P = WildlifeDataset(metadata.df.iloc[100:,:], metadata.root, transform=transform)\n",
    "dataset_query_P = WildlifeDataset(metadata.df.iloc[:100,:], metadata.root, transform=transform)\n",
    "\n",
    "# name = 'hf-hub:BVRA/MegaDescriptor-T-224'\n",
    "extractor_P = DeepFeatures(trainer.model , device = 'cuda')\n",
    "\n",
    "query_P, database_P = extractor_P(dataset_query_P), extractor_P(dataset_database_P)\n",
    "\n",
    "\n",
    "similarity_function = CosineSimilarity()\n",
    "similarity_P = similarity_function(query_P, database_P)\n",
    "print(similarity_P)"
   ]
  },
  {
   "cell_type": "code",
   "execution_count": 21,
   "id": "8b50f8e8",
   "metadata": {
    "execution": {
     "iopub.execute_input": "2024-08-06T08:24:48.180235Z",
     "iopub.status.busy": "2024-08-06T08:24:48.179835Z",
     "iopub.status.idle": "2024-08-06T08:24:48.196271Z",
     "shell.execute_reply": "2024-08-06T08:24:48.194772Z"
    },
    "papermill": {
     "duration": 0.275902,
     "end_time": "2024-08-06T08:24:48.198676",
     "exception": false,
     "start_time": "2024-08-06T08:24:47.922774",
     "status": "completed"
    },
    "tags": []
   },
   "outputs": [
    {
     "name": "stdout",
     "output_type": "stream",
     "text": [
      "Predictions for 100 test Images:-\n",
      " ['Sebastian' 'Saba' 'Sangiki' 'Tigisi' 'Naengop' 'Moswen' 'Enderoni'\n",
      " 'Enderoni' 'Spring' 'Chaimu' 'Maskio' 'Manzy' 'Saimutie' 'Saba' 'Saitoti'\n",
      " 'Blackie' 'Spring' 'Etana' 'Enderoni' 'Kinna' 'Senteu' 'Enkume' 'Joy'\n",
      " 'Lemuanik' 'Naibor' 'Romeo' 'Kibibi' 'Naisiae' 'Sadala' 'Manzy' 'Moswen'\n",
      " 'Lucinda' 'Siena' 'Senteu' 'Napi' 'Kibibi' 'Tikki' 'Kioni' 'Chaimu'\n",
      " 'Nesapuka' 'Samir' 'Jamal' 'Leia' 'Sebastian' 'Yieyio' 'Charm' 'Nguro'\n",
      " 'Moswen' 'Kibibi' 'Naini' 'Enderoni' 'Lucinda' 'Kinna' 'Nuru'\n",
      " 'Sikio-Kali' 'Mashavu' 'Tigisi' 'Nguro' 'Lilly' 'Manzy' 'Opi'\n",
      " 'Sikio-Kali' 'Ngare' 'Doto' 'Nariku-Inkgera' 'Lemuanik' 'Nakato' 'Ngare'\n",
      " 'Chaimu' 'Kinna' 'Shemsa' 'Olonyori' 'Mickey' 'White-Eye' 'Naimina'\n",
      " 'Nasieku' 'White-Eye' 'Nuru' 'Kioni' 'Nasieku' 'Lilly' 'Tigisi' 'Naisiae'\n",
      " 'Moswen' 'Kioni' 'Naini' 'Rescue' 'Kinna' 'Empurra' 'Arria' 'Blackie'\n",
      " 'Simaloi' 'Lucinda' 'Summer' 'Shambe' 'Enderoni' 'Maskio' 'Enkume'\n",
      " 'Tigisi' 'Ngare']\n"
     ]
    },
    {
     "name": "stderr",
     "output_type": "stream",
     "text": [
      "/opt/conda/lib/python3.10/site-packages/wildlife_tools/inference/classifier.py:61: FutureWarning: DataFrame.fillna with 'method' is deprecated and will raise in a future version. Use obj.ffill() or obj.bfill() instead.\n",
      "  results = pd.DataFrame(results).T.fillna(method=\"ffill\").T\n"
     ]
    }
   ],
   "source": [
    "classifier_P = KnnClassifier(k=1, database_labels=dataset_database_P.labels_string)\n",
    "predictions_P = classifier_P(similarity_P['cosine'])\n",
    "print(\"Predictions for 100 test Images:-\\n\",predictions_P)"
   ]
  },
  {
   "cell_type": "code",
   "execution_count": 22,
   "id": "9f0580f9",
   "metadata": {
    "execution": {
     "iopub.execute_input": "2024-08-06T08:24:48.700063Z",
     "iopub.status.busy": "2024-08-06T08:24:48.699179Z",
     "iopub.status.idle": "2024-08-06T08:24:48.705340Z",
     "shell.execute_reply": "2024-08-06T08:24:48.704400Z"
    },
    "papermill": {
     "duration": 0.25879,
     "end_time": "2024-08-06T08:24:48.707490",
     "exception": false,
     "start_time": "2024-08-06T08:24:48.448700",
     "status": "completed"
    },
    "tags": []
   },
   "outputs": [
    {
     "name": "stdout",
     "output_type": "stream",
     "text": [
      "Accuracy on LionData data: 15.00%\n"
     ]
    }
   ],
   "source": [
    "accuracy_P = np.mean(dataset_query_P.labels_string == predictions_P)\n",
    "print(\"Accuracy on LionData data: {:.2f}%\".format(accuracy_P * 100))"
   ]
  },
  {
   "cell_type": "code",
   "execution_count": 23,
   "id": "f4b666de",
   "metadata": {
    "execution": {
     "iopub.execute_input": "2024-08-06T08:24:49.286261Z",
     "iopub.status.busy": "2024-08-06T08:24:49.285286Z",
     "iopub.status.idle": "2024-08-06T08:24:49.306984Z",
     "shell.execute_reply": "2024-08-06T08:24:49.305632Z"
    },
    "papermill": {
     "duration": 0.282536,
     "end_time": "2024-08-06T08:24:49.309453",
     "exception": false,
     "start_time": "2024-08-06T08:24:49.026917",
     "status": "completed"
    },
    "tags": []
   },
   "outputs": [
    {
     "name": "stdout",
     "output_type": "stream",
     "text": [
      "Precision: 0.5003333333333333\n",
      "Recall: 0.15\n",
      "F1 Score: 0.1419047619047619\n"
     ]
    }
   ],
   "source": [
    "precision_P = precision_score(dataset_query_P.labels_string, predictions_P, average='weighted',zero_division=1)\n",
    "recall_P = recall_score(dataset_query_P.labels_string, predictions_P, average='weighted',zero_division=1)\n",
    "f1_P = f1_score(dataset_query_P.labels_string, predictions_P, average='weighted',zero_division=1)\n",
    "print(\"Precision:\", precision_P)\n",
    "print(\"Recall:\", recall_P)\n",
    "print(\"F1 Score:\", f1_P)"
   ]
  },
  {
   "cell_type": "markdown",
   "id": "4d664519",
   "metadata": {
    "papermill": {
     "duration": 0.254885,
     "end_time": "2024-08-06T08:24:49.821475",
     "exception": false,
     "start_time": "2024-08-06T08:24:49.566590",
     "status": "completed"
    },
    "tags": []
   },
   "source": [
    "**NyalaDataSet**"
   ]
  },
  {
   "cell_type": "code",
   "execution_count": 24,
   "id": "20cd9b78",
   "metadata": {
    "execution": {
     "iopub.execute_input": "2024-08-06T08:24:50.316893Z",
     "iopub.status.busy": "2024-08-06T08:24:50.315806Z",
     "iopub.status.idle": "2024-08-06T08:42:54.249861Z",
     "shell.execute_reply": "2024-08-06T08:42:54.248157Z"
    },
    "papermill": {
     "duration": 1084.183349,
     "end_time": "2024-08-06T08:42:54.252259",
     "exception": false,
     "start_time": "2024-08-06T08:24:50.068910",
     "status": "completed"
    },
    "tags": []
   },
   "outputs": [
    {
     "name": "stdout",
     "output_type": "stream",
     "text": [
      "DATASET NyalaData: DOWNLOADING STARTED.\n"
     ]
    },
    {
     "name": "stderr",
     "output_type": "stream",
     "text": [
      "main.zip: 495MB [00:19, 25.0MB/s]\n"
     ]
    },
    {
     "name": "stdout",
     "output_type": "stream",
     "text": [
      "DATASET NyalaData: EXTRACTING STARTED.\n",
      "DATASET NyalaData: FINISHED.\n",
      "\n"
     ]
    },
    {
     "name": "stderr",
     "output_type": "stream",
     "text": [
      "Epoch 0:   0%|                                                               | 0/16 [00:00<?, ?it/s]/opt/conda/lib/python3.10/multiprocessing/popen_fork.py:66: RuntimeWarning: os.fork() was called. os.fork() is incompatible with multithreaded code, and JAX is multithreaded, so this will likely lead to a deadlock.\n",
      "  self.pid = os.fork()\n",
      "Epoch 0:  94%|██████████████████████████████████████████████████▋   | 15/16 [00:54<00:03,  3.48s/it]/opt/conda/lib/python3.10/multiprocessing/popen_fork.py:66: RuntimeWarning: os.fork() was called. os.fork() is incompatible with multithreaded code, and JAX is multithreaded, so this will likely lead to a deadlock.\n",
      "  self.pid = os.fork()\n",
      "Epoch 0: 100%|██████████████████████████████████████████████████████| 16/16 [00:54<00:00,  3.43s/it]\n"
     ]
    },
    {
     "name": "stdout",
     "output_type": "stream",
     "text": [
      "Epoch 1: Average Loss = 0.29118895530700684\n"
     ]
    },
    {
     "name": "stderr",
     "output_type": "stream",
     "text": [
      "Epoch 1: 100%|██████████████████████████████████████████████████████| 16/16 [00:54<00:00,  3.43s/it]\n"
     ]
    },
    {
     "name": "stdout",
     "output_type": "stream",
     "text": [
      "Epoch 2: Average Loss = 0.2925776243209839\n"
     ]
    },
    {
     "name": "stderr",
     "output_type": "stream",
     "text": [
      "Epoch 2: 100%|██████████████████████████████████████████████████████| 16/16 [00:53<00:00,  3.35s/it]\n"
     ]
    },
    {
     "name": "stdout",
     "output_type": "stream",
     "text": [
      "Epoch 3: Average Loss = 0.27751266956329346\n"
     ]
    },
    {
     "name": "stderr",
     "output_type": "stream",
     "text": [
      "Epoch 3: 100%|██████████████████████████████████████████████████████| 16/16 [00:56<00:00,  3.50s/it]\n"
     ]
    },
    {
     "name": "stdout",
     "output_type": "stream",
     "text": [
      "Epoch 4: Average Loss = 0.2656129002571106\n"
     ]
    },
    {
     "name": "stderr",
     "output_type": "stream",
     "text": [
      "Epoch 4: 100%|██████████████████████████████████████████████████████| 16/16 [00:55<00:00,  3.47s/it]\n"
     ]
    },
    {
     "name": "stdout",
     "output_type": "stream",
     "text": [
      "Epoch 5: Average Loss = 0.24264103174209595\n"
     ]
    },
    {
     "name": "stderr",
     "output_type": "stream",
     "text": [
      "Epoch 5: 100%|██████████████████████████████████████████████████████| 16/16 [00:51<00:00,  3.23s/it]\n"
     ]
    },
    {
     "name": "stdout",
     "output_type": "stream",
     "text": [
      "Epoch 6: Average Loss = 0.24884530901908875\n"
     ]
    },
    {
     "name": "stderr",
     "output_type": "stream",
     "text": [
      "Epoch 6: 100%|██████████████████████████████████████████████████████| 16/16 [00:51<00:00,  3.24s/it]\n"
     ]
    },
    {
     "name": "stdout",
     "output_type": "stream",
     "text": [
      "Epoch 7: Average Loss = 0.2518174648284912\n"
     ]
    },
    {
     "name": "stderr",
     "output_type": "stream",
     "text": [
      "Epoch 7: 100%|██████████████████████████████████████████████████████| 16/16 [00:51<00:00,  3.25s/it]\n"
     ]
    },
    {
     "name": "stdout",
     "output_type": "stream",
     "text": [
      "Epoch 8: Average Loss = 0.23116694390773773\n"
     ]
    },
    {
     "name": "stderr",
     "output_type": "stream",
     "text": [
      "Epoch 8: 100%|██████████████████████████████████████████████████████| 16/16 [00:52<00:00,  3.29s/it]\n"
     ]
    },
    {
     "name": "stdout",
     "output_type": "stream",
     "text": [
      "Epoch 9: Average Loss = 0.24895061552524567\n"
     ]
    },
    {
     "name": "stderr",
     "output_type": "stream",
     "text": [
      "Epoch 9: 100%|██████████████████████████████████████████████████████| 16/16 [00:52<00:00,  3.30s/it]\n"
     ]
    },
    {
     "name": "stdout",
     "output_type": "stream",
     "text": [
      "Epoch 10: Average Loss = 0.24108371138572693\n"
     ]
    },
    {
     "name": "stderr",
     "output_type": "stream",
     "text": [
      "Epoch 10: 100%|█████████████████████████████████████████████████████| 16/16 [00:51<00:00,  3.24s/it]\n"
     ]
    },
    {
     "name": "stdout",
     "output_type": "stream",
     "text": [
      "Epoch 11: Average Loss = 0.24148988723754883\n"
     ]
    },
    {
     "name": "stderr",
     "output_type": "stream",
     "text": [
      "Epoch 11: 100%|█████████████████████████████████████████████████████| 16/16 [00:52<00:00,  3.27s/it]\n"
     ]
    },
    {
     "name": "stdout",
     "output_type": "stream",
     "text": [
      "Epoch 12: Average Loss = 0.22399002313613892\n"
     ]
    },
    {
     "name": "stderr",
     "output_type": "stream",
     "text": [
      "Epoch 12: 100%|█████████████████████████████████████████████████████| 16/16 [00:52<00:00,  3.28s/it]\n"
     ]
    },
    {
     "name": "stdout",
     "output_type": "stream",
     "text": [
      "Epoch 13: Average Loss = 0.23638877272605896\n"
     ]
    },
    {
     "name": "stderr",
     "output_type": "stream",
     "text": [
      "Epoch 13: 100%|█████████████████████████████████████████████████████| 16/16 [00:52<00:00,  3.26s/it]\n"
     ]
    },
    {
     "name": "stdout",
     "output_type": "stream",
     "text": [
      "Epoch 14: Average Loss = 0.2504972517490387\n"
     ]
    },
    {
     "name": "stderr",
     "output_type": "stream",
     "text": [
      "Epoch 14: 100%|█████████████████████████████████████████████████████| 16/16 [00:52<00:00,  3.29s/it]\n"
     ]
    },
    {
     "name": "stdout",
     "output_type": "stream",
     "text": [
      "Epoch 15: Average Loss = 0.23929961025714874\n"
     ]
    },
    {
     "name": "stderr",
     "output_type": "stream",
     "text": [
      "Epoch 15: 100%|█████████████████████████████████████████████████████| 16/16 [00:53<00:00,  3.32s/it]\n"
     ]
    },
    {
     "name": "stdout",
     "output_type": "stream",
     "text": [
      "Epoch 16: Average Loss = 0.22706446051597595\n"
     ]
    },
    {
     "name": "stderr",
     "output_type": "stream",
     "text": [
      "Epoch 16: 100%|█████████████████████████████████████████████████████| 16/16 [00:52<00:00,  3.26s/it]\n"
     ]
    },
    {
     "name": "stdout",
     "output_type": "stream",
     "text": [
      "Epoch 17: Average Loss = 0.2170359492301941\n"
     ]
    },
    {
     "name": "stderr",
     "output_type": "stream",
     "text": [
      "Epoch 17: 100%|█████████████████████████████████████████████████████| 16/16 [00:52<00:00,  3.30s/it]\n"
     ]
    },
    {
     "name": "stdout",
     "output_type": "stream",
     "text": [
      "Epoch 18: Average Loss = 0.2417650669813156\n"
     ]
    },
    {
     "name": "stderr",
     "output_type": "stream",
     "text": [
      "Epoch 18: 100%|█████████████████████████████████████████████████████| 16/16 [00:52<00:00,  3.26s/it]\n"
     ]
    },
    {
     "name": "stdout",
     "output_type": "stream",
     "text": [
      "Epoch 19: Average Loss = 0.22416135668754578\n"
     ]
    },
    {
     "name": "stderr",
     "output_type": "stream",
     "text": [
      "Epoch 19: 100%|█████████████████████████████████████████████████████| 16/16 [00:51<00:00,  3.24s/it]"
     ]
    },
    {
     "name": "stdout",
     "output_type": "stream",
     "text": [
      "Epoch 20: Average Loss = 0.22945758700370789\n"
     ]
    },
    {
     "name": "stderr",
     "output_type": "stream",
     "text": [
      "\n"
     ]
    }
   ],
   "source": [
    "# Download dataset (if not already downloaded)\n",
    "datasets.NyalaData.get_data('../data/NyalaData')\n",
    "# Load dataset metadata\n",
    "metadata = datasets.NyalaData('../data/NyalaData')\n",
    "transform = T.Compose([T.Resize([224, 224]), T.ToTensor(), T.Normalize(mean=(0.485, 0.456, 0.406), std=(0.229, 0.224, 0.225))])\n",
    "dataset = WildlifeDataset(metadata.df, metadata.root, transform=transform)\n",
    "\n",
    "\n",
    "# Download MegaDescriptor-T backbone from HuggingFace Hub\n",
    "backbone = timm.create_model('hf-hub:BVRA/MegaDescriptor-T-224', num_classes=0, pretrained=True)\n",
    "\n",
    "# Arcface loss - needs backbone output size and number of classes.\n",
    "objective = TripletLoss()\n",
    "\n",
    "# Optimize parameters in backbone and in objective using single optimizer.\n",
    "params = itertools.chain(backbone.parameters(), objective.parameters())\n",
    "optimizer = SGD(params=params, lr=0.001, momentum=0.9)\n",
    "\n",
    "def print_epoch_loss(trainer, epoch_data):\n",
    "    # This function will print the average loss at the end of each epoch\n",
    "    print(f\"Epoch {trainer.epoch}: Average Loss = {epoch_data['train_loss_epoch_avg']}\")\n",
    "\n",
    "\n",
    "trainer = BasicTrainer(\n",
    "    dataset=dataset,\n",
    "    model=backbone,\n",
    "    objective=objective,\n",
    "    optimizer=optimizer,\n",
    "    epochs=20,\n",
    "    device='cuda',\n",
    "    epoch_callback=print_epoch_loss\n",
    ")\n",
    "\n",
    "trainer.train()"
   ]
  },
  {
   "cell_type": "code",
   "execution_count": 25,
   "id": "aa802e24",
   "metadata": {
    "execution": {
     "iopub.execute_input": "2024-08-06T08:42:54.831920Z",
     "iopub.status.busy": "2024-08-06T08:42:54.831538Z",
     "iopub.status.idle": "2024-08-06T08:42:55.354265Z",
     "shell.execute_reply": "2024-08-06T08:42:55.353367Z"
    },
    "papermill": {
     "duration": 0.80989,
     "end_time": "2024-08-06T08:42:55.356448",
     "exception": false,
     "start_time": "2024-08-06T08:42:54.546558",
     "status": "completed"
    },
    "tags": []
   },
   "outputs": [],
   "source": [
    "import torch\n",
    "\n",
    "trainer.save(\"retrained_chks\", file_name=\"tripletloss_LionData_retrained_checkpoint.pth\")"
   ]
  },
  {
   "cell_type": "code",
   "execution_count": 26,
   "id": "705c948f",
   "metadata": {
    "execution": {
     "iopub.execute_input": "2024-08-06T08:42:55.940993Z",
     "iopub.status.busy": "2024-08-06T08:42:55.940628Z",
     "iopub.status.idle": "2024-08-06T08:43:46.622354Z",
     "shell.execute_reply": "2024-08-06T08:43:46.620244Z"
    },
    "papermill": {
     "duration": 50.977676,
     "end_time": "2024-08-06T08:43:46.624582",
     "exception": false,
     "start_time": "2024-08-06T08:42:55.646906",
     "status": "completed"
    },
    "tags": []
   },
   "outputs": [
    {
     "name": "stderr",
     "output_type": "stream",
     "text": [
      "100%|█████████████████████████████████████████████████████████████████| 1/1 [00:03<00:00,  3.19s/it]\n",
      "100%|███████████████████████████████████████████████████████████████| 15/15 [00:47<00:00,  3.16s/it]"
     ]
    },
    {
     "name": "stdout",
     "output_type": "stream",
     "text": [
      "{'cosine': array([[0.79038334, 0.25119707, 0.13826722, ..., 0.591159  , 0.12097352,\n",
      "        0.8033403 ],\n",
      "       [0.3963278 , 0.7758279 , 0.48799422, ..., 0.31318957, 0.48478696,\n",
      "        0.34889925],\n",
      "       [0.73672795, 0.4618261 , 0.3236602 , ..., 0.9276824 , 0.1587424 ,\n",
      "        0.64290994],\n",
      "       ...,\n",
      "       [0.28635502, 0.7668365 , 0.5678383 , ..., 0.2121097 , 0.6098042 ,\n",
      "        0.28405485],\n",
      "       [0.74933064, 0.30364254, 0.20889974, ..., 0.77692777, 0.12606966,\n",
      "        0.8183049 ],\n",
      "       [0.11544433, 0.4671737 , 0.79013646, ..., 0.09497271, 0.86449116,\n",
      "        0.11041747]], dtype=float32)}\n"
     ]
    },
    {
     "name": "stderr",
     "output_type": "stream",
     "text": [
      "\n"
     ]
    }
   ],
   "source": [
    "dataset_database_P = WildlifeDataset(metadata.df.iloc[100:,:], metadata.root, transform=transform)\n",
    "dataset_query_P = WildlifeDataset(metadata.df.iloc[:100,:], metadata.root, transform=transform)\n",
    "\n",
    "# name = 'hf-hub:BVRA/MegaDescriptor-T-224'\n",
    "extractor_P = DeepFeatures(trainer.model , device = 'cuda')\n",
    "\n",
    "query_P, database_P = extractor_P(dataset_query_P), extractor_P(dataset_database_P)\n",
    "\n",
    "\n",
    "similarity_function = CosineSimilarity()\n",
    "similarity_P = similarity_function(query_P, database_P)\n",
    "print(similarity_P)"
   ]
  },
  {
   "cell_type": "code",
   "execution_count": 27,
   "id": "e2cc0175",
   "metadata": {
    "execution": {
     "iopub.execute_input": "2024-08-06T08:43:47.204025Z",
     "iopub.status.busy": "2024-08-06T08:43:47.203615Z",
     "iopub.status.idle": "2024-08-06T08:43:47.220361Z",
     "shell.execute_reply": "2024-08-06T08:43:47.219002Z"
    },
    "papermill": {
     "duration": 0.305554,
     "end_time": "2024-08-06T08:43:47.222499",
     "exception": false,
     "start_time": "2024-08-06T08:43:46.916945",
     "status": "completed"
    },
    "tags": []
   },
   "outputs": [
    {
     "name": "stdout",
     "output_type": "stream",
     "text": [
      "Predictions for 100 test Images:-\n",
      " ['101' '10' '57' '149' '144' '179' '147' '58' '48' '71' '87' '44' '33'\n",
      " '144' '232' '32' '131' '111' '20' '20' '116' '19' '32' '51' '260' '30'\n",
      " '111' '11' '260' '46' '88' '114' '9' '131' '114' '123' '247' '108' '152'\n",
      " '178' '27' '40' '121' '46' '8' '122' '114' '62' '144' '149' '18' '43'\n",
      " '27' '108' '82' '252' '104' '85' '32' '82' '27' '48' '63' '51' '124'\n",
      " '181' '65' '242' '11' '144' '113' '90' '60' '90' '127' '166' '90' '146'\n",
      " '27' '50' '20' '149' '23' '85' '161' '20' '30' '62' '165' '7' '65' '174'\n",
      " '149' '217' '33' '225' '29' '85' '40' '8']\n"
     ]
    },
    {
     "name": "stderr",
     "output_type": "stream",
     "text": [
      "/opt/conda/lib/python3.10/site-packages/wildlife_tools/inference/classifier.py:61: FutureWarning: DataFrame.fillna with 'method' is deprecated and will raise in a future version. Use obj.ffill() or obj.bfill() instead.\n",
      "  results = pd.DataFrame(results).T.fillna(method=\"ffill\").T\n"
     ]
    }
   ],
   "source": [
    "classifier_P = KnnClassifier(k=1, database_labels=dataset_database_P.labels_string)\n",
    "predictions_P = classifier_P(similarity_P['cosine'])\n",
    "print(\"Predictions for 100 test Images:-\\n\",predictions_P)"
   ]
  },
  {
   "cell_type": "code",
   "execution_count": 28,
   "id": "627911cd",
   "metadata": {
    "execution": {
     "iopub.execute_input": "2024-08-06T08:43:47.801688Z",
     "iopub.status.busy": "2024-08-06T08:43:47.801011Z",
     "iopub.status.idle": "2024-08-06T08:43:47.806605Z",
     "shell.execute_reply": "2024-08-06T08:43:47.805753Z"
    },
    "papermill": {
     "duration": 0.295998,
     "end_time": "2024-08-06T08:43:47.809239",
     "exception": false,
     "start_time": "2024-08-06T08:43:47.513241",
     "status": "completed"
    },
    "tags": []
   },
   "outputs": [
    {
     "name": "stdout",
     "output_type": "stream",
     "text": [
      "Accuracy on NyalaData data: 18.00%\n"
     ]
    }
   ],
   "source": [
    "accuracy_P = np.mean(dataset_query_P.labels_string == predictions_P)\n",
    "print(\"Accuracy on NyalaData data: {:.2f}%\".format(accuracy_P * 100))"
   ]
  },
  {
   "cell_type": "code",
   "execution_count": 29,
   "id": "32d1523a",
   "metadata": {
    "execution": {
     "iopub.execute_input": "2024-08-06T08:43:48.388986Z",
     "iopub.status.busy": "2024-08-06T08:43:48.388476Z",
     "iopub.status.idle": "2024-08-06T08:43:48.405605Z",
     "shell.execute_reply": "2024-08-06T08:43:48.404469Z"
    },
    "papermill": {
     "duration": 0.311785,
     "end_time": "2024-08-06T08:43:48.407563",
     "exception": false,
     "start_time": "2024-08-06T08:43:48.095778",
     "status": "completed"
    },
    "tags": []
   },
   "outputs": [
    {
     "name": "stdout",
     "output_type": "stream",
     "text": [
      "Precision: 0.6083333333333333\n",
      "Recall: 0.18\n",
      "F1 Score: 0.18985714285714286\n"
     ]
    }
   ],
   "source": [
    "precision_P = precision_score(dataset_query_P.labels_string, predictions_P, average='weighted',zero_division=1)\n",
    "recall_P = recall_score(dataset_query_P.labels_string, predictions_P, average='weighted',zero_division=1)\n",
    "f1_P = f1_score(dataset_query_P.labels_string, predictions_P, average='weighted',zero_division=1)\n",
    "print(\"Precision:\", precision_P)\n",
    "print(\"Recall:\", recall_P)\n",
    "print(\"F1 Score:\", f1_P)"
   ]
  },
  {
   "cell_type": "markdown",
   "id": "f454f9ad",
   "metadata": {
    "papermill": {
     "duration": 0.290536,
     "end_time": "2024-08-06T08:43:48.985131",
     "exception": false,
     "start_time": "2024-08-06T08:43:48.694595",
     "status": "completed"
    },
    "tags": []
   },
   "source": [
    "**StripeSpotter Dataset**"
   ]
  },
  {
   "cell_type": "code",
   "execution_count": 30,
   "id": "f6abbcb7",
   "metadata": {
    "execution": {
     "iopub.execute_input": "2024-08-06T08:43:49.616597Z",
     "iopub.status.busy": "2024-08-06T08:43:49.616250Z",
     "iopub.status.idle": "2024-08-06T08:52:05.712595Z",
     "shell.execute_reply": "2024-08-06T08:52:05.711409Z"
    },
    "papermill": {
     "duration": 496.442753,
     "end_time": "2024-08-06T08:52:05.714940",
     "exception": false,
     "start_time": "2024-08-06T08:43:49.272187",
     "status": "completed"
    },
    "tags": []
   },
   "outputs": [
    {
     "name": "stdout",
     "output_type": "stream",
     "text": [
      "DATASET StripeSpotter: DOWNLOADING STARTED.\n"
     ]
    },
    {
     "name": "stderr",
     "output_type": "stream",
     "text": [
      "data-20110718.zip: 71.7MB [00:00, 126MB/s]                            \n",
      "data-20110718.z02: 100%|██████████| 78.6M/78.6M [00:00<00:00, 102MB/s] \n",
      "data-20110718.z01: 100%|██████████| 78.6M/78.6M [00:00<00:00, 143MB/s]\n"
     ]
    },
    {
     "name": "stdout",
     "output_type": "stream",
     "text": [
      "DATASET StripeSpotter: EXTRACTING STARTED.\n",
      " copying: data/\n",
      " copying: data/.DS_Store\n",
      " copying: data/images/\n",
      " copying: data/images/img-0000001.jpg\n",
      " copying: data/images/img-0000002.jpg\n",
      " copying: data/images/img-0000003.jpg\n",
      " copying: data/images/img-0000004.jpg\n",
      " copying: data/images/img-0000005.jpg\n",
      " copying: data/images/img-0000006.jpg\n",
      " copying: data/images/img-0000007.jpg\n",
      " copying: data/images/img-0000008.jpg\n",
      " copying: data/images/img-0000009.jpg\n",
      " copying: data/images/img-0000010.jpg\n",
      " copying: data/images/img-0000011.jpg\n",
      " copying: data/images/img-0000012.jpg\n",
      " copying: data/images/img-0000013.jpg\n",
      " copying: data/images/img-0000014.jpg\n",
      " copying: data/images/img-0000015.jpg\n",
      " copying: data/images/img-0000016.jpg\n",
      " copying: data/images/img-0000017.jpg\n",
      " copying: data/images/img-0000018.jpg\n",
      " copying: data/images/img-0000019.jpg\n",
      " copying: data/images/img-0000020.jpg\n",
      " copying: data/images/img-0000021.jpg\n",
      " copying: data/images/img-0000022.jpg\n",
      " copying: data/images/img-0000023.jpg\n",
      " copying: data/images/img-0000024.jpg\n",
      " copying: data/images/img-0000025.jpg\n",
      " copying: data/images/img-0000026.jpg\n",
      " copying: data/images/img-0000027.jpg\n",
      " copying: data/images/img-0000028.jpg\n",
      " copying: data/images/img-0000029.jpg\n",
      " copying: data/images/img-0000030.jpg\n",
      " copying: data/images/img-0000031.jpg\n",
      " copying: data/images/img-0000032.jpg\n",
      " copying: data/images/img-0000033.jpg\n",
      " copying: data/images/img-0000034.jpg\n",
      " copying: data/images/img-0000035.jpg\n",
      " copying: data/images/img-0000036.jpg\n",
      " copying: data/images/img-0000037.jpg\n",
      " copying: data/images/img-0000038.jpg\n",
      " copying: data/images/img-0000039.jpg\n",
      " copying: data/images/img-0000040.jpg\n",
      " copying: data/images/img-0000041.jpg\n",
      " copying: data/images/img-0000042.jpg\n",
      " copying: data/images/img-0000043.jpg\n",
      " copying: data/images/img-0000044.jpg\n",
      " copying: data/images/img-0000045.jpg\n",
      " copying: data/images/img-0000046.jpg\n",
      " copying: data/images/img-0000047.jpg\n",
      " copying: data/images/img-0000048.jpg\n",
      " copying: data/images/img-0000049.jpg\n",
      " copying: data/images/img-0000050.jpg\n",
      " copying: data/images/img-0000051.jpg\n",
      " copying: data/images/img-0000052.jpg\n",
      " copying: data/images/img-0000053.jpg\n",
      " copying: data/images/img-0000054.jpg\n",
      " copying: data/images/img-0000055.jpg\n",
      " copying: data/images/img-0000056.jpg\n",
      " copying: data/images/img-0000057.jpg\n",
      " copying: data/images/img-0000058.jpg\n",
      " copying: data/images/img-0000059.jpg\n",
      " copying: data/images/img-0000060.jpg\n",
      " copying: data/images/img-0000061.jpg\n",
      " copying: data/images/img-0000062.jpg\n",
      " copying: data/images/img-0000063.jpg\n",
      " copying: data/images/img-0000064.jpg\n",
      " copying: data/images/img-0000065.jpg\n",
      " copying: data/images/img-0000066.jpg\n",
      " copying: data/images/img-0000067.jpg\n",
      " copying: data/images/img-0000068.jpg\n",
      " copying: data/images/img-0000069.jpg\n",
      " copying: data/images/img-0000070.jpg\n",
      " copying: data/images/img-0000071.jpg\n",
      " copying: data/images/img-0000072.jpg\n",
      " copying: data/images/img-0000073.jpg\n",
      " copying: data/images/img-0000074.jpg\n",
      " copying: data/images/img-0000075.jpg\n",
      " copying: data/images/img-0000076.jpg\n",
      " copying: data/images/img-0000077.jpg\n",
      " copying: data/images/img-0000078.jpg\n",
      " copying: data/images/img-0000079.jpg\n",
      " copying: data/images/img-0000080.jpg\n",
      " copying: data/images/img-0000081.jpg\n",
      " copying: data/images/img-0000082.jpg\n",
      " copying: data/images/img-0000083.jpg\n",
      " copying: data/images/img-0000084.jpg\n",
      " copying: data/images/img-0000085.jpg\n",
      " copying: data/images/img-0000086.jpg\n",
      " copying: data/images/img-0000087.jpg\n",
      " copying: data/images/img-0000088.jpg\n",
      " copying: data/images/img-0000089.jpg\n",
      " copying: data/images/img-0000090.jpg\n",
      " copying: data/images/img-0000091.jpg\n",
      " copying: data/images/img-0000092.jpg\n",
      " copying: data/images/img-0000093.jpg\n",
      " copying: data/images/img-0000094.jpg\n",
      " copying: data/images/img-0000095.jpg\n",
      " copying: data/images/img-0000096.jpg\n",
      " copying: data/images/img-0000097.jpg\n",
      " copying: data/images/img-0000098.jpg\n",
      " copying: data/images/img-0000099.jpg\n",
      " copying: data/images/img-0000100.jpg\n",
      " copying: data/images/img-0000101.jpg\n",
      " copying: data/images/img-0000102.jpg\n",
      " copying: data/images/img-0000103.jpg\n",
      " copying: data/images/img-0000104.jpg\n",
      " copying: data/images/img-0000105.jpg\n",
      " copying: data/images/img-0000106.jpg\n",
      " copying: data/images/img-0000107.jpg\n",
      " copying: data/images/img-0000108.jpg\n",
      " copying: data/images/img-0000109.jpg\n",
      " copying: data/images/img-0000110.jpg\n",
      " copying: data/images/img-0000111.jpg\n",
      " copying: data/images/img-0000112.jpg\n",
      " copying: data/images/img-0000113.jpg\n",
      " copying: data/images/img-0000114.jpg\n",
      " copying: data/images/img-0000115.jpg\n",
      " copying: data/images/img-0000116.jpg\n",
      " copying: data/images/img-0000117.jpg\n",
      " copying: data/images/img-0000118.jpg\n",
      " copying: data/images/img-0000119.jpg\n",
      " copying: data/images/img-0000120.jpg\n",
      " copying: data/images/img-0000121.jpg\n",
      " copying: data/images/img-0000122.jpg\n",
      " copying: data/images/img-0000123.jpg\n",
      " copying: data/images/img-0000124.jpg\n",
      " copying: data/images/img-0000125.jpg\n",
      " copying: data/images/img-0000126.jpg\n",
      " copying: data/images/img-0000127.jpg\n",
      " copying: data/images/img-0000128.jpg\n",
      " copying: data/images/img-0000129.jpg\n",
      " copying: data/images/img-0000130.jpg\n",
      " copying: data/images/img-0000131.jpg\n",
      " copying: data/images/img-0000132.jpg\n",
      " copying: data/images/img-0000133.jpg\n",
      " copying: data/images/img-0000134.jpg\n",
      " copying: data/images/img-0000135.jpg\n",
      " copying: data/images/img-0000136.jpg\n",
      " copying: data/images/img-0000137.jpg\n",
      " copying: data/images/img-0000138.jpg\n",
      " copying: data/images/img-0000139.jpg\n",
      " copying: data/images/img-0000140.jpg\n",
      " copying: data/images/img-0000141.jpg\n",
      " copying: data/images/img-0000142.jpg\n",
      " copying: data/images/img-0000143.jpg\n",
      " copying: data/images/img-0000144.jpg\n",
      " copying: data/images/img-0000145.jpg\n",
      " copying: data/images/img-0000146.jpg\n",
      " copying: data/images/img-0000147.jpg\n",
      " copying: data/images/img-0000148.jpg\n",
      " copying: data/images/img-0000149.jpg\n",
      " copying: data/images/img-0000150.jpg\n",
      " copying: data/images/img-0000151.jpg\n",
      " copying: data/images/img-0000152.jpg\n",
      " copying: data/images/img-0000153.jpg\n",
      " copying: data/images/img-0000154.jpg\n",
      " copying: data/images/img-0000155.jpg\n",
      " copying: data/images/img-0000156.jpg\n",
      " copying: data/images/img-0000157.jpg\n",
      " copying: data/images/img-0000158.jpg\n",
      " copying: data/images/img-0000159.jpg\n",
      " copying: data/images/img-0000160.jpg\n",
      " copying: data/images/img-0000161.jpg\n",
      " copying: data/images/img-0000162.jpg\n",
      " copying: data/images/img-0000163.jpg\n",
      " copying: data/images/img-0000164.jpg\n",
      " copying: data/images/img-0000165.jpg\n",
      " copying: data/images/img-0000166.jpg\n",
      " copying: data/images/img-0000167.jpg\n",
      " copying: data/images/img-0000168.jpg\n",
      " copying: data/images/img-0000169.jpg\n",
      " copying: data/images/img-0000170.jpg\n",
      " copying: data/images/img-0000171.jpg\n",
      " copying: data/images/img-0000172.jpg\n",
      " copying: data/images/img-0000173.jpg\n",
      " copying: data/images/img-0000174.jpg\n",
      " copying: data/images/img-0000175.jpg\n",
      " copying: data/images/img-0000176.jpg\n",
      " copying: data/images/img-0000177.jpg\n",
      " copying: data/images/img-0000178.jpg\n",
      " copying: data/images/img-0000179.jpg\n",
      " copying: data/images/img-0000180.jpg\n",
      " copying: data/images/img-0000181.jpg\n",
      " copying: data/images/img-0000182.jpg\n",
      " copying: data/images/img-0000183.jpg\n",
      " copying: data/images/img-0000184.jpg\n",
      " copying: data/images/img-0000185.jpg\n",
      " copying: data/images/img-0000186.jpg\n",
      " copying: data/images/img-0000187.jpg\n",
      " copying: data/images/img-0000188.jpg\n",
      " copying: data/images/img-0000189.jpg\n",
      " copying: data/images/img-0000190.jpg\n",
      " copying: data/images/img-0000191.jpg\n",
      " copying: data/images/img-0000192.jpg\n",
      " copying: data/images/img-0000193.jpg\n",
      " copying: data/images/img-0000194.jpg\n",
      " copying: data/images/img-0000195.jpg\n",
      " copying: data/images/img-0000196.jpg\n",
      " copying: data/images/img-0000197.jpg\n",
      " copying: data/images/img-0000198.jpg\n",
      " copying: data/images/img-0000199.jpg\n",
      " copying: data/images/img-0000200.jpg\n",
      " copying: data/images/img-0000201.jpg\n",
      " copying: data/images/img-0000202.jpg\n",
      " copying: data/images/img-0000203.jpg\n",
      " copying: data/images/img-0000204.jpg\n",
      " copying: data/images/img-0000205.jpg\n",
      " copying: data/images/img-0000206.jpg\n",
      " copying: data/images/img-0000207.jpg\n",
      " copying: data/images/img-0000208.jpg\n",
      " copying: data/images/img-0000209.jpg\n",
      " copying: data/images/img-0000210.jpg\n",
      " copying: data/images/img-0000211.jpg\n",
      " copying: data/images/img-0000212.jpg\n",
      " copying: data/images/img-0000213.jpg\n",
      " copying: data/images/img-0000214.jpg\n",
      " copying: data/images/img-0000215.jpg\n",
      " copying: data/images/img-0000216.jpg\n",
      " copying: data/images/img-0000217.jpg\n",
      " copying: data/images/img-0000218.jpg\n",
      " copying: data/images/img-0000219.jpg\n",
      " copying: data/images/img-0000220.jpg\n",
      " copying: data/images/img-0000221.jpg\n",
      " copying: data/images/img-0000222.jpg\n",
      " copying: data/images/img-0000223.jpg\n",
      " copying: data/images/img-0000224.jpg\n",
      " copying: data/images/img-0000225.jpg\n",
      " copying: data/images/img-0000226.jpg\n",
      " copying: data/images/img-0000227.jpg\n",
      " copying: data/images/img-0000228.jpg\n",
      " copying: data/images/img-0000229.jpg\n",
      " copying: data/images/img-0000230.jpg\n",
      " copying: data/images/img-0000231.jpg\n",
      " copying: data/images/img-0000232.jpg\n",
      " copying: data/images/img-0000233.jpg\n",
      " copying: data/images/img-0000234.jpg\n",
      " copying: data/images/img-0000235.jpg\n",
      " copying: data/images/img-0000236.jpg\n",
      " copying: data/images/img-0000237.jpg\n",
      " copying: data/images/img-0000238.jpg\n",
      " copying: data/images/img-0000239.jpg\n",
      " copying: data/images/img-0000240.jpg\n",
      " copying: data/images/img-0000241.jpg\n",
      " copying: data/images/img-0000242.jpg\n",
      " copying: data/images/img-0000243.jpg\n",
      " copying: data/images/img-0000244.jpg\n",
      " copying: data/images/img-0000245.jpg\n",
      " copying: data/images/img-0000246.jpg\n",
      " copying: data/images/img-0000247.jpg\n",
      " copying: data/images/img-0000248.jpg\n",
      " copying: data/images/img-0000249.jpg\n",
      " copying: data/images/img-0000250.jpg\n",
      " copying: data/images/img-0000251.jpg\n",
      " copying: data/images/img-0000252.jpg\n",
      " copying: data/images/img-0000253.jpg\n",
      " copying: data/images/img-0000254.jpg\n",
      " copying: data/images/img-0000255.jpg\n",
      " copying: data/images/img-0000256.jpg\n",
      " copying: data/images/img-0000257.jpg\n",
      " copying: data/images/img-0000258.jpg\n",
      " copying: data/images/img-0000259.jpg\n",
      " copying: data/images/img-0000260.jpg\n",
      " copying: data/images/img-0000261.jpg\n",
      " copying: data/images/img-0000262.jpg\n",
      " copying: data/images/img-0000263.jpg\n",
      " copying: data/images/img-0000264.jpg\n",
      " copying: data/images/img-0000265.jpg\n",
      " copying: data/images/img-0000266.jpg\n",
      " copying: data/images/img-0000267.jpg\n",
      " copying: data/images/img-0000268.jpg\n",
      " copying: data/images/img-0000269.jpg\n",
      " copying: data/images/img-0000270.jpg\n",
      " copying: data/images/img-0000271.jpg\n",
      " copying: data/images/img-0000272.jpg\n",
      " copying: data/images/img-0000273.jpg\n",
      " copying: data/images/img-0000274.jpg\n",
      " copying: data/images/img-0000275.jpg\n",
      " copying: data/images/img-0000276.jpg\n",
      " copying: data/images/img-0000277.jpg\n",
      " copying: data/images/img-0000278.jpg\n",
      " copying: data/images/img-0000279.jpg\n",
      " copying: data/images/img-0000280.jpg\n",
      " copying: data/images/img-0000281.jpg\n",
      " copying: data/images/img-0000282.jpg\n",
      " copying: data/images/img-0000283.jpg\n",
      " copying: data/images/img-0000284.jpg\n",
      " copying: data/images/img-0000285.jpg\n",
      " copying: data/images/img-0000286.jpg\n",
      " copying: data/images/img-0000287.jpg\n",
      " copying: data/images/img-0000288.jpg\n",
      " copying: data/images/img-0000289.jpg\n",
      " copying: data/images/img-0000290.jpg\n",
      " copying: data/images/img-0000291.jpg\n",
      " copying: data/images/img-0000292.jpg\n",
      " copying: data/images/img-0000293.jpg\n",
      " copying: data/images/img-0000294.jpg\n",
      " copying: data/images/img-0000295.jpg\n",
      " copying: data/images/img-0000296.jpg\n",
      " copying: data/images/img-0000297.jpg\n",
      " copying: data/images/img-0000298.jpg\n",
      " copying: data/images/img-0000299.jpg\n",
      " copying: data/images/img-0000300.jpg\n",
      " copying: data/images/img-0000301.jpg\n",
      " copying: data/images/img-0000302.jpg\n",
      " copying: data/images/img-0000303.jpg\n",
      " copying: data/images/img-0000304.jpg\n",
      " copying: data/images/img-0000305.jpg\n",
      " copying: data/images/img-0000306.jpg\n",
      " copying: data/images/img-0000307.jpg\n",
      " copying: data/images/img-0000308.jpg\n",
      " copying: data/images/img-0000309.jpg\n",
      " copying: data/images/img-0000310.jpg\n",
      " copying: data/images/img-0000311.jpg\n",
      " copying: data/images/img-0000312.jpg\n",
      " copying: data/images/img-0000313.jpg\n",
      " copying: data/images/img-0000314.jpg\n",
      " copying: data/images/img-0000315.jpg\n",
      " copying: data/images/img-0000316.jpg\n",
      " copying: data/images/img-0000317.jpg\n",
      " copying: data/images/img-0000318.jpg\n",
      " copying: data/images/img-0000319.jpg\n",
      " copying: data/images/img-0000320.jpg\n",
      " copying: data/images/img-0000321.jpg\n",
      " copying: data/images/img-0000322.jpg\n",
      " copying: data/images/img-0000323.jpg\n",
      " copying: data/images/img-0000324.jpg\n",
      " copying: data/images/img-0000325.jpg\n",
      " copying: data/images/img-0000326.jpg\n",
      " copying: data/images/img-0000327.jpg\n",
      " copying: data/images/img-0000328.jpg\n",
      " copying: data/images/img-0000329.jpg\n",
      " copying: data/images/img-0000330.jpg\n",
      " copying: data/images/img-0000331.jpg\n",
      " copying: data/images/img-0000332.jpg\n",
      " copying: data/images/img-0000333.jpg\n",
      " copying: data/images/img-0000334.jpg\n",
      " copying: data/images/img-0000335.jpg\n",
      " copying: data/images/img-0000336.jpg\n",
      " copying: data/images/img-0000337.jpg\n",
      " copying: data/images/img-0000338.jpg\n",
      " copying: data/images/img-0000339.jpg\n",
      " copying: data/images/img-0000340.jpg\n",
      " copying: data/images/img-0000341.jpg\n",
      " copying: data/images/img-0000342.jpg\n",
      " copying: data/images/img-0000343.jpg\n",
      " copying: data/images/img-0000344.jpg\n",
      " copying: data/images/img-0000345.jpg\n",
      " copying: data/images/img-0000346.jpg\n",
      " copying: data/images/img-0000347.jpg\n",
      " copying: data/images/img-0000348.jpg\n",
      " copying: data/images/img-0000349.jpg\n",
      " copying: data/images/img-0000350.jpg\n",
      " copying: data/images/img-0000351.jpg\n",
      " copying: data/images/img-0000352.jpg\n",
      " copying: data/images/img-0000353.jpg\n",
      " copying: data/images/img-0000354.jpg\n",
      " copying: data/images/img-0000355.jpg\n",
      " copying: data/images/img-0000356.jpg\n",
      " copying: data/images/img-0000357.jpg\n",
      " copying: data/images/img-0000358.jpg\n",
      " copying: data/images/img-0000359.jpg\n",
      " copying: data/images/img-0000360.jpg\n",
      " copying: data/images/img-0000361.jpg\n",
      " copying: data/images/img-0000362.jpg\n",
      " copying: data/images/img-0000363.jpg\n",
      " copying: data/images/img-0000364.jpg\n",
      " copying: data/images/img-0000365.jpg\n",
      " copying: data/images/img-0000366.jpg\n",
      " copying: data/images/img-0000367.jpg\n",
      " copying: data/images/img-0000368.jpg\n",
      " copying: data/images/img-0000369.jpg\n",
      " copying: data/images/img-0000370.jpg\n",
      " copying: data/images/img-0000371.jpg\n",
      " copying: data/images/img-0000372.jpg\n",
      " copying: data/images/img-0000373.jpg\n",
      " copying: data/images/img-0000374.jpg\n",
      " copying: data/images/img-0000375.jpg\n",
      " copying: data/images/img-0000376.jpg\n",
      " copying: data/images/img-0000377.jpg\n",
      " copying: data/images/img-0000378.jpg\n",
      " copying: data/images/img-0000379.jpg\n",
      " copying: data/images/img-0000380.jpg\n",
      " copying: data/images/img-0000381.jpg\n",
      " copying: data/images/img-0000382.jpg\n",
      " copying: data/images/img-0000383.jpg\n",
      " copying: data/images/img-0000384.jpg\n",
      " copying: data/images/img-0000385.jpg\n",
      " copying: data/images/img-0000386.jpg\n",
      " copying: data/images/img-0000387.jpg\n",
      " copying: data/images/img-0000388.jpg\n",
      " copying: data/images/img-0000389.jpg\n",
      " copying: data/images/img-0000390.jpg\n",
      " copying: data/images/img-0000391.jpg\n",
      " copying: data/images/img-0000392.jpg\n",
      " copying: data/images/img-0000393.jpg\n",
      " copying: data/images/img-0000394.jpg\n",
      " copying: data/images/img-0000395.jpg\n",
      " copying: data/images/img-0000396.jpg\n",
      " copying: data/images/img-0000397.jpg\n",
      " copying: data/images/img-0000398.jpg\n",
      " copying: data/images/img-0000399.jpg\n",
      " copying: data/images/img-0000400.jpg\n",
      " copying: data/images/img-0000401.jpg\n",
      " copying: data/images/img-0000402.jpg\n",
      " copying: data/images/img-0000403.jpg\n",
      " copying: data/images/img-0000404.jpg\n",
      " copying: data/images/img-0000405.jpg\n",
      " copying: data/images/img-0000406.jpg\n",
      " copying: data/images/img-0000407.jpg\n",
      " copying: data/images/img-0000408.jpg\n",
      " copying: data/images/img-0000409.jpg\n",
      " copying: data/images/img-0000410.jpg\n",
      " copying: data/images/img-0000411.jpg\n",
      " copying: data/images/img-0000412.jpg\n",
      " copying: data/images/img-0000413.jpg\n",
      " copying: data/images/img-0000414.jpg\n",
      " copying: data/images/img-0000415.jpg\n",
      " copying: data/images/img-0000416.jpg\n",
      " copying: data/images/img-0000417.jpg\n",
      " copying: data/images/img-0000418.jpg\n",
      " copying: data/images/img-0000419.jpg\n",
      " copying: data/images/img-0000420.jpg\n",
      " copying: data/images/img-0000421.jpg\n",
      " copying: data/images/img-0000422.jpg\n",
      " copying: data/images/img-0000423.jpg\n",
      " copying: data/images/img-0000424.jpg\n",
      " copying: data/images/img-0000425.jpg\n",
      " copying: data/images/img-0000426.jpg\n",
      " copying: data/images/img-0000427.jpg\n",
      " copying: data/images/img-0000428.jpg\n",
      " copying: data/images/img-0000429.jpg\n",
      " copying: data/images/img-0000430.jpg\n",
      " copying: data/images/img-0000431.jpg\n",
      " copying: data/images/img-0000432.jpg\n",
      " copying: data/images/img-0000433.jpg\n",
      " copying: data/images/img-0000434.jpg\n",
      " copying: data/images/img-0000435.jpg\n",
      " copying: data/images/img-0000436.jpg\n",
      " copying: data/images/img-0000437.jpg\n",
      " copying: data/images/img-0000438.jpg\n",
      " copying: data/images/img-0000439.jpg\n",
      " copying: data/images/img-0000440.jpg\n",
      " copying: data/images/img-0000441.jpg\n",
      " copying: data/images/img-0000442.jpg\n",
      " copying: data/images/img-0000443.jpg\n",
      " copying: data/images/img-0000444.jpg\n",
      " copying: data/images/img-0000445.jpg\n",
      " copying: data/images/img-0000446.jpg\n",
      " copying: data/images/img-0000447.jpg\n",
      " copying: data/images/img-0000448.jpg\n",
      " copying: data/images/img-0000449.jpg\n",
      " copying: data/images/img-0000450.jpg\n",
      " copying: data/images/img-0000451.jpg\n",
      " copying: data/images/img-0000452.jpg\n",
      " copying: data/images/img-0000453.jpg\n",
      " copying: data/images/img-0000454.jpg\n",
      " copying: data/images/img-0000455.jpg\n",
      " copying: data/images/img-0000456.jpg\n",
      " copying: data/images/img-0000457.jpg\n",
      " copying: data/images/img-0000458.jpg\n",
      " copying: data/images/img-0000459.jpg\n",
      " copying: data/images/img-0000460.jpg\n",
      " copying: data/images/img-0000461.jpg\n",
      " copying: data/images/img-0000462.jpg\n",
      " copying: data/images/img-0000463.jpg\n",
      " copying: data/images/img-0000464.jpg\n",
      " copying: data/images/img-0000465.jpg\n",
      " copying: data/images/img-0000466.jpg\n",
      " copying: data/images/img-0000467.jpg\n",
      " copying: data/images/img-0000468.jpg\n",
      " copying: data/images/img-0000469.jpg\n",
      " copying: data/images/img-0000470.jpg\n",
      " copying: data/images/img-0000471.jpg\n",
      " copying: data/images/img-0000472.jpg\n",
      " copying: data/images/img-0000473.jpg\n",
      " copying: data/images/img-0000474.jpg\n",
      " copying: data/images/img-0000475.jpg\n",
      " copying: data/images/img-0000476.jpg\n",
      " copying: data/images/img-0000477.jpg\n",
      " copying: data/images/img-0000478.jpg\n",
      " copying: data/images/img-0000479.jpg\n",
      " copying: data/images/img-0000480.jpg\n",
      " copying: data/images/img-0000481.jpg\n",
      " copying: data/images/img-0000482.jpg\n",
      " copying: data/images/img-0000483.jpg\n",
      " copying: data/images/img-0000484.jpg\n",
      " copying: data/images/img-0000485.jpg\n",
      " copying: data/images/img-0000486.jpg\n",
      " copying: data/images/img-0000487.jpg\n",
      " copying: data/images/img-0000488.jpg\n",
      " copying: data/images/img-0000489.jpg\n",
      " copying: data/images/img-0000490.jpg\n",
      " copying: data/images/img-0000491.jpg\n",
      " copying: data/images/img-0000492.jpg\n",
      " copying: data/images/img-0000493.jpg\n",
      " copying: data/images/img-0000494.jpg\n",
      " copying: data/images/img-0000495.jpg\n",
      " copying: data/images/img-0000496.jpg\n",
      " copying: data/images/img-0000497.jpg\n",
      " copying: data/images/img-0000498.jpg\n",
      " copying: data/images/img-0000499.jpg\n",
      " copying: data/images/img-0000500.jpg\n",
      " copying: data/images/img-0000501.jpg\n",
      " copying: data/images/img-0000502.jpg\n",
      " copying: data/images/img-0000503.jpg\n",
      " copying: data/images/img-0000504.jpg\n",
      " copying: data/images/img-0000505.jpg\n",
      " copying: data/images/img-0000506.jpg\n",
      " copying: data/images/img-0000507.jpg\n",
      " copying: data/images/img-0000508.jpg\n",
      " copying: data/images/img-0000509.jpg\n",
      " copying: data/images/img-0000510.jpg\n",
      " copying: data/images/img-0000511.jpg\n",
      " copying: data/images/img-0000512.jpg\n",
      " copying: data/images/img-0000513.jpg\n",
      " copying: data/images/img-0000514.jpg\n",
      " copying: data/images/img-0000515.jpg\n",
      " copying: data/images/img-0000516.jpg\n",
      " copying: data/images/img-0000517.jpg\n",
      " copying: data/images/img-0000518.jpg\n",
      " copying: data/images/img-0000519.jpg\n",
      " copying: data/images/img-0000520.jpg\n",
      " copying: data/images/img-0000521.jpg\n",
      " copying: data/images/img-0000522.jpg\n",
      " copying: data/images/img-0000523.jpg\n",
      " copying: data/images/img-0000524.jpg\n",
      " copying: data/images/img-0000525.jpg\n",
      " copying: data/images/img-0000526.jpg\n",
      " copying: data/images/img-0000527.jpg\n",
      " copying: data/images/img-0000528.jpg\n",
      " copying: data/images/img-0000529.jpg\n",
      " copying: data/images/img-0000530.jpg\n",
      " copying: data/images/img-0000531.jpg\n",
      " copying: data/images/img-0000532.jpg\n",
      " copying: data/images/img-0000533.jpg\n",
      " copying: data/images/img-0000534.jpg\n",
      " copying: data/images/img-0000535.jpg\n",
      " copying: data/images/img-0000536.jpg\n",
      " copying: data/images/img-0000537.jpg\n",
      " copying: data/images/img-0000538.jpg\n",
      " copying: data/images/img-0000539.jpg\n",
      " copying: data/images/img-0000540.jpg\n",
      " copying: data/images/img-0000541.jpg\n",
      " copying: data/images/img-0000542.jpg\n",
      " copying: data/images/img-0000543.jpg\n",
      " copying: data/images/img-0000544.jpg\n",
      " copying: data/images/img-0000545.jpg\n",
      " copying: data/images/img-0000546.jpg\n",
      " copying: data/images/img-0000547.jpg\n",
      " copying: data/images/img-0000548.jpg\n",
      " copying: data/images/img-0000549.jpg\n",
      " copying: data/images/img-0000550.jpg\n",
      " copying: data/images/img-0000551.jpg\n",
      " copying: data/images/img-0000552.jpg\n",
      " copying: data/images/img-0000553.jpg\n",
      " copying: data/images/img-0000554.jpg\n",
      " copying: data/images/img-0000555.jpg\n",
      " copying: data/images/img-0000556.jpg\n",
      " copying: data/images/img-0000557.jpg\n",
      " copying: data/images/img-0000558.jpg\n",
      " copying: data/images/img-0000559.jpg\n",
      " copying: data/images/img-0000560.jpg\n",
      " copying: data/images/img-0000561.jpg\n",
      " copying: data/images/img-0000562.jpg\n",
      " copying: data/images/img-0000563.jpg\n",
      " copying: data/images/img-0000564.jpg\n",
      " copying: data/images/img-0000565.jpg\n",
      " copying: data/images/img-0000566.jpg\n",
      " copying: data/images/img-0000567.jpg\n",
      " copying: data/images/img-0000568.jpg\n",
      " copying: data/images/img-0000569.jpg\n",
      " copying: data/images/img-0000570.jpg\n",
      " copying: data/images/img-0000571.jpg\n",
      " copying: data/images/img-0000572.jpg\n",
      " copying: data/images/img-0000573.jpg\n",
      " copying: data/images/img-0000574.jpg\n",
      " copying: data/images/img-0000575.jpg\n",
      " copying: data/images/img-0000576.jpg\n",
      " copying: data/images/img-0000577.jpg\n",
      " copying: data/images/img-0000578.jpg\n",
      " copying: data/images/img-0000579.jpg\n",
      " copying: data/images/img-0000580.jpg\n",
      " copying: data/images/img-0000581.jpg\n",
      " copying: data/images/img-0000582.jpg\n",
      " copying: data/images/img-0000583.jpg\n",
      " copying: data/images/img-0000584.jpg\n",
      " copying: data/images/img-0000585.jpg\n",
      " copying: data/images/img-0000586.jpg\n",
      " copying: data/images/img-0000587.jpg\n",
      " copying: data/images/img-0000588.jpg\n",
      " copying: data/images/img-0000589.jpg\n",
      " copying: data/images/img-0000590.jpg\n",
      " copying: data/images/img-0000591.jpg\n",
      " copying: data/images/img-0000592.jpg\n",
      " copying: data/images/img-0000593.jpg\n",
      " copying: data/images/img-0000594.jpg\n",
      " copying: data/images/img-0000595.jpg\n",
      " copying: data/images/img-0000596.jpg\n",
      " copying: data/images/img-0000597.jpg\n",
      " copying: data/images/img-0000598.jpg\n",
      " copying: data/images/img-0000599.jpg\n",
      " copying: data/images/img-0000600.jpg\n",
      " copying: data/images/img-0000601.jpg\n",
      " copying: data/images/img-0000602.jpg\n",
      " copying: data/images/img-0000603.jpg\n",
      " copying: data/images/img-0000604.jpg\n",
      " copying: data/images/img-0000605.jpg\n",
      " copying: data/images/img-0000606.jpg\n",
      " copying: data/images/img-0000607.jpg\n",
      " copying: data/images/img-0000608.jpg\n",
      " copying: data/images/img-0000609.jpg\n",
      " copying: data/images/img-0000610.jpg\n",
      " copying: data/images/img-0000611.jpg\n",
      " copying: data/images/img-0000612.jpg\n",
      " copying: data/images/img-0000613.jpg\n",
      " copying: data/images/img-0000614.jpg\n",
      " copying: data/images/img-0000615.jpg\n",
      " copying: data/images/img-0000616.jpg\n",
      " copying: data/images/img-0000617.jpg\n",
      " copying: data/images/img-0000618.jpg\n",
      " copying: data/images/img-0000619.jpg\n",
      " copying: data/images/img-0000620.jpg\n",
      " copying: data/images/img-0000621.jpg\n",
      " copying: data/images/img-0000622.jpg\n",
      " copying: data/images/img-0000623.jpg\n",
      " copying: data/images/img-0000624.jpg\n",
      " copying: data/images/img-0000625.jpg\n",
      " copying: data/images/img-0000626.jpg\n",
      " copying: data/images/img-0000627.jpg\n",
      " copying: data/images/img-0000628.jpg\n",
      " copying: data/images/img-0000629.jpg\n",
      " copying: data/images/img-0000630.jpg\n",
      " copying: data/images/img-0000631.jpg\n",
      " copying: data/images/img-0000632.jpg\n",
      " copying: data/images/img-0000633.jpg\n",
      " copying: data/images/img-0000634.jpg\n",
      " copying: data/images/img-0000635.jpg\n",
      " copying: data/images/img-0000636.jpg\n",
      " copying: data/images/img-0000637.jpg\n",
      " copying: data/images/img-0000638.jpg\n",
      " copying: data/images/img-0000639.jpg\n",
      " copying: data/images/img-0000640.jpg\n",
      " copying: data/images/img-0000641.jpg\n",
      " copying: data/images/img-0000642.jpg\n",
      " copying: data/images/img-0000643.jpg\n",
      " copying: data/images/img-0000644.jpg\n",
      " copying: data/images/img-0000645.jpg\n",
      " copying: data/images/img-0000646.jpg\n",
      " copying: data/images/img-0000647.jpg\n",
      " copying: data/images/img-0000648.jpg\n",
      " copying: data/images/img-0000649.jpg\n",
      " copying: data/images/img-0000650.jpg\n",
      " copying: data/images/img-0000651.jpg\n",
      " copying: data/images/img-0000652.jpg\n",
      " copying: data/images/img-0000653.jpg\n",
      " copying: data/images/img-0000654.jpg\n",
      " copying: data/images/img-0000655.jpg\n",
      " copying: data/images/img-0000656.jpg\n",
      " copying: data/images/img-0000657.jpg\n",
      " copying: data/images/img-0000658.jpg\n",
      " copying: data/images/img-0000659.jpg\n",
      " copying: data/images/img-0000660.jpg\n",
      " copying: data/images/img-0000661.jpg\n",
      " copying: data/images/img-0000662.jpg\n",
      " copying: data/images/img-0000663.jpg\n",
      " copying: data/images/img-0000664.jpg\n",
      " copying: data/images/img-0000665.jpg\n",
      " copying: data/images/img-0000666.jpg\n",
      " copying: data/images/img-0000667.jpg\n",
      " copying: data/images/img-0000668.jpg\n",
      " copying: data/images/img-0000669.jpg\n",
      " copying: data/images/img-0000670.jpg\n",
      " copying: data/images/img-0000671.jpg\n",
      " copying: data/images/img-0000672.jpg\n",
      " copying: data/images/img-0000673.jpg\n",
      " copying: data/images/img-0000674.jpg\n",
      " copying: data/images/img-0000675.jpg\n",
      " copying: data/images/img-0000676.jpg\n",
      " copying: data/images/img-0000677.jpg\n",
      " copying: data/images/img-0000678.jpg\n",
      " copying: data/images/img-0000679.jpg\n",
      " copying: data/images/img-0000680.jpg\n",
      " copying: data/images/img-0000681.jpg\n",
      " copying: data/images/img-0000682.jpg\n",
      " copying: data/images/img-0000683.jpg\n",
      " copying: data/images/img-0000684.jpg\n",
      " copying: data/images/img-0000685.jpg\n",
      " copying: data/images/img-0000686.jpg\n",
      " copying: data/images/img-0000687.jpg\n",
      " copying: data/images/img-0000688.jpg\n",
      " copying: data/images/img-0000689.jpg\n",
      " copying: data/images/img-0000690.jpg\n",
      " copying: data/images/img-0000691.jpg\n",
      " copying: data/images/img-0000692.jpg\n",
      " copying: data/images/img-0000693.jpg\n",
      " copying: data/images/img-0000694.jpg\n",
      " copying: data/images/img-0000695.jpg\n",
      " copying: data/images/img-0000696.jpg\n",
      " copying: data/images/img-0000697.jpg\n",
      " copying: data/images/img-0000698.jpg\n",
      " copying: data/images/img-0000699.jpg\n",
      " copying: data/images/img-0000700.jpg\n",
      " copying: data/images/img-0000701.jpg\n",
      " copying: data/images/img-0000702.jpg\n",
      " copying: data/images/img-0000703.jpg\n",
      " copying: data/images/img-0000704.jpg\n",
      " copying: data/images/img-0000705.jpg\n",
      " copying: data/images/img-0000706.jpg\n",
      " copying: data/images/img-0000707.jpg\n",
      " copying: data/images/img-0000708.jpg\n",
      " copying: data/images/img-0000709.jpg\n",
      " copying: data/images/img-0000710.jpg\n",
      " copying: data/images/img-0000711.jpg\n",
      " copying: data/images/img-0000712.jpg\n",
      " copying: data/images/img-0000713.jpg\n",
      " copying: data/images/img-0000714.jpg\n",
      " copying: data/images/img-0000715.jpg\n",
      " copying: data/images/img-0000716.jpg\n",
      " copying: data/images/img-0000717.jpg\n",
      " copying: data/images/img-0000718.jpg\n",
      " copying: data/images/img-0000719.jpg\n",
      " copying: data/images/img-0000720.jpg\n",
      " copying: data/images/img-0000721.jpg\n",
      " copying: data/images/img-0000722.jpg\n",
      " copying: data/images/img-0000723.jpg\n",
      " copying: data/images/img-0000724.jpg\n",
      " copying: data/images/img-0000725.jpg\n",
      " copying: data/images/img-0000726.jpg\n",
      " copying: data/images/img-0000727.jpg\n",
      " copying: data/images/img-0000728.jpg\n",
      " copying: data/images/img-0000729.jpg\n",
      " copying: data/images/img-0000730.jpg\n",
      " copying: data/images/img-0000731.jpg\n",
      " copying: data/images/img-0000732.jpg\n",
      " copying: data/images/img-0000733.jpg\n",
      " copying: data/images/img-0000734.jpg\n",
      " copying: data/images/img-0000735.jpg\n",
      " copying: data/images/img-0000736.jpg\n",
      " copying: data/images/img-0000737.jpg\n",
      " copying: data/images/img-0000738.jpg\n",
      " copying: data/images/img-0000739.jpg\n",
      " copying: data/images/img-0000740.jpg\n",
      " copying: data/images/img-0000741.jpg\n",
      " copying: data/images/img-0000742.jpg\n",
      " copying: data/images/img-0000743.jpg\n",
      " copying: data/images/img-0000744.jpg\n",
      " copying: data/images/img-0000745.jpg\n",
      " copying: data/images/img-0000746.jpg\n",
      " copying: data/images/img-0000747.jpg\n",
      " copying: data/images/img-0000748.jpg\n",
      " copying: data/images/img-0000749.jpg\n",
      " copying: data/images/img-0000750.jpg\n",
      " copying: data/images/img-0000751.jpg\n",
      " copying: data/images/img-0000752.jpg\n",
      " copying: data/images/img-0000753.jpg\n",
      " copying: data/images/img-0000754.jpg\n",
      " copying: data/images/img-0000755.jpg\n",
      " copying: data/images/img-0000756.jpg\n",
      " copying: data/images/img-0000757.jpg\n",
      " copying: data/images/img-0000758.jpg\n",
      " copying: data/images/img-0000759.jpg\n",
      " copying: data/images/img-0000760.jpg\n",
      " copying: data/images/img-0000761.jpg\n",
      " copying: data/images/img-0000762.jpg\n",
      " copying: data/images/img-0000763.jpg\n",
      " copying: data/images/img-0000764.jpg\n",
      " copying: data/images/img-0000765.jpg\n",
      " copying: data/images/img-0000766.jpg\n",
      " copying: data/images/img-0000767.jpg\n",
      " copying: data/images/img-0000768.jpg\n",
      " copying: data/images/img-0000769.jpg\n",
      " copying: data/images/img-0000770.jpg\n",
      " copying: data/images/img-0000771.jpg\n",
      " copying: data/images/img-0000772.jpg\n",
      " copying: data/images/img-0000773.jpg\n",
      " copying: data/images/img-0000774.jpg\n",
      " copying: data/images/img-0000775.jpg\n",
      " copying: data/images/img-0000776.jpg\n",
      " copying: data/images/img-0000777.jpg\n",
      " copying: data/images/img-0000778.jpg\n",
      " copying: data/images/img-0000779.jpg\n",
      " copying: data/images/img-0000780.jpg\n",
      " copying: data/images/img-0000781.jpg\n",
      " copying: data/images/img-0000782.jpg\n",
      " copying: data/images/img-0000783.jpg\n",
      " copying: data/images/img-0000784.jpg\n",
      " copying: data/images/img-0000785.jpg\n",
      " copying: data/images/img-0000786.jpg\n",
      " copying: data/images/img-0000787.jpg\n",
      " copying: data/images/img-0000788.jpg\n",
      " copying: data/images/img-0000789.jpg\n",
      " copying: data/images/img-0000790.jpg\n",
      " copying: data/images/img-0000791.jpg\n",
      " copying: data/images/img-0000792.jpg\n",
      " copying: data/images/img-0000793.jpg\n",
      " copying: data/images/img-0000794.jpg\n",
      " copying: data/images/img-0000795.jpg\n",
      " copying: data/images/img-0000796.jpg\n",
      " copying: data/images/img-0000797.jpg\n",
      " copying: data/images/img-0000798.jpg\n",
      " copying: data/images/img-0000799.jpg\n",
      " copying: data/images/img-0000800.jpg\n",
      " copying: data/images/img-0000801.jpg\n",
      " copying: data/images/img-0000802.jpg\n",
      " copying: data/images/img-0000803.jpg\n",
      " copying: data/images/img-0000804.jpg\n",
      " copying: data/images/img-0000805.jpg\n",
      " copying: data/images/img-0000806.jpg\n",
      " copying: data/images/img-0000807.jpg\n",
      " copying: data/images/img-0000808.jpg\n",
      " copying: data/images/img-0000809.jpg\n",
      " copying: data/images/img-0000810.jpg\n",
      " copying: data/images/img-0000811.jpg\n",
      " copying: data/images/img-0000812.jpg\n",
      " copying: data/images/img-0000813.jpg\n",
      " copying: data/images/img-0000814.jpg\n",
      " copying: data/images/img-0000815.jpg\n",
      " copying: data/images/img-0000816.jpg\n",
      " copying: data/images/img-0000817.jpg\n",
      " copying: data/images/img-0000818.jpg\n",
      " copying: data/images/img-0000819.jpg\n",
      " copying: data/images/img-0000820.jpg\n",
      " copying: data/images/img-0000821.jpg\n",
      " copying: data/images/img-0000822.jpg\n",
      " copying: data/images/img-0000823.jpg\n",
      " copying: data/images/img-0000824.jpg\n",
      " copying: data/images/roi-0000001.jpg\n",
      " copying: data/images/roi-0000002.jpg\n",
      " copying: data/images/roi-0000003.jpg\n",
      " copying: data/images/roi-0000004.jpg\n",
      " copying: data/images/roi-0000005.jpg\n",
      " copying: data/images/roi-0000006.jpg\n",
      " copying: data/images/roi-0000007.jpg\n",
      " copying: data/images/roi-0000008.jpg\n",
      " copying: data/images/roi-0000009.jpg\n",
      " copying: data/images/roi-0000010.jpg\n",
      " copying: data/images/roi-0000011.jpg\n",
      " copying: data/images/roi-0000012.jpg\n",
      " copying: data/images/roi-0000013.jpg\n",
      " copying: data/images/roi-0000014.jpg\n",
      " copying: data/images/roi-0000015.jpg\n",
      " copying: data/images/roi-0000016.jpg\n",
      " copying: data/images/roi-0000017.jpg\n",
      " copying: data/images/roi-0000018.jpg\n",
      " copying: data/images/roi-0000019.jpg\n",
      " copying: data/images/roi-0000020.jpg\n",
      " copying: data/images/roi-0000021.jpg\n",
      " copying: data/images/roi-0000022.jpg\n",
      " copying: data/images/roi-0000023.jpg\n",
      " copying: data/images/roi-0000024.jpg\n",
      " copying: data/images/roi-0000025.jpg\n",
      " copying: data/images/roi-0000026.jpg\n",
      " copying: data/images/roi-0000027.jpg\n",
      " copying: data/images/roi-0000028.jpg\n",
      " copying: data/images/roi-0000029.jpg\n",
      " copying: data/images/roi-0000030.jpg\n",
      " copying: data/images/roi-0000031.jpg\n",
      " copying: data/images/roi-0000032.jpg\n",
      " copying: data/images/roi-0000033.jpg\n",
      " copying: data/images/roi-0000034.jpg\n",
      " copying: data/images/roi-0000035.jpg\n",
      " copying: data/images/roi-0000036.jpg\n",
      " copying: data/images/roi-0000037.jpg\n",
      " copying: data/images/roi-0000038.jpg\n",
      " copying: data/images/roi-0000039.jpg\n",
      " copying: data/images/roi-0000040.jpg\n",
      " copying: data/images/roi-0000041.jpg\n",
      " copying: data/images/roi-0000042.jpg\n",
      " copying: data/images/roi-0000043.jpg\n",
      " copying: data/images/roi-0000044.jpg\n",
      " copying: data/images/roi-0000045.jpg\n",
      " copying: data/images/roi-0000046.jpg\n",
      " copying: data/images/roi-0000047.jpg\n",
      " copying: data/images/roi-0000048.jpg\n",
      " copying: data/images/roi-0000049.jpg\n",
      " copying: data/images/roi-0000050.jpg\n",
      " copying: data/images/roi-0000051.jpg\n",
      " copying: data/images/roi-0000052.jpg\n",
      " copying: data/images/roi-0000053.jpg\n",
      " copying: data/images/roi-0000054.jpg\n",
      " copying: data/images/roi-0000055.jpg\n",
      " copying: data/images/roi-0000056.jpg\n",
      " copying: data/images/roi-0000057.jpg\n",
      " copying: data/images/roi-0000058.jpg\n",
      " copying: data/images/roi-0000059.jpg\n",
      " copying: data/images/roi-0000060.jpg\n",
      " copying: data/images/roi-0000061.jpg\n",
      " copying: data/images/roi-0000062.jpg\n",
      " copying: data/images/roi-0000063.jpg\n",
      " copying: data/images/roi-0000064.jpg\n",
      " copying: data/images/roi-0000065.jpg\n",
      " copying: data/images/roi-0000066.jpg\n",
      " copying: data/images/roi-0000067.jpg\n",
      " copying: data/images/roi-0000068.jpg\n",
      " copying: data/images/roi-0000069.jpg\n",
      " copying: data/images/roi-0000070.jpg\n",
      " copying: data/images/roi-0000071.jpg\n",
      " copying: data/images/roi-0000072.jpg\n",
      " copying: data/images/roi-0000073.jpg\n",
      " copying: data/images/roi-0000074.jpg\n",
      " copying: data/images/roi-0000075.jpg\n",
      " copying: data/images/roi-0000076.jpg\n",
      " copying: data/images/roi-0000077.jpg\n",
      " copying: data/images/roi-0000078.jpg\n",
      " copying: data/images/roi-0000079.jpg\n",
      " copying: data/images/roi-0000080.jpg\n",
      " copying: data/images/roi-0000081.jpg\n",
      " copying: data/images/roi-0000082.jpg\n",
      " copying: data/images/roi-0000083.jpg\n",
      " copying: data/images/roi-0000084.jpg\n",
      " copying: data/images/roi-0000085.jpg\n",
      " copying: data/images/roi-0000086.jpg\n",
      " copying: data/images/roi-0000087.jpg\n",
      " copying: data/images/roi-0000088.jpg\n",
      " copying: data/images/roi-0000089.jpg\n",
      " copying: data/images/roi-0000090.jpg\n",
      " copying: data/images/roi-0000091.jpg\n",
      " copying: data/images/roi-0000092.jpg\n",
      " copying: data/images/roi-0000093.jpg\n",
      " copying: data/images/roi-0000094.jpg\n",
      " copying: data/images/roi-0000095.jpg\n",
      " copying: data/images/roi-0000096.jpg\n",
      " copying: data/images/roi-0000097.jpg\n",
      " copying: data/images/roi-0000098.jpg\n",
      " copying: data/images/roi-0000099.jpg\n",
      " copying: data/images/roi-0000100.jpg\n",
      " copying: data/images/roi-0000101.jpg\n",
      " copying: data/images/roi-0000102.jpg\n",
      " copying: data/images/roi-0000103.jpg\n",
      " copying: data/images/roi-0000104.jpg\n",
      " copying: data/images/roi-0000105.jpg\n",
      " copying: data/images/roi-0000106.jpg\n",
      " copying: data/images/roi-0000107.jpg\n",
      " copying: data/images/roi-0000108.jpg\n",
      " copying: data/images/roi-0000109.jpg\n",
      " copying: data/images/roi-0000110.jpg\n",
      " copying: data/images/roi-0000111.jpg\n",
      " copying: data/images/roi-0000112.jpg\n",
      " copying: data/images/roi-0000113.jpg\n",
      " copying: data/images/roi-0000114.jpg\n",
      " copying: data/images/roi-0000115.jpg\n",
      " copying: data/images/roi-0000116.jpg\n",
      " copying: data/images/roi-0000117.jpg\n",
      " copying: data/images/roi-0000118.jpg\n",
      " copying: data/images/roi-0000119.jpg\n",
      " copying: data/images/roi-0000120.jpg\n",
      " copying: data/images/roi-0000121.jpg\n",
      " copying: data/images/roi-0000122.jpg\n",
      " copying: data/images/roi-0000123.jpg\n",
      " copying: data/images/roi-0000124.jpg\n",
      " copying: data/images/roi-0000125.jpg\n",
      " copying: data/images/roi-0000126.jpg\n",
      " copying: data/images/roi-0000127.jpg\n",
      " copying: data/images/roi-0000128.jpg\n",
      " copying: data/images/roi-0000129.jpg\n",
      " copying: data/images/roi-0000130.jpg\n",
      " copying: data/images/roi-0000131.jpg\n",
      " copying: data/images/roi-0000132.jpg\n",
      " copying: data/images/roi-0000133.jpg\n",
      " copying: data/images/roi-0000134.jpg\n",
      " copying: data/images/roi-0000135.jpg\n",
      " copying: data/images/roi-0000136.jpg\n",
      " copying: data/images/roi-0000137.jpg\n",
      " copying: data/images/roi-0000138.jpg\n",
      " copying: data/images/roi-0000139.jpg\n",
      " copying: data/images/roi-0000140.jpg\n",
      " copying: data/images/roi-0000141.jpg\n",
      " copying: data/images/roi-0000142.jpg\n",
      " copying: data/images/roi-0000143.jpg\n",
      " copying: data/images/roi-0000144.jpg\n",
      " copying: data/images/roi-0000145.jpg\n",
      " copying: data/images/roi-0000146.jpg\n",
      " copying: data/images/roi-0000147.jpg\n",
      " copying: data/images/roi-0000148.jpg\n",
      " copying: data/images/roi-0000149.jpg\n",
      " copying: data/images/roi-0000150.jpg\n",
      " copying: data/images/roi-0000151.jpg\n",
      " copying: data/images/roi-0000152.jpg\n",
      " copying: data/images/roi-0000153.jpg\n",
      " copying: data/images/roi-0000154.jpg\n",
      " copying: data/images/roi-0000155.jpg\n",
      " copying: data/images/roi-0000156.jpg\n",
      " copying: data/images/roi-0000157.jpg\n",
      " copying: data/images/roi-0000158.jpg\n",
      " copying: data/images/roi-0000159.jpg\n",
      " copying: data/images/roi-0000160.jpg\n",
      " copying: data/images/roi-0000161.jpg\n",
      " copying: data/images/roi-0000162.jpg\n",
      " copying: data/images/roi-0000163.jpg\n",
      " copying: data/images/roi-0000164.jpg\n",
      " copying: data/images/roi-0000165.jpg\n",
      " copying: data/images/roi-0000166.jpg\n",
      " copying: data/images/roi-0000167.jpg\n",
      " copying: data/images/roi-0000168.jpg\n",
      " copying: data/images/roi-0000169.jpg\n",
      " copying: data/images/roi-0000170.jpg\n",
      " copying: data/images/roi-0000171.jpg\n",
      " copying: data/images/roi-0000172.jpg\n",
      " copying: data/images/roi-0000173.jpg\n",
      " copying: data/images/roi-0000174.jpg\n",
      " copying: data/images/roi-0000175.jpg\n",
      " copying: data/images/roi-0000176.jpg\n",
      " copying: data/images/roi-0000177.jpg\n",
      " copying: data/images/roi-0000178.jpg\n",
      " copying: data/images/roi-0000179.jpg\n",
      " copying: data/images/roi-0000180.jpg\n",
      " copying: data/images/roi-0000181.jpg\n",
      " copying: data/images/roi-0000182.jpg\n",
      " copying: data/images/roi-0000183.jpg\n",
      " copying: data/images/roi-0000184.jpg\n",
      " copying: data/images/roi-0000185.jpg\n",
      " copying: data/images/roi-0000186.jpg\n",
      " copying: data/images/roi-0000187.jpg\n",
      " copying: data/images/roi-0000188.jpg\n",
      " copying: data/images/roi-0000189.jpg\n",
      " copying: data/images/roi-0000190.jpg\n",
      " copying: data/images/roi-0000191.jpg\n",
      " copying: data/images/roi-0000192.jpg\n",
      " copying: data/images/roi-0000193.jpg\n",
      " copying: data/images/roi-0000194.jpg\n",
      " copying: data/images/roi-0000195.jpg\n",
      " copying: data/images/roi-0000196.jpg\n",
      " copying: data/images/roi-0000197.jpg\n",
      " copying: data/images/roi-0000198.jpg\n",
      " copying: data/images/roi-0000199.jpg\n",
      " copying: data/images/roi-0000200.jpg\n",
      " copying: data/images/roi-0000201.jpg\n",
      " copying: data/images/roi-0000202.jpg\n",
      " copying: data/images/roi-0000203.jpg\n",
      " copying: data/images/roi-0000204.jpg\n",
      " copying: data/images/roi-0000205.jpg\n",
      " copying: data/images/roi-0000206.jpg\n",
      " copying: data/images/roi-0000207.jpg\n",
      " copying: data/images/roi-0000208.jpg\n",
      " copying: data/images/roi-0000209.jpg\n",
      " copying: data/images/roi-0000210.jpg\n",
      " copying: data/images/roi-0000211.jpg\n",
      " copying: data/images/roi-0000212.jpg\n",
      " copying: data/images/roi-0000213.jpg\n",
      " copying: data/images/roi-0000214.jpg\n",
      " copying: data/images/roi-0000215.jpg\n",
      " copying: data/images/roi-0000216.jpg\n",
      " copying: data/images/roi-0000217.jpg\n",
      " copying: data/images/roi-0000218.jpg\n",
      " copying: data/images/roi-0000219.jpg\n",
      " copying: data/images/roi-0000220.jpg\n",
      " copying: data/images/roi-0000221.jpg\n",
      " copying: data/images/roi-0000222.jpg\n",
      " copying: data/images/roi-0000223.jpg\n",
      " copying: data/images/roi-0000224.jpg\n",
      " copying: data/images/roi-0000225.jpg\n",
      " copying: data/images/roi-0000226.jpg\n",
      " copying: data/images/roi-0000227.jpg\n",
      " copying: data/images/roi-0000228.jpg\n",
      " copying: data/images/roi-0000229.jpg\n",
      " copying: data/images/roi-0000230.jpg\n",
      " copying: data/images/roi-0000231.jpg\n",
      " copying: data/images/roi-0000232.jpg\n",
      " copying: data/images/roi-0000233.jpg\n",
      " copying: data/images/roi-0000234.jpg\n",
      " copying: data/images/roi-0000235.jpg\n",
      " copying: data/images/roi-0000236.jpg\n",
      " copying: data/images/roi-0000237.jpg\n",
      " copying: data/images/roi-0000238.jpg\n",
      " copying: data/images/roi-0000239.jpg\n",
      " copying: data/images/roi-0000240.jpg\n",
      " copying: data/images/roi-0000241.jpg\n",
      " copying: data/images/roi-0000242.jpg\n",
      " copying: data/images/roi-0000243.jpg\n",
      " copying: data/images/roi-0000244.jpg\n",
      " copying: data/images/roi-0000245.jpg\n",
      " copying: data/images/roi-0000246.jpg\n",
      " copying: data/images/roi-0000247.jpg\n",
      " copying: data/images/roi-0000248.jpg\n",
      " copying: data/images/roi-0000249.jpg\n",
      " copying: data/images/roi-0000250.jpg\n",
      " copying: data/images/roi-0000251.jpg\n",
      " copying: data/images/roi-0000252.jpg\n",
      " copying: data/images/roi-0000253.jpg\n",
      " copying: data/images/roi-0000254.jpg\n",
      " copying: data/images/roi-0000255.jpg\n",
      " copying: data/images/roi-0000256.jpg\n",
      " copying: data/images/roi-0000257.jpg\n",
      " copying: data/images/roi-0000258.jpg\n",
      " copying: data/images/roi-0000259.jpg\n",
      " copying: data/images/roi-0000260.jpg\n",
      " copying: data/images/roi-0000261.jpg\n",
      " copying: data/images/roi-0000262.jpg\n",
      " copying: data/images/roi-0000263.jpg\n",
      " copying: data/images/roi-0000264.jpg\n",
      " copying: data/images/roi-0000265.jpg\n",
      " copying: data/images/roi-0000266.jpg\n",
      " copying: data/images/roi-0000267.jpg\n",
      " copying: data/images/roi-0000268.jpg\n",
      " copying: data/images/roi-0000269.jpg\n",
      " copying: data/images/roi-0000270.jpg\n",
      " copying: data/images/roi-0000271.jpg\n",
      " copying: data/images/roi-0000272.jpg\n",
      " copying: data/images/roi-0000273.jpg\n",
      " copying: data/images/roi-0000274.jpg\n",
      " copying: data/images/roi-0000275.jpg\n",
      " copying: data/images/roi-0000276.jpg\n",
      " copying: data/images/roi-0000277.jpg\n",
      " copying: data/images/roi-0000278.jpg\n",
      " copying: data/images/roi-0000279.jpg\n",
      " copying: data/images/roi-0000280.jpg\n",
      " copying: data/images/roi-0000281.jpg\n",
      " copying: data/images/roi-0000282.jpg\n",
      " copying: data/images/roi-0000283.jpg\n",
      " copying: data/images/roi-0000284.jpg\n",
      " copying: data/images/roi-0000285.jpg\n",
      " copying: data/images/roi-0000286.jpg\n",
      " copying: data/images/roi-0000287.jpg\n",
      " copying: data/images/roi-0000288.jpg\n",
      " copying: data/images/roi-0000289.jpg\n",
      " copying: data/images/roi-0000290.jpg\n",
      " copying: data/images/roi-0000291.jpg\n",
      " copying: data/images/roi-0000292.jpg\n",
      " copying: data/images/roi-0000293.jpg\n",
      " copying: data/images/roi-0000294.jpg\n",
      " copying: data/images/roi-0000295.jpg\n",
      " copying: data/images/roi-0000296.jpg\n",
      " copying: data/images/roi-0000297.jpg\n",
      " copying: data/images/roi-0000298.jpg\n",
      " copying: data/images/roi-0000299.jpg\n",
      " copying: data/images/roi-0000300.jpg\n",
      " copying: data/images/roi-0000301.jpg\n",
      " copying: data/images/roi-0000302.jpg\n",
      " copying: data/images/roi-0000303.jpg\n",
      " copying: data/images/roi-0000304.jpg\n",
      " copying: data/images/roi-0000305.jpg\n",
      " copying: data/images/roi-0000306.jpg\n",
      " copying: data/images/roi-0000307.jpg\n",
      " copying: data/images/roi-0000308.jpg\n",
      " copying: data/images/roi-0000309.jpg\n",
      " copying: data/images/roi-0000310.jpg\n",
      " copying: data/images/roi-0000311.jpg\n",
      " copying: data/images/roi-0000312.jpg\n",
      " copying: data/images/roi-0000313.jpg\n",
      " copying: data/images/roi-0000314.jpg\n",
      " copying: data/images/roi-0000315.jpg\n",
      " copying: data/images/roi-0000316.jpg\n",
      " copying: data/images/roi-0000317.jpg\n",
      " copying: data/images/roi-0000318.jpg\n",
      " copying: data/images/roi-0000319.jpg\n",
      " copying: data/images/roi-0000320.jpg\n",
      " copying: data/images/roi-0000321.jpg\n",
      " copying: data/images/roi-0000322.jpg\n",
      " copying: data/images/roi-0000323.jpg\n",
      " copying: data/images/roi-0000324.jpg\n",
      " copying: data/images/roi-0000325.jpg\n",
      " copying: data/images/roi-0000326.jpg\n",
      " copying: data/images/roi-0000327.jpg\n",
      " copying: data/images/roi-0000328.jpg\n",
      " copying: data/images/roi-0000329.jpg\n",
      " copying: data/images/roi-0000330.jpg\n",
      " copying: data/images/roi-0000331.jpg\n",
      " copying: data/images/roi-0000332.jpg\n",
      " copying: data/images/roi-0000333.jpg\n",
      " copying: data/images/roi-0000334.jpg\n",
      " copying: data/images/roi-0000335.jpg\n",
      " copying: data/images/roi-0000336.jpg\n",
      " copying: data/images/roi-0000337.jpg\n",
      " copying: data/images/roi-0000338.jpg\n",
      " copying: data/images/roi-0000339.jpg\n",
      " copying: data/images/roi-0000340.jpg\n",
      " copying: data/images/roi-0000341.jpg\n",
      " copying: data/images/roi-0000342.jpg\n",
      " copying: data/images/roi-0000343.jpg\n",
      " copying: data/images/roi-0000344.jpg\n",
      " copying: data/images/roi-0000345.jpg\n",
      " copying: data/images/roi-0000346.jpg\n",
      " copying: data/images/roi-0000347.jpg\n",
      " copying: data/images/roi-0000348.jpg\n",
      " copying: data/images/roi-0000349.jpg\n",
      " copying: data/images/roi-0000350.jpg\n",
      " copying: data/images/roi-0000351.jpg\n",
      " copying: data/images/roi-0000352.jpg\n",
      " copying: data/images/roi-0000353.jpg\n",
      " copying: data/images/roi-0000354.jpg\n",
      " copying: data/images/roi-0000355.jpg\n",
      " copying: data/images/roi-0000356.jpg\n",
      " copying: data/images/roi-0000357.jpg\n",
      " copying: data/images/roi-0000358.jpg\n",
      " copying: data/images/roi-0000359.jpg\n",
      " copying: data/images/roi-0000360.jpg\n",
      " copying: data/images/roi-0000361.jpg\n",
      " copying: data/images/roi-0000362.jpg\n",
      " copying: data/images/roi-0000363.jpg\n",
      " copying: data/images/roi-0000364.jpg\n",
      " copying: data/images/roi-0000365.jpg\n",
      " copying: data/images/roi-0000366.jpg\n",
      " copying: data/images/roi-0000367.jpg\n",
      " copying: data/images/roi-0000368.jpg\n",
      " copying: data/images/roi-0000369.jpg\n",
      " copying: data/images/roi-0000370.jpg\n",
      " copying: data/images/roi-0000371.jpg\n",
      " copying: data/images/roi-0000372.jpg\n",
      " copying: data/images/roi-0000373.jpg\n",
      " copying: data/images/roi-0000374.jpg\n",
      " copying: data/images/roi-0000375.jpg\n",
      " copying: data/images/roi-0000376.jpg\n",
      " copying: data/images/roi-0000377.jpg\n",
      " copying: data/images/roi-0000378.jpg\n",
      " copying: data/images/roi-0000379.jpg\n",
      " copying: data/images/roi-0000380.jpg\n",
      " copying: data/images/roi-0000381.jpg\n",
      " copying: data/images/roi-0000382.jpg\n",
      " copying: data/images/roi-0000383.jpg\n",
      " copying: data/images/roi-0000384.jpg\n",
      " copying: data/images/roi-0000385.jpg\n",
      " copying: data/images/roi-0000386.jpg\n",
      " copying: data/images/roi-0000387.jpg\n",
      " copying: data/images/roi-0000388.jpg\n",
      " copying: data/images/roi-0000389.jpg\n",
      " copying: data/images/roi-0000390.jpg\n",
      " copying: data/images/roi-0000391.jpg\n",
      " copying: data/images/roi-0000392.jpg\n",
      " copying: data/images/roi-0000393.jpg\n",
      " copying: data/images/roi-0000394.jpg\n",
      " copying: data/images/roi-0000395.jpg\n",
      " copying: data/images/roi-0000396.jpg\n",
      " copying: data/images/roi-0000397.jpg\n",
      " copying: data/images/roi-0000398.jpg\n",
      " copying: data/images/roi-0000399.jpg\n",
      " copying: data/images/roi-0000400.jpg\n",
      " copying: data/images/roi-0000401.jpg\n",
      " copying: data/images/roi-0000402.jpg\n",
      " copying: data/images/roi-0000403.jpg\n",
      " copying: data/images/roi-0000404.jpg\n",
      " copying: data/images/roi-0000405.jpg\n",
      " copying: data/images/roi-0000406.jpg\n",
      " copying: data/images/roi-0000407.jpg\n",
      " copying: data/images/roi-0000408.jpg\n",
      " copying: data/images/roi-0000409.jpg\n",
      " copying: data/images/roi-0000410.jpg\n",
      " copying: data/images/roi-0000411.jpg\n",
      " copying: data/images/roi-0000412.jpg\n",
      " copying: data/images/roi-0000413.jpg\n",
      " copying: data/images/roi-0000414.jpg\n",
      " copying: data/images/roi-0000415.jpg\n",
      " copying: data/images/roi-0000416.jpg\n",
      " copying: data/images/roi-0000417.jpg\n",
      " copying: data/images/roi-0000418.jpg\n",
      " copying: data/images/roi-0000419.jpg\n",
      " copying: data/images/roi-0000420.jpg\n",
      " copying: data/images/roi-0000421.jpg\n",
      " copying: data/images/roi-0000422.jpg\n",
      " copying: data/images/roi-0000423.jpg\n",
      " copying: data/images/roi-0000424.jpg\n",
      " copying: data/images/roi-0000425.jpg\n",
      " copying: data/images/roi-0000426.jpg\n",
      " copying: data/images/roi-0000427.jpg\n",
      " copying: data/images/roi-0000428.jpg\n",
      " copying: data/images/roi-0000429.jpg\n",
      " copying: data/images/roi-0000430.jpg\n",
      " copying: data/images/roi-0000431.jpg\n",
      " copying: data/images/roi-0000432.jpg\n",
      " copying: data/images/roi-0000433.jpg\n",
      " copying: data/images/roi-0000434.jpg\n",
      " copying: data/images/roi-0000435.jpg\n",
      " copying: data/images/roi-0000436.jpg\n",
      " copying: data/images/roi-0000437.jpg\n",
      " copying: data/images/roi-0000438.jpg\n",
      " copying: data/images/roi-0000439.jpg\n",
      " copying: data/images/roi-0000440.jpg\n",
      " copying: data/images/roi-0000441.jpg\n",
      " copying: data/images/roi-0000442.jpg\n",
      " copying: data/images/roi-0000443.jpg\n",
      " copying: data/images/roi-0000444.jpg\n",
      " copying: data/images/roi-0000445.jpg\n",
      " copying: data/images/roi-0000446.jpg\n",
      " copying: data/images/roi-0000447.jpg\n",
      " copying: data/images/roi-0000448.jpg\n",
      " copying: data/images/roi-0000449.jpg\n",
      " copying: data/images/roi-0000450.jpg\n",
      " copying: data/images/roi-0000451.jpg\n",
      " copying: data/images/roi-0000452.jpg\n",
      " copying: data/images/roi-0000453.jpg\n",
      " copying: data/images/roi-0000454.jpg\n",
      " copying: data/images/roi-0000455.jpg\n",
      " copying: data/images/roi-0000456.jpg\n",
      " copying: data/images/roi-0000457.jpg\n",
      " copying: data/images/roi-0000458.jpg\n",
      " copying: data/images/roi-0000459.jpg\n",
      " copying: data/images/roi-0000460.jpg\n",
      " copying: data/images/roi-0000461.jpg\n",
      " copying: data/images/roi-0000462.jpg\n",
      " copying: data/images/roi-0000463.jpg\n",
      " copying: data/images/roi-0000464.jpg\n",
      " copying: data/images/roi-0000465.jpg\n",
      " copying: data/images/roi-0000466.jpg\n",
      " copying: data/images/roi-0000467.jpg\n",
      " copying: data/images/roi-0000468.jpg\n",
      " copying: data/images/roi-0000469.jpg\n",
      " copying: data/images/roi-0000470.jpg\n",
      " copying: data/images/roi-0000471.jpg\n",
      " copying: data/images/roi-0000472.jpg\n",
      " copying: data/images/roi-0000473.jpg\n",
      " copying: data/images/roi-0000474.jpg\n",
      " copying: data/images/roi-0000475.jpg\n",
      " copying: data/images/roi-0000476.jpg\n",
      " copying: data/images/roi-0000477.jpg\n",
      " copying: data/images/roi-0000478.jpg\n",
      " copying: data/images/roi-0000479.jpg\n",
      " copying: data/images/roi-0000480.jpg\n",
      " copying: data/images/roi-0000481.jpg\n",
      " copying: data/images/roi-0000482.jpg\n",
      " copying: data/images/roi-0000483.jpg\n",
      " copying: data/images/roi-0000484.jpg\n",
      " copying: data/images/roi-0000485.jpg\n",
      " copying: data/images/roi-0000486.jpg\n",
      " copying: data/images/roi-0000487.jpg\n",
      " copying: data/images/roi-0000488.jpg\n",
      " copying: data/images/roi-0000489.jpg\n",
      " copying: data/images/roi-0000490.jpg\n",
      " copying: data/images/roi-0000491.jpg\n",
      " copying: data/images/roi-0000492.jpg\n",
      " copying: data/images/roi-0000493.jpg\n",
      " copying: data/images/roi-0000494.jpg\n",
      " copying: data/images/roi-0000495.jpg\n",
      " copying: data/images/roi-0000496.jpg\n",
      " copying: data/images/roi-0000497.jpg\n",
      " copying: data/images/roi-0000498.jpg\n",
      " copying: data/images/roi-0000499.jpg\n",
      " copying: data/images/roi-0000500.jpg\n",
      " copying: data/images/roi-0000501.jpg\n",
      " copying: data/images/roi-0000502.jpg\n",
      " copying: data/images/roi-0000503.jpg\n",
      " copying: data/images/roi-0000504.jpg\n",
      " copying: data/images/roi-0000505.jpg\n",
      " copying: data/images/roi-0000506.jpg\n",
      " copying: data/images/roi-0000507.jpg\n",
      " copying: data/images/roi-0000508.jpg\n",
      " copying: data/images/roi-0000509.jpg\n",
      " copying: data/images/roi-0000510.jpg\n",
      " copying: data/images/roi-0000511.jpg\n",
      " copying: data/images/roi-0000512.jpg\n",
      " copying: data/images/roi-0000513.jpg\n",
      " copying: data/images/roi-0000514.jpg\n",
      " copying: data/images/roi-0000515.jpg\n",
      " copying: data/images/roi-0000516.jpg\n",
      " copying: data/images/roi-0000517.jpg\n",
      " copying: data/images/roi-0000518.jpg\n",
      " copying: data/images/roi-0000519.jpg\n",
      " copying: data/images/roi-0000520.jpg\n",
      " copying: data/images/roi-0000521.jpg\n",
      " copying: data/images/roi-0000522.jpg\n",
      " copying: data/images/roi-0000523.jpg\n",
      " copying: data/images/roi-0000524.jpg\n",
      " copying: data/images/roi-0000525.jpg\n",
      " copying: data/images/roi-0000526.jpg\n",
      " copying: data/images/roi-0000527.jpg\n",
      " copying: data/images/roi-0000528.jpg\n",
      " copying: data/images/roi-0000529.jpg\n",
      " copying: data/images/roi-0000530.jpg\n",
      " copying: data/images/roi-0000531.jpg\n",
      " copying: data/images/roi-0000532.jpg\n",
      " copying: data/images/roi-0000533.jpg\n",
      " copying: data/images/roi-0000534.jpg\n",
      " copying: data/images/roi-0000535.jpg\n",
      " copying: data/images/roi-0000536.jpg\n",
      " copying: data/images/roi-0000537.jpg\n",
      " copying: data/images/roi-0000538.jpg\n",
      " copying: data/images/roi-0000539.jpg\n",
      " copying: data/images/roi-0000540.jpg\n",
      " copying: data/images/roi-0000541.jpg\n",
      " copying: data/images/roi-0000542.jpg\n",
      " copying: data/images/roi-0000543.jpg\n",
      " copying: data/images/roi-0000544.jpg\n",
      " copying: data/images/roi-0000545.jpg\n",
      " copying: data/images/roi-0000546.jpg\n",
      " copying: data/images/roi-0000547.jpg\n",
      " copying: data/images/roi-0000548.jpg\n",
      " copying: data/images/roi-0000549.jpg\n",
      " copying: data/images/roi-0000550.jpg\n",
      " copying: data/images/roi-0000551.jpg\n",
      " copying: data/images/roi-0000552.jpg\n",
      " copying: data/images/roi-0000553.jpg\n",
      " copying: data/images/roi-0000554.jpg\n",
      " copying: data/images/roi-0000555.jpg\n",
      " copying: data/images/roi-0000556.jpg\n",
      " copying: data/images/roi-0000557.jpg\n",
      " copying: data/images/roi-0000558.jpg\n",
      " copying: data/images/roi-0000559.jpg\n",
      " copying: data/images/roi-0000560.jpg\n",
      " copying: data/images/roi-0000561.jpg\n",
      " copying: data/images/roi-0000562.jpg\n",
      " copying: data/images/roi-0000563.jpg\n",
      " copying: data/images/roi-0000564.jpg\n",
      " copying: data/images/roi-0000565.jpg\n",
      " copying: data/images/roi-0000566.jpg\n",
      " copying: data/images/roi-0000567.jpg\n",
      " copying: data/images/roi-0000568.jpg\n",
      " copying: data/images/roi-0000569.jpg\n",
      " copying: data/images/roi-0000570.jpg\n",
      " copying: data/images/roi-0000571.jpg\n",
      " copying: data/images/roi-0000572.jpg\n",
      " copying: data/images/roi-0000573.jpg\n",
      " copying: data/images/roi-0000574.jpg\n",
      " copying: data/images/roi-0000575.jpg\n",
      " copying: data/images/roi-0000576.jpg\n",
      " copying: data/images/roi-0000577.jpg\n",
      " copying: data/images/roi-0000578.jpg\n",
      " copying: data/images/roi-0000579.jpg\n",
      " copying: data/images/roi-0000580.jpg\n",
      " copying: data/images/roi-0000581.jpg\n",
      " copying: data/images/roi-0000582.jpg\n",
      " copying: data/images/roi-0000583.jpg\n",
      " copying: data/images/roi-0000584.jpg\n",
      " copying: data/images/roi-0000585.jpg\n",
      " copying: data/images/roi-0000586.jpg\n",
      " copying: data/images/roi-0000587.jpg\n",
      " copying: data/images/roi-0000588.jpg\n",
      " copying: data/images/roi-0000589.jpg\n",
      " copying: data/images/roi-0000590.jpg\n",
      " copying: data/images/roi-0000591.jpg\n",
      " copying: data/images/roi-0000592.jpg\n",
      " copying: data/images/roi-0000593.jpg\n",
      " copying: data/images/roi-0000594.jpg\n",
      " copying: data/images/roi-0000595.jpg\n",
      " copying: data/images/roi-0000596.jpg\n",
      " copying: data/images/roi-0000597.jpg\n",
      " copying: data/images/roi-0000598.jpg\n",
      " copying: data/images/roi-0000599.jpg\n",
      " copying: data/images/roi-0000600.jpg\n",
      " copying: data/images/roi-0000601.jpg\n",
      " copying: data/images/roi-0000602.jpg\n",
      " copying: data/images/roi-0000603.jpg\n",
      " copying: data/images/roi-0000604.jpg\n",
      " copying: data/images/roi-0000605.jpg\n",
      " copying: data/images/roi-0000606.jpg\n",
      " copying: data/images/roi-0000607.jpg\n",
      " copying: data/images/roi-0000608.jpg\n",
      " copying: data/images/roi-0000609.jpg\n",
      " copying: data/images/roi-0000610.jpg\n",
      " copying: data/images/roi-0000611.jpg\n",
      " copying: data/images/roi-0000612.jpg\n",
      " copying: data/images/roi-0000613.jpg\n",
      " copying: data/images/roi-0000614.jpg\n",
      " copying: data/images/roi-0000615.jpg\n",
      " copying: data/images/roi-0000616.jpg\n",
      " copying: data/images/roi-0000617.jpg\n",
      " copying: data/images/roi-0000618.jpg\n",
      " copying: data/images/roi-0000619.jpg\n",
      " copying: data/images/roi-0000620.jpg\n",
      " copying: data/images/roi-0000621.jpg\n",
      " copying: data/images/roi-0000622.jpg\n",
      " copying: data/images/roi-0000623.jpg\n",
      " copying: data/images/roi-0000624.jpg\n",
      " copying: data/images/roi-0000625.jpg\n",
      " copying: data/images/roi-0000626.jpg\n",
      " copying: data/images/roi-0000627.jpg\n",
      " copying: data/images/roi-0000628.jpg\n",
      " copying: data/images/roi-0000629.jpg\n",
      " copying: data/images/roi-0000630.jpg\n",
      " copying: data/images/roi-0000631.jpg\n",
      " copying: data/images/roi-0000632.jpg\n",
      " copying: data/images/roi-0000633.jpg\n",
      " copying: data/images/roi-0000634.jpg\n",
      " copying: data/images/roi-0000635.jpg\n",
      " copying: data/images/roi-0000636.jpg\n",
      " copying: data/images/roi-0000637.jpg\n",
      " copying: data/images/roi-0000638.jpg\n",
      " copying: data/images/roi-0000639.jpg\n",
      " copying: data/images/roi-0000640.jpg\n",
      " copying: data/images/roi-0000641.jpg\n",
      " copying: data/images/roi-0000642.jpg\n",
      " copying: data/images/roi-0000643.jpg\n",
      " copying: data/images/roi-0000644.jpg\n",
      " copying: data/images/roi-0000645.jpg\n",
      " copying: data/images/roi-0000646.jpg\n",
      " copying: data/images/roi-0000647.jpg\n",
      " copying: data/images/roi-0000648.jpg\n",
      " copying: data/images/roi-0000649.jpg\n",
      " copying: data/images/roi-0000650.jpg\n",
      " copying: data/images/roi-0000651.jpg\n",
      " copying: data/images/roi-0000652.jpg\n",
      " copying: data/images/roi-0000653.jpg\n",
      " copying: data/images/roi-0000654.jpg\n",
      " copying: data/images/roi-0000655.jpg\n",
      " copying: data/images/roi-0000656.jpg\n",
      " copying: data/images/roi-0000657.jpg\n",
      " copying: data/images/roi-0000658.jpg\n",
      " copying: data/images/roi-0000659.jpg\n",
      " copying: data/images/roi-0000660.jpg\n",
      " copying: data/images/roi-0000661.jpg\n",
      " copying: data/images/roi-0000662.jpg\n",
      " copying: data/images/roi-0000663.jpg\n",
      " copying: data/images/roi-0000664.jpg\n",
      " copying: data/images/roi-0000665.jpg\n",
      " copying: data/images/roi-0000666.jpg\n",
      " copying: data/images/roi-0000667.jpg\n",
      " copying: data/images/roi-0000668.jpg\n",
      " copying: data/images/roi-0000669.jpg\n",
      " copying: data/images/roi-0000670.jpg\n",
      " copying: data/images/roi-0000671.jpg\n",
      " copying: data/images/roi-0000672.jpg\n",
      " copying: data/images/roi-0000673.jpg\n",
      " copying: data/images/roi-0000674.jpg\n",
      " copying: data/images/roi-0000675.jpg\n",
      " copying: data/images/roi-0000676.jpg\n",
      " copying: data/images/roi-0000677.jpg\n",
      " copying: data/images/roi-0000678.jpg\n",
      " copying: data/images/roi-0000679.jpg\n",
      " copying: data/images/roi-0000680.jpg\n",
      " copying: data/images/roi-0000681.jpg\n",
      " copying: data/images/roi-0000682.jpg\n",
      " copying: data/images/roi-0000683.jpg\n",
      " copying: data/images/roi-0000684.jpg\n",
      " copying: data/images/roi-0000685.jpg\n",
      " copying: data/images/roi-0000686.jpg\n",
      " copying: data/images/roi-0000687.jpg\n",
      " copying: data/images/roi-0000688.jpg\n",
      " copying: data/images/roi-0000689.jpg\n",
      " copying: data/images/roi-0000690.jpg\n",
      " copying: data/images/roi-0000691.jpg\n",
      " copying: data/images/roi-0000692.jpg\n",
      " copying: data/images/roi-0000693.jpg\n",
      " copying: data/images/roi-0000694.jpg\n",
      " copying: data/images/roi-0000695.jpg\n",
      " copying: data/images/roi-0000696.jpg\n",
      " copying: data/images/roi-0000697.jpg\n",
      " copying: data/images/roi-0000698.jpg\n",
      " copying: data/images/roi-0000699.jpg\n",
      " copying: data/images/roi-0000700.jpg\n",
      " copying: data/images/roi-0000701.jpg\n",
      " copying: data/images/roi-0000702.jpg\n",
      " copying: data/images/roi-0000703.jpg\n",
      " copying: data/images/roi-0000704.jpg\n",
      " copying: data/images/roi-0000705.jpg\n",
      " copying: data/images/roi-0000706.jpg\n",
      " copying: data/images/roi-0000707.jpg\n",
      " copying: data/images/roi-0000708.jpg\n",
      " copying: data/images/roi-0000709.jpg\n",
      " copying: data/images/roi-0000710.jpg\n",
      " copying: data/images/roi-0000711.jpg\n",
      " copying: data/images/roi-0000712.jpg\n",
      " copying: data/images/roi-0000713.jpg\n",
      " copying: data/images/roi-0000714.jpg\n",
      " copying: data/images/roi-0000715.jpg\n",
      " copying: data/images/roi-0000716.jpg\n",
      " copying: data/images/roi-0000717.jpg\n",
      " copying: data/images/roi-0000718.jpg\n",
      " copying: data/images/roi-0000719.jpg\n",
      " copying: data/images/roi-0000720.jpg\n",
      " copying: data/images/roi-0000721.jpg\n",
      " copying: data/images/roi-0000722.jpg\n",
      " copying: data/images/roi-0000723.jpg\n",
      " copying: data/images/roi-0000724.jpg\n",
      " copying: data/images/roi-0000725.jpg\n",
      " copying: data/images/roi-0000726.jpg\n",
      " copying: data/images/roi-0000727.jpg\n",
      " copying: data/images/roi-0000728.jpg\n",
      " copying: data/images/roi-0000729.jpg\n",
      " copying: data/images/roi-0000730.jpg\n",
      " copying: data/images/roi-0000731.jpg\n",
      " copying: data/images/roi-0000732.jpg\n",
      " copying: data/images/roi-0000733.jpg\n",
      " copying: data/images/roi-0000734.jpg\n",
      " copying: data/images/roi-0000735.jpg\n",
      " copying: data/images/roi-0000736.jpg\n",
      " copying: data/images/roi-0000737.jpg\n",
      " copying: data/images/roi-0000738.jpg\n",
      " copying: data/images/roi-0000739.jpg\n",
      " copying: data/images/roi-0000740.jpg\n",
      " copying: data/images/roi-0000741.jpg\n",
      " copying: data/images/roi-0000742.jpg\n",
      " copying: data/images/roi-0000743.jpg\n",
      " copying: data/images/roi-0000744.jpg\n",
      " copying: data/images/roi-0000745.jpg\n",
      " copying: data/images/roi-0000746.jpg\n",
      " copying: data/images/roi-0000747.jpg\n",
      " copying: data/images/roi-0000748.jpg\n",
      " copying: data/images/roi-0000749.jpg\n",
      " copying: data/images/roi-0000750.jpg\n",
      " copying: data/images/roi-0000751.jpg\n",
      " copying: data/images/roi-0000752.jpg\n",
      " copying: data/images/roi-0000753.jpg\n",
      " copying: data/images/roi-0000754.jpg\n",
      " copying: data/images/roi-0000755.jpg\n",
      " copying: data/images/roi-0000756.jpg\n",
      " copying: data/images/roi-0000757.jpg\n",
      " copying: data/images/roi-0000758.jpg\n",
      " copying: data/images/roi-0000759.jpg\n",
      " copying: data/images/roi-0000760.jpg\n",
      " copying: data/images/roi-0000761.jpg\n",
      " copying: data/images/roi-0000762.jpg\n",
      " copying: data/images/roi-0000763.jpg\n",
      " copying: data/images/roi-0000764.jpg\n",
      " copying: data/images/roi-0000765.jpg\n",
      " copying: data/images/roi-0000766.jpg\n",
      " copying: data/images/roi-0000767.jpg\n",
      " copying: data/images/roi-0000768.jpg\n",
      " copying: data/images/roi-0000769.jpg\n",
      " copying: data/images/roi-0000770.jpg\n",
      " copying: data/images/roi-0000771.jpg\n",
      " copying: data/images/roi-0000772.jpg\n",
      " copying: data/images/roi-0000773.jpg\n",
      " copying: data/images/roi-0000774.jpg\n",
      " copying: data/images/roi-0000775.jpg\n",
      " copying: data/images/roi-0000776.jpg\n",
      " copying: data/images/roi-0000777.jpg\n",
      " copying: data/images/roi-0000778.jpg\n",
      " copying: data/images/roi-0000779.jpg\n",
      " copying: data/images/roi-0000780.jpg\n",
      " copying: data/images/roi-0000781.jpg\n",
      " copying: data/images/roi-0000782.jpg\n",
      " copying: data/images/roi-0000783.jpg\n",
      " copying: data/images/roi-0000784.jpg\n",
      " copying: data/images/roi-0000785.jpg\n",
      " copying: data/images/roi-0000786.jpg\n",
      " copying: data/images/roi-0000787.jpg\n",
      " copying: data/images/roi-0000788.jpg\n",
      " copying: data/images/roi-0000789.jpg\n",
      " copying: data/images/roi-0000790.jpg\n",
      " copying: data/images/roi-0000791.jpg\n",
      " copying: data/images/roi-0000792.jpg\n",
      " copying: data/images/roi-0000793.jpg\n",
      " copying: data/images/roi-0000794.jpg\n",
      " copying: data/images/roi-0000795.jpg\n",
      " copying: data/images/roi-0000796.jpg\n",
      " copying: data/images/roi-0000797.jpg\n",
      " copying: data/images/roi-0000798.jpg\n",
      " copying: data/images/roi-0000799.jpg\n",
      " copying: data/images/roi-0000800.jpg\n",
      " copying: data/images/roi-0000801.jpg\n",
      " copying: data/images/roi-0000802.jpg\n",
      " copying: data/images/roi-0000803.jpg\n",
      " copying: data/images/roi-0000804.jpg\n",
      " copying: data/images/roi-0000805.jpg\n",
      " copying: data/images/roi-0000806.jpg\n",
      " copying: data/images/roi-0000807.jpg\n",
      " copying: data/images/roi-0000808.jpg\n",
      " copying: data/images/roi-0000809.jpg\n",
      " copying: data/images/roi-0000810.jpg\n",
      " copying: data/images/roi-0000811.jpg\n",
      " copying: data/images/roi-0000812.jpg\n",
      " copying: data/images/roi-0000813.jpg\n",
      " copying: data/images/roi-0000814.jpg\n",
      " copying: data/images/roi-0000815.jpg\n",
      " copying: data/images/roi-0000816.jpg\n",
      " copying: data/images/roi-0000817.jpg\n",
      " copying: data/images/roi-0000818.jpg\n",
      " copying: data/images/roi-0000819.jpg\n",
      " copying: data/images/roi-0000820.jpg\n",
      " copying: data/images/roi-0000821.jpg\n",
      " copying: data/images/roi-0000822.jpg\n",
      " copying: data/images/roi-0000823.jpg\n",
      " copying: data/images/roi-0000824.jpg\n",
      " copying: data/images/thumb-0000001.jpg\n",
      " copying: data/images/thumb-0000002.jpg\n",
      " copying: data/images/thumb-0000003.jpg\n",
      " copying: data/images/thumb-0000004.jpg\n",
      " copying: data/images/thumb-0000005.jpg\n",
      " copying: data/images/thumb-0000006.jpg\n",
      " copying: data/images/thumb-0000007.jpg\n",
      " copying: data/images/thumb-0000008.jpg\n",
      " copying: data/images/thumb-0000009.jpg\n",
      " copying: data/images/thumb-0000010.jpg\n",
      " copying: data/images/thumb-0000011.jpg\n",
      " copying: data/images/thumb-0000012.jpg\n",
      " copying: data/images/thumb-0000013.jpg\n",
      " copying: data/images/thumb-0000014.jpg\n",
      " copying: data/images/thumb-0000015.jpg\n",
      " copying: data/images/thumb-0000016.jpg\n",
      " copying: data/images/thumb-0000017.jpg\n",
      " copying: data/images/thumb-0000018.jpg\n",
      " copying: data/images/thumb-0000019.jpg\n",
      " copying: data/images/thumb-0000020.jpg\n",
      " copying: data/images/thumb-0000021.jpg\n",
      " copying: data/images/thumb-0000022.jpg\n",
      " copying: data/images/thumb-0000023.jpg\n",
      " copying: data/images/thumb-0000024.jpg\n",
      " copying: data/images/thumb-0000025.jpg\n",
      " copying: data/images/thumb-0000026.jpg\n",
      " copying: data/images/thumb-0000027.jpg\n",
      " copying: data/images/thumb-0000028.jpg\n",
      " copying: data/images/thumb-0000029.jpg\n",
      " copying: data/images/thumb-0000030.jpg\n",
      " copying: data/images/thumb-0000031.jpg\n",
      " copying: data/images/thumb-0000032.jpg\n",
      " copying: data/images/thumb-0000033.jpg\n",
      " copying: data/images/thumb-0000034.jpg\n",
      " copying: data/images/thumb-0000035.jpg\n",
      " copying: data/images/thumb-0000036.jpg\n",
      " copying: data/images/thumb-0000037.jpg\n",
      " copying: data/images/thumb-0000038.jpg\n",
      " copying: data/images/thumb-0000039.jpg\n",
      " copying: data/images/thumb-0000040.jpg\n",
      " copying: data/images/thumb-0000041.jpg\n",
      " copying: data/images/thumb-0000042.jpg\n",
      " copying: data/images/thumb-0000043.jpg\n",
      " copying: data/images/thumb-0000044.jpg\n",
      " copying: data/images/thumb-0000045.jpg\n",
      " copying: data/images/thumb-0000046.jpg\n",
      " copying: data/images/thumb-0000047.jpg\n",
      " copying: data/images/thumb-0000048.jpg\n",
      " copying: data/images/thumb-0000049.jpg\n",
      " copying: data/images/thumb-0000050.jpg\n",
      " copying: data/images/thumb-0000051.jpg\n",
      " copying: data/images/thumb-0000052.jpg\n",
      " copying: data/images/thumb-0000053.jpg\n",
      " copying: data/images/thumb-0000054.jpg\n",
      " copying: data/images/thumb-0000055.jpg\n",
      " copying: data/images/thumb-0000056.jpg\n",
      " copying: data/images/thumb-0000057.jpg\n",
      " copying: data/images/thumb-0000058.jpg\n",
      " copying: data/images/thumb-0000059.jpg\n",
      " copying: data/images/thumb-0000060.jpg\n",
      " copying: data/images/thumb-0000061.jpg\n",
      " copying: data/images/thumb-0000062.jpg\n",
      " copying: data/images/thumb-0000063.jpg\n",
      " copying: data/images/thumb-0000064.jpg\n",
      " copying: data/images/thumb-0000065.jpg\n",
      " copying: data/images/thumb-0000066.jpg\n",
      " copying: data/images/thumb-0000067.jpg\n",
      " copying: data/images/thumb-0000068.jpg\n",
      " copying: data/images/thumb-0000069.jpg\n",
      " copying: data/images/thumb-0000070.jpg\n",
      " copying: data/images/thumb-0000071.jpg\n",
      " copying: data/images/thumb-0000072.jpg\n",
      " copying: data/images/thumb-0000073.jpg\n",
      " copying: data/images/thumb-0000074.jpg\n",
      " copying: data/images/thumb-0000075.jpg\n",
      " copying: data/images/thumb-0000076.jpg\n",
      " copying: data/images/thumb-0000077.jpg\n",
      " copying: data/images/thumb-0000078.jpg\n",
      " copying: data/images/thumb-0000079.jpg\n",
      " copying: data/images/thumb-0000080.jpg\n",
      " copying: data/images/thumb-0000081.jpg\n",
      " copying: data/images/thumb-0000082.jpg\n",
      " copying: data/images/thumb-0000083.jpg\n",
      " copying: data/images/thumb-0000084.jpg\n",
      " copying: data/images/thumb-0000085.jpg\n",
      " copying: data/images/thumb-0000086.jpg\n",
      " copying: data/images/thumb-0000087.jpg\n",
      " copying: data/images/thumb-0000088.jpg\n",
      " copying: data/images/thumb-0000089.jpg\n",
      " copying: data/images/thumb-0000090.jpg\n",
      " copying: data/images/thumb-0000091.jpg\n",
      " copying: data/images/thumb-0000092.jpg\n",
      " copying: data/images/thumb-0000093.jpg\n",
      " copying: data/images/thumb-0000094.jpg\n",
      " copying: data/images/thumb-0000095.jpg\n",
      " copying: data/images/thumb-0000096.jpg\n",
      " copying: data/images/thumb-0000097.jpg\n",
      " copying: data/images/thumb-0000098.jpg\n",
      " copying: data/images/thumb-0000099.jpg\n",
      " copying: data/images/thumb-0000100.jpg\n",
      " copying: data/images/thumb-0000101.jpg\n",
      " copying: data/images/thumb-0000102.jpg\n",
      " copying: data/images/thumb-0000103.jpg\n",
      " copying: data/images/thumb-0000104.jpg\n",
      " copying: data/images/thumb-0000105.jpg\n",
      " copying: data/images/thumb-0000106.jpg\n",
      " copying: data/images/thumb-0000107.jpg\n",
      " copying: data/images/thumb-0000108.jpg\n",
      " copying: data/images/thumb-0000109.jpg\n",
      " copying: data/images/thumb-0000110.jpg\n",
      " copying: data/images/thumb-0000111.jpg\n",
      " copying: data/images/thumb-0000112.jpg\n",
      " copying: data/images/thumb-0000113.jpg\n",
      " copying: data/images/thumb-0000114.jpg\n",
      " copying: data/images/thumb-0000115.jpg\n",
      " copying: data/images/thumb-0000116.jpg\n",
      " copying: data/images/thumb-0000117.jpg\n",
      " copying: data/images/thumb-0000118.jpg\n",
      " copying: data/images/thumb-0000119.jpg\n",
      " copying: data/images/thumb-0000120.jpg\n",
      " copying: data/images/thumb-0000121.jpg\n",
      " copying: data/images/thumb-0000122.jpg\n",
      " copying: data/images/thumb-0000123.jpg\n",
      " copying: data/images/thumb-0000124.jpg\n",
      " copying: data/images/thumb-0000125.jpg\n",
      " copying: data/images/thumb-0000126.jpg\n",
      " copying: data/images/thumb-0000127.jpg\n",
      " copying: data/images/thumb-0000128.jpg\n",
      " copying: data/images/thumb-0000129.jpg\n",
      " copying: data/images/thumb-0000130.jpg\n",
      " copying: data/images/thumb-0000131.jpg\n",
      " copying: data/images/thumb-0000132.jpg\n",
      " copying: data/images/thumb-0000133.jpg\n",
      " copying: data/images/thumb-0000134.jpg\n",
      " copying: data/images/thumb-0000135.jpg\n",
      " copying: data/images/thumb-0000136.jpg\n",
      " copying: data/images/thumb-0000137.jpg\n",
      " copying: data/images/thumb-0000138.jpg\n",
      " copying: data/images/thumb-0000139.jpg\n",
      " copying: data/images/thumb-0000140.jpg\n",
      " copying: data/images/thumb-0000141.jpg\n",
      " copying: data/images/thumb-0000142.jpg\n",
      " copying: data/images/thumb-0000143.jpg\n",
      " copying: data/images/thumb-0000144.jpg\n",
      " copying: data/images/thumb-0000145.jpg\n",
      " copying: data/images/thumb-0000146.jpg\n",
      " copying: data/images/thumb-0000147.jpg\n",
      " copying: data/images/thumb-0000148.jpg\n",
      " copying: data/images/thumb-0000149.jpg\n",
      " copying: data/images/thumb-0000150.jpg\n",
      " copying: data/images/thumb-0000151.jpg\n",
      " copying: data/images/thumb-0000152.jpg\n",
      " copying: data/images/thumb-0000153.jpg\n",
      " copying: data/images/thumb-0000154.jpg\n",
      " copying: data/images/thumb-0000155.jpg\n",
      " copying: data/images/thumb-0000156.jpg\n",
      " copying: data/images/thumb-0000157.jpg\n",
      " copying: data/images/thumb-0000158.jpg\n",
      " copying: data/images/thumb-0000159.jpg\n",
      " copying: data/images/thumb-0000160.jpg\n",
      " copying: data/images/thumb-0000161.jpg\n",
      " copying: data/images/thumb-0000162.jpg\n",
      " copying: data/images/thumb-0000163.jpg\n",
      " copying: data/images/thumb-0000164.jpg\n",
      " copying: data/images/thumb-0000165.jpg\n",
      " copying: data/images/thumb-0000166.jpg\n",
      " copying: data/images/thumb-0000167.jpg\n",
      " copying: data/images/thumb-0000168.jpg\n",
      " copying: data/images/thumb-0000169.jpg\n",
      " copying: data/images/thumb-0000170.jpg\n",
      " copying: data/images/thumb-0000171.jpg\n",
      " copying: data/images/thumb-0000172.jpg\n",
      " copying: data/images/thumb-0000173.jpg\n",
      " copying: data/images/thumb-0000174.jpg\n",
      " copying: data/images/thumb-0000175.jpg\n",
      " copying: data/images/thumb-0000176.jpg\n",
      " copying: data/images/thumb-0000177.jpg\n",
      " copying: data/images/thumb-0000178.jpg\n",
      " copying: data/images/thumb-0000179.jpg\n",
      " copying: data/images/thumb-0000180.jpg\n",
      " copying: data/images/thumb-0000181.jpg\n",
      " copying: data/images/thumb-0000182.jpg\n",
      " copying: data/images/thumb-0000183.jpg\n",
      " copying: data/images/thumb-0000184.jpg\n",
      " copying: data/images/thumb-0000185.jpg\n",
      " copying: data/images/thumb-0000186.jpg\n",
      " copying: data/images/thumb-0000187.jpg\n",
      " copying: data/images/thumb-0000188.jpg\n",
      " copying: data/images/thumb-0000189.jpg\n",
      " copying: data/images/thumb-0000190.jpg\n",
      " copying: data/images/thumb-0000191.jpg\n",
      " copying: data/images/thumb-0000192.jpg\n",
      " copying: data/images/thumb-0000193.jpg\n",
      " copying: data/images/thumb-0000194.jpg\n",
      " copying: data/images/thumb-0000195.jpg\n",
      " copying: data/images/thumb-0000196.jpg\n",
      " copying: data/images/thumb-0000197.jpg\n",
      " copying: data/images/thumb-0000198.jpg\n",
      " copying: data/images/thumb-0000199.jpg\n",
      " copying: data/images/thumb-0000200.jpg\n",
      " copying: data/images/thumb-0000201.jpg\n",
      " copying: data/images/thumb-0000202.jpg\n",
      " copying: data/images/thumb-0000203.jpg\n",
      " copying: data/images/thumb-0000204.jpg\n",
      " copying: data/images/thumb-0000205.jpg\n",
      " copying: data/images/thumb-0000206.jpg\n",
      " copying: data/images/thumb-0000207.jpg\n",
      " copying: data/images/thumb-0000208.jpg\n",
      " copying: data/images/thumb-0000209.jpg\n",
      " copying: data/images/thumb-0000210.jpg\n",
      " copying: data/images/thumb-0000211.jpg\n",
      " copying: data/images/thumb-0000212.jpg\n",
      " copying: data/images/thumb-0000213.jpg\n",
      " copying: data/images/thumb-0000214.jpg\n",
      " copying: data/images/thumb-0000215.jpg\n",
      " copying: data/images/thumb-0000216.jpg\n",
      " copying: data/images/thumb-0000217.jpg\n",
      " copying: data/images/thumb-0000218.jpg\n",
      " copying: data/images/thumb-0000219.jpg\n",
      " copying: data/images/thumb-0000220.jpg\n",
      " copying: data/images/thumb-0000221.jpg\n",
      " copying: data/images/thumb-0000222.jpg\n",
      " copying: data/images/thumb-0000223.jpg\n",
      " copying: data/images/thumb-0000224.jpg\n",
      " copying: data/images/thumb-0000225.jpg\n",
      " copying: data/images/thumb-0000226.jpg\n",
      " copying: data/images/thumb-0000227.jpg\n",
      " copying: data/images/thumb-0000228.jpg\n",
      " copying: data/images/thumb-0000229.jpg\n",
      " copying: data/images/thumb-0000230.jpg\n",
      " copying: data/images/thumb-0000231.jpg\n",
      " copying: data/images/thumb-0000232.jpg\n",
      " copying: data/images/thumb-0000233.jpg\n",
      " copying: data/images/thumb-0000234.jpg\n",
      " copying: data/images/thumb-0000235.jpg\n",
      " copying: data/images/thumb-0000236.jpg\n",
      " copying: data/images/thumb-0000237.jpg\n",
      " copying: data/images/thumb-0000238.jpg\n",
      " copying: data/images/thumb-0000239.jpg\n",
      " copying: data/images/thumb-0000240.jpg\n",
      " copying: data/images/thumb-0000241.jpg\n",
      " copying: data/images/thumb-0000242.jpg\n",
      " copying: data/images/thumb-0000243.jpg\n",
      " copying: data/images/thumb-0000244.jpg\n",
      " copying: data/images/thumb-0000245.jpg\n",
      " copying: data/images/thumb-0000246.jpg\n",
      " copying: data/images/thumb-0000247.jpg\n",
      " copying: data/images/thumb-0000248.jpg\n",
      " copying: data/images/thumb-0000249.jpg\n",
      " copying: data/images/thumb-0000250.jpg\n",
      " copying: data/images/thumb-0000251.jpg\n",
      " copying: data/images/thumb-0000252.jpg\n",
      " copying: data/images/thumb-0000253.jpg\n",
      " copying: data/images/thumb-0000254.jpg\n",
      " copying: data/images/thumb-0000255.jpg\n",
      " copying: data/images/thumb-0000256.jpg\n",
      " copying: data/images/thumb-0000257.jpg\n",
      " copying: data/images/thumb-0000258.jpg\n",
      " copying: data/images/thumb-0000259.jpg\n",
      " copying: data/images/thumb-0000260.jpg\n",
      " copying: data/images/thumb-0000261.jpg\n",
      " copying: data/images/thumb-0000262.jpg\n",
      " copying: data/images/thumb-0000263.jpg\n",
      " copying: data/images/thumb-0000264.jpg\n",
      " copying: data/images/thumb-0000265.jpg\n",
      " copying: data/images/thumb-0000266.jpg\n",
      " copying: data/images/thumb-0000267.jpg\n",
      " copying: data/images/thumb-0000268.jpg\n",
      " copying: data/images/thumb-0000269.jpg\n",
      " copying: data/images/thumb-0000270.jpg\n",
      " copying: data/images/thumb-0000271.jpg\n",
      " copying: data/images/thumb-0000272.jpg\n",
      " copying: data/images/thumb-0000273.jpg\n",
      " copying: data/images/thumb-0000274.jpg\n",
      " copying: data/images/thumb-0000275.jpg\n",
      " copying: data/images/thumb-0000276.jpg\n",
      " copying: data/images/thumb-0000277.jpg\n",
      " copying: data/images/thumb-0000278.jpg\n",
      " copying: data/images/thumb-0000279.jpg\n",
      " copying: data/images/thumb-0000280.jpg\n",
      " copying: data/images/thumb-0000281.jpg\n",
      " copying: data/images/thumb-0000282.jpg\n",
      " copying: data/images/thumb-0000283.jpg\n",
      " copying: data/images/thumb-0000284.jpg\n",
      " copying: data/images/thumb-0000285.jpg\n",
      " copying: data/images/thumb-0000286.jpg\n",
      " copying: data/images/thumb-0000287.jpg\n",
      " copying: data/images/thumb-0000288.jpg\n",
      " copying: data/images/thumb-0000289.jpg\n",
      " copying: data/images/thumb-0000290.jpg\n",
      " copying: data/images/thumb-0000291.jpg\n",
      " copying: data/images/thumb-0000292.jpg\n",
      " copying: data/images/thumb-0000293.jpg\n",
      " copying: data/images/thumb-0000294.jpg\n",
      " copying: data/images/thumb-0000295.jpg\n",
      " copying: data/images/thumb-0000296.jpg\n",
      " copying: data/images/thumb-0000297.jpg\n",
      " copying: data/images/thumb-0000298.jpg\n",
      " copying: data/images/thumb-0000299.jpg\n",
      " copying: data/images/thumb-0000300.jpg\n",
      " copying: data/images/thumb-0000301.jpg\n",
      " copying: data/images/thumb-0000302.jpg\n",
      " copying: data/images/thumb-0000303.jpg\n",
      " copying: data/images/thumb-0000304.jpg\n",
      " copying: data/images/thumb-0000305.jpg\n",
      " copying: data/images/thumb-0000306.jpg\n",
      " copying: data/images/thumb-0000307.jpg\n",
      " copying: data/images/thumb-0000308.jpg\n",
      " copying: data/images/thumb-0000309.jpg\n",
      " copying: data/images/thumb-0000310.jpg\n",
      " copying: data/images/thumb-0000311.jpg\n",
      " copying: data/images/thumb-0000312.jpg\n",
      " copying: data/images/thumb-0000313.jpg\n",
      " copying: data/images/thumb-0000314.jpg\n",
      " copying: data/images/thumb-0000315.jpg\n",
      " copying: data/images/thumb-0000316.jpg\n",
      " copying: data/images/thumb-0000317.jpg\n",
      " copying: data/images/thumb-0000318.jpg\n",
      " copying: data/images/thumb-0000319.jpg\n",
      " copying: data/images/thumb-0000320.jpg\n",
      " copying: data/images/thumb-0000321.jpg\n",
      " copying: data/images/thumb-0000322.jpg\n",
      " copying: data/images/thumb-0000323.jpg\n",
      " copying: data/images/thumb-0000324.jpg\n",
      " copying: data/images/thumb-0000325.jpg\n",
      " copying: data/images/thumb-0000326.jpg\n",
      " copying: data/images/thumb-0000327.jpg\n",
      " copying: data/images/thumb-0000328.jpg\n",
      " copying: data/images/thumb-0000329.jpg\n",
      " copying: data/images/thumb-0000330.jpg\n",
      " copying: data/images/thumb-0000331.jpg\n",
      " copying: data/images/thumb-0000332.jpg\n",
      " copying: data/images/thumb-0000333.jpg\n",
      " copying: data/images/thumb-0000334.jpg\n",
      " copying: data/images/thumb-0000335.jpg\n",
      " copying: data/images/thumb-0000336.jpg\n",
      " copying: data/images/thumb-0000337.jpg\n",
      " copying: data/images/thumb-0000338.jpg\n",
      " copying: data/images/thumb-0000339.jpg\n",
      " copying: data/images/thumb-0000340.jpg\n",
      " copying: data/images/thumb-0000341.jpg\n",
      " copying: data/images/thumb-0000342.jpg\n",
      " copying: data/images/thumb-0000343.jpg\n",
      " copying: data/images/thumb-0000344.jpg\n",
      " copying: data/images/thumb-0000345.jpg\n",
      " copying: data/images/thumb-0000346.jpg\n",
      " copying: data/images/thumb-0000347.jpg\n",
      " copying: data/images/thumb-0000348.jpg\n",
      " copying: data/images/thumb-0000349.jpg\n",
      " copying: data/images/thumb-0000350.jpg\n",
      " copying: data/images/thumb-0000351.jpg\n",
      " copying: data/images/thumb-0000352.jpg\n",
      " copying: data/images/thumb-0000353.jpg\n",
      " copying: data/images/thumb-0000354.jpg\n",
      " copying: data/images/thumb-0000355.jpg\n",
      " copying: data/images/thumb-0000356.jpg\n",
      " copying: data/images/thumb-0000357.jpg\n",
      " copying: data/images/thumb-0000358.jpg\n",
      " copying: data/images/thumb-0000359.jpg\n",
      " copying: data/images/thumb-0000360.jpg\n",
      " copying: data/images/thumb-0000361.jpg\n",
      " copying: data/images/thumb-0000362.jpg\n",
      " copying: data/images/thumb-0000363.jpg\n",
      " copying: data/images/thumb-0000364.jpg\n",
      " copying: data/images/thumb-0000365.jpg\n",
      " copying: data/images/thumb-0000366.jpg\n",
      " copying: data/images/thumb-0000367.jpg\n",
      " copying: data/images/thumb-0000368.jpg\n",
      " copying: data/images/thumb-0000369.jpg\n",
      " copying: data/images/thumb-0000370.jpg\n",
      " copying: data/images/thumb-0000371.jpg\n",
      " copying: data/images/thumb-0000372.jpg\n",
      " copying: data/images/thumb-0000373.jpg\n",
      " copying: data/images/thumb-0000374.jpg\n",
      " copying: data/images/thumb-0000375.jpg\n",
      " copying: data/images/thumb-0000376.jpg\n",
      " copying: data/images/thumb-0000377.jpg\n",
      " copying: data/images/thumb-0000378.jpg\n",
      " copying: data/images/thumb-0000379.jpg\n",
      " copying: data/images/thumb-0000380.jpg\n",
      " copying: data/images/thumb-0000381.jpg\n",
      " copying: data/images/thumb-0000382.jpg\n",
      " copying: data/images/thumb-0000383.jpg\n",
      " copying: data/images/thumb-0000384.jpg\n",
      " copying: data/images/thumb-0000385.jpg\n",
      " copying: data/images/thumb-0000386.jpg\n",
      " copying: data/images/thumb-0000387.jpg\n",
      " copying: data/images/thumb-0000388.jpg\n",
      " copying: data/images/thumb-0000389.jpg\n",
      " copying: data/images/thumb-0000390.jpg\n",
      " copying: data/images/thumb-0000391.jpg\n",
      " copying: data/images/thumb-0000392.jpg\n",
      " copying: data/images/thumb-0000393.jpg\n",
      " copying: data/images/thumb-0000394.jpg\n",
      " copying: data/images/thumb-0000395.jpg\n",
      " copying: data/images/thumb-0000396.jpg\n",
      " copying: data/images/thumb-0000397.jpg\n",
      " copying: data/images/thumb-0000398.jpg\n",
      " copying: data/images/thumb-0000399.jpg\n",
      " copying: data/images/thumb-0000400.jpg\n",
      " copying: data/images/thumb-0000401.jpg\n",
      " copying: data/images/thumb-0000402.jpg\n",
      " copying: data/images/thumb-0000403.jpg\n",
      " copying: data/images/thumb-0000404.jpg\n",
      " copying: data/images/thumb-0000405.jpg\n",
      " copying: data/images/thumb-0000406.jpg\n",
      " copying: data/images/thumb-0000407.jpg\n",
      " copying: data/images/thumb-0000408.jpg\n",
      " copying: data/images/thumb-0000409.jpg\n",
      " copying: data/images/thumb-0000410.jpg\n",
      " copying: data/images/thumb-0000411.jpg\n",
      " copying: data/images/thumb-0000412.jpg\n",
      " copying: data/images/thumb-0000413.jpg\n",
      " copying: data/images/thumb-0000414.jpg\n",
      " copying: data/images/thumb-0000415.jpg\n",
      " copying: data/images/thumb-0000416.jpg\n",
      " copying: data/images/thumb-0000417.jpg\n",
      " copying: data/images/thumb-0000418.jpg\n",
      " copying: data/images/thumb-0000419.jpg\n",
      " copying: data/images/thumb-0000420.jpg\n",
      " copying: data/images/thumb-0000421.jpg\n",
      " copying: data/images/thumb-0000422.jpg\n",
      " copying: data/images/thumb-0000423.jpg\n",
      " copying: data/images/thumb-0000424.jpg\n",
      " copying: data/images/thumb-0000425.jpg\n",
      " copying: data/images/thumb-0000426.jpg\n",
      " copying: data/images/thumb-0000427.jpg\n",
      " copying: data/images/thumb-0000428.jpg\n",
      " copying: data/images/thumb-0000429.jpg\n",
      " copying: data/images/thumb-0000430.jpg\n",
      " copying: data/images/thumb-0000431.jpg\n",
      " copying: data/images/thumb-0000432.jpg\n",
      " copying: data/images/thumb-0000433.jpg\n",
      " copying: data/images/thumb-0000434.jpg\n",
      " copying: data/images/thumb-0000435.jpg\n",
      " copying: data/images/thumb-0000436.jpg\n",
      " copying: data/images/thumb-0000437.jpg\n",
      " copying: data/images/thumb-0000438.jpg\n",
      " copying: data/images/thumb-0000439.jpg\n",
      " copying: data/images/thumb-0000440.jpg\n",
      " copying: data/images/thumb-0000441.jpg\n",
      " copying: data/images/thumb-0000442.jpg\n",
      " copying: data/images/thumb-0000443.jpg\n",
      " copying: data/images/thumb-0000444.jpg\n",
      " copying: data/images/thumb-0000445.jpg\n",
      " copying: data/images/thumb-0000446.jpg\n",
      " copying: data/images/thumb-0000447.jpg\n",
      " copying: data/images/thumb-0000448.jpg\n",
      " copying: data/images/thumb-0000449.jpg\n",
      " copying: data/images/thumb-0000450.jpg\n",
      " copying: data/images/thumb-0000451.jpg\n",
      " copying: data/images/thumb-0000452.jpg\n",
      " copying: data/images/thumb-0000453.jpg\n",
      " copying: data/images/thumb-0000454.jpg\n",
      " copying: data/images/thumb-0000455.jpg\n",
      " copying: data/images/thumb-0000456.jpg\n",
      " copying: data/images/thumb-0000457.jpg\n",
      " copying: data/images/thumb-0000458.jpg\n",
      " copying: data/images/thumb-0000459.jpg\n",
      " copying: data/images/thumb-0000460.jpg\n",
      " copying: data/images/thumb-0000461.jpg\n",
      " copying: data/images/thumb-0000462.jpg\n",
      " copying: data/images/thumb-0000463.jpg\n",
      " copying: data/images/thumb-0000464.jpg\n",
      " copying: data/images/thumb-0000465.jpg\n",
      " copying: data/images/thumb-0000466.jpg\n",
      " copying: data/images/thumb-0000467.jpg\n",
      " copying: data/images/thumb-0000468.jpg\n",
      " copying: data/images/thumb-0000469.jpg\n",
      " copying: data/images/thumb-0000470.jpg\n",
      " copying: data/images/thumb-0000471.jpg\n",
      " copying: data/images/thumb-0000472.jpg\n",
      " copying: data/images/thumb-0000473.jpg\n",
      " copying: data/images/thumb-0000474.jpg\n",
      " copying: data/images/thumb-0000475.jpg\n",
      " copying: data/images/thumb-0000476.jpg\n",
      " copying: data/images/thumb-0000477.jpg\n",
      " copying: data/images/thumb-0000478.jpg\n",
      " copying: data/images/thumb-0000479.jpg\n",
      " copying: data/images/thumb-0000480.jpg\n",
      " copying: data/images/thumb-0000481.jpg\n",
      " copying: data/images/thumb-0000482.jpg\n",
      " copying: data/images/thumb-0000483.jpg\n",
      " copying: data/images/thumb-0000484.jpg\n",
      " copying: data/images/thumb-0000485.jpg\n",
      " copying: data/images/thumb-0000486.jpg\n",
      " copying: data/images/thumb-0000487.jpg\n",
      " copying: data/images/thumb-0000488.jpg\n",
      " copying: data/images/thumb-0000489.jpg\n",
      " copying: data/images/thumb-0000490.jpg\n",
      " copying: data/images/thumb-0000491.jpg\n",
      " copying: data/images/thumb-0000492.jpg\n",
      " copying: data/images/thumb-0000493.jpg\n",
      " copying: data/images/thumb-0000494.jpg\n",
      " copying: data/images/thumb-0000495.jpg\n",
      " copying: data/images/thumb-0000496.jpg\n",
      " copying: data/images/thumb-0000497.jpg\n",
      " copying: data/images/thumb-0000498.jpg\n",
      " copying: data/images/thumb-0000499.jpg\n",
      " copying: data/images/thumb-0000500.jpg\n",
      " copying: data/images/thumb-0000501.jpg\n",
      " copying: data/images/thumb-0000502.jpg\n",
      " copying: data/images/thumb-0000503.jpg\n",
      " copying: data/images/thumb-0000504.jpg\n",
      " copying: data/images/thumb-0000505.jpg\n",
      " copying: data/images/thumb-0000506.jpg\n",
      " copying: data/images/thumb-0000507.jpg\n",
      " copying: data/images/thumb-0000508.jpg\n",
      " copying: data/images/thumb-0000509.jpg\n",
      " copying: data/images/thumb-0000510.jpg\n",
      " copying: data/images/thumb-0000511.jpg\n",
      " copying: data/images/thumb-0000512.jpg\n",
      " copying: data/images/thumb-0000513.jpg\n",
      " copying: data/images/thumb-0000514.jpg\n",
      " copying: data/images/thumb-0000515.jpg\n",
      " copying: data/images/thumb-0000516.jpg\n",
      " copying: data/images/thumb-0000517.jpg\n",
      " copying: data/images/thumb-0000518.jpg\n",
      " copying: data/images/thumb-0000519.jpg\n",
      " copying: data/images/thumb-0000520.jpg\n",
      " copying: data/images/thumb-0000521.jpg\n",
      " copying: data/images/thumb-0000522.jpg\n",
      " copying: data/images/thumb-0000523.jpg\n",
      " copying: data/images/thumb-0000524.jpg\n",
      " copying: data/images/thumb-0000525.jpg\n",
      " copying: data/images/thumb-0000526.jpg\n",
      " copying: data/images/thumb-0000527.jpg\n",
      " copying: data/images/thumb-0000528.jpg\n",
      " copying: data/images/thumb-0000529.jpg\n",
      " copying: data/images/thumb-0000530.jpg\n",
      " copying: data/images/thumb-0000531.jpg\n",
      " copying: data/images/thumb-0000532.jpg\n",
      " copying: data/images/thumb-0000533.jpg\n",
      " copying: data/images/thumb-0000534.jpg\n",
      " copying: data/images/thumb-0000535.jpg\n",
      " copying: data/images/thumb-0000536.jpg\n",
      " copying: data/images/thumb-0000537.jpg\n",
      " copying: data/images/thumb-0000538.jpg\n",
      " copying: data/images/thumb-0000539.jpg\n",
      " copying: data/images/thumb-0000540.jpg\n",
      " copying: data/images/thumb-0000541.jpg\n",
      " copying: data/images/thumb-0000542.jpg\n",
      " copying: data/images/thumb-0000543.jpg\n",
      " copying: data/images/thumb-0000544.jpg\n",
      " copying: data/images/thumb-0000545.jpg\n",
      " copying: data/images/thumb-0000546.jpg\n",
      " copying: data/images/thumb-0000547.jpg\n",
      " copying: data/images/thumb-0000548.jpg\n",
      " copying: data/images/thumb-0000549.jpg\n",
      " copying: data/images/thumb-0000550.jpg\n",
      " copying: data/images/thumb-0000551.jpg\n",
      " copying: data/images/thumb-0000552.jpg\n",
      " copying: data/images/thumb-0000553.jpg\n",
      " copying: data/images/thumb-0000554.jpg\n",
      " copying: data/images/thumb-0000555.jpg\n",
      " copying: data/images/thumb-0000556.jpg\n",
      " copying: data/images/thumb-0000557.jpg\n",
      " copying: data/images/thumb-0000558.jpg\n",
      " copying: data/images/thumb-0000559.jpg\n",
      " copying: data/images/thumb-0000560.jpg\n",
      " copying: data/images/thumb-0000561.jpg\n",
      " copying: data/images/thumb-0000562.jpg\n",
      " copying: data/images/thumb-0000563.jpg\n",
      " copying: data/images/thumb-0000564.jpg\n",
      " copying: data/images/thumb-0000565.jpg\n",
      " copying: data/images/thumb-0000566.jpg\n",
      " copying: data/images/thumb-0000567.jpg\n",
      " copying: data/images/thumb-0000568.jpg\n",
      " copying: data/images/thumb-0000569.jpg\n",
      " copying: data/images/thumb-0000570.jpg\n",
      " copying: data/images/thumb-0000571.jpg\n",
      " copying: data/images/thumb-0000572.jpg\n",
      " copying: data/images/thumb-0000573.jpg\n",
      " copying: data/images/thumb-0000574.jpg\n",
      " copying: data/images/thumb-0000575.jpg\n",
      " copying: data/images/thumb-0000576.jpg\n",
      " copying: data/images/thumb-0000577.jpg\n",
      " copying: data/images/thumb-0000578.jpg\n",
      " copying: data/images/thumb-0000579.jpg\n",
      " copying: data/images/thumb-0000580.jpg\n",
      " copying: data/images/thumb-0000581.jpg\n",
      " copying: data/images/thumb-0000582.jpg\n",
      " copying: data/images/thumb-0000583.jpg\n",
      " copying: data/images/thumb-0000584.jpg\n",
      " copying: data/images/thumb-0000585.jpg\n",
      " copying: data/images/thumb-0000586.jpg\n",
      " copying: data/images/thumb-0000587.jpg\n",
      " copying: data/images/thumb-0000588.jpg\n",
      " copying: data/images/thumb-0000589.jpg\n",
      " copying: data/images/thumb-0000590.jpg\n",
      " copying: data/images/thumb-0000591.jpg\n",
      " copying: data/images/thumb-0000592.jpg\n",
      " copying: data/images/thumb-0000593.jpg\n",
      " copying: data/images/thumb-0000594.jpg\n",
      " copying: data/images/thumb-0000595.jpg\n",
      " copying: data/images/thumb-0000596.jpg\n",
      " copying: data/images/thumb-0000597.jpg\n",
      " copying: data/images/thumb-0000598.jpg\n",
      " copying: data/images/thumb-0000599.jpg\n",
      " copying: data/images/thumb-0000600.jpg\n",
      " copying: data/images/thumb-0000601.jpg\n",
      " copying: data/images/thumb-0000602.jpg\n",
      " copying: data/images/thumb-0000603.jpg\n",
      " copying: data/images/thumb-0000604.jpg\n",
      " copying: data/images/thumb-0000605.jpg\n",
      " copying: data/images/thumb-0000606.jpg\n",
      " copying: data/images/thumb-0000607.jpg\n",
      " copying: data/images/thumb-0000608.jpg\n",
      " copying: data/images/thumb-0000609.jpg\n",
      " copying: data/images/thumb-0000610.jpg\n",
      " copying: data/images/thumb-0000611.jpg\n",
      " copying: data/images/thumb-0000612.jpg\n",
      " copying: data/images/thumb-0000613.jpg\n",
      " copying: data/images/thumb-0000614.jpg\n",
      " copying: data/images/thumb-0000615.jpg\n",
      " copying: data/images/thumb-0000616.jpg\n",
      " copying: data/images/thumb-0000617.jpg\n",
      " copying: data/images/thumb-0000618.jpg\n",
      " copying: data/images/thumb-0000619.jpg\n",
      " copying: data/images/thumb-0000620.jpg\n",
      " copying: data/images/thumb-0000621.jpg\n",
      " copying: data/images/thumb-0000622.jpg\n",
      " copying: data/images/thumb-0000623.jpg\n",
      " copying: data/images/thumb-0000624.jpg\n",
      " copying: data/images/thumb-0000625.jpg\n",
      " copying: data/images/thumb-0000626.jpg\n",
      " copying: data/images/thumb-0000627.jpg\n",
      " copying: data/images/thumb-0000628.jpg\n",
      " copying: data/images/thumb-0000629.jpg\n",
      " copying: data/images/thumb-0000630.jpg\n",
      " copying: data/images/thumb-0000631.jpg\n",
      " copying: data/images/thumb-0000632.jpg\n",
      " copying: data/images/thumb-0000633.jpg\n",
      " copying: data/images/thumb-0000634.jpg\n",
      " copying: data/images/thumb-0000635.jpg\n",
      " copying: data/images/thumb-0000636.jpg\n",
      " copying: data/images/thumb-0000637.jpg\n",
      " copying: data/images/thumb-0000638.jpg\n",
      " copying: data/images/thumb-0000639.jpg\n",
      " copying: data/images/thumb-0000640.jpg\n",
      " copying: data/images/thumb-0000641.jpg\n",
      " copying: data/images/thumb-0000642.jpg\n",
      " copying: data/images/thumb-0000643.jpg\n",
      " copying: data/images/thumb-0000644.jpg\n",
      " copying: data/images/thumb-0000645.jpg\n",
      " copying: data/images/thumb-0000646.jpg\n",
      " copying: data/images/thumb-0000647.jpg\n",
      " copying: data/images/thumb-0000648.jpg\n",
      " copying: data/images/thumb-0000649.jpg\n",
      " copying: data/images/thumb-0000650.jpg\n",
      " copying: data/images/thumb-0000651.jpg\n",
      " copying: data/images/thumb-0000652.jpg\n",
      " copying: data/images/thumb-0000653.jpg\n",
      " copying: data/images/thumb-0000654.jpg\n",
      " copying: data/images/thumb-0000655.jpg\n",
      " copying: data/images/thumb-0000656.jpg\n",
      " copying: data/images/thumb-0000657.jpg\n",
      " copying: data/images/thumb-0000658.jpg\n",
      " copying: data/images/thumb-0000659.jpg\n",
      " copying: data/images/thumb-0000660.jpg\n",
      " copying: data/images/thumb-0000661.jpg\n",
      " copying: data/images/thumb-0000662.jpg\n",
      " copying: data/images/thumb-0000663.jpg\n",
      " copying: data/images/thumb-0000664.jpg\n",
      " copying: data/images/thumb-0000665.jpg\n",
      " copying: data/images/thumb-0000666.jpg\n",
      " copying: data/images/thumb-0000667.jpg\n",
      " copying: data/images/thumb-0000668.jpg\n",
      " copying: data/images/thumb-0000669.jpg\n",
      " copying: data/images/thumb-0000670.jpg\n",
      " copying: data/images/thumb-0000671.jpg\n",
      " copying: data/images/thumb-0000672.jpg\n",
      " copying: data/images/thumb-0000673.jpg\n",
      " copying: data/images/thumb-0000674.jpg\n",
      " copying: data/images/thumb-0000675.jpg\n",
      " copying: data/images/thumb-0000676.jpg\n",
      " copying: data/images/thumb-0000677.jpg\n",
      " copying: data/images/thumb-0000678.jpg\n",
      " copying: data/images/thumb-0000679.jpg\n",
      " copying: data/images/thumb-0000680.jpg\n",
      " copying: data/images/thumb-0000681.jpg\n",
      " copying: data/images/thumb-0000682.jpg\n",
      " copying: data/images/thumb-0000683.jpg\n",
      " copying: data/images/thumb-0000684.jpg\n",
      " copying: data/images/thumb-0000685.jpg\n",
      " copying: data/images/thumb-0000686.jpg\n",
      " copying: data/images/thumb-0000687.jpg\n",
      " copying: data/images/thumb-0000688.jpg\n",
      " copying: data/images/thumb-0000689.jpg\n",
      " copying: data/images/thumb-0000690.jpg\n",
      " copying: data/images/thumb-0000691.jpg\n",
      " copying: data/images/thumb-0000692.jpg\n",
      " copying: data/images/thumb-0000693.jpg\n",
      " copying: data/images/thumb-0000694.jpg\n",
      " copying: data/images/thumb-0000695.jpg\n",
      " copying: data/images/thumb-0000696.jpg\n",
      " copying: data/images/thumb-0000697.jpg\n",
      " copying: data/images/thumb-0000698.jpg\n",
      " copying: data/images/thumb-0000699.jpg\n",
      " copying: data/images/thumb-0000700.jpg\n",
      " copying: data/images/thumb-0000701.jpg\n",
      " copying: data/images/thumb-0000702.jpg\n",
      " copying: data/images/thumb-0000703.jpg\n",
      " copying: data/images/thumb-0000704.jpg\n",
      " copying: data/images/thumb-0000705.jpg\n",
      " copying: data/images/thumb-0000706.jpg\n",
      " copying: data/images/thumb-0000707.jpg\n",
      " copying: data/images/thumb-0000708.jpg\n",
      " copying: data/images/thumb-0000709.jpg\n",
      " copying: data/images/thumb-0000710.jpg\n",
      " copying: data/images/thumb-0000711.jpg\n",
      " copying: data/images/thumb-0000712.jpg\n",
      " copying: data/images/thumb-0000713.jpg\n",
      " copying: data/images/thumb-0000714.jpg\n",
      " copying: data/images/thumb-0000715.jpg\n",
      " copying: data/images/thumb-0000716.jpg\n",
      " copying: data/images/thumb-0000717.jpg\n",
      " copying: data/images/thumb-0000718.jpg\n",
      " copying: data/images/thumb-0000719.jpg\n",
      " copying: data/images/thumb-0000720.jpg\n",
      " copying: data/images/thumb-0000721.jpg\n",
      " copying: data/images/thumb-0000722.jpg\n",
      " copying: data/images/thumb-0000723.jpg\n",
      " copying: data/images/thumb-0000724.jpg\n",
      " copying: data/images/thumb-0000725.jpg\n",
      " copying: data/images/thumb-0000726.jpg\n",
      " copying: data/images/thumb-0000727.jpg\n",
      " copying: data/images/thumb-0000728.jpg\n",
      " copying: data/images/thumb-0000729.jpg\n",
      " copying: data/images/thumb-0000730.jpg\n",
      " copying: data/images/thumb-0000731.jpg\n",
      " copying: data/images/thumb-0000732.jpg\n",
      " copying: data/images/thumb-0000733.jpg\n",
      " copying: data/images/thumb-0000734.jpg\n",
      " copying: data/images/thumb-0000735.jpg\n",
      " copying: data/images/thumb-0000736.jpg\n",
      " copying: data/images/thumb-0000737.jpg\n",
      " copying: data/images/thumb-0000738.jpg\n",
      " copying: data/images/thumb-0000739.jpg\n",
      " copying: data/images/thumb-0000740.jpg\n",
      " copying: data/images/thumb-0000741.jpg\n",
      " copying: data/images/thumb-0000742.jpg\n",
      " copying: data/images/thumb-0000743.jpg\n",
      " copying: data/images/thumb-0000744.jpg\n",
      " copying: data/images/thumb-0000745.jpg\n",
      " copying: data/images/thumb-0000746.jpg\n",
      " copying: data/images/thumb-0000747.jpg\n",
      " copying: data/images/thumb-0000748.jpg\n",
      " copying: data/images/thumb-0000749.jpg\n",
      " copying: data/images/thumb-0000750.jpg\n",
      " copying: data/images/thumb-0000751.jpg\n",
      " copying: data/images/thumb-0000752.jpg\n",
      " copying: data/images/thumb-0000753.jpg\n",
      " copying: data/images/thumb-0000754.jpg\n",
      " copying: data/images/thumb-0000755.jpg\n",
      " copying: data/images/thumb-0000756.jpg\n",
      " copying: data/images/thumb-0000757.jpg\n",
      " copying: data/images/thumb-0000758.jpg\n",
      " copying: data/images/thumb-0000759.jpg\n",
      " copying: data/images/thumb-0000760.jpg\n",
      " copying: data/images/thumb-0000761.jpg\n",
      " copying: data/images/thumb-0000762.jpg\n",
      " copying: data/images/thumb-0000763.jpg\n",
      " copying: data/images/thumb-0000764.jpg\n",
      " copying: data/images/thumb-0000765.jpg\n",
      " copying: data/images/thumb-0000766.jpg\n",
      " copying: data/images/thumb-0000767.jpg\n",
      " copying: data/images/thumb-0000768.jpg\n",
      " copying: data/images/thumb-0000769.jpg\n",
      " copying: data/images/thumb-0000770.jpg\n",
      " copying: data/images/thumb-0000771.jpg\n",
      " copying: data/images/thumb-0000772.jpg\n",
      " copying: data/images/thumb-0000773.jpg\n",
      " copying: data/images/thumb-0000774.jpg\n",
      " copying: data/images/thumb-0000775.jpg\n",
      " copying: data/images/thumb-0000776.jpg\n",
      " copying: data/images/thumb-0000777.jpg\n",
      " copying: data/images/thumb-0000778.jpg\n",
      " copying: data/images/thumb-0000779.jpg\n",
      " copying: data/images/thumb-0000780.jpg\n",
      " copying: data/images/thumb-0000781.jpg\n",
      " copying: data/images/thumb-0000782.jpg\n",
      " copying: data/images/thumb-0000783.jpg\n",
      " copying: data/images/thumb-0000784.jpg\n",
      " copying: data/images/thumb-0000785.jpg\n",
      " copying: data/images/thumb-0000786.jpg\n",
      " copying: data/images/thumb-0000787.jpg\n",
      " copying: data/images/thumb-0000788.jpg\n",
      " copying: data/images/thumb-0000789.jpg\n",
      " copying: data/images/thumb-0000790.jpg\n",
      " copying: data/images/thumb-0000791.jpg\n",
      " copying: data/images/thumb-0000792.jpg\n",
      " copying: data/images/thumb-0000793.jpg\n",
      " copying: data/images/thumb-0000794.jpg\n",
      " copying: data/images/thumb-0000795.jpg\n",
      " copying: data/images/thumb-0000796.jpg\n",
      " copying: data/images/thumb-0000797.jpg\n",
      " copying: data/images/thumb-0000798.jpg\n",
      " copying: data/images/thumb-0000799.jpg\n",
      " copying: data/images/thumb-0000800.jpg\n",
      " copying: data/images/thumb-0000801.jpg\n",
      " copying: data/images/thumb-0000802.jpg\n",
      " copying: data/images/thumb-0000803.jpg\n",
      " copying: data/images/thumb-0000804.jpg\n",
      " copying: data/images/thumb-0000805.jpg\n",
      " copying: data/images/thumb-0000806.jpg\n",
      " copying: data/images/thumb-0000807.jpg\n",
      " copying: data/images/thumb-0000808.jpg\n",
      " copying: data/images/thumb-0000809.jpg\n",
      " copying: data/images/thumb-0000810.jpg\n",
      " copying: data/images/thumb-0000811.jpg\n",
      " copying: data/images/thumb-0000812.jpg\n",
      " copying: data/images/thumb-0000813.jpg\n",
      " copying: data/images/thumb-0000814.jpg\n",
      " copying: data/images/thumb-0000815.jpg\n",
      " copying: data/images/thumb-0000816.jpg\n",
      " copying: data/images/thumb-0000817.jpg\n",
      " copying: data/images/thumb-0000818.jpg\n",
      " copying: data/images/thumb-0000819.jpg\n",
      " copying: data/images/thumb-0000820.jpg\n",
      " copying: data/images/thumb-0000821.jpg\n",
      " copying: data/images/thumb-0000822.jpg\n",
      " copying: data/images/thumb-0000823.jpg\n",
      " copying: data/images/thumb-0000824.jpg\n",
      " copying: data/metadata.dat\n",
      " copying: data/MRHistograms.txt\n",
      " copying: data/SightingData.csv\n",
      " copying: data/StripeCodes.txt\n",
      "Archive:  data-full.zip\n",
      "   creating: data/\n",
      "  inflating: data/.DS_Store          \n",
      "   creating: data/images/\n",
      "  inflating: data/images/img-0000001.jpg  \n",
      "  inflating: data/images/img-0000002.jpg  \n",
      "  inflating: data/images/img-0000003.jpg  \n",
      "  inflating: data/images/img-0000004.jpg  \n",
      "  inflating: data/images/img-0000005.jpg  \n",
      "  inflating: data/images/img-0000006.jpg  \n",
      "  inflating: data/images/img-0000007.jpg  \n",
      "  inflating: data/images/img-0000008.jpg  \n",
      "  inflating: data/images/img-0000009.jpg  \n",
      "  inflating: data/images/img-0000010.jpg  \n",
      "  inflating: data/images/img-0000011.jpg  \n",
      "  inflating: data/images/img-0000012.jpg  \n",
      "  inflating: data/images/img-0000013.jpg  \n",
      "  inflating: data/images/img-0000014.jpg  \n",
      "  inflating: data/images/img-0000015.jpg  \n",
      "  inflating: data/images/img-0000016.jpg  \n",
      "  inflating: data/images/img-0000017.jpg  \n",
      "  inflating: data/images/img-0000018.jpg  \n",
      "  inflating: data/images/img-0000019.jpg  \n",
      "  inflating: data/images/img-0000020.jpg  \n",
      "  inflating: data/images/img-0000021.jpg  \n",
      "  inflating: data/images/img-0000022.jpg  \n",
      "  inflating: data/images/img-0000023.jpg  \n",
      "  inflating: data/images/img-0000024.jpg  \n",
      "  inflating: data/images/img-0000025.jpg  \n",
      "  inflating: data/images/img-0000026.jpg  \n",
      "  inflating: data/images/img-0000027.jpg  \n",
      "  inflating: data/images/img-0000028.jpg  \n",
      "  inflating: data/images/img-0000029.jpg  \n",
      "  inflating: data/images/img-0000030.jpg  \n",
      "  inflating: data/images/img-0000031.jpg  \n",
      "  inflating: data/images/img-0000032.jpg  \n",
      "  inflating: data/images/img-0000033.jpg  \n",
      "  inflating: data/images/img-0000034.jpg  \n",
      "  inflating: data/images/img-0000035.jpg  \n",
      "  inflating: data/images/img-0000036.jpg  \n",
      "  inflating: data/images/img-0000037.jpg  \n",
      "  inflating: data/images/img-0000038.jpg  \n",
      "  inflating: data/images/img-0000039.jpg  \n",
      "  inflating: data/images/img-0000040.jpg  \n",
      "  inflating: data/images/img-0000041.jpg  \n",
      "  inflating: data/images/img-0000042.jpg  \n",
      "  inflating: data/images/img-0000043.jpg  \n",
      "  inflating: data/images/img-0000044.jpg  \n",
      "  inflating: data/images/img-0000045.jpg  \n",
      "  inflating: data/images/img-0000046.jpg  \n",
      "  inflating: data/images/img-0000047.jpg  \n",
      "  inflating: data/images/img-0000048.jpg  \n",
      "  inflating: data/images/img-0000049.jpg  \n",
      "  inflating: data/images/img-0000050.jpg  \n",
      "  inflating: data/images/img-0000051.jpg  \n",
      "  inflating: data/images/img-0000052.jpg  \n",
      "  inflating: data/images/img-0000053.jpg  \n",
      "  inflating: data/images/img-0000054.jpg  \n",
      "  inflating: data/images/img-0000055.jpg  \n",
      "  inflating: data/images/img-0000056.jpg  \n",
      "  inflating: data/images/img-0000057.jpg  \n",
      "  inflating: data/images/img-0000058.jpg  \n",
      "  inflating: data/images/img-0000059.jpg  \n",
      "  inflating: data/images/img-0000060.jpg  \n",
      "  inflating: data/images/img-0000061.jpg  \n",
      "  inflating: data/images/img-0000062.jpg  \n",
      "  inflating: data/images/img-0000063.jpg  \n",
      "  inflating: data/images/img-0000064.jpg  \n",
      "  inflating: data/images/img-0000065.jpg  \n",
      "  inflating: data/images/img-0000066.jpg  \n",
      "  inflating: data/images/img-0000067.jpg  \n",
      "  inflating: data/images/img-0000068.jpg  \n",
      "  inflating: data/images/img-0000069.jpg  \n",
      "  inflating: data/images/img-0000070.jpg  \n",
      "  inflating: data/images/img-0000071.jpg  \n",
      "  inflating: data/images/img-0000072.jpg  \n",
      "  inflating: data/images/img-0000073.jpg  \n",
      "  inflating: data/images/img-0000074.jpg  \n",
      "  inflating: data/images/img-0000075.jpg  \n",
      "  inflating: data/images/img-0000076.jpg  \n",
      "  inflating: data/images/img-0000077.jpg  \n",
      "  inflating: data/images/img-0000078.jpg  \n",
      "  inflating: data/images/img-0000079.jpg  \n",
      "  inflating: data/images/img-0000080.jpg  \n",
      "  inflating: data/images/img-0000081.jpg  \n",
      "  inflating: data/images/img-0000082.jpg  \n",
      "  inflating: data/images/img-0000083.jpg  \n",
      "  inflating: data/images/img-0000084.jpg  \n",
      "  inflating: data/images/img-0000085.jpg  \n",
      "  inflating: data/images/img-0000086.jpg  \n",
      "  inflating: data/images/img-0000087.jpg  \n",
      "  inflating: data/images/img-0000088.jpg  \n",
      "  inflating: data/images/img-0000089.jpg  \n",
      "  inflating: data/images/img-0000090.jpg  \n",
      "  inflating: data/images/img-0000091.jpg  \n",
      "  inflating: data/images/img-0000092.jpg  \n",
      "  inflating: data/images/img-0000093.jpg  \n",
      "  inflating: data/images/img-0000094.jpg  \n",
      "  inflating: data/images/img-0000095.jpg  \n",
      "  inflating: data/images/img-0000096.jpg  \n",
      "  inflating: data/images/img-0000097.jpg  \n",
      "  inflating: data/images/img-0000098.jpg  \n",
      "  inflating: data/images/img-0000099.jpg  \n",
      "  inflating: data/images/img-0000100.jpg  \n",
      "  inflating: data/images/img-0000101.jpg  \n",
      "  inflating: data/images/img-0000102.jpg  \n",
      "  inflating: data/images/img-0000103.jpg  \n",
      "  inflating: data/images/img-0000104.jpg  \n",
      "  inflating: data/images/img-0000105.jpg  \n",
      "  inflating: data/images/img-0000106.jpg  \n",
      "  inflating: data/images/img-0000107.jpg  \n",
      "  inflating: data/images/img-0000108.jpg  \n",
      "  inflating: data/images/img-0000109.jpg  \n",
      "  inflating: data/images/img-0000110.jpg  \n",
      "  inflating: data/images/img-0000111.jpg  \n",
      "  inflating: data/images/img-0000112.jpg  \n",
      "  inflating: data/images/img-0000113.jpg  \n",
      "  inflating: data/images/img-0000114.jpg  \n",
      "  inflating: data/images/img-0000115.jpg  \n",
      "  inflating: data/images/img-0000116.jpg  \n",
      "  inflating: data/images/img-0000117.jpg  \n",
      "  inflating: data/images/img-0000118.jpg  \n",
      "  inflating: data/images/img-0000119.jpg  \n",
      "  inflating: data/images/img-0000120.jpg  \n",
      "  inflating: data/images/img-0000121.jpg  \n",
      "  inflating: data/images/img-0000122.jpg  \n",
      "  inflating: data/images/img-0000123.jpg  \n",
      "  inflating: data/images/img-0000124.jpg  \n",
      "  inflating: data/images/img-0000125.jpg  \n",
      "  inflating: data/images/img-0000126.jpg  \n",
      "  inflating: data/images/img-0000127.jpg  \n",
      "  inflating: data/images/img-0000128.jpg  \n",
      "  inflating: data/images/img-0000129.jpg  \n",
      "  inflating: data/images/img-0000130.jpg  \n",
      "  inflating: data/images/img-0000131.jpg  \n",
      "  inflating: data/images/img-0000132.jpg  \n",
      "  inflating: data/images/img-0000133.jpg  \n",
      "  inflating: data/images/img-0000134.jpg  \n",
      "  inflating: data/images/img-0000135.jpg  \n",
      "  inflating: data/images/img-0000136.jpg  \n",
      "  inflating: data/images/img-0000137.jpg  \n",
      "  inflating: data/images/img-0000138.jpg  \n",
      "  inflating: data/images/img-0000139.jpg  \n",
      "  inflating: data/images/img-0000140.jpg  \n",
      "  inflating: data/images/img-0000141.jpg  \n",
      "  inflating: data/images/img-0000142.jpg  \n",
      "  inflating: data/images/img-0000143.jpg  \n",
      "  inflating: data/images/img-0000144.jpg  \n",
      "  inflating: data/images/img-0000145.jpg  \n",
      "  inflating: data/images/img-0000146.jpg  \n",
      "  inflating: data/images/img-0000147.jpg  \n",
      "  inflating: data/images/img-0000148.jpg  \n",
      "  inflating: data/images/img-0000149.jpg  \n",
      "  inflating: data/images/img-0000150.jpg  \n",
      "  inflating: data/images/img-0000151.jpg  \n",
      "  inflating: data/images/img-0000152.jpg  \n",
      "  inflating: data/images/img-0000153.jpg  \n",
      "  inflating: data/images/img-0000154.jpg  \n",
      "  inflating: data/images/img-0000155.jpg  \n",
      "  inflating: data/images/img-0000156.jpg  \n",
      "  inflating: data/images/img-0000157.jpg  \n",
      "  inflating: data/images/img-0000158.jpg  \n",
      "  inflating: data/images/img-0000159.jpg  \n",
      "  inflating: data/images/img-0000160.jpg  \n",
      "  inflating: data/images/img-0000161.jpg  \n",
      "  inflating: data/images/img-0000162.jpg  \n",
      "  inflating: data/images/img-0000163.jpg  \n",
      "  inflating: data/images/img-0000164.jpg  \n",
      "  inflating: data/images/img-0000165.jpg  \n",
      "  inflating: data/images/img-0000166.jpg  \n",
      "  inflating: data/images/img-0000167.jpg  \n",
      "  inflating: data/images/img-0000168.jpg  \n",
      "  inflating: data/images/img-0000169.jpg  \n",
      "  inflating: data/images/img-0000170.jpg  \n",
      "  inflating: data/images/img-0000171.jpg  \n",
      "  inflating: data/images/img-0000172.jpg  \n",
      "  inflating: data/images/img-0000173.jpg  \n",
      "  inflating: data/images/img-0000174.jpg  \n",
      "  inflating: data/images/img-0000175.jpg  \n",
      "  inflating: data/images/img-0000176.jpg  \n",
      "  inflating: data/images/img-0000177.jpg  \n",
      "  inflating: data/images/img-0000178.jpg  \n",
      "  inflating: data/images/img-0000179.jpg  \n",
      "  inflating: data/images/img-0000180.jpg  \n",
      "  inflating: data/images/img-0000181.jpg  \n",
      "  inflating: data/images/img-0000182.jpg  \n",
      "  inflating: data/images/img-0000183.jpg  \n",
      "  inflating: data/images/img-0000184.jpg  \n",
      "  inflating: data/images/img-0000185.jpg  \n",
      "  inflating: data/images/img-0000186.jpg  \n",
      "  inflating: data/images/img-0000187.jpg  \n",
      "  inflating: data/images/img-0000188.jpg  \n",
      "  inflating: data/images/img-0000189.jpg  \n",
      "  inflating: data/images/img-0000190.jpg  \n",
      "  inflating: data/images/img-0000191.jpg  \n",
      "  inflating: data/images/img-0000192.jpg  \n",
      "  inflating: data/images/img-0000193.jpg  \n",
      "  inflating: data/images/img-0000194.jpg  \n",
      "  inflating: data/images/img-0000195.jpg  \n",
      "  inflating: data/images/img-0000196.jpg  \n",
      "  inflating: data/images/img-0000197.jpg  \n",
      "  inflating: data/images/img-0000198.jpg  \n",
      "  inflating: data/images/img-0000199.jpg  \n",
      "  inflating: data/images/img-0000200.jpg  \n",
      "  inflating: data/images/img-0000201.jpg  \n",
      "  inflating: data/images/img-0000202.jpg  \n",
      "  inflating: data/images/img-0000203.jpg  \n",
      "  inflating: data/images/img-0000204.jpg  \n",
      "  inflating: data/images/img-0000205.jpg  \n",
      "  inflating: data/images/img-0000206.jpg  \n",
      "  inflating: data/images/img-0000207.jpg  \n",
      "  inflating: data/images/img-0000208.jpg  \n",
      "  inflating: data/images/img-0000209.jpg  \n",
      "  inflating: data/images/img-0000210.jpg  \n",
      "  inflating: data/images/img-0000211.jpg  \n",
      "  inflating: data/images/img-0000212.jpg  \n",
      "  inflating: data/images/img-0000213.jpg  \n",
      "  inflating: data/images/img-0000214.jpg  \n",
      "  inflating: data/images/img-0000215.jpg  \n",
      "  inflating: data/images/img-0000216.jpg  \n",
      "  inflating: data/images/img-0000217.jpg  \n",
      "  inflating: data/images/img-0000218.jpg  \n",
      "  inflating: data/images/img-0000219.jpg  \n",
      "  inflating: data/images/img-0000220.jpg  \n",
      "  inflating: data/images/img-0000221.jpg  \n",
      "  inflating: data/images/img-0000222.jpg  \n",
      "  inflating: data/images/img-0000223.jpg  \n",
      "  inflating: data/images/img-0000224.jpg  \n",
      "  inflating: data/images/img-0000225.jpg  \n",
      "  inflating: data/images/img-0000226.jpg  \n",
      "  inflating: data/images/img-0000227.jpg  \n",
      "  inflating: data/images/img-0000228.jpg  \n",
      "  inflating: data/images/img-0000229.jpg  \n",
      "  inflating: data/images/img-0000230.jpg  \n",
      "  inflating: data/images/img-0000231.jpg  \n",
      "  inflating: data/images/img-0000232.jpg  \n",
      "  inflating: data/images/img-0000233.jpg  \n",
      "  inflating: data/images/img-0000234.jpg  \n",
      "  inflating: data/images/img-0000235.jpg  \n",
      "  inflating: data/images/img-0000236.jpg  \n",
      "  inflating: data/images/img-0000237.jpg  \n",
      "  inflating: data/images/img-0000238.jpg  \n",
      "  inflating: data/images/img-0000239.jpg  \n",
      "  inflating: data/images/img-0000240.jpg  \n",
      "  inflating: data/images/img-0000241.jpg  \n",
      "  inflating: data/images/img-0000242.jpg  \n",
      "  inflating: data/images/img-0000243.jpg  \n",
      "  inflating: data/images/img-0000244.jpg  \n",
      "  inflating: data/images/img-0000245.jpg  \n",
      "  inflating: data/images/img-0000246.jpg  \n",
      "  inflating: data/images/img-0000247.jpg  \n",
      "  inflating: data/images/img-0000248.jpg  \n",
      "  inflating: data/images/img-0000249.jpg  \n",
      "  inflating: data/images/img-0000250.jpg  \n",
      "  inflating: data/images/img-0000251.jpg  \n",
      "  inflating: data/images/img-0000252.jpg  \n",
      "  inflating: data/images/img-0000253.jpg  \n",
      "  inflating: data/images/img-0000254.jpg  \n",
      "  inflating: data/images/img-0000255.jpg  \n",
      "  inflating: data/images/img-0000256.jpg  \n",
      "  inflating: data/images/img-0000257.jpg  \n",
      "  inflating: data/images/img-0000258.jpg  \n",
      "  inflating: data/images/img-0000259.jpg  \n",
      "  inflating: data/images/img-0000260.jpg  \n",
      "  inflating: data/images/img-0000261.jpg  \n",
      "  inflating: data/images/img-0000262.jpg  \n",
      "  inflating: data/images/img-0000263.jpg  \n",
      "  inflating: data/images/img-0000264.jpg  \n",
      "  inflating: data/images/img-0000265.jpg  \n",
      "  inflating: data/images/img-0000266.jpg  \n",
      "  inflating: data/images/img-0000267.jpg  \n",
      "  inflating: data/images/img-0000268.jpg  \n",
      "  inflating: data/images/img-0000269.jpg  \n",
      "  inflating: data/images/img-0000270.jpg  \n",
      "  inflating: data/images/img-0000271.jpg  \n",
      "  inflating: data/images/img-0000272.jpg  \n",
      "  inflating: data/images/img-0000273.jpg  \n",
      "  inflating: data/images/img-0000274.jpg  \n",
      "  inflating: data/images/img-0000275.jpg  \n",
      "  inflating: data/images/img-0000276.jpg  \n",
      "  inflating: data/images/img-0000277.jpg  \n",
      "  inflating: data/images/img-0000278.jpg  \n",
      "  inflating: data/images/img-0000279.jpg  \n",
      "  inflating: data/images/img-0000280.jpg  \n",
      "  inflating: data/images/img-0000281.jpg  \n",
      "  inflating: data/images/img-0000282.jpg  \n",
      "  inflating: data/images/img-0000283.jpg  \n",
      "  inflating: data/images/img-0000284.jpg  \n",
      "  inflating: data/images/img-0000285.jpg  \n",
      "  inflating: data/images/img-0000286.jpg  \n",
      "  inflating: data/images/img-0000287.jpg  \n",
      "  inflating: data/images/img-0000288.jpg  \n",
      "  inflating: data/images/img-0000289.jpg  \n",
      "  inflating: data/images/img-0000290.jpg  \n",
      "  inflating: data/images/img-0000291.jpg  \n",
      "  inflating: data/images/img-0000292.jpg  \n",
      "  inflating: data/images/img-0000293.jpg  \n",
      "  inflating: data/images/img-0000294.jpg  \n",
      "  inflating: data/images/img-0000295.jpg  \n",
      "  inflating: data/images/img-0000296.jpg  \n",
      "  inflating: data/images/img-0000297.jpg  \n",
      "  inflating: data/images/img-0000298.jpg  \n",
      "  inflating: data/images/img-0000299.jpg  \n",
      "  inflating: data/images/img-0000300.jpg  \n",
      "  inflating: data/images/img-0000301.jpg  \n",
      "  inflating: data/images/img-0000302.jpg  \n",
      "  inflating: data/images/img-0000303.jpg  \n",
      "  inflating: data/images/img-0000304.jpg  \n",
      "  inflating: data/images/img-0000305.jpg  \n",
      "  inflating: data/images/img-0000306.jpg  \n",
      "  inflating: data/images/img-0000307.jpg  \n",
      "  inflating: data/images/img-0000308.jpg  \n",
      "  inflating: data/images/img-0000309.jpg  \n",
      "  inflating: data/images/img-0000310.jpg  \n",
      "  inflating: data/images/img-0000311.jpg  \n",
      "  inflating: data/images/img-0000312.jpg  \n",
      "  inflating: data/images/img-0000313.jpg  \n",
      "  inflating: data/images/img-0000314.jpg  \n",
      "  inflating: data/images/img-0000315.jpg  \n",
      "  inflating: data/images/img-0000316.jpg  \n",
      "  inflating: data/images/img-0000317.jpg  \n",
      "  inflating: data/images/img-0000318.jpg  \n",
      "  inflating: data/images/img-0000319.jpg  \n",
      "  inflating: data/images/img-0000320.jpg  \n",
      "  inflating: data/images/img-0000321.jpg  \n",
      "  inflating: data/images/img-0000322.jpg  \n",
      "  inflating: data/images/img-0000323.jpg  \n",
      "  inflating: data/images/img-0000324.jpg  \n",
      "  inflating: data/images/img-0000325.jpg  \n",
      "  inflating: data/images/img-0000326.jpg  \n",
      "  inflating: data/images/img-0000327.jpg  \n",
      "  inflating: data/images/img-0000328.jpg  \n",
      "  inflating: data/images/img-0000329.jpg  \n",
      "  inflating: data/images/img-0000330.jpg  \n",
      "  inflating: data/images/img-0000331.jpg  \n",
      "  inflating: data/images/img-0000332.jpg  \n",
      "  inflating: data/images/img-0000333.jpg  \n",
      "  inflating: data/images/img-0000334.jpg  \n",
      "  inflating: data/images/img-0000335.jpg  \n",
      "  inflating: data/images/img-0000336.jpg  \n",
      "  inflating: data/images/img-0000337.jpg  \n",
      "  inflating: data/images/img-0000338.jpg  \n",
      "  inflating: data/images/img-0000339.jpg  \n",
      "  inflating: data/images/img-0000340.jpg  \n",
      "  inflating: data/images/img-0000341.jpg  \n",
      "  inflating: data/images/img-0000342.jpg  \n",
      "  inflating: data/images/img-0000343.jpg  \n",
      "  inflating: data/images/img-0000344.jpg  \n",
      "  inflating: data/images/img-0000345.jpg  \n",
      "  inflating: data/images/img-0000346.jpg  \n",
      "  inflating: data/images/img-0000347.jpg  \n",
      "  inflating: data/images/img-0000348.jpg  \n",
      "  inflating: data/images/img-0000349.jpg  \n",
      "  inflating: data/images/img-0000350.jpg  \n",
      "  inflating: data/images/img-0000351.jpg  \n",
      "  inflating: data/images/img-0000352.jpg  \n",
      "  inflating: data/images/img-0000353.jpg  \n",
      "  inflating: data/images/img-0000354.jpg  \n",
      "  inflating: data/images/img-0000355.jpg  \n",
      "  inflating: data/images/img-0000356.jpg  \n",
      "  inflating: data/images/img-0000357.jpg  \n",
      "  inflating: data/images/img-0000358.jpg  \n",
      "  inflating: data/images/img-0000359.jpg  \n",
      "  inflating: data/images/img-0000360.jpg  \n",
      "  inflating: data/images/img-0000361.jpg  \n",
      "  inflating: data/images/img-0000362.jpg  \n",
      "  inflating: data/images/img-0000363.jpg  \n",
      "  inflating: data/images/img-0000364.jpg  \n",
      "  inflating: data/images/img-0000365.jpg  \n",
      "  inflating: data/images/img-0000366.jpg  \n",
      "  inflating: data/images/img-0000367.jpg  \n",
      "  inflating: data/images/img-0000368.jpg  \n",
      "  inflating: data/images/img-0000369.jpg  \n",
      "  inflating: data/images/img-0000370.jpg  \n",
      "  inflating: data/images/img-0000371.jpg  \n",
      "  inflating: data/images/img-0000372.jpg  \n",
      "  inflating: data/images/img-0000373.jpg  \n",
      "  inflating: data/images/img-0000374.jpg  \n",
      "  inflating: data/images/img-0000375.jpg  \n",
      "  inflating: data/images/img-0000376.jpg  \n",
      "  inflating: data/images/img-0000377.jpg  \n",
      "  inflating: data/images/img-0000378.jpg  \n",
      "  inflating: data/images/img-0000379.jpg  \n",
      "  inflating: data/images/img-0000380.jpg  \n",
      "  inflating: data/images/img-0000381.jpg  \n",
      "  inflating: data/images/img-0000382.jpg  \n",
      "  inflating: data/images/img-0000383.jpg  \n",
      "  inflating: data/images/img-0000384.jpg  \n",
      "  inflating: data/images/img-0000385.jpg  \n",
      "  inflating: data/images/img-0000386.jpg  \n",
      "  inflating: data/images/img-0000387.jpg  \n",
      "  inflating: data/images/img-0000388.jpg  \n",
      "  inflating: data/images/img-0000389.jpg  \n",
      "  inflating: data/images/img-0000390.jpg  \n",
      "  inflating: data/images/img-0000391.jpg  \n",
      "  inflating: data/images/img-0000392.jpg  \n",
      "  inflating: data/images/img-0000393.jpg  \n",
      "  inflating: data/images/img-0000394.jpg  \n",
      "  inflating: data/images/img-0000395.jpg  \n",
      "  inflating: data/images/img-0000396.jpg  \n",
      "  inflating: data/images/img-0000397.jpg  \n",
      "  inflating: data/images/img-0000398.jpg  \n",
      "  inflating: data/images/img-0000399.jpg  \n",
      "  inflating: data/images/img-0000400.jpg  \n",
      "  inflating: data/images/img-0000401.jpg  \n",
      "  inflating: data/images/img-0000402.jpg  \n",
      "  inflating: data/images/img-0000403.jpg  \n",
      "  inflating: data/images/img-0000404.jpg  \n",
      "  inflating: data/images/img-0000405.jpg  \n",
      "  inflating: data/images/img-0000406.jpg  \n",
      "  inflating: data/images/img-0000407.jpg  \n",
      "  inflating: data/images/img-0000408.jpg  \n",
      "  inflating: data/images/img-0000409.jpg  \n",
      "  inflating: data/images/img-0000410.jpg  \n",
      "  inflating: data/images/img-0000411.jpg  \n",
      "  inflating: data/images/img-0000412.jpg  \n",
      "  inflating: data/images/img-0000413.jpg  \n",
      "  inflating: data/images/img-0000414.jpg  \n",
      "  inflating: data/images/img-0000415.jpg  \n",
      "  inflating: data/images/img-0000416.jpg  \n",
      "  inflating: data/images/img-0000417.jpg  \n",
      "  inflating: data/images/img-0000418.jpg  \n",
      "  inflating: data/images/img-0000419.jpg  \n",
      "  inflating: data/images/img-0000420.jpg  \n",
      "  inflating: data/images/img-0000421.jpg  \n",
      "  inflating: data/images/img-0000422.jpg  \n",
      "  inflating: data/images/img-0000423.jpg  \n",
      "  inflating: data/images/img-0000424.jpg  \n",
      "  inflating: data/images/img-0000425.jpg  \n",
      "  inflating: data/images/img-0000426.jpg  \n",
      "  inflating: data/images/img-0000427.jpg  \n",
      "  inflating: data/images/img-0000428.jpg  \n",
      "  inflating: data/images/img-0000429.jpg  \n",
      "  inflating: data/images/img-0000430.jpg  \n",
      "  inflating: data/images/img-0000431.jpg  \n",
      "  inflating: data/images/img-0000432.jpg  \n",
      "  inflating: data/images/img-0000433.jpg  \n",
      "  inflating: data/images/img-0000434.jpg  \n",
      "  inflating: data/images/img-0000435.jpg  \n",
      "  inflating: data/images/img-0000436.jpg  \n",
      "  inflating: data/images/img-0000437.jpg  \n",
      "  inflating: data/images/img-0000438.jpg  \n",
      "  inflating: data/images/img-0000439.jpg  \n",
      "  inflating: data/images/img-0000440.jpg  \n",
      "  inflating: data/images/img-0000441.jpg  \n",
      "  inflating: data/images/img-0000442.jpg  \n",
      "  inflating: data/images/img-0000443.jpg  \n",
      "  inflating: data/images/img-0000444.jpg  \n",
      "  inflating: data/images/img-0000445.jpg  \n",
      "  inflating: data/images/img-0000446.jpg  \n",
      "  inflating: data/images/img-0000447.jpg  \n",
      "  inflating: data/images/img-0000448.jpg  \n",
      "  inflating: data/images/img-0000449.jpg  \n",
      "  inflating: data/images/img-0000450.jpg  \n",
      "  inflating: data/images/img-0000451.jpg  \n",
      "  inflating: data/images/img-0000452.jpg  \n",
      "  inflating: data/images/img-0000453.jpg  \n",
      "  inflating: data/images/img-0000454.jpg  \n",
      "  inflating: data/images/img-0000455.jpg  \n",
      "  inflating: data/images/img-0000456.jpg  \n",
      "  inflating: data/images/img-0000457.jpg  \n",
      "  inflating: data/images/img-0000458.jpg  \n",
      "  inflating: data/images/img-0000459.jpg  \n",
      "  inflating: data/images/img-0000460.jpg  \n",
      "  inflating: data/images/img-0000461.jpg  \n",
      "  inflating: data/images/img-0000462.jpg  \n",
      "  inflating: data/images/img-0000463.jpg  \n",
      "  inflating: data/images/img-0000464.jpg  \n",
      "  inflating: data/images/img-0000465.jpg  \n",
      "  inflating: data/images/img-0000466.jpg  \n",
      "  inflating: data/images/img-0000467.jpg  \n",
      "  inflating: data/images/img-0000468.jpg  \n",
      "  inflating: data/images/img-0000469.jpg  \n",
      "  inflating: data/images/img-0000470.jpg  \n",
      "  inflating: data/images/img-0000471.jpg  \n",
      "  inflating: data/images/img-0000472.jpg  \n",
      "  inflating: data/images/img-0000473.jpg  \n",
      "  inflating: data/images/img-0000474.jpg  \n",
      "  inflating: data/images/img-0000475.jpg  \n",
      "  inflating: data/images/img-0000476.jpg  \n",
      "  inflating: data/images/img-0000477.jpg  \n",
      "  inflating: data/images/img-0000478.jpg  \n",
      "  inflating: data/images/img-0000479.jpg  \n",
      "  inflating: data/images/img-0000480.jpg  \n",
      "  inflating: data/images/img-0000481.jpg  \n",
      "  inflating: data/images/img-0000482.jpg  \n",
      "  inflating: data/images/img-0000483.jpg  \n",
      "  inflating: data/images/img-0000484.jpg  \n",
      "  inflating: data/images/img-0000485.jpg  \n",
      "  inflating: data/images/img-0000486.jpg  \n",
      "  inflating: data/images/img-0000487.jpg  \n",
      "  inflating: data/images/img-0000488.jpg  \n",
      "  inflating: data/images/img-0000489.jpg  \n",
      "  inflating: data/images/img-0000490.jpg  \n",
      "  inflating: data/images/img-0000491.jpg  \n",
      "  inflating: data/images/img-0000492.jpg  \n",
      "  inflating: data/images/img-0000493.jpg  \n",
      "  inflating: data/images/img-0000494.jpg  \n",
      "  inflating: data/images/img-0000495.jpg  \n",
      "  inflating: data/images/img-0000496.jpg  \n",
      "  inflating: data/images/img-0000497.jpg  \n",
      "  inflating: data/images/img-0000498.jpg  \n",
      "  inflating: data/images/img-0000499.jpg  \n",
      "  inflating: data/images/img-0000500.jpg  \n",
      "  inflating: data/images/img-0000501.jpg  \n",
      "  inflating: data/images/img-0000502.jpg  \n",
      "  inflating: data/images/img-0000503.jpg  \n",
      "  inflating: data/images/img-0000504.jpg  \n",
      "  inflating: data/images/img-0000505.jpg  \n",
      "  inflating: data/images/img-0000506.jpg  \n",
      "  inflating: data/images/img-0000507.jpg  \n",
      "  inflating: data/images/img-0000508.jpg  \n",
      "  inflating: data/images/img-0000509.jpg  \n",
      "  inflating: data/images/img-0000510.jpg  \n",
      "  inflating: data/images/img-0000511.jpg  \n",
      "  inflating: data/images/img-0000512.jpg  \n",
      "  inflating: data/images/img-0000513.jpg  \n",
      "  inflating: data/images/img-0000514.jpg  \n",
      "  inflating: data/images/img-0000515.jpg  \n",
      "  inflating: data/images/img-0000516.jpg  \n",
      "  inflating: data/images/img-0000517.jpg  \n",
      "  inflating: data/images/img-0000518.jpg  \n",
      "  inflating: data/images/img-0000519.jpg  \n",
      "  inflating: data/images/img-0000520.jpg  \n",
      "  inflating: data/images/img-0000521.jpg  \n",
      "  inflating: data/images/img-0000522.jpg  \n",
      "  inflating: data/images/img-0000523.jpg  \n",
      "  inflating: data/images/img-0000524.jpg  \n",
      "  inflating: data/images/img-0000525.jpg  \n",
      "  inflating: data/images/img-0000526.jpg  \n",
      "  inflating: data/images/img-0000527.jpg  \n",
      "  inflating: data/images/img-0000528.jpg  \n",
      "  inflating: data/images/img-0000529.jpg  \n",
      "  inflating: data/images/img-0000530.jpg  \n",
      "  inflating: data/images/img-0000531.jpg  \n",
      "  inflating: data/images/img-0000532.jpg  \n",
      "  inflating: data/images/img-0000533.jpg  \n",
      "  inflating: data/images/img-0000534.jpg  \n",
      "  inflating: data/images/img-0000535.jpg  \n",
      "  inflating: data/images/img-0000536.jpg  \n",
      "  inflating: data/images/img-0000537.jpg  \n",
      "  inflating: data/images/img-0000538.jpg  \n",
      "  inflating: data/images/img-0000539.jpg  \n",
      "  inflating: data/images/img-0000540.jpg  \n",
      "  inflating: data/images/img-0000541.jpg  \n",
      "  inflating: data/images/img-0000542.jpg  \n",
      "  inflating: data/images/img-0000543.jpg  \n",
      "  inflating: data/images/img-0000544.jpg  \n",
      "  inflating: data/images/img-0000545.jpg  \n",
      "  inflating: data/images/img-0000546.jpg  \n",
      "  inflating: data/images/img-0000547.jpg  \n",
      "  inflating: data/images/img-0000548.jpg  \n",
      "  inflating: data/images/img-0000549.jpg  \n",
      "  inflating: data/images/img-0000550.jpg  \n",
      "  inflating: data/images/img-0000551.jpg  \n",
      "  inflating: data/images/img-0000552.jpg  \n",
      "  inflating: data/images/img-0000553.jpg  \n",
      "  inflating: data/images/img-0000554.jpg  \n",
      "  inflating: data/images/img-0000555.jpg  \n",
      "  inflating: data/images/img-0000556.jpg  \n",
      "  inflating: data/images/img-0000557.jpg  \n",
      "  inflating: data/images/img-0000558.jpg  \n",
      "  inflating: data/images/img-0000559.jpg  \n",
      "  inflating: data/images/img-0000560.jpg  \n",
      "  inflating: data/images/img-0000561.jpg  \n",
      "  inflating: data/images/img-0000562.jpg  \n",
      "  inflating: data/images/img-0000563.jpg  \n",
      "  inflating: data/images/img-0000564.jpg  \n",
      "  inflating: data/images/img-0000565.jpg  \n",
      "  inflating: data/images/img-0000566.jpg  \n",
      "  inflating: data/images/img-0000567.jpg  \n",
      "  inflating: data/images/img-0000568.jpg  \n",
      "  inflating: data/images/img-0000569.jpg  \n",
      "  inflating: data/images/img-0000570.jpg  \n",
      "  inflating: data/images/img-0000571.jpg  \n",
      "  inflating: data/images/img-0000572.jpg  \n",
      "  inflating: data/images/img-0000573.jpg  \n",
      "  inflating: data/images/img-0000574.jpg  \n",
      "  inflating: data/images/img-0000575.jpg  \n",
      "  inflating: data/images/img-0000576.jpg  \n",
      "  inflating: data/images/img-0000577.jpg  \n",
      "  inflating: data/images/img-0000578.jpg  \n",
      "  inflating: data/images/img-0000579.jpg  \n",
      "  inflating: data/images/img-0000580.jpg  \n",
      "  inflating: data/images/img-0000581.jpg  \n",
      "  inflating: data/images/img-0000582.jpg  \n",
      "  inflating: data/images/img-0000583.jpg  \n",
      "  inflating: data/images/img-0000584.jpg  \n",
      "  inflating: data/images/img-0000585.jpg  \n",
      "  inflating: data/images/img-0000586.jpg  \n",
      "  inflating: data/images/img-0000587.jpg  \n",
      "  inflating: data/images/img-0000588.jpg  \n",
      "  inflating: data/images/img-0000589.jpg  \n",
      "  inflating: data/images/img-0000590.jpg  \n",
      "  inflating: data/images/img-0000591.jpg  \n",
      "  inflating: data/images/img-0000592.jpg  \n",
      "  inflating: data/images/img-0000593.jpg  \n",
      "  inflating: data/images/img-0000594.jpg  \n",
      "  inflating: data/images/img-0000595.jpg  \n",
      "  inflating: data/images/img-0000596.jpg  \n",
      "  inflating: data/images/img-0000597.jpg  \n",
      "  inflating: data/images/img-0000598.jpg  \n",
      "  inflating: data/images/img-0000599.jpg  \n",
      "  inflating: data/images/img-0000600.jpg  \n",
      "  inflating: data/images/img-0000601.jpg  \n",
      "  inflating: data/images/img-0000602.jpg  \n",
      "  inflating: data/images/img-0000603.jpg  \n",
      "  inflating: data/images/img-0000604.jpg  \n",
      "  inflating: data/images/img-0000605.jpg  \n",
      "  inflating: data/images/img-0000606.jpg  \n",
      "  inflating: data/images/img-0000607.jpg  \n",
      "  inflating: data/images/img-0000608.jpg  \n",
      "  inflating: data/images/img-0000609.jpg  \n",
      "  inflating: data/images/img-0000610.jpg  \n",
      "  inflating: data/images/img-0000611.jpg  \n",
      "  inflating: data/images/img-0000612.jpg  \n",
      "  inflating: data/images/img-0000613.jpg  \n",
      "  inflating: data/images/img-0000614.jpg  \n",
      "  inflating: data/images/img-0000615.jpg  \n",
      "  inflating: data/images/img-0000616.jpg  \n",
      "  inflating: data/images/img-0000617.jpg  \n",
      "  inflating: data/images/img-0000618.jpg  \n",
      "  inflating: data/images/img-0000619.jpg  \n",
      "  inflating: data/images/img-0000620.jpg  \n",
      "  inflating: data/images/img-0000621.jpg  \n",
      "  inflating: data/images/img-0000622.jpg  \n",
      "  inflating: data/images/img-0000623.jpg  \n",
      "  inflating: data/images/img-0000624.jpg  \n",
      "  inflating: data/images/img-0000625.jpg  \n",
      "  inflating: data/images/img-0000626.jpg  \n",
      "  inflating: data/images/img-0000627.jpg  \n",
      "  inflating: data/images/img-0000628.jpg  \n",
      "  inflating: data/images/img-0000629.jpg  \n",
      "  inflating: data/images/img-0000630.jpg  \n",
      "  inflating: data/images/img-0000631.jpg  \n",
      "  inflating: data/images/img-0000632.jpg  \n",
      "  inflating: data/images/img-0000633.jpg  \n",
      "  inflating: data/images/img-0000634.jpg  \n",
      "  inflating: data/images/img-0000635.jpg  \n",
      "  inflating: data/images/img-0000636.jpg  \n",
      "  inflating: data/images/img-0000637.jpg  \n",
      "  inflating: data/images/img-0000638.jpg  \n",
      "  inflating: data/images/img-0000639.jpg  \n",
      "  inflating: data/images/img-0000640.jpg  \n",
      "  inflating: data/images/img-0000641.jpg  \n",
      "  inflating: data/images/img-0000642.jpg  \n",
      "  inflating: data/images/img-0000643.jpg  \n",
      "  inflating: data/images/img-0000644.jpg  \n",
      "  inflating: data/images/img-0000645.jpg  \n",
      "  inflating: data/images/img-0000646.jpg  \n",
      "  inflating: data/images/img-0000647.jpg  \n",
      "  inflating: data/images/img-0000648.jpg  \n",
      "  inflating: data/images/img-0000649.jpg  \n",
      "  inflating: data/images/img-0000650.jpg  \n",
      "  inflating: data/images/img-0000651.jpg  \n",
      "  inflating: data/images/img-0000652.jpg  \n",
      "  inflating: data/images/img-0000653.jpg  \n",
      "  inflating: data/images/img-0000654.jpg  \n",
      "  inflating: data/images/img-0000655.jpg  \n",
      "  inflating: data/images/img-0000656.jpg  \n",
      "  inflating: data/images/img-0000657.jpg  \n",
      "  inflating: data/images/img-0000658.jpg  \n",
      "  inflating: data/images/img-0000659.jpg  \n",
      "  inflating: data/images/img-0000660.jpg  \n",
      "  inflating: data/images/img-0000661.jpg  \n",
      "  inflating: data/images/img-0000662.jpg  \n",
      "  inflating: data/images/img-0000663.jpg  \n",
      "  inflating: data/images/img-0000664.jpg  \n",
      "  inflating: data/images/img-0000665.jpg  \n",
      "  inflating: data/images/img-0000666.jpg  \n",
      "  inflating: data/images/img-0000667.jpg  \n",
      "  inflating: data/images/img-0000668.jpg  \n",
      "  inflating: data/images/img-0000669.jpg  \n",
      "  inflating: data/images/img-0000670.jpg  \n",
      "  inflating: data/images/img-0000671.jpg  \n",
      "  inflating: data/images/img-0000672.jpg  \n",
      "  inflating: data/images/img-0000673.jpg  \n",
      "  inflating: data/images/img-0000674.jpg  \n",
      "  inflating: data/images/img-0000675.jpg  \n",
      "  inflating: data/images/img-0000676.jpg  \n",
      "  inflating: data/images/img-0000677.jpg  \n",
      "  inflating: data/images/img-0000678.jpg  \n",
      "  inflating: data/images/img-0000679.jpg  \n",
      "  inflating: data/images/img-0000680.jpg  \n",
      "  inflating: data/images/img-0000681.jpg  \n",
      "  inflating: data/images/img-0000682.jpg  \n",
      "  inflating: data/images/img-0000683.jpg  \n",
      "  inflating: data/images/img-0000684.jpg  \n",
      "  inflating: data/images/img-0000685.jpg  \n",
      "  inflating: data/images/img-0000686.jpg  \n",
      "  inflating: data/images/img-0000687.jpg  \n",
      "  inflating: data/images/img-0000688.jpg  \n",
      "  inflating: data/images/img-0000689.jpg  \n",
      "  inflating: data/images/img-0000690.jpg  \n",
      "  inflating: data/images/img-0000691.jpg  \n",
      "  inflating: data/images/img-0000692.jpg  \n",
      "  inflating: data/images/img-0000693.jpg  \n",
      "  inflating: data/images/img-0000694.jpg  \n",
      "  inflating: data/images/img-0000695.jpg  \n",
      "  inflating: data/images/img-0000696.jpg  \n",
      "  inflating: data/images/img-0000697.jpg  \n",
      "  inflating: data/images/img-0000698.jpg  \n",
      "  inflating: data/images/img-0000699.jpg  \n",
      "  inflating: data/images/img-0000700.jpg  \n",
      "  inflating: data/images/img-0000701.jpg  \n",
      "  inflating: data/images/img-0000702.jpg  \n",
      "  inflating: data/images/img-0000703.jpg  \n",
      "  inflating: data/images/img-0000704.jpg  \n",
      "  inflating: data/images/img-0000705.jpg  \n",
      "  inflating: data/images/img-0000706.jpg  \n",
      "  inflating: data/images/img-0000707.jpg  \n",
      "  inflating: data/images/img-0000708.jpg  \n",
      "  inflating: data/images/img-0000709.jpg  \n",
      "  inflating: data/images/img-0000710.jpg  \n",
      "  inflating: data/images/img-0000711.jpg  \n",
      "  inflating: data/images/img-0000712.jpg  \n",
      "  inflating: data/images/img-0000713.jpg  \n",
      "  inflating: data/images/img-0000714.jpg  \n",
      "  inflating: data/images/img-0000715.jpg  \n",
      "  inflating: data/images/img-0000716.jpg  \n",
      "  inflating: data/images/img-0000717.jpg  \n",
      "  inflating: data/images/img-0000718.jpg  \n",
      "  inflating: data/images/img-0000719.jpg  \n",
      "  inflating: data/images/img-0000720.jpg  \n",
      "  inflating: data/images/img-0000721.jpg  \n",
      "  inflating: data/images/img-0000722.jpg  \n",
      "  inflating: data/images/img-0000723.jpg  \n",
      "  inflating: data/images/img-0000724.jpg  \n",
      "  inflating: data/images/img-0000725.jpg  \n",
      "  inflating: data/images/img-0000726.jpg  \n",
      "  inflating: data/images/img-0000727.jpg  \n",
      "  inflating: data/images/img-0000728.jpg  \n",
      "  inflating: data/images/img-0000729.jpg  \n",
      "  inflating: data/images/img-0000730.jpg  \n",
      "  inflating: data/images/img-0000731.jpg  \n",
      "  inflating: data/images/img-0000732.jpg  \n",
      "  inflating: data/images/img-0000733.jpg  \n",
      "  inflating: data/images/img-0000734.jpg  \n",
      "  inflating: data/images/img-0000735.jpg  \n",
      "  inflating: data/images/img-0000736.jpg  \n",
      "  inflating: data/images/img-0000737.jpg  \n",
      "  inflating: data/images/img-0000738.jpg  \n",
      "  inflating: data/images/img-0000739.jpg  \n",
      "  inflating: data/images/img-0000740.jpg  \n",
      "  inflating: data/images/img-0000741.jpg  \n",
      "  inflating: data/images/img-0000742.jpg  \n",
      "  inflating: data/images/img-0000743.jpg  \n",
      "  inflating: data/images/img-0000744.jpg  \n",
      "  inflating: data/images/img-0000745.jpg  \n",
      "  inflating: data/images/img-0000746.jpg  \n",
      "  inflating: data/images/img-0000747.jpg  \n",
      "  inflating: data/images/img-0000748.jpg  \n",
      "  inflating: data/images/img-0000749.jpg  \n",
      "  inflating: data/images/img-0000750.jpg  \n",
      "  inflating: data/images/img-0000751.jpg  \n",
      "  inflating: data/images/img-0000752.jpg  \n",
      "  inflating: data/images/img-0000753.jpg  \n",
      "  inflating: data/images/img-0000754.jpg  \n",
      "  inflating: data/images/img-0000755.jpg  \n",
      "  inflating: data/images/img-0000756.jpg  \n",
      "  inflating: data/images/img-0000757.jpg  \n",
      "  inflating: data/images/img-0000758.jpg  \n",
      "  inflating: data/images/img-0000759.jpg  \n",
      "  inflating: data/images/img-0000760.jpg  \n",
      "  inflating: data/images/img-0000761.jpg  \n",
      "  inflating: data/images/img-0000762.jpg  \n",
      "  inflating: data/images/img-0000763.jpg  \n",
      "  inflating: data/images/img-0000764.jpg  \n",
      "  inflating: data/images/img-0000765.jpg  \n",
      "  inflating: data/images/img-0000766.jpg  \n",
      "  inflating: data/images/img-0000767.jpg  \n",
      "  inflating: data/images/img-0000768.jpg  \n",
      "  inflating: data/images/img-0000769.jpg  \n",
      "  inflating: data/images/img-0000770.jpg  \n",
      "  inflating: data/images/img-0000771.jpg  \n",
      "  inflating: data/images/img-0000772.jpg  \n",
      "  inflating: data/images/img-0000773.jpg  \n",
      "  inflating: data/images/img-0000774.jpg  \n",
      "  inflating: data/images/img-0000775.jpg  \n",
      "  inflating: data/images/img-0000776.jpg  \n",
      "  inflating: data/images/img-0000777.jpg  \n",
      "  inflating: data/images/img-0000778.jpg  \n",
      "  inflating: data/images/img-0000779.jpg  \n",
      "  inflating: data/images/img-0000780.jpg  \n",
      "  inflating: data/images/img-0000781.jpg  \n",
      "  inflating: data/images/img-0000782.jpg  \n",
      "  inflating: data/images/img-0000783.jpg  \n",
      "  inflating: data/images/img-0000784.jpg  \n",
      "  inflating: data/images/img-0000785.jpg  \n",
      "  inflating: data/images/img-0000786.jpg  \n",
      "  inflating: data/images/img-0000787.jpg  \n",
      "  inflating: data/images/img-0000788.jpg  \n",
      "  inflating: data/images/img-0000789.jpg  \n",
      "  inflating: data/images/img-0000790.jpg  \n",
      "  inflating: data/images/img-0000791.jpg  \n",
      "  inflating: data/images/img-0000792.jpg  \n",
      "  inflating: data/images/img-0000793.jpg  \n",
      "  inflating: data/images/img-0000794.jpg  \n",
      "  inflating: data/images/img-0000795.jpg  \n",
      "  inflating: data/images/img-0000796.jpg  \n",
      "  inflating: data/images/img-0000797.jpg  \n",
      "  inflating: data/images/img-0000798.jpg  \n",
      "  inflating: data/images/img-0000799.jpg  \n",
      "  inflating: data/images/img-0000800.jpg  \n",
      "  inflating: data/images/img-0000801.jpg  \n",
      "  inflating: data/images/img-0000802.jpg  \n",
      "  inflating: data/images/img-0000803.jpg  \n",
      "  inflating: data/images/img-0000804.jpg  \n",
      "  inflating: data/images/img-0000805.jpg  \n",
      "  inflating: data/images/img-0000806.jpg  \n",
      "  inflating: data/images/img-0000807.jpg  \n",
      "  inflating: data/images/img-0000808.jpg  \n",
      "  inflating: data/images/img-0000809.jpg  \n",
      "  inflating: data/images/img-0000810.jpg  \n",
      "  inflating: data/images/img-0000811.jpg  \n",
      "  inflating: data/images/img-0000812.jpg  \n",
      "  inflating: data/images/img-0000813.jpg  \n",
      "  inflating: data/images/img-0000814.jpg  \n",
      "  inflating: data/images/img-0000815.jpg  \n",
      "  inflating: data/images/img-0000816.jpg  \n",
      "  inflating: data/images/img-0000817.jpg  \n",
      "  inflating: data/images/img-0000818.jpg  \n",
      "  inflating: data/images/img-0000819.jpg  \n",
      "  inflating: data/images/img-0000820.jpg  \n",
      "  inflating: data/images/img-0000821.jpg  \n",
      "  inflating: data/images/img-0000822.jpg  \n",
      "  inflating: data/images/img-0000823.jpg  \n",
      "  inflating: data/images/img-0000824.jpg  \n",
      "  inflating: data/images/roi-0000001.jpg  \n",
      "  inflating: data/images/roi-0000002.jpg  \n",
      "  inflating: data/images/roi-0000003.jpg  \n",
      "  inflating: data/images/roi-0000004.jpg  \n",
      "  inflating: data/images/roi-0000005.jpg  \n",
      "  inflating: data/images/roi-0000006.jpg  \n",
      "  inflating: data/images/roi-0000007.jpg  \n",
      "  inflating: data/images/roi-0000008.jpg  \n",
      "  inflating: data/images/roi-0000009.jpg  \n",
      "  inflating: data/images/roi-0000010.jpg  \n",
      "  inflating: data/images/roi-0000011.jpg  \n",
      "  inflating: data/images/roi-0000012.jpg  \n",
      "  inflating: data/images/roi-0000013.jpg  \n",
      "  inflating: data/images/roi-0000014.jpg  \n",
      "  inflating: data/images/roi-0000015.jpg  \n",
      "  inflating: data/images/roi-0000016.jpg  \n",
      "  inflating: data/images/roi-0000017.jpg  \n",
      "  inflating: data/images/roi-0000018.jpg  \n",
      "  inflating: data/images/roi-0000019.jpg  \n",
      "  inflating: data/images/roi-0000020.jpg  \n",
      "  inflating: data/images/roi-0000021.jpg  \n",
      "  inflating: data/images/roi-0000022.jpg  \n",
      "  inflating: data/images/roi-0000023.jpg  \n",
      "  inflating: data/images/roi-0000024.jpg  \n",
      "  inflating: data/images/roi-0000025.jpg  \n",
      "  inflating: data/images/roi-0000026.jpg  \n",
      "  inflating: data/images/roi-0000027.jpg  \n",
      "  inflating: data/images/roi-0000028.jpg  \n",
      "  inflating: data/images/roi-0000029.jpg  \n",
      "  inflating: data/images/roi-0000030.jpg  \n",
      "  inflating: data/images/roi-0000031.jpg  \n",
      "  inflating: data/images/roi-0000032.jpg  \n",
      "  inflating: data/images/roi-0000033.jpg  \n",
      "  inflating: data/images/roi-0000034.jpg  \n",
      "  inflating: data/images/roi-0000035.jpg  \n",
      "  inflating: data/images/roi-0000036.jpg  \n",
      "  inflating: data/images/roi-0000037.jpg  \n",
      "  inflating: data/images/roi-0000038.jpg  \n",
      "  inflating: data/images/roi-0000039.jpg  \n",
      "  inflating: data/images/roi-0000040.jpg  \n",
      "  inflating: data/images/roi-0000041.jpg  \n",
      "  inflating: data/images/roi-0000042.jpg  \n",
      "  inflating: data/images/roi-0000043.jpg  \n",
      "  inflating: data/images/roi-0000044.jpg  \n",
      "  inflating: data/images/roi-0000045.jpg  \n",
      "  inflating: data/images/roi-0000046.jpg  \n",
      "  inflating: data/images/roi-0000047.jpg  \n",
      "  inflating: data/images/roi-0000048.jpg  \n",
      "  inflating: data/images/roi-0000049.jpg  \n",
      "  inflating: data/images/roi-0000050.jpg  \n",
      "  inflating: data/images/roi-0000051.jpg  \n",
      "  inflating: data/images/roi-0000052.jpg  \n",
      "  inflating: data/images/roi-0000053.jpg  \n",
      "  inflating: data/images/roi-0000054.jpg  \n",
      "  inflating: data/images/roi-0000055.jpg  \n",
      "  inflating: data/images/roi-0000056.jpg  \n",
      "  inflating: data/images/roi-0000057.jpg  \n",
      "  inflating: data/images/roi-0000058.jpg  \n",
      "  inflating: data/images/roi-0000059.jpg  \n",
      "  inflating: data/images/roi-0000060.jpg  \n",
      "  inflating: data/images/roi-0000061.jpg  \n",
      "  inflating: data/images/roi-0000062.jpg  \n",
      "  inflating: data/images/roi-0000063.jpg  \n",
      "  inflating: data/images/roi-0000064.jpg  \n",
      "  inflating: data/images/roi-0000065.jpg  \n",
      "  inflating: data/images/roi-0000066.jpg  \n",
      "  inflating: data/images/roi-0000067.jpg  \n",
      "  inflating: data/images/roi-0000068.jpg  \n",
      "  inflating: data/images/roi-0000069.jpg  \n",
      "  inflating: data/images/roi-0000070.jpg  \n",
      "  inflating: data/images/roi-0000071.jpg  \n",
      "  inflating: data/images/roi-0000072.jpg  \n",
      "  inflating: data/images/roi-0000073.jpg  \n",
      "  inflating: data/images/roi-0000074.jpg  \n",
      "  inflating: data/images/roi-0000075.jpg  \n",
      "  inflating: data/images/roi-0000076.jpg  \n",
      "  inflating: data/images/roi-0000077.jpg  \n",
      "  inflating: data/images/roi-0000078.jpg  \n",
      "  inflating: data/images/roi-0000079.jpg  \n",
      "  inflating: data/images/roi-0000080.jpg  \n",
      "  inflating: data/images/roi-0000081.jpg  \n",
      "  inflating: data/images/roi-0000082.jpg  \n",
      "  inflating: data/images/roi-0000083.jpg  \n",
      "  inflating: data/images/roi-0000084.jpg  \n",
      "  inflating: data/images/roi-0000085.jpg  \n",
      "  inflating: data/images/roi-0000086.jpg  \n",
      "  inflating: data/images/roi-0000087.jpg  \n",
      "  inflating: data/images/roi-0000088.jpg  \n",
      "  inflating: data/images/roi-0000089.jpg  \n",
      "  inflating: data/images/roi-0000090.jpg  \n",
      "  inflating: data/images/roi-0000091.jpg  \n",
      "  inflating: data/images/roi-0000092.jpg  \n",
      "  inflating: data/images/roi-0000093.jpg  \n",
      "  inflating: data/images/roi-0000094.jpg  \n",
      "  inflating: data/images/roi-0000095.jpg  \n",
      "  inflating: data/images/roi-0000096.jpg  \n",
      "  inflating: data/images/roi-0000097.jpg  \n",
      "  inflating: data/images/roi-0000098.jpg  \n",
      "  inflating: data/images/roi-0000099.jpg  \n",
      "  inflating: data/images/roi-0000100.jpg  \n",
      "  inflating: data/images/roi-0000101.jpg  \n",
      "  inflating: data/images/roi-0000102.jpg  \n",
      "  inflating: data/images/roi-0000103.jpg  \n",
      "  inflating: data/images/roi-0000104.jpg  \n",
      "  inflating: data/images/roi-0000105.jpg  \n",
      "  inflating: data/images/roi-0000106.jpg  \n",
      "  inflating: data/images/roi-0000107.jpg  \n",
      "  inflating: data/images/roi-0000108.jpg  \n",
      "  inflating: data/images/roi-0000109.jpg  \n",
      "  inflating: data/images/roi-0000110.jpg  \n",
      "  inflating: data/images/roi-0000111.jpg  \n",
      "  inflating: data/images/roi-0000112.jpg  \n",
      "  inflating: data/images/roi-0000113.jpg  \n",
      "  inflating: data/images/roi-0000114.jpg  \n",
      "  inflating: data/images/roi-0000115.jpg  \n",
      "  inflating: data/images/roi-0000116.jpg  \n",
      "  inflating: data/images/roi-0000117.jpg  \n",
      "  inflating: data/images/roi-0000118.jpg  \n",
      "  inflating: data/images/roi-0000119.jpg  \n",
      "  inflating: data/images/roi-0000120.jpg  \n",
      "  inflating: data/images/roi-0000121.jpg  \n",
      "  inflating: data/images/roi-0000122.jpg  \n",
      "  inflating: data/images/roi-0000123.jpg  \n",
      "  inflating: data/images/roi-0000124.jpg  \n",
      "  inflating: data/images/roi-0000125.jpg  \n",
      "  inflating: data/images/roi-0000126.jpg  \n",
      "  inflating: data/images/roi-0000127.jpg  \n",
      "  inflating: data/images/roi-0000128.jpg  \n",
      "  inflating: data/images/roi-0000129.jpg  \n",
      "  inflating: data/images/roi-0000130.jpg  \n",
      "  inflating: data/images/roi-0000131.jpg  \n",
      "  inflating: data/images/roi-0000132.jpg  \n",
      "  inflating: data/images/roi-0000133.jpg  \n",
      "  inflating: data/images/roi-0000134.jpg  \n",
      "  inflating: data/images/roi-0000135.jpg  \n",
      "  inflating: data/images/roi-0000136.jpg  \n",
      "  inflating: data/images/roi-0000137.jpg  \n",
      "  inflating: data/images/roi-0000138.jpg  \n",
      "  inflating: data/images/roi-0000139.jpg  \n",
      "  inflating: data/images/roi-0000140.jpg  \n",
      "  inflating: data/images/roi-0000141.jpg  \n",
      "  inflating: data/images/roi-0000142.jpg  \n",
      "  inflating: data/images/roi-0000143.jpg  \n",
      "  inflating: data/images/roi-0000144.jpg  \n",
      "  inflating: data/images/roi-0000145.jpg  \n",
      "  inflating: data/images/roi-0000146.jpg  \n",
      "  inflating: data/images/roi-0000147.jpg  \n",
      "  inflating: data/images/roi-0000148.jpg  \n",
      "  inflating: data/images/roi-0000149.jpg  \n",
      "  inflating: data/images/roi-0000150.jpg  \n",
      "  inflating: data/images/roi-0000151.jpg  \n",
      "  inflating: data/images/roi-0000152.jpg  \n",
      "  inflating: data/images/roi-0000153.jpg  \n",
      "  inflating: data/images/roi-0000154.jpg  \n",
      "  inflating: data/images/roi-0000155.jpg  \n",
      "  inflating: data/images/roi-0000156.jpg  \n",
      "  inflating: data/images/roi-0000157.jpg  \n",
      "  inflating: data/images/roi-0000158.jpg  \n",
      "  inflating: data/images/roi-0000159.jpg  \n",
      "  inflating: data/images/roi-0000160.jpg  \n",
      "  inflating: data/images/roi-0000161.jpg  \n",
      "  inflating: data/images/roi-0000162.jpg  \n",
      "  inflating: data/images/roi-0000163.jpg  \n",
      "  inflating: data/images/roi-0000164.jpg  \n",
      "  inflating: data/images/roi-0000165.jpg  \n",
      "  inflating: data/images/roi-0000166.jpg  \n",
      "  inflating: data/images/roi-0000167.jpg  \n",
      "  inflating: data/images/roi-0000168.jpg  \n",
      "  inflating: data/images/roi-0000169.jpg  \n",
      "  inflating: data/images/roi-0000170.jpg  \n",
      "  inflating: data/images/roi-0000171.jpg  \n",
      "  inflating: data/images/roi-0000172.jpg  \n",
      "  inflating: data/images/roi-0000173.jpg  \n",
      "  inflating: data/images/roi-0000174.jpg  \n",
      "  inflating: data/images/roi-0000175.jpg  \n",
      "  inflating: data/images/roi-0000176.jpg  \n",
      "  inflating: data/images/roi-0000177.jpg  \n",
      "  inflating: data/images/roi-0000178.jpg  \n",
      "  inflating: data/images/roi-0000179.jpg  \n",
      "  inflating: data/images/roi-0000180.jpg  \n",
      "  inflating: data/images/roi-0000181.jpg  \n",
      "  inflating: data/images/roi-0000182.jpg  \n",
      "  inflating: data/images/roi-0000183.jpg  \n",
      "  inflating: data/images/roi-0000184.jpg  \n",
      "  inflating: data/images/roi-0000185.jpg  \n",
      "  inflating: data/images/roi-0000186.jpg  \n",
      "  inflating: data/images/roi-0000187.jpg  \n",
      "  inflating: data/images/roi-0000188.jpg  \n",
      "  inflating: data/images/roi-0000189.jpg  \n",
      "  inflating: data/images/roi-0000190.jpg  \n",
      "  inflating: data/images/roi-0000191.jpg  \n",
      "  inflating: data/images/roi-0000192.jpg  \n",
      "  inflating: data/images/roi-0000193.jpg  \n",
      "  inflating: data/images/roi-0000194.jpg  \n",
      "  inflating: data/images/roi-0000195.jpg  \n",
      "  inflating: data/images/roi-0000196.jpg  \n",
      "  inflating: data/images/roi-0000197.jpg  \n",
      "  inflating: data/images/roi-0000198.jpg  \n",
      "  inflating: data/images/roi-0000199.jpg  \n",
      "  inflating: data/images/roi-0000200.jpg  \n",
      "  inflating: data/images/roi-0000201.jpg  \n",
      "  inflating: data/images/roi-0000202.jpg  \n",
      "  inflating: data/images/roi-0000203.jpg  \n",
      "  inflating: data/images/roi-0000204.jpg  \n",
      "  inflating: data/images/roi-0000205.jpg  \n",
      "  inflating: data/images/roi-0000206.jpg  \n",
      "  inflating: data/images/roi-0000207.jpg  \n",
      "  inflating: data/images/roi-0000208.jpg  \n",
      "  inflating: data/images/roi-0000209.jpg  \n",
      "  inflating: data/images/roi-0000210.jpg  \n",
      "  inflating: data/images/roi-0000211.jpg  \n",
      "  inflating: data/images/roi-0000212.jpg  \n",
      "  inflating: data/images/roi-0000213.jpg  \n",
      "  inflating: data/images/roi-0000214.jpg  \n",
      "  inflating: data/images/roi-0000215.jpg  \n",
      "  inflating: data/images/roi-0000216.jpg  \n",
      "  inflating: data/images/roi-0000217.jpg  \n",
      "  inflating: data/images/roi-0000218.jpg  \n",
      "  inflating: data/images/roi-0000219.jpg  \n",
      "  inflating: data/images/roi-0000220.jpg  \n",
      "  inflating: data/images/roi-0000221.jpg  \n",
      "  inflating: data/images/roi-0000222.jpg  \n",
      "  inflating: data/images/roi-0000223.jpg  \n",
      "  inflating: data/images/roi-0000224.jpg  \n",
      "  inflating: data/images/roi-0000225.jpg  \n",
      "  inflating: data/images/roi-0000226.jpg  \n",
      "  inflating: data/images/roi-0000227.jpg  \n",
      "  inflating: data/images/roi-0000228.jpg  \n",
      "  inflating: data/images/roi-0000229.jpg  \n",
      "  inflating: data/images/roi-0000230.jpg  \n",
      "  inflating: data/images/roi-0000231.jpg  \n",
      "  inflating: data/images/roi-0000232.jpg  \n",
      "  inflating: data/images/roi-0000233.jpg  \n",
      "  inflating: data/images/roi-0000234.jpg  \n",
      "  inflating: data/images/roi-0000235.jpg  \n",
      "  inflating: data/images/roi-0000236.jpg  \n",
      "  inflating: data/images/roi-0000237.jpg  \n",
      "  inflating: data/images/roi-0000238.jpg  \n",
      "  inflating: data/images/roi-0000239.jpg  \n",
      "  inflating: data/images/roi-0000240.jpg  \n",
      "  inflating: data/images/roi-0000241.jpg  \n",
      "  inflating: data/images/roi-0000242.jpg  \n",
      "  inflating: data/images/roi-0000243.jpg  \n",
      "  inflating: data/images/roi-0000244.jpg  \n",
      "  inflating: data/images/roi-0000245.jpg  \n",
      "  inflating: data/images/roi-0000246.jpg  \n",
      "  inflating: data/images/roi-0000247.jpg  \n",
      "  inflating: data/images/roi-0000248.jpg  \n",
      "  inflating: data/images/roi-0000249.jpg  \n",
      "  inflating: data/images/roi-0000250.jpg  \n",
      "  inflating: data/images/roi-0000251.jpg  \n",
      "  inflating: data/images/roi-0000252.jpg  \n",
      "  inflating: data/images/roi-0000253.jpg  \n",
      "  inflating: data/images/roi-0000254.jpg  \n",
      "  inflating: data/images/roi-0000255.jpg  \n",
      "  inflating: data/images/roi-0000256.jpg  \n",
      "  inflating: data/images/roi-0000257.jpg  \n",
      "  inflating: data/images/roi-0000258.jpg  \n",
      "  inflating: data/images/roi-0000259.jpg  \n",
      "  inflating: data/images/roi-0000260.jpg  \n",
      "  inflating: data/images/roi-0000261.jpg  \n",
      "  inflating: data/images/roi-0000262.jpg  \n",
      "  inflating: data/images/roi-0000263.jpg  \n",
      "  inflating: data/images/roi-0000264.jpg  \n",
      "  inflating: data/images/roi-0000265.jpg  \n",
      "  inflating: data/images/roi-0000266.jpg  \n",
      "  inflating: data/images/roi-0000267.jpg  \n",
      "  inflating: data/images/roi-0000268.jpg  \n",
      "  inflating: data/images/roi-0000269.jpg  \n",
      "  inflating: data/images/roi-0000270.jpg  \n",
      "  inflating: data/images/roi-0000271.jpg  \n",
      "  inflating: data/images/roi-0000272.jpg  \n",
      "  inflating: data/images/roi-0000273.jpg  \n",
      "  inflating: data/images/roi-0000274.jpg  \n",
      "  inflating: data/images/roi-0000275.jpg  \n",
      "  inflating: data/images/roi-0000276.jpg  \n",
      "  inflating: data/images/roi-0000277.jpg  \n",
      "  inflating: data/images/roi-0000278.jpg  \n",
      "  inflating: data/images/roi-0000279.jpg  \n",
      "  inflating: data/images/roi-0000280.jpg  \n",
      "  inflating: data/images/roi-0000281.jpg  \n",
      "  inflating: data/images/roi-0000282.jpg  \n",
      "  inflating: data/images/roi-0000283.jpg  \n",
      "  inflating: data/images/roi-0000284.jpg  \n",
      "  inflating: data/images/roi-0000285.jpg  \n",
      "  inflating: data/images/roi-0000286.jpg  \n",
      "  inflating: data/images/roi-0000287.jpg  \n",
      "  inflating: data/images/roi-0000288.jpg  \n",
      "  inflating: data/images/roi-0000289.jpg  \n",
      "  inflating: data/images/roi-0000290.jpg  \n",
      "  inflating: data/images/roi-0000291.jpg  \n",
      "  inflating: data/images/roi-0000292.jpg  \n",
      "  inflating: data/images/roi-0000293.jpg  \n",
      "  inflating: data/images/roi-0000294.jpg  \n",
      "  inflating: data/images/roi-0000295.jpg  \n",
      "  inflating: data/images/roi-0000296.jpg  \n",
      "  inflating: data/images/roi-0000297.jpg  \n",
      "  inflating: data/images/roi-0000298.jpg  \n",
      "  inflating: data/images/roi-0000299.jpg  \n",
      "  inflating: data/images/roi-0000300.jpg  \n",
      "  inflating: data/images/roi-0000301.jpg  \n",
      "  inflating: data/images/roi-0000302.jpg  \n",
      "  inflating: data/images/roi-0000303.jpg  \n",
      "  inflating: data/images/roi-0000304.jpg  \n",
      "  inflating: data/images/roi-0000305.jpg  \n",
      "  inflating: data/images/roi-0000306.jpg  \n",
      "  inflating: data/images/roi-0000307.jpg  \n",
      "  inflating: data/images/roi-0000308.jpg  \n",
      "  inflating: data/images/roi-0000309.jpg  \n",
      "  inflating: data/images/roi-0000310.jpg  \n",
      "  inflating: data/images/roi-0000311.jpg  \n",
      "  inflating: data/images/roi-0000312.jpg  \n",
      "  inflating: data/images/roi-0000313.jpg  \n",
      "  inflating: data/images/roi-0000314.jpg  \n",
      "  inflating: data/images/roi-0000315.jpg  \n",
      "  inflating: data/images/roi-0000316.jpg  \n",
      "  inflating: data/images/roi-0000317.jpg  \n",
      "  inflating: data/images/roi-0000318.jpg  \n",
      "  inflating: data/images/roi-0000319.jpg  \n",
      "  inflating: data/images/roi-0000320.jpg  \n",
      "  inflating: data/images/roi-0000321.jpg  \n",
      "  inflating: data/images/roi-0000322.jpg  \n",
      "  inflating: data/images/roi-0000323.jpg  \n",
      "  inflating: data/images/roi-0000324.jpg  \n",
      "  inflating: data/images/roi-0000325.jpg  \n",
      "  inflating: data/images/roi-0000326.jpg  \n",
      "  inflating: data/images/roi-0000327.jpg  \n",
      "  inflating: data/images/roi-0000328.jpg  \n",
      "  inflating: data/images/roi-0000329.jpg  \n",
      "  inflating: data/images/roi-0000330.jpg  \n",
      "  inflating: data/images/roi-0000331.jpg  \n",
      "  inflating: data/images/roi-0000332.jpg  \n",
      "  inflating: data/images/roi-0000333.jpg  \n",
      "  inflating: data/images/roi-0000334.jpg  \n",
      "  inflating: data/images/roi-0000335.jpg  \n",
      "  inflating: data/images/roi-0000336.jpg  \n",
      "  inflating: data/images/roi-0000337.jpg  \n",
      "  inflating: data/images/roi-0000338.jpg  \n",
      "  inflating: data/images/roi-0000339.jpg  \n",
      "  inflating: data/images/roi-0000340.jpg  \n",
      "  inflating: data/images/roi-0000341.jpg  \n",
      "  inflating: data/images/roi-0000342.jpg  \n",
      "  inflating: data/images/roi-0000343.jpg  \n",
      "  inflating: data/images/roi-0000344.jpg  \n",
      "  inflating: data/images/roi-0000345.jpg  \n",
      "  inflating: data/images/roi-0000346.jpg  \n",
      "  inflating: data/images/roi-0000347.jpg  \n",
      "  inflating: data/images/roi-0000348.jpg  \n",
      "  inflating: data/images/roi-0000349.jpg  \n",
      "  inflating: data/images/roi-0000350.jpg  \n",
      "  inflating: data/images/roi-0000351.jpg  \n",
      "  inflating: data/images/roi-0000352.jpg  \n",
      "  inflating: data/images/roi-0000353.jpg  \n",
      "  inflating: data/images/roi-0000354.jpg  \n",
      "  inflating: data/images/roi-0000355.jpg  \n",
      "  inflating: data/images/roi-0000356.jpg  \n",
      "  inflating: data/images/roi-0000357.jpg  \n",
      "  inflating: data/images/roi-0000358.jpg  \n",
      "  inflating: data/images/roi-0000359.jpg  \n",
      "  inflating: data/images/roi-0000360.jpg  \n",
      "  inflating: data/images/roi-0000361.jpg  \n",
      "  inflating: data/images/roi-0000362.jpg  \n",
      "  inflating: data/images/roi-0000363.jpg  \n",
      "  inflating: data/images/roi-0000364.jpg  \n",
      "  inflating: data/images/roi-0000365.jpg  \n",
      "  inflating: data/images/roi-0000366.jpg  \n",
      "  inflating: data/images/roi-0000367.jpg  \n",
      "  inflating: data/images/roi-0000368.jpg  \n",
      "  inflating: data/images/roi-0000369.jpg  \n",
      "  inflating: data/images/roi-0000370.jpg  \n",
      "  inflating: data/images/roi-0000371.jpg  \n",
      "  inflating: data/images/roi-0000372.jpg  \n",
      "  inflating: data/images/roi-0000373.jpg  \n",
      "  inflating: data/images/roi-0000374.jpg  \n",
      "  inflating: data/images/roi-0000375.jpg  \n",
      "  inflating: data/images/roi-0000376.jpg  \n",
      "  inflating: data/images/roi-0000377.jpg  \n",
      "  inflating: data/images/roi-0000378.jpg  \n",
      "  inflating: data/images/roi-0000379.jpg  \n",
      "  inflating: data/images/roi-0000380.jpg  \n",
      "  inflating: data/images/roi-0000381.jpg  \n",
      "  inflating: data/images/roi-0000382.jpg  \n",
      "  inflating: data/images/roi-0000383.jpg  \n",
      "  inflating: data/images/roi-0000384.jpg  \n",
      "  inflating: data/images/roi-0000385.jpg  \n",
      "  inflating: data/images/roi-0000386.jpg  \n",
      "  inflating: data/images/roi-0000387.jpg  \n",
      "  inflating: data/images/roi-0000388.jpg  \n",
      "  inflating: data/images/roi-0000389.jpg  \n",
      "  inflating: data/images/roi-0000390.jpg  \n",
      "  inflating: data/images/roi-0000391.jpg  \n",
      "  inflating: data/images/roi-0000392.jpg  \n",
      "  inflating: data/images/roi-0000393.jpg  \n",
      "  inflating: data/images/roi-0000394.jpg  \n",
      "  inflating: data/images/roi-0000395.jpg  \n",
      "  inflating: data/images/roi-0000396.jpg  \n",
      "  inflating: data/images/roi-0000397.jpg  \n",
      "  inflating: data/images/roi-0000398.jpg  \n",
      "  inflating: data/images/roi-0000399.jpg  \n",
      "  inflating: data/images/roi-0000400.jpg  \n",
      "  inflating: data/images/roi-0000401.jpg  \n",
      "  inflating: data/images/roi-0000402.jpg  \n",
      "  inflating: data/images/roi-0000403.jpg  \n",
      "  inflating: data/images/roi-0000404.jpg  \n",
      "  inflating: data/images/roi-0000405.jpg  \n",
      "  inflating: data/images/roi-0000406.jpg  \n",
      "  inflating: data/images/roi-0000407.jpg  \n",
      "  inflating: data/images/roi-0000408.jpg  \n",
      "  inflating: data/images/roi-0000409.jpg  \n",
      "  inflating: data/images/roi-0000410.jpg  \n",
      "  inflating: data/images/roi-0000411.jpg  \n",
      "  inflating: data/images/roi-0000412.jpg  \n",
      "  inflating: data/images/roi-0000413.jpg  \n",
      "  inflating: data/images/roi-0000414.jpg  \n",
      "  inflating: data/images/roi-0000415.jpg  \n",
      "  inflating: data/images/roi-0000416.jpg  \n",
      "  inflating: data/images/roi-0000417.jpg  \n",
      "  inflating: data/images/roi-0000418.jpg  \n",
      "  inflating: data/images/roi-0000419.jpg  \n",
      "  inflating: data/images/roi-0000420.jpg  \n",
      "  inflating: data/images/roi-0000421.jpg  \n",
      "  inflating: data/images/roi-0000422.jpg  \n",
      "  inflating: data/images/roi-0000423.jpg  \n",
      "  inflating: data/images/roi-0000424.jpg  \n",
      "  inflating: data/images/roi-0000425.jpg  \n",
      "  inflating: data/images/roi-0000426.jpg  \n",
      "  inflating: data/images/roi-0000427.jpg  \n",
      "  inflating: data/images/roi-0000428.jpg  \n",
      "  inflating: data/images/roi-0000429.jpg  \n",
      "  inflating: data/images/roi-0000430.jpg  \n",
      "  inflating: data/images/roi-0000431.jpg  \n",
      "  inflating: data/images/roi-0000432.jpg  \n",
      "  inflating: data/images/roi-0000433.jpg  \n",
      "  inflating: data/images/roi-0000434.jpg  \n",
      "  inflating: data/images/roi-0000435.jpg  \n",
      "  inflating: data/images/roi-0000436.jpg  \n",
      "  inflating: data/images/roi-0000437.jpg  \n",
      "  inflating: data/images/roi-0000438.jpg  \n",
      "  inflating: data/images/roi-0000439.jpg  \n",
      "  inflating: data/images/roi-0000440.jpg  \n",
      "  inflating: data/images/roi-0000441.jpg  \n",
      "  inflating: data/images/roi-0000442.jpg  \n",
      "  inflating: data/images/roi-0000443.jpg  \n",
      "  inflating: data/images/roi-0000444.jpg  \n",
      "  inflating: data/images/roi-0000445.jpg  \n",
      "  inflating: data/images/roi-0000446.jpg  \n",
      "  inflating: data/images/roi-0000447.jpg  \n",
      "  inflating: data/images/roi-0000448.jpg  \n",
      "  inflating: data/images/roi-0000449.jpg  \n",
      "  inflating: data/images/roi-0000450.jpg  \n",
      "  inflating: data/images/roi-0000451.jpg  \n",
      "  inflating: data/images/roi-0000452.jpg  \n",
      "  inflating: data/images/roi-0000453.jpg  \n",
      "  inflating: data/images/roi-0000454.jpg  \n",
      "  inflating: data/images/roi-0000455.jpg  \n",
      "  inflating: data/images/roi-0000456.jpg  \n",
      "  inflating: data/images/roi-0000457.jpg  \n",
      "  inflating: data/images/roi-0000458.jpg  \n",
      "  inflating: data/images/roi-0000459.jpg  \n",
      "  inflating: data/images/roi-0000460.jpg  \n",
      "  inflating: data/images/roi-0000461.jpg  \n",
      "  inflating: data/images/roi-0000462.jpg  \n",
      "  inflating: data/images/roi-0000463.jpg  \n",
      "  inflating: data/images/roi-0000464.jpg  \n",
      "  inflating: data/images/roi-0000465.jpg  \n",
      "  inflating: data/images/roi-0000466.jpg  \n",
      "  inflating: data/images/roi-0000467.jpg  \n",
      "  inflating: data/images/roi-0000468.jpg  \n",
      "  inflating: data/images/roi-0000469.jpg  \n",
      "  inflating: data/images/roi-0000470.jpg  \n",
      "  inflating: data/images/roi-0000471.jpg  \n",
      "  inflating: data/images/roi-0000472.jpg  \n",
      "  inflating: data/images/roi-0000473.jpg  \n",
      "  inflating: data/images/roi-0000474.jpg  \n",
      "  inflating: data/images/roi-0000475.jpg  \n",
      "  inflating: data/images/roi-0000476.jpg  \n",
      "  inflating: data/images/roi-0000477.jpg  \n",
      "  inflating: data/images/roi-0000478.jpg  \n",
      "  inflating: data/images/roi-0000479.jpg  \n",
      "  inflating: data/images/roi-0000480.jpg  \n",
      "  inflating: data/images/roi-0000481.jpg  \n",
      "  inflating: data/images/roi-0000482.jpg  \n",
      "  inflating: data/images/roi-0000483.jpg  \n",
      "  inflating: data/images/roi-0000484.jpg  \n",
      "  inflating: data/images/roi-0000485.jpg  \n",
      "  inflating: data/images/roi-0000486.jpg  \n",
      "  inflating: data/images/roi-0000487.jpg  \n",
      "  inflating: data/images/roi-0000488.jpg  \n",
      "  inflating: data/images/roi-0000489.jpg  \n",
      "  inflating: data/images/roi-0000490.jpg  \n",
      "  inflating: data/images/roi-0000491.jpg  \n",
      "  inflating: data/images/roi-0000492.jpg  \n",
      "  inflating: data/images/roi-0000493.jpg  \n",
      "  inflating: data/images/roi-0000494.jpg  \n",
      "  inflating: data/images/roi-0000495.jpg  \n",
      "  inflating: data/images/roi-0000496.jpg  \n",
      "  inflating: data/images/roi-0000497.jpg  \n",
      "  inflating: data/images/roi-0000498.jpg  \n",
      "  inflating: data/images/roi-0000499.jpg  \n",
      "  inflating: data/images/roi-0000500.jpg  \n",
      "  inflating: data/images/roi-0000501.jpg  \n",
      "  inflating: data/images/roi-0000502.jpg  \n",
      "  inflating: data/images/roi-0000503.jpg  \n",
      "  inflating: data/images/roi-0000504.jpg  \n",
      "  inflating: data/images/roi-0000505.jpg  \n",
      "  inflating: data/images/roi-0000506.jpg  \n",
      "  inflating: data/images/roi-0000507.jpg  \n",
      "  inflating: data/images/roi-0000508.jpg  \n",
      "  inflating: data/images/roi-0000509.jpg  \n",
      "  inflating: data/images/roi-0000510.jpg  \n",
      "  inflating: data/images/roi-0000511.jpg  \n",
      "  inflating: data/images/roi-0000512.jpg  \n",
      "  inflating: data/images/roi-0000513.jpg  \n",
      "  inflating: data/images/roi-0000514.jpg  \n",
      "  inflating: data/images/roi-0000515.jpg  \n",
      "  inflating: data/images/roi-0000516.jpg  \n",
      "  inflating: data/images/roi-0000517.jpg  \n",
      "  inflating: data/images/roi-0000518.jpg  \n",
      "  inflating: data/images/roi-0000519.jpg  \n",
      "  inflating: data/images/roi-0000520.jpg  \n",
      "  inflating: data/images/roi-0000521.jpg  \n",
      "  inflating: data/images/roi-0000522.jpg  \n",
      "  inflating: data/images/roi-0000523.jpg  \n",
      "  inflating: data/images/roi-0000524.jpg  \n",
      "  inflating: data/images/roi-0000525.jpg  \n",
      "  inflating: data/images/roi-0000526.jpg  \n",
      "  inflating: data/images/roi-0000527.jpg  \n",
      "  inflating: data/images/roi-0000528.jpg  \n",
      "  inflating: data/images/roi-0000529.jpg  \n",
      "  inflating: data/images/roi-0000530.jpg  \n",
      "  inflating: data/images/roi-0000531.jpg  \n",
      "  inflating: data/images/roi-0000532.jpg  \n",
      "  inflating: data/images/roi-0000533.jpg  \n",
      "  inflating: data/images/roi-0000534.jpg  \n",
      "  inflating: data/images/roi-0000535.jpg  \n",
      "  inflating: data/images/roi-0000536.jpg  \n",
      "  inflating: data/images/roi-0000537.jpg  \n",
      "  inflating: data/images/roi-0000538.jpg  \n",
      "  inflating: data/images/roi-0000539.jpg  \n",
      "  inflating: data/images/roi-0000540.jpg  \n",
      "  inflating: data/images/roi-0000541.jpg  \n",
      "  inflating: data/images/roi-0000542.jpg  \n",
      "  inflating: data/images/roi-0000543.jpg  \n",
      "  inflating: data/images/roi-0000544.jpg  \n",
      "  inflating: data/images/roi-0000545.jpg  \n",
      "  inflating: data/images/roi-0000546.jpg  \n",
      "  inflating: data/images/roi-0000547.jpg  \n",
      "  inflating: data/images/roi-0000548.jpg  \n",
      "  inflating: data/images/roi-0000549.jpg  \n",
      "  inflating: data/images/roi-0000550.jpg  \n",
      "  inflating: data/images/roi-0000551.jpg  \n",
      "  inflating: data/images/roi-0000552.jpg  \n",
      "  inflating: data/images/roi-0000553.jpg  \n",
      "  inflating: data/images/roi-0000554.jpg  \n",
      "  inflating: data/images/roi-0000555.jpg  \n",
      "  inflating: data/images/roi-0000556.jpg  \n",
      "  inflating: data/images/roi-0000557.jpg  \n",
      "  inflating: data/images/roi-0000558.jpg  \n",
      "  inflating: data/images/roi-0000559.jpg  \n",
      "  inflating: data/images/roi-0000560.jpg  \n",
      "  inflating: data/images/roi-0000561.jpg  \n",
      "  inflating: data/images/roi-0000562.jpg  \n",
      "  inflating: data/images/roi-0000563.jpg  \n",
      "  inflating: data/images/roi-0000564.jpg  \n",
      "  inflating: data/images/roi-0000565.jpg  \n",
      "  inflating: data/images/roi-0000566.jpg  \n",
      "  inflating: data/images/roi-0000567.jpg  \n",
      "  inflating: data/images/roi-0000568.jpg  \n",
      "  inflating: data/images/roi-0000569.jpg  \n",
      "  inflating: data/images/roi-0000570.jpg  \n",
      "  inflating: data/images/roi-0000571.jpg  \n",
      "  inflating: data/images/roi-0000572.jpg  \n",
      "  inflating: data/images/roi-0000573.jpg  \n",
      "  inflating: data/images/roi-0000574.jpg  \n",
      "  inflating: data/images/roi-0000575.jpg  \n",
      "  inflating: data/images/roi-0000576.jpg  \n",
      "  inflating: data/images/roi-0000577.jpg  \n",
      "  inflating: data/images/roi-0000578.jpg  \n",
      "  inflating: data/images/roi-0000579.jpg  \n",
      "  inflating: data/images/roi-0000580.jpg  \n",
      "  inflating: data/images/roi-0000581.jpg  \n",
      "  inflating: data/images/roi-0000582.jpg  \n",
      "  inflating: data/images/roi-0000583.jpg  \n",
      "  inflating: data/images/roi-0000584.jpg  \n",
      "  inflating: data/images/roi-0000585.jpg  \n",
      "  inflating: data/images/roi-0000586.jpg  \n",
      "  inflating: data/images/roi-0000587.jpg  \n",
      "  inflating: data/images/roi-0000588.jpg  \n",
      "  inflating: data/images/roi-0000589.jpg  \n",
      "  inflating: data/images/roi-0000590.jpg  \n",
      "  inflating: data/images/roi-0000591.jpg  \n",
      "  inflating: data/images/roi-0000592.jpg  \n",
      "  inflating: data/images/roi-0000593.jpg  \n",
      "  inflating: data/images/roi-0000594.jpg  \n",
      "  inflating: data/images/roi-0000595.jpg  \n",
      "  inflating: data/images/roi-0000596.jpg  \n",
      "  inflating: data/images/roi-0000597.jpg  \n",
      "  inflating: data/images/roi-0000598.jpg  \n",
      "  inflating: data/images/roi-0000599.jpg  \n",
      "  inflating: data/images/roi-0000600.jpg  \n",
      "  inflating: data/images/roi-0000601.jpg  \n",
      "  inflating: data/images/roi-0000602.jpg  \n",
      "  inflating: data/images/roi-0000603.jpg  \n",
      "  inflating: data/images/roi-0000604.jpg  \n",
      "  inflating: data/images/roi-0000605.jpg  \n",
      "  inflating: data/images/roi-0000606.jpg  \n",
      "  inflating: data/images/roi-0000607.jpg  \n",
      "  inflating: data/images/roi-0000608.jpg  \n",
      "  inflating: data/images/roi-0000609.jpg  \n",
      "  inflating: data/images/roi-0000610.jpg  \n",
      "  inflating: data/images/roi-0000611.jpg  \n",
      "  inflating: data/images/roi-0000612.jpg  \n",
      "  inflating: data/images/roi-0000613.jpg  \n",
      "  inflating: data/images/roi-0000614.jpg  \n",
      "  inflating: data/images/roi-0000615.jpg  \n",
      "  inflating: data/images/roi-0000616.jpg  \n",
      "  inflating: data/images/roi-0000617.jpg  \n",
      "  inflating: data/images/roi-0000618.jpg  \n",
      "  inflating: data/images/roi-0000619.jpg  \n",
      "  inflating: data/images/roi-0000620.jpg  \n",
      "  inflating: data/images/roi-0000621.jpg  \n",
      "  inflating: data/images/roi-0000622.jpg  \n",
      "  inflating: data/images/roi-0000623.jpg  \n",
      "  inflating: data/images/roi-0000624.jpg  \n",
      "  inflating: data/images/roi-0000625.jpg  \n",
      "  inflating: data/images/roi-0000626.jpg  \n",
      "  inflating: data/images/roi-0000627.jpg  \n",
      "  inflating: data/images/roi-0000628.jpg  \n",
      "  inflating: data/images/roi-0000629.jpg  \n",
      "  inflating: data/images/roi-0000630.jpg  \n",
      "  inflating: data/images/roi-0000631.jpg  \n",
      "  inflating: data/images/roi-0000632.jpg  \n",
      "  inflating: data/images/roi-0000633.jpg  \n",
      "  inflating: data/images/roi-0000634.jpg  \n",
      "  inflating: data/images/roi-0000635.jpg  \n",
      "  inflating: data/images/roi-0000636.jpg  \n",
      "  inflating: data/images/roi-0000637.jpg  \n",
      "  inflating: data/images/roi-0000638.jpg  \n",
      "  inflating: data/images/roi-0000639.jpg  \n",
      "  inflating: data/images/roi-0000640.jpg  \n",
      "  inflating: data/images/roi-0000641.jpg  \n",
      "  inflating: data/images/roi-0000642.jpg  \n",
      "  inflating: data/images/roi-0000643.jpg  \n",
      "  inflating: data/images/roi-0000644.jpg  \n",
      "  inflating: data/images/roi-0000645.jpg  \n",
      "  inflating: data/images/roi-0000646.jpg  \n",
      "  inflating: data/images/roi-0000647.jpg  \n",
      "  inflating: data/images/roi-0000648.jpg  \n",
      "  inflating: data/images/roi-0000649.jpg  \n",
      "  inflating: data/images/roi-0000650.jpg  \n",
      "  inflating: data/images/roi-0000651.jpg  \n",
      "  inflating: data/images/roi-0000652.jpg  \n",
      "  inflating: data/images/roi-0000653.jpg  \n",
      "  inflating: data/images/roi-0000654.jpg  \n",
      "  inflating: data/images/roi-0000655.jpg  \n",
      "  inflating: data/images/roi-0000656.jpg  \n",
      "  inflating: data/images/roi-0000657.jpg  \n",
      "  inflating: data/images/roi-0000658.jpg  \n",
      "  inflating: data/images/roi-0000659.jpg  \n",
      "  inflating: data/images/roi-0000660.jpg  \n",
      "  inflating: data/images/roi-0000661.jpg  \n",
      "  inflating: data/images/roi-0000662.jpg  \n",
      "  inflating: data/images/roi-0000663.jpg  \n",
      "  inflating: data/images/roi-0000664.jpg  \n",
      "  inflating: data/images/roi-0000665.jpg  \n",
      "  inflating: data/images/roi-0000666.jpg  \n",
      "  inflating: data/images/roi-0000667.jpg  \n",
      "  inflating: data/images/roi-0000668.jpg  \n",
      "  inflating: data/images/roi-0000669.jpg  \n",
      "  inflating: data/images/roi-0000670.jpg  \n",
      "  inflating: data/images/roi-0000671.jpg  \n",
      "  inflating: data/images/roi-0000672.jpg  \n",
      "  inflating: data/images/roi-0000673.jpg  \n",
      "  inflating: data/images/roi-0000674.jpg  \n",
      "  inflating: data/images/roi-0000675.jpg  \n",
      "  inflating: data/images/roi-0000676.jpg  \n",
      "  inflating: data/images/roi-0000677.jpg  \n",
      "  inflating: data/images/roi-0000678.jpg  \n",
      "  inflating: data/images/roi-0000679.jpg  \n",
      "  inflating: data/images/roi-0000680.jpg  \n",
      "  inflating: data/images/roi-0000681.jpg  \n",
      "  inflating: data/images/roi-0000682.jpg  \n",
      "  inflating: data/images/roi-0000683.jpg  \n",
      "  inflating: data/images/roi-0000684.jpg  \n",
      "  inflating: data/images/roi-0000685.jpg  \n",
      "  inflating: data/images/roi-0000686.jpg  \n",
      "  inflating: data/images/roi-0000687.jpg  \n",
      "  inflating: data/images/roi-0000688.jpg  \n",
      "  inflating: data/images/roi-0000689.jpg  \n",
      "  inflating: data/images/roi-0000690.jpg  \n",
      "  inflating: data/images/roi-0000691.jpg  \n",
      "  inflating: data/images/roi-0000692.jpg  \n",
      "  inflating: data/images/roi-0000693.jpg  \n",
      "  inflating: data/images/roi-0000694.jpg  \n",
      "  inflating: data/images/roi-0000695.jpg  \n",
      "  inflating: data/images/roi-0000696.jpg  \n",
      "  inflating: data/images/roi-0000697.jpg  \n",
      "  inflating: data/images/roi-0000698.jpg  \n",
      "  inflating: data/images/roi-0000699.jpg  \n",
      "  inflating: data/images/roi-0000700.jpg  \n",
      "  inflating: data/images/roi-0000701.jpg  \n",
      "  inflating: data/images/roi-0000702.jpg  \n",
      "  inflating: data/images/roi-0000703.jpg  \n",
      "  inflating: data/images/roi-0000704.jpg  \n",
      "  inflating: data/images/roi-0000705.jpg  \n",
      "  inflating: data/images/roi-0000706.jpg  \n",
      "  inflating: data/images/roi-0000707.jpg  \n",
      "  inflating: data/images/roi-0000708.jpg  \n",
      "  inflating: data/images/roi-0000709.jpg  \n",
      "  inflating: data/images/roi-0000710.jpg  \n",
      "  inflating: data/images/roi-0000711.jpg  \n",
      "  inflating: data/images/roi-0000712.jpg  \n",
      "  inflating: data/images/roi-0000713.jpg  \n",
      "  inflating: data/images/roi-0000714.jpg  \n",
      "  inflating: data/images/roi-0000715.jpg  \n",
      "  inflating: data/images/roi-0000716.jpg  \n",
      "  inflating: data/images/roi-0000717.jpg  \n",
      "  inflating: data/images/roi-0000718.jpg  \n",
      "  inflating: data/images/roi-0000719.jpg  \n",
      "  inflating: data/images/roi-0000720.jpg  \n",
      "  inflating: data/images/roi-0000721.jpg  \n",
      "  inflating: data/images/roi-0000722.jpg  \n",
      "  inflating: data/images/roi-0000723.jpg  \n",
      "  inflating: data/images/roi-0000724.jpg  \n",
      "  inflating: data/images/roi-0000725.jpg  \n",
      "  inflating: data/images/roi-0000726.jpg  \n",
      "  inflating: data/images/roi-0000727.jpg  \n",
      "  inflating: data/images/roi-0000728.jpg  \n",
      "  inflating: data/images/roi-0000729.jpg  \n",
      "  inflating: data/images/roi-0000730.jpg  \n",
      "  inflating: data/images/roi-0000731.jpg  \n",
      "  inflating: data/images/roi-0000732.jpg  \n",
      "  inflating: data/images/roi-0000733.jpg  \n",
      "  inflating: data/images/roi-0000734.jpg  \n",
      "  inflating: data/images/roi-0000735.jpg  \n",
      "  inflating: data/images/roi-0000736.jpg  \n",
      "  inflating: data/images/roi-0000737.jpg  \n",
      "  inflating: data/images/roi-0000738.jpg  \n",
      "  inflating: data/images/roi-0000739.jpg  \n",
      "  inflating: data/images/roi-0000740.jpg  \n",
      "  inflating: data/images/roi-0000741.jpg  \n",
      "  inflating: data/images/roi-0000742.jpg  \n",
      "  inflating: data/images/roi-0000743.jpg  \n",
      "  inflating: data/images/roi-0000744.jpg  \n",
      "  inflating: data/images/roi-0000745.jpg  \n",
      "  inflating: data/images/roi-0000746.jpg  \n",
      "  inflating: data/images/roi-0000747.jpg  \n",
      "  inflating: data/images/roi-0000748.jpg  \n",
      "  inflating: data/images/roi-0000749.jpg  \n",
      "  inflating: data/images/roi-0000750.jpg  \n",
      "  inflating: data/images/roi-0000751.jpg  \n",
      "  inflating: data/images/roi-0000752.jpg  \n",
      "  inflating: data/images/roi-0000753.jpg  \n",
      "  inflating: data/images/roi-0000754.jpg  \n",
      "  inflating: data/images/roi-0000755.jpg  \n",
      "  inflating: data/images/roi-0000756.jpg  \n",
      "  inflating: data/images/roi-0000757.jpg  \n",
      "  inflating: data/images/roi-0000758.jpg  \n",
      "  inflating: data/images/roi-0000759.jpg  \n",
      "  inflating: data/images/roi-0000760.jpg  \n",
      "  inflating: data/images/roi-0000761.jpg  \n",
      "  inflating: data/images/roi-0000762.jpg  \n",
      "  inflating: data/images/roi-0000763.jpg  \n",
      "  inflating: data/images/roi-0000764.jpg  \n",
      "  inflating: data/images/roi-0000765.jpg  \n",
      "  inflating: data/images/roi-0000766.jpg  \n",
      "  inflating: data/images/roi-0000767.jpg  \n",
      "  inflating: data/images/roi-0000768.jpg  \n",
      "  inflating: data/images/roi-0000769.jpg  \n",
      "  inflating: data/images/roi-0000770.jpg  \n",
      "  inflating: data/images/roi-0000771.jpg  \n",
      "  inflating: data/images/roi-0000772.jpg  \n",
      "  inflating: data/images/roi-0000773.jpg  \n",
      "  inflating: data/images/roi-0000774.jpg  \n",
      "  inflating: data/images/roi-0000775.jpg  \n",
      "  inflating: data/images/roi-0000776.jpg  \n",
      "  inflating: data/images/roi-0000777.jpg  \n",
      "  inflating: data/images/roi-0000778.jpg  \n",
      "  inflating: data/images/roi-0000779.jpg  \n",
      "  inflating: data/images/roi-0000780.jpg  \n",
      "  inflating: data/images/roi-0000781.jpg  \n",
      "  inflating: data/images/roi-0000782.jpg  \n",
      "  inflating: data/images/roi-0000783.jpg  \n",
      "  inflating: data/images/roi-0000784.jpg  \n",
      "  inflating: data/images/roi-0000785.jpg  \n",
      "  inflating: data/images/roi-0000786.jpg  \n",
      "  inflating: data/images/roi-0000787.jpg  \n",
      "  inflating: data/images/roi-0000788.jpg  \n",
      "  inflating: data/images/roi-0000789.jpg  \n",
      "  inflating: data/images/roi-0000790.jpg  \n",
      "  inflating: data/images/roi-0000791.jpg  \n",
      "  inflating: data/images/roi-0000792.jpg  \n",
      "  inflating: data/images/roi-0000793.jpg  \n",
      "  inflating: data/images/roi-0000794.jpg  \n",
      "  inflating: data/images/roi-0000795.jpg  \n",
      "  inflating: data/images/roi-0000796.jpg  \n",
      "  inflating: data/images/roi-0000797.jpg  \n",
      "  inflating: data/images/roi-0000798.jpg  \n",
      "  inflating: data/images/roi-0000799.jpg  \n",
      "  inflating: data/images/roi-0000800.jpg  \n",
      "  inflating: data/images/roi-0000801.jpg  \n",
      "  inflating: data/images/roi-0000802.jpg  \n",
      "  inflating: data/images/roi-0000803.jpg  \n",
      "  inflating: data/images/roi-0000804.jpg  \n",
      "  inflating: data/images/roi-0000805.jpg  \n",
      "  inflating: data/images/roi-0000806.jpg  \n",
      "  inflating: data/images/roi-0000807.jpg  \n",
      "  inflating: data/images/roi-0000808.jpg  \n",
      "  inflating: data/images/roi-0000809.jpg  \n",
      "  inflating: data/images/roi-0000810.jpg  \n",
      "  inflating: data/images/roi-0000811.jpg  \n",
      "  inflating: data/images/roi-0000812.jpg  \n",
      "  inflating: data/images/roi-0000813.jpg  \n",
      "  inflating: data/images/roi-0000814.jpg  \n",
      "  inflating: data/images/roi-0000815.jpg  \n",
      "  inflating: data/images/roi-0000816.jpg  \n",
      "  inflating: data/images/roi-0000817.jpg  \n",
      "  inflating: data/images/roi-0000818.jpg  \n",
      "  inflating: data/images/roi-0000819.jpg  \n",
      "  inflating: data/images/roi-0000820.jpg  \n",
      "  inflating: data/images/roi-0000821.jpg  \n",
      "  inflating: data/images/roi-0000822.jpg  \n",
      "  inflating: data/images/roi-0000823.jpg  \n",
      "  inflating: data/images/roi-0000824.jpg  \n",
      "  inflating: data/images/thumb-0000001.jpg  \n",
      "  inflating: data/images/thumb-0000002.jpg  \n",
      "  inflating: data/images/thumb-0000003.jpg  \n",
      "  inflating: data/images/thumb-0000004.jpg  \n",
      "  inflating: data/images/thumb-0000005.jpg  \n",
      "  inflating: data/images/thumb-0000006.jpg  \n",
      "  inflating: data/images/thumb-0000007.jpg  \n",
      "  inflating: data/images/thumb-0000008.jpg  \n",
      "  inflating: data/images/thumb-0000009.jpg  \n",
      "  inflating: data/images/thumb-0000010.jpg  \n",
      "  inflating: data/images/thumb-0000011.jpg  \n",
      "  inflating: data/images/thumb-0000012.jpg  \n",
      "  inflating: data/images/thumb-0000013.jpg  \n",
      "  inflating: data/images/thumb-0000014.jpg  \n",
      "  inflating: data/images/thumb-0000015.jpg  \n",
      "  inflating: data/images/thumb-0000016.jpg  \n",
      "  inflating: data/images/thumb-0000017.jpg  \n",
      "  inflating: data/images/thumb-0000018.jpg  \n",
      "  inflating: data/images/thumb-0000019.jpg  \n",
      "  inflating: data/images/thumb-0000020.jpg  \n",
      "  inflating: data/images/thumb-0000021.jpg  \n",
      "  inflating: data/images/thumb-0000022.jpg  \n",
      "  inflating: data/images/thumb-0000023.jpg  \n",
      "  inflating: data/images/thumb-0000024.jpg  \n",
      "  inflating: data/images/thumb-0000025.jpg  \n",
      "  inflating: data/images/thumb-0000026.jpg  \n",
      "  inflating: data/images/thumb-0000027.jpg  \n",
      "  inflating: data/images/thumb-0000028.jpg  \n",
      "  inflating: data/images/thumb-0000029.jpg  \n",
      "  inflating: data/images/thumb-0000030.jpg  \n",
      "  inflating: data/images/thumb-0000031.jpg  \n",
      "  inflating: data/images/thumb-0000032.jpg  \n",
      "  inflating: data/images/thumb-0000033.jpg  \n",
      "  inflating: data/images/thumb-0000034.jpg  \n",
      "  inflating: data/images/thumb-0000035.jpg  \n",
      "  inflating: data/images/thumb-0000036.jpg  \n",
      "  inflating: data/images/thumb-0000037.jpg  \n",
      "  inflating: data/images/thumb-0000038.jpg  \n",
      "  inflating: data/images/thumb-0000039.jpg  \n",
      "  inflating: data/images/thumb-0000040.jpg  \n",
      "  inflating: data/images/thumb-0000041.jpg  \n",
      "  inflating: data/images/thumb-0000042.jpg  \n",
      "  inflating: data/images/thumb-0000043.jpg  \n",
      "  inflating: data/images/thumb-0000044.jpg  \n",
      "  inflating: data/images/thumb-0000045.jpg  \n",
      "  inflating: data/images/thumb-0000046.jpg  \n",
      "  inflating: data/images/thumb-0000047.jpg  \n",
      "  inflating: data/images/thumb-0000048.jpg  \n",
      "  inflating: data/images/thumb-0000049.jpg  \n",
      "  inflating: data/images/thumb-0000050.jpg  \n",
      "  inflating: data/images/thumb-0000051.jpg  \n",
      "  inflating: data/images/thumb-0000052.jpg  \n",
      "  inflating: data/images/thumb-0000053.jpg  \n",
      "  inflating: data/images/thumb-0000054.jpg  \n",
      "  inflating: data/images/thumb-0000055.jpg  \n",
      "  inflating: data/images/thumb-0000056.jpg  \n",
      "  inflating: data/images/thumb-0000057.jpg  \n",
      "  inflating: data/images/thumb-0000058.jpg  \n",
      "  inflating: data/images/thumb-0000059.jpg  \n",
      "  inflating: data/images/thumb-0000060.jpg  \n",
      "  inflating: data/images/thumb-0000061.jpg  \n",
      "  inflating: data/images/thumb-0000062.jpg  \n",
      "  inflating: data/images/thumb-0000063.jpg  \n",
      "  inflating: data/images/thumb-0000064.jpg  \n",
      "  inflating: data/images/thumb-0000065.jpg  \n",
      "  inflating: data/images/thumb-0000066.jpg  \n",
      "  inflating: data/images/thumb-0000067.jpg  \n",
      "  inflating: data/images/thumb-0000068.jpg  \n",
      "  inflating: data/images/thumb-0000069.jpg  \n",
      "  inflating: data/images/thumb-0000070.jpg  \n",
      "  inflating: data/images/thumb-0000071.jpg  \n",
      "  inflating: data/images/thumb-0000072.jpg  \n",
      "  inflating: data/images/thumb-0000073.jpg  \n",
      "  inflating: data/images/thumb-0000074.jpg  \n",
      "  inflating: data/images/thumb-0000075.jpg  \n",
      "  inflating: data/images/thumb-0000076.jpg  \n",
      "  inflating: data/images/thumb-0000077.jpg  \n",
      "  inflating: data/images/thumb-0000078.jpg  \n",
      "  inflating: data/images/thumb-0000079.jpg  \n",
      "  inflating: data/images/thumb-0000080.jpg  \n",
      "  inflating: data/images/thumb-0000081.jpg  \n",
      "  inflating: data/images/thumb-0000082.jpg  \n",
      "  inflating: data/images/thumb-0000083.jpg  \n",
      "  inflating: data/images/thumb-0000084.jpg  \n",
      "  inflating: data/images/thumb-0000085.jpg  \n",
      "  inflating: data/images/thumb-0000086.jpg  \n",
      "  inflating: data/images/thumb-0000087.jpg  \n",
      "  inflating: data/images/thumb-0000088.jpg  \n",
      "  inflating: data/images/thumb-0000089.jpg  \n",
      "  inflating: data/images/thumb-0000090.jpg  \n",
      "  inflating: data/images/thumb-0000091.jpg  \n",
      "  inflating: data/images/thumb-0000092.jpg  \n",
      "  inflating: data/images/thumb-0000093.jpg  \n",
      "  inflating: data/images/thumb-0000094.jpg  \n",
      "  inflating: data/images/thumb-0000095.jpg  \n",
      "  inflating: data/images/thumb-0000096.jpg  \n",
      "  inflating: data/images/thumb-0000097.jpg  \n",
      "  inflating: data/images/thumb-0000098.jpg  \n",
      "  inflating: data/images/thumb-0000099.jpg  \n",
      "  inflating: data/images/thumb-0000100.jpg  \n",
      "  inflating: data/images/thumb-0000101.jpg  \n",
      "  inflating: data/images/thumb-0000102.jpg  \n",
      "  inflating: data/images/thumb-0000103.jpg  \n",
      "  inflating: data/images/thumb-0000104.jpg  \n",
      "  inflating: data/images/thumb-0000105.jpg  \n",
      "  inflating: data/images/thumb-0000106.jpg  \n",
      "  inflating: data/images/thumb-0000107.jpg  \n",
      "  inflating: data/images/thumb-0000108.jpg  \n",
      "  inflating: data/images/thumb-0000109.jpg  \n",
      "  inflating: data/images/thumb-0000110.jpg  \n",
      "  inflating: data/images/thumb-0000111.jpg  \n",
      "  inflating: data/images/thumb-0000112.jpg  \n",
      "  inflating: data/images/thumb-0000113.jpg  \n",
      "  inflating: data/images/thumb-0000114.jpg  \n",
      "  inflating: data/images/thumb-0000115.jpg  \n",
      "  inflating: data/images/thumb-0000116.jpg  \n",
      "  inflating: data/images/thumb-0000117.jpg  \n",
      "  inflating: data/images/thumb-0000118.jpg  \n",
      "  inflating: data/images/thumb-0000119.jpg  \n",
      "  inflating: data/images/thumb-0000120.jpg  \n",
      "  inflating: data/images/thumb-0000121.jpg  \n",
      "  inflating: data/images/thumb-0000122.jpg  \n",
      "  inflating: data/images/thumb-0000123.jpg  \n",
      "  inflating: data/images/thumb-0000124.jpg  \n",
      "  inflating: data/images/thumb-0000125.jpg  \n",
      "  inflating: data/images/thumb-0000126.jpg  \n",
      "  inflating: data/images/thumb-0000127.jpg  \n",
      "  inflating: data/images/thumb-0000128.jpg  \n",
      "  inflating: data/images/thumb-0000129.jpg  \n",
      "  inflating: data/images/thumb-0000130.jpg  \n",
      "  inflating: data/images/thumb-0000131.jpg  \n",
      "  inflating: data/images/thumb-0000132.jpg  \n",
      "  inflating: data/images/thumb-0000133.jpg  \n",
      "  inflating: data/images/thumb-0000134.jpg  \n",
      "  inflating: data/images/thumb-0000135.jpg  \n",
      "  inflating: data/images/thumb-0000136.jpg  \n",
      "  inflating: data/images/thumb-0000137.jpg  \n",
      "  inflating: data/images/thumb-0000138.jpg  \n",
      "  inflating: data/images/thumb-0000139.jpg  \n",
      "  inflating: data/images/thumb-0000140.jpg  \n",
      "  inflating: data/images/thumb-0000141.jpg  \n",
      "  inflating: data/images/thumb-0000142.jpg  \n",
      "  inflating: data/images/thumb-0000143.jpg  \n",
      "  inflating: data/images/thumb-0000144.jpg  \n",
      "  inflating: data/images/thumb-0000145.jpg  \n",
      "  inflating: data/images/thumb-0000146.jpg  \n",
      "  inflating: data/images/thumb-0000147.jpg  \n",
      "  inflating: data/images/thumb-0000148.jpg  \n",
      "  inflating: data/images/thumb-0000149.jpg  \n",
      "  inflating: data/images/thumb-0000150.jpg  \n",
      "  inflating: data/images/thumb-0000151.jpg  \n",
      "  inflating: data/images/thumb-0000152.jpg  \n",
      "  inflating: data/images/thumb-0000153.jpg  \n",
      "  inflating: data/images/thumb-0000154.jpg  \n",
      "  inflating: data/images/thumb-0000155.jpg  \n",
      "  inflating: data/images/thumb-0000156.jpg  \n",
      "  inflating: data/images/thumb-0000157.jpg  \n",
      "  inflating: data/images/thumb-0000158.jpg  \n",
      "  inflating: data/images/thumb-0000159.jpg  \n",
      "  inflating: data/images/thumb-0000160.jpg  \n",
      "  inflating: data/images/thumb-0000161.jpg  \n",
      "  inflating: data/images/thumb-0000162.jpg  \n",
      "  inflating: data/images/thumb-0000163.jpg  \n",
      "  inflating: data/images/thumb-0000164.jpg  \n",
      "  inflating: data/images/thumb-0000165.jpg  \n",
      "  inflating: data/images/thumb-0000166.jpg  \n",
      "  inflating: data/images/thumb-0000167.jpg  \n",
      "  inflating: data/images/thumb-0000168.jpg  \n",
      "  inflating: data/images/thumb-0000169.jpg  \n",
      "  inflating: data/images/thumb-0000170.jpg  \n",
      "  inflating: data/images/thumb-0000171.jpg  \n",
      "  inflating: data/images/thumb-0000172.jpg  \n",
      "  inflating: data/images/thumb-0000173.jpg  \n",
      "  inflating: data/images/thumb-0000174.jpg  \n",
      "  inflating: data/images/thumb-0000175.jpg  \n",
      "  inflating: data/images/thumb-0000176.jpg  \n",
      "  inflating: data/images/thumb-0000177.jpg  \n",
      "  inflating: data/images/thumb-0000178.jpg  \n",
      "  inflating: data/images/thumb-0000179.jpg  \n",
      "  inflating: data/images/thumb-0000180.jpg  \n",
      "  inflating: data/images/thumb-0000181.jpg  \n",
      "  inflating: data/images/thumb-0000182.jpg  \n",
      "  inflating: data/images/thumb-0000183.jpg  \n",
      "  inflating: data/images/thumb-0000184.jpg  \n",
      "  inflating: data/images/thumb-0000185.jpg  \n",
      "  inflating: data/images/thumb-0000186.jpg  \n",
      "  inflating: data/images/thumb-0000187.jpg  \n",
      "  inflating: data/images/thumb-0000188.jpg  \n",
      "  inflating: data/images/thumb-0000189.jpg  \n",
      "  inflating: data/images/thumb-0000190.jpg  \n",
      "  inflating: data/images/thumb-0000191.jpg  \n",
      "  inflating: data/images/thumb-0000192.jpg  \n",
      "  inflating: data/images/thumb-0000193.jpg  \n",
      "  inflating: data/images/thumb-0000194.jpg  \n",
      "  inflating: data/images/thumb-0000195.jpg  \n",
      "  inflating: data/images/thumb-0000196.jpg  \n",
      "  inflating: data/images/thumb-0000197.jpg  \n",
      "  inflating: data/images/thumb-0000198.jpg  \n",
      "  inflating: data/images/thumb-0000199.jpg  \n",
      "  inflating: data/images/thumb-0000200.jpg  \n",
      "  inflating: data/images/thumb-0000201.jpg  \n",
      "  inflating: data/images/thumb-0000202.jpg  \n",
      "  inflating: data/images/thumb-0000203.jpg  \n",
      "  inflating: data/images/thumb-0000204.jpg  \n",
      "  inflating: data/images/thumb-0000205.jpg  \n",
      "  inflating: data/images/thumb-0000206.jpg  \n",
      "  inflating: data/images/thumb-0000207.jpg  \n",
      "  inflating: data/images/thumb-0000208.jpg  \n",
      "  inflating: data/images/thumb-0000209.jpg  \n",
      "  inflating: data/images/thumb-0000210.jpg  \n",
      "  inflating: data/images/thumb-0000211.jpg  \n",
      "  inflating: data/images/thumb-0000212.jpg  \n",
      "  inflating: data/images/thumb-0000213.jpg  \n",
      "  inflating: data/images/thumb-0000214.jpg  \n",
      "  inflating: data/images/thumb-0000215.jpg  \n",
      "  inflating: data/images/thumb-0000216.jpg  \n",
      "  inflating: data/images/thumb-0000217.jpg  \n",
      "  inflating: data/images/thumb-0000218.jpg  \n",
      "  inflating: data/images/thumb-0000219.jpg  \n",
      "  inflating: data/images/thumb-0000220.jpg  \n",
      "  inflating: data/images/thumb-0000221.jpg  \n",
      "  inflating: data/images/thumb-0000222.jpg  \n",
      "  inflating: data/images/thumb-0000223.jpg  \n",
      "  inflating: data/images/thumb-0000224.jpg  \n",
      "  inflating: data/images/thumb-0000225.jpg  \n",
      "  inflating: data/images/thumb-0000226.jpg  \n",
      "  inflating: data/images/thumb-0000227.jpg  \n",
      "  inflating: data/images/thumb-0000228.jpg  \n",
      "  inflating: data/images/thumb-0000229.jpg  \n",
      "  inflating: data/images/thumb-0000230.jpg  \n",
      "  inflating: data/images/thumb-0000231.jpg  \n",
      "  inflating: data/images/thumb-0000232.jpg  \n",
      "  inflating: data/images/thumb-0000233.jpg  \n",
      "  inflating: data/images/thumb-0000234.jpg  \n",
      "  inflating: data/images/thumb-0000235.jpg  \n",
      "  inflating: data/images/thumb-0000236.jpg  \n",
      "  inflating: data/images/thumb-0000237.jpg  \n",
      "  inflating: data/images/thumb-0000238.jpg  \n",
      "  inflating: data/images/thumb-0000239.jpg  \n",
      "  inflating: data/images/thumb-0000240.jpg  \n",
      "  inflating: data/images/thumb-0000241.jpg  \n",
      "  inflating: data/images/thumb-0000242.jpg  \n",
      "  inflating: data/images/thumb-0000243.jpg  \n",
      "  inflating: data/images/thumb-0000244.jpg  \n",
      "  inflating: data/images/thumb-0000245.jpg  \n",
      "  inflating: data/images/thumb-0000246.jpg  \n",
      "  inflating: data/images/thumb-0000247.jpg  \n",
      "  inflating: data/images/thumb-0000248.jpg  \n",
      "  inflating: data/images/thumb-0000249.jpg  \n",
      "  inflating: data/images/thumb-0000250.jpg  \n",
      "  inflating: data/images/thumb-0000251.jpg  \n",
      "  inflating: data/images/thumb-0000252.jpg  \n",
      "  inflating: data/images/thumb-0000253.jpg  \n",
      "  inflating: data/images/thumb-0000254.jpg  \n",
      "  inflating: data/images/thumb-0000255.jpg  \n",
      "  inflating: data/images/thumb-0000256.jpg  \n",
      "  inflating: data/images/thumb-0000257.jpg  \n",
      "  inflating: data/images/thumb-0000258.jpg  \n",
      "  inflating: data/images/thumb-0000259.jpg  \n",
      "  inflating: data/images/thumb-0000260.jpg  \n",
      "  inflating: data/images/thumb-0000261.jpg  \n",
      "  inflating: data/images/thumb-0000262.jpg  \n",
      "  inflating: data/images/thumb-0000263.jpg  \n",
      "  inflating: data/images/thumb-0000264.jpg  \n",
      "  inflating: data/images/thumb-0000265.jpg  \n",
      "  inflating: data/images/thumb-0000266.jpg  \n",
      "  inflating: data/images/thumb-0000267.jpg  \n",
      "  inflating: data/images/thumb-0000268.jpg  \n",
      "  inflating: data/images/thumb-0000269.jpg  \n",
      "  inflating: data/images/thumb-0000270.jpg  \n",
      "  inflating: data/images/thumb-0000271.jpg  \n",
      "  inflating: data/images/thumb-0000272.jpg  \n",
      "  inflating: data/images/thumb-0000273.jpg  \n",
      "  inflating: data/images/thumb-0000274.jpg  \n",
      "  inflating: data/images/thumb-0000275.jpg  \n",
      "  inflating: data/images/thumb-0000276.jpg  \n",
      "  inflating: data/images/thumb-0000277.jpg  \n",
      "  inflating: data/images/thumb-0000278.jpg  \n",
      "  inflating: data/images/thumb-0000279.jpg  \n",
      "  inflating: data/images/thumb-0000280.jpg  \n",
      "  inflating: data/images/thumb-0000281.jpg  \n",
      "  inflating: data/images/thumb-0000282.jpg  \n",
      "  inflating: data/images/thumb-0000283.jpg  \n",
      "  inflating: data/images/thumb-0000284.jpg  \n",
      "  inflating: data/images/thumb-0000285.jpg  \n",
      "  inflating: data/images/thumb-0000286.jpg  \n",
      "  inflating: data/images/thumb-0000287.jpg  \n",
      "  inflating: data/images/thumb-0000288.jpg  \n",
      "  inflating: data/images/thumb-0000289.jpg  \n",
      "  inflating: data/images/thumb-0000290.jpg  \n",
      "  inflating: data/images/thumb-0000291.jpg  \n",
      "  inflating: data/images/thumb-0000292.jpg  \n",
      "  inflating: data/images/thumb-0000293.jpg  \n",
      "  inflating: data/images/thumb-0000294.jpg  \n",
      "  inflating: data/images/thumb-0000295.jpg  \n",
      "  inflating: data/images/thumb-0000296.jpg  \n",
      "  inflating: data/images/thumb-0000297.jpg  \n",
      "  inflating: data/images/thumb-0000298.jpg  \n",
      "  inflating: data/images/thumb-0000299.jpg  \n",
      "  inflating: data/images/thumb-0000300.jpg  \n",
      "  inflating: data/images/thumb-0000301.jpg  \n",
      "  inflating: data/images/thumb-0000302.jpg  \n",
      "  inflating: data/images/thumb-0000303.jpg  \n",
      "  inflating: data/images/thumb-0000304.jpg  \n",
      "  inflating: data/images/thumb-0000305.jpg  \n",
      "  inflating: data/images/thumb-0000306.jpg  \n",
      "  inflating: data/images/thumb-0000307.jpg  \n",
      "  inflating: data/images/thumb-0000308.jpg  \n",
      "  inflating: data/images/thumb-0000309.jpg  \n",
      "  inflating: data/images/thumb-0000310.jpg  \n",
      "  inflating: data/images/thumb-0000311.jpg  \n",
      "  inflating: data/images/thumb-0000312.jpg  \n",
      "  inflating: data/images/thumb-0000313.jpg  \n",
      "  inflating: data/images/thumb-0000314.jpg  \n",
      "  inflating: data/images/thumb-0000315.jpg  \n",
      "  inflating: data/images/thumb-0000316.jpg  \n",
      "  inflating: data/images/thumb-0000317.jpg  \n",
      "  inflating: data/images/thumb-0000318.jpg  \n",
      "  inflating: data/images/thumb-0000319.jpg  \n",
      "  inflating: data/images/thumb-0000320.jpg  \n",
      "  inflating: data/images/thumb-0000321.jpg  \n",
      "  inflating: data/images/thumb-0000322.jpg  \n",
      "  inflating: data/images/thumb-0000323.jpg  \n",
      "  inflating: data/images/thumb-0000324.jpg  \n",
      "  inflating: data/images/thumb-0000325.jpg  \n",
      "  inflating: data/images/thumb-0000326.jpg  \n",
      "  inflating: data/images/thumb-0000327.jpg  \n",
      "  inflating: data/images/thumb-0000328.jpg  \n",
      "  inflating: data/images/thumb-0000329.jpg  \n",
      "  inflating: data/images/thumb-0000330.jpg  \n",
      "  inflating: data/images/thumb-0000331.jpg  \n",
      "  inflating: data/images/thumb-0000332.jpg  \n",
      "  inflating: data/images/thumb-0000333.jpg  \n",
      "  inflating: data/images/thumb-0000334.jpg  \n",
      "  inflating: data/images/thumb-0000335.jpg  \n",
      "  inflating: data/images/thumb-0000336.jpg  \n",
      "  inflating: data/images/thumb-0000337.jpg  \n",
      "  inflating: data/images/thumb-0000338.jpg  \n",
      "  inflating: data/images/thumb-0000339.jpg  \n",
      "  inflating: data/images/thumb-0000340.jpg  \n",
      "  inflating: data/images/thumb-0000341.jpg  \n",
      "  inflating: data/images/thumb-0000342.jpg  \n",
      "  inflating: data/images/thumb-0000343.jpg  \n",
      "  inflating: data/images/thumb-0000344.jpg  \n",
      "  inflating: data/images/thumb-0000345.jpg  \n",
      "  inflating: data/images/thumb-0000346.jpg  \n",
      "  inflating: data/images/thumb-0000347.jpg  \n",
      "  inflating: data/images/thumb-0000348.jpg  \n",
      "  inflating: data/images/thumb-0000349.jpg  \n",
      "  inflating: data/images/thumb-0000350.jpg  \n",
      "  inflating: data/images/thumb-0000351.jpg  \n",
      "  inflating: data/images/thumb-0000352.jpg  \n",
      "  inflating: data/images/thumb-0000353.jpg  \n",
      "  inflating: data/images/thumb-0000354.jpg  \n",
      "  inflating: data/images/thumb-0000355.jpg  \n",
      "  inflating: data/images/thumb-0000356.jpg  \n",
      "  inflating: data/images/thumb-0000357.jpg  \n",
      "  inflating: data/images/thumb-0000358.jpg  \n",
      "  inflating: data/images/thumb-0000359.jpg  \n",
      "  inflating: data/images/thumb-0000360.jpg  \n",
      "  inflating: data/images/thumb-0000361.jpg  \n",
      "  inflating: data/images/thumb-0000362.jpg  \n",
      "  inflating: data/images/thumb-0000363.jpg  \n",
      "  inflating: data/images/thumb-0000364.jpg  \n",
      "  inflating: data/images/thumb-0000365.jpg  \n",
      "  inflating: data/images/thumb-0000366.jpg  \n",
      "  inflating: data/images/thumb-0000367.jpg  \n",
      "  inflating: data/images/thumb-0000368.jpg  \n",
      "  inflating: data/images/thumb-0000369.jpg  \n",
      "  inflating: data/images/thumb-0000370.jpg  \n",
      "  inflating: data/images/thumb-0000371.jpg  \n",
      "  inflating: data/images/thumb-0000372.jpg  \n",
      "  inflating: data/images/thumb-0000373.jpg  \n",
      "  inflating: data/images/thumb-0000374.jpg  \n",
      "  inflating: data/images/thumb-0000375.jpg  \n",
      "  inflating: data/images/thumb-0000376.jpg  \n",
      "  inflating: data/images/thumb-0000377.jpg  \n",
      "  inflating: data/images/thumb-0000378.jpg  \n",
      "  inflating: data/images/thumb-0000379.jpg  \n",
      "  inflating: data/images/thumb-0000380.jpg  \n",
      "  inflating: data/images/thumb-0000381.jpg  \n",
      "  inflating: data/images/thumb-0000382.jpg  \n",
      "  inflating: data/images/thumb-0000383.jpg  \n",
      "  inflating: data/images/thumb-0000384.jpg  \n",
      "  inflating: data/images/thumb-0000385.jpg  \n",
      "  inflating: data/images/thumb-0000386.jpg  \n",
      "  inflating: data/images/thumb-0000387.jpg  \n",
      "  inflating: data/images/thumb-0000388.jpg  \n",
      "  inflating: data/images/thumb-0000389.jpg  \n",
      "  inflating: data/images/thumb-0000390.jpg  \n",
      "  inflating: data/images/thumb-0000391.jpg  \n",
      "  inflating: data/images/thumb-0000392.jpg  \n",
      "  inflating: data/images/thumb-0000393.jpg  \n",
      "  inflating: data/images/thumb-0000394.jpg  \n",
      "  inflating: data/images/thumb-0000395.jpg  \n",
      "  inflating: data/images/thumb-0000396.jpg  \n",
      "  inflating: data/images/thumb-0000397.jpg  \n",
      "  inflating: data/images/thumb-0000398.jpg  \n",
      "  inflating: data/images/thumb-0000399.jpg  \n",
      "  inflating: data/images/thumb-0000400.jpg  \n",
      "  inflating: data/images/thumb-0000401.jpg  \n",
      "  inflating: data/images/thumb-0000402.jpg  \n",
      "  inflating: data/images/thumb-0000403.jpg  \n",
      "  inflating: data/images/thumb-0000404.jpg  \n",
      "  inflating: data/images/thumb-0000405.jpg  \n",
      "  inflating: data/images/thumb-0000406.jpg  \n",
      "  inflating: data/images/thumb-0000407.jpg  \n",
      "  inflating: data/images/thumb-0000408.jpg  \n",
      "  inflating: data/images/thumb-0000409.jpg  \n",
      "  inflating: data/images/thumb-0000410.jpg  \n",
      "  inflating: data/images/thumb-0000411.jpg  \n",
      "  inflating: data/images/thumb-0000412.jpg  \n",
      "  inflating: data/images/thumb-0000413.jpg  \n",
      "  inflating: data/images/thumb-0000414.jpg  \n",
      "  inflating: data/images/thumb-0000415.jpg  \n",
      "  inflating: data/images/thumb-0000416.jpg  \n",
      "  inflating: data/images/thumb-0000417.jpg  \n",
      "  inflating: data/images/thumb-0000418.jpg  \n",
      "  inflating: data/images/thumb-0000419.jpg  \n",
      "  inflating: data/images/thumb-0000420.jpg  \n",
      "  inflating: data/images/thumb-0000421.jpg  \n",
      "  inflating: data/images/thumb-0000422.jpg  \n",
      "  inflating: data/images/thumb-0000423.jpg  \n",
      "  inflating: data/images/thumb-0000424.jpg  \n",
      "  inflating: data/images/thumb-0000425.jpg  \n",
      "  inflating: data/images/thumb-0000426.jpg  \n",
      "  inflating: data/images/thumb-0000427.jpg  \n",
      "  inflating: data/images/thumb-0000428.jpg  \n",
      "  inflating: data/images/thumb-0000429.jpg  \n",
      "  inflating: data/images/thumb-0000430.jpg  \n",
      "  inflating: data/images/thumb-0000431.jpg  \n",
      "  inflating: data/images/thumb-0000432.jpg  \n",
      "  inflating: data/images/thumb-0000433.jpg  \n",
      "  inflating: data/images/thumb-0000434.jpg  \n",
      "  inflating: data/images/thumb-0000435.jpg  \n",
      "  inflating: data/images/thumb-0000436.jpg  \n",
      "  inflating: data/images/thumb-0000437.jpg  \n",
      "  inflating: data/images/thumb-0000438.jpg  \n",
      "  inflating: data/images/thumb-0000439.jpg  \n",
      "  inflating: data/images/thumb-0000440.jpg  \n",
      "  inflating: data/images/thumb-0000441.jpg  \n",
      "  inflating: data/images/thumb-0000442.jpg  \n",
      "  inflating: data/images/thumb-0000443.jpg  \n",
      "  inflating: data/images/thumb-0000444.jpg  \n",
      "  inflating: data/images/thumb-0000445.jpg  \n",
      "  inflating: data/images/thumb-0000446.jpg  \n",
      "  inflating: data/images/thumb-0000447.jpg  \n",
      "  inflating: data/images/thumb-0000448.jpg  \n",
      "  inflating: data/images/thumb-0000449.jpg  \n",
      "  inflating: data/images/thumb-0000450.jpg  \n",
      "  inflating: data/images/thumb-0000451.jpg  \n",
      "  inflating: data/images/thumb-0000452.jpg  \n",
      "  inflating: data/images/thumb-0000453.jpg  \n",
      "  inflating: data/images/thumb-0000454.jpg  \n",
      "  inflating: data/images/thumb-0000455.jpg  \n",
      "  inflating: data/images/thumb-0000456.jpg  \n",
      "  inflating: data/images/thumb-0000457.jpg  \n",
      "  inflating: data/images/thumb-0000458.jpg  \n",
      "  inflating: data/images/thumb-0000459.jpg  \n",
      "  inflating: data/images/thumb-0000460.jpg  \n",
      "  inflating: data/images/thumb-0000461.jpg  \n",
      "  inflating: data/images/thumb-0000462.jpg  \n",
      "  inflating: data/images/thumb-0000463.jpg  \n",
      "  inflating: data/images/thumb-0000464.jpg  \n",
      "  inflating: data/images/thumb-0000465.jpg  \n",
      "  inflating: data/images/thumb-0000466.jpg  \n",
      "  inflating: data/images/thumb-0000467.jpg  \n",
      "  inflating: data/images/thumb-0000468.jpg  \n",
      "  inflating: data/images/thumb-0000469.jpg  \n",
      "  inflating: data/images/thumb-0000470.jpg  \n",
      "  inflating: data/images/thumb-0000471.jpg  \n",
      "  inflating: data/images/thumb-0000472.jpg  \n",
      "  inflating: data/images/thumb-0000473.jpg  \n",
      "  inflating: data/images/thumb-0000474.jpg  \n",
      "  inflating: data/images/thumb-0000475.jpg  \n",
      "  inflating: data/images/thumb-0000476.jpg  \n",
      "  inflating: data/images/thumb-0000477.jpg  \n",
      "  inflating: data/images/thumb-0000478.jpg  \n",
      "  inflating: data/images/thumb-0000479.jpg  \n",
      "  inflating: data/images/thumb-0000480.jpg  \n",
      "  inflating: data/images/thumb-0000481.jpg  \n",
      "  inflating: data/images/thumb-0000482.jpg  \n",
      "  inflating: data/images/thumb-0000483.jpg  \n",
      "  inflating: data/images/thumb-0000484.jpg  \n",
      "  inflating: data/images/thumb-0000485.jpg  \n",
      "  inflating: data/images/thumb-0000486.jpg  \n",
      "  inflating: data/images/thumb-0000487.jpg  \n",
      "  inflating: data/images/thumb-0000488.jpg  \n",
      "  inflating: data/images/thumb-0000489.jpg  \n",
      "  inflating: data/images/thumb-0000490.jpg  \n",
      "  inflating: data/images/thumb-0000491.jpg  \n",
      "  inflating: data/images/thumb-0000492.jpg  \n",
      "  inflating: data/images/thumb-0000493.jpg  \n",
      "  inflating: data/images/thumb-0000494.jpg  \n",
      "  inflating: data/images/thumb-0000495.jpg  \n",
      "  inflating: data/images/thumb-0000496.jpg  \n",
      "  inflating: data/images/thumb-0000497.jpg  \n",
      "  inflating: data/images/thumb-0000498.jpg  \n",
      "  inflating: data/images/thumb-0000499.jpg  \n",
      "  inflating: data/images/thumb-0000500.jpg  \n",
      "  inflating: data/images/thumb-0000501.jpg  \n",
      "  inflating: data/images/thumb-0000502.jpg  \n",
      "  inflating: data/images/thumb-0000503.jpg  \n",
      "  inflating: data/images/thumb-0000504.jpg  \n",
      "  inflating: data/images/thumb-0000505.jpg  \n",
      "  inflating: data/images/thumb-0000506.jpg  \n",
      "  inflating: data/images/thumb-0000507.jpg  \n",
      "  inflating: data/images/thumb-0000508.jpg  \n",
      "  inflating: data/images/thumb-0000509.jpg  \n",
      "  inflating: data/images/thumb-0000510.jpg  \n",
      "  inflating: data/images/thumb-0000511.jpg  \n",
      "  inflating: data/images/thumb-0000512.jpg  \n",
      "  inflating: data/images/thumb-0000513.jpg  \n",
      "  inflating: data/images/thumb-0000514.jpg  \n",
      "  inflating: data/images/thumb-0000515.jpg  \n",
      "  inflating: data/images/thumb-0000516.jpg  \n",
      "  inflating: data/images/thumb-0000517.jpg  \n",
      "  inflating: data/images/thumb-0000518.jpg  \n",
      "  inflating: data/images/thumb-0000519.jpg  \n",
      "  inflating: data/images/thumb-0000520.jpg  \n",
      "  inflating: data/images/thumb-0000521.jpg  \n",
      "  inflating: data/images/thumb-0000522.jpg  \n",
      "  inflating: data/images/thumb-0000523.jpg  \n",
      "  inflating: data/images/thumb-0000524.jpg  \n",
      "  inflating: data/images/thumb-0000525.jpg  \n",
      "  inflating: data/images/thumb-0000526.jpg  \n",
      "  inflating: data/images/thumb-0000527.jpg  \n",
      "  inflating: data/images/thumb-0000528.jpg  \n",
      "  inflating: data/images/thumb-0000529.jpg  \n",
      "  inflating: data/images/thumb-0000530.jpg  \n",
      "  inflating: data/images/thumb-0000531.jpg  \n",
      "  inflating: data/images/thumb-0000532.jpg  \n",
      "  inflating: data/images/thumb-0000533.jpg  \n",
      "  inflating: data/images/thumb-0000534.jpg  \n",
      "  inflating: data/images/thumb-0000535.jpg  \n",
      "  inflating: data/images/thumb-0000536.jpg  \n",
      "  inflating: data/images/thumb-0000537.jpg  \n",
      "  inflating: data/images/thumb-0000538.jpg  \n",
      "  inflating: data/images/thumb-0000539.jpg  \n",
      "  inflating: data/images/thumb-0000540.jpg  \n",
      "  inflating: data/images/thumb-0000541.jpg  \n",
      "  inflating: data/images/thumb-0000542.jpg  \n",
      "  inflating: data/images/thumb-0000543.jpg  \n",
      "  inflating: data/images/thumb-0000544.jpg  \n",
      "  inflating: data/images/thumb-0000545.jpg  \n",
      "  inflating: data/images/thumb-0000546.jpg  \n",
      "  inflating: data/images/thumb-0000547.jpg  \n",
      "  inflating: data/images/thumb-0000548.jpg  \n",
      "  inflating: data/images/thumb-0000549.jpg  \n",
      "  inflating: data/images/thumb-0000550.jpg  \n",
      "  inflating: data/images/thumb-0000551.jpg  \n",
      "  inflating: data/images/thumb-0000552.jpg  \n",
      "  inflating: data/images/thumb-0000553.jpg  \n",
      "  inflating: data/images/thumb-0000554.jpg  \n",
      "  inflating: data/images/thumb-0000555.jpg  \n",
      "  inflating: data/images/thumb-0000556.jpg  \n",
      "  inflating: data/images/thumb-0000557.jpg  \n",
      "  inflating: data/images/thumb-0000558.jpg  \n",
      "  inflating: data/images/thumb-0000559.jpg  \n",
      "  inflating: data/images/thumb-0000560.jpg  \n",
      "  inflating: data/images/thumb-0000561.jpg  \n",
      "  inflating: data/images/thumb-0000562.jpg  \n",
      "  inflating: data/images/thumb-0000563.jpg  \n",
      "  inflating: data/images/thumb-0000564.jpg  \n",
      "  inflating: data/images/thumb-0000565.jpg  \n",
      "  inflating: data/images/thumb-0000566.jpg  \n",
      "  inflating: data/images/thumb-0000567.jpg  \n",
      "  inflating: data/images/thumb-0000568.jpg  \n",
      "  inflating: data/images/thumb-0000569.jpg  \n",
      "  inflating: data/images/thumb-0000570.jpg  \n",
      "  inflating: data/images/thumb-0000571.jpg  \n",
      "  inflating: data/images/thumb-0000572.jpg  \n",
      "  inflating: data/images/thumb-0000573.jpg  \n",
      "  inflating: data/images/thumb-0000574.jpg  \n",
      "  inflating: data/images/thumb-0000575.jpg  \n",
      "  inflating: data/images/thumb-0000576.jpg  \n",
      "  inflating: data/images/thumb-0000577.jpg  \n",
      "  inflating: data/images/thumb-0000578.jpg  \n",
      "  inflating: data/images/thumb-0000579.jpg  \n",
      "  inflating: data/images/thumb-0000580.jpg  \n",
      "  inflating: data/images/thumb-0000581.jpg  \n",
      "  inflating: data/images/thumb-0000582.jpg  \n",
      "  inflating: data/images/thumb-0000583.jpg  \n",
      "  inflating: data/images/thumb-0000584.jpg  \n",
      "  inflating: data/images/thumb-0000585.jpg  \n",
      "  inflating: data/images/thumb-0000586.jpg  \n",
      "  inflating: data/images/thumb-0000587.jpg  \n",
      "  inflating: data/images/thumb-0000588.jpg  \n",
      "  inflating: data/images/thumb-0000589.jpg  \n",
      "  inflating: data/images/thumb-0000590.jpg  \n",
      "  inflating: data/images/thumb-0000591.jpg  \n",
      "  inflating: data/images/thumb-0000592.jpg  \n",
      "  inflating: data/images/thumb-0000593.jpg  \n",
      "  inflating: data/images/thumb-0000594.jpg  \n",
      "  inflating: data/images/thumb-0000595.jpg  \n",
      "  inflating: data/images/thumb-0000596.jpg  \n",
      "  inflating: data/images/thumb-0000597.jpg  \n",
      "  inflating: data/images/thumb-0000598.jpg  \n",
      "  inflating: data/images/thumb-0000599.jpg  \n",
      "  inflating: data/images/thumb-0000600.jpg  \n",
      "  inflating: data/images/thumb-0000601.jpg  \n",
      "  inflating: data/images/thumb-0000602.jpg  \n",
      "  inflating: data/images/thumb-0000603.jpg  \n",
      "  inflating: data/images/thumb-0000604.jpg  \n",
      "  inflating: data/images/thumb-0000605.jpg  \n",
      "  inflating: data/images/thumb-0000606.jpg  \n",
      "  inflating: data/images/thumb-0000607.jpg  \n",
      "  inflating: data/images/thumb-0000608.jpg  \n",
      "  inflating: data/images/thumb-0000609.jpg  \n",
      "  inflating: data/images/thumb-0000610.jpg  \n",
      "  inflating: data/images/thumb-0000611.jpg  \n",
      "  inflating: data/images/thumb-0000612.jpg  \n",
      "  inflating: data/images/thumb-0000613.jpg  \n",
      "  inflating: data/images/thumb-0000614.jpg  \n",
      "  inflating: data/images/thumb-0000615.jpg  \n",
      "  inflating: data/images/thumb-0000616.jpg  \n",
      "  inflating: data/images/thumb-0000617.jpg  \n",
      "  inflating: data/images/thumb-0000618.jpg  \n",
      "  inflating: data/images/thumb-0000619.jpg  \n",
      "  inflating: data/images/thumb-0000620.jpg  \n",
      "  inflating: data/images/thumb-0000621.jpg  \n",
      "  inflating: data/images/thumb-0000622.jpg  \n",
      "  inflating: data/images/thumb-0000623.jpg  \n",
      "  inflating: data/images/thumb-0000624.jpg  \n",
      "  inflating: data/images/thumb-0000625.jpg  \n",
      "  inflating: data/images/thumb-0000626.jpg  \n",
      "  inflating: data/images/thumb-0000627.jpg  \n",
      "  inflating: data/images/thumb-0000628.jpg  \n",
      "  inflating: data/images/thumb-0000629.jpg  \n",
      "  inflating: data/images/thumb-0000630.jpg  \n",
      "  inflating: data/images/thumb-0000631.jpg  \n",
      "  inflating: data/images/thumb-0000632.jpg  \n",
      "  inflating: data/images/thumb-0000633.jpg  \n",
      "  inflating: data/images/thumb-0000634.jpg  \n",
      "  inflating: data/images/thumb-0000635.jpg  \n",
      "  inflating: data/images/thumb-0000636.jpg  \n",
      "  inflating: data/images/thumb-0000637.jpg  \n",
      "  inflating: data/images/thumb-0000638.jpg  \n",
      "  inflating: data/images/thumb-0000639.jpg  \n",
      "  inflating: data/images/thumb-0000640.jpg  \n",
      "  inflating: data/images/thumb-0000641.jpg  \n",
      "  inflating: data/images/thumb-0000642.jpg  \n",
      "  inflating: data/images/thumb-0000643.jpg  \n",
      "  inflating: data/images/thumb-0000644.jpg  \n",
      "  inflating: data/images/thumb-0000645.jpg  \n",
      "  inflating: data/images/thumb-0000646.jpg  \n",
      "  inflating: data/images/thumb-0000647.jpg  \n",
      "  inflating: data/images/thumb-0000648.jpg  \n",
      "  inflating: data/images/thumb-0000649.jpg  \n",
      "  inflating: data/images/thumb-0000650.jpg  \n",
      "  inflating: data/images/thumb-0000651.jpg  \n",
      "  inflating: data/images/thumb-0000652.jpg  \n",
      "  inflating: data/images/thumb-0000653.jpg  \n",
      "  inflating: data/images/thumb-0000654.jpg  \n",
      "  inflating: data/images/thumb-0000655.jpg  \n",
      "  inflating: data/images/thumb-0000656.jpg  \n",
      "  inflating: data/images/thumb-0000657.jpg  \n",
      "  inflating: data/images/thumb-0000658.jpg  \n",
      "  inflating: data/images/thumb-0000659.jpg  \n",
      "  inflating: data/images/thumb-0000660.jpg  \n",
      "  inflating: data/images/thumb-0000661.jpg  \n",
      "  inflating: data/images/thumb-0000662.jpg  \n",
      "  inflating: data/images/thumb-0000663.jpg  \n",
      "  inflating: data/images/thumb-0000664.jpg  \n",
      "  inflating: data/images/thumb-0000665.jpg  \n",
      "  inflating: data/images/thumb-0000666.jpg  \n",
      "  inflating: data/images/thumb-0000667.jpg  \n",
      "  inflating: data/images/thumb-0000668.jpg  \n",
      "  inflating: data/images/thumb-0000669.jpg  \n",
      "  inflating: data/images/thumb-0000670.jpg  \n",
      "  inflating: data/images/thumb-0000671.jpg  \n",
      "  inflating: data/images/thumb-0000672.jpg  \n",
      "  inflating: data/images/thumb-0000673.jpg  \n",
      "  inflating: data/images/thumb-0000674.jpg  \n",
      "  inflating: data/images/thumb-0000675.jpg  \n",
      "  inflating: data/images/thumb-0000676.jpg  \n",
      "  inflating: data/images/thumb-0000677.jpg  \n",
      "  inflating: data/images/thumb-0000678.jpg  \n",
      "  inflating: data/images/thumb-0000679.jpg  \n",
      "  inflating: data/images/thumb-0000680.jpg  \n",
      "  inflating: data/images/thumb-0000681.jpg  \n",
      "  inflating: data/images/thumb-0000682.jpg  \n",
      "  inflating: data/images/thumb-0000683.jpg  \n",
      "  inflating: data/images/thumb-0000684.jpg  \n",
      "  inflating: data/images/thumb-0000685.jpg  \n",
      "  inflating: data/images/thumb-0000686.jpg  \n",
      "  inflating: data/images/thumb-0000687.jpg  \n",
      "  inflating: data/images/thumb-0000688.jpg  \n",
      "  inflating: data/images/thumb-0000689.jpg  \n",
      "  inflating: data/images/thumb-0000690.jpg  \n",
      "  inflating: data/images/thumb-0000691.jpg  \n",
      "  inflating: data/images/thumb-0000692.jpg  \n",
      "  inflating: data/images/thumb-0000693.jpg  \n",
      "  inflating: data/images/thumb-0000694.jpg  \n",
      "  inflating: data/images/thumb-0000695.jpg  \n",
      "  inflating: data/images/thumb-0000696.jpg  \n",
      "  inflating: data/images/thumb-0000697.jpg  \n",
      "  inflating: data/images/thumb-0000698.jpg  \n",
      "  inflating: data/images/thumb-0000699.jpg  \n",
      "  inflating: data/images/thumb-0000700.jpg  \n",
      "  inflating: data/images/thumb-0000701.jpg  \n",
      "  inflating: data/images/thumb-0000702.jpg  \n",
      "  inflating: data/images/thumb-0000703.jpg  \n",
      "  inflating: data/images/thumb-0000704.jpg  \n",
      "  inflating: data/images/thumb-0000705.jpg  \n",
      "  inflating: data/images/thumb-0000706.jpg  \n",
      "  inflating: data/images/thumb-0000707.jpg  \n",
      "  inflating: data/images/thumb-0000708.jpg  \n",
      "  inflating: data/images/thumb-0000709.jpg  \n",
      "  inflating: data/images/thumb-0000710.jpg  \n",
      "  inflating: data/images/thumb-0000711.jpg  \n",
      "  inflating: data/images/thumb-0000712.jpg  \n",
      "  inflating: data/images/thumb-0000713.jpg  \n",
      "  inflating: data/images/thumb-0000714.jpg  \n",
      "  inflating: data/images/thumb-0000715.jpg  \n",
      "  inflating: data/images/thumb-0000716.jpg  \n",
      "  inflating: data/images/thumb-0000717.jpg  \n",
      "  inflating: data/images/thumb-0000718.jpg  \n",
      "  inflating: data/images/thumb-0000719.jpg  \n",
      "  inflating: data/images/thumb-0000720.jpg  \n",
      "  inflating: data/images/thumb-0000721.jpg  \n",
      "  inflating: data/images/thumb-0000722.jpg  \n",
      "  inflating: data/images/thumb-0000723.jpg  \n",
      "  inflating: data/images/thumb-0000724.jpg  \n",
      "  inflating: data/images/thumb-0000725.jpg  \n",
      "  inflating: data/images/thumb-0000726.jpg  \n",
      "  inflating: data/images/thumb-0000727.jpg  \n",
      "  inflating: data/images/thumb-0000728.jpg  \n",
      "  inflating: data/images/thumb-0000729.jpg  \n",
      "  inflating: data/images/thumb-0000730.jpg  \n",
      "  inflating: data/images/thumb-0000731.jpg  \n",
      "  inflating: data/images/thumb-0000732.jpg  \n",
      "  inflating: data/images/thumb-0000733.jpg  \n",
      "  inflating: data/images/thumb-0000734.jpg  \n",
      "  inflating: data/images/thumb-0000735.jpg  \n",
      "  inflating: data/images/thumb-0000736.jpg  \n",
      "  inflating: data/images/thumb-0000737.jpg  \n",
      "  inflating: data/images/thumb-0000738.jpg  \n",
      "  inflating: data/images/thumb-0000739.jpg  \n",
      "  inflating: data/images/thumb-0000740.jpg  \n",
      "  inflating: data/images/thumb-0000741.jpg  \n",
      "  inflating: data/images/thumb-0000742.jpg  \n",
      "  inflating: data/images/thumb-0000743.jpg  \n",
      "  inflating: data/images/thumb-0000744.jpg  \n",
      "  inflating: data/images/thumb-0000745.jpg  \n",
      "  inflating: data/images/thumb-0000746.jpg  \n",
      "  inflating: data/images/thumb-0000747.jpg  \n",
      "  inflating: data/images/thumb-0000748.jpg  \n",
      "  inflating: data/images/thumb-0000749.jpg  \n",
      "  inflating: data/images/thumb-0000750.jpg  \n",
      "  inflating: data/images/thumb-0000751.jpg  \n",
      "  inflating: data/images/thumb-0000752.jpg  \n",
      "  inflating: data/images/thumb-0000753.jpg  \n",
      "  inflating: data/images/thumb-0000754.jpg  \n",
      "  inflating: data/images/thumb-0000755.jpg  \n",
      "  inflating: data/images/thumb-0000756.jpg  \n",
      "  inflating: data/images/thumb-0000757.jpg  \n",
      "  inflating: data/images/thumb-0000758.jpg  \n",
      "  inflating: data/images/thumb-0000759.jpg  \n",
      "  inflating: data/images/thumb-0000760.jpg  \n",
      "  inflating: data/images/thumb-0000761.jpg  \n",
      "  inflating: data/images/thumb-0000762.jpg  \n",
      "  inflating: data/images/thumb-0000763.jpg  \n",
      "  inflating: data/images/thumb-0000764.jpg  \n",
      "  inflating: data/images/thumb-0000765.jpg  \n",
      "  inflating: data/images/thumb-0000766.jpg  \n",
      "  inflating: data/images/thumb-0000767.jpg  \n",
      "  inflating: data/images/thumb-0000768.jpg  \n",
      "  inflating: data/images/thumb-0000769.jpg  \n",
      "  inflating: data/images/thumb-0000770.jpg  \n",
      "  inflating: data/images/thumb-0000771.jpg  \n",
      "  inflating: data/images/thumb-0000772.jpg  \n",
      "  inflating: data/images/thumb-0000773.jpg  \n",
      "  inflating: data/images/thumb-0000774.jpg  \n",
      "  inflating: data/images/thumb-0000775.jpg  \n",
      "  inflating: data/images/thumb-0000776.jpg  \n",
      "  inflating: data/images/thumb-0000777.jpg  \n",
      "  inflating: data/images/thumb-0000778.jpg  \n",
      "  inflating: data/images/thumb-0000779.jpg  \n",
      "  inflating: data/images/thumb-0000780.jpg  \n",
      "  inflating: data/images/thumb-0000781.jpg  \n",
      "  inflating: data/images/thumb-0000782.jpg  \n",
      "  inflating: data/images/thumb-0000783.jpg  \n",
      "  inflating: data/images/thumb-0000784.jpg  \n",
      "  inflating: data/images/thumb-0000785.jpg  \n",
      "  inflating: data/images/thumb-0000786.jpg  \n",
      "  inflating: data/images/thumb-0000787.jpg  \n",
      "  inflating: data/images/thumb-0000788.jpg  \n",
      "  inflating: data/images/thumb-0000789.jpg  \n",
      "  inflating: data/images/thumb-0000790.jpg  \n",
      "  inflating: data/images/thumb-0000791.jpg  \n",
      "  inflating: data/images/thumb-0000792.jpg  \n",
      "  inflating: data/images/thumb-0000793.jpg  \n",
      "  inflating: data/images/thumb-0000794.jpg  \n",
      "  inflating: data/images/thumb-0000795.jpg  \n",
      "  inflating: data/images/thumb-0000796.jpg  \n",
      "  inflating: data/images/thumb-0000797.jpg  \n",
      "  inflating: data/images/thumb-0000798.jpg  \n",
      "  inflating: data/images/thumb-0000799.jpg  \n",
      "  inflating: data/images/thumb-0000800.jpg  \n",
      "  inflating: data/images/thumb-0000801.jpg  \n",
      "  inflating: data/images/thumb-0000802.jpg  \n",
      "  inflating: data/images/thumb-0000803.jpg  \n",
      "  inflating: data/images/thumb-0000804.jpg  \n",
      "  inflating: data/images/thumb-0000805.jpg  \n",
      "  inflating: data/images/thumb-0000806.jpg  \n",
      "  inflating: data/images/thumb-0000807.jpg  \n",
      "  inflating: data/images/thumb-0000808.jpg  \n",
      "  inflating: data/images/thumb-0000809.jpg  \n",
      "  inflating: data/images/thumb-0000810.jpg  \n",
      "  inflating: data/images/thumb-0000811.jpg  \n",
      "  inflating: data/images/thumb-0000812.jpg  \n",
      "  inflating: data/images/thumb-0000813.jpg  \n",
      "  inflating: data/images/thumb-0000814.jpg  \n",
      "  inflating: data/images/thumb-0000815.jpg  \n",
      "  inflating: data/images/thumb-0000816.jpg  \n",
      "  inflating: data/images/thumb-0000817.jpg  \n",
      "  inflating: data/images/thumb-0000818.jpg  \n",
      "  inflating: data/images/thumb-0000819.jpg  \n",
      "  inflating: data/images/thumb-0000820.jpg  \n",
      "  inflating: data/images/thumb-0000821.jpg  \n",
      "  inflating: data/images/thumb-0000822.jpg  \n",
      "  inflating: data/images/thumb-0000823.jpg  \n",
      "  inflating: data/images/thumb-0000824.jpg  \n",
      "  inflating: data/metadata.dat       \n",
      "  inflating: data/MRHistograms.txt   \n",
      "  inflating: data/SightingData.csv   \n",
      "  inflating: data/StripeCodes.txt    \n",
      "DATASET StripeSpotter: FINISHED.\n",
      "\n"
     ]
    },
    {
     "name": "stderr",
     "output_type": "stream",
     "text": [
      "Epoch 0:   0%|                                                                | 0/7 [00:00<?, ?it/s]/opt/conda/lib/python3.10/multiprocessing/popen_fork.py:66: RuntimeWarning: os.fork() was called. os.fork() is incompatible with multithreaded code, and JAX is multithreaded, so this will likely lead to a deadlock.\n",
      "  self.pid = os.fork()\n",
      "Epoch 0:  86%|████████████████████████████████████████████████        | 6/7 [00:23<00:03,  3.77s/it]/opt/conda/lib/python3.10/multiprocessing/popen_fork.py:66: RuntimeWarning: os.fork() was called. os.fork() is incompatible with multithreaded code, and JAX is multithreaded, so this will likely lead to a deadlock.\n",
      "  self.pid = os.fork()\n",
      "Epoch 0: 100%|████████████████████████████████████████████████████████| 7/7 [00:24<00:00,  3.51s/it]\n"
     ]
    },
    {
     "name": "stdout",
     "output_type": "stream",
     "text": [
      "Epoch 1: Average Loss = 0.2627438008785248\n"
     ]
    },
    {
     "name": "stderr",
     "output_type": "stream",
     "text": [
      "Epoch 1: 100%|████████████████████████████████████████████████████████| 7/7 [00:24<00:00,  3.53s/it]\n"
     ]
    },
    {
     "name": "stdout",
     "output_type": "stream",
     "text": [
      "Epoch 2: Average Loss = 0.24764655530452728\n"
     ]
    },
    {
     "name": "stderr",
     "output_type": "stream",
     "text": [
      "Epoch 2: 100%|████████████████████████████████████████████████████████| 7/7 [00:24<00:00,  3.51s/it]\n"
     ]
    },
    {
     "name": "stdout",
     "output_type": "stream",
     "text": [
      "Epoch 3: Average Loss = 0.2436731606721878\n"
     ]
    },
    {
     "name": "stderr",
     "output_type": "stream",
     "text": [
      "Epoch 3: 100%|████████████████████████████████████████████████████████| 7/7 [00:24<00:00,  3.49s/it]\n"
     ]
    },
    {
     "name": "stdout",
     "output_type": "stream",
     "text": [
      "Epoch 4: Average Loss = 0.24009640514850616\n"
     ]
    },
    {
     "name": "stderr",
     "output_type": "stream",
     "text": [
      "Epoch 4: 100%|████████████████████████████████████████████████████████| 7/7 [00:24<00:00,  3.50s/it]\n"
     ]
    },
    {
     "name": "stdout",
     "output_type": "stream",
     "text": [
      "Epoch 5: Average Loss = 0.2379698008298874\n"
     ]
    },
    {
     "name": "stderr",
     "output_type": "stream",
     "text": [
      "Epoch 5: 100%|████████████████████████████████████████████████████████| 7/7 [00:24<00:00,  3.52s/it]\n"
     ]
    },
    {
     "name": "stdout",
     "output_type": "stream",
     "text": [
      "Epoch 6: Average Loss = 0.21745674312114716\n"
     ]
    },
    {
     "name": "stderr",
     "output_type": "stream",
     "text": [
      "Epoch 6: 100%|████████████████████████████████████████████████████████| 7/7 [00:24<00:00,  3.54s/it]\n"
     ]
    },
    {
     "name": "stdout",
     "output_type": "stream",
     "text": [
      "Epoch 7: Average Loss = 0.20975230634212494\n"
     ]
    },
    {
     "name": "stderr",
     "output_type": "stream",
     "text": [
      "Epoch 7: 100%|████████████████████████████████████████████████████████| 7/7 [00:24<00:00,  3.53s/it]\n"
     ]
    },
    {
     "name": "stdout",
     "output_type": "stream",
     "text": [
      "Epoch 8: Average Loss = 0.21260739862918854\n"
     ]
    },
    {
     "name": "stderr",
     "output_type": "stream",
     "text": [
      "Epoch 8: 100%|████████████████████████████████████████████████████████| 7/7 [00:24<00:00,  3.54s/it]\n"
     ]
    },
    {
     "name": "stdout",
     "output_type": "stream",
     "text": [
      "Epoch 9: Average Loss = 0.20345795154571533\n"
     ]
    },
    {
     "name": "stderr",
     "output_type": "stream",
     "text": [
      "Epoch 9: 100%|████████████████████████████████████████████████████████| 7/7 [00:24<00:00,  3.50s/it]\n"
     ]
    },
    {
     "name": "stdout",
     "output_type": "stream",
     "text": [
      "Epoch 10: Average Loss = 0.2008705586194992\n"
     ]
    },
    {
     "name": "stderr",
     "output_type": "stream",
     "text": [
      "Epoch 10: 100%|███████████████████████████████████████████████████████| 7/7 [00:24<00:00,  3.52s/it]\n"
     ]
    },
    {
     "name": "stdout",
     "output_type": "stream",
     "text": [
      "Epoch 11: Average Loss = 0.19847522675991058\n"
     ]
    },
    {
     "name": "stderr",
     "output_type": "stream",
     "text": [
      "Epoch 11: 100%|███████████████████████████████████████████████████████| 7/7 [00:24<00:00,  3.50s/it]\n"
     ]
    },
    {
     "name": "stdout",
     "output_type": "stream",
     "text": [
      "Epoch 12: Average Loss = 0.1960974484682083\n"
     ]
    },
    {
     "name": "stderr",
     "output_type": "stream",
     "text": [
      "Epoch 12: 100%|███████████████████████████████████████████████████████| 7/7 [00:24<00:00,  3.52s/it]\n"
     ]
    },
    {
     "name": "stdout",
     "output_type": "stream",
     "text": [
      "Epoch 13: Average Loss = 0.1977231353521347\n"
     ]
    },
    {
     "name": "stderr",
     "output_type": "stream",
     "text": [
      "Epoch 13: 100%|███████████████████████████████████████████████████████| 7/7 [00:24<00:00,  3.50s/it]\n"
     ]
    },
    {
     "name": "stdout",
     "output_type": "stream",
     "text": [
      "Epoch 14: Average Loss = 0.1905001848936081\n"
     ]
    },
    {
     "name": "stderr",
     "output_type": "stream",
     "text": [
      "Epoch 14: 100%|███████████████████████████████████████████████████████| 7/7 [00:24<00:00,  3.55s/it]\n"
     ]
    },
    {
     "name": "stdout",
     "output_type": "stream",
     "text": [
      "Epoch 15: Average Loss = 0.19525693356990814\n"
     ]
    },
    {
     "name": "stderr",
     "output_type": "stream",
     "text": [
      "Epoch 15: 100%|███████████████████████████████████████████████████████| 7/7 [00:24<00:00,  3.54s/it]\n"
     ]
    },
    {
     "name": "stdout",
     "output_type": "stream",
     "text": [
      "Epoch 16: Average Loss = 0.17363205552101135\n"
     ]
    },
    {
     "name": "stderr",
     "output_type": "stream",
     "text": [
      "Epoch 16: 100%|███████████████████████████████████████████████████████| 7/7 [00:24<00:00,  3.48s/it]\n"
     ]
    },
    {
     "name": "stdout",
     "output_type": "stream",
     "text": [
      "Epoch 17: Average Loss = 0.17523826658725739\n"
     ]
    },
    {
     "name": "stderr",
     "output_type": "stream",
     "text": [
      "Epoch 17: 100%|███████████████████████████████████████████████████████| 7/7 [00:24<00:00,  3.43s/it]\n"
     ]
    },
    {
     "name": "stdout",
     "output_type": "stream",
     "text": [
      "Epoch 18: Average Loss = 0.17704124748706818\n"
     ]
    },
    {
     "name": "stderr",
     "output_type": "stream",
     "text": [
      "Epoch 18: 100%|███████████████████████████████████████████████████████| 7/7 [00:24<00:00,  3.44s/it]\n"
     ]
    },
    {
     "name": "stdout",
     "output_type": "stream",
     "text": [
      "Epoch 19: Average Loss = 0.1780577450990677\n"
     ]
    },
    {
     "name": "stderr",
     "output_type": "stream",
     "text": [
      "Epoch 19: 100%|███████████████████████████████████████████████████████| 7/7 [00:23<00:00,  3.38s/it]"
     ]
    },
    {
     "name": "stdout",
     "output_type": "stream",
     "text": [
      "Epoch 20: Average Loss = 0.17658083140850067\n"
     ]
    },
    {
     "name": "stderr",
     "output_type": "stream",
     "text": [
      "\n"
     ]
    }
   ],
   "source": [
    "# Download dataset (if not already downloaded)\n",
    "datasets.StripeSpotter.get_data('../data/StripeSpotter')\n",
    "# Load dataset metadata\n",
    "metadata = datasets.StripeSpotter('../data/StripeSpotter')\n",
    "transform = T.Compose([T.Resize([224, 224]), T.ToTensor(), T.Normalize(mean=(0.485, 0.456, 0.406), std=(0.229, 0.224, 0.225))])\n",
    "dataset = WildlifeDataset(metadata.df, metadata.root, transform=transform)\n",
    "\n",
    "\n",
    "# Download MegaDescriptor-T backbone from HuggingFace Hub\n",
    "backbone = timm.create_model('hf-hub:BVRA/MegaDescriptor-T-224', num_classes=0, pretrained=True)\n",
    "\n",
    "# Arcface loss - needs backbone output size and number of classes.\n",
    "objective = TripletLoss()\n",
    "\n",
    "# Optimize parameters in backbone and in objective using single optimizer.\n",
    "params = itertools.chain(backbone.parameters(), objective.parameters())\n",
    "optimizer = SGD(params=params, lr=0.001, momentum=0.9)\n",
    "\n",
    "def print_epoch_loss(trainer, epoch_data):\n",
    "    # This function will print the average loss at the end of each epoch\n",
    "    print(f\"Epoch {trainer.epoch}: Average Loss = {epoch_data['train_loss_epoch_avg']}\")\n",
    "\n",
    "\n",
    "trainer = BasicTrainer(\n",
    "    dataset=dataset,\n",
    "    model=backbone,\n",
    "    objective=objective,\n",
    "    optimizer=optimizer,\n",
    "    epochs=20,\n",
    "    device='cuda',\n",
    "    epoch_callback=print_epoch_loss\n",
    ")\n",
    "\n",
    "trainer.train()"
   ]
  },
  {
   "cell_type": "code",
   "execution_count": 31,
   "id": "996ebc5e",
   "metadata": {
    "execution": {
     "iopub.execute_input": "2024-08-06T08:52:06.352856Z",
     "iopub.status.busy": "2024-08-06T08:52:06.352450Z",
     "iopub.status.idle": "2024-08-06T08:52:06.832577Z",
     "shell.execute_reply": "2024-08-06T08:52:06.831499Z"
    },
    "papermill": {
     "duration": 0.806926,
     "end_time": "2024-08-06T08:52:06.834985",
     "exception": false,
     "start_time": "2024-08-06T08:52:06.028059",
     "status": "completed"
    },
    "tags": []
   },
   "outputs": [],
   "source": [
    "import torch\n",
    "\n",
    "trainer.save(\"retrained_chks\", file_name=\"tripletloss_LionData_retrained_checkpoint.pth\")"
   ]
  },
  {
   "cell_type": "code",
   "execution_count": 32,
   "id": "06a3be87",
   "metadata": {
    "execution": {
     "iopub.execute_input": "2024-08-06T08:52:07.454083Z",
     "iopub.status.busy": "2024-08-06T08:52:07.453735Z",
     "iopub.status.idle": "2024-08-06T08:52:31.342018Z",
     "shell.execute_reply": "2024-08-06T08:52:31.340541Z"
    },
    "papermill": {
     "duration": 24.198574,
     "end_time": "2024-08-06T08:52:31.344082",
     "exception": false,
     "start_time": "2024-08-06T08:52:07.145508",
     "status": "completed"
    },
    "tags": []
   },
   "outputs": [
    {
     "name": "stderr",
     "output_type": "stream",
     "text": [
      "100%|█████████████████████████████████████████████████████████████████| 1/1 [00:03<00:00,  3.35s/it]\n",
      "100%|█████████████████████████████████████████████████████████████████| 6/6 [00:20<00:00,  3.41s/it]"
     ]
    },
    {
     "name": "stdout",
     "output_type": "stream",
     "text": [
      "{'cosine': array([[-0.02241088,  0.27230656,  0.1930488 , ...,  0.07687466,\n",
      "         0.2652765 ,  0.44629616],\n",
      "       [ 0.04800216,  0.48006326,  0.4798489 , ...,  0.6123388 ,\n",
      "         0.2178252 ,  0.16183515],\n",
      "       [ 0.47774723,  0.14714071,  0.09519885, ...,  0.04039922,\n",
      "         0.15001519,  0.01657989],\n",
      "       ...,\n",
      "       [ 0.37502947, -0.02617005, -0.07750648, ..., -0.0170657 ,\n",
      "         0.11693738, -0.02975595],\n",
      "       [ 0.32702544, -0.05711059, -0.01171974, ...,  0.07205453,\n",
      "         0.15749693, -0.15800299],\n",
      "       [ 0.00678507,  0.10123745, -0.05477787, ...,  0.07853457,\n",
      "         0.19642892,  0.0019774 ]], dtype=float32)}\n"
     ]
    },
    {
     "name": "stderr",
     "output_type": "stream",
     "text": [
      "\n"
     ]
    }
   ],
   "source": [
    "dataset_database_P = WildlifeDataset(metadata.df.iloc[100:,:], metadata.root, transform=transform)\n",
    "dataset_query_P = WildlifeDataset(metadata.df.iloc[:100,:], metadata.root, transform=transform)\n",
    "\n",
    "# name = 'hf-hub:BVRA/MegaDescriptor-T-224'\n",
    "extractor_P = DeepFeatures(trainer.model , device = 'cuda')\n",
    "\n",
    "query_P, database_P = extractor_P(dataset_query_P), extractor_P(dataset_database_P)\n",
    "\n",
    "\n",
    "similarity_function = CosineSimilarity()\n",
    "similarity_P = similarity_function(query_P, database_P)\n",
    "print(similarity_P)"
   ]
  },
  {
   "cell_type": "code",
   "execution_count": 33,
   "id": "9f7f3473",
   "metadata": {
    "execution": {
     "iopub.execute_input": "2024-08-06T08:52:32.021306Z",
     "iopub.status.busy": "2024-08-06T08:52:32.020920Z",
     "iopub.status.idle": "2024-08-06T08:52:32.035180Z",
     "shell.execute_reply": "2024-08-06T08:52:32.034180Z"
    },
    "papermill": {
     "duration": 0.327272,
     "end_time": "2024-08-06T08:52:32.037601",
     "exception": false,
     "start_time": "2024-08-06T08:52:31.710329",
     "status": "completed"
    },
    "tags": []
   },
   "outputs": [
    {
     "name": "stdout",
     "output_type": "stream",
     "text": [
      "Predictions for 100 test Images:-\n",
      " ['09_200' 'S09_161' '08_085' '08_100' '09_200' 'OP05_625' '09_212'\n",
      " '02_149' '01_579' '08_034' '01_679' '08_078' '01_460' '10_002' '01_136'\n",
      " '09_212' '09_200' 'S09_111' '02_149' 'S09_069' '08_100' '01_363' '01_363'\n",
      " '08_078' '08_034' '01_805' '09_355' '08_085' 'OP05_546' '09_212' '08_100'\n",
      " 'S09_088' '09_182' 'S09_215' '02_162' '01_230' '08_085' '01_661'\n",
      " '02_1026' '09_185' '01_136' '01_661' '01_661' '02_161' '01_165' '02_161'\n",
      " 'S09_174' 'S09_067' '08_100' 'OP04_225' '02_149' 'S09_067' '09_200'\n",
      " '04_008' '01_661' '09_182' '01_805' '02_161' '10_002' '01_036' '02_149'\n",
      " '01_165' '09_212' 'S09_211' 'S09_215' '03_045' '01_579' 'OP04_225'\n",
      " '08_100' '08_100' '04_008' '09_212' 'OP05_625' 'OP05_625' '02_149'\n",
      " '01_230' '09_200' 'OP05_625' '01_661' 'OP04_225' '01_661' '09_212'\n",
      " 'S09_174' '01_679' '01_661' 'S09_067' 'S09_111' 'S09_112' '09_212'\n",
      " 'OP05_625' '02_161' '09_185' '04_008' '08_100' '01_460' '01_679'\n",
      " 'S09_111' '01_679' '01_036' 'S09_067']\n"
     ]
    },
    {
     "name": "stderr",
     "output_type": "stream",
     "text": [
      "/opt/conda/lib/python3.10/site-packages/wildlife_tools/inference/classifier.py:61: FutureWarning: DataFrame.fillna with 'method' is deprecated and will raise in a future version. Use obj.ffill() or obj.bfill() instead.\n",
      "  results = pd.DataFrame(results).T.fillna(method=\"ffill\").T\n"
     ]
    }
   ],
   "source": [
    "classifier_P = KnnClassifier(k=1, database_labels=dataset_database_P.labels_string)\n",
    "predictions_P = classifier_P(similarity_P['cosine'])\n",
    "print(\"Predictions for 100 test Images:-\\n\",predictions_P)"
   ]
  },
  {
   "cell_type": "code",
   "execution_count": 34,
   "id": "1359cab8",
   "metadata": {
    "execution": {
     "iopub.execute_input": "2024-08-06T08:52:32.727439Z",
     "iopub.status.busy": "2024-08-06T08:52:32.727051Z",
     "iopub.status.idle": "2024-08-06T08:52:32.732987Z",
     "shell.execute_reply": "2024-08-06T08:52:32.731999Z"
    },
    "papermill": {
     "duration": 0.377043,
     "end_time": "2024-08-06T08:52:32.735629",
     "exception": false,
     "start_time": "2024-08-06T08:52:32.358586",
     "status": "completed"
    },
    "tags": []
   },
   "outputs": [
    {
     "name": "stdout",
     "output_type": "stream",
     "text": [
      "Accuracy on StripeSpotter data: 98.00%\n"
     ]
    }
   ],
   "source": [
    "accuracy_P = np.mean(dataset_query_P.labels_string == predictions_P)\n",
    "print(\"Accuracy on StripeSpotter data: {:.2f}%\".format(accuracy_P * 100))"
   ]
  },
  {
   "cell_type": "code",
   "execution_count": 35,
   "id": "c2436888",
   "metadata": {
    "execution": {
     "iopub.execute_input": "2024-08-06T08:52:33.365986Z",
     "iopub.status.busy": "2024-08-06T08:52:33.365140Z",
     "iopub.status.idle": "2024-08-06T08:52:33.380213Z",
     "shell.execute_reply": "2024-08-06T08:52:33.379151Z"
    },
    "papermill": {
     "duration": 0.328307,
     "end_time": "2024-08-06T08:52:33.382217",
     "exception": false,
     "start_time": "2024-08-06T08:52:33.053910",
     "status": "completed"
    },
    "tags": []
   },
   "outputs": [
    {
     "name": "stdout",
     "output_type": "stream",
     "text": [
      "Precision: 0.9840000000000001\n",
      "Recall: 0.98\n",
      "F1 Score: 0.9757777777777779\n"
     ]
    }
   ],
   "source": [
    "precision_P = precision_score(dataset_query_P.labels_string, predictions_P, average='weighted',zero_division=1)\n",
    "recall_P = recall_score(dataset_query_P.labels_string, predictions_P, average='weighted',zero_division=1)\n",
    "f1_P = f1_score(dataset_query_P.labels_string, predictions_P, average='weighted',zero_division=1)\n",
    "print(\"Precision:\", precision_P)\n",
    "print(\"Recall:\", recall_P)\n",
    "print(\"F1 Score:\", f1_P)"
   ]
  },
  {
   "cell_type": "markdown",
   "id": "cee32db1",
   "metadata": {
    "papermill": {
     "duration": 0.309226,
     "end_time": "2024-08-06T08:52:33.999856",
     "exception": false,
     "start_time": "2024-08-06T08:52:33.690630",
     "status": "completed"
    },
    "tags": []
   },
   "source": [
    "**CZoo Dataset**"
   ]
  },
  {
   "cell_type": "code",
   "execution_count": 36,
   "id": "58bf61f0",
   "metadata": {
    "execution": {
     "iopub.execute_input": "2024-08-06T08:52:34.618063Z",
     "iopub.status.busy": "2024-08-06T08:52:34.617689Z",
     "iopub.status.idle": "2024-08-06T09:01:57.173333Z",
     "shell.execute_reply": "2024-08-06T09:01:57.172147Z"
    },
    "papermill": {
     "duration": 562.869189,
     "end_time": "2024-08-06T09:01:57.175560",
     "exception": false,
     "start_time": "2024-08-06T08:52:34.306371",
     "status": "completed"
    },
    "tags": []
   },
   "outputs": [
    {
     "name": "stdout",
     "output_type": "stream",
     "text": [
      "DATASET CZoo: DOWNLOADING STARTED.\n"
     ]
    },
    {
     "name": "stderr",
     "output_type": "stream",
     "text": [
      "master.zip: 634MB [00:20, 31.5MB/s]\n"
     ]
    },
    {
     "name": "stdout",
     "output_type": "stream",
     "text": [
      "DATASET CZoo: EXTRACTING STARTED.\n",
      "DATASET CZoo: FINISHED.\n",
      "\n"
     ]
    },
    {
     "name": "stderr",
     "output_type": "stream",
     "text": [
      "Epoch 0:   0%|                                                               | 0/17 [00:00<?, ?it/s]/opt/conda/lib/python3.10/multiprocessing/popen_fork.py:66: RuntimeWarning: os.fork() was called. os.fork() is incompatible with multithreaded code, and JAX is multithreaded, so this will likely lead to a deadlock.\n",
      "  self.pid = os.fork()\n",
      "Epoch 0:  94%|██████████████████████████████████████████████████▊   | 16/17 [00:27<00:01,  1.68s/it]/opt/conda/lib/python3.10/multiprocessing/popen_fork.py:66: RuntimeWarning: os.fork() was called. os.fork() is incompatible with multithreaded code, and JAX is multithreaded, so this will likely lead to a deadlock.\n",
      "  self.pid = os.fork()\n",
      "Epoch 0: 100%|██████████████████████████████████████████████████████| 17/17 [00:28<00:00,  1.69s/it]\n"
     ]
    },
    {
     "name": "stdout",
     "output_type": "stream",
     "text": [
      "Epoch 1: Average Loss = 0.14777177572250366\n"
     ]
    },
    {
     "name": "stderr",
     "output_type": "stream",
     "text": [
      "Epoch 1: 100%|██████████████████████████████████████████████████████| 17/17 [00:27<00:00,  1.60s/it]\n"
     ]
    },
    {
     "name": "stdout",
     "output_type": "stream",
     "text": [
      "Epoch 2: Average Loss = 0.1427539438009262\n"
     ]
    },
    {
     "name": "stderr",
     "output_type": "stream",
     "text": [
      "Epoch 2: 100%|██████████████████████████████████████████████████████| 17/17 [00:26<00:00,  1.57s/it]\n"
     ]
    },
    {
     "name": "stdout",
     "output_type": "stream",
     "text": [
      "Epoch 3: Average Loss = 0.1277334839105606\n"
     ]
    },
    {
     "name": "stderr",
     "output_type": "stream",
     "text": [
      "Epoch 3: 100%|██████████████████████████████████████████████████████| 17/17 [00:27<00:00,  1.63s/it]\n"
     ]
    },
    {
     "name": "stdout",
     "output_type": "stream",
     "text": [
      "Epoch 4: Average Loss = 0.13470709323883057\n"
     ]
    },
    {
     "name": "stderr",
     "output_type": "stream",
     "text": [
      "Epoch 4: 100%|██████████████████████████████████████████████████████| 17/17 [00:26<00:00,  1.58s/it]\n"
     ]
    },
    {
     "name": "stdout",
     "output_type": "stream",
     "text": [
      "Epoch 5: Average Loss = 0.1371740847826004\n"
     ]
    },
    {
     "name": "stderr",
     "output_type": "stream",
     "text": [
      "Epoch 5: 100%|██████████████████████████████████████████████████████| 17/17 [00:26<00:00,  1.57s/it]\n"
     ]
    },
    {
     "name": "stdout",
     "output_type": "stream",
     "text": [
      "Epoch 6: Average Loss = 0.12284727394580841\n"
     ]
    },
    {
     "name": "stderr",
     "output_type": "stream",
     "text": [
      "Epoch 6: 100%|██████████████████████████████████████████████████████| 17/17 [00:27<00:00,  1.59s/it]\n"
     ]
    },
    {
     "name": "stdout",
     "output_type": "stream",
     "text": [
      "Epoch 7: Average Loss = 0.12159857898950577\n"
     ]
    },
    {
     "name": "stderr",
     "output_type": "stream",
     "text": [
      "Epoch 7: 100%|██████████████████████████████████████████████████████| 17/17 [00:26<00:00,  1.57s/it]\n"
     ]
    },
    {
     "name": "stdout",
     "output_type": "stream",
     "text": [
      "Epoch 8: Average Loss = 0.10850325971841812\n"
     ]
    },
    {
     "name": "stderr",
     "output_type": "stream",
     "text": [
      "Epoch 8: 100%|██████████████████████████████████████████████████████| 17/17 [00:26<00:00,  1.58s/it]\n"
     ]
    },
    {
     "name": "stdout",
     "output_type": "stream",
     "text": [
      "Epoch 9: Average Loss = 0.10543864965438843\n"
     ]
    },
    {
     "name": "stderr",
     "output_type": "stream",
     "text": [
      "Epoch 9: 100%|██████████████████████████████████████████████████████| 17/17 [00:26<00:00,  1.58s/it]\n"
     ]
    },
    {
     "name": "stdout",
     "output_type": "stream",
     "text": [
      "Epoch 10: Average Loss = 0.11861597746610641\n"
     ]
    },
    {
     "name": "stderr",
     "output_type": "stream",
     "text": [
      "Epoch 10: 100%|█████████████████████████████████████████████████████| 17/17 [00:26<00:00,  1.57s/it]\n"
     ]
    },
    {
     "name": "stdout",
     "output_type": "stream",
     "text": [
      "Epoch 11: Average Loss = 0.11645355075597763\n"
     ]
    },
    {
     "name": "stderr",
     "output_type": "stream",
     "text": [
      "Epoch 11: 100%|█████████████████████████████████████████████████████| 17/17 [00:26<00:00,  1.57s/it]\n"
     ]
    },
    {
     "name": "stdout",
     "output_type": "stream",
     "text": [
      "Epoch 12: Average Loss = 0.11754563450813293\n"
     ]
    },
    {
     "name": "stderr",
     "output_type": "stream",
     "text": [
      "Epoch 12: 100%|█████████████████████████████████████████████████████| 17/17 [00:26<00:00,  1.57s/it]\n"
     ]
    },
    {
     "name": "stdout",
     "output_type": "stream",
     "text": [
      "Epoch 13: Average Loss = 0.12172126770019531\n"
     ]
    },
    {
     "name": "stderr",
     "output_type": "stream",
     "text": [
      "Epoch 13: 100%|█████████████████████████████████████████████████████| 17/17 [00:26<00:00,  1.56s/it]\n"
     ]
    },
    {
     "name": "stdout",
     "output_type": "stream",
     "text": [
      "Epoch 14: Average Loss = 0.12222029268741608\n"
     ]
    },
    {
     "name": "stderr",
     "output_type": "stream",
     "text": [
      "Epoch 14: 100%|█████████████████████████████████████████████████████| 17/17 [00:26<00:00,  1.56s/it]\n"
     ]
    },
    {
     "name": "stdout",
     "output_type": "stream",
     "text": [
      "Epoch 15: Average Loss = 0.13620498776435852\n"
     ]
    },
    {
     "name": "stderr",
     "output_type": "stream",
     "text": [
      "Epoch 15: 100%|█████████████████████████████████████████████████████| 17/17 [00:26<00:00,  1.55s/it]\n"
     ]
    },
    {
     "name": "stdout",
     "output_type": "stream",
     "text": [
      "Epoch 16: Average Loss = 0.11950390785932541\n"
     ]
    },
    {
     "name": "stderr",
     "output_type": "stream",
     "text": [
      "Epoch 16: 100%|█████████████████████████████████████████████████████| 17/17 [00:26<00:00,  1.57s/it]\n"
     ]
    },
    {
     "name": "stdout",
     "output_type": "stream",
     "text": [
      "Epoch 17: Average Loss = 0.1360449194908142\n"
     ]
    },
    {
     "name": "stderr",
     "output_type": "stream",
     "text": [
      "Epoch 17: 100%|█████████████████████████████████████████████████████| 17/17 [00:26<00:00,  1.57s/it]\n"
     ]
    },
    {
     "name": "stdout",
     "output_type": "stream",
     "text": [
      "Epoch 18: Average Loss = 0.1369324028491974\n"
     ]
    },
    {
     "name": "stderr",
     "output_type": "stream",
     "text": [
      "Epoch 18: 100%|█████████████████████████████████████████████████████| 17/17 [00:26<00:00,  1.55s/it]\n"
     ]
    },
    {
     "name": "stdout",
     "output_type": "stream",
     "text": [
      "Epoch 19: Average Loss = 0.11583796888589859\n"
     ]
    },
    {
     "name": "stderr",
     "output_type": "stream",
     "text": [
      "Epoch 19: 100%|█████████████████████████████████████████████████████| 17/17 [00:26<00:00,  1.56s/it]"
     ]
    },
    {
     "name": "stdout",
     "output_type": "stream",
     "text": [
      "Epoch 20: Average Loss = 0.12804877758026123\n"
     ]
    },
    {
     "name": "stderr",
     "output_type": "stream",
     "text": [
      "\n"
     ]
    }
   ],
   "source": [
    "# Download dataset (if not already downloaded)\n",
    "datasets.CZoo.get_data('../data/CZoo')\n",
    "# Load dataset metadata\n",
    "metadata = datasets.CZoo('../data/CZoo')\n",
    "transform = T.Compose([T.Resize([224, 224]), T.ToTensor(), T.Normalize(mean=(0.485, 0.456, 0.406), std=(0.229, 0.224, 0.225))])\n",
    "dataset = WildlifeDataset(metadata.df, metadata.root, transform=transform)\n",
    "\n",
    "\n",
    "# Download MegaDescriptor-T backbone from HuggingFace Hub\n",
    "backbone = timm.create_model('hf-hub:BVRA/MegaDescriptor-T-224', num_classes=0, pretrained=True)\n",
    "\n",
    "# Arcface loss - needs backbone output size and number of classes.\n",
    "objective = TripletLoss()\n",
    "\n",
    "# Optimize parameters in backbone and in objective using single optimizer.\n",
    "params = itertools.chain(backbone.parameters(), objective.parameters())\n",
    "optimizer = SGD(params=params, lr=0.001, momentum=0.9)\n",
    "\n",
    "def print_epoch_loss(trainer, epoch_data):\n",
    "    # This function will print the average loss at the end of each epoch\n",
    "    print(f\"Epoch {trainer.epoch}: Average Loss = {epoch_data['train_loss_epoch_avg']}\")\n",
    "\n",
    "\n",
    "trainer = BasicTrainer(\n",
    "    dataset=dataset,\n",
    "    model=backbone,\n",
    "    objective=objective,\n",
    "    optimizer=optimizer,\n",
    "    epochs=20,\n",
    "    device='cuda',\n",
    "    epoch_callback=print_epoch_loss\n",
    ")\n",
    "\n",
    "trainer.train()"
   ]
  },
  {
   "cell_type": "code",
   "execution_count": 37,
   "id": "65f40e0e",
   "metadata": {
    "execution": {
     "iopub.execute_input": "2024-08-06T09:01:57.949404Z",
     "iopub.status.busy": "2024-08-06T09:01:57.948551Z",
     "iopub.status.idle": "2024-08-06T09:01:58.443793Z",
     "shell.execute_reply": "2024-08-06T09:01:58.442771Z"
    },
    "papermill": {
     "duration": 0.910212,
     "end_time": "2024-08-06T09:01:58.447350",
     "exception": false,
     "start_time": "2024-08-06T09:01:57.537138",
     "status": "completed"
    },
    "tags": []
   },
   "outputs": [],
   "source": [
    "import torch\n",
    "\n",
    "trainer.save(\"retrained_chks\", file_name=\"tripletloss_LionData_retrained_checkpoint.pth\")"
   ]
  },
  {
   "cell_type": "code",
   "execution_count": 38,
   "id": "0093b3bd",
   "metadata": {
    "execution": {
     "iopub.execute_input": "2024-08-06T09:01:59.164680Z",
     "iopub.status.busy": "2024-08-06T09:01:59.164014Z",
     "iopub.status.idle": "2024-08-06T09:02:16.572666Z",
     "shell.execute_reply": "2024-08-06T09:02:16.571422Z"
    },
    "papermill": {
     "duration": 17.764223,
     "end_time": "2024-08-06T09:02:16.574973",
     "exception": false,
     "start_time": "2024-08-06T09:01:58.810750",
     "status": "completed"
    },
    "tags": []
   },
   "outputs": [
    {
     "name": "stderr",
     "output_type": "stream",
     "text": [
      "100%|█████████████████████████████████████████████████████████████████| 1/1 [00:01<00:00,  1.61s/it]\n",
      "100%|███████████████████████████████████████████████████████████████| 16/16 [00:15<00:00,  1.02it/s]"
     ]
    },
    {
     "name": "stdout",
     "output_type": "stream",
     "text": [
      "{'cosine': array([[ 0.8502511 ,  0.8718872 ,  0.8557354 , ..., -0.09397024,\n",
      "        -0.05230109,  0.00772383],\n",
      "       [ 0.8678544 ,  0.90013874,  0.87604403, ..., -0.1021499 ,\n",
      "        -0.06034018, -0.03326898],\n",
      "       [ 0.86197037,  0.8926725 ,  0.8693619 , ..., -0.12851536,\n",
      "        -0.04101291,  0.02454877],\n",
      "       ...,\n",
      "       [ 0.9066254 ,  0.9452016 ,  0.91690326, ..., -0.11964206,\n",
      "        -0.00948693, -0.02488633],\n",
      "       [ 0.9160557 ,  0.942768  ,  0.921376  , ..., -0.13018948,\n",
      "        -0.01596886, -0.01630965],\n",
      "       [ 0.90904164,  0.9490662 ,  0.93105555, ..., -0.13887672,\n",
      "        -0.01834186, -0.00278286]], dtype=float32)}\n"
     ]
    },
    {
     "name": "stderr",
     "output_type": "stream",
     "text": [
      "\n"
     ]
    }
   ],
   "source": [
    "dataset_database_P = WildlifeDataset(metadata.df.iloc[100:,:], metadata.root, transform=transform)\n",
    "dataset_query_P = WildlifeDataset(metadata.df.iloc[:100,:], metadata.root, transform=transform)\n",
    "\n",
    "# name = 'hf-hub:BVRA/MegaDescriptor-T-224'\n",
    "extractor_P = DeepFeatures(trainer.model , device = 'cuda')\n",
    "\n",
    "query_P, database_P = extractor_P(dataset_query_P), extractor_P(dataset_database_P)\n",
    "\n",
    "\n",
    "similarity_function = CosineSimilarity()\n",
    "similarity_P = similarity_function(query_P, database_P)\n",
    "print(similarity_P)"
   ]
  },
  {
   "cell_type": "code",
   "execution_count": 39,
   "id": "abfd28ab",
   "metadata": {
    "execution": {
     "iopub.execute_input": "2024-08-06T09:02:17.345166Z",
     "iopub.status.busy": "2024-08-06T09:02:17.344669Z",
     "iopub.status.idle": "2024-08-06T09:02:17.363598Z",
     "shell.execute_reply": "2024-08-06T09:02:17.362153Z"
    },
    "papermill": {
     "duration": 0.383904,
     "end_time": "2024-08-06T09:02:17.365730",
     "exception": false,
     "start_time": "2024-08-06T09:02:16.981826",
     "status": "completed"
    },
    "tags": []
   },
   "outputs": [
    {
     "name": "stdout",
     "output_type": "stream",
     "text": [
      "Predictions for 100 test Images:-\n",
      " ['Alex' 'Alex' 'Alex' 'Jahaga' 'Jahaga' 'Alex' 'Alex' 'Jahaga' 'Alex'\n",
      " 'Jahaga' 'Alex' 'Alex' 'Alex' 'Alex' 'Alex' 'Alex' 'Alex' 'Alex' 'Alex'\n",
      " 'Alex' 'Alex' 'Alex' 'Alexandra' 'Alexandra' 'Alexandra' 'Alexandra'\n",
      " 'Alexandra' 'Alexandra' 'Alexandra' 'Alexandra' 'Alexandra' 'Alexandra'\n",
      " 'Alexandra' 'Gertrudia' 'Gertrudia' 'Gertrudia' 'Alexandra' 'Alexandra'\n",
      " 'Alexandra' 'Alexandra' 'Alexandra' 'Alexandra' 'Alexandra' 'Alexandra'\n",
      " 'Alexandra' 'Annett' 'Annett' 'Alexandra' 'Alexandra' 'Alexandra'\n",
      " 'Alexandra' 'Alexandra' 'Alexandra' 'Alexandra' 'Alexandra' 'Alexandra'\n",
      " 'Alexandra' 'Alexandra' 'Alexandra' 'Alexandra' 'Alexandra' 'Alexandra'\n",
      " 'Alexandra' 'Alexandra' 'Alexandra' 'Alexandra' 'Alexandra' 'Alexandra'\n",
      " 'Alexandra' 'Alexandra' 'Alexandra' 'Alexandra' 'Alexandra' 'Alexandra'\n",
      " 'Alexandra' 'Alexandra' 'Alexandra' 'Alexandra' 'Alexandra' 'Alexandra'\n",
      " 'Alexandra' 'Alexandra' 'Alexandra' 'Alexandra' 'Alexandra' 'Alexandra'\n",
      " 'Alexandra' 'Alexandra' 'Alexandra' 'Alexandra' 'Alexandra' 'Alexandra'\n",
      " 'Alexandra' 'Alexandra' 'Alex' 'Alex' 'Alex' 'Alex' 'Alex' 'Alex']\n"
     ]
    },
    {
     "name": "stderr",
     "output_type": "stream",
     "text": [
      "/opt/conda/lib/python3.10/site-packages/wildlife_tools/inference/classifier.py:61: FutureWarning: DataFrame.fillna with 'method' is deprecated and will raise in a future version. Use obj.ffill() or obj.bfill() instead.\n",
      "  results = pd.DataFrame(results).T.fillna(method=\"ffill\").T\n"
     ]
    }
   ],
   "source": [
    "classifier_P = KnnClassifier(k=1, database_labels=dataset_database_P.labels_string)\n",
    "predictions_P = classifier_P(similarity_P['cosine'])\n",
    "print(\"Predictions for 100 test Images:-\\n\",predictions_P)"
   ]
  },
  {
   "cell_type": "code",
   "execution_count": 40,
   "id": "4eb7f385",
   "metadata": {
    "execution": {
     "iopub.execute_input": "2024-08-06T09:02:18.092461Z",
     "iopub.status.busy": "2024-08-06T09:02:18.091642Z",
     "iopub.status.idle": "2024-08-06T09:02:18.097008Z",
     "shell.execute_reply": "2024-08-06T09:02:18.096207Z"
    },
    "papermill": {
     "duration": 0.369508,
     "end_time": "2024-08-06T09:02:18.099097",
     "exception": false,
     "start_time": "2024-08-06T09:02:17.729589",
     "status": "completed"
    },
    "tags": []
   },
   "outputs": [
    {
     "name": "stdout",
     "output_type": "stream",
     "text": [
      "Accuracy on CZoo data: 100.00%\n"
     ]
    }
   ],
   "source": [
    "accuracy_P = np.mean(dataset_query_P.labels_string == predictions_P)\n",
    "print(\"Accuracy on CZoo data: {:.2f}%\".format(accuracy_P * 100))"
   ]
  },
  {
   "cell_type": "code",
   "execution_count": 41,
   "id": "3fce233d",
   "metadata": {
    "execution": {
     "iopub.execute_input": "2024-08-06T09:02:18.809476Z",
     "iopub.status.busy": "2024-08-06T09:02:18.808870Z",
     "iopub.status.idle": "2024-08-06T09:02:18.824223Z",
     "shell.execute_reply": "2024-08-06T09:02:18.823211Z"
    },
    "papermill": {
     "duration": 0.370425,
     "end_time": "2024-08-06T09:02:18.826056",
     "exception": false,
     "start_time": "2024-08-06T09:02:18.455631",
     "status": "completed"
    },
    "tags": []
   },
   "outputs": [
    {
     "name": "stdout",
     "output_type": "stream",
     "text": [
      "Precision: 1.0\n",
      "Recall: 1.0\n",
      "F1 Score: 1.0\n"
     ]
    }
   ],
   "source": [
    "precision_P = precision_score(dataset_query_P.labels_string, predictions_P, average='weighted',zero_division=1)\n",
    "recall_P = recall_score(dataset_query_P.labels_string, predictions_P, average='weighted',zero_division=1)\n",
    "f1_P = f1_score(dataset_query_P.labels_string, predictions_P, average='weighted',zero_division=1)\n",
    "print(\"Precision:\", precision_P)\n",
    "print(\"Recall:\", recall_P)\n",
    "print(\"F1 Score:\", f1_P)"
   ]
  },
  {
   "cell_type": "markdown",
   "id": "e19d8951",
   "metadata": {
    "papermill": {
     "duration": 0.362011,
     "end_time": "2024-08-06T09:02:19.593304",
     "exception": false,
     "start_time": "2024-08-06T09:02:19.231293",
     "status": "completed"
    },
    "tags": []
   },
   "source": [
    "**CowDataset**"
   ]
  },
  {
   "cell_type": "code",
   "execution_count": 42,
   "id": "8d12bcbd",
   "metadata": {
    "execution": {
     "iopub.execute_input": "2024-08-06T09:02:20.304635Z",
     "iopub.status.busy": "2024-08-06T09:02:20.304272Z",
     "iopub.status.idle": "2024-08-06T10:18:37.332927Z",
     "shell.execute_reply": "2024-08-06T10:18:37.331666Z"
    },
    "papermill": {
     "duration": 4577.388053,
     "end_time": "2024-08-06T10:18:37.335180",
     "exception": false,
     "start_time": "2024-08-06T09:02:19.947127",
     "status": "completed"
    },
    "tags": []
   },
   "outputs": [
    {
     "name": "stdout",
     "output_type": "stream",
     "text": [
      "DATASET CowDataset: DOWNLOADING STARTED.\n"
     ]
    },
    {
     "name": "stderr",
     "output_type": "stream",
     "text": [
      "31210192: 4.45GB [02:34, 28.8MB/s]                            \n"
     ]
    },
    {
     "name": "stdout",
     "output_type": "stream",
     "text": [
      "DATASET CowDataset: EXTRACTING STARTED.\n",
      "DATASET CowDataset: FINISHED.\n",
      "\n"
     ]
    },
    {
     "name": "stderr",
     "output_type": "stream",
     "text": [
      "Epoch 0:   0%|                                                               | 0/12 [00:00<?, ?it/s]/opt/conda/lib/python3.10/multiprocessing/popen_fork.py:66: RuntimeWarning: os.fork() was called. os.fork() is incompatible with multithreaded code, and JAX is multithreaded, so this will likely lead to a deadlock.\n",
      "  self.pid = os.fork()\n",
      "Epoch 0: 100%|██████████████████████████████████████████████████████| 12/12 [03:20<00:00, 14.72s/it]/opt/conda/lib/python3.10/multiprocessing/popen_fork.py:66: RuntimeWarning: os.fork() was called. os.fork() is incompatible with multithreaded code, and JAX is multithreaded, so this will likely lead to a deadlock.\n",
      "  self.pid = os.fork()\n",
      "Epoch 0: 100%|██████████████████████████████████████████████████████| 12/12 [03:20<00:00, 16.72s/it]\n"
     ]
    },
    {
     "name": "stdout",
     "output_type": "stream",
     "text": [
      "Epoch 1: Average Loss = 0.2312423437833786\n"
     ]
    },
    {
     "name": "stderr",
     "output_type": "stream",
     "text": [
      "Epoch 1: 100%|██████████████████████████████████████████████████████| 12/12 [03:40<00:00, 18.36s/it]\n"
     ]
    },
    {
     "name": "stdout",
     "output_type": "stream",
     "text": [
      "Epoch 2: Average Loss = 0.20982694625854492\n"
     ]
    },
    {
     "name": "stderr",
     "output_type": "stream",
     "text": [
      "Epoch 2: 100%|██████████████████████████████████████████████████████| 12/12 [03:24<00:00, 17.07s/it]\n"
     ]
    },
    {
     "name": "stdout",
     "output_type": "stream",
     "text": [
      "Epoch 3: Average Loss = 0.19169063866138458\n"
     ]
    },
    {
     "name": "stderr",
     "output_type": "stream",
     "text": [
      "Epoch 3: 100%|██████████████████████████████████████████████████████| 12/12 [03:15<00:00, 16.33s/it]\n"
     ]
    },
    {
     "name": "stdout",
     "output_type": "stream",
     "text": [
      "Epoch 4: Average Loss = 0.17723111808300018\n"
     ]
    },
    {
     "name": "stderr",
     "output_type": "stream",
     "text": [
      "Epoch 4: 100%|██████████████████████████████████████████████████████| 12/12 [03:50<00:00, 19.19s/it]\n"
     ]
    },
    {
     "name": "stdout",
     "output_type": "stream",
     "text": [
      "Epoch 5: Average Loss = 0.16631506383419037\n"
     ]
    },
    {
     "name": "stderr",
     "output_type": "stream",
     "text": [
      "Epoch 5: 100%|██████████████████████████████████████████████████████| 12/12 [03:40<00:00, 18.34s/it]\n"
     ]
    },
    {
     "name": "stdout",
     "output_type": "stream",
     "text": [
      "Epoch 6: Average Loss = 0.16163554787635803\n"
     ]
    },
    {
     "name": "stderr",
     "output_type": "stream",
     "text": [
      "Epoch 6: 100%|██████████████████████████████████████████████████████| 12/12 [03:43<00:00, 18.65s/it]\n"
     ]
    },
    {
     "name": "stdout",
     "output_type": "stream",
     "text": [
      "Epoch 7: Average Loss = 0.16037890315055847\n"
     ]
    },
    {
     "name": "stderr",
     "output_type": "stream",
     "text": [
      "Epoch 7: 100%|██████████████████████████████████████████████████████| 12/12 [03:27<00:00, 17.33s/it]\n"
     ]
    },
    {
     "name": "stdout",
     "output_type": "stream",
     "text": [
      "Epoch 8: Average Loss = 0.15524519979953766\n"
     ]
    },
    {
     "name": "stderr",
     "output_type": "stream",
     "text": [
      "Epoch 8: 100%|██████████████████████████████████████████████████████| 12/12 [03:34<00:00, 17.87s/it]\n"
     ]
    },
    {
     "name": "stdout",
     "output_type": "stream",
     "text": [
      "Epoch 9: Average Loss = 0.14785249531269073\n"
     ]
    },
    {
     "name": "stderr",
     "output_type": "stream",
     "text": [
      "Epoch 9: 100%|██████████████████████████████████████████████████████| 12/12 [03:34<00:00, 17.89s/it]\n"
     ]
    },
    {
     "name": "stdout",
     "output_type": "stream",
     "text": [
      "Epoch 10: Average Loss = 0.14946775138378143\n"
     ]
    },
    {
     "name": "stderr",
     "output_type": "stream",
     "text": [
      "Epoch 10: 100%|█████████████████████████████████████████████████████| 12/12 [03:55<00:00, 19.61s/it]\n"
     ]
    },
    {
     "name": "stdout",
     "output_type": "stream",
     "text": [
      "Epoch 11: Average Loss = 0.1435682326555252\n"
     ]
    },
    {
     "name": "stderr",
     "output_type": "stream",
     "text": [
      "Epoch 11: 100%|█████████████████████████████████████████████████████| 12/12 [04:00<00:00, 20.01s/it]\n"
     ]
    },
    {
     "name": "stdout",
     "output_type": "stream",
     "text": [
      "Epoch 12: Average Loss = 0.13679139316082\n"
     ]
    },
    {
     "name": "stderr",
     "output_type": "stream",
     "text": [
      "Epoch 12: 100%|█████████████████████████████████████████████████████| 12/12 [03:39<00:00, 18.32s/it]\n"
     ]
    },
    {
     "name": "stdout",
     "output_type": "stream",
     "text": [
      "Epoch 13: Average Loss = 0.13060303032398224\n"
     ]
    },
    {
     "name": "stderr",
     "output_type": "stream",
     "text": [
      "Epoch 13: 100%|█████████████████████████████████████████████████████| 12/12 [03:44<00:00, 18.75s/it]\n"
     ]
    },
    {
     "name": "stdout",
     "output_type": "stream",
     "text": [
      "Epoch 14: Average Loss = 0.12313523888587952\n"
     ]
    },
    {
     "name": "stderr",
     "output_type": "stream",
     "text": [
      "Epoch 14: 100%|█████████████████████████████████████████████████████| 12/12 [03:32<00:00, 17.67s/it]\n"
     ]
    },
    {
     "name": "stdout",
     "output_type": "stream",
     "text": [
      "Epoch 15: Average Loss = 0.12053516507148743\n"
     ]
    },
    {
     "name": "stderr",
     "output_type": "stream",
     "text": [
      "Epoch 15: 100%|█████████████████████████████████████████████████████| 12/12 [03:38<00:00, 18.19s/it]\n"
     ]
    },
    {
     "name": "stdout",
     "output_type": "stream",
     "text": [
      "Epoch 16: Average Loss = 0.11956345289945602\n"
     ]
    },
    {
     "name": "stderr",
     "output_type": "stream",
     "text": [
      "Epoch 16: 100%|█████████████████████████████████████████████████████| 12/12 [03:33<00:00, 17.81s/it]\n"
     ]
    },
    {
     "name": "stdout",
     "output_type": "stream",
     "text": [
      "Epoch 17: Average Loss = 0.11411240696907043\n"
     ]
    },
    {
     "name": "stderr",
     "output_type": "stream",
     "text": [
      "Epoch 17: 100%|█████████████████████████████████████████████████████| 12/12 [04:00<00:00, 20.08s/it]\n"
     ]
    },
    {
     "name": "stdout",
     "output_type": "stream",
     "text": [
      "Epoch 18: Average Loss = 0.1191549301147461\n"
     ]
    },
    {
     "name": "stderr",
     "output_type": "stream",
     "text": [
      "Epoch 18: 100%|█████████████████████████████████████████████████████| 12/12 [03:44<00:00, 18.68s/it]\n"
     ]
    },
    {
     "name": "stdout",
     "output_type": "stream",
     "text": [
      "Epoch 19: Average Loss = 0.10949257761240005\n"
     ]
    },
    {
     "name": "stderr",
     "output_type": "stream",
     "text": [
      "Epoch 19: 100%|█████████████████████████████████████████████████████| 12/12 [03:59<00:00, 19.98s/it]"
     ]
    },
    {
     "name": "stdout",
     "output_type": "stream",
     "text": [
      "Epoch 20: Average Loss = 0.09842154383659363\n"
     ]
    },
    {
     "name": "stderr",
     "output_type": "stream",
     "text": [
      "\n"
     ]
    }
   ],
   "source": [
    "# Download dataset (if not already downloaded)\n",
    "datasets.CowDataset.get_data('../data/CowDataset')\n",
    "# Load dataset metadata\n",
    "metadata = datasets.CowDataset('../data/CowDataset')\n",
    "transform = T.Compose([T.Resize([224, 224]), T.ToTensor(), T.Normalize(mean=(0.485, 0.456, 0.406), std=(0.229, 0.224, 0.225))])\n",
    "dataset = WildlifeDataset(metadata.df, metadata.root, transform=transform)\n",
    "\n",
    "\n",
    "# Download MegaDescriptor-T backbone from HuggingFace Hub\n",
    "backbone = timm.create_model('hf-hub:BVRA/MegaDescriptor-T-224', num_classes=0, pretrained=True)\n",
    "\n",
    "# Arcface loss - needs backbone output size and number of classes.\n",
    "objective = TripletLoss()\n",
    "\n",
    "# Optimize parameters in backbone and in objective using single optimizer.\n",
    "params = itertools.chain(backbone.parameters(), objective.parameters())\n",
    "optimizer = SGD(params=params, lr=0.001, momentum=0.9)\n",
    "\n",
    "def print_epoch_loss(trainer, epoch_data):\n",
    "    # This function will print the average loss at the end of each epoch\n",
    "    print(f\"Epoch {trainer.epoch}: Average Loss = {epoch_data['train_loss_epoch_avg']}\")\n",
    "\n",
    "\n",
    "trainer = BasicTrainer(\n",
    "    dataset=dataset,\n",
    "    model=backbone,\n",
    "    objective=objective,\n",
    "    optimizer=optimizer,\n",
    "    epochs=20,\n",
    "    device='cuda',\n",
    "    epoch_callback=print_epoch_loss\n",
    ")\n",
    "\n",
    "trainer.train()"
   ]
  },
  {
   "cell_type": "code",
   "execution_count": 43,
   "id": "e830f992",
   "metadata": {
    "execution": {
     "iopub.execute_input": "2024-08-06T10:18:38.374666Z",
     "iopub.status.busy": "2024-08-06T10:18:38.374271Z",
     "iopub.status.idle": "2024-08-06T10:18:38.906328Z",
     "shell.execute_reply": "2024-08-06T10:18:38.905258Z"
    },
    "papermill": {
     "duration": 1.050001,
     "end_time": "2024-08-06T10:18:38.909008",
     "exception": false,
     "start_time": "2024-08-06T10:18:37.859007",
     "status": "completed"
    },
    "tags": []
   },
   "outputs": [],
   "source": [
    "import torch\n",
    "\n",
    "trainer.save(\"retrained_chks\", file_name=\"tripletloss_LionData_retrained_checkpoint.pth\")"
   ]
  },
  {
   "cell_type": "code",
   "execution_count": 44,
   "id": "75458779",
   "metadata": {
    "execution": {
     "iopub.execute_input": "2024-08-06T10:18:39.945283Z",
     "iopub.status.busy": "2024-08-06T10:18:39.944933Z",
     "iopub.status.idle": "2024-08-06T10:22:55.710059Z",
     "shell.execute_reply": "2024-08-06T10:22:55.708669Z"
    },
    "papermill": {
     "duration": 256.804265,
     "end_time": "2024-08-06T10:22:56.231132",
     "exception": false,
     "start_time": "2024-08-06T10:18:39.426867",
     "status": "completed"
    },
    "tags": []
   },
   "outputs": [
    {
     "name": "stderr",
     "output_type": "stream",
     "text": [
      "100%|█████████████████████████████████████████████████████████████████| 1/1 [00:16<00:00, 16.90s/it]\n",
      "100%|███████████████████████████████████████████████████████████████| 11/11 [03:58<00:00, 21.71s/it]"
     ]
    },
    {
     "name": "stdout",
     "output_type": "stream",
     "text": [
      "{'cosine': array([[ 0.01484122, -0.00933392,  0.20698497, ..., -0.01763014,\n",
      "         0.11606835,  0.10376152],\n",
      "       [-0.09437343, -0.04190393, -0.01942529, ..., -0.0908636 ,\n",
      "         0.13024493,  0.14800182],\n",
      "       [ 0.06803481,  0.09967951,  0.12267254, ...,  0.00362335,\n",
      "         0.04222474,  0.03644698],\n",
      "       ...,\n",
      "       [ 0.03624496, -0.03919508,  0.20521393, ..., -0.03770024,\n",
      "         0.15624198,  0.11048074],\n",
      "       [-0.10742251,  0.13220885, -0.0403563 , ...,  0.04033719,\n",
      "        -0.12071176, -0.14945063],\n",
      "       [-0.0043379 , -0.01744456, -0.01402217, ...,  0.14583501,\n",
      "         0.6626047 ,  0.7769567 ]], dtype=float32)}\n"
     ]
    },
    {
     "name": "stderr",
     "output_type": "stream",
     "text": [
      "\n"
     ]
    }
   ],
   "source": [
    "dataset_database_P = WildlifeDataset(metadata.df.iloc[100:,:], metadata.root, transform=transform)\n",
    "dataset_query_P = WildlifeDataset(metadata.df.iloc[:100,:], metadata.root, transform=transform)\n",
    "\n",
    "# name = 'hf-hub:BVRA/MegaDescriptor-T-224'\n",
    "extractor_P = DeepFeatures(trainer.model , device = 'cuda')\n",
    "\n",
    "query_P, database_P = extractor_P(dataset_query_P), extractor_P(dataset_database_P)\n",
    "\n",
    "\n",
    "similarity_function = CosineSimilarity()\n",
    "similarity_P = similarity_function(query_P, database_P)\n",
    "print(similarity_P)"
   ]
  },
  {
   "cell_type": "code",
   "execution_count": 45,
   "id": "7bb0fe85",
   "metadata": {
    "execution": {
     "iopub.execute_input": "2024-08-06T10:22:57.365895Z",
     "iopub.status.busy": "2024-08-06T10:22:57.365077Z",
     "iopub.status.idle": "2024-08-06T10:22:57.383925Z",
     "shell.execute_reply": "2024-08-06T10:22:57.382590Z"
    },
    "papermill": {
     "duration": 0.592218,
     "end_time": "2024-08-06T10:22:57.387091",
     "exception": false,
     "start_time": "2024-08-06T10:22:56.794873",
     "status": "completed"
    },
    "tags": []
   },
   "outputs": [
    {
     "name": "stdout",
     "output_type": "stream",
     "text": [
      "Predictions for 100 test Images:-\n",
      " ['2' '9' '2' '13' '1' '6' '4' '7' '1' '4' '10' '9' '13' '3' '6' '10' '6'\n",
      " '4' '2' '13' '6' '2' '2' '9' '8' '8' '4' '7' '2' '12' '6' '6' '2' '4' '5'\n",
      " '2' '7' '9' '4' '5' '9' '11' '1' '8' '8' '1' '9' '4' '3' '7' '12' '1' '2'\n",
      " '5' '5' '9' '4' '1' '10' '3' '11' '12' '5' '3' '6' '5' '5' '2' '7' '11'\n",
      " '8' '5' '3' '9' '8' '7' '2' '1' '11' '1' '6' '3' '12' '6' '3' '8' '10'\n",
      " '11' '7' '6' '1' '8' '6' '3' '11' '10' '10' '2' '3' '13']\n"
     ]
    },
    {
     "name": "stderr",
     "output_type": "stream",
     "text": [
      "/opt/conda/lib/python3.10/site-packages/wildlife_tools/inference/classifier.py:61: FutureWarning: DataFrame.fillna with 'method' is deprecated and will raise in a future version. Use obj.ffill() or obj.bfill() instead.\n",
      "  results = pd.DataFrame(results).T.fillna(method=\"ffill\").T\n"
     ]
    }
   ],
   "source": [
    "classifier_P = KnnClassifier(k=1, database_labels=dataset_database_P.labels_string)\n",
    "predictions_P = classifier_P(similarity_P['cosine'])\n",
    "print(\"Predictions for 100 test Images:-\\n\",predictions_P)"
   ]
  },
  {
   "cell_type": "code",
   "execution_count": 46,
   "id": "404e2a27",
   "metadata": {
    "execution": {
     "iopub.execute_input": "2024-08-06T10:22:58.597196Z",
     "iopub.status.busy": "2024-08-06T10:22:58.596788Z",
     "iopub.status.idle": "2024-08-06T10:22:58.602407Z",
     "shell.execute_reply": "2024-08-06T10:22:58.601568Z"
    },
    "papermill": {
     "duration": 0.575635,
     "end_time": "2024-08-06T10:22:58.605070",
     "exception": false,
     "start_time": "2024-08-06T10:22:58.029435",
     "status": "completed"
    },
    "tags": []
   },
   "outputs": [
    {
     "name": "stdout",
     "output_type": "stream",
     "text": [
      "Accuracy on CowDataset data: 100.00%\n"
     ]
    }
   ],
   "source": [
    "accuracy_P = np.mean(dataset_query_P.labels_string == predictions_P)\n",
    "print(\"Accuracy on CowDataset data: {:.2f}%\".format(accuracy_P * 100))"
   ]
  },
  {
   "cell_type": "code",
   "execution_count": 47,
   "id": "4a7bbe90",
   "metadata": {
    "execution": {
     "iopub.execute_input": "2024-08-06T10:22:59.707384Z",
     "iopub.status.busy": "2024-08-06T10:22:59.707020Z",
     "iopub.status.idle": "2024-08-06T10:22:59.722815Z",
     "shell.execute_reply": "2024-08-06T10:22:59.721750Z"
    },
    "papermill": {
     "duration": 0.566963,
     "end_time": "2024-08-06T10:22:59.725141",
     "exception": false,
     "start_time": "2024-08-06T10:22:59.158178",
     "status": "completed"
    },
    "tags": []
   },
   "outputs": [
    {
     "name": "stdout",
     "output_type": "stream",
     "text": [
      "Precision: 1.0\n",
      "Recall: 1.0\n",
      "F1 Score: 1.0\n"
     ]
    }
   ],
   "source": [
    "precision_P = precision_score(dataset_query_P.labels_string, predictions_P, average='weighted',zero_division=1)\n",
    "recall_P = recall_score(dataset_query_P.labels_string, predictions_P, average='weighted',zero_division=1)\n",
    "f1_P = f1_score(dataset_query_P.labels_string, predictions_P, average='weighted',zero_division=1)\n",
    "print(\"Precision:\", precision_P)\n",
    "print(\"Recall:\", recall_P)\n",
    "print(\"F1 Score:\", f1_P)"
   ]
  },
  {
   "cell_type": "markdown",
   "id": "26079919",
   "metadata": {
    "papermill": {
     "duration": 0.54427,
     "end_time": "2024-08-06T10:23:00.863413",
     "exception": false,
     "start_time": "2024-08-06T10:23:00.319143",
     "status": "completed"
    },
    "tags": []
   },
   "source": [
    "# **ON New Unseen Datasets**"
   ]
  },
  {
   "cell_type": "markdown",
   "id": "900d55f9",
   "metadata": {
    "papermill": {
     "duration": 0.557091,
     "end_time": "2024-08-06T10:23:02.004441",
     "exception": false,
     "start_time": "2024-08-06T10:23:01.447350",
     "status": "completed"
    },
    "tags": []
   },
   "source": [
    "**DogFaceNet Dataset**"
   ]
  },
  {
   "cell_type": "code",
   "execution_count": 48,
   "id": "ed76452b",
   "metadata": {
    "execution": {
     "iopub.execute_input": "2024-08-06T10:23:03.172481Z",
     "iopub.status.busy": "2024-08-06T10:23:03.172076Z",
     "iopub.status.idle": "2024-08-06T10:56:33.815314Z",
     "shell.execute_reply": "2024-08-06T10:56:33.813863Z"
    },
    "papermill": {
     "duration": 2011.175866,
     "end_time": "2024-08-06T10:56:33.818353",
     "exception": false,
     "start_time": "2024-08-06T10:23:02.642487",
     "status": "completed"
    },
    "tags": []
   },
   "outputs": [
    {
     "name": "stdout",
     "output_type": "stream",
     "text": [
      "DATASET DogFaceNet: DOWNLOADING STARTED.\n"
     ]
    },
    {
     "name": "stderr",
     "output_type": "stream",
     "text": [
      "DogFaceNet_Dataset_224_1.zip: 75.6MB [00:01, 66.8MB/s]                            \n"
     ]
    },
    {
     "name": "stdout",
     "output_type": "stream",
     "text": [
      "DATASET DogFaceNet: EXTRACTING STARTED.\n",
      "DATASET DogFaceNet: FINISHED.\n",
      "\n"
     ]
    },
    {
     "name": "stderr",
     "output_type": "stream",
     "text": [
      "Epoch 0:   0%|                                                               | 0/66 [00:00<?, ?it/s]/opt/conda/lib/python3.10/multiprocessing/popen_fork.py:66: RuntimeWarning: os.fork() was called. os.fork() is incompatible with multithreaded code, and JAX is multithreaded, so this will likely lead to a deadlock.\n",
      "  self.pid = os.fork()\n",
      "Epoch 0:  98%|█████████████████████████████████████████████████████▏| 65/66 [01:44<00:01,  1.59s/it]/opt/conda/lib/python3.10/multiprocessing/popen_fork.py:66: RuntimeWarning: os.fork() was called. os.fork() is incompatible with multithreaded code, and JAX is multithreaded, so this will likely lead to a deadlock.\n",
      "  self.pid = os.fork()\n",
      "Epoch 0: 100%|██████████████████████████████████████████████████████| 66/66 [01:44<00:00,  1.59s/it]\n"
     ]
    },
    {
     "name": "stdout",
     "output_type": "stream",
     "text": [
      "Epoch 1: Average Loss = 0.1704774647951126\n"
     ]
    },
    {
     "name": "stderr",
     "output_type": "stream",
     "text": [
      "Epoch 1: 100%|██████████████████████████████████████████████████████| 66/66 [01:43<00:00,  1.57s/it]\n"
     ]
    },
    {
     "name": "stdout",
     "output_type": "stream",
     "text": [
      "Epoch 2: Average Loss = 0.1661609709262848\n"
     ]
    },
    {
     "name": "stderr",
     "output_type": "stream",
     "text": [
      "Epoch 2: 100%|██████████████████████████████████████████████████████| 66/66 [01:42<00:00,  1.55s/it]\n"
     ]
    },
    {
     "name": "stdout",
     "output_type": "stream",
     "text": [
      "Epoch 3: Average Loss = 0.1511198729276657\n"
     ]
    },
    {
     "name": "stderr",
     "output_type": "stream",
     "text": [
      "Epoch 3: 100%|██████████████████████████████████████████████████████| 66/66 [01:41<00:00,  1.54s/it]\n"
     ]
    },
    {
     "name": "stdout",
     "output_type": "stream",
     "text": [
      "Epoch 4: Average Loss = 0.16151908040046692\n"
     ]
    },
    {
     "name": "stderr",
     "output_type": "stream",
     "text": [
      "Epoch 4: 100%|██████████████████████████████████████████████████████| 66/66 [01:41<00:00,  1.53s/it]\n"
     ]
    },
    {
     "name": "stdout",
     "output_type": "stream",
     "text": [
      "Epoch 5: Average Loss = 0.157036691904068\n"
     ]
    },
    {
     "name": "stderr",
     "output_type": "stream",
     "text": [
      "Epoch 5: 100%|██████████████████████████████████████████████████████| 66/66 [01:40<00:00,  1.53s/it]\n"
     ]
    },
    {
     "name": "stdout",
     "output_type": "stream",
     "text": [
      "Epoch 6: Average Loss = 0.1564379185438156\n"
     ]
    },
    {
     "name": "stderr",
     "output_type": "stream",
     "text": [
      "Epoch 6: 100%|██████████████████████████████████████████████████████| 66/66 [01:40<00:00,  1.53s/it]\n"
     ]
    },
    {
     "name": "stdout",
     "output_type": "stream",
     "text": [
      "Epoch 7: Average Loss = 0.15008144080638885\n"
     ]
    },
    {
     "name": "stderr",
     "output_type": "stream",
     "text": [
      "Epoch 7: 100%|██████████████████████████████████████████████████████| 66/66 [01:40<00:00,  1.52s/it]\n"
     ]
    },
    {
     "name": "stdout",
     "output_type": "stream",
     "text": [
      "Epoch 8: Average Loss = 0.15336225926876068\n"
     ]
    },
    {
     "name": "stderr",
     "output_type": "stream",
     "text": [
      "Epoch 8: 100%|██████████████████████████████████████████████████████| 66/66 [01:39<00:00,  1.51s/it]\n"
     ]
    },
    {
     "name": "stdout",
     "output_type": "stream",
     "text": [
      "Epoch 9: Average Loss = 0.1440126746892929\n"
     ]
    },
    {
     "name": "stderr",
     "output_type": "stream",
     "text": [
      "Epoch 9: 100%|██████████████████████████████████████████████████████| 66/66 [01:39<00:00,  1.51s/it]\n"
     ]
    },
    {
     "name": "stdout",
     "output_type": "stream",
     "text": [
      "Epoch 10: Average Loss = 0.14695869386196136\n"
     ]
    },
    {
     "name": "stderr",
     "output_type": "stream",
     "text": [
      "Epoch 10: 100%|█████████████████████████████████████████████████████| 66/66 [01:39<00:00,  1.51s/it]\n"
     ]
    },
    {
     "name": "stdout",
     "output_type": "stream",
     "text": [
      "Epoch 11: Average Loss = 0.14193256199359894\n"
     ]
    },
    {
     "name": "stderr",
     "output_type": "stream",
     "text": [
      "Epoch 11: 100%|█████████████████████████████████████████████████████| 66/66 [01:39<00:00,  1.50s/it]\n"
     ]
    },
    {
     "name": "stdout",
     "output_type": "stream",
     "text": [
      "Epoch 12: Average Loss = 0.13427197933197021\n"
     ]
    },
    {
     "name": "stderr",
     "output_type": "stream",
     "text": [
      "Epoch 12: 100%|█████████████████████████████████████████████████████| 66/66 [01:39<00:00,  1.50s/it]\n"
     ]
    },
    {
     "name": "stdout",
     "output_type": "stream",
     "text": [
      "Epoch 13: Average Loss = 0.13782915472984314\n"
     ]
    },
    {
     "name": "stderr",
     "output_type": "stream",
     "text": [
      "Epoch 13: 100%|█████████████████████████████████████████████████████| 66/66 [01:39<00:00,  1.51s/it]\n"
     ]
    },
    {
     "name": "stdout",
     "output_type": "stream",
     "text": [
      "Epoch 14: Average Loss = 0.14093586802482605\n"
     ]
    },
    {
     "name": "stderr",
     "output_type": "stream",
     "text": [
      "Epoch 14: 100%|█████████████████████████████████████████████████████| 66/66 [01:38<00:00,  1.50s/it]\n"
     ]
    },
    {
     "name": "stdout",
     "output_type": "stream",
     "text": [
      "Epoch 15: Average Loss = 0.12491215765476227\n"
     ]
    },
    {
     "name": "stderr",
     "output_type": "stream",
     "text": [
      "Epoch 15: 100%|█████████████████████████████████████████████████████| 66/66 [01:38<00:00,  1.50s/it]\n"
     ]
    },
    {
     "name": "stdout",
     "output_type": "stream",
     "text": [
      "Epoch 16: Average Loss = 0.13430869579315186\n"
     ]
    },
    {
     "name": "stderr",
     "output_type": "stream",
     "text": [
      "Epoch 16: 100%|█████████████████████████████████████████████████████| 66/66 [01:39<00:00,  1.50s/it]\n"
     ]
    },
    {
     "name": "stdout",
     "output_type": "stream",
     "text": [
      "Epoch 17: Average Loss = 0.13134407997131348\n"
     ]
    },
    {
     "name": "stderr",
     "output_type": "stream",
     "text": [
      "Epoch 17: 100%|█████████████████████████████████████████████████████| 66/66 [01:39<00:00,  1.50s/it]\n"
     ]
    },
    {
     "name": "stdout",
     "output_type": "stream",
     "text": [
      "Epoch 18: Average Loss = 0.1360481083393097\n"
     ]
    },
    {
     "name": "stderr",
     "output_type": "stream",
     "text": [
      "Epoch 18: 100%|█████████████████████████████████████████████████████| 66/66 [01:38<00:00,  1.50s/it]\n"
     ]
    },
    {
     "name": "stdout",
     "output_type": "stream",
     "text": [
      "Epoch 19: Average Loss = 0.1322341412305832\n"
     ]
    },
    {
     "name": "stderr",
     "output_type": "stream",
     "text": [
      "Epoch 19: 100%|█████████████████████████████████████████████████████| 66/66 [01:38<00:00,  1.50s/it]"
     ]
    },
    {
     "name": "stdout",
     "output_type": "stream",
     "text": [
      "Epoch 20: Average Loss = 0.1358930617570877\n"
     ]
    },
    {
     "name": "stderr",
     "output_type": "stream",
     "text": [
      "\n"
     ]
    }
   ],
   "source": [
    "# Download dataset (if not already downloaded)\n",
    "datasets.DogFaceNet.get_data('../data/DogFaceNet')\n",
    "\n",
    "# Load dataset metadata\n",
    "metadata = datasets.DogFaceNet('../data/DogFaceNet')\n",
    "transform = T.Compose([T.Resize([224, 224]), T.ToTensor(), T.Normalize(mean=(0.485, 0.456, 0.406), std=(0.229, 0.224, 0.225))])\n",
    "dataset = WildlifeDataset(metadata.df, metadata.root, transform=transform)\n",
    "\n",
    "\n",
    "# Download MegaDescriptor-T backbone from HuggingFace Hub\n",
    "backbone = timm.create_model('hf-hub:BVRA/MegaDescriptor-T-224', num_classes=0, pretrained=True)\n",
    "\n",
    "# Arcface loss - needs backbone output size and number of classes.\n",
    "objective = TripletLoss()\n",
    "\n",
    "# Optimize parameters in backbone and in objective using single optimizer.\n",
    "params = itertools.chain(backbone.parameters(), objective.parameters())\n",
    "optimizer = SGD(params=params, lr=0.001, momentum=0.9)\n",
    "\n",
    "def print_epoch_loss(trainer, epoch_data):\n",
    "    # This function will print the average loss at the end of each epoch\n",
    "    print(f\"Epoch {trainer.epoch}: Average Loss = {epoch_data['train_loss_epoch_avg']}\")\n",
    "\n",
    "\n",
    "trainer = BasicTrainer(\n",
    "    dataset=dataset,\n",
    "    model=backbone,\n",
    "    objective=objective,\n",
    "    optimizer=optimizer,\n",
    "    epochs=20,\n",
    "    device='cuda',\n",
    "    epoch_callback=print_epoch_loss\n",
    ")\n",
    "\n",
    "trainer.train()"
   ]
  },
  {
   "cell_type": "code",
   "execution_count": 49,
   "id": "2df0e8ed",
   "metadata": {
    "execution": {
     "iopub.execute_input": "2024-08-06T10:56:35.370379Z",
     "iopub.status.busy": "2024-08-06T10:56:35.369427Z",
     "iopub.status.idle": "2024-08-06T10:56:35.761154Z",
     "shell.execute_reply": "2024-08-06T10:56:35.760177Z"
    },
    "papermill": {
     "duration": 1.221543,
     "end_time": "2024-08-06T10:56:35.763767",
     "exception": false,
     "start_time": "2024-08-06T10:56:34.542224",
     "status": "completed"
    },
    "tags": []
   },
   "outputs": [],
   "source": [
    "import torch\n",
    "\n",
    "trainer.save(\"retrained_chks\", file_name=\"tripletloss_DogFaceNet_retrained_checkpoint.pth\")"
   ]
  },
  {
   "cell_type": "code",
   "execution_count": 50,
   "id": "e85a2b24",
   "metadata": {
    "execution": {
     "iopub.execute_input": "2024-08-06T10:56:37.273179Z",
     "iopub.status.busy": "2024-08-06T10:56:37.272781Z",
     "iopub.status.idle": "2024-08-06T10:57:16.879988Z",
     "shell.execute_reply": "2024-08-06T10:57:16.878387Z"
    },
    "papermill": {
     "duration": 40.356753,
     "end_time": "2024-08-06T10:57:16.882341",
     "exception": false,
     "start_time": "2024-08-06T10:56:36.525588",
     "status": "completed"
    },
    "tags": []
   },
   "outputs": [
    {
     "name": "stderr",
     "output_type": "stream",
     "text": [
      "100%|█████████████████████████████████████████████████████████████████| 1/1 [00:00<00:00,  1.08it/s]\n",
      "100%|███████████████████████████████████████████████████████████████| 65/65 [00:38<00:00,  1.68it/s]\n"
     ]
    }
   ],
   "source": [
    "dataset_database_P = WildlifeDataset(metadata.df.iloc[100:,:], metadata.root, transform=transform)\n",
    "dataset_query_P = WildlifeDataset(metadata.df.iloc[:100,:], metadata.root, transform=transform)\n",
    "\n",
    "# name = 'hf-hub:BVRA/MegaDescriptor-T-224'\n",
    "extractor_P = DeepFeatures(trainer.model , device = 'cuda')\n",
    "\n",
    "query_P, database_P = extractor_P(dataset_query_P), extractor_P(dataset_database_P)\n"
   ]
  },
  {
   "cell_type": "code",
   "execution_count": 51,
   "id": "ac629203",
   "metadata": {
    "execution": {
     "iopub.execute_input": "2024-08-06T10:57:18.345080Z",
     "iopub.status.busy": "2024-08-06T10:57:18.344631Z",
     "iopub.status.idle": "2024-08-06T10:57:18.391375Z",
     "shell.execute_reply": "2024-08-06T10:57:18.389756Z"
    },
    "papermill": {
     "duration": 0.828194,
     "end_time": "2024-08-06T10:57:18.393846",
     "exception": false,
     "start_time": "2024-08-06T10:57:17.565652",
     "status": "completed"
    },
    "tags": []
   },
   "outputs": [
    {
     "name": "stdout",
     "output_type": "stream",
     "text": [
      "{'cosine': array([[ 0.04244501,  0.4237255 , -0.00557632, ...,  0.38746178,\n",
      "         0.41110587, -0.04455552],\n",
      "       [-0.08577716, -0.00877863,  0.04336447, ...,  0.18823624,\n",
      "         0.13756146, -0.02631321],\n",
      "       [-0.03869987, -0.23981205,  0.15198198, ...,  0.02533266,\n",
      "         0.12911275,  0.20736074],\n",
      "       ...,\n",
      "       [ 0.26885834,  0.03710634,  0.20746723, ...,  0.21898195,\n",
      "        -0.07853767,  0.3082709 ],\n",
      "       [-0.05053294,  0.30906096, -0.14614153, ...,  0.22894101,\n",
      "         0.37267512,  0.01802698],\n",
      "       [ 0.00765296,  0.2877312 , -0.06552657, ...,  0.28065103,\n",
      "         0.3680476 , -0.04660582]], dtype=float32)}\n"
     ]
    }
   ],
   "source": [
    "similarity_function = CosineSimilarity()\n",
    "similarity_P = similarity_function(query_P, database_P)\n",
    "print(similarity_P)"
   ]
  },
  {
   "cell_type": "code",
   "execution_count": 52,
   "id": "63c12aef",
   "metadata": {
    "execution": {
     "iopub.execute_input": "2024-08-06T10:57:19.725208Z",
     "iopub.status.busy": "2024-08-06T10:57:19.724826Z",
     "iopub.status.idle": "2024-08-06T10:57:19.754155Z",
     "shell.execute_reply": "2024-08-06T10:57:19.752673Z"
    },
    "papermill": {
     "duration": 0.688907,
     "end_time": "2024-08-06T10:57:19.756811",
     "exception": false,
     "start_time": "2024-08-06T10:57:19.067904",
     "status": "completed"
    },
    "tags": []
   },
   "outputs": [
    {
     "name": "stdout",
     "output_type": "stream",
     "text": [
      "Predictions for 100 test Images:-\n",
      " ['884' '182' '919' '1122' '428' '378' '1063' '585' '470' '405' '764' '17'\n",
      " '1025' '1339' '432' '673' '1075' '274' '296' '234' '1272' '991' '485'\n",
      " '425' '280' '407' '258' '1248' '446' '815' '892' '448' '240' '251' '448'\n",
      " '930' '321' '210' '345' '763' '622' '1324' '158' '127' '512' '1254'\n",
      " '1139' '208' '608' '424' '293' '415' '825' '147' '373' '192' '333' '333'\n",
      " '1314' '957' '329' '89' '189' '100' '122' '631' '491' '646' '26' '1133'\n",
      " '878' '673' '174' '447' '1169' '458' '473' '149' '373' '622' '540' '919'\n",
      " '589' '913' '782' '1357' '361' '482' '1324' '953' '183' '200' '299' '191'\n",
      " '397' '187' '270' '563' '1020' '1074']\n"
     ]
    },
    {
     "name": "stderr",
     "output_type": "stream",
     "text": [
      "/opt/conda/lib/python3.10/site-packages/wildlife_tools/inference/classifier.py:61: FutureWarning: DataFrame.fillna with 'method' is deprecated and will raise in a future version. Use obj.ffill() or obj.bfill() instead.\n",
      "  results = pd.DataFrame(results).T.fillna(method=\"ffill\").T\n"
     ]
    }
   ],
   "source": [
    "classifier_P = KnnClassifier(k=1, database_labels=dataset_database_P.labels_string)\n",
    "predictions_P = classifier_P(similarity_P['cosine'])\n",
    "print(\"Predictions for 100 test Images:-\\n\",predictions_P)"
   ]
  },
  {
   "cell_type": "code",
   "execution_count": 53,
   "id": "4b59f8af",
   "metadata": {
    "execution": {
     "iopub.execute_input": "2024-08-06T10:57:21.117678Z",
     "iopub.status.busy": "2024-08-06T10:57:21.117284Z",
     "iopub.status.idle": "2024-08-06T10:57:21.123399Z",
     "shell.execute_reply": "2024-08-06T10:57:21.122399Z"
    },
    "papermill": {
     "duration": 0.681699,
     "end_time": "2024-08-06T10:57:21.125525",
     "exception": false,
     "start_time": "2024-08-06T10:57:20.443826",
     "status": "completed"
    },
    "tags": []
   },
   "outputs": [
    {
     "name": "stdout",
     "output_type": "stream",
     "text": [
      "Accuracy on DogFaceNet data: 83.00%\n"
     ]
    }
   ],
   "source": [
    "accuracy_P = np.mean(dataset_query_P.labels_string == predictions_P)\n",
    "print(\"Accuracy on DogFaceNet data: {:.2f}%\".format(accuracy_P * 100))"
   ]
  },
  {
   "cell_type": "code",
   "execution_count": 54,
   "id": "bde02bd0",
   "metadata": {
    "execution": {
     "iopub.execute_input": "2024-08-06T10:57:22.531878Z",
     "iopub.status.busy": "2024-08-06T10:57:22.530929Z",
     "iopub.status.idle": "2024-08-06T10:57:22.553134Z",
     "shell.execute_reply": "2024-08-06T10:57:22.551950Z"
    },
    "papermill": {
     "duration": 0.696456,
     "end_time": "2024-08-06T10:57:22.555650",
     "exception": false,
     "start_time": "2024-08-06T10:57:21.859194",
     "status": "completed"
    },
    "tags": []
   },
   "outputs": [
    {
     "name": "stdout",
     "output_type": "stream",
     "text": [
      "Precision: 1.0\n",
      "Recall: 0.83\n",
      "F1 Score: 0.8333333333333335\n"
     ]
    }
   ],
   "source": [
    "precision_P = precision_score(dataset_query_P.labels_string, predictions_P, average='weighted',zero_division=1)\n",
    "recall_P = recall_score(dataset_query_P.labels_string, predictions_P, average='weighted',zero_division=1)\n",
    "f1_P = f1_score(dataset_query_P.labels_string, predictions_P, average='weighted',zero_division=1)\n",
    "print(\"Precision:\", precision_P)\n",
    "print(\"Recall:\", recall_P)\n",
    "print(\"F1 Score:\", f1_P)"
   ]
  },
  {
   "cell_type": "code",
   "execution_count": null,
   "id": "d38a56c5",
   "metadata": {
    "papermill": {
     "duration": 0.675342,
     "end_time": "2024-08-06T10:57:23.972799",
     "exception": false,
     "start_time": "2024-08-06T10:57:23.297457",
     "status": "completed"
    },
    "tags": []
   },
   "outputs": [],
   "source": []
  }
 ],
 "metadata": {
  "kaggle": {
   "accelerator": "nvidiaTeslaT4",
   "dataSources": [],
   "isGpuEnabled": true,
   "isInternetEnabled": true,
   "language": "python",
   "sourceType": "notebook"
  },
  "kernelspec": {
   "display_name": "Python 3",
   "language": "python",
   "name": "python3"
  },
  "language_info": {
   "codemirror_mode": {
    "name": "ipython",
    "version": 3
   },
   "file_extension": ".py",
   "mimetype": "text/x-python",
   "name": "python",
   "nbconvert_exporter": "python",
   "pygments_lexer": "ipython3",
   "version": "3.10.13"
  },
  "papermill": {
   "default_parameters": {},
   "duration": 12849.225853,
   "end_time": "2024-08-06T10:57:27.883134",
   "environment_variables": {},
   "exception": null,
   "input_path": "__notebook__.ipynb",
   "output_path": "__notebook__.ipynb",
   "parameters": {},
   "start_time": "2024-08-06T07:23:18.657281",
   "version": "2.5.0"
  },
  "widgets": {
   "application/vnd.jupyter.widget-state+json": {
    "state": {
     "11872d1c578b4875b2462190654deec8": {
      "model_module": "@jupyter-widgets/base",
      "model_module_version": "1.2.0",
      "model_name": "LayoutModel",
      "state": {
       "_model_module": "@jupyter-widgets/base",
       "_model_module_version": "1.2.0",
       "_model_name": "LayoutModel",
       "_view_count": null,
       "_view_module": "@jupyter-widgets/base",
       "_view_module_version": "1.2.0",
       "_view_name": "LayoutView",
       "align_content": null,
       "align_items": null,
       "align_self": null,
       "border": null,
       "bottom": null,
       "display": null,
       "flex": null,
       "flex_flow": null,
       "grid_area": null,
       "grid_auto_columns": null,
       "grid_auto_flow": null,
       "grid_auto_rows": null,
       "grid_column": null,
       "grid_gap": null,
       "grid_row": null,
       "grid_template_areas": null,
       "grid_template_columns": null,
       "grid_template_rows": null,
       "height": null,
       "justify_content": null,
       "justify_items": null,
       "left": null,
       "margin": null,
       "max_height": null,
       "max_width": null,
       "min_height": null,
       "min_width": null,
       "object_fit": null,
       "object_position": null,
       "order": null,
       "overflow": null,
       "overflow_x": null,
       "overflow_y": null,
       "padding": null,
       "right": null,
       "top": null,
       "visibility": null,
       "width": null
      }
     },
     "4112118f60124884b3475557d3c41b9a": {
      "model_module": "@jupyter-widgets/controls",
      "model_module_version": "1.5.0",
      "model_name": "FloatProgressModel",
      "state": {
       "_dom_classes": [],
       "_model_module": "@jupyter-widgets/controls",
       "_model_module_version": "1.5.0",
       "_model_name": "FloatProgressModel",
       "_view_count": null,
       "_view_module": "@jupyter-widgets/controls",
       "_view_module_version": "1.5.0",
       "_view_name": "ProgressView",
       "bar_style": "success",
       "description": "",
       "description_tooltip": null,
       "layout": "IPY_MODEL_78479ff9c1734cf9b4934be7686973cd",
       "max": 204267588.0,
       "min": 0.0,
       "orientation": "horizontal",
       "style": "IPY_MODEL_8cd4a9f540304e25b35016d449337d9e",
       "value": 204267588.0
      }
     },
     "4500e18d63014d30a6c49d1ad4338e78": {
      "model_module": "@jupyter-widgets/controls",
      "model_module_version": "1.5.0",
      "model_name": "HBoxModel",
      "state": {
       "_dom_classes": [],
       "_model_module": "@jupyter-widgets/controls",
       "_model_module_version": "1.5.0",
       "_model_name": "HBoxModel",
       "_view_count": null,
       "_view_module": "@jupyter-widgets/controls",
       "_view_module_version": "1.5.0",
       "_view_name": "HBoxView",
       "box_style": "",
       "children": [
        "IPY_MODEL_8f952e53c9d34de188e33f97d1419b8d",
        "IPY_MODEL_4112118f60124884b3475557d3c41b9a",
        "IPY_MODEL_d89a45e4083448e48eb5e790bdfa6a0b"
       ],
       "layout": "IPY_MODEL_d424e7c5c7b44978bd410e823d257705"
      }
     },
     "4f25d7e24b8a404382853620d471fc6b": {
      "model_module": "@jupyter-widgets/base",
      "model_module_version": "1.2.0",
      "model_name": "LayoutModel",
      "state": {
       "_model_module": "@jupyter-widgets/base",
       "_model_module_version": "1.2.0",
       "_model_name": "LayoutModel",
       "_view_count": null,
       "_view_module": "@jupyter-widgets/base",
       "_view_module_version": "1.2.0",
       "_view_name": "LayoutView",
       "align_content": null,
       "align_items": null,
       "align_self": null,
       "border": null,
       "bottom": null,
       "display": null,
       "flex": null,
       "flex_flow": null,
       "grid_area": null,
       "grid_auto_columns": null,
       "grid_auto_flow": null,
       "grid_auto_rows": null,
       "grid_column": null,
       "grid_gap": null,
       "grid_row": null,
       "grid_template_areas": null,
       "grid_template_columns": null,
       "grid_template_rows": null,
       "height": null,
       "justify_content": null,
       "justify_items": null,
       "left": null,
       "margin": null,
       "max_height": null,
       "max_width": null,
       "min_height": null,
       "min_width": null,
       "object_fit": null,
       "object_position": null,
       "order": null,
       "overflow": null,
       "overflow_x": null,
       "overflow_y": null,
       "padding": null,
       "right": null,
       "top": null,
       "visibility": null,
       "width": null
      }
     },
     "576a4a98f2474051a269320522d148a6": {
      "model_module": "@jupyter-widgets/base",
      "model_module_version": "1.2.0",
      "model_name": "LayoutModel",
      "state": {
       "_model_module": "@jupyter-widgets/base",
       "_model_module_version": "1.2.0",
       "_model_name": "LayoutModel",
       "_view_count": null,
       "_view_module": "@jupyter-widgets/base",
       "_view_module_version": "1.2.0",
       "_view_name": "LayoutView",
       "align_content": null,
       "align_items": null,
       "align_self": null,
       "border": null,
       "bottom": null,
       "display": null,
       "flex": null,
       "flex_flow": null,
       "grid_area": null,
       "grid_auto_columns": null,
       "grid_auto_flow": null,
       "grid_auto_rows": null,
       "grid_column": null,
       "grid_gap": null,
       "grid_row": null,
       "grid_template_areas": null,
       "grid_template_columns": null,
       "grid_template_rows": null,
       "height": null,
       "justify_content": null,
       "justify_items": null,
       "left": null,
       "margin": null,
       "max_height": null,
       "max_width": null,
       "min_height": null,
       "min_width": null,
       "object_fit": null,
       "object_position": null,
       "order": null,
       "overflow": null,
       "overflow_x": null,
       "overflow_y": null,
       "padding": null,
       "right": null,
       "top": null,
       "visibility": null,
       "width": null
      }
     },
     "5a4854eae9004185905f03727efcd0f6": {
      "model_module": "@jupyter-widgets/controls",
      "model_module_version": "1.5.0",
      "model_name": "HTMLModel",
      "state": {
       "_dom_classes": [],
       "_model_module": "@jupyter-widgets/controls",
       "_model_module_version": "1.5.0",
       "_model_name": "HTMLModel",
       "_view_count": null,
       "_view_module": "@jupyter-widgets/controls",
       "_view_module_version": "1.5.0",
       "_view_name": "HTMLView",
       "description": "",
       "description_tooltip": null,
       "layout": "IPY_MODEL_11872d1c578b4875b2462190654deec8",
       "placeholder": "​",
       "style": "IPY_MODEL_70d7f2a34d1c4bd183ed8e8ec544ce30",
       "value": "config.json: 100%"
      }
     },
     "5c34b66de822413ba07b8dade4c3e372": {
      "model_module": "@jupyter-widgets/base",
      "model_module_version": "1.2.0",
      "model_name": "LayoutModel",
      "state": {
       "_model_module": "@jupyter-widgets/base",
       "_model_module_version": "1.2.0",
       "_model_name": "LayoutModel",
       "_view_count": null,
       "_view_module": "@jupyter-widgets/base",
       "_view_module_version": "1.2.0",
       "_view_name": "LayoutView",
       "align_content": null,
       "align_items": null,
       "align_self": null,
       "border": null,
       "bottom": null,
       "display": null,
       "flex": null,
       "flex_flow": null,
       "grid_area": null,
       "grid_auto_columns": null,
       "grid_auto_flow": null,
       "grid_auto_rows": null,
       "grid_column": null,
       "grid_gap": null,
       "grid_row": null,
       "grid_template_areas": null,
       "grid_template_columns": null,
       "grid_template_rows": null,
       "height": null,
       "justify_content": null,
       "justify_items": null,
       "left": null,
       "margin": null,
       "max_height": null,
       "max_width": null,
       "min_height": null,
       "min_width": null,
       "object_fit": null,
       "object_position": null,
       "order": null,
       "overflow": null,
       "overflow_x": null,
       "overflow_y": null,
       "padding": null,
       "right": null,
       "top": null,
       "visibility": null,
       "width": null
      }
     },
     "69fc4ef495ab45dd886e1e18f6940f51": {
      "model_module": "@jupyter-widgets/controls",
      "model_module_version": "1.5.0",
      "model_name": "ProgressStyleModel",
      "state": {
       "_model_module": "@jupyter-widgets/controls",
       "_model_module_version": "1.5.0",
       "_model_name": "ProgressStyleModel",
       "_view_count": null,
       "_view_module": "@jupyter-widgets/base",
       "_view_module_version": "1.2.0",
       "_view_name": "StyleView",
       "bar_color": null,
       "description_width": ""
      }
     },
     "70d7f2a34d1c4bd183ed8e8ec544ce30": {
      "model_module": "@jupyter-widgets/controls",
      "model_module_version": "1.5.0",
      "model_name": "DescriptionStyleModel",
      "state": {
       "_model_module": "@jupyter-widgets/controls",
       "_model_module_version": "1.5.0",
       "_model_name": "DescriptionStyleModel",
       "_view_count": null,
       "_view_module": "@jupyter-widgets/base",
       "_view_module_version": "1.2.0",
       "_view_name": "StyleView",
       "description_width": ""
      }
     },
     "78479ff9c1734cf9b4934be7686973cd": {
      "model_module": "@jupyter-widgets/base",
      "model_module_version": "1.2.0",
      "model_name": "LayoutModel",
      "state": {
       "_model_module": "@jupyter-widgets/base",
       "_model_module_version": "1.2.0",
       "_model_name": "LayoutModel",
       "_view_count": null,
       "_view_module": "@jupyter-widgets/base",
       "_view_module_version": "1.2.0",
       "_view_name": "LayoutView",
       "align_content": null,
       "align_items": null,
       "align_self": null,
       "border": null,
       "bottom": null,
       "display": null,
       "flex": null,
       "flex_flow": null,
       "grid_area": null,
       "grid_auto_columns": null,
       "grid_auto_flow": null,
       "grid_auto_rows": null,
       "grid_column": null,
       "grid_gap": null,
       "grid_row": null,
       "grid_template_areas": null,
       "grid_template_columns": null,
       "grid_template_rows": null,
       "height": null,
       "justify_content": null,
       "justify_items": null,
       "left": null,
       "margin": null,
       "max_height": null,
       "max_width": null,
       "min_height": null,
       "min_width": null,
       "object_fit": null,
       "object_position": null,
       "order": null,
       "overflow": null,
       "overflow_x": null,
       "overflow_y": null,
       "padding": null,
       "right": null,
       "top": null,
       "visibility": null,
       "width": null
      }
     },
     "81dd75335b5442e9875be1495b6493dc": {
      "model_module": "@jupyter-widgets/controls",
      "model_module_version": "1.5.0",
      "model_name": "FloatProgressModel",
      "state": {
       "_dom_classes": [],
       "_model_module": "@jupyter-widgets/controls",
       "_model_module_version": "1.5.0",
       "_model_name": "FloatProgressModel",
       "_view_count": null,
       "_view_module": "@jupyter-widgets/controls",
       "_view_module_version": "1.5.0",
       "_view_name": "ProgressView",
       "bar_style": "success",
       "description": "",
       "description_tooltip": null,
       "layout": "IPY_MODEL_fe72208fd43f4b42a3021156d64ae5d6",
       "max": 609.0,
       "min": 0.0,
       "orientation": "horizontal",
       "style": "IPY_MODEL_69fc4ef495ab45dd886e1e18f6940f51",
       "value": 609.0
      }
     },
     "8cd4a9f540304e25b35016d449337d9e": {
      "model_module": "@jupyter-widgets/controls",
      "model_module_version": "1.5.0",
      "model_name": "ProgressStyleModel",
      "state": {
       "_model_module": "@jupyter-widgets/controls",
       "_model_module_version": "1.5.0",
       "_model_name": "ProgressStyleModel",
       "_view_count": null,
       "_view_module": "@jupyter-widgets/base",
       "_view_module_version": "1.2.0",
       "_view_name": "StyleView",
       "bar_color": null,
       "description_width": ""
      }
     },
     "8f952e53c9d34de188e33f97d1419b8d": {
      "model_module": "@jupyter-widgets/controls",
      "model_module_version": "1.5.0",
      "model_name": "HTMLModel",
      "state": {
       "_dom_classes": [],
       "_model_module": "@jupyter-widgets/controls",
       "_model_module_version": "1.5.0",
       "_model_name": "HTMLModel",
       "_view_count": null,
       "_view_module": "@jupyter-widgets/controls",
       "_view_module_version": "1.5.0",
       "_view_name": "HTMLView",
       "description": "",
       "description_tooltip": null,
       "layout": "IPY_MODEL_4f25d7e24b8a404382853620d471fc6b",
       "placeholder": "​",
       "style": "IPY_MODEL_b974df85f757458ab77f34160f7b0e6c",
       "value": "pytorch_model.bin: 100%"
      }
     },
     "b26c417171f74f3fb5c0b2fcf03fa904": {
      "model_module": "@jupyter-widgets/controls",
      "model_module_version": "1.5.0",
      "model_name": "DescriptionStyleModel",
      "state": {
       "_model_module": "@jupyter-widgets/controls",
       "_model_module_version": "1.5.0",
       "_model_name": "DescriptionStyleModel",
       "_view_count": null,
       "_view_module": "@jupyter-widgets/base",
       "_view_module_version": "1.2.0",
       "_view_name": "StyleView",
       "description_width": ""
      }
     },
     "b974df85f757458ab77f34160f7b0e6c": {
      "model_module": "@jupyter-widgets/controls",
      "model_module_version": "1.5.0",
      "model_name": "DescriptionStyleModel",
      "state": {
       "_model_module": "@jupyter-widgets/controls",
       "_model_module_version": "1.5.0",
       "_model_name": "DescriptionStyleModel",
       "_view_count": null,
       "_view_module": "@jupyter-widgets/base",
       "_view_module_version": "1.2.0",
       "_view_name": "StyleView",
       "description_width": ""
      }
     },
     "bb78624578a547829b8e8ae0d8eb8f87": {
      "model_module": "@jupyter-widgets/controls",
      "model_module_version": "1.5.0",
      "model_name": "DescriptionStyleModel",
      "state": {
       "_model_module": "@jupyter-widgets/controls",
       "_model_module_version": "1.5.0",
       "_model_name": "DescriptionStyleModel",
       "_view_count": null,
       "_view_module": "@jupyter-widgets/base",
       "_view_module_version": "1.2.0",
       "_view_name": "StyleView",
       "description_width": ""
      }
     },
     "d424e7c5c7b44978bd410e823d257705": {
      "model_module": "@jupyter-widgets/base",
      "model_module_version": "1.2.0",
      "model_name": "LayoutModel",
      "state": {
       "_model_module": "@jupyter-widgets/base",
       "_model_module_version": "1.2.0",
       "_model_name": "LayoutModel",
       "_view_count": null,
       "_view_module": "@jupyter-widgets/base",
       "_view_module_version": "1.2.0",
       "_view_name": "LayoutView",
       "align_content": null,
       "align_items": null,
       "align_self": null,
       "border": null,
       "bottom": null,
       "display": null,
       "flex": null,
       "flex_flow": null,
       "grid_area": null,
       "grid_auto_columns": null,
       "grid_auto_flow": null,
       "grid_auto_rows": null,
       "grid_column": null,
       "grid_gap": null,
       "grid_row": null,
       "grid_template_areas": null,
       "grid_template_columns": null,
       "grid_template_rows": null,
       "height": null,
       "justify_content": null,
       "justify_items": null,
       "left": null,
       "margin": null,
       "max_height": null,
       "max_width": null,
       "min_height": null,
       "min_width": null,
       "object_fit": null,
       "object_position": null,
       "order": null,
       "overflow": null,
       "overflow_x": null,
       "overflow_y": null,
       "padding": null,
       "right": null,
       "top": null,
       "visibility": null,
       "width": null
      }
     },
     "d89a45e4083448e48eb5e790bdfa6a0b": {
      "model_module": "@jupyter-widgets/controls",
      "model_module_version": "1.5.0",
      "model_name": "HTMLModel",
      "state": {
       "_dom_classes": [],
       "_model_module": "@jupyter-widgets/controls",
       "_model_module_version": "1.5.0",
       "_model_name": "HTMLModel",
       "_view_count": null,
       "_view_module": "@jupyter-widgets/controls",
       "_view_module_version": "1.5.0",
       "_view_name": "HTMLView",
       "description": "",
       "description_tooltip": null,
       "layout": "IPY_MODEL_e16e20bdfaa84e02bce1ac3ee0696242",
       "placeholder": "​",
       "style": "IPY_MODEL_bb78624578a547829b8e8ae0d8eb8f87",
       "value": " 204M/204M [00:01&lt;00:00, 202MB/s]"
      }
     },
     "da9e7e03cd4d482983afede08b9eb091": {
      "model_module": "@jupyter-widgets/controls",
      "model_module_version": "1.5.0",
      "model_name": "HBoxModel",
      "state": {
       "_dom_classes": [],
       "_model_module": "@jupyter-widgets/controls",
       "_model_module_version": "1.5.0",
       "_model_name": "HBoxModel",
       "_view_count": null,
       "_view_module": "@jupyter-widgets/controls",
       "_view_module_version": "1.5.0",
       "_view_name": "HBoxView",
       "box_style": "",
       "children": [
        "IPY_MODEL_5a4854eae9004185905f03727efcd0f6",
        "IPY_MODEL_81dd75335b5442e9875be1495b6493dc",
        "IPY_MODEL_f25418b18426451598690b60856dac83"
       ],
       "layout": "IPY_MODEL_576a4a98f2474051a269320522d148a6"
      }
     },
     "e16e20bdfaa84e02bce1ac3ee0696242": {
      "model_module": "@jupyter-widgets/base",
      "model_module_version": "1.2.0",
      "model_name": "LayoutModel",
      "state": {
       "_model_module": "@jupyter-widgets/base",
       "_model_module_version": "1.2.0",
       "_model_name": "LayoutModel",
       "_view_count": null,
       "_view_module": "@jupyter-widgets/base",
       "_view_module_version": "1.2.0",
       "_view_name": "LayoutView",
       "align_content": null,
       "align_items": null,
       "align_self": null,
       "border": null,
       "bottom": null,
       "display": null,
       "flex": null,
       "flex_flow": null,
       "grid_area": null,
       "grid_auto_columns": null,
       "grid_auto_flow": null,
       "grid_auto_rows": null,
       "grid_column": null,
       "grid_gap": null,
       "grid_row": null,
       "grid_template_areas": null,
       "grid_template_columns": null,
       "grid_template_rows": null,
       "height": null,
       "justify_content": null,
       "justify_items": null,
       "left": null,
       "margin": null,
       "max_height": null,
       "max_width": null,
       "min_height": null,
       "min_width": null,
       "object_fit": null,
       "object_position": null,
       "order": null,
       "overflow": null,
       "overflow_x": null,
       "overflow_y": null,
       "padding": null,
       "right": null,
       "top": null,
       "visibility": null,
       "width": null
      }
     },
     "f25418b18426451598690b60856dac83": {
      "model_module": "@jupyter-widgets/controls",
      "model_module_version": "1.5.0",
      "model_name": "HTMLModel",
      "state": {
       "_dom_classes": [],
       "_model_module": "@jupyter-widgets/controls",
       "_model_module_version": "1.5.0",
       "_model_name": "HTMLModel",
       "_view_count": null,
       "_view_module": "@jupyter-widgets/controls",
       "_view_module_version": "1.5.0",
       "_view_name": "HTMLView",
       "description": "",
       "description_tooltip": null,
       "layout": "IPY_MODEL_5c34b66de822413ba07b8dade4c3e372",
       "placeholder": "​",
       "style": "IPY_MODEL_b26c417171f74f3fb5c0b2fcf03fa904",
       "value": " 609/609 [00:00&lt;00:00, 53.4kB/s]"
      }
     },
     "fe72208fd43f4b42a3021156d64ae5d6": {
      "model_module": "@jupyter-widgets/base",
      "model_module_version": "1.2.0",
      "model_name": "LayoutModel",
      "state": {
       "_model_module": "@jupyter-widgets/base",
       "_model_module_version": "1.2.0",
       "_model_name": "LayoutModel",
       "_view_count": null,
       "_view_module": "@jupyter-widgets/base",
       "_view_module_version": "1.2.0",
       "_view_name": "LayoutView",
       "align_content": null,
       "align_items": null,
       "align_self": null,
       "border": null,
       "bottom": null,
       "display": null,
       "flex": null,
       "flex_flow": null,
       "grid_area": null,
       "grid_auto_columns": null,
       "grid_auto_flow": null,
       "grid_auto_rows": null,
       "grid_column": null,
       "grid_gap": null,
       "grid_row": null,
       "grid_template_areas": null,
       "grid_template_columns": null,
       "grid_template_rows": null,
       "height": null,
       "justify_content": null,
       "justify_items": null,
       "left": null,
       "margin": null,
       "max_height": null,
       "max_width": null,
       "min_height": null,
       "min_width": null,
       "object_fit": null,
       "object_position": null,
       "order": null,
       "overflow": null,
       "overflow_x": null,
       "overflow_y": null,
       "padding": null,
       "right": null,
       "top": null,
       "visibility": null,
       "width": null
      }
     }
    },
    "version_major": 2,
    "version_minor": 0
   }
  }
 },
 "nbformat": 4,
 "nbformat_minor": 5
}
