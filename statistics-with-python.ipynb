{
 "cells": [
  {
   "cell_type": "code",
   "execution_count": null,
   "id": "87f3bb3c",
   "metadata": {
    "papermill": {
     "duration": 0.003958,
     "end_time": "2024-08-12T08:52:12.744180",
     "exception": false,
     "start_time": "2024-08-12T08:52:12.740222",
     "status": "completed"
    },
    "tags": []
   },
   "outputs": [],
   "source": []
  },
  {
   "cell_type": "code",
   "execution_count": 1,
   "id": "2b8857fb",
   "metadata": {
    "execution": {
     "iopub.execute_input": "2024-08-12T08:52:12.754084Z",
     "iopub.status.busy": "2024-08-12T08:52:12.753649Z",
     "iopub.status.idle": "2024-08-12T08:52:14.913015Z",
     "shell.execute_reply": "2024-08-12T08:52:14.911889Z"
    },
    "papermill": {
     "duration": 2.167984,
     "end_time": "2024-08-12T08:52:14.915748",
     "exception": false,
     "start_time": "2024-08-12T08:52:12.747764",
     "status": "completed"
    },
    "tags": []
   },
   "outputs": [],
   "source": [
    "import pandas as pd\n",
    "import seaborn as sns\n",
    "import numpy as np\n",
    "import matplotlib.pyplot as plt"
   ]
  },
  {
   "cell_type": "code",
   "execution_count": 2,
   "id": "654dbeb4",
   "metadata": {
    "execution": {
     "iopub.execute_input": "2024-08-12T08:52:14.924023Z",
     "iopub.status.busy": "2024-08-12T08:52:14.923526Z",
     "iopub.status.idle": "2024-08-12T08:52:14.929140Z",
     "shell.execute_reply": "2024-08-12T08:52:14.928040Z"
    },
    "papermill": {
     "duration": 0.012831,
     "end_time": "2024-08-12T08:52:14.931950",
     "exception": false,
     "start_time": "2024-08-12T08:52:14.919119",
     "status": "completed"
    },
    "tags": []
   },
   "outputs": [
    {
     "name": "stdout",
     "output_type": "stream",
     "text": [
      "2.2.2\n"
     ]
    }
   ],
   "source": [
    "print(pd.__version__)"
   ]
  },
  {
   "cell_type": "code",
   "execution_count": null,
   "id": "4db4dc64",
   "metadata": {
    "papermill": {
     "duration": 0.002962,
     "end_time": "2024-08-12T08:52:14.938210",
     "exception": false,
     "start_time": "2024-08-12T08:52:14.935248",
     "status": "completed"
    },
    "tags": []
   },
   "outputs": [],
   "source": []
  },
  {
   "cell_type": "code",
   "execution_count": 3,
   "id": "8076ef02",
   "metadata": {
    "_cell_guid": "b1076dfc-b9ad-4769-8c92-a6c4dae69d19",
    "_uuid": "8f2839f25d086af736a60e9eeb907d3b93b6e0e5",
    "execution": {
     "iopub.execute_input": "2024-08-12T08:52:14.947161Z",
     "iopub.status.busy": "2024-08-12T08:52:14.946099Z",
     "iopub.status.idle": "2024-08-12T08:52:14.954106Z",
     "shell.execute_reply": "2024-08-12T08:52:14.952814Z"
    },
    "papermill": {
     "duration": 0.015204,
     "end_time": "2024-08-12T08:52:14.956551",
     "exception": false,
     "start_time": "2024-08-12T08:52:14.941347",
     "status": "completed"
    },
    "tags": []
   },
   "outputs": [
    {
     "name": "stdout",
     "output_type": "stream",
     "text": [
      "/kaggle/input\n"
     ]
    }
   ],
   "source": [
    "# # This Python 3 environment comes with many helpful analytics libraries installed\n",
    "# # It is defined by the kaggle/python Docker image: https://github.com/kaggle/docker-python\n",
    "# # For example, here's several helpful packages to load\n",
    "\n",
    "# import numpy as np # linear algebra\n",
    "# import pandas as pd # data processing, CSV file I/O (e.g. pd.read_csv)\n",
    "\n",
    "# # Input data files are available in the read-only \"../input/\" directory\n",
    "# # For example, running this (by clicking run or pressing Shift+Enter) will list all files under the input directory\n",
    "\n",
    "import os\n",
    "for dirname, _, filenames in os.walk('/kaggle/input'):\n",
    "    print(dirname)\n",
    "    for filename in filenames:\n",
    "        print(os.path.join(dirname, filename))\n",
    "\n",
    "# You can write up to 20GB to the current directory (/kaggle/working/) that gets preserved as output when you create a version using \"Save & Run All\" \n",
    "# You can also write temporary files to /kaggle/temp/, but they won't be saved outside of the current session"
   ]
  },
  {
   "cell_type": "code",
   "execution_count": 4,
   "id": "8bc878ce",
   "metadata": {
    "execution": {
     "iopub.execute_input": "2024-08-12T08:52:14.964844Z",
     "iopub.status.busy": "2024-08-12T08:52:14.964479Z",
     "iopub.status.idle": "2024-08-12T08:52:15.526241Z",
     "shell.execute_reply": "2024-08-12T08:52:15.525091Z"
    },
    "papermill": {
     "duration": 0.568659,
     "end_time": "2024-08-12T08:52:15.528668",
     "exception": false,
     "start_time": "2024-08-12T08:52:14.960009",
     "status": "completed"
    },
    "tags": []
   },
   "outputs": [
    {
     "data": {
      "text/plain": [
       "['anagrams',\n",
       " 'anscombe',\n",
       " 'attention',\n",
       " 'brain_networks',\n",
       " 'car_crashes',\n",
       " 'diamonds',\n",
       " 'dots',\n",
       " 'dowjones',\n",
       " 'exercise',\n",
       " 'flights',\n",
       " 'fmri',\n",
       " 'geyser',\n",
       " 'glue',\n",
       " 'healthexp',\n",
       " 'iris',\n",
       " 'mpg',\n",
       " 'penguins',\n",
       " 'planets',\n",
       " 'seaice',\n",
       " 'taxis',\n",
       " 'tips',\n",
       " 'titanic',\n",
       " 'anagrams',\n",
       " 'anagrams',\n",
       " 'anscombe',\n",
       " 'anscombe',\n",
       " 'attention',\n",
       " 'attention',\n",
       " 'brain_networks',\n",
       " 'brain_networks',\n",
       " 'car_crashes',\n",
       " 'car_crashes',\n",
       " 'diamonds',\n",
       " 'diamonds',\n",
       " 'dots',\n",
       " 'dots',\n",
       " 'dowjones',\n",
       " 'dowjones',\n",
       " 'exercise',\n",
       " 'exercise',\n",
       " 'flights',\n",
       " 'flights',\n",
       " 'fmri',\n",
       " 'fmri',\n",
       " 'geyser',\n",
       " 'geyser',\n",
       " 'glue',\n",
       " 'glue',\n",
       " 'healthexp',\n",
       " 'healthexp',\n",
       " 'iris',\n",
       " 'iris',\n",
       " 'mpg',\n",
       " 'mpg',\n",
       " 'penguins',\n",
       " 'penguins',\n",
       " 'planets',\n",
       " 'planets',\n",
       " 'seaice',\n",
       " 'seaice',\n",
       " 'taxis',\n",
       " 'taxis',\n",
       " 'tips',\n",
       " 'tips',\n",
       " 'titanic',\n",
       " 'titanic',\n",
       " 'anagrams',\n",
       " 'anscombe',\n",
       " 'attention',\n",
       " 'brain_networks',\n",
       " 'car_crashes',\n",
       " 'diamonds',\n",
       " 'dots',\n",
       " 'dowjones',\n",
       " 'exercise',\n",
       " 'flights',\n",
       " 'fmri',\n",
       " 'geyser',\n",
       " 'glue',\n",
       " 'healthexp',\n",
       " 'iris',\n",
       " 'mpg',\n",
       " 'penguins',\n",
       " 'planets',\n",
       " 'seaice',\n",
       " 'taxis',\n",
       " 'tips',\n",
       " 'titanic']"
      ]
     },
     "execution_count": 4,
     "metadata": {},
     "output_type": "execute_result"
    }
   ],
   "source": [
    "sns.get_dataset_names()"
   ]
  },
  {
   "cell_type": "code",
   "execution_count": 5,
   "id": "3079e04c",
   "metadata": {
    "execution": {
     "iopub.execute_input": "2024-08-12T08:52:15.537661Z",
     "iopub.status.busy": "2024-08-12T08:52:15.537283Z",
     "iopub.status.idle": "2024-08-12T08:52:15.542173Z",
     "shell.execute_reply": "2024-08-12T08:52:15.540922Z"
    },
    "papermill": {
     "duration": 0.012176,
     "end_time": "2024-08-12T08:52:15.544663",
     "exception": false,
     "start_time": "2024-08-12T08:52:15.532487",
     "status": "completed"
    },
    "tags": []
   },
   "outputs": [],
   "source": [
    "# sns.load_dataset()"
   ]
  }
 ],
 "metadata": {
  "kaggle": {
   "accelerator": "none",
   "dataSources": [],
   "dockerImageVersionId": 30746,
   "isGpuEnabled": false,
   "isInternetEnabled": true,
   "language": "python",
   "sourceType": "notebook"
  },
  "kernelspec": {
   "display_name": "Python 3",
   "language": "python",
   "name": "python3"
  },
  "language_info": {
   "codemirror_mode": {
    "name": "ipython",
    "version": 3
   },
   "file_extension": ".py",
   "mimetype": "text/x-python",
   "name": "python",
   "nbconvert_exporter": "python",
   "pygments_lexer": "ipython3",
   "version": "3.10.13"
  },
  "papermill": {
   "default_parameters": {},
   "duration": 6.319909,
   "end_time": "2024-08-12T08:52:16.068951",
   "environment_variables": {},
   "exception": null,
   "input_path": "__notebook__.ipynb",
   "output_path": "__notebook__.ipynb",
   "parameters": {},
   "start_time": "2024-08-12T08:52:09.749042",
   "version": "2.5.0"
  }
 },
 "nbformat": 4,
 "nbformat_minor": 5
}
