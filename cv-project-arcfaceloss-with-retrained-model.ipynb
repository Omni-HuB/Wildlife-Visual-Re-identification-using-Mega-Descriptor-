{
 "cells": [
  {
   "cell_type": "code",
   "execution_count": 1,
   "id": "aa63c2b5",
   "metadata": {
    "_cell_guid": "b1076dfc-b9ad-4769-8c92-a6c4dae69d19",
    "_uuid": "8f2839f25d086af736a60e9eeb907d3b93b6e0e5",
    "execution": {
     "iopub.execute_input": "2024-08-06T03:35:20.907832Z",
     "iopub.status.busy": "2024-08-06T03:35:20.907191Z",
     "iopub.status.idle": "2024-08-06T03:35:34.890268Z",
     "shell.execute_reply": "2024-08-06T03:35:34.888855Z"
    },
    "papermill": {
     "duration": 14.00228,
     "end_time": "2024-08-06T03:35:34.892821",
     "exception": false,
     "start_time": "2024-08-06T03:35:20.890541",
     "status": "completed"
    },
    "tags": []
   },
   "outputs": [
    {
     "name": "stdout",
     "output_type": "stream",
     "text": [
      "Collecting wildlife-datasets\r\n",
      "  Downloading wildlife_datasets-1.0.4-py3-none-any.whl.metadata (11 kB)\r\n",
      "Requirement already satisfied: numpy>=1.19.4 in /opt/conda/lib/python3.10/site-packages (from wildlife-datasets) (1.26.4)\r\n",
      "Requirement already satisfied: pandas>=1.1.4 in /opt/conda/lib/python3.10/site-packages (from wildlife-datasets) (2.2.2)\r\n",
      "Requirement already satisfied: tqdm>=4.62.3 in /opt/conda/lib/python3.10/site-packages (from wildlife-datasets) (4.66.4)\r\n",
      "Requirement already satisfied: opencv-python>=4.5.5.62 in /opt/conda/lib/python3.10/site-packages (from wildlife-datasets) (4.10.0.84)\r\n",
      "Requirement already satisfied: Pillow>=7.1.2 in /opt/conda/lib/python3.10/site-packages (from wildlife-datasets) (9.5.0)\r\n",
      "Requirement already satisfied: scikit-learn>=1.0.1 in /opt/conda/lib/python3.10/site-packages (from wildlife-datasets) (1.2.2)\r\n",
      "Requirement already satisfied: matplotlib>=3.5.1 in /opt/conda/lib/python3.10/site-packages (from wildlife-datasets) (3.7.5)\r\n",
      "Collecting gdown (from wildlife-datasets)\r\n",
      "  Downloading gdown-5.2.0-py3-none-any.whl.metadata (5.8 kB)\r\n",
      "Requirement already satisfied: kaggle in /opt/conda/lib/python3.10/site-packages (from wildlife-datasets) (1.6.14)\r\n",
      "Requirement already satisfied: contourpy>=1.0.1 in /opt/conda/lib/python3.10/site-packages (from matplotlib>=3.5.1->wildlife-datasets) (1.2.0)\r\n",
      "Requirement already satisfied: cycler>=0.10 in /opt/conda/lib/python3.10/site-packages (from matplotlib>=3.5.1->wildlife-datasets) (0.12.1)\r\n",
      "Requirement already satisfied: fonttools>=4.22.0 in /opt/conda/lib/python3.10/site-packages (from matplotlib>=3.5.1->wildlife-datasets) (4.47.0)\r\n",
      "Requirement already satisfied: kiwisolver>=1.0.1 in /opt/conda/lib/python3.10/site-packages (from matplotlib>=3.5.1->wildlife-datasets) (1.4.5)\r\n",
      "Requirement already satisfied: packaging>=20.0 in /opt/conda/lib/python3.10/site-packages (from matplotlib>=3.5.1->wildlife-datasets) (21.3)\r\n",
      "Requirement already satisfied: pyparsing>=2.3.1 in /opt/conda/lib/python3.10/site-packages (from matplotlib>=3.5.1->wildlife-datasets) (3.1.1)\r\n",
      "Requirement already satisfied: python-dateutil>=2.7 in /opt/conda/lib/python3.10/site-packages (from matplotlib>=3.5.1->wildlife-datasets) (2.9.0.post0)\r\n",
      "Requirement already satisfied: pytz>=2020.1 in /opt/conda/lib/python3.10/site-packages (from pandas>=1.1.4->wildlife-datasets) (2023.3.post1)\r\n",
      "Requirement already satisfied: tzdata>=2022.7 in /opt/conda/lib/python3.10/site-packages (from pandas>=1.1.4->wildlife-datasets) (2023.4)\r\n",
      "Requirement already satisfied: scipy>=1.3.2 in /opt/conda/lib/python3.10/site-packages (from scikit-learn>=1.0.1->wildlife-datasets) (1.11.4)\r\n",
      "Requirement already satisfied: joblib>=1.1.1 in /opt/conda/lib/python3.10/site-packages (from scikit-learn>=1.0.1->wildlife-datasets) (1.4.2)\r\n",
      "Requirement already satisfied: threadpoolctl>=2.0.0 in /opt/conda/lib/python3.10/site-packages (from scikit-learn>=1.0.1->wildlife-datasets) (3.2.0)\r\n",
      "Requirement already satisfied: beautifulsoup4 in /opt/conda/lib/python3.10/site-packages (from gdown->wildlife-datasets) (4.12.2)\r\n",
      "Requirement already satisfied: filelock in /opt/conda/lib/python3.10/site-packages (from gdown->wildlife-datasets) (3.13.1)\r\n",
      "Requirement already satisfied: requests[socks] in /opt/conda/lib/python3.10/site-packages (from gdown->wildlife-datasets) (2.32.3)\r\n",
      "Requirement already satisfied: six>=1.10 in /opt/conda/lib/python3.10/site-packages (from kaggle->wildlife-datasets) (1.16.0)\r\n",
      "Requirement already satisfied: certifi>=2023.7.22 in /opt/conda/lib/python3.10/site-packages (from kaggle->wildlife-datasets) (2024.7.4)\r\n",
      "Requirement already satisfied: python-slugify in /opt/conda/lib/python3.10/site-packages (from kaggle->wildlife-datasets) (8.0.4)\r\n",
      "Requirement already satisfied: urllib3 in /opt/conda/lib/python3.10/site-packages (from kaggle->wildlife-datasets) (1.26.18)\r\n",
      "Requirement already satisfied: bleach in /opt/conda/lib/python3.10/site-packages (from kaggle->wildlife-datasets) (6.1.0)\r\n",
      "Requirement already satisfied: soupsieve>1.2 in /opt/conda/lib/python3.10/site-packages (from beautifulsoup4->gdown->wildlife-datasets) (2.5)\r\n",
      "Requirement already satisfied: webencodings in /opt/conda/lib/python3.10/site-packages (from bleach->kaggle->wildlife-datasets) (0.5.1)\r\n",
      "Requirement already satisfied: text-unidecode>=1.3 in /opt/conda/lib/python3.10/site-packages (from python-slugify->kaggle->wildlife-datasets) (1.3)\r\n",
      "Requirement already satisfied: charset-normalizer<4,>=2 in /opt/conda/lib/python3.10/site-packages (from requests[socks]->gdown->wildlife-datasets) (3.3.2)\r\n",
      "Requirement already satisfied: idna<4,>=2.5 in /opt/conda/lib/python3.10/site-packages (from requests[socks]->gdown->wildlife-datasets) (3.6)\r\n",
      "Requirement already satisfied: PySocks!=1.5.7,>=1.5.6 in /opt/conda/lib/python3.10/site-packages (from requests[socks]->gdown->wildlife-datasets) (1.7.1)\r\n",
      "Downloading wildlife_datasets-1.0.4-py3-none-any.whl (46 kB)\r\n",
      "\u001b[2K   \u001b[90m━━━━━━━━━━━━━━━━━━━━━━━━━━━━━━━━━━━━━━━━\u001b[0m \u001b[32m46.4/46.4 kB\u001b[0m \u001b[31m1.7 MB/s\u001b[0m eta \u001b[36m0:00:00\u001b[0m\r\n",
      "\u001b[?25hDownloading gdown-5.2.0-py3-none-any.whl (18 kB)\r\n",
      "Installing collected packages: gdown, wildlife-datasets\r\n",
      "Successfully installed gdown-5.2.0 wildlife-datasets-1.0.4\r\n",
      "Note: you may need to restart the kernel to use updated packages.\n"
     ]
    }
   ],
   "source": [
    "%pip install wildlife-datasets"
   ]
  },
  {
   "cell_type": "code",
   "execution_count": 2,
   "id": "1a56cdab",
   "metadata": {
    "execution": {
     "iopub.execute_input": "2024-08-06T03:35:34.934175Z",
     "iopub.status.busy": "2024-08-06T03:35:34.933625Z",
     "iopub.status.idle": "2024-08-06T03:35:51.116810Z",
     "shell.execute_reply": "2024-08-06T03:35:51.115703Z"
    },
    "papermill": {
     "duration": 16.20671,
     "end_time": "2024-08-06T03:35:51.118841",
     "exception": false,
     "start_time": "2024-08-06T03:35:34.912131",
     "status": "completed"
    },
    "tags": []
   },
   "outputs": [
    {
     "name": "stdout",
     "output_type": "stream",
     "text": [
      "Collecting wildlife-tools\r\n",
      "  Downloading wildlife_tools-0.0.9-py3-none-any.whl.metadata (9.3 kB)\r\n",
      "Requirement already satisfied: torch>=2.0.1 in /opt/conda/lib/python3.10/site-packages (from wildlife-tools) (2.1.2)\r\n",
      "Requirement already satisfied: timm>=0.9.2 in /opt/conda/lib/python3.10/site-packages (from wildlife-tools) (1.0.7)\r\n",
      "Requirement already satisfied: numpy>=1.19.4 in /opt/conda/lib/python3.10/site-packages (from wildlife-tools) (1.26.4)\r\n",
      "Requirement already satisfied: pandas>=1.1.4 in /opt/conda/lib/python3.10/site-packages (from wildlife-tools) (2.2.2)\r\n",
      "Requirement already satisfied: tqdm>=4.62.3 in /opt/conda/lib/python3.10/site-packages (from wildlife-tools) (4.66.4)\r\n",
      "Requirement already satisfied: opencv-python>=4.5.5.62 in /opt/conda/lib/python3.10/site-packages (from wildlife-tools) (4.10.0.84)\r\n",
      "Requirement already satisfied: Pillow>=7.1.2 in /opt/conda/lib/python3.10/site-packages (from wildlife-tools) (9.5.0)\r\n",
      "Requirement already satisfied: scikit-learn>=1.0.1 in /opt/conda/lib/python3.10/site-packages (from wildlife-tools) (1.2.2)\r\n",
      "Collecting pycocotools (from wildlife-tools)\r\n",
      "  Downloading pycocotools-2.0.8-cp310-cp310-manylinux_2_17_x86_64.manylinux2014_x86_64.whl.metadata (1.1 kB)\r\n",
      "Requirement already satisfied: tensorboard in /opt/conda/lib/python3.10/site-packages (from wildlife-tools) (2.15.1)\r\n",
      "Collecting pytorch-metric-learning (from wildlife-tools)\r\n",
      "  Downloading pytorch_metric_learning-2.6.0-py3-none-any.whl.metadata (17 kB)\r\n",
      "Requirement already satisfied: transformers>=4.30.2 in /opt/conda/lib/python3.10/site-packages (from wildlife-tools) (4.42.3)\r\n",
      "Requirement already satisfied: wildlife-datasets>=0.3.4 in /opt/conda/lib/python3.10/site-packages (from wildlife-tools) (1.0.4)\r\n",
      "Requirement already satisfied: kornia>=0.6.12 in /opt/conda/lib/python3.10/site-packages (from wildlife-tools) (0.7.3)\r\n",
      "Collecting faiss-gpu (from wildlife-tools)\r\n",
      "  Downloading faiss_gpu-1.7.2-cp310-cp310-manylinux_2_17_x86_64.manylinux2014_x86_64.whl.metadata (1.4 kB)\r\n",
      "Requirement already satisfied: kornia-rs>=0.1.0 in /opt/conda/lib/python3.10/site-packages (from kornia>=0.6.12->wildlife-tools) (0.1.4)\r\n",
      "Requirement already satisfied: packaging in /opt/conda/lib/python3.10/site-packages (from kornia>=0.6.12->wildlife-tools) (21.3)\r\n",
      "Requirement already satisfied: python-dateutil>=2.8.2 in /opt/conda/lib/python3.10/site-packages (from pandas>=1.1.4->wildlife-tools) (2.9.0.post0)\r\n",
      "Requirement already satisfied: pytz>=2020.1 in /opt/conda/lib/python3.10/site-packages (from pandas>=1.1.4->wildlife-tools) (2023.3.post1)\r\n",
      "Requirement already satisfied: tzdata>=2022.7 in /opt/conda/lib/python3.10/site-packages (from pandas>=1.1.4->wildlife-tools) (2023.4)\r\n",
      "Requirement already satisfied: scipy>=1.3.2 in /opt/conda/lib/python3.10/site-packages (from scikit-learn>=1.0.1->wildlife-tools) (1.11.4)\r\n",
      "Requirement already satisfied: joblib>=1.1.1 in /opt/conda/lib/python3.10/site-packages (from scikit-learn>=1.0.1->wildlife-tools) (1.4.2)\r\n",
      "Requirement already satisfied: threadpoolctl>=2.0.0 in /opt/conda/lib/python3.10/site-packages (from scikit-learn>=1.0.1->wildlife-tools) (3.2.0)\r\n",
      "Requirement already satisfied: torchvision in /opt/conda/lib/python3.10/site-packages (from timm>=0.9.2->wildlife-tools) (0.16.2)\r\n",
      "Requirement already satisfied: pyyaml in /opt/conda/lib/python3.10/site-packages (from timm>=0.9.2->wildlife-tools) (6.0.1)\r\n",
      "Requirement already satisfied: huggingface_hub in /opt/conda/lib/python3.10/site-packages (from timm>=0.9.2->wildlife-tools) (0.23.4)\r\n",
      "Requirement already satisfied: safetensors in /opt/conda/lib/python3.10/site-packages (from timm>=0.9.2->wildlife-tools) (0.4.3)\r\n",
      "Requirement already satisfied: filelock in /opt/conda/lib/python3.10/site-packages (from torch>=2.0.1->wildlife-tools) (3.13.1)\r\n",
      "Requirement already satisfied: typing-extensions in /opt/conda/lib/python3.10/site-packages (from torch>=2.0.1->wildlife-tools) (4.9.0)\r\n",
      "Requirement already satisfied: sympy in /opt/conda/lib/python3.10/site-packages (from torch>=2.0.1->wildlife-tools) (1.13.0)\r\n",
      "Requirement already satisfied: networkx in /opt/conda/lib/python3.10/site-packages (from torch>=2.0.1->wildlife-tools) (3.2.1)\r\n",
      "Requirement already satisfied: jinja2 in /opt/conda/lib/python3.10/site-packages (from torch>=2.0.1->wildlife-tools) (3.1.2)\r\n",
      "Requirement already satisfied: fsspec in /opt/conda/lib/python3.10/site-packages (from torch>=2.0.1->wildlife-tools) (2024.5.0)\r\n",
      "Requirement already satisfied: regex!=2019.12.17 in /opt/conda/lib/python3.10/site-packages (from transformers>=4.30.2->wildlife-tools) (2023.12.25)\r\n",
      "Requirement already satisfied: requests in /opt/conda/lib/python3.10/site-packages (from transformers>=4.30.2->wildlife-tools) (2.32.3)\r\n",
      "Requirement already satisfied: tokenizers<0.20,>=0.19 in /opt/conda/lib/python3.10/site-packages (from transformers>=4.30.2->wildlife-tools) (0.19.1)\r\n",
      "Requirement already satisfied: matplotlib>=3.5.1 in /opt/conda/lib/python3.10/site-packages (from wildlife-datasets>=0.3.4->wildlife-tools) (3.7.5)\r\n",
      "Requirement already satisfied: gdown in /opt/conda/lib/python3.10/site-packages (from wildlife-datasets>=0.3.4->wildlife-tools) (5.2.0)\r\n",
      "Requirement already satisfied: kaggle in /opt/conda/lib/python3.10/site-packages (from wildlife-datasets>=0.3.4->wildlife-tools) (1.6.14)\r\n",
      "Requirement already satisfied: absl-py>=0.4 in /opt/conda/lib/python3.10/site-packages (from tensorboard->wildlife-tools) (1.4.0)\r\n",
      "Requirement already satisfied: grpcio>=1.48.2 in /opt/conda/lib/python3.10/site-packages (from tensorboard->wildlife-tools) (1.60.0)\r\n",
      "Requirement already satisfied: google-auth<3,>=1.6.3 in /opt/conda/lib/python3.10/site-packages (from tensorboard->wildlife-tools) (2.26.1)\r\n",
      "Requirement already satisfied: google-auth-oauthlib<2,>=0.5 in /opt/conda/lib/python3.10/site-packages (from tensorboard->wildlife-tools) (1.2.0)\r\n",
      "Requirement already satisfied: markdown>=2.6.8 in /opt/conda/lib/python3.10/site-packages (from tensorboard->wildlife-tools) (3.5.2)\r\n",
      "Requirement already satisfied: protobuf<4.24,>=3.19.6 in /opt/conda/lib/python3.10/site-packages (from tensorboard->wildlife-tools) (3.20.3)\r\n",
      "Requirement already satisfied: setuptools>=41.0.0 in /opt/conda/lib/python3.10/site-packages (from tensorboard->wildlife-tools) (69.0.3)\r\n",
      "Requirement already satisfied: six>1.9 in /opt/conda/lib/python3.10/site-packages (from tensorboard->wildlife-tools) (1.16.0)\r\n",
      "Requirement already satisfied: tensorboard-data-server<0.8.0,>=0.7.0 in /opt/conda/lib/python3.10/site-packages (from tensorboard->wildlife-tools) (0.7.2)\r\n",
      "Requirement already satisfied: werkzeug>=1.0.1 in /opt/conda/lib/python3.10/site-packages (from tensorboard->wildlife-tools) (3.0.3)\r\n",
      "Requirement already satisfied: cachetools<6.0,>=2.0.0 in /opt/conda/lib/python3.10/site-packages (from google-auth<3,>=1.6.3->tensorboard->wildlife-tools) (4.2.4)\r\n",
      "Requirement already satisfied: pyasn1-modules>=0.2.1 in /opt/conda/lib/python3.10/site-packages (from google-auth<3,>=1.6.3->tensorboard->wildlife-tools) (0.3.0)\r\n",
      "Requirement already satisfied: rsa<5,>=3.1.4 in /opt/conda/lib/python3.10/site-packages (from google-auth<3,>=1.6.3->tensorboard->wildlife-tools) (4.9)\r\n",
      "Requirement already satisfied: requests-oauthlib>=0.7.0 in /opt/conda/lib/python3.10/site-packages (from google-auth-oauthlib<2,>=0.5->tensorboard->wildlife-tools) (1.3.1)\r\n",
      "Requirement already satisfied: contourpy>=1.0.1 in /opt/conda/lib/python3.10/site-packages (from matplotlib>=3.5.1->wildlife-datasets>=0.3.4->wildlife-tools) (1.2.0)\r\n",
      "Requirement already satisfied: cycler>=0.10 in /opt/conda/lib/python3.10/site-packages (from matplotlib>=3.5.1->wildlife-datasets>=0.3.4->wildlife-tools) (0.12.1)\r\n",
      "Requirement already satisfied: fonttools>=4.22.0 in /opt/conda/lib/python3.10/site-packages (from matplotlib>=3.5.1->wildlife-datasets>=0.3.4->wildlife-tools) (4.47.0)\r\n",
      "Requirement already satisfied: kiwisolver>=1.0.1 in /opt/conda/lib/python3.10/site-packages (from matplotlib>=3.5.1->wildlife-datasets>=0.3.4->wildlife-tools) (1.4.5)\r\n",
      "Requirement already satisfied: pyparsing>=2.3.1 in /opt/conda/lib/python3.10/site-packages (from matplotlib>=3.5.1->wildlife-datasets>=0.3.4->wildlife-tools) (3.1.1)\r\n",
      "Requirement already satisfied: charset-normalizer<4,>=2 in /opt/conda/lib/python3.10/site-packages (from requests->transformers>=4.30.2->wildlife-tools) (3.3.2)\r\n",
      "Requirement already satisfied: idna<4,>=2.5 in /opt/conda/lib/python3.10/site-packages (from requests->transformers>=4.30.2->wildlife-tools) (3.6)\r\n",
      "Requirement already satisfied: urllib3<3,>=1.21.1 in /opt/conda/lib/python3.10/site-packages (from requests->transformers>=4.30.2->wildlife-tools) (1.26.18)\r\n",
      "Requirement already satisfied: certifi>=2017.4.17 in /opt/conda/lib/python3.10/site-packages (from requests->transformers>=4.30.2->wildlife-tools) (2024.7.4)\r\n",
      "Requirement already satisfied: MarkupSafe>=2.1.1 in /opt/conda/lib/python3.10/site-packages (from werkzeug>=1.0.1->tensorboard->wildlife-tools) (2.1.3)\r\n",
      "Requirement already satisfied: beautifulsoup4 in /opt/conda/lib/python3.10/site-packages (from gdown->wildlife-datasets>=0.3.4->wildlife-tools) (4.12.2)\r\n",
      "Requirement already satisfied: python-slugify in /opt/conda/lib/python3.10/site-packages (from kaggle->wildlife-datasets>=0.3.4->wildlife-tools) (8.0.4)\r\n",
      "Requirement already satisfied: bleach in /opt/conda/lib/python3.10/site-packages (from kaggle->wildlife-datasets>=0.3.4->wildlife-tools) (6.1.0)\r\n",
      "Requirement already satisfied: mpmath<1.4,>=1.1.0 in /opt/conda/lib/python3.10/site-packages (from sympy->torch>=2.0.1->wildlife-tools) (1.3.0)\r\n",
      "Requirement already satisfied: pyasn1<0.6.0,>=0.4.6 in /opt/conda/lib/python3.10/site-packages (from pyasn1-modules>=0.2.1->google-auth<3,>=1.6.3->tensorboard->wildlife-tools) (0.5.1)\r\n",
      "Requirement already satisfied: oauthlib>=3.0.0 in /opt/conda/lib/python3.10/site-packages (from requests-oauthlib>=0.7.0->google-auth-oauthlib<2,>=0.5->tensorboard->wildlife-tools) (3.2.2)\r\n",
      "Requirement already satisfied: soupsieve>1.2 in /opt/conda/lib/python3.10/site-packages (from beautifulsoup4->gdown->wildlife-datasets>=0.3.4->wildlife-tools) (2.5)\r\n",
      "Requirement already satisfied: webencodings in /opt/conda/lib/python3.10/site-packages (from bleach->kaggle->wildlife-datasets>=0.3.4->wildlife-tools) (0.5.1)\r\n",
      "Requirement already satisfied: text-unidecode>=1.3 in /opt/conda/lib/python3.10/site-packages (from python-slugify->kaggle->wildlife-datasets>=0.3.4->wildlife-tools) (1.3)\r\n",
      "Requirement already satisfied: PySocks!=1.5.7,>=1.5.6 in /opt/conda/lib/python3.10/site-packages (from requests[socks]->gdown->wildlife-datasets>=0.3.4->wildlife-tools) (1.7.1)\r\n",
      "Downloading wildlife_tools-0.0.9-py3-none-any.whl (25 kB)\r\n",
      "Downloading faiss_gpu-1.7.2-cp310-cp310-manylinux_2_17_x86_64.manylinux2014_x86_64.whl (85.5 MB)\r\n",
      "\u001b[2K   \u001b[90m━━━━━━━━━━━━━━━━━━━━━━━━━━━━━━━━━━━━━━━━\u001b[0m \u001b[32m85.5/85.5 MB\u001b[0m \u001b[31m19.4 MB/s\u001b[0m eta \u001b[36m0:00:00\u001b[0m\r\n",
      "\u001b[?25hDownloading pycocotools-2.0.8-cp310-cp310-manylinux_2_17_x86_64.manylinux2014_x86_64.whl (427 kB)\r\n",
      "\u001b[2K   \u001b[90m━━━━━━━━━━━━━━━━━━━━━━━━━━━━━━━━━━━━━━━━\u001b[0m \u001b[32m427.8/427.8 kB\u001b[0m \u001b[31m24.5 MB/s\u001b[0m eta \u001b[36m0:00:00\u001b[0m\r\n",
      "\u001b[?25hDownloading pytorch_metric_learning-2.6.0-py3-none-any.whl (119 kB)\r\n",
      "\u001b[2K   \u001b[90m━━━━━━━━━━━━━━━━━━━━━━━━━━━━━━━━━━━━━━━━\u001b[0m \u001b[32m119.3/119.3 kB\u001b[0m \u001b[31m7.1 MB/s\u001b[0m eta \u001b[36m0:00:00\u001b[0m\r\n",
      "\u001b[?25hInstalling collected packages: faiss-gpu, pytorch-metric-learning, pycocotools, wildlife-tools\r\n",
      "Successfully installed faiss-gpu-1.7.2 pycocotools-2.0.8 pytorch-metric-learning-2.6.0 wildlife-tools-0.0.9\r\n",
      "Note: you may need to restart the kernel to use updated packages.\n"
     ]
    }
   ],
   "source": [
    "%pip install wildlife-tools"
   ]
  },
  {
   "cell_type": "code",
   "execution_count": 3,
   "id": "9e8b803e",
   "metadata": {
    "execution": {
     "iopub.execute_input": "2024-08-06T03:35:51.161217Z",
     "iopub.status.busy": "2024-08-06T03:35:51.160899Z",
     "iopub.status.idle": "2024-08-06T03:36:03.332402Z",
     "shell.execute_reply": "2024-08-06T03:36:03.331033Z"
    },
    "papermill": {
     "duration": 12.194569,
     "end_time": "2024-08-06T03:36:03.334623",
     "exception": false,
     "start_time": "2024-08-06T03:35:51.140054",
     "status": "completed"
    },
    "tags": []
   },
   "outputs": [
    {
     "name": "stdout",
     "output_type": "stream",
     "text": [
      "Requirement already satisfied: timm in /opt/conda/lib/python3.10/site-packages (1.0.7)\r\n",
      "Requirement already satisfied: torch in /opt/conda/lib/python3.10/site-packages (from timm) (2.1.2)\r\n",
      "Requirement already satisfied: torchvision in /opt/conda/lib/python3.10/site-packages (from timm) (0.16.2)\r\n",
      "Requirement already satisfied: pyyaml in /opt/conda/lib/python3.10/site-packages (from timm) (6.0.1)\r\n",
      "Requirement already satisfied: huggingface_hub in /opt/conda/lib/python3.10/site-packages (from timm) (0.23.4)\r\n",
      "Requirement already satisfied: safetensors in /opt/conda/lib/python3.10/site-packages (from timm) (0.4.3)\r\n",
      "Requirement already satisfied: filelock in /opt/conda/lib/python3.10/site-packages (from huggingface_hub->timm) (3.13.1)\r\n",
      "Requirement already satisfied: fsspec>=2023.5.0 in /opt/conda/lib/python3.10/site-packages (from huggingface_hub->timm) (2024.5.0)\r\n",
      "Requirement already satisfied: packaging>=20.9 in /opt/conda/lib/python3.10/site-packages (from huggingface_hub->timm) (21.3)\r\n",
      "Requirement already satisfied: requests in /opt/conda/lib/python3.10/site-packages (from huggingface_hub->timm) (2.32.3)\r\n",
      "Requirement already satisfied: tqdm>=4.42.1 in /opt/conda/lib/python3.10/site-packages (from huggingface_hub->timm) (4.66.4)\r\n",
      "Requirement already satisfied: typing-extensions>=3.7.4.3 in /opt/conda/lib/python3.10/site-packages (from huggingface_hub->timm) (4.9.0)\r\n",
      "Requirement already satisfied: sympy in /opt/conda/lib/python3.10/site-packages (from torch->timm) (1.13.0)\r\n",
      "Requirement already satisfied: networkx in /opt/conda/lib/python3.10/site-packages (from torch->timm) (3.2.1)\r\n",
      "Requirement already satisfied: jinja2 in /opt/conda/lib/python3.10/site-packages (from torch->timm) (3.1.2)\r\n",
      "Requirement already satisfied: numpy in /opt/conda/lib/python3.10/site-packages (from torchvision->timm) (1.26.4)\r\n",
      "Requirement already satisfied: pillow!=8.3.*,>=5.3.0 in /opt/conda/lib/python3.10/site-packages (from torchvision->timm) (9.5.0)\r\n",
      "Requirement already satisfied: pyparsing!=3.0.5,>=2.0.2 in /opt/conda/lib/python3.10/site-packages (from packaging>=20.9->huggingface_hub->timm) (3.1.1)\r\n",
      "Requirement already satisfied: MarkupSafe>=2.0 in /opt/conda/lib/python3.10/site-packages (from jinja2->torch->timm) (2.1.3)\r\n",
      "Requirement already satisfied: charset-normalizer<4,>=2 in /opt/conda/lib/python3.10/site-packages (from requests->huggingface_hub->timm) (3.3.2)\r\n",
      "Requirement already satisfied: idna<4,>=2.5 in /opt/conda/lib/python3.10/site-packages (from requests->huggingface_hub->timm) (3.6)\r\n",
      "Requirement already satisfied: urllib3<3,>=1.21.1 in /opt/conda/lib/python3.10/site-packages (from requests->huggingface_hub->timm) (1.26.18)\r\n",
      "Requirement already satisfied: certifi>=2017.4.17 in /opt/conda/lib/python3.10/site-packages (from requests->huggingface_hub->timm) (2024.7.4)\r\n",
      "Requirement already satisfied: mpmath<1.4,>=1.1.0 in /opt/conda/lib/python3.10/site-packages (from sympy->torch->timm) (1.3.0)\r\n",
      "Note: you may need to restart the kernel to use updated packages.\n"
     ]
    }
   ],
   "source": [
    "%pip install timm"
   ]
  },
  {
   "cell_type": "code",
   "execution_count": 4,
   "id": "e71db779",
   "metadata": {
    "execution": {
     "iopub.execute_input": "2024-08-06T03:36:03.377137Z",
     "iopub.status.busy": "2024-08-06T03:36:03.376820Z",
     "iopub.status.idle": "2024-08-06T03:36:14.345197Z",
     "shell.execute_reply": "2024-08-06T03:36:14.344162Z"
    },
    "papermill": {
     "duration": 10.992134,
     "end_time": "2024-08-06T03:36:14.347563",
     "exception": false,
     "start_time": "2024-08-06T03:36:03.355429",
     "status": "completed"
    },
    "tags": []
   },
   "outputs": [],
   "source": [
    "import timm\n",
    "import numpy as np\n",
    "from wildlife_datasets.datasets import MacaqueFaces\n",
    "from wildlife_tools.data import WildlifeDataset\n",
    "import torchvision.transforms as T\n",
    "from wildlife_datasets import datasets, splits\n",
    "from wildlife_tools.features import DeepFeatures\n",
    "from wildlife_tools.similarity import CosineSimilarity\n",
    "from wildlife_tools.inference import KnnClassifier\n",
    "from sklearn.metrics import precision_score, recall_score, f1_score"
   ]
  },
  {
   "cell_type": "code",
   "execution_count": 5,
   "id": "d387ae68",
   "metadata": {
    "execution": {
     "iopub.execute_input": "2024-08-06T03:36:14.390580Z",
     "iopub.status.busy": "2024-08-06T03:36:14.390133Z",
     "iopub.status.idle": "2024-08-06T03:36:26.447382Z",
     "shell.execute_reply": "2024-08-06T03:36:26.446309Z"
    },
    "papermill": {
     "duration": 12.08084,
     "end_time": "2024-08-06T03:36:26.449803",
     "exception": false,
     "start_time": "2024-08-06T03:36:14.368963",
     "status": "completed"
    },
    "tags": []
   },
   "outputs": [
    {
     "name": "stderr",
     "output_type": "stream",
     "text": [
      "2024-08-06 03:36:16.611150: E external/local_xla/xla/stream_executor/cuda/cuda_dnn.cc:9261] Unable to register cuDNN factory: Attempting to register factory for plugin cuDNN when one has already been registered\n",
      "2024-08-06 03:36:16.611293: E external/local_xla/xla/stream_executor/cuda/cuda_fft.cc:607] Unable to register cuFFT factory: Attempting to register factory for plugin cuFFT when one has already been registered\n",
      "2024-08-06 03:36:16.783009: E external/local_xla/xla/stream_executor/cuda/cuda_blas.cc:1515] Unable to register cuBLAS factory: Attempting to register factory for plugin cuBLAS when one has already been registered\n"
     ]
    }
   ],
   "source": [
    "import itertools\n",
    "from itertools import chain\n",
    "import timm\n",
    "import pandas as pd\n",
    "import numpy as np\n",
    "import torch\n",
    "import torchvision.transforms as T\n",
    "from torch.optim import SGD\n",
    "\n",
    "from wildlife_datasets.datasets import MacaqueFaces\n",
    "from wildlife_tools.data import WildlifeDataset\n",
    "\n",
    "from wildlife_datasets import datasets, splits\n",
    "from wildlife_tools.features import DeepFeatures\n",
    "from wildlife_tools.similarity import CosineSimilarity\n",
    "from wildlife_tools.inference import KnnClassifier\n",
    "from sklearn.metrics import precision_score, recall_score, f1_score\n",
    "\n",
    "from wildlife_tools.data import WildlifeDataset, SplitMetadata\n",
    "from wildlife_tools.train import ArcFaceLoss, BasicTrainer, TripletLoss"
   ]
  },
  {
   "cell_type": "code",
   "execution_count": null,
   "id": "ca76fe48",
   "metadata": {
    "papermill": {
     "duration": 0.02032,
     "end_time": "2024-08-06T03:36:26.491119",
     "exception": false,
     "start_time": "2024-08-06T03:36:26.470799",
     "status": "completed"
    },
    "tags": []
   },
   "outputs": [],
   "source": []
  },
  {
   "cell_type": "markdown",
   "id": "86d6477b",
   "metadata": {
    "papermill": {
     "duration": 0.02025,
     "end_time": "2024-08-06T03:36:26.531883",
     "exception": false,
     "start_time": "2024-08-06T03:36:26.511633",
     "status": "completed"
    },
    "tags": []
   },
   "source": [
    "**IPanda50 Dataset**"
   ]
  },
  {
   "cell_type": "code",
   "execution_count": 6,
   "id": "516e3e98",
   "metadata": {
    "execution": {
     "iopub.execute_input": "2024-08-06T03:36:26.574272Z",
     "iopub.status.busy": "2024-08-06T03:36:26.573627Z",
     "iopub.status.idle": "2024-08-06T04:07:30.300634Z",
     "shell.execute_reply": "2024-08-06T04:07:30.299450Z"
    },
    "papermill": {
     "duration": 1863.750508,
     "end_time": "2024-08-06T04:07:30.302736",
     "exception": false,
     "start_time": "2024-08-06T03:36:26.552228",
     "status": "completed"
    },
    "tags": []
   },
   "outputs": [
    {
     "name": "stdout",
     "output_type": "stream",
     "text": [
      "DATASET IPanda50: DOWNLOADING STARTED.\n"
     ]
    },
    {
     "name": "stderr",
     "output_type": "stream",
     "text": [
      "Downloading...\n",
      "From (original): https://drive.google.com/uc?id=1nkh-g6a8JvWy-XsMaZqrN2AXoPlaXuFg\n",
      "From (redirected): https://drive.google.com/uc?id=1nkh-g6a8JvWy-XsMaZqrN2AXoPlaXuFg&confirm=t&uuid=0848569d-5f33-46f1-9f6c-9e5f39a3abaa\n",
      "To: /kaggle/data/IPanda50/iPanda50-images.zip\n",
      "100%|██████████| 926M/926M [00:07<00:00, 122MB/s] \n",
      "Downloading...\n",
      "From: https://drive.google.com/uc?id=1gVREtFWkNec4xwqOyKkpuIQIyWU_Y_Ob\n",
      "To: /kaggle/data/IPanda50/iPanda50-split.zip\n",
      "100%|██████████| 140k/140k [00:00<00:00, 73.8MB/s]\n",
      "Downloading...\n",
      "From: https://drive.google.com/uc?id=1jdACN98uOxedZDT-6X3rpbooLAAUEbNY\n",
      "To: /kaggle/data/IPanda50/iPanda50-eyes-labels.zip\n",
      "100%|██████████| 2.55M/2.55M [00:00<00:00, 184MB/s]\n"
     ]
    },
    {
     "name": "stdout",
     "output_type": "stream",
     "text": [
      "DATASET IPanda50: EXTRACTING STARTED.\n",
      "DATASET IPanda50: FINISHED.\n",
      "\n"
     ]
    },
    {
     "data": {
      "application/vnd.jupyter.widget-view+json": {
       "model_id": "1df4736e6db143e58338041c6eb0189c",
       "version_major": 2,
       "version_minor": 0
      },
      "text/plain": [
       "config.json:   0%|          | 0.00/609 [00:00<?, ?B/s]"
      ]
     },
     "metadata": {},
     "output_type": "display_data"
    },
    {
     "data": {
      "application/vnd.jupyter.widget-view+json": {
       "model_id": "1a1f7cb2baa54bcc87283dd7194638a5",
       "version_major": 2,
       "version_minor": 0
      },
      "text/plain": [
       "pytorch_model.bin:   0%|          | 0.00/204M [00:00<?, ?B/s]"
      ]
     },
     "metadata": {},
     "output_type": "display_data"
    },
    {
     "name": "stderr",
     "output_type": "stream",
     "text": [
      "Epoch 0:   0%|                                                               | 0/54 [00:00<?, ?it/s]/opt/conda/lib/python3.10/multiprocessing/popen_fork.py:66: RuntimeWarning: os.fork() was called. os.fork() is incompatible with multithreaded code, and JAX is multithreaded, so this will likely lead to a deadlock.\n",
      "  self.pid = os.fork()\n",
      "Epoch 0: 100%|██████████████████████████████████████████████████████| 54/54 [01:22<00:00,  1.43s/it]/opt/conda/lib/python3.10/multiprocessing/popen_fork.py:66: RuntimeWarning: os.fork() was called. os.fork() is incompatible with multithreaded code, and JAX is multithreaded, so this will likely lead to a deadlock.\n",
      "  self.pid = os.fork()\n",
      "Epoch 0: 100%|██████████████████████████████████████████████████████| 54/54 [01:22<00:00,  1.53s/it]\n"
     ]
    },
    {
     "name": "stdout",
     "output_type": "stream",
     "text": [
      "Epoch 1: Average Loss = 31.998647689819336\n"
     ]
    },
    {
     "name": "stderr",
     "output_type": "stream",
     "text": [
      "Epoch 1: 100%|██████████████████████████████████████████████████████| 54/54 [01:30<00:00,  1.67s/it]\n"
     ]
    },
    {
     "name": "stdout",
     "output_type": "stream",
     "text": [
      "Epoch 2: Average Loss = 25.428096771240234\n"
     ]
    },
    {
     "name": "stderr",
     "output_type": "stream",
     "text": [
      "Epoch 2: 100%|██████████████████████████████████████████████████████| 54/54 [01:30<00:00,  1.68s/it]\n"
     ]
    },
    {
     "name": "stdout",
     "output_type": "stream",
     "text": [
      "Epoch 3: Average Loss = 22.026193618774414\n"
     ]
    },
    {
     "name": "stderr",
     "output_type": "stream",
     "text": [
      "Epoch 3: 100%|██████████████████████████████████████████████████████| 54/54 [01:31<00:00,  1.69s/it]\n"
     ]
    },
    {
     "name": "stdout",
     "output_type": "stream",
     "text": [
      "Epoch 4: Average Loss = 20.58120346069336\n"
     ]
    },
    {
     "name": "stderr",
     "output_type": "stream",
     "text": [
      "Epoch 4: 100%|██████████████████████████████████████████████████████| 54/54 [01:31<00:00,  1.69s/it]\n"
     ]
    },
    {
     "name": "stdout",
     "output_type": "stream",
     "text": [
      "Epoch 5: Average Loss = 18.689950942993164\n"
     ]
    },
    {
     "name": "stderr",
     "output_type": "stream",
     "text": [
      "Epoch 5: 100%|██████████████████████████████████████████████████████| 54/54 [01:31<00:00,  1.69s/it]\n"
     ]
    },
    {
     "name": "stdout",
     "output_type": "stream",
     "text": [
      "Epoch 6: Average Loss = 17.593189239501953\n"
     ]
    },
    {
     "name": "stderr",
     "output_type": "stream",
     "text": [
      "Epoch 6: 100%|██████████████████████████████████████████████████████| 54/54 [01:31<00:00,  1.69s/it]\n"
     ]
    },
    {
     "name": "stdout",
     "output_type": "stream",
     "text": [
      "Epoch 7: Average Loss = 16.269994735717773\n"
     ]
    },
    {
     "name": "stderr",
     "output_type": "stream",
     "text": [
      "Epoch 7: 100%|██████████████████████████████████████████████████████| 54/54 [01:31<00:00,  1.69s/it]\n"
     ]
    },
    {
     "name": "stdout",
     "output_type": "stream",
     "text": [
      "Epoch 8: Average Loss = 15.086450576782227\n"
     ]
    },
    {
     "name": "stderr",
     "output_type": "stream",
     "text": [
      "Epoch 8: 100%|██████████████████████████████████████████████████████| 54/54 [01:31<00:00,  1.69s/it]\n"
     ]
    },
    {
     "name": "stdout",
     "output_type": "stream",
     "text": [
      "Epoch 9: Average Loss = 14.105534553527832\n"
     ]
    },
    {
     "name": "stderr",
     "output_type": "stream",
     "text": [
      "Epoch 9: 100%|██████████████████████████████████████████████████████| 54/54 [01:31<00:00,  1.69s/it]\n"
     ]
    },
    {
     "name": "stdout",
     "output_type": "stream",
     "text": [
      "Epoch 10: Average Loss = 12.496246337890625\n"
     ]
    },
    {
     "name": "stderr",
     "output_type": "stream",
     "text": [
      "Epoch 10: 100%|█████████████████████████████████████████████████████| 54/54 [01:31<00:00,  1.69s/it]\n"
     ]
    },
    {
     "name": "stdout",
     "output_type": "stream",
     "text": [
      "Epoch 11: Average Loss = 11.52458667755127\n"
     ]
    },
    {
     "name": "stderr",
     "output_type": "stream",
     "text": [
      "Epoch 11: 100%|█████████████████████████████████████████████████████| 54/54 [01:31<00:00,  1.69s/it]\n"
     ]
    },
    {
     "name": "stdout",
     "output_type": "stream",
     "text": [
      "Epoch 12: Average Loss = 10.255732536315918\n"
     ]
    },
    {
     "name": "stderr",
     "output_type": "stream",
     "text": [
      "Epoch 12: 100%|█████████████████████████████████████████████████████| 54/54 [01:31<00:00,  1.69s/it]\n"
     ]
    },
    {
     "name": "stdout",
     "output_type": "stream",
     "text": [
      "Epoch 13: Average Loss = 9.306452751159668\n"
     ]
    },
    {
     "name": "stderr",
     "output_type": "stream",
     "text": [
      "Epoch 13: 100%|█████████████████████████████████████████████████████| 54/54 [01:31<00:00,  1.69s/it]\n"
     ]
    },
    {
     "name": "stdout",
     "output_type": "stream",
     "text": [
      "Epoch 14: Average Loss = 7.745296955108643\n"
     ]
    },
    {
     "name": "stderr",
     "output_type": "stream",
     "text": [
      "Epoch 14: 100%|█████████████████████████████████████████████████████| 54/54 [01:31<00:00,  1.69s/it]\n"
     ]
    },
    {
     "name": "stdout",
     "output_type": "stream",
     "text": [
      "Epoch 15: Average Loss = 7.12523889541626\n"
     ]
    },
    {
     "name": "stderr",
     "output_type": "stream",
     "text": [
      "Epoch 15: 100%|█████████████████████████████████████████████████████| 54/54 [01:31<00:00,  1.69s/it]\n"
     ]
    },
    {
     "name": "stdout",
     "output_type": "stream",
     "text": [
      "Epoch 16: Average Loss = 6.1429057121276855\n"
     ]
    },
    {
     "name": "stderr",
     "output_type": "stream",
     "text": [
      "Epoch 16: 100%|█████████████████████████████████████████████████████| 54/54 [01:31<00:00,  1.69s/it]\n"
     ]
    },
    {
     "name": "stdout",
     "output_type": "stream",
     "text": [
      "Epoch 17: Average Loss = 5.407734394073486\n"
     ]
    },
    {
     "name": "stderr",
     "output_type": "stream",
     "text": [
      "Epoch 17: 100%|█████████████████████████████████████████████████████| 54/54 [01:31<00:00,  1.69s/it]\n"
     ]
    },
    {
     "name": "stdout",
     "output_type": "stream",
     "text": [
      "Epoch 18: Average Loss = 4.991553783416748\n"
     ]
    },
    {
     "name": "stderr",
     "output_type": "stream",
     "text": [
      "Epoch 18: 100%|█████████████████████████████████████████████████████| 54/54 [01:31<00:00,  1.69s/it]\n"
     ]
    },
    {
     "name": "stdout",
     "output_type": "stream",
     "text": [
      "Epoch 19: Average Loss = 4.072727680206299\n"
     ]
    },
    {
     "name": "stderr",
     "output_type": "stream",
     "text": [
      "Epoch 19: 100%|█████████████████████████████████████████████████████| 54/54 [01:31<00:00,  1.69s/it]"
     ]
    },
    {
     "name": "stdout",
     "output_type": "stream",
     "text": [
      "Epoch 20: Average Loss = 3.6490542888641357\n"
     ]
    },
    {
     "name": "stderr",
     "output_type": "stream",
     "text": [
      "\n"
     ]
    }
   ],
   "source": [
    "# Download dataset (if not already downloaded)\n",
    "datasets.IPanda50.get_data('../data/IPanda50')\n",
    "# Load dataset metadata\n",
    "metadata = datasets.IPanda50('../data/IPanda50')\n",
    "transform = T.Compose([T.Resize([224, 224]), T.ToTensor(), T.Normalize(mean=(0.485, 0.456, 0.406), std=(0.229, 0.224, 0.225))])\n",
    "dataset = WildlifeDataset(metadata.df, metadata.root, transform=transform)\n",
    "\n",
    "\n",
    "# Download MegaDescriptor-T backbone from HuggingFace Hub\n",
    "backbone = timm.create_model('hf-hub:BVRA/MegaDescriptor-T-224', num_classes=0, pretrained=True)\n",
    "\n",
    "# Arcface loss - needs backbone output size and number of classes.\n",
    "objective = ArcFaceLoss(\n",
    "    num_classes=dataset.num_classes,\n",
    "    embedding_size=768,\n",
    "    margin=0.5,\n",
    "    scale=64\n",
    "    )\n",
    "\n",
    "# Optimize parameters in backbone and in objective using single optimizer.\n",
    "params = itertools.chain(backbone.parameters(), objective.parameters())\n",
    "optimizer = SGD(params=params, lr=0.001, momentum=0.9)\n",
    "\n",
    "def print_epoch_loss(trainer, epoch_data):\n",
    "    # This function will print the average loss at the end of each epoch\n",
    "    print(f\"Epoch {trainer.epoch}: Average Loss = {epoch_data['train_loss_epoch_avg']}\")\n",
    "\n",
    "\n",
    "trainer = BasicTrainer(\n",
    "    dataset=dataset,\n",
    "    model=backbone,\n",
    "    objective=objective,\n",
    "    optimizer=optimizer,\n",
    "    epochs=20,\n",
    "    device='cuda',\n",
    "    epoch_callback=print_epoch_loss\n",
    ")\n",
    "\n",
    "trainer.train()\n"
   ]
  },
  {
   "cell_type": "code",
   "execution_count": 7,
   "id": "cd9dc4ab",
   "metadata": {
    "execution": {
     "iopub.execute_input": "2024-08-06T04:07:30.536416Z",
     "iopub.status.busy": "2024-08-06T04:07:30.535453Z",
     "iopub.status.idle": "2024-08-06T04:07:30.906671Z",
     "shell.execute_reply": "2024-08-06T04:07:30.905760Z"
    },
    "papermill": {
     "duration": 0.490239,
     "end_time": "2024-08-06T04:07:30.908908",
     "exception": false,
     "start_time": "2024-08-06T04:07:30.418669",
     "status": "completed"
    },
    "tags": []
   },
   "outputs": [],
   "source": [
    "import torch\n",
    "trainer.save(\"retrained_chks\", file_name=\"arcfaceloass_IPanda50_retrained_checkpoint.pth\")"
   ]
  },
  {
   "cell_type": "code",
   "execution_count": 8,
   "id": "51827fc2",
   "metadata": {
    "execution": {
     "iopub.execute_input": "2024-08-06T04:07:31.139584Z",
     "iopub.status.busy": "2024-08-06T04:07:31.139250Z",
     "iopub.status.idle": "2024-08-06T04:07:31.148403Z",
     "shell.execute_reply": "2024-08-06T04:07:31.147684Z"
    },
    "papermill": {
     "duration": 0.126197,
     "end_time": "2024-08-06T04:07:31.150250",
     "exception": false,
     "start_time": "2024-08-06T04:07:31.024053",
     "status": "completed"
    },
    "tags": []
   },
   "outputs": [],
   "source": [
    "dataset_database_P = WildlifeDataset(metadata.df.iloc[100:,:], metadata.root, transform=transform)\n",
    "dataset_query_P = WildlifeDataset(metadata.df.iloc[:100,:], metadata.root, transform=transform)"
   ]
  },
  {
   "cell_type": "code",
   "execution_count": 9,
   "id": "690bc43d",
   "metadata": {
    "execution": {
     "iopub.execute_input": "2024-08-06T04:07:31.380991Z",
     "iopub.status.busy": "2024-08-06T04:07:31.380634Z",
     "iopub.status.idle": "2024-08-06T04:08:33.171032Z",
     "shell.execute_reply": "2024-08-06T04:08:33.169871Z"
    },
    "papermill": {
     "duration": 61.907545,
     "end_time": "2024-08-06T04:08:33.173299",
     "exception": false,
     "start_time": "2024-08-06T04:07:31.265754",
     "status": "completed"
    },
    "tags": []
   },
   "outputs": [
    {
     "name": "stderr",
     "output_type": "stream",
     "text": [
      "100%|█████████████████████████████████████████████████████████████████| 1/1 [00:01<00:00,  1.51s/it]\n",
      "100%|███████████████████████████████████████████████████████████████| 53/53 [01:00<00:00,  1.14s/it]\n"
     ]
    }
   ],
   "source": [
    "# name = 'hf-hub:BVRA/MegaDescriptor-T-224'\n",
    "extractor_P = DeepFeatures(trainer.model , device = 'cuda')\n",
    "query_P, database_P = extractor_P(dataset_query_P), extractor_P(dataset_database_P)"
   ]
  },
  {
   "cell_type": "code",
   "execution_count": 10,
   "id": "6c59ed42",
   "metadata": {
    "execution": {
     "iopub.execute_input": "2024-08-06T04:08:33.417401Z",
     "iopub.status.busy": "2024-08-06T04:08:33.416777Z",
     "iopub.status.idle": "2024-08-06T04:08:33.461925Z",
     "shell.execute_reply": "2024-08-06T04:08:33.460790Z"
    },
    "papermill": {
     "duration": 0.169076,
     "end_time": "2024-08-06T04:08:33.464120",
     "exception": false,
     "start_time": "2024-08-06T04:08:33.295044",
     "status": "completed"
    },
    "tags": []
   },
   "outputs": [
    {
     "name": "stdout",
     "output_type": "stream",
     "text": [
      "{'cosine': array([[-2.1417500e-02, -6.2752441e-02, -3.7886046e-02, ...,\n",
      "         8.0639780e-01, -2.3861703e-02, -2.2734758e-02],\n",
      "       [ 5.5107418e-03, -5.5852152e-02, -1.4979074e-02, ...,\n",
      "         3.0285709e-02, -1.3994721e-01, -3.3173028e-02],\n",
      "       [-5.3321950e-02, -1.6287115e-01,  4.4074226e-03, ...,\n",
      "        -5.0728880e-02, -7.8984678e-02, -6.7862809e-02],\n",
      "       ...,\n",
      "       [-8.4366478e-02, -5.8164906e-02,  2.4536673e-02, ...,\n",
      "        -1.2659199e-02, -8.9036934e-02, -2.8803427e-02],\n",
      "       [-3.4749683e-02,  2.9800681e-02, -9.8843738e-02, ...,\n",
      "         3.3994600e-02,  1.4757553e-01,  2.5087292e-04],\n",
      "       [-3.3111785e-02, -2.7916227e-03,  9.1598958e-01, ...,\n",
      "         2.4535820e-02, -4.1479819e-02, -3.9219651e-02]], dtype=float32)}\n"
     ]
    }
   ],
   "source": [
    "similarity_function = CosineSimilarity()\n",
    "similarity_P = similarity_function(query_P, database_P)\n",
    "print(similarity_P)"
   ]
  },
  {
   "cell_type": "code",
   "execution_count": 11,
   "id": "dcfa77ee",
   "metadata": {
    "execution": {
     "iopub.execute_input": "2024-08-06T04:08:33.704951Z",
     "iopub.status.busy": "2024-08-06T04:08:33.704116Z",
     "iopub.status.idle": "2024-08-06T04:08:33.724417Z",
     "shell.execute_reply": "2024-08-06T04:08:33.723243Z"
    },
    "papermill": {
     "duration": 0.141588,
     "end_time": "2024-08-06T04:08:33.726626",
     "exception": false,
     "start_time": "2024-08-06T04:08:33.585038",
     "status": "completed"
    },
    "tags": []
   },
   "outputs": [
    {
     "name": "stdout",
     "output_type": "stream",
     "text": [
      "Predictions for 100 test Images:-\n",
      " ['36_xingda' '37_xinger' '01_aoliao' '33_wuyi' '47_yingying' '15_maosun'\n",
      " '09_fushun' '10_hexing' '36_xingda' '19_nannan' '08_fulai' '31_shurong'\n",
      " '44_yayi' '39_xinghui' '28_sa' '14_maodou' '14_maodou' '00_aibang'\n",
      " '21_nina' '35_xilan' '19_nannan' '33_wuyi' '47_yingying' '49_yuanrun'\n",
      " '36_xingda' '34_xiaoqiao' '16_maotao' '48_yongbang' '11_jiaoao'\n",
      " '49_yuanrun' '36_xingda' '28_sa' '35_xilan' '35_xilan' '02_baolan'\n",
      " '31_shurong' '31_shurong' '02_baolan' '23_qiubang' '26_qiyuan'\n",
      " '04_chengdui' '35_xilan' '08_fulai' '00_aibang' '28_sa' '29_shuangxiong'\n",
      " '46_yazhu' '44_yayi' '14_maodou' '30_shuqing' '36_xingda' '39_xinghui'\n",
      " '33_wuyi' '10_hexing' '10_hexing' '00_aibang' '49_yuanrun' '35_xilan'\n",
      " '04_chengdui' '10_hexing' '39_xinghui' '36_xingda' '37_xinger'\n",
      " '36_xingda' '16_maotao' '22_nini' '00_aibang' '39_xinghui' '10_hexing'\n",
      " '17_meibang' '00_aibang' '28_sa' '14_maodou' '15_maosun' '32_susu'\n",
      " '26_qiyuan' '27_rourou' '23_qiubang' '18_miaomiao' '48_yongbang'\n",
      " '46_yazhu' '16_maotao' '33_wuyi' '13_jingliang' '37_xinger' '08_fulai'\n",
      " '09_fushun' '40_xingrong' '22_nini' '49_yuanrun' '09_fushun' '28_sa'\n",
      " '48_yongbang' '47_yingying' '28_sa' '15_maosun' '39_xinghui' '20_nike'\n",
      " '43_yaxing' '47_yingying']\n"
     ]
    },
    {
     "name": "stderr",
     "output_type": "stream",
     "text": [
      "/opt/conda/lib/python3.10/site-packages/wildlife_tools/inference/classifier.py:61: FutureWarning: DataFrame.fillna with 'method' is deprecated and will raise in a future version. Use obj.ffill() or obj.bfill() instead.\n",
      "  results = pd.DataFrame(results).T.fillna(method=\"ffill\").T\n"
     ]
    }
   ],
   "source": [
    "classifier_P = KnnClassifier(k=1, database_labels=dataset_database_P.labels_string)\n",
    "predictions_P = classifier_P(similarity_P['cosine'])\n",
    "print(\"Predictions for 100 test Images:-\\n\",predictions_P)"
   ]
  },
  {
   "cell_type": "code",
   "execution_count": 12,
   "id": "1d2af057",
   "metadata": {
    "execution": {
     "iopub.execute_input": "2024-08-06T04:08:33.969882Z",
     "iopub.status.busy": "2024-08-06T04:08:33.969291Z",
     "iopub.status.idle": "2024-08-06T04:08:33.974473Z",
     "shell.execute_reply": "2024-08-06T04:08:33.973683Z"
    },
    "papermill": {
     "duration": 0.128282,
     "end_time": "2024-08-06T04:08:33.976580",
     "exception": false,
     "start_time": "2024-08-06T04:08:33.848298",
     "status": "completed"
    },
    "tags": []
   },
   "outputs": [
    {
     "name": "stdout",
     "output_type": "stream",
     "text": [
      "Accuracy on IPanda50 data: 100.00%\n"
     ]
    }
   ],
   "source": [
    "accuracy_P = np.mean(dataset_query_P.labels_string == predictions_P)\n",
    "print(\"Accuracy on IPanda50 data: {:.2f}%\".format(accuracy_P * 100))"
   ]
  },
  {
   "cell_type": "code",
   "execution_count": 13,
   "id": "7c082801",
   "metadata": {
    "execution": {
     "iopub.execute_input": "2024-08-06T04:08:34.218564Z",
     "iopub.status.busy": "2024-08-06T04:08:34.218252Z",
     "iopub.status.idle": "2024-08-06T04:08:34.234315Z",
     "shell.execute_reply": "2024-08-06T04:08:34.233483Z"
    },
    "papermill": {
     "duration": 0.138815,
     "end_time": "2024-08-06T04:08:34.236176",
     "exception": false,
     "start_time": "2024-08-06T04:08:34.097361",
     "status": "completed"
    },
    "tags": []
   },
   "outputs": [
    {
     "name": "stdout",
     "output_type": "stream",
     "text": [
      "Precision: 1.0\n",
      "Recall: 1.0\n",
      "F1 Score: 1.0\n"
     ]
    }
   ],
   "source": [
    "precision_P = precision_score(dataset_query_P.labels_string, predictions_P, average='weighted',zero_division=1)\n",
    "recall_P = recall_score(dataset_query_P.labels_string, predictions_P, average='weighted',zero_division=1)\n",
    "f1_P = f1_score(dataset_query_P.labels_string, predictions_P, average='weighted',zero_division=1)\n",
    "print(\"Precision:\", precision_P)\n",
    "print(\"Recall:\", recall_P)\n",
    "print(\"F1 Score:\", f1_P)"
   ]
  },
  {
   "cell_type": "code",
   "execution_count": 14,
   "id": "1a459f98",
   "metadata": {
    "execution": {
     "iopub.execute_input": "2024-08-06T04:08:34.477471Z",
     "iopub.status.busy": "2024-08-06T04:08:34.477156Z",
     "iopub.status.idle": "2024-08-06T04:08:34.482222Z",
     "shell.execute_reply": "2024-08-06T04:08:34.481335Z"
    },
    "papermill": {
     "duration": 0.128014,
     "end_time": "2024-08-06T04:08:34.484350",
     "exception": false,
     "start_time": "2024-08-06T04:08:34.356336",
     "status": "completed"
    },
    "tags": []
   },
   "outputs": [],
   "source": [
    "# # Assuming you need to use the model for further operations\n",
    "# # Initialize the model architecture again as needed for loading\n",
    "# # Make sure to initialize it exactly as you did for training\n",
    "# model = timm.create_model('hf-hub:BVRA/MegaDescriptor-T-224', num_classes=0, pretrained=False)\n",
    "\n",
    "# # # Create a BasicTrainer instance with the initialized model (other parameters should match the training setup)\n",
    "# # trainer = BasicTrainer(\n",
    "# #     dataset=None,  # Assuming no dataset is needed just for loading\n",
    "# #     model=model,\n",
    "# #     objective=None,  # Assuming no objective needed just for loading\n",
    "# #     optimizer=None,  # Assuming no optimizer needed just for loading\n",
    "# #     epochs=0,  # No training epochs needed for just loading\n",
    "# #     device='cuda'  # Adjust as per your device configuration\n",
    "# # )\n",
    "\n",
    "# trainer = BasicTrainer(\n",
    "#     dataset=dataset,\n",
    "#     model=backbone,\n",
    "#     objective=objective,\n",
    "#     optimizer=optimizer,\n",
    "#     epochs=2,\n",
    "#     device='cuda',\n",
    "#     epoch_callback=print_epoch_loss\n",
    "# )\n",
    "# # Load the model\n",
    "# trainer.load(\"retrained_chks/arcfaceloass_retrained_checkpoint.pth\")\n",
    "\n",
    "# # After loading, the model in the trainer instance is now the re-trained model\n",
    "# # and is ready for use in further processing or inference\n"
   ]
  },
  {
   "cell_type": "markdown",
   "id": "6d95fada",
   "metadata": {
    "papermill": {
     "duration": 0.119868,
     "end_time": "2024-08-06T04:08:34.723491",
     "exception": false,
     "start_time": "2024-08-06T04:08:34.603623",
     "status": "completed"
    },
    "tags": []
   },
   "source": [
    "**MacaqueFaces Dataset**"
   ]
  },
  {
   "cell_type": "code",
   "execution_count": 15,
   "id": "2af89a81",
   "metadata": {
    "execution": {
     "iopub.execute_input": "2024-08-06T04:08:34.979760Z",
     "iopub.status.busy": "2024-08-06T04:08:34.979058Z",
     "iopub.status.idle": "2024-08-06T04:36:12.767407Z",
     "shell.execute_reply": "2024-08-06T04:36:12.766248Z"
    },
    "papermill": {
     "duration": 1657.926104,
     "end_time": "2024-08-06T04:36:12.769798",
     "exception": false,
     "start_time": "2024-08-06T04:08:34.843694",
     "status": "completed"
    },
    "tags": []
   },
   "outputs": [
    {
     "name": "stdout",
     "output_type": "stream",
     "text": [
      "DATASET MacaqueFaces: DOWNLOADING STARTED.\n"
     ]
    },
    {
     "name": "stderr",
     "output_type": "stream",
     "text": [
      "MacaqueFaces.zip: 12.0MB [00:00, 13.9MB/s]                            \n",
      "MacaqueFaces_ImageInfo.csv: 410kB [00:00, 1.02MB/s]                            \n"
     ]
    },
    {
     "name": "stdout",
     "output_type": "stream",
     "text": [
      "DATASET MacaqueFaces: EXTRACTING STARTED.\n",
      "DATASET MacaqueFaces: FINISHED.\n",
      "\n"
     ]
    },
    {
     "name": "stderr",
     "output_type": "stream",
     "text": [
      "Epoch 0:   0%|                                                               | 0/50 [00:00<?, ?it/s]/opt/conda/lib/python3.10/multiprocessing/popen_fork.py:66: RuntimeWarning: os.fork() was called. os.fork() is incompatible with multithreaded code, and JAX is multithreaded, so this will likely lead to a deadlock.\n",
      "  self.pid = os.fork()\n",
      "Epoch 0:  98%|████████████████████████████████████████████████████▉ | 49/50 [01:22<00:01,  1.66s/it]/opt/conda/lib/python3.10/multiprocessing/popen_fork.py:66: RuntimeWarning: os.fork() was called. os.fork() is incompatible with multithreaded code, and JAX is multithreaded, so this will likely lead to a deadlock.\n",
      "  self.pid = os.fork()\n",
      "Epoch 0: 100%|██████████████████████████████████████████████████████| 50/50 [01:22<00:00,  1.66s/it]\n"
     ]
    },
    {
     "name": "stdout",
     "output_type": "stream",
     "text": [
      "Epoch 1: Average Loss = 24.94143295288086\n"
     ]
    },
    {
     "name": "stderr",
     "output_type": "stream",
     "text": [
      "Epoch 1: 100%|██████████████████████████████████████████████████████| 50/50 [01:22<00:00,  1.65s/it]\n"
     ]
    },
    {
     "name": "stdout",
     "output_type": "stream",
     "text": [
      "Epoch 2: Average Loss = 4.538894176483154\n"
     ]
    },
    {
     "name": "stderr",
     "output_type": "stream",
     "text": [
      "Epoch 2: 100%|██████████████████████████████████████████████████████| 50/50 [01:22<00:00,  1.65s/it]\n"
     ]
    },
    {
     "name": "stdout",
     "output_type": "stream",
     "text": [
      "Epoch 3: Average Loss = 2.235983371734619\n"
     ]
    },
    {
     "name": "stderr",
     "output_type": "stream",
     "text": [
      "Epoch 3: 100%|██████████████████████████████████████████████████████| 50/50 [01:22<00:00,  1.65s/it]\n"
     ]
    },
    {
     "name": "stdout",
     "output_type": "stream",
     "text": [
      "Epoch 4: Average Loss = 1.2994608879089355\n"
     ]
    },
    {
     "name": "stderr",
     "output_type": "stream",
     "text": [
      "Epoch 4: 100%|██████████████████████████████████████████████████████| 50/50 [01:22<00:00,  1.66s/it]\n"
     ]
    },
    {
     "name": "stdout",
     "output_type": "stream",
     "text": [
      "Epoch 5: Average Loss = 1.066367506980896\n"
     ]
    },
    {
     "name": "stderr",
     "output_type": "stream",
     "text": [
      "Epoch 5: 100%|██████████████████████████████████████████████████████| 50/50 [01:22<00:00,  1.65s/it]\n"
     ]
    },
    {
     "name": "stdout",
     "output_type": "stream",
     "text": [
      "Epoch 6: Average Loss = 0.8630545735359192\n"
     ]
    },
    {
     "name": "stderr",
     "output_type": "stream",
     "text": [
      "Epoch 6: 100%|██████████████████████████████████████████████████████| 50/50 [01:22<00:00,  1.66s/it]\n"
     ]
    },
    {
     "name": "stdout",
     "output_type": "stream",
     "text": [
      "Epoch 7: Average Loss = 0.7833725214004517\n"
     ]
    },
    {
     "name": "stderr",
     "output_type": "stream",
     "text": [
      "Epoch 7: 100%|██████████████████████████████████████████████████████| 50/50 [01:22<00:00,  1.66s/it]\n"
     ]
    },
    {
     "name": "stdout",
     "output_type": "stream",
     "text": [
      "Epoch 8: Average Loss = 0.7023130655288696\n"
     ]
    },
    {
     "name": "stderr",
     "output_type": "stream",
     "text": [
      "Epoch 8: 100%|██████████████████████████████████████████████████████| 50/50 [01:22<00:00,  1.66s/it]\n"
     ]
    },
    {
     "name": "stdout",
     "output_type": "stream",
     "text": [
      "Epoch 9: Average Loss = 0.6959819793701172\n"
     ]
    },
    {
     "name": "stderr",
     "output_type": "stream",
     "text": [
      "Epoch 9: 100%|██████████████████████████████████████████████████████| 50/50 [01:22<00:00,  1.66s/it]\n"
     ]
    },
    {
     "name": "stdout",
     "output_type": "stream",
     "text": [
      "Epoch 10: Average Loss = 0.6662742495536804\n"
     ]
    },
    {
     "name": "stderr",
     "output_type": "stream",
     "text": [
      "Epoch 10: 100%|█████████████████████████████████████████████████████| 50/50 [01:22<00:00,  1.66s/it]\n"
     ]
    },
    {
     "name": "stdout",
     "output_type": "stream",
     "text": [
      "Epoch 11: Average Loss = 0.5309886336326599\n"
     ]
    },
    {
     "name": "stderr",
     "output_type": "stream",
     "text": [
      "Epoch 11: 100%|█████████████████████████████████████████████████████| 50/50 [01:22<00:00,  1.66s/it]\n"
     ]
    },
    {
     "name": "stdout",
     "output_type": "stream",
     "text": [
      "Epoch 12: Average Loss = 0.5758720636367798\n"
     ]
    },
    {
     "name": "stderr",
     "output_type": "stream",
     "text": [
      "Epoch 12: 100%|█████████████████████████████████████████████████████| 50/50 [01:22<00:00,  1.66s/it]\n"
     ]
    },
    {
     "name": "stdout",
     "output_type": "stream",
     "text": [
      "Epoch 13: Average Loss = 0.5050891637802124\n"
     ]
    },
    {
     "name": "stderr",
     "output_type": "stream",
     "text": [
      "Epoch 13: 100%|█████████████████████████████████████████████████████| 50/50 [01:22<00:00,  1.65s/it]\n"
     ]
    },
    {
     "name": "stdout",
     "output_type": "stream",
     "text": [
      "Epoch 14: Average Loss = 0.5481876730918884\n"
     ]
    },
    {
     "name": "stderr",
     "output_type": "stream",
     "text": [
      "Epoch 14: 100%|█████████████████████████████████████████████████████| 50/50 [01:22<00:00,  1.65s/it]\n"
     ]
    },
    {
     "name": "stdout",
     "output_type": "stream",
     "text": [
      "Epoch 15: Average Loss = 0.5172637104988098\n"
     ]
    },
    {
     "name": "stderr",
     "output_type": "stream",
     "text": [
      "Epoch 15: 100%|█████████████████████████████████████████████████████| 50/50 [01:22<00:00,  1.65s/it]\n"
     ]
    },
    {
     "name": "stdout",
     "output_type": "stream",
     "text": [
      "Epoch 16: Average Loss = 0.5599196553230286\n"
     ]
    },
    {
     "name": "stderr",
     "output_type": "stream",
     "text": [
      "Epoch 16: 100%|█████████████████████████████████████████████████████| 50/50 [01:22<00:00,  1.66s/it]\n"
     ]
    },
    {
     "name": "stdout",
     "output_type": "stream",
     "text": [
      "Epoch 17: Average Loss = 0.5361711382865906\n"
     ]
    },
    {
     "name": "stderr",
     "output_type": "stream",
     "text": [
      "Epoch 17: 100%|█████████████████████████████████████████████████████| 50/50 [01:22<00:00,  1.65s/it]\n"
     ]
    },
    {
     "name": "stdout",
     "output_type": "stream",
     "text": [
      "Epoch 18: Average Loss = 0.5163429975509644\n"
     ]
    },
    {
     "name": "stderr",
     "output_type": "stream",
     "text": [
      "Epoch 18: 100%|█████████████████████████████████████████████████████| 50/50 [01:22<00:00,  1.65s/it]\n"
     ]
    },
    {
     "name": "stdout",
     "output_type": "stream",
     "text": [
      "Epoch 19: Average Loss = 0.49987325072288513\n"
     ]
    },
    {
     "name": "stderr",
     "output_type": "stream",
     "text": [
      "Epoch 19: 100%|█████████████████████████████████████████████████████| 50/50 [01:22<00:00,  1.65s/it]"
     ]
    },
    {
     "name": "stdout",
     "output_type": "stream",
     "text": [
      "Epoch 20: Average Loss = 0.5094174742698669\n"
     ]
    },
    {
     "name": "stderr",
     "output_type": "stream",
     "text": [
      "\n"
     ]
    }
   ],
   "source": [
    "# Download dataset (if not already downloaded)\n",
    "datasets.MacaqueFaces.get_data('../data/MacaqueFaces')\n",
    "# Load dataset metadata\n",
    "metadata = datasets.MacaqueFaces('../data/MacaqueFaces')\n",
    "transform = T.Compose([T.Resize([224, 224]), T.ToTensor(), T.Normalize(mean=(0.485, 0.456, 0.406), std=(0.229, 0.224, 0.225))])\n",
    "dataset = WildlifeDataset(metadata.df, metadata.root, transform=transform)\n",
    "\n",
    "\n",
    "# Download MegaDescriptor-T backbone from HuggingFace Hub\n",
    "backbone = timm.create_model('hf-hub:BVRA/MegaDescriptor-T-224', num_classes=0, pretrained=True)\n",
    "\n",
    "# Arcface loss - needs backbone output size and number of classes.\n",
    "objective = ArcFaceLoss(\n",
    "    num_classes=dataset.num_classes,\n",
    "    embedding_size=768,\n",
    "    margin=0.5,\n",
    "    scale=64\n",
    "    )\n",
    "\n",
    "# Optimize parameters in backbone and in objective using single optimizer.\n",
    "params = itertools.chain(backbone.parameters(), objective.parameters())\n",
    "optimizer = SGD(params=params, lr=0.001, momentum=0.9)\n",
    "\n",
    "def print_epoch_loss(trainer, epoch_data):\n",
    "    # This function will print the average loss at the end of each epoch\n",
    "    print(f\"Epoch {trainer.epoch}: Average Loss = {epoch_data['train_loss_epoch_avg']}\")\n",
    "\n",
    "\n",
    "trainer = BasicTrainer(\n",
    "    dataset=dataset,\n",
    "    model=backbone,\n",
    "    objective=objective,\n",
    "    optimizer=optimizer,\n",
    "    epochs=20,\n",
    "    device='cuda',\n",
    "    epoch_callback=print_epoch_loss\n",
    ")\n",
    "\n",
    "trainer.train()"
   ]
  },
  {
   "cell_type": "code",
   "execution_count": 16,
   "id": "cf07f4c6",
   "metadata": {
    "execution": {
     "iopub.execute_input": "2024-08-06T04:36:13.200251Z",
     "iopub.status.busy": "2024-08-06T04:36:13.199878Z",
     "iopub.status.idle": "2024-08-06T04:36:13.507134Z",
     "shell.execute_reply": "2024-08-06T04:36:13.506266Z"
    },
    "papermill": {
     "duration": 0.533286,
     "end_time": "2024-08-06T04:36:13.509395",
     "exception": false,
     "start_time": "2024-08-06T04:36:12.976109",
     "status": "completed"
    },
    "tags": []
   },
   "outputs": [],
   "source": [
    "import torch\n",
    "trainer.save(\"retrained_chks\", file_name=\"arcfaceloass_MacaqueFaces_retrained_checkpoint.pth\")"
   ]
  },
  {
   "cell_type": "code",
   "execution_count": 17,
   "id": "1732e9c2",
   "metadata": {
    "execution": {
     "iopub.execute_input": "2024-08-06T04:36:13.921711Z",
     "iopub.status.busy": "2024-08-06T04:36:13.920902Z",
     "iopub.status.idle": "2024-08-06T04:36:44.290373Z",
     "shell.execute_reply": "2024-08-06T04:36:44.288975Z"
    },
    "papermill": {
     "duration": 30.578104,
     "end_time": "2024-08-06T04:36:44.292930",
     "exception": false,
     "start_time": "2024-08-06T04:36:13.714826",
     "status": "completed"
    },
    "tags": []
   },
   "outputs": [
    {
     "name": "stderr",
     "output_type": "stream",
     "text": [
      "100%|█████████████████████████████████████████████████████████████████| 1/1 [00:00<00:00,  1.30it/s]\n",
      "100%|███████████████████████████████████████████████████████████████| 49/49 [00:29<00:00,  1.66it/s]\n"
     ]
    }
   ],
   "source": [
    "dataset_database_P = WildlifeDataset(metadata.df.iloc[100:,:], metadata.root, transform=transform)\n",
    "dataset_query_P = WildlifeDataset(metadata.df.iloc[:100,:], metadata.root, transform=transform)\n",
    "\n",
    "# name = 'hf-hub:BVRA/MegaDescriptor-T-224'\n",
    "extractor_P = DeepFeatures(trainer.model , device = 'cuda')\n",
    "query_P, database_P = extractor_P(dataset_query_P), extractor_P(dataset_database_P)"
   ]
  },
  {
   "cell_type": "code",
   "execution_count": 18,
   "id": "6e35c863",
   "metadata": {
    "execution": {
     "iopub.execute_input": "2024-08-06T04:36:44.707100Z",
     "iopub.status.busy": "2024-08-06T04:36:44.706708Z",
     "iopub.status.idle": "2024-08-06T04:36:44.734976Z",
     "shell.execute_reply": "2024-08-06T04:36:44.733969Z"
    },
    "papermill": {
     "duration": 0.23771,
     "end_time": "2024-08-06T04:36:44.737208",
     "exception": false,
     "start_time": "2024-08-06T04:36:44.499498",
     "status": "completed"
    },
    "tags": []
   },
   "outputs": [
    {
     "name": "stdout",
     "output_type": "stream",
     "text": [
      "{'cosine': array([[0.91731256, 0.9817444 , 0.971934  , ..., 0.0368656 , 0.03633226,\n",
      "        0.04372552],\n",
      "       [0.9326054 , 0.98513794, 0.9802152 , ..., 0.07727763, 0.0784016 ,\n",
      "        0.0861953 ],\n",
      "       [0.93377304, 0.99035513, 0.98925805, ..., 0.04479201, 0.04619441,\n",
      "        0.05449455],\n",
      "       ...,\n",
      "       [0.9321706 , 0.99156415, 0.989763  , ..., 0.04636301, 0.04647823,\n",
      "        0.05706368],\n",
      "       [0.9224577 , 0.98855805, 0.98566794, ..., 0.04969281, 0.04629517,\n",
      "        0.05735105],\n",
      "       [0.94088566, 0.9828846 , 0.97803926, ..., 0.10768093, 0.10712467,\n",
      "        0.11637452]], dtype=float32)}\n"
     ]
    }
   ],
   "source": [
    "similarity_function = CosineSimilarity()\n",
    "similarity_P = similarity_function(query_P, database_P)\n",
    "print(similarity_P)"
   ]
  },
  {
   "cell_type": "code",
   "execution_count": 19,
   "id": "0e754a22",
   "metadata": {
    "execution": {
     "iopub.execute_input": "2024-08-06T04:36:45.163541Z",
     "iopub.status.busy": "2024-08-06T04:36:45.162616Z",
     "iopub.status.idle": "2024-08-06T04:36:45.178670Z",
     "shell.execute_reply": "2024-08-06T04:36:45.177620Z"
    },
    "papermill": {
     "duration": 0.228095,
     "end_time": "2024-08-06T04:36:45.181109",
     "exception": false,
     "start_time": "2024-08-06T04:36:44.953014",
     "status": "completed"
    },
    "tags": []
   },
   "outputs": [
    {
     "name": "stdout",
     "output_type": "stream",
     "text": [
      "Predictions for 100 test Images:-\n",
      " ['Dan' 'Dan' 'Dan' 'Dan' 'Dan' 'Dan' 'Dan' 'Dan' 'Dan' 'Dan' 'Dan' 'Dan'\n",
      " 'Dan' 'Dan' 'Dan' 'Dan' 'Dan' 'Dan' 'Dan' 'Dan' 'Dan' 'Dan' 'Dan' 'Dan'\n",
      " 'Dan' 'Dan' 'Dan' 'Dan' 'Dan' 'Dan' 'Dan' 'Dan' 'Dan' 'Dan' 'Dan' 'Dan'\n",
      " 'Dan' 'Dan' 'Dan' 'Dan' 'Dan' 'Dan' 'Dan' 'Dan' 'Dan' 'Dan' 'Dan' 'Dan'\n",
      " 'Dan' 'Dan' 'Dan' 'Dan' 'Dan' 'Dan' 'Dan' 'Dan' 'Dan' 'Dan' 'Dan' 'Dan'\n",
      " 'Dan' 'Dan' 'Dan' 'Dan' 'Dan' 'Dan' 'Dan' 'Dan' 'Dan' 'Dan' 'Dan' 'Dan'\n",
      " 'Dan' 'Dan' 'Dan' 'Dan' 'Dan' 'Dan' 'Dan' 'Dan' 'Dan' 'Dan' 'Dan' 'Dan'\n",
      " 'Dan' 'Dan' 'Dan' 'Dan' 'Dan' 'Dan' 'Dan' 'Dan' 'Dan' 'Dan' 'Dan' 'Dan'\n",
      " 'Dan' 'Dan' 'Dan' 'Dan']\n"
     ]
    },
    {
     "name": "stderr",
     "output_type": "stream",
     "text": [
      "/opt/conda/lib/python3.10/site-packages/wildlife_tools/inference/classifier.py:61: FutureWarning: DataFrame.fillna with 'method' is deprecated and will raise in a future version. Use obj.ffill() or obj.bfill() instead.\n",
      "  results = pd.DataFrame(results).T.fillna(method=\"ffill\").T\n"
     ]
    }
   ],
   "source": [
    "classifier_P = KnnClassifier(k=1, database_labels=dataset_database_P.labels_string)\n",
    "predictions_P = classifier_P(similarity_P['cosine'])\n",
    "print(\"Predictions for 100 test Images:-\\n\",predictions_P)"
   ]
  },
  {
   "cell_type": "code",
   "execution_count": 20,
   "id": "bdb2fdfd",
   "metadata": {
    "execution": {
     "iopub.execute_input": "2024-08-06T04:36:45.646187Z",
     "iopub.status.busy": "2024-08-06T04:36:45.645287Z",
     "iopub.status.idle": "2024-08-06T04:36:45.650890Z",
     "shell.execute_reply": "2024-08-06T04:36:45.649996Z"
    },
    "papermill": {
     "duration": 0.265443,
     "end_time": "2024-08-06T04:36:45.652945",
     "exception": false,
     "start_time": "2024-08-06T04:36:45.387502",
     "status": "completed"
    },
    "tags": []
   },
   "outputs": [
    {
     "name": "stdout",
     "output_type": "stream",
     "text": [
      "Accuracy on MacaqueFaces data: 100.00%\n"
     ]
    }
   ],
   "source": [
    "accuracy_P = np.mean(dataset_query_P.labels_string == predictions_P)\n",
    "print(\"Accuracy on MacaqueFaces data: {:.2f}%\".format(accuracy_P * 100))"
   ]
  },
  {
   "cell_type": "code",
   "execution_count": 21,
   "id": "feb086c4",
   "metadata": {
    "execution": {
     "iopub.execute_input": "2024-08-06T04:36:46.068729Z",
     "iopub.status.busy": "2024-08-06T04:36:46.068134Z",
     "iopub.status.idle": "2024-08-06T04:36:46.082355Z",
     "shell.execute_reply": "2024-08-06T04:36:46.081296Z"
    },
    "papermill": {
     "duration": 0.224223,
     "end_time": "2024-08-06T04:36:46.084393",
     "exception": false,
     "start_time": "2024-08-06T04:36:45.860170",
     "status": "completed"
    },
    "tags": []
   },
   "outputs": [
    {
     "name": "stdout",
     "output_type": "stream",
     "text": [
      "Precision: 1.0\n",
      "Recall: 1.0\n",
      "F1 Score: 1.0\n"
     ]
    }
   ],
   "source": [
    "precision_P = precision_score(dataset_query_P.labels_string, predictions_P, average='weighted',zero_division=1)\n",
    "recall_P = recall_score(dataset_query_P.labels_string, predictions_P, average='weighted',zero_division=1)\n",
    "f1_P = f1_score(dataset_query_P.labels_string, predictions_P, average='weighted',zero_division=1)\n",
    "print(\"Precision:\", precision_P)\n",
    "print(\"Recall:\", recall_P)\n",
    "print(\"F1 Score:\", f1_P)"
   ]
  },
  {
   "cell_type": "markdown",
   "id": "f0970d4a",
   "metadata": {
    "papermill": {
     "duration": 0.204391,
     "end_time": "2024-08-06T04:36:46.497265",
     "exception": false,
     "start_time": "2024-08-06T04:36:46.292874",
     "status": "completed"
    },
    "tags": []
   },
   "source": [
    "**LionData Dateset**"
   ]
  },
  {
   "cell_type": "code",
   "execution_count": 22,
   "id": "ffec12ab",
   "metadata": {
    "execution": {
     "iopub.execute_input": "2024-08-06T04:36:46.907801Z",
     "iopub.status.busy": "2024-08-06T04:36:46.907101Z",
     "iopub.status.idle": "2024-08-06T04:40:34.278308Z",
     "shell.execute_reply": "2024-08-06T04:40:34.277200Z"
    },
    "papermill": {
     "duration": 227.578981,
     "end_time": "2024-08-06T04:40:34.280618",
     "exception": false,
     "start_time": "2024-08-06T04:36:46.701637",
     "status": "completed"
    },
    "tags": []
   },
   "outputs": [
    {
     "name": "stdout",
     "output_type": "stream",
     "text": [
      "DATASET LionData: DOWNLOADING STARTED.\n"
     ]
    },
    {
     "name": "stderr",
     "output_type": "stream",
     "text": [
      "main.zip: 495MB [00:20, 24.6MB/s]\n"
     ]
    },
    {
     "name": "stdout",
     "output_type": "stream",
     "text": [
      "DATASET LionData: EXTRACTING STARTED.\n",
      "DATASET LionData: FINISHED.\n",
      "\n"
     ]
    },
    {
     "name": "stderr",
     "output_type": "stream",
     "text": [
      "Epoch 0:   0%|                                                                | 0/6 [00:00<?, ?it/s]/opt/conda/lib/python3.10/multiprocessing/popen_fork.py:66: RuntimeWarning: os.fork() was called. os.fork() is incompatible with multithreaded code, and JAX is multithreaded, so this will likely lead to a deadlock.\n",
      "  self.pid = os.fork()\n",
      "Epoch 0: 100%|████████████████████████████████████████████████████████| 6/6 [00:09<00:00,  1.52s/it]/opt/conda/lib/python3.10/multiprocessing/popen_fork.py:66: RuntimeWarning: os.fork() was called. os.fork() is incompatible with multithreaded code, and JAX is multithreaded, so this will likely lead to a deadlock.\n",
      "  self.pid = os.fork()\n",
      "Epoch 0: 100%|████████████████████████████████████████████████████████| 6/6 [00:09<00:00,  1.63s/it]\n"
     ]
    },
    {
     "name": "stdout",
     "output_type": "stream",
     "text": [
      "Epoch 1: Average Loss = 36.8021354675293\n"
     ]
    },
    {
     "name": "stderr",
     "output_type": "stream",
     "text": [
      "Epoch 1: 100%|████████████████████████████████████████████████████████| 6/6 [00:10<00:00,  1.67s/it]\n"
     ]
    },
    {
     "name": "stdout",
     "output_type": "stream",
     "text": [
      "Epoch 2: Average Loss = 35.97000503540039\n"
     ]
    },
    {
     "name": "stderr",
     "output_type": "stream",
     "text": [
      "Epoch 2: 100%|████████████████████████████████████████████████████████| 6/6 [00:10<00:00,  1.72s/it]\n"
     ]
    },
    {
     "name": "stdout",
     "output_type": "stream",
     "text": [
      "Epoch 3: Average Loss = 35.477783203125\n"
     ]
    },
    {
     "name": "stderr",
     "output_type": "stream",
     "text": [
      "Epoch 3: 100%|████████████████████████████████████████████████████████| 6/6 [00:10<00:00,  1.76s/it]\n"
     ]
    },
    {
     "name": "stdout",
     "output_type": "stream",
     "text": [
      "Epoch 4: Average Loss = 35.296104431152344\n"
     ]
    },
    {
     "name": "stderr",
     "output_type": "stream",
     "text": [
      "Epoch 4: 100%|████████████████████████████████████████████████████████| 6/6 [00:10<00:00,  1.73s/it]\n"
     ]
    },
    {
     "name": "stdout",
     "output_type": "stream",
     "text": [
      "Epoch 5: Average Loss = 35.129215240478516\n"
     ]
    },
    {
     "name": "stderr",
     "output_type": "stream",
     "text": [
      "Epoch 5: 100%|████████████████████████████████████████████████████████| 6/6 [00:10<00:00,  1.69s/it]\n"
     ]
    },
    {
     "name": "stdout",
     "output_type": "stream",
     "text": [
      "Epoch 6: Average Loss = 35.07180404663086\n"
     ]
    },
    {
     "name": "stderr",
     "output_type": "stream",
     "text": [
      "Epoch 6: 100%|████████████████████████████████████████████████████████| 6/6 [00:09<00:00,  1.66s/it]\n"
     ]
    },
    {
     "name": "stdout",
     "output_type": "stream",
     "text": [
      "Epoch 7: Average Loss = 34.994873046875\n"
     ]
    },
    {
     "name": "stderr",
     "output_type": "stream",
     "text": [
      "Epoch 7: 100%|████████████████████████████████████████████████████████| 6/6 [00:09<00:00,  1.66s/it]\n"
     ]
    },
    {
     "name": "stdout",
     "output_type": "stream",
     "text": [
      "Epoch 8: Average Loss = 34.8880615234375\n"
     ]
    },
    {
     "name": "stderr",
     "output_type": "stream",
     "text": [
      "Epoch 8: 100%|████████████████████████████████████████████████████████| 6/6 [00:09<00:00,  1.65s/it]\n"
     ]
    },
    {
     "name": "stdout",
     "output_type": "stream",
     "text": [
      "Epoch 9: Average Loss = 34.82167053222656\n"
     ]
    },
    {
     "name": "stderr",
     "output_type": "stream",
     "text": [
      "Epoch 9: 100%|████████████████████████████████████████████████████████| 6/6 [00:10<00:00,  1.67s/it]\n"
     ]
    },
    {
     "name": "stdout",
     "output_type": "stream",
     "text": [
      "Epoch 10: Average Loss = 34.74095153808594\n"
     ]
    },
    {
     "name": "stderr",
     "output_type": "stream",
     "text": [
      "Epoch 10: 100%|███████████████████████████████████████████████████████| 6/6 [00:10<00:00,  1.69s/it]\n"
     ]
    },
    {
     "name": "stdout",
     "output_type": "stream",
     "text": [
      "Epoch 11: Average Loss = 34.6450080871582\n"
     ]
    },
    {
     "name": "stderr",
     "output_type": "stream",
     "text": [
      "Epoch 11: 100%|███████████████████████████████████████████████████████| 6/6 [00:10<00:00,  1.70s/it]\n"
     ]
    },
    {
     "name": "stdout",
     "output_type": "stream",
     "text": [
      "Epoch 12: Average Loss = 34.44792175292969\n"
     ]
    },
    {
     "name": "stderr",
     "output_type": "stream",
     "text": [
      "Epoch 12: 100%|███████████████████████████████████████████████████████| 6/6 [00:10<00:00,  1.70s/it]\n"
     ]
    },
    {
     "name": "stdout",
     "output_type": "stream",
     "text": [
      "Epoch 13: Average Loss = 34.33734130859375\n"
     ]
    },
    {
     "name": "stderr",
     "output_type": "stream",
     "text": [
      "Epoch 13: 100%|███████████████████████████████████████████████████████| 6/6 [00:10<00:00,  1.69s/it]\n"
     ]
    },
    {
     "name": "stdout",
     "output_type": "stream",
     "text": [
      "Epoch 14: Average Loss = 34.14411544799805\n"
     ]
    },
    {
     "name": "stderr",
     "output_type": "stream",
     "text": [
      "Epoch 14: 100%|███████████████████████████████████████████████████████| 6/6 [00:10<00:00,  1.68s/it]\n"
     ]
    },
    {
     "name": "stdout",
     "output_type": "stream",
     "text": [
      "Epoch 15: Average Loss = 33.9715461730957\n"
     ]
    },
    {
     "name": "stderr",
     "output_type": "stream",
     "text": [
      "Epoch 15: 100%|███████████████████████████████████████████████████████| 6/6 [00:10<00:00,  1.67s/it]\n"
     ]
    },
    {
     "name": "stdout",
     "output_type": "stream",
     "text": [
      "Epoch 16: Average Loss = 33.64336013793945\n"
     ]
    },
    {
     "name": "stderr",
     "output_type": "stream",
     "text": [
      "Epoch 16: 100%|███████████████████████████████████████████████████████| 6/6 [00:10<00:00,  1.67s/it]\n"
     ]
    },
    {
     "name": "stdout",
     "output_type": "stream",
     "text": [
      "Epoch 17: Average Loss = 33.40827941894531\n"
     ]
    },
    {
     "name": "stderr",
     "output_type": "stream",
     "text": [
      "Epoch 17: 100%|███████████████████████████████████████████████████████| 6/6 [00:10<00:00,  1.68s/it]\n"
     ]
    },
    {
     "name": "stdout",
     "output_type": "stream",
     "text": [
      "Epoch 18: Average Loss = 33.16015625\n"
     ]
    },
    {
     "name": "stderr",
     "output_type": "stream",
     "text": [
      "Epoch 18: 100%|███████████████████████████████████████████████████████| 6/6 [00:10<00:00,  1.69s/it]\n"
     ]
    },
    {
     "name": "stdout",
     "output_type": "stream",
     "text": [
      "Epoch 19: Average Loss = 32.88702392578125\n"
     ]
    },
    {
     "name": "stderr",
     "output_type": "stream",
     "text": [
      "Epoch 19: 100%|███████████████████████████████████████████████████████| 6/6 [00:10<00:00,  1.69s/it]"
     ]
    },
    {
     "name": "stdout",
     "output_type": "stream",
     "text": [
      "Epoch 20: Average Loss = 32.554256439208984\n"
     ]
    },
    {
     "name": "stderr",
     "output_type": "stream",
     "text": [
      "\n"
     ]
    }
   ],
   "source": [
    "# Download dataset (if not already downloaded)\n",
    "datasets.LionData.get_data('../data/LionData')\n",
    "# Load dataset metadata\n",
    "metadata = datasets.LionData('../data/LionData')\n",
    "transform = T.Compose([T.Resize([224, 224]), T.ToTensor(), T.Normalize(mean=(0.485, 0.456, 0.406), std=(0.229, 0.224, 0.225))])\n",
    "dataset = WildlifeDataset(metadata.df, metadata.root, transform=transform)\n",
    "\n",
    "\n",
    "# Download MegaDescriptor-T backbone from HuggingFace Hub\n",
    "backbone = timm.create_model('hf-hub:BVRA/MegaDescriptor-T-224', num_classes=0, pretrained=True)\n",
    "\n",
    "# Arcface loss - needs backbone output size and number of classes.\n",
    "objective = ArcFaceLoss(\n",
    "    num_classes=dataset.num_classes,\n",
    "    embedding_size=768,\n",
    "    margin=0.5,\n",
    "    scale=64\n",
    "    )\n",
    "\n",
    "# Optimize parameters in backbone and in objective using single optimizer.\n",
    "params = itertools.chain(backbone.parameters(), objective.parameters())\n",
    "optimizer = SGD(params=params, lr=0.001, momentum=0.9)\n",
    "\n",
    "def print_epoch_loss(trainer, epoch_data):\n",
    "    # This function will print the average loss at the end of each epoch\n",
    "    print(f\"Epoch {trainer.epoch}: Average Loss = {epoch_data['train_loss_epoch_avg']}\")\n",
    "\n",
    "\n",
    "trainer = BasicTrainer(\n",
    "    dataset=dataset,\n",
    "    model=backbone,\n",
    "    objective=objective,\n",
    "    optimizer=optimizer,\n",
    "    epochs=20,\n",
    "    device='cuda',\n",
    "    epoch_callback=print_epoch_loss\n",
    ")\n",
    "\n",
    "trainer.train()"
   ]
  },
  {
   "cell_type": "code",
   "execution_count": 23,
   "id": "b5216552",
   "metadata": {
    "execution": {
     "iopub.execute_input": "2024-08-06T04:40:34.761664Z",
     "iopub.status.busy": "2024-08-06T04:40:34.761267Z",
     "iopub.status.idle": "2024-08-06T04:40:35.068335Z",
     "shell.execute_reply": "2024-08-06T04:40:35.067554Z"
    },
    "papermill": {
     "duration": 0.54919,
     "end_time": "2024-08-06T04:40:35.070762",
     "exception": false,
     "start_time": "2024-08-06T04:40:34.521572",
     "status": "completed"
    },
    "tags": []
   },
   "outputs": [],
   "source": [
    "import torch\n",
    "trainer.save(\"retrained_chks\", file_name=\"arcfaceloass_LionData_retrained_checkpoint.pth\")"
   ]
  },
  {
   "cell_type": "code",
   "execution_count": 24,
   "id": "54bde276",
   "metadata": {
    "execution": {
     "iopub.execute_input": "2024-08-06T04:40:35.550561Z",
     "iopub.status.busy": "2024-08-06T04:40:35.550203Z",
     "iopub.status.idle": "2024-08-06T04:40:35.558429Z",
     "shell.execute_reply": "2024-08-06T04:40:35.557612Z"
    },
    "papermill": {
     "duration": 0.249115,
     "end_time": "2024-08-06T04:40:35.560236",
     "exception": false,
     "start_time": "2024-08-06T04:40:35.311121",
     "status": "completed"
    },
    "tags": []
   },
   "outputs": [],
   "source": [
    "dataset_database_P = WildlifeDataset(metadata.df.iloc[100:,:], metadata.root, transform=transform)\n",
    "dataset_query_P = WildlifeDataset(metadata.df.iloc[:100,:], metadata.root, transform=transform)"
   ]
  },
  {
   "cell_type": "code",
   "execution_count": 25,
   "id": "84708231",
   "metadata": {
    "execution": {
     "iopub.execute_input": "2024-08-06T04:40:36.039812Z",
     "iopub.status.busy": "2024-08-06T04:40:36.038946Z",
     "iopub.status.idle": "2024-08-06T04:40:40.366747Z",
     "shell.execute_reply": "2024-08-06T04:40:40.365416Z"
    },
    "papermill": {
     "duration": 4.570072,
     "end_time": "2024-08-06T04:40:40.368767",
     "exception": false,
     "start_time": "2024-08-06T04:40:35.798695",
     "status": "completed"
    },
    "tags": []
   },
   "outputs": [
    {
     "name": "stderr",
     "output_type": "stream",
     "text": [
      "100%|█████████████████████████████████████████████████████████████████| 1/1 [00:00<00:00,  1.16it/s]\n",
      "100%|█████████████████████████████████████████████████████████████████| 5/5 [00:03<00:00,  1.46it/s]\n"
     ]
    }
   ],
   "source": [
    "# name = 'hf-hub:BVRA/MegaDescriptor-T-224'\n",
    "extractor_P = DeepFeatures(trainer.model , device = 'cuda')\n",
    "query_P, database_P = extractor_P(dataset_query_P), extractor_P(dataset_database_P)"
   ]
  },
  {
   "cell_type": "code",
   "execution_count": 26,
   "id": "5abb0cdc",
   "metadata": {
    "execution": {
     "iopub.execute_input": "2024-08-06T04:40:40.847018Z",
     "iopub.status.busy": "2024-08-06T04:40:40.846222Z",
     "iopub.status.idle": "2024-08-06T04:40:40.855884Z",
     "shell.execute_reply": "2024-08-06T04:40:40.854852Z"
    },
    "papermill": {
     "duration": 0.250117,
     "end_time": "2024-08-06T04:40:40.857775",
     "exception": false,
     "start_time": "2024-08-06T04:40:40.607658",
     "status": "completed"
    },
    "tags": []
   },
   "outputs": [
    {
     "name": "stdout",
     "output_type": "stream",
     "text": [
      "{'cosine': array([[0.30619138, 0.3194886 , 0.49256814, ..., 0.611298  , 0.46321848,\n",
      "        0.3901457 ],\n",
      "       [0.6390827 , 0.2937554 , 0.62275714, ..., 0.300912  , 0.59419376,\n",
      "        0.37286848],\n",
      "       [0.22977239, 0.32008484, 0.40241268, ..., 0.44615704, 0.5013564 ,\n",
      "        0.6091844 ],\n",
      "       ...,\n",
      "       [0.22411226, 0.40842342, 0.3827599 , ..., 0.68785405, 0.55094326,\n",
      "        0.5227213 ],\n",
      "       [0.11210939, 0.2982122 , 0.42886007, ..., 0.5044739 , 0.6140084 ,\n",
      "        0.68350255],\n",
      "       [0.23061556, 0.41766965, 0.39014614, ..., 0.60067624, 0.51764905,\n",
      "        0.55700004]], dtype=float32)}\n"
     ]
    }
   ],
   "source": [
    "similarity_function = CosineSimilarity()\n",
    "similarity_P = similarity_function(query_P, database_P)\n",
    "print(similarity_P)"
   ]
  },
  {
   "cell_type": "code",
   "execution_count": 27,
   "id": "9dde3d4d",
   "metadata": {
    "execution": {
     "iopub.execute_input": "2024-08-06T04:40:41.339455Z",
     "iopub.status.busy": "2024-08-06T04:40:41.338497Z",
     "iopub.status.idle": "2024-08-06T04:40:41.353189Z",
     "shell.execute_reply": "2024-08-06T04:40:41.352090Z"
    },
    "papermill": {
     "duration": 0.258754,
     "end_time": "2024-08-06T04:40:41.355320",
     "exception": false,
     "start_time": "2024-08-06T04:40:41.096566",
     "status": "completed"
    },
    "tags": []
   },
   "outputs": [
    {
     "name": "stdout",
     "output_type": "stream",
     "text": [
      "Predictions for 100 test Images:-\n",
      " ['Amber' 'Mooza' 'Shambe' 'Tigisi' 'Nashipai' 'Moswen' 'Enderoni'\n",
      " 'Simaloi' 'Spring' 'Joy' 'Maskio' 'Kioni' 'Nuru' 'Kinna' 'Autumn' 'Lilly'\n",
      " 'Spring' 'Kibibi' 'Enderoni' 'Saitoti' 'Senteu' 'Enkume' 'Safi'\n",
      " 'Olbarnoti' 'Chaimu' 'Romeo' 'Ayo' 'Naisiae' 'Sadala' 'Mashavu' 'Moswen'\n",
      " 'Napi' 'Arria' 'Kinna' 'Napi' 'Kibibi' 'Naengop' 'Kioni' 'Leia' 'Kibibi'\n",
      " 'Lucinda' 'Shambe' 'Leia' 'Sebastian' 'Olonyori' 'Naisiae' 'Mooza'\n",
      " 'Moswen' 'Ngare' 'Naini' 'Kioni' 'Lucinda' 'Kinna' 'Kioni' 'Sadala'\n",
      " 'Mashavu' 'Safi' 'Mama-Kali' 'Kioni' 'Napi' 'Opi' 'Blackie' 'Kibibi'\n",
      " 'Doto' 'Nariku-Inkgera' 'White-Eye' 'Nakepari' 'Bibi' 'Joy' 'Amber'\n",
      " 'Shemsa' 'Olonyori' 'Mickey' 'Esiriwua' 'Tigisi' 'Bibi' 'Blackie' 'Safi'\n",
      " 'Lemayian' 'Nariku-Inkgera' 'Cleopatra' 'Mashavu' 'Mama-Kali' 'Lolparpit'\n",
      " 'Lucinda' 'Naini' 'Rescue' 'Moswen' 'Empurra' 'Leia' 'Blackie' 'Simaloi'\n",
      " 'Lucinda' 'Cleopatra' 'Selenkay' 'Doto' 'Maskio' 'Enkume' 'Naape'\n",
      " 'Enderoni']\n"
     ]
    },
    {
     "name": "stderr",
     "output_type": "stream",
     "text": [
      "/opt/conda/lib/python3.10/site-packages/wildlife_tools/inference/classifier.py:61: FutureWarning: DataFrame.fillna with 'method' is deprecated and will raise in a future version. Use obj.ffill() or obj.bfill() instead.\n",
      "  results = pd.DataFrame(results).T.fillna(method=\"ffill\").T\n"
     ]
    }
   ],
   "source": [
    "classifier_P = KnnClassifier(k=1, database_labels=dataset_database_P.labels_string)\n",
    "predictions_P = classifier_P(similarity_P['cosine'])\n",
    "print(\"Predictions for 100 test Images:-\\n\",predictions_P)"
   ]
  },
  {
   "cell_type": "code",
   "execution_count": 28,
   "id": "5eec1918",
   "metadata": {
    "execution": {
     "iopub.execute_input": "2024-08-06T04:40:41.830758Z",
     "iopub.status.busy": "2024-08-06T04:40:41.830416Z",
     "iopub.status.idle": "2024-08-06T04:40:41.835786Z",
     "shell.execute_reply": "2024-08-06T04:40:41.834930Z"
    },
    "papermill": {
     "duration": 0.246136,
     "end_time": "2024-08-06T04:40:41.837794",
     "exception": false,
     "start_time": "2024-08-06T04:40:41.591658",
     "status": "completed"
    },
    "tags": []
   },
   "outputs": [
    {
     "name": "stdout",
     "output_type": "stream",
     "text": [
      "Accuracy on LionData data: 20.00%\n"
     ]
    }
   ],
   "source": [
    "accuracy_P = np.mean(dataset_query_P.labels_string == predictions_P)\n",
    "print(\"Accuracy on LionData data: {:.2f}%\".format(accuracy_P * 100))"
   ]
  },
  {
   "cell_type": "code",
   "execution_count": 29,
   "id": "407a0b91",
   "metadata": {
    "execution": {
     "iopub.execute_input": "2024-08-06T04:40:42.362223Z",
     "iopub.status.busy": "2024-08-06T04:40:42.361535Z",
     "iopub.status.idle": "2024-08-06T04:40:42.377974Z",
     "shell.execute_reply": "2024-08-06T04:40:42.377070Z"
    },
    "papermill": {
     "duration": 0.257682,
     "end_time": "2024-08-06T04:40:42.379782",
     "exception": false,
     "start_time": "2024-08-06T04:40:42.122100",
     "status": "completed"
    },
    "tags": []
   },
   "outputs": [
    {
     "name": "stdout",
     "output_type": "stream",
     "text": [
      "Precision: 0.6016666666666667\n",
      "Recall: 0.2\n",
      "F1 Score: 0.1749047619047619\n"
     ]
    }
   ],
   "source": [
    "precision_P = precision_score(dataset_query_P.labels_string, predictions_P, average='weighted',zero_division=1)\n",
    "recall_P = recall_score(dataset_query_P.labels_string, predictions_P, average='weighted',zero_division=1)\n",
    "f1_P = f1_score(dataset_query_P.labels_string, predictions_P, average='weighted',zero_division=1)\n",
    "print(\"Precision:\", precision_P)\n",
    "print(\"Recall:\", recall_P)\n",
    "print(\"F1 Score:\", f1_P)"
   ]
  },
  {
   "cell_type": "markdown",
   "id": "e85c1fe1",
   "metadata": {
    "papermill": {
     "duration": 0.237674,
     "end_time": "2024-08-06T04:40:42.855908",
     "exception": false,
     "start_time": "2024-08-06T04:40:42.618234",
     "status": "completed"
    },
    "tags": []
   },
   "source": [
    "**NyalaDataSet**"
   ]
  },
  {
   "cell_type": "code",
   "execution_count": 30,
   "id": "22215ecf",
   "metadata": {
    "execution": {
     "iopub.execute_input": "2024-08-06T04:40:43.332375Z",
     "iopub.status.busy": "2024-08-06T04:40:43.331517Z",
     "iopub.status.idle": "2024-08-06T04:57:51.755243Z",
     "shell.execute_reply": "2024-08-06T04:57:51.754019Z"
    },
    "papermill": {
     "duration": 1028.663598,
     "end_time": "2024-08-06T04:57:51.757540",
     "exception": false,
     "start_time": "2024-08-06T04:40:43.093942",
     "status": "completed"
    },
    "tags": []
   },
   "outputs": [
    {
     "name": "stdout",
     "output_type": "stream",
     "text": [
      "DATASET NyalaData: DOWNLOADING STARTED.\n"
     ]
    },
    {
     "name": "stderr",
     "output_type": "stream",
     "text": [
      "main.zip: 495MB [00:19, 25.3MB/s]\n"
     ]
    },
    {
     "name": "stdout",
     "output_type": "stream",
     "text": [
      "DATASET NyalaData: EXTRACTING STARTED.\n",
      "DATASET NyalaData: FINISHED.\n",
      "\n"
     ]
    },
    {
     "name": "stderr",
     "output_type": "stream",
     "text": [
      "Epoch 0:   0%|                                                               | 0/16 [00:00<?, ?it/s]/opt/conda/lib/python3.10/multiprocessing/popen_fork.py:66: RuntimeWarning: os.fork() was called. os.fork() is incompatible with multithreaded code, and JAX is multithreaded, so this will likely lead to a deadlock.\n",
      "  self.pid = os.fork()\n",
      "Epoch 0:  94%|██████████████████████████████████████████████████▋   | 15/16 [00:49<00:03,  3.15s/it]/opt/conda/lib/python3.10/multiprocessing/popen_fork.py:66: RuntimeWarning: os.fork() was called. os.fork() is incompatible with multithreaded code, and JAX is multithreaded, so this will likely lead to a deadlock.\n",
      "  self.pid = os.fork()\n",
      "Epoch 0: 100%|██████████████████████████████████████████████████████| 16/16 [00:50<00:00,  3.13s/it]\n"
     ]
    },
    {
     "name": "stdout",
     "output_type": "stream",
     "text": [
      "Epoch 1: Average Loss = 37.456298828125\n"
     ]
    },
    {
     "name": "stderr",
     "output_type": "stream",
     "text": [
      "Epoch 1: 100%|██████████████████████████████████████████████████████| 16/16 [00:50<00:00,  3.14s/it]\n"
     ]
    },
    {
     "name": "stdout",
     "output_type": "stream",
     "text": [
      "Epoch 2: Average Loss = 36.21846008300781\n"
     ]
    },
    {
     "name": "stderr",
     "output_type": "stream",
     "text": [
      "Epoch 2: 100%|██████████████████████████████████████████████████████| 16/16 [00:50<00:00,  3.13s/it]\n"
     ]
    },
    {
     "name": "stdout",
     "output_type": "stream",
     "text": [
      "Epoch 3: Average Loss = 35.769405364990234\n"
     ]
    },
    {
     "name": "stderr",
     "output_type": "stream",
     "text": [
      "Epoch 3: 100%|██████████████████████████████████████████████████████| 16/16 [00:49<00:00,  3.12s/it]\n"
     ]
    },
    {
     "name": "stdout",
     "output_type": "stream",
     "text": [
      "Epoch 4: Average Loss = 35.57439422607422\n"
     ]
    },
    {
     "name": "stderr",
     "output_type": "stream",
     "text": [
      "Epoch 4: 100%|██████████████████████████████████████████████████████| 16/16 [00:50<00:00,  3.13s/it]\n"
     ]
    },
    {
     "name": "stdout",
     "output_type": "stream",
     "text": [
      "Epoch 5: Average Loss = 35.43777847290039\n"
     ]
    },
    {
     "name": "stderr",
     "output_type": "stream",
     "text": [
      "Epoch 5: 100%|██████████████████████████████████████████████████████| 16/16 [00:49<00:00,  3.12s/it]\n"
     ]
    },
    {
     "name": "stdout",
     "output_type": "stream",
     "text": [
      "Epoch 6: Average Loss = 35.325321197509766\n"
     ]
    },
    {
     "name": "stderr",
     "output_type": "stream",
     "text": [
      "Epoch 6: 100%|██████████████████████████████████████████████████████| 16/16 [00:50<00:00,  3.14s/it]\n"
     ]
    },
    {
     "name": "stdout",
     "output_type": "stream",
     "text": [
      "Epoch 7: Average Loss = 35.2376708984375\n"
     ]
    },
    {
     "name": "stderr",
     "output_type": "stream",
     "text": [
      "Epoch 7: 100%|██████████████████████████████████████████████████████| 16/16 [00:50<00:00,  3.13s/it]\n"
     ]
    },
    {
     "name": "stdout",
     "output_type": "stream",
     "text": [
      "Epoch 8: Average Loss = 35.05922317504883\n"
     ]
    },
    {
     "name": "stderr",
     "output_type": "stream",
     "text": [
      "Epoch 8: 100%|██████████████████████████████████████████████████████| 16/16 [00:50<00:00,  3.14s/it]\n"
     ]
    },
    {
     "name": "stdout",
     "output_type": "stream",
     "text": [
      "Epoch 9: Average Loss = 34.9393196105957\n"
     ]
    },
    {
     "name": "stderr",
     "output_type": "stream",
     "text": [
      "Epoch 9: 100%|██████████████████████████████████████████████████████| 16/16 [00:50<00:00,  3.17s/it]\n"
     ]
    },
    {
     "name": "stdout",
     "output_type": "stream",
     "text": [
      "Epoch 10: Average Loss = 34.7837028503418\n"
     ]
    },
    {
     "name": "stderr",
     "output_type": "stream",
     "text": [
      "Epoch 10: 100%|█████████████████████████████████████████████████████| 16/16 [00:50<00:00,  3.13s/it]\n"
     ]
    },
    {
     "name": "stdout",
     "output_type": "stream",
     "text": [
      "Epoch 11: Average Loss = 34.628936767578125\n"
     ]
    },
    {
     "name": "stderr",
     "output_type": "stream",
     "text": [
      "Epoch 11: 100%|█████████████████████████████████████████████████████| 16/16 [00:50<00:00,  3.15s/it]\n"
     ]
    },
    {
     "name": "stdout",
     "output_type": "stream",
     "text": [
      "Epoch 12: Average Loss = 34.4648551940918\n"
     ]
    },
    {
     "name": "stderr",
     "output_type": "stream",
     "text": [
      "Epoch 12: 100%|█████████████████████████████████████████████████████| 16/16 [00:50<00:00,  3.13s/it]\n"
     ]
    },
    {
     "name": "stdout",
     "output_type": "stream",
     "text": [
      "Epoch 13: Average Loss = 34.261505126953125\n"
     ]
    },
    {
     "name": "stderr",
     "output_type": "stream",
     "text": [
      "Epoch 13: 100%|█████████████████████████████████████████████████████| 16/16 [00:50<00:00,  3.18s/it]\n"
     ]
    },
    {
     "name": "stdout",
     "output_type": "stream",
     "text": [
      "Epoch 14: Average Loss = 34.050376892089844\n"
     ]
    },
    {
     "name": "stderr",
     "output_type": "stream",
     "text": [
      "Epoch 14: 100%|█████████████████████████████████████████████████████| 16/16 [00:50<00:00,  3.13s/it]\n"
     ]
    },
    {
     "name": "stdout",
     "output_type": "stream",
     "text": [
      "Epoch 15: Average Loss = 33.738616943359375\n"
     ]
    },
    {
     "name": "stderr",
     "output_type": "stream",
     "text": [
      "Epoch 15: 100%|█████████████████████████████████████████████████████| 16/16 [00:50<00:00,  3.13s/it]\n"
     ]
    },
    {
     "name": "stdout",
     "output_type": "stream",
     "text": [
      "Epoch 16: Average Loss = 33.53681945800781\n"
     ]
    },
    {
     "name": "stderr",
     "output_type": "stream",
     "text": [
      "Epoch 16: 100%|█████████████████████████████████████████████████████| 16/16 [00:50<00:00,  3.16s/it]\n"
     ]
    },
    {
     "name": "stdout",
     "output_type": "stream",
     "text": [
      "Epoch 17: Average Loss = 33.10145568847656\n"
     ]
    },
    {
     "name": "stderr",
     "output_type": "stream",
     "text": [
      "Epoch 17: 100%|█████████████████████████████████████████████████████| 16/16 [00:50<00:00,  3.14s/it]\n"
     ]
    },
    {
     "name": "stdout",
     "output_type": "stream",
     "text": [
      "Epoch 18: Average Loss = 32.66950225830078\n"
     ]
    },
    {
     "name": "stderr",
     "output_type": "stream",
     "text": [
      "Epoch 18: 100%|█████████████████████████████████████████████████████| 16/16 [00:50<00:00,  3.16s/it]\n"
     ]
    },
    {
     "name": "stdout",
     "output_type": "stream",
     "text": [
      "Epoch 19: Average Loss = 32.31733703613281\n"
     ]
    },
    {
     "name": "stderr",
     "output_type": "stream",
     "text": [
      "Epoch 19: 100%|█████████████████████████████████████████████████████| 16/16 [00:50<00:00,  3.14s/it]"
     ]
    },
    {
     "name": "stdout",
     "output_type": "stream",
     "text": [
      "Epoch 20: Average Loss = 31.866565704345703\n"
     ]
    },
    {
     "name": "stderr",
     "output_type": "stream",
     "text": [
      "\n"
     ]
    }
   ],
   "source": [
    "# Download dataset (if not already downloaded)\n",
    "datasets.NyalaData.get_data('../data/NyalaData')\n",
    "# Load dataset metadata\n",
    "metadata = datasets.NyalaData('../data/NyalaData')\n",
    "transform = T.Compose([T.Resize([224, 224]), T.ToTensor(), T.Normalize(mean=(0.485, 0.456, 0.406), std=(0.229, 0.224, 0.225))])\n",
    "dataset = WildlifeDataset(metadata.df, metadata.root, transform=transform)\n",
    "\n",
    "\n",
    "# Download MegaDescriptor-T backbone from HuggingFace Hub\n",
    "backbone = timm.create_model('hf-hub:BVRA/MegaDescriptor-T-224', num_classes=0, pretrained=True)\n",
    "\n",
    "# Arcface loss - needs backbone output size and number of classes.\n",
    "objective = ArcFaceLoss(\n",
    "    num_classes=dataset.num_classes,\n",
    "    embedding_size=768,\n",
    "    margin=0.5,\n",
    "    scale=64\n",
    "    )\n",
    "\n",
    "# Optimize parameters in backbone and in objective using single optimizer.\n",
    "params = itertools.chain(backbone.parameters(), objective.parameters())\n",
    "optimizer = SGD(params=params, lr=0.001, momentum=0.9)\n",
    "\n",
    "def print_epoch_loss(trainer, epoch_data):\n",
    "    # This function will print the average loss at the end of each epoch\n",
    "    print(f\"Epoch {trainer.epoch}: Average Loss = {epoch_data['train_loss_epoch_avg']}\")\n",
    "\n",
    "\n",
    "trainer = BasicTrainer(\n",
    "    dataset=dataset,\n",
    "    model=backbone,\n",
    "    objective=objective,\n",
    "    optimizer=optimizer,\n",
    "    epochs=20,\n",
    "    device='cuda',\n",
    "    epoch_callback=print_epoch_loss\n",
    ")\n",
    "\n",
    "trainer.train()"
   ]
  },
  {
   "cell_type": "code",
   "execution_count": 31,
   "id": "3c75d092",
   "metadata": {
    "execution": {
     "iopub.execute_input": "2024-08-06T04:57:52.329249Z",
     "iopub.status.busy": "2024-08-06T04:57:52.328695Z",
     "iopub.status.idle": "2024-08-06T04:57:52.651186Z",
     "shell.execute_reply": "2024-08-06T04:57:52.650170Z"
    },
    "papermill": {
     "duration": 0.610885,
     "end_time": "2024-08-06T04:57:52.653516",
     "exception": false,
     "start_time": "2024-08-06T04:57:52.042631",
     "status": "completed"
    },
    "tags": []
   },
   "outputs": [],
   "source": [
    "import torch\n",
    "trainer.save(\"retrained_chks\", file_name=\"arcfaceloass_NyalaData_retrained_checkpoint.pth\")"
   ]
  },
  {
   "cell_type": "code",
   "execution_count": 32,
   "id": "461c86e6",
   "metadata": {
    "execution": {
     "iopub.execute_input": "2024-08-06T04:57:53.223255Z",
     "iopub.status.busy": "2024-08-06T04:57:53.222554Z",
     "iopub.status.idle": "2024-08-06T04:58:42.642766Z",
     "shell.execute_reply": "2024-08-06T04:58:42.641453Z"
    },
    "papermill": {
     "duration": 49.705619,
     "end_time": "2024-08-06T04:58:42.644851",
     "exception": false,
     "start_time": "2024-08-06T04:57:52.939232",
     "status": "completed"
    },
    "tags": []
   },
   "outputs": [
    {
     "name": "stderr",
     "output_type": "stream",
     "text": [
      "100%|█████████████████████████████████████████████████████████████████| 1/1 [00:03<00:00,  3.07s/it]\n",
      "100%|███████████████████████████████████████████████████████████████| 15/15 [00:46<00:00,  3.09s/it]\n"
     ]
    }
   ],
   "source": [
    "dataset_database_P = WildlifeDataset(metadata.df.iloc[100:,:], metadata.root, transform=transform)\n",
    "dataset_query_P = WildlifeDataset(metadata.df.iloc[:100,:], metadata.root, transform=transform)\n",
    "\n",
    "# name = 'hf-hub:BVRA/MegaDescriptor-T-224'\n",
    "extractor_P = DeepFeatures(trainer.model , device = 'cuda')\n",
    "query_P, database_P = extractor_P(dataset_query_P), extractor_P(dataset_database_P)"
   ]
  },
  {
   "cell_type": "code",
   "execution_count": 33,
   "id": "0ebadbc7",
   "metadata": {
    "execution": {
     "iopub.execute_input": "2024-08-06T04:58:43.216800Z",
     "iopub.status.busy": "2024-08-06T04:58:43.216389Z",
     "iopub.status.idle": "2024-08-06T04:58:43.229059Z",
     "shell.execute_reply": "2024-08-06T04:58:43.227954Z"
    },
    "papermill": {
     "duration": 0.299651,
     "end_time": "2024-08-06T04:58:43.231020",
     "exception": false,
     "start_time": "2024-08-06T04:58:42.931369",
     "status": "completed"
    },
    "tags": []
   },
   "outputs": [
    {
     "name": "stdout",
     "output_type": "stream",
     "text": [
      "{'cosine': array([[ 0.33430412, -0.04669978, -0.11801578, ...,  0.06442522,\n",
      "        -0.06267003,  0.30298132],\n",
      "       [ 0.14868379,  0.493905  ,  0.28760958, ...,  0.18865052,\n",
      "         0.27258238,  0.13491218],\n",
      "       [ 0.11450575,  0.30070543,  0.28517532, ...,  0.8053575 ,\n",
      "         0.16371356,  0.25192255],\n",
      "       ...,\n",
      "       [-0.04791659,  0.2854673 ,  0.23032412, ...,  0.09722105,\n",
      "         0.34015295,  0.0233671 ],\n",
      "       [ 0.19964384,  0.06520479,  0.13312519, ...,  0.2645728 ,\n",
      "         0.09535416,  0.3753656 ],\n",
      "       [-0.07508553,  0.34507418,  0.60637677, ...,  0.15972188,\n",
      "         0.59034646,  0.03071071]], dtype=float32)}\n"
     ]
    }
   ],
   "source": [
    "similarity_function = CosineSimilarity()\n",
    "similarity_P = similarity_function(query_P, database_P)\n",
    "print(similarity_P)"
   ]
  },
  {
   "cell_type": "code",
   "execution_count": 34,
   "id": "f34f1e52",
   "metadata": {
    "execution": {
     "iopub.execute_input": "2024-08-06T04:58:43.853461Z",
     "iopub.status.busy": "2024-08-06T04:58:43.852631Z",
     "iopub.status.idle": "2024-08-06T04:58:43.868696Z",
     "shell.execute_reply": "2024-08-06T04:58:43.867269Z"
    },
    "papermill": {
     "duration": 0.35617,
     "end_time": "2024-08-06T04:58:43.870796",
     "exception": false,
     "start_time": "2024-08-06T04:58:43.514626",
     "status": "completed"
    },
    "tags": []
   },
   "outputs": [
    {
     "name": "stdout",
     "output_type": "stream",
     "text": [
      "Predictions for 100 test Images:-\n",
      " ['155' '10' '57' '149' '144' '102' '147' '56' '114' '100' '87' '51' '33'\n",
      " '21' '193' '123' '36' '27' '131' '68' '85' '68' '104' '30' '10' '8' '48'\n",
      " '67' '34' '46' '145' '27' '147' '166' '23' '140' '124' '32' '12' '19'\n",
      " '51' '166' '30' '46' '241' '241' '114' '67' '21' '149' '115' '147' '243'\n",
      " '108' '223' '181' '104' '252' '32' '247' '46' '121' '40' '85' '31' '210'\n",
      " '65' '242' '11' '21' '142' '12' '60' '164' '102' '166' '76' '124' '51'\n",
      " '36' '20' '149' '212' '85' '42' '32' '158' '71' '165' '36' '3' '84' '21'\n",
      " '246' '33' '41' '29' '85' '40' '89']\n"
     ]
    },
    {
     "name": "stderr",
     "output_type": "stream",
     "text": [
      "/opt/conda/lib/python3.10/site-packages/wildlife_tools/inference/classifier.py:61: FutureWarning: DataFrame.fillna with 'method' is deprecated and will raise in a future version. Use obj.ffill() or obj.bfill() instead.\n",
      "  results = pd.DataFrame(results).T.fillna(method=\"ffill\").T\n"
     ]
    }
   ],
   "source": [
    "classifier_P = KnnClassifier(k=1, database_labels=dataset_database_P.labels_string)\n",
    "predictions_P = classifier_P(similarity_P['cosine'])\n",
    "print(\"Predictions for 100 test Images:-\\n\",predictions_P)"
   ]
  },
  {
   "cell_type": "code",
   "execution_count": 35,
   "id": "ab5a5ffd",
   "metadata": {
    "execution": {
     "iopub.execute_input": "2024-08-06T04:58:44.444013Z",
     "iopub.status.busy": "2024-08-06T04:58:44.443619Z",
     "iopub.status.idle": "2024-08-06T04:58:44.449516Z",
     "shell.execute_reply": "2024-08-06T04:58:44.448690Z"
    },
    "papermill": {
     "duration": 0.293958,
     "end_time": "2024-08-06T04:58:44.451386",
     "exception": false,
     "start_time": "2024-08-06T04:58:44.157428",
     "status": "completed"
    },
    "tags": []
   },
   "outputs": [
    {
     "name": "stdout",
     "output_type": "stream",
     "text": [
      "Accuracy on NyalaData data: 45.00%\n"
     ]
    }
   ],
   "source": [
    "accuracy_P = np.mean(dataset_query_P.labels_string == predictions_P)\n",
    "print(\"Accuracy on NyalaData data: {:.2f}%\".format(accuracy_P * 100))"
   ]
  },
  {
   "cell_type": "code",
   "execution_count": 36,
   "id": "b98af1b2",
   "metadata": {
    "execution": {
     "iopub.execute_input": "2024-08-06T04:58:45.024732Z",
     "iopub.status.busy": "2024-08-06T04:58:45.024024Z",
     "iopub.status.idle": "2024-08-06T04:58:45.042590Z",
     "shell.execute_reply": "2024-08-06T04:58:45.041712Z"
    },
    "papermill": {
     "duration": 0.308179,
     "end_time": "2024-08-06T04:58:45.044563",
     "exception": false,
     "start_time": "2024-08-06T04:58:44.736384",
     "status": "completed"
    },
    "tags": []
   },
   "outputs": [
    {
     "name": "stdout",
     "output_type": "stream",
     "text": [
      "Precision: 0.8033333333333332\n",
      "Recall: 0.45\n",
      "F1 Score: 0.45719047619047615\n"
     ]
    }
   ],
   "source": [
    "precision_P = precision_score(dataset_query_P.labels_string, predictions_P, average='weighted',zero_division=1)\n",
    "recall_P = recall_score(dataset_query_P.labels_string, predictions_P, average='weighted',zero_division=1)\n",
    "f1_P = f1_score(dataset_query_P.labels_string, predictions_P, average='weighted',zero_division=1)\n",
    "print(\"Precision:\", precision_P)\n",
    "print(\"Recall:\", recall_P)\n",
    "print(\"F1 Score:\", f1_P)"
   ]
  },
  {
   "cell_type": "markdown",
   "id": "e753e4c9",
   "metadata": {
    "papermill": {
     "duration": 0.283663,
     "end_time": "2024-08-06T04:58:45.612062",
     "exception": false,
     "start_time": "2024-08-06T04:58:45.328399",
     "status": "completed"
    },
    "tags": []
   },
   "source": [
    "**StripeSpotter Dataset**"
   ]
  },
  {
   "cell_type": "code",
   "execution_count": 37,
   "id": "3dbf2b98",
   "metadata": {
    "execution": {
     "iopub.execute_input": "2024-08-06T04:58:46.182389Z",
     "iopub.status.busy": "2024-08-06T04:58:46.181529Z",
     "iopub.status.idle": "2024-08-06T05:06:56.805398Z",
     "shell.execute_reply": "2024-08-06T05:06:56.804198Z"
    },
    "papermill": {
     "duration": 490.912645,
     "end_time": "2024-08-06T05:06:56.807760",
     "exception": false,
     "start_time": "2024-08-06T04:58:45.895115",
     "status": "completed"
    },
    "tags": []
   },
   "outputs": [
    {
     "name": "stdout",
     "output_type": "stream",
     "text": [
      "DATASET StripeSpotter: DOWNLOADING STARTED.\n"
     ]
    },
    {
     "name": "stderr",
     "output_type": "stream",
     "text": [
      "data-20110718.zip: 71.7MB [00:01, 59.2MB/s]                            \n",
      "data-20110718.z02: 100%|██████████| 78.6M/78.6M [00:01<00:00, 48.2MB/s]\n",
      "data-20110718.z01: 100%|██████████| 78.6M/78.6M [00:01<00:00, 42.4MB/s]\n"
     ]
    },
    {
     "name": "stdout",
     "output_type": "stream",
     "text": [
      "DATASET StripeSpotter: EXTRACTING STARTED.\n",
      " copying: data/\n",
      " copying: data/.DS_Store\n",
      " copying: data/images/\n",
      " copying: data/images/img-0000001.jpg\n",
      " copying: data/images/img-0000002.jpg\n",
      " copying: data/images/img-0000003.jpg\n",
      " copying: data/images/img-0000004.jpg\n",
      " copying: data/images/img-0000005.jpg\n",
      " copying: data/images/img-0000006.jpg\n",
      " copying: data/images/img-0000007.jpg\n",
      " copying: data/images/img-0000008.jpg\n",
      " copying: data/images/img-0000009.jpg\n",
      " copying: data/images/img-0000010.jpg\n",
      " copying: data/images/img-0000011.jpg\n",
      " copying: data/images/img-0000012.jpg\n",
      " copying: data/images/img-0000013.jpg\n",
      " copying: data/images/img-0000014.jpg\n",
      " copying: data/images/img-0000015.jpg\n",
      " copying: data/images/img-0000016.jpg\n",
      " copying: data/images/img-0000017.jpg\n",
      " copying: data/images/img-0000018.jpg\n",
      " copying: data/images/img-0000019.jpg\n",
      " copying: data/images/img-0000020.jpg\n",
      " copying: data/images/img-0000021.jpg\n",
      " copying: data/images/img-0000022.jpg\n",
      " copying: data/images/img-0000023.jpg\n",
      " copying: data/images/img-0000024.jpg\n",
      " copying: data/images/img-0000025.jpg\n",
      " copying: data/images/img-0000026.jpg\n",
      " copying: data/images/img-0000027.jpg\n",
      " copying: data/images/img-0000028.jpg\n",
      " copying: data/images/img-0000029.jpg\n",
      " copying: data/images/img-0000030.jpg\n",
      " copying: data/images/img-0000031.jpg\n",
      " copying: data/images/img-0000032.jpg\n",
      " copying: data/images/img-0000033.jpg\n",
      " copying: data/images/img-0000034.jpg\n",
      " copying: data/images/img-0000035.jpg\n",
      " copying: data/images/img-0000036.jpg\n",
      " copying: data/images/img-0000037.jpg\n",
      " copying: data/images/img-0000038.jpg\n",
      " copying: data/images/img-0000039.jpg\n",
      " copying: data/images/img-0000040.jpg\n",
      " copying: data/images/img-0000041.jpg\n",
      " copying: data/images/img-0000042.jpg\n",
      " copying: data/images/img-0000043.jpg\n",
      " copying: data/images/img-0000044.jpg\n",
      " copying: data/images/img-0000045.jpg\n",
      " copying: data/images/img-0000046.jpg\n",
      " copying: data/images/img-0000047.jpg\n",
      " copying: data/images/img-0000048.jpg\n",
      " copying: data/images/img-0000049.jpg\n",
      " copying: data/images/img-0000050.jpg\n",
      " copying: data/images/img-0000051.jpg\n",
      " copying: data/images/img-0000052.jpg\n",
      " copying: data/images/img-0000053.jpg\n",
      " copying: data/images/img-0000054.jpg\n",
      " copying: data/images/img-0000055.jpg\n",
      " copying: data/images/img-0000056.jpg\n",
      " copying: data/images/img-0000057.jpg\n",
      " copying: data/images/img-0000058.jpg\n",
      " copying: data/images/img-0000059.jpg\n",
      " copying: data/images/img-0000060.jpg\n",
      " copying: data/images/img-0000061.jpg\n",
      " copying: data/images/img-0000062.jpg\n",
      " copying: data/images/img-0000063.jpg\n",
      " copying: data/images/img-0000064.jpg\n",
      " copying: data/images/img-0000065.jpg\n",
      " copying: data/images/img-0000066.jpg\n",
      " copying: data/images/img-0000067.jpg\n",
      " copying: data/images/img-0000068.jpg\n",
      " copying: data/images/img-0000069.jpg\n",
      " copying: data/images/img-0000070.jpg\n",
      " copying: data/images/img-0000071.jpg\n",
      " copying: data/images/img-0000072.jpg\n",
      " copying: data/images/img-0000073.jpg\n",
      " copying: data/images/img-0000074.jpg\n",
      " copying: data/images/img-0000075.jpg\n",
      " copying: data/images/img-0000076.jpg\n",
      " copying: data/images/img-0000077.jpg\n",
      " copying: data/images/img-0000078.jpg\n",
      " copying: data/images/img-0000079.jpg\n",
      " copying: data/images/img-0000080.jpg\n",
      " copying: data/images/img-0000081.jpg\n",
      " copying: data/images/img-0000082.jpg\n",
      " copying: data/images/img-0000083.jpg\n",
      " copying: data/images/img-0000084.jpg\n",
      " copying: data/images/img-0000085.jpg\n",
      " copying: data/images/img-0000086.jpg\n",
      " copying: data/images/img-0000087.jpg\n",
      " copying: data/images/img-0000088.jpg\n",
      " copying: data/images/img-0000089.jpg\n",
      " copying: data/images/img-0000090.jpg\n",
      " copying: data/images/img-0000091.jpg\n",
      " copying: data/images/img-0000092.jpg\n",
      " copying: data/images/img-0000093.jpg\n",
      " copying: data/images/img-0000094.jpg\n",
      " copying: data/images/img-0000095.jpg\n",
      " copying: data/images/img-0000096.jpg\n",
      " copying: data/images/img-0000097.jpg\n",
      " copying: data/images/img-0000098.jpg\n",
      " copying: data/images/img-0000099.jpg\n",
      " copying: data/images/img-0000100.jpg\n",
      " copying: data/images/img-0000101.jpg\n",
      " copying: data/images/img-0000102.jpg\n",
      " copying: data/images/img-0000103.jpg\n",
      " copying: data/images/img-0000104.jpg\n",
      " copying: data/images/img-0000105.jpg\n",
      " copying: data/images/img-0000106.jpg\n",
      " copying: data/images/img-0000107.jpg\n",
      " copying: data/images/img-0000108.jpg\n",
      " copying: data/images/img-0000109.jpg\n",
      " copying: data/images/img-0000110.jpg\n",
      " copying: data/images/img-0000111.jpg\n",
      " copying: data/images/img-0000112.jpg\n",
      " copying: data/images/img-0000113.jpg\n",
      " copying: data/images/img-0000114.jpg\n",
      " copying: data/images/img-0000115.jpg\n",
      " copying: data/images/img-0000116.jpg\n",
      " copying: data/images/img-0000117.jpg\n",
      " copying: data/images/img-0000118.jpg\n",
      " copying: data/images/img-0000119.jpg\n",
      " copying: data/images/img-0000120.jpg\n",
      " copying: data/images/img-0000121.jpg\n",
      " copying: data/images/img-0000122.jpg\n",
      " copying: data/images/img-0000123.jpg\n",
      " copying: data/images/img-0000124.jpg\n",
      " copying: data/images/img-0000125.jpg\n",
      " copying: data/images/img-0000126.jpg\n",
      " copying: data/images/img-0000127.jpg\n",
      " copying: data/images/img-0000128.jpg\n",
      " copying: data/images/img-0000129.jpg\n",
      " copying: data/images/img-0000130.jpg\n",
      " copying: data/images/img-0000131.jpg\n",
      " copying: data/images/img-0000132.jpg\n",
      " copying: data/images/img-0000133.jpg\n",
      " copying: data/images/img-0000134.jpg\n",
      " copying: data/images/img-0000135.jpg\n",
      " copying: data/images/img-0000136.jpg\n",
      " copying: data/images/img-0000137.jpg\n",
      " copying: data/images/img-0000138.jpg\n",
      " copying: data/images/img-0000139.jpg\n",
      " copying: data/images/img-0000140.jpg\n",
      " copying: data/images/img-0000141.jpg\n",
      " copying: data/images/img-0000142.jpg\n",
      " copying: data/images/img-0000143.jpg\n",
      " copying: data/images/img-0000144.jpg\n",
      " copying: data/images/img-0000145.jpg\n",
      " copying: data/images/img-0000146.jpg\n",
      " copying: data/images/img-0000147.jpg\n",
      " copying: data/images/img-0000148.jpg\n",
      " copying: data/images/img-0000149.jpg\n",
      " copying: data/images/img-0000150.jpg\n",
      " copying: data/images/img-0000151.jpg\n",
      " copying: data/images/img-0000152.jpg\n",
      " copying: data/images/img-0000153.jpg\n",
      " copying: data/images/img-0000154.jpg\n",
      " copying: data/images/img-0000155.jpg\n",
      " copying: data/images/img-0000156.jpg\n",
      " copying: data/images/img-0000157.jpg\n",
      " copying: data/images/img-0000158.jpg\n",
      " copying: data/images/img-0000159.jpg\n",
      " copying: data/images/img-0000160.jpg\n",
      " copying: data/images/img-0000161.jpg\n",
      " copying: data/images/img-0000162.jpg\n",
      " copying: data/images/img-0000163.jpg\n",
      " copying: data/images/img-0000164.jpg\n",
      " copying: data/images/img-0000165.jpg\n",
      " copying: data/images/img-0000166.jpg\n",
      " copying: data/images/img-0000167.jpg\n",
      " copying: data/images/img-0000168.jpg\n",
      " copying: data/images/img-0000169.jpg\n",
      " copying: data/images/img-0000170.jpg\n",
      " copying: data/images/img-0000171.jpg\n",
      " copying: data/images/img-0000172.jpg\n",
      " copying: data/images/img-0000173.jpg\n",
      " copying: data/images/img-0000174.jpg\n",
      " copying: data/images/img-0000175.jpg\n",
      " copying: data/images/img-0000176.jpg\n",
      " copying: data/images/img-0000177.jpg\n",
      " copying: data/images/img-0000178.jpg\n",
      " copying: data/images/img-0000179.jpg\n",
      " copying: data/images/img-0000180.jpg\n",
      " copying: data/images/img-0000181.jpg\n",
      " copying: data/images/img-0000182.jpg\n",
      " copying: data/images/img-0000183.jpg\n",
      " copying: data/images/img-0000184.jpg\n",
      " copying: data/images/img-0000185.jpg\n",
      " copying: data/images/img-0000186.jpg\n",
      " copying: data/images/img-0000187.jpg\n",
      " copying: data/images/img-0000188.jpg\n",
      " copying: data/images/img-0000189.jpg\n",
      " copying: data/images/img-0000190.jpg\n",
      " copying: data/images/img-0000191.jpg\n",
      " copying: data/images/img-0000192.jpg\n",
      " copying: data/images/img-0000193.jpg\n",
      " copying: data/images/img-0000194.jpg\n",
      " copying: data/images/img-0000195.jpg\n",
      " copying: data/images/img-0000196.jpg\n",
      " copying: data/images/img-0000197.jpg\n",
      " copying: data/images/img-0000198.jpg\n",
      " copying: data/images/img-0000199.jpg\n",
      " copying: data/images/img-0000200.jpg\n",
      " copying: data/images/img-0000201.jpg\n",
      " copying: data/images/img-0000202.jpg\n",
      " copying: data/images/img-0000203.jpg\n",
      " copying: data/images/img-0000204.jpg\n",
      " copying: data/images/img-0000205.jpg\n",
      " copying: data/images/img-0000206.jpg\n",
      " copying: data/images/img-0000207.jpg\n",
      " copying: data/images/img-0000208.jpg\n",
      " copying: data/images/img-0000209.jpg\n",
      " copying: data/images/img-0000210.jpg\n",
      " copying: data/images/img-0000211.jpg\n",
      " copying: data/images/img-0000212.jpg\n",
      " copying: data/images/img-0000213.jpg\n",
      " copying: data/images/img-0000214.jpg\n",
      " copying: data/images/img-0000215.jpg\n",
      " copying: data/images/img-0000216.jpg\n",
      " copying: data/images/img-0000217.jpg\n",
      " copying: data/images/img-0000218.jpg\n",
      " copying: data/images/img-0000219.jpg\n",
      " copying: data/images/img-0000220.jpg\n",
      " copying: data/images/img-0000221.jpg\n",
      " copying: data/images/img-0000222.jpg\n",
      " copying: data/images/img-0000223.jpg\n",
      " copying: data/images/img-0000224.jpg\n",
      " copying: data/images/img-0000225.jpg\n",
      " copying: data/images/img-0000226.jpg\n",
      " copying: data/images/img-0000227.jpg\n",
      " copying: data/images/img-0000228.jpg\n",
      " copying: data/images/img-0000229.jpg\n",
      " copying: data/images/img-0000230.jpg\n",
      " copying: data/images/img-0000231.jpg\n",
      " copying: data/images/img-0000232.jpg\n",
      " copying: data/images/img-0000233.jpg\n",
      " copying: data/images/img-0000234.jpg\n",
      " copying: data/images/img-0000235.jpg\n",
      " copying: data/images/img-0000236.jpg\n",
      " copying: data/images/img-0000237.jpg\n",
      " copying: data/images/img-0000238.jpg\n",
      " copying: data/images/img-0000239.jpg\n",
      " copying: data/images/img-0000240.jpg\n",
      " copying: data/images/img-0000241.jpg\n",
      " copying: data/images/img-0000242.jpg\n",
      " copying: data/images/img-0000243.jpg\n",
      " copying: data/images/img-0000244.jpg\n",
      " copying: data/images/img-0000245.jpg\n",
      " copying: data/images/img-0000246.jpg\n",
      " copying: data/images/img-0000247.jpg\n",
      " copying: data/images/img-0000248.jpg\n",
      " copying: data/images/img-0000249.jpg\n",
      " copying: data/images/img-0000250.jpg\n",
      " copying: data/images/img-0000251.jpg\n",
      " copying: data/images/img-0000252.jpg\n",
      " copying: data/images/img-0000253.jpg\n",
      " copying: data/images/img-0000254.jpg\n",
      " copying: data/images/img-0000255.jpg\n",
      " copying: data/images/img-0000256.jpg\n",
      " copying: data/images/img-0000257.jpg\n",
      " copying: data/images/img-0000258.jpg\n",
      " copying: data/images/img-0000259.jpg\n",
      " copying: data/images/img-0000260.jpg\n",
      " copying: data/images/img-0000261.jpg\n",
      " copying: data/images/img-0000262.jpg\n",
      " copying: data/images/img-0000263.jpg\n",
      " copying: data/images/img-0000264.jpg\n",
      " copying: data/images/img-0000265.jpg\n",
      " copying: data/images/img-0000266.jpg\n",
      " copying: data/images/img-0000267.jpg\n",
      " copying: data/images/img-0000268.jpg\n",
      " copying: data/images/img-0000269.jpg\n",
      " copying: data/images/img-0000270.jpg\n",
      " copying: data/images/img-0000271.jpg\n",
      " copying: data/images/img-0000272.jpg\n",
      " copying: data/images/img-0000273.jpg\n",
      " copying: data/images/img-0000274.jpg\n",
      " copying: data/images/img-0000275.jpg\n",
      " copying: data/images/img-0000276.jpg\n",
      " copying: data/images/img-0000277.jpg\n",
      " copying: data/images/img-0000278.jpg\n",
      " copying: data/images/img-0000279.jpg\n",
      " copying: data/images/img-0000280.jpg\n",
      " copying: data/images/img-0000281.jpg\n",
      " copying: data/images/img-0000282.jpg\n",
      " copying: data/images/img-0000283.jpg\n",
      " copying: data/images/img-0000284.jpg\n",
      " copying: data/images/img-0000285.jpg\n",
      " copying: data/images/img-0000286.jpg\n",
      " copying: data/images/img-0000287.jpg\n",
      " copying: data/images/img-0000288.jpg\n",
      " copying: data/images/img-0000289.jpg\n",
      " copying: data/images/img-0000290.jpg\n",
      " copying: data/images/img-0000291.jpg\n",
      " copying: data/images/img-0000292.jpg\n",
      " copying: data/images/img-0000293.jpg\n",
      " copying: data/images/img-0000294.jpg\n",
      " copying: data/images/img-0000295.jpg\n",
      " copying: data/images/img-0000296.jpg\n",
      " copying: data/images/img-0000297.jpg\n",
      " copying: data/images/img-0000298.jpg\n",
      " copying: data/images/img-0000299.jpg\n",
      " copying: data/images/img-0000300.jpg\n",
      " copying: data/images/img-0000301.jpg\n",
      " copying: data/images/img-0000302.jpg\n",
      " copying: data/images/img-0000303.jpg\n",
      " copying: data/images/img-0000304.jpg\n",
      " copying: data/images/img-0000305.jpg\n",
      " copying: data/images/img-0000306.jpg\n",
      " copying: data/images/img-0000307.jpg\n",
      " copying: data/images/img-0000308.jpg\n",
      " copying: data/images/img-0000309.jpg\n",
      " copying: data/images/img-0000310.jpg\n",
      " copying: data/images/img-0000311.jpg\n",
      " copying: data/images/img-0000312.jpg\n",
      " copying: data/images/img-0000313.jpg\n",
      " copying: data/images/img-0000314.jpg\n",
      " copying: data/images/img-0000315.jpg\n",
      " copying: data/images/img-0000316.jpg\n",
      " copying: data/images/img-0000317.jpg\n",
      " copying: data/images/img-0000318.jpg\n",
      " copying: data/images/img-0000319.jpg\n",
      " copying: data/images/img-0000320.jpg\n",
      " copying: data/images/img-0000321.jpg\n",
      " copying: data/images/img-0000322.jpg\n",
      " copying: data/images/img-0000323.jpg\n",
      " copying: data/images/img-0000324.jpg\n",
      " copying: data/images/img-0000325.jpg\n",
      " copying: data/images/img-0000326.jpg\n",
      " copying: data/images/img-0000327.jpg\n",
      " copying: data/images/img-0000328.jpg\n",
      " copying: data/images/img-0000329.jpg\n",
      " copying: data/images/img-0000330.jpg\n",
      " copying: data/images/img-0000331.jpg\n",
      " copying: data/images/img-0000332.jpg\n",
      " copying: data/images/img-0000333.jpg\n",
      " copying: data/images/img-0000334.jpg\n",
      " copying: data/images/img-0000335.jpg\n",
      " copying: data/images/img-0000336.jpg\n",
      " copying: data/images/img-0000337.jpg\n",
      " copying: data/images/img-0000338.jpg\n",
      " copying: data/images/img-0000339.jpg\n",
      " copying: data/images/img-0000340.jpg\n",
      " copying: data/images/img-0000341.jpg\n",
      " copying: data/images/img-0000342.jpg\n",
      " copying: data/images/img-0000343.jpg\n",
      " copying: data/images/img-0000344.jpg\n",
      " copying: data/images/img-0000345.jpg\n",
      " copying: data/images/img-0000346.jpg\n",
      " copying: data/images/img-0000347.jpg\n",
      " copying: data/images/img-0000348.jpg\n",
      " copying: data/images/img-0000349.jpg\n",
      " copying: data/images/img-0000350.jpg\n",
      " copying: data/images/img-0000351.jpg\n",
      " copying: data/images/img-0000352.jpg\n",
      " copying: data/images/img-0000353.jpg\n",
      " copying: data/images/img-0000354.jpg\n",
      " copying: data/images/img-0000355.jpg\n",
      " copying: data/images/img-0000356.jpg\n",
      " copying: data/images/img-0000357.jpg\n",
      " copying: data/images/img-0000358.jpg\n",
      " copying: data/images/img-0000359.jpg\n",
      " copying: data/images/img-0000360.jpg\n",
      " copying: data/images/img-0000361.jpg\n",
      " copying: data/images/img-0000362.jpg\n",
      " copying: data/images/img-0000363.jpg\n",
      " copying: data/images/img-0000364.jpg\n",
      " copying: data/images/img-0000365.jpg\n",
      " copying: data/images/img-0000366.jpg\n",
      " copying: data/images/img-0000367.jpg\n",
      " copying: data/images/img-0000368.jpg\n",
      " copying: data/images/img-0000369.jpg\n",
      " copying: data/images/img-0000370.jpg\n",
      " copying: data/images/img-0000371.jpg\n",
      " copying: data/images/img-0000372.jpg\n",
      " copying: data/images/img-0000373.jpg\n",
      " copying: data/images/img-0000374.jpg\n",
      " copying: data/images/img-0000375.jpg\n",
      " copying: data/images/img-0000376.jpg\n",
      " copying: data/images/img-0000377.jpg\n",
      " copying: data/images/img-0000378.jpg\n",
      " copying: data/images/img-0000379.jpg\n",
      " copying: data/images/img-0000380.jpg\n",
      " copying: data/images/img-0000381.jpg\n",
      " copying: data/images/img-0000382.jpg\n",
      " copying: data/images/img-0000383.jpg\n",
      " copying: data/images/img-0000384.jpg\n",
      " copying: data/images/img-0000385.jpg\n",
      " copying: data/images/img-0000386.jpg\n",
      " copying: data/images/img-0000387.jpg\n",
      " copying: data/images/img-0000388.jpg\n",
      " copying: data/images/img-0000389.jpg\n",
      " copying: data/images/img-0000390.jpg\n",
      " copying: data/images/img-0000391.jpg\n",
      " copying: data/images/img-0000392.jpg\n",
      " copying: data/images/img-0000393.jpg\n",
      " copying: data/images/img-0000394.jpg\n",
      " copying: data/images/img-0000395.jpg\n",
      " copying: data/images/img-0000396.jpg\n",
      " copying: data/images/img-0000397.jpg\n",
      " copying: data/images/img-0000398.jpg\n",
      " copying: data/images/img-0000399.jpg\n",
      " copying: data/images/img-0000400.jpg\n",
      " copying: data/images/img-0000401.jpg\n",
      " copying: data/images/img-0000402.jpg\n",
      " copying: data/images/img-0000403.jpg\n",
      " copying: data/images/img-0000404.jpg\n",
      " copying: data/images/img-0000405.jpg\n",
      " copying: data/images/img-0000406.jpg\n",
      " copying: data/images/img-0000407.jpg\n",
      " copying: data/images/img-0000408.jpg\n",
      " copying: data/images/img-0000409.jpg\n",
      " copying: data/images/img-0000410.jpg\n",
      " copying: data/images/img-0000411.jpg\n",
      " copying: data/images/img-0000412.jpg\n",
      " copying: data/images/img-0000413.jpg\n",
      " copying: data/images/img-0000414.jpg\n",
      " copying: data/images/img-0000415.jpg\n",
      " copying: data/images/img-0000416.jpg\n",
      " copying: data/images/img-0000417.jpg\n",
      " copying: data/images/img-0000418.jpg\n",
      " copying: data/images/img-0000419.jpg\n",
      " copying: data/images/img-0000420.jpg\n",
      " copying: data/images/img-0000421.jpg\n",
      " copying: data/images/img-0000422.jpg\n",
      " copying: data/images/img-0000423.jpg\n",
      " copying: data/images/img-0000424.jpg\n",
      " copying: data/images/img-0000425.jpg\n",
      " copying: data/images/img-0000426.jpg\n",
      " copying: data/images/img-0000427.jpg\n",
      " copying: data/images/img-0000428.jpg\n",
      " copying: data/images/img-0000429.jpg\n",
      " copying: data/images/img-0000430.jpg\n",
      " copying: data/images/img-0000431.jpg\n",
      " copying: data/images/img-0000432.jpg\n",
      " copying: data/images/img-0000433.jpg\n",
      " copying: data/images/img-0000434.jpg\n",
      " copying: data/images/img-0000435.jpg\n",
      " copying: data/images/img-0000436.jpg\n",
      " copying: data/images/img-0000437.jpg\n",
      " copying: data/images/img-0000438.jpg\n",
      " copying: data/images/img-0000439.jpg\n",
      " copying: data/images/img-0000440.jpg\n",
      " copying: data/images/img-0000441.jpg\n",
      " copying: data/images/img-0000442.jpg\n",
      " copying: data/images/img-0000443.jpg\n",
      " copying: data/images/img-0000444.jpg\n",
      " copying: data/images/img-0000445.jpg\n",
      " copying: data/images/img-0000446.jpg\n",
      " copying: data/images/img-0000447.jpg\n",
      " copying: data/images/img-0000448.jpg\n",
      " copying: data/images/img-0000449.jpg\n",
      " copying: data/images/img-0000450.jpg\n",
      " copying: data/images/img-0000451.jpg\n",
      " copying: data/images/img-0000452.jpg\n",
      " copying: data/images/img-0000453.jpg\n",
      " copying: data/images/img-0000454.jpg\n",
      " copying: data/images/img-0000455.jpg\n",
      " copying: data/images/img-0000456.jpg\n",
      " copying: data/images/img-0000457.jpg\n",
      " copying: data/images/img-0000458.jpg\n",
      " copying: data/images/img-0000459.jpg\n",
      " copying: data/images/img-0000460.jpg\n",
      " copying: data/images/img-0000461.jpg\n",
      " copying: data/images/img-0000462.jpg\n",
      " copying: data/images/img-0000463.jpg\n",
      " copying: data/images/img-0000464.jpg\n",
      " copying: data/images/img-0000465.jpg\n",
      " copying: data/images/img-0000466.jpg\n",
      " copying: data/images/img-0000467.jpg\n",
      " copying: data/images/img-0000468.jpg\n",
      " copying: data/images/img-0000469.jpg\n",
      " copying: data/images/img-0000470.jpg\n",
      " copying: data/images/img-0000471.jpg\n",
      " copying: data/images/img-0000472.jpg\n",
      " copying: data/images/img-0000473.jpg\n",
      " copying: data/images/img-0000474.jpg\n",
      " copying: data/images/img-0000475.jpg\n",
      " copying: data/images/img-0000476.jpg\n",
      " copying: data/images/img-0000477.jpg\n",
      " copying: data/images/img-0000478.jpg\n",
      " copying: data/images/img-0000479.jpg\n",
      " copying: data/images/img-0000480.jpg\n",
      " copying: data/images/img-0000481.jpg\n",
      " copying: data/images/img-0000482.jpg\n",
      " copying: data/images/img-0000483.jpg\n",
      " copying: data/images/img-0000484.jpg\n",
      " copying: data/images/img-0000485.jpg\n",
      " copying: data/images/img-0000486.jpg\n",
      " copying: data/images/img-0000487.jpg\n",
      " copying: data/images/img-0000488.jpg\n",
      " copying: data/images/img-0000489.jpg\n",
      " copying: data/images/img-0000490.jpg\n",
      " copying: data/images/img-0000491.jpg\n",
      " copying: data/images/img-0000492.jpg\n",
      " copying: data/images/img-0000493.jpg\n",
      " copying: data/images/img-0000494.jpg\n",
      " copying: data/images/img-0000495.jpg\n",
      " copying: data/images/img-0000496.jpg\n",
      " copying: data/images/img-0000497.jpg\n",
      " copying: data/images/img-0000498.jpg\n",
      " copying: data/images/img-0000499.jpg\n",
      " copying: data/images/img-0000500.jpg\n",
      " copying: data/images/img-0000501.jpg\n",
      " copying: data/images/img-0000502.jpg\n",
      " copying: data/images/img-0000503.jpg\n",
      " copying: data/images/img-0000504.jpg\n",
      " copying: data/images/img-0000505.jpg\n",
      " copying: data/images/img-0000506.jpg\n",
      " copying: data/images/img-0000507.jpg\n",
      " copying: data/images/img-0000508.jpg\n",
      " copying: data/images/img-0000509.jpg\n",
      " copying: data/images/img-0000510.jpg\n",
      " copying: data/images/img-0000511.jpg\n",
      " copying: data/images/img-0000512.jpg\n",
      " copying: data/images/img-0000513.jpg\n",
      " copying: data/images/img-0000514.jpg\n",
      " copying: data/images/img-0000515.jpg\n",
      " copying: data/images/img-0000516.jpg\n",
      " copying: data/images/img-0000517.jpg\n",
      " copying: data/images/img-0000518.jpg\n",
      " copying: data/images/img-0000519.jpg\n",
      " copying: data/images/img-0000520.jpg\n",
      " copying: data/images/img-0000521.jpg\n",
      " copying: data/images/img-0000522.jpg\n",
      " copying: data/images/img-0000523.jpg\n",
      " copying: data/images/img-0000524.jpg\n",
      " copying: data/images/img-0000525.jpg\n",
      " copying: data/images/img-0000526.jpg\n",
      " copying: data/images/img-0000527.jpg\n",
      " copying: data/images/img-0000528.jpg\n",
      " copying: data/images/img-0000529.jpg\n",
      " copying: data/images/img-0000530.jpg\n",
      " copying: data/images/img-0000531.jpg\n",
      " copying: data/images/img-0000532.jpg\n",
      " copying: data/images/img-0000533.jpg\n",
      " copying: data/images/img-0000534.jpg\n",
      " copying: data/images/img-0000535.jpg\n",
      " copying: data/images/img-0000536.jpg\n",
      " copying: data/images/img-0000537.jpg\n",
      " copying: data/images/img-0000538.jpg\n",
      " copying: data/images/img-0000539.jpg\n",
      " copying: data/images/img-0000540.jpg\n",
      " copying: data/images/img-0000541.jpg\n",
      " copying: data/images/img-0000542.jpg\n",
      " copying: data/images/img-0000543.jpg\n",
      " copying: data/images/img-0000544.jpg\n",
      " copying: data/images/img-0000545.jpg\n",
      " copying: data/images/img-0000546.jpg\n",
      " copying: data/images/img-0000547.jpg\n",
      " copying: data/images/img-0000548.jpg\n",
      " copying: data/images/img-0000549.jpg\n",
      " copying: data/images/img-0000550.jpg\n",
      " copying: data/images/img-0000551.jpg\n",
      " copying: data/images/img-0000552.jpg\n",
      " copying: data/images/img-0000553.jpg\n",
      " copying: data/images/img-0000554.jpg\n",
      " copying: data/images/img-0000555.jpg\n",
      " copying: data/images/img-0000556.jpg\n",
      " copying: data/images/img-0000557.jpg\n",
      " copying: data/images/img-0000558.jpg\n",
      " copying: data/images/img-0000559.jpg\n",
      " copying: data/images/img-0000560.jpg\n",
      " copying: data/images/img-0000561.jpg\n",
      " copying: data/images/img-0000562.jpg\n",
      " copying: data/images/img-0000563.jpg\n",
      " copying: data/images/img-0000564.jpg\n",
      " copying: data/images/img-0000565.jpg\n",
      " copying: data/images/img-0000566.jpg\n",
      " copying: data/images/img-0000567.jpg\n",
      " copying: data/images/img-0000568.jpg\n",
      " copying: data/images/img-0000569.jpg\n",
      " copying: data/images/img-0000570.jpg\n",
      " copying: data/images/img-0000571.jpg\n",
      " copying: data/images/img-0000572.jpg\n",
      " copying: data/images/img-0000573.jpg\n",
      " copying: data/images/img-0000574.jpg\n",
      " copying: data/images/img-0000575.jpg\n",
      " copying: data/images/img-0000576.jpg\n",
      " copying: data/images/img-0000577.jpg\n",
      " copying: data/images/img-0000578.jpg\n",
      " copying: data/images/img-0000579.jpg\n",
      " copying: data/images/img-0000580.jpg\n",
      " copying: data/images/img-0000581.jpg\n",
      " copying: data/images/img-0000582.jpg\n",
      " copying: data/images/img-0000583.jpg\n",
      " copying: data/images/img-0000584.jpg\n",
      " copying: data/images/img-0000585.jpg\n",
      " copying: data/images/img-0000586.jpg\n",
      " copying: data/images/img-0000587.jpg\n",
      " copying: data/images/img-0000588.jpg\n",
      " copying: data/images/img-0000589.jpg\n",
      " copying: data/images/img-0000590.jpg\n",
      " copying: data/images/img-0000591.jpg\n",
      " copying: data/images/img-0000592.jpg\n",
      " copying: data/images/img-0000593.jpg\n",
      " copying: data/images/img-0000594.jpg\n",
      " copying: data/images/img-0000595.jpg\n",
      " copying: data/images/img-0000596.jpg\n",
      " copying: data/images/img-0000597.jpg\n",
      " copying: data/images/img-0000598.jpg\n",
      " copying: data/images/img-0000599.jpg\n",
      " copying: data/images/img-0000600.jpg\n",
      " copying: data/images/img-0000601.jpg\n",
      " copying: data/images/img-0000602.jpg\n",
      " copying: data/images/img-0000603.jpg\n",
      " copying: data/images/img-0000604.jpg\n",
      " copying: data/images/img-0000605.jpg\n",
      " copying: data/images/img-0000606.jpg\n",
      " copying: data/images/img-0000607.jpg\n",
      " copying: data/images/img-0000608.jpg\n",
      " copying: data/images/img-0000609.jpg\n",
      " copying: data/images/img-0000610.jpg\n",
      " copying: data/images/img-0000611.jpg\n",
      " copying: data/images/img-0000612.jpg\n",
      " copying: data/images/img-0000613.jpg\n",
      " copying: data/images/img-0000614.jpg\n",
      " copying: data/images/img-0000615.jpg\n",
      " copying: data/images/img-0000616.jpg\n",
      " copying: data/images/img-0000617.jpg\n",
      " copying: data/images/img-0000618.jpg\n",
      " copying: data/images/img-0000619.jpg\n",
      " copying: data/images/img-0000620.jpg\n",
      " copying: data/images/img-0000621.jpg\n",
      " copying: data/images/img-0000622.jpg\n",
      " copying: data/images/img-0000623.jpg\n",
      " copying: data/images/img-0000624.jpg\n",
      " copying: data/images/img-0000625.jpg\n",
      " copying: data/images/img-0000626.jpg\n",
      " copying: data/images/img-0000627.jpg\n",
      " copying: data/images/img-0000628.jpg\n",
      " copying: data/images/img-0000629.jpg\n",
      " copying: data/images/img-0000630.jpg\n",
      " copying: data/images/img-0000631.jpg\n",
      " copying: data/images/img-0000632.jpg\n",
      " copying: data/images/img-0000633.jpg\n",
      " copying: data/images/img-0000634.jpg\n",
      " copying: data/images/img-0000635.jpg\n",
      " copying: data/images/img-0000636.jpg\n",
      " copying: data/images/img-0000637.jpg\n",
      " copying: data/images/img-0000638.jpg\n",
      " copying: data/images/img-0000639.jpg\n",
      " copying: data/images/img-0000640.jpg\n",
      " copying: data/images/img-0000641.jpg\n",
      " copying: data/images/img-0000642.jpg\n",
      " copying: data/images/img-0000643.jpg\n",
      " copying: data/images/img-0000644.jpg\n",
      " copying: data/images/img-0000645.jpg\n",
      " copying: data/images/img-0000646.jpg\n",
      " copying: data/images/img-0000647.jpg\n",
      " copying: data/images/img-0000648.jpg\n",
      " copying: data/images/img-0000649.jpg\n",
      " copying: data/images/img-0000650.jpg\n",
      " copying: data/images/img-0000651.jpg\n",
      " copying: data/images/img-0000652.jpg\n",
      " copying: data/images/img-0000653.jpg\n",
      " copying: data/images/img-0000654.jpg\n",
      " copying: data/images/img-0000655.jpg\n",
      " copying: data/images/img-0000656.jpg\n",
      " copying: data/images/img-0000657.jpg\n",
      " copying: data/images/img-0000658.jpg\n",
      " copying: data/images/img-0000659.jpg\n",
      " copying: data/images/img-0000660.jpg\n",
      " copying: data/images/img-0000661.jpg\n",
      " copying: data/images/img-0000662.jpg\n",
      " copying: data/images/img-0000663.jpg\n",
      " copying: data/images/img-0000664.jpg\n",
      " copying: data/images/img-0000665.jpg\n",
      " copying: data/images/img-0000666.jpg\n",
      " copying: data/images/img-0000667.jpg\n",
      " copying: data/images/img-0000668.jpg\n",
      " copying: data/images/img-0000669.jpg\n",
      " copying: data/images/img-0000670.jpg\n",
      " copying: data/images/img-0000671.jpg\n",
      " copying: data/images/img-0000672.jpg\n",
      " copying: data/images/img-0000673.jpg\n",
      " copying: data/images/img-0000674.jpg\n",
      " copying: data/images/img-0000675.jpg\n",
      " copying: data/images/img-0000676.jpg\n",
      " copying: data/images/img-0000677.jpg\n",
      " copying: data/images/img-0000678.jpg\n",
      " copying: data/images/img-0000679.jpg\n",
      " copying: data/images/img-0000680.jpg\n",
      " copying: data/images/img-0000681.jpg\n",
      " copying: data/images/img-0000682.jpg\n",
      " copying: data/images/img-0000683.jpg\n",
      " copying: data/images/img-0000684.jpg\n",
      " copying: data/images/img-0000685.jpg\n",
      " copying: data/images/img-0000686.jpg\n",
      " copying: data/images/img-0000687.jpg\n",
      " copying: data/images/img-0000688.jpg\n",
      " copying: data/images/img-0000689.jpg\n",
      " copying: data/images/img-0000690.jpg\n",
      " copying: data/images/img-0000691.jpg\n",
      " copying: data/images/img-0000692.jpg\n",
      " copying: data/images/img-0000693.jpg\n",
      " copying: data/images/img-0000694.jpg\n",
      " copying: data/images/img-0000695.jpg\n",
      " copying: data/images/img-0000696.jpg\n",
      " copying: data/images/img-0000697.jpg\n",
      " copying: data/images/img-0000698.jpg\n",
      " copying: data/images/img-0000699.jpg\n",
      " copying: data/images/img-0000700.jpg\n",
      " copying: data/images/img-0000701.jpg\n",
      " copying: data/images/img-0000702.jpg\n",
      " copying: data/images/img-0000703.jpg\n",
      " copying: data/images/img-0000704.jpg\n",
      " copying: data/images/img-0000705.jpg\n",
      " copying: data/images/img-0000706.jpg\n",
      " copying: data/images/img-0000707.jpg\n",
      " copying: data/images/img-0000708.jpg\n",
      " copying: data/images/img-0000709.jpg\n",
      " copying: data/images/img-0000710.jpg\n",
      " copying: data/images/img-0000711.jpg\n",
      " copying: data/images/img-0000712.jpg\n",
      " copying: data/images/img-0000713.jpg\n",
      " copying: data/images/img-0000714.jpg\n",
      " copying: data/images/img-0000715.jpg\n",
      " copying: data/images/img-0000716.jpg\n",
      " copying: data/images/img-0000717.jpg\n",
      " copying: data/images/img-0000718.jpg\n",
      " copying: data/images/img-0000719.jpg\n",
      " copying: data/images/img-0000720.jpg\n",
      " copying: data/images/img-0000721.jpg\n",
      " copying: data/images/img-0000722.jpg\n",
      " copying: data/images/img-0000723.jpg\n",
      " copying: data/images/img-0000724.jpg\n",
      " copying: data/images/img-0000725.jpg\n",
      " copying: data/images/img-0000726.jpg\n",
      " copying: data/images/img-0000727.jpg\n",
      " copying: data/images/img-0000728.jpg\n",
      " copying: data/images/img-0000729.jpg\n",
      " copying: data/images/img-0000730.jpg\n",
      " copying: data/images/img-0000731.jpg\n",
      " copying: data/images/img-0000732.jpg\n",
      " copying: data/images/img-0000733.jpg\n",
      " copying: data/images/img-0000734.jpg\n",
      " copying: data/images/img-0000735.jpg\n",
      " copying: data/images/img-0000736.jpg\n",
      " copying: data/images/img-0000737.jpg\n",
      " copying: data/images/img-0000738.jpg\n",
      " copying: data/images/img-0000739.jpg\n",
      " copying: data/images/img-0000740.jpg\n",
      " copying: data/images/img-0000741.jpg\n",
      " copying: data/images/img-0000742.jpg\n",
      " copying: data/images/img-0000743.jpg\n",
      " copying: data/images/img-0000744.jpg\n",
      " copying: data/images/img-0000745.jpg\n",
      " copying: data/images/img-0000746.jpg\n",
      " copying: data/images/img-0000747.jpg\n",
      " copying: data/images/img-0000748.jpg\n",
      " copying: data/images/img-0000749.jpg\n",
      " copying: data/images/img-0000750.jpg\n",
      " copying: data/images/img-0000751.jpg\n",
      " copying: data/images/img-0000752.jpg\n",
      " copying: data/images/img-0000753.jpg\n",
      " copying: data/images/img-0000754.jpg\n",
      " copying: data/images/img-0000755.jpg\n",
      " copying: data/images/img-0000756.jpg\n",
      " copying: data/images/img-0000757.jpg\n",
      " copying: data/images/img-0000758.jpg\n",
      " copying: data/images/img-0000759.jpg\n",
      " copying: data/images/img-0000760.jpg\n",
      " copying: data/images/img-0000761.jpg\n",
      " copying: data/images/img-0000762.jpg\n",
      " copying: data/images/img-0000763.jpg\n",
      " copying: data/images/img-0000764.jpg\n",
      " copying: data/images/img-0000765.jpg\n",
      " copying: data/images/img-0000766.jpg\n",
      " copying: data/images/img-0000767.jpg\n",
      " copying: data/images/img-0000768.jpg\n",
      " copying: data/images/img-0000769.jpg\n",
      " copying: data/images/img-0000770.jpg\n",
      " copying: data/images/img-0000771.jpg\n",
      " copying: data/images/img-0000772.jpg\n",
      " copying: data/images/img-0000773.jpg\n",
      " copying: data/images/img-0000774.jpg\n",
      " copying: data/images/img-0000775.jpg\n",
      " copying: data/images/img-0000776.jpg\n",
      " copying: data/images/img-0000777.jpg\n",
      " copying: data/images/img-0000778.jpg\n",
      " copying: data/images/img-0000779.jpg\n",
      " copying: data/images/img-0000780.jpg\n",
      " copying: data/images/img-0000781.jpg\n",
      " copying: data/images/img-0000782.jpg\n",
      " copying: data/images/img-0000783.jpg\n",
      " copying: data/images/img-0000784.jpg\n",
      " copying: data/images/img-0000785.jpg\n",
      " copying: data/images/img-0000786.jpg\n",
      " copying: data/images/img-0000787.jpg\n",
      " copying: data/images/img-0000788.jpg\n",
      " copying: data/images/img-0000789.jpg\n",
      " copying: data/images/img-0000790.jpg\n",
      " copying: data/images/img-0000791.jpg\n",
      " copying: data/images/img-0000792.jpg\n",
      " copying: data/images/img-0000793.jpg\n",
      " copying: data/images/img-0000794.jpg\n",
      " copying: data/images/img-0000795.jpg\n",
      " copying: data/images/img-0000796.jpg\n",
      " copying: data/images/img-0000797.jpg\n",
      " copying: data/images/img-0000798.jpg\n",
      " copying: data/images/img-0000799.jpg\n",
      " copying: data/images/img-0000800.jpg\n",
      " copying: data/images/img-0000801.jpg\n",
      " copying: data/images/img-0000802.jpg\n",
      " copying: data/images/img-0000803.jpg\n",
      " copying: data/images/img-0000804.jpg\n",
      " copying: data/images/img-0000805.jpg\n",
      " copying: data/images/img-0000806.jpg\n",
      " copying: data/images/img-0000807.jpg\n",
      " copying: data/images/img-0000808.jpg\n",
      " copying: data/images/img-0000809.jpg\n",
      " copying: data/images/img-0000810.jpg\n",
      " copying: data/images/img-0000811.jpg\n",
      " copying: data/images/img-0000812.jpg\n",
      " copying: data/images/img-0000813.jpg\n",
      " copying: data/images/img-0000814.jpg\n",
      " copying: data/images/img-0000815.jpg\n",
      " copying: data/images/img-0000816.jpg\n",
      " copying: data/images/img-0000817.jpg\n",
      " copying: data/images/img-0000818.jpg\n",
      " copying: data/images/img-0000819.jpg\n",
      " copying: data/images/img-0000820.jpg\n",
      " copying: data/images/img-0000821.jpg\n",
      " copying: data/images/img-0000822.jpg\n",
      " copying: data/images/img-0000823.jpg\n",
      " copying: data/images/img-0000824.jpg\n",
      " copying: data/images/roi-0000001.jpg\n",
      " copying: data/images/roi-0000002.jpg\n",
      " copying: data/images/roi-0000003.jpg\n",
      " copying: data/images/roi-0000004.jpg\n",
      " copying: data/images/roi-0000005.jpg\n",
      " copying: data/images/roi-0000006.jpg\n",
      " copying: data/images/roi-0000007.jpg\n",
      " copying: data/images/roi-0000008.jpg\n",
      " copying: data/images/roi-0000009.jpg\n",
      " copying: data/images/roi-0000010.jpg\n",
      " copying: data/images/roi-0000011.jpg\n",
      " copying: data/images/roi-0000012.jpg\n",
      " copying: data/images/roi-0000013.jpg\n",
      " copying: data/images/roi-0000014.jpg\n",
      " copying: data/images/roi-0000015.jpg\n",
      " copying: data/images/roi-0000016.jpg\n",
      " copying: data/images/roi-0000017.jpg\n",
      " copying: data/images/roi-0000018.jpg\n",
      " copying: data/images/roi-0000019.jpg\n",
      " copying: data/images/roi-0000020.jpg\n",
      " copying: data/images/roi-0000021.jpg\n",
      " copying: data/images/roi-0000022.jpg\n",
      " copying: data/images/roi-0000023.jpg\n",
      " copying: data/images/roi-0000024.jpg\n",
      " copying: data/images/roi-0000025.jpg\n",
      " copying: data/images/roi-0000026.jpg\n",
      " copying: data/images/roi-0000027.jpg\n",
      " copying: data/images/roi-0000028.jpg\n",
      " copying: data/images/roi-0000029.jpg\n",
      " copying: data/images/roi-0000030.jpg\n",
      " copying: data/images/roi-0000031.jpg\n",
      " copying: data/images/roi-0000032.jpg\n",
      " copying: data/images/roi-0000033.jpg\n",
      " copying: data/images/roi-0000034.jpg\n",
      " copying: data/images/roi-0000035.jpg\n",
      " copying: data/images/roi-0000036.jpg\n",
      " copying: data/images/roi-0000037.jpg\n",
      " copying: data/images/roi-0000038.jpg\n",
      " copying: data/images/roi-0000039.jpg\n",
      " copying: data/images/roi-0000040.jpg\n",
      " copying: data/images/roi-0000041.jpg\n",
      " copying: data/images/roi-0000042.jpg\n",
      " copying: data/images/roi-0000043.jpg\n",
      " copying: data/images/roi-0000044.jpg\n",
      " copying: data/images/roi-0000045.jpg\n",
      " copying: data/images/roi-0000046.jpg\n",
      " copying: data/images/roi-0000047.jpg\n",
      " copying: data/images/roi-0000048.jpg\n",
      " copying: data/images/roi-0000049.jpg\n",
      " copying: data/images/roi-0000050.jpg\n",
      " copying: data/images/roi-0000051.jpg\n",
      " copying: data/images/roi-0000052.jpg\n",
      " copying: data/images/roi-0000053.jpg\n",
      " copying: data/images/roi-0000054.jpg\n",
      " copying: data/images/roi-0000055.jpg\n",
      " copying: data/images/roi-0000056.jpg\n",
      " copying: data/images/roi-0000057.jpg\n",
      " copying: data/images/roi-0000058.jpg\n",
      " copying: data/images/roi-0000059.jpg\n",
      " copying: data/images/roi-0000060.jpg\n",
      " copying: data/images/roi-0000061.jpg\n",
      " copying: data/images/roi-0000062.jpg\n",
      " copying: data/images/roi-0000063.jpg\n",
      " copying: data/images/roi-0000064.jpg\n",
      " copying: data/images/roi-0000065.jpg\n",
      " copying: data/images/roi-0000066.jpg\n",
      " copying: data/images/roi-0000067.jpg\n",
      " copying: data/images/roi-0000068.jpg\n",
      " copying: data/images/roi-0000069.jpg\n",
      " copying: data/images/roi-0000070.jpg\n",
      " copying: data/images/roi-0000071.jpg\n",
      " copying: data/images/roi-0000072.jpg\n",
      " copying: data/images/roi-0000073.jpg\n",
      " copying: data/images/roi-0000074.jpg\n",
      " copying: data/images/roi-0000075.jpg\n",
      " copying: data/images/roi-0000076.jpg\n",
      " copying: data/images/roi-0000077.jpg\n",
      " copying: data/images/roi-0000078.jpg\n",
      " copying: data/images/roi-0000079.jpg\n",
      " copying: data/images/roi-0000080.jpg\n",
      " copying: data/images/roi-0000081.jpg\n",
      " copying: data/images/roi-0000082.jpg\n",
      " copying: data/images/roi-0000083.jpg\n",
      " copying: data/images/roi-0000084.jpg\n",
      " copying: data/images/roi-0000085.jpg\n",
      " copying: data/images/roi-0000086.jpg\n",
      " copying: data/images/roi-0000087.jpg\n",
      " copying: data/images/roi-0000088.jpg\n",
      " copying: data/images/roi-0000089.jpg\n",
      " copying: data/images/roi-0000090.jpg\n",
      " copying: data/images/roi-0000091.jpg\n",
      " copying: data/images/roi-0000092.jpg\n",
      " copying: data/images/roi-0000093.jpg\n",
      " copying: data/images/roi-0000094.jpg\n",
      " copying: data/images/roi-0000095.jpg\n",
      " copying: data/images/roi-0000096.jpg\n",
      " copying: data/images/roi-0000097.jpg\n",
      " copying: data/images/roi-0000098.jpg\n",
      " copying: data/images/roi-0000099.jpg\n",
      " copying: data/images/roi-0000100.jpg\n",
      " copying: data/images/roi-0000101.jpg\n",
      " copying: data/images/roi-0000102.jpg\n",
      " copying: data/images/roi-0000103.jpg\n",
      " copying: data/images/roi-0000104.jpg\n",
      " copying: data/images/roi-0000105.jpg\n",
      " copying: data/images/roi-0000106.jpg\n",
      " copying: data/images/roi-0000107.jpg\n",
      " copying: data/images/roi-0000108.jpg\n",
      " copying: data/images/roi-0000109.jpg\n",
      " copying: data/images/roi-0000110.jpg\n",
      " copying: data/images/roi-0000111.jpg\n",
      " copying: data/images/roi-0000112.jpg\n",
      " copying: data/images/roi-0000113.jpg\n",
      " copying: data/images/roi-0000114.jpg\n",
      " copying: data/images/roi-0000115.jpg\n",
      " copying: data/images/roi-0000116.jpg\n",
      " copying: data/images/roi-0000117.jpg\n",
      " copying: data/images/roi-0000118.jpg\n",
      " copying: data/images/roi-0000119.jpg\n",
      " copying: data/images/roi-0000120.jpg\n",
      " copying: data/images/roi-0000121.jpg\n",
      " copying: data/images/roi-0000122.jpg\n",
      " copying: data/images/roi-0000123.jpg\n",
      " copying: data/images/roi-0000124.jpg\n",
      " copying: data/images/roi-0000125.jpg\n",
      " copying: data/images/roi-0000126.jpg\n",
      " copying: data/images/roi-0000127.jpg\n",
      " copying: data/images/roi-0000128.jpg\n",
      " copying: data/images/roi-0000129.jpg\n",
      " copying: data/images/roi-0000130.jpg\n",
      " copying: data/images/roi-0000131.jpg\n",
      " copying: data/images/roi-0000132.jpg\n",
      " copying: data/images/roi-0000133.jpg\n",
      " copying: data/images/roi-0000134.jpg\n",
      " copying: data/images/roi-0000135.jpg\n",
      " copying: data/images/roi-0000136.jpg\n",
      " copying: data/images/roi-0000137.jpg\n",
      " copying: data/images/roi-0000138.jpg\n",
      " copying: data/images/roi-0000139.jpg\n",
      " copying: data/images/roi-0000140.jpg\n",
      " copying: data/images/roi-0000141.jpg\n",
      " copying: data/images/roi-0000142.jpg\n",
      " copying: data/images/roi-0000143.jpg\n",
      " copying: data/images/roi-0000144.jpg\n",
      " copying: data/images/roi-0000145.jpg\n",
      " copying: data/images/roi-0000146.jpg\n",
      " copying: data/images/roi-0000147.jpg\n",
      " copying: data/images/roi-0000148.jpg\n",
      " copying: data/images/roi-0000149.jpg\n",
      " copying: data/images/roi-0000150.jpg\n",
      " copying: data/images/roi-0000151.jpg\n",
      " copying: data/images/roi-0000152.jpg\n",
      " copying: data/images/roi-0000153.jpg\n",
      " copying: data/images/roi-0000154.jpg\n",
      " copying: data/images/roi-0000155.jpg\n",
      " copying: data/images/roi-0000156.jpg\n",
      " copying: data/images/roi-0000157.jpg\n",
      " copying: data/images/roi-0000158.jpg\n",
      " copying: data/images/roi-0000159.jpg\n",
      " copying: data/images/roi-0000160.jpg\n",
      " copying: data/images/roi-0000161.jpg\n",
      " copying: data/images/roi-0000162.jpg\n",
      " copying: data/images/roi-0000163.jpg\n",
      " copying: data/images/roi-0000164.jpg\n",
      " copying: data/images/roi-0000165.jpg\n",
      " copying: data/images/roi-0000166.jpg\n",
      " copying: data/images/roi-0000167.jpg\n",
      " copying: data/images/roi-0000168.jpg\n",
      " copying: data/images/roi-0000169.jpg\n",
      " copying: data/images/roi-0000170.jpg\n",
      " copying: data/images/roi-0000171.jpg\n",
      " copying: data/images/roi-0000172.jpg\n",
      " copying: data/images/roi-0000173.jpg\n",
      " copying: data/images/roi-0000174.jpg\n",
      " copying: data/images/roi-0000175.jpg\n",
      " copying: data/images/roi-0000176.jpg\n",
      " copying: data/images/roi-0000177.jpg\n",
      " copying: data/images/roi-0000178.jpg\n",
      " copying: data/images/roi-0000179.jpg\n",
      " copying: data/images/roi-0000180.jpg\n",
      " copying: data/images/roi-0000181.jpg\n",
      " copying: data/images/roi-0000182.jpg\n",
      " copying: data/images/roi-0000183.jpg\n",
      " copying: data/images/roi-0000184.jpg\n",
      " copying: data/images/roi-0000185.jpg\n",
      " copying: data/images/roi-0000186.jpg\n",
      " copying: data/images/roi-0000187.jpg\n",
      " copying: data/images/roi-0000188.jpg\n",
      " copying: data/images/roi-0000189.jpg\n",
      " copying: data/images/roi-0000190.jpg\n",
      " copying: data/images/roi-0000191.jpg\n",
      " copying: data/images/roi-0000192.jpg\n",
      " copying: data/images/roi-0000193.jpg\n",
      " copying: data/images/roi-0000194.jpg\n",
      " copying: data/images/roi-0000195.jpg\n",
      " copying: data/images/roi-0000196.jpg\n",
      " copying: data/images/roi-0000197.jpg\n",
      " copying: data/images/roi-0000198.jpg\n",
      " copying: data/images/roi-0000199.jpg\n",
      " copying: data/images/roi-0000200.jpg\n",
      " copying: data/images/roi-0000201.jpg\n",
      " copying: data/images/roi-0000202.jpg\n",
      " copying: data/images/roi-0000203.jpg\n",
      " copying: data/images/roi-0000204.jpg\n",
      " copying: data/images/roi-0000205.jpg\n",
      " copying: data/images/roi-0000206.jpg\n",
      " copying: data/images/roi-0000207.jpg\n",
      " copying: data/images/roi-0000208.jpg\n",
      " copying: data/images/roi-0000209.jpg\n",
      " copying: data/images/roi-0000210.jpg\n",
      " copying: data/images/roi-0000211.jpg\n",
      " copying: data/images/roi-0000212.jpg\n",
      " copying: data/images/roi-0000213.jpg\n",
      " copying: data/images/roi-0000214.jpg\n",
      " copying: data/images/roi-0000215.jpg\n",
      " copying: data/images/roi-0000216.jpg\n",
      " copying: data/images/roi-0000217.jpg\n",
      " copying: data/images/roi-0000218.jpg\n",
      " copying: data/images/roi-0000219.jpg\n",
      " copying: data/images/roi-0000220.jpg\n",
      " copying: data/images/roi-0000221.jpg\n",
      " copying: data/images/roi-0000222.jpg\n",
      " copying: data/images/roi-0000223.jpg\n",
      " copying: data/images/roi-0000224.jpg\n",
      " copying: data/images/roi-0000225.jpg\n",
      " copying: data/images/roi-0000226.jpg\n",
      " copying: data/images/roi-0000227.jpg\n",
      " copying: data/images/roi-0000228.jpg\n",
      " copying: data/images/roi-0000229.jpg\n",
      " copying: data/images/roi-0000230.jpg\n",
      " copying: data/images/roi-0000231.jpg\n",
      " copying: data/images/roi-0000232.jpg\n",
      " copying: data/images/roi-0000233.jpg\n",
      " copying: data/images/roi-0000234.jpg\n",
      " copying: data/images/roi-0000235.jpg\n",
      " copying: data/images/roi-0000236.jpg\n",
      " copying: data/images/roi-0000237.jpg\n",
      " copying: data/images/roi-0000238.jpg\n",
      " copying: data/images/roi-0000239.jpg\n",
      " copying: data/images/roi-0000240.jpg\n",
      " copying: data/images/roi-0000241.jpg\n",
      " copying: data/images/roi-0000242.jpg\n",
      " copying: data/images/roi-0000243.jpg\n",
      " copying: data/images/roi-0000244.jpg\n",
      " copying: data/images/roi-0000245.jpg\n",
      " copying: data/images/roi-0000246.jpg\n",
      " copying: data/images/roi-0000247.jpg\n",
      " copying: data/images/roi-0000248.jpg\n",
      " copying: data/images/roi-0000249.jpg\n",
      " copying: data/images/roi-0000250.jpg\n",
      " copying: data/images/roi-0000251.jpg\n",
      " copying: data/images/roi-0000252.jpg\n",
      " copying: data/images/roi-0000253.jpg\n",
      " copying: data/images/roi-0000254.jpg\n",
      " copying: data/images/roi-0000255.jpg\n",
      " copying: data/images/roi-0000256.jpg\n",
      " copying: data/images/roi-0000257.jpg\n",
      " copying: data/images/roi-0000258.jpg\n",
      " copying: data/images/roi-0000259.jpg\n",
      " copying: data/images/roi-0000260.jpg\n",
      " copying: data/images/roi-0000261.jpg\n",
      " copying: data/images/roi-0000262.jpg\n",
      " copying: data/images/roi-0000263.jpg\n",
      " copying: data/images/roi-0000264.jpg\n",
      " copying: data/images/roi-0000265.jpg\n",
      " copying: data/images/roi-0000266.jpg\n",
      " copying: data/images/roi-0000267.jpg\n",
      " copying: data/images/roi-0000268.jpg\n",
      " copying: data/images/roi-0000269.jpg\n",
      " copying: data/images/roi-0000270.jpg\n",
      " copying: data/images/roi-0000271.jpg\n",
      " copying: data/images/roi-0000272.jpg\n",
      " copying: data/images/roi-0000273.jpg\n",
      " copying: data/images/roi-0000274.jpg\n",
      " copying: data/images/roi-0000275.jpg\n",
      " copying: data/images/roi-0000276.jpg\n",
      " copying: data/images/roi-0000277.jpg\n",
      " copying: data/images/roi-0000278.jpg\n",
      " copying: data/images/roi-0000279.jpg\n",
      " copying: data/images/roi-0000280.jpg\n",
      " copying: data/images/roi-0000281.jpg\n",
      " copying: data/images/roi-0000282.jpg\n",
      " copying: data/images/roi-0000283.jpg\n",
      " copying: data/images/roi-0000284.jpg\n",
      " copying: data/images/roi-0000285.jpg\n",
      " copying: data/images/roi-0000286.jpg\n",
      " copying: data/images/roi-0000287.jpg\n",
      " copying: data/images/roi-0000288.jpg\n",
      " copying: data/images/roi-0000289.jpg\n",
      " copying: data/images/roi-0000290.jpg\n",
      " copying: data/images/roi-0000291.jpg\n",
      " copying: data/images/roi-0000292.jpg\n",
      " copying: data/images/roi-0000293.jpg\n",
      " copying: data/images/roi-0000294.jpg\n",
      " copying: data/images/roi-0000295.jpg\n",
      " copying: data/images/roi-0000296.jpg\n",
      " copying: data/images/roi-0000297.jpg\n",
      " copying: data/images/roi-0000298.jpg\n",
      " copying: data/images/roi-0000299.jpg\n",
      " copying: data/images/roi-0000300.jpg\n",
      " copying: data/images/roi-0000301.jpg\n",
      " copying: data/images/roi-0000302.jpg\n",
      " copying: data/images/roi-0000303.jpg\n",
      " copying: data/images/roi-0000304.jpg\n",
      " copying: data/images/roi-0000305.jpg\n",
      " copying: data/images/roi-0000306.jpg\n",
      " copying: data/images/roi-0000307.jpg\n",
      " copying: data/images/roi-0000308.jpg\n",
      " copying: data/images/roi-0000309.jpg\n",
      " copying: data/images/roi-0000310.jpg\n",
      " copying: data/images/roi-0000311.jpg\n",
      " copying: data/images/roi-0000312.jpg\n",
      " copying: data/images/roi-0000313.jpg\n",
      " copying: data/images/roi-0000314.jpg\n",
      " copying: data/images/roi-0000315.jpg\n",
      " copying: data/images/roi-0000316.jpg\n",
      " copying: data/images/roi-0000317.jpg\n",
      " copying: data/images/roi-0000318.jpg\n",
      " copying: data/images/roi-0000319.jpg\n",
      " copying: data/images/roi-0000320.jpg\n",
      " copying: data/images/roi-0000321.jpg\n",
      " copying: data/images/roi-0000322.jpg\n",
      " copying: data/images/roi-0000323.jpg\n",
      " copying: data/images/roi-0000324.jpg\n",
      " copying: data/images/roi-0000325.jpg\n",
      " copying: data/images/roi-0000326.jpg\n",
      " copying: data/images/roi-0000327.jpg\n",
      " copying: data/images/roi-0000328.jpg\n",
      " copying: data/images/roi-0000329.jpg\n",
      " copying: data/images/roi-0000330.jpg\n",
      " copying: data/images/roi-0000331.jpg\n",
      " copying: data/images/roi-0000332.jpg\n",
      " copying: data/images/roi-0000333.jpg\n",
      " copying: data/images/roi-0000334.jpg\n",
      " copying: data/images/roi-0000335.jpg\n",
      " copying: data/images/roi-0000336.jpg\n",
      " copying: data/images/roi-0000337.jpg\n",
      " copying: data/images/roi-0000338.jpg\n",
      " copying: data/images/roi-0000339.jpg\n",
      " copying: data/images/roi-0000340.jpg\n",
      " copying: data/images/roi-0000341.jpg\n",
      " copying: data/images/roi-0000342.jpg\n",
      " copying: data/images/roi-0000343.jpg\n",
      " copying: data/images/roi-0000344.jpg\n",
      " copying: data/images/roi-0000345.jpg\n",
      " copying: data/images/roi-0000346.jpg\n",
      " copying: data/images/roi-0000347.jpg\n",
      " copying: data/images/roi-0000348.jpg\n",
      " copying: data/images/roi-0000349.jpg\n",
      " copying: data/images/roi-0000350.jpg\n",
      " copying: data/images/roi-0000351.jpg\n",
      " copying: data/images/roi-0000352.jpg\n",
      " copying: data/images/roi-0000353.jpg\n",
      " copying: data/images/roi-0000354.jpg\n",
      " copying: data/images/roi-0000355.jpg\n",
      " copying: data/images/roi-0000356.jpg\n",
      " copying: data/images/roi-0000357.jpg\n",
      " copying: data/images/roi-0000358.jpg\n",
      " copying: data/images/roi-0000359.jpg\n",
      " copying: data/images/roi-0000360.jpg\n",
      " copying: data/images/roi-0000361.jpg\n",
      " copying: data/images/roi-0000362.jpg\n",
      " copying: data/images/roi-0000363.jpg\n",
      " copying: data/images/roi-0000364.jpg\n",
      " copying: data/images/roi-0000365.jpg\n",
      " copying: data/images/roi-0000366.jpg\n",
      " copying: data/images/roi-0000367.jpg\n",
      " copying: data/images/roi-0000368.jpg\n",
      " copying: data/images/roi-0000369.jpg\n",
      " copying: data/images/roi-0000370.jpg\n",
      " copying: data/images/roi-0000371.jpg\n",
      " copying: data/images/roi-0000372.jpg\n",
      " copying: data/images/roi-0000373.jpg\n",
      " copying: data/images/roi-0000374.jpg\n",
      " copying: data/images/roi-0000375.jpg\n",
      " copying: data/images/roi-0000376.jpg\n",
      " copying: data/images/roi-0000377.jpg\n",
      " copying: data/images/roi-0000378.jpg\n",
      " copying: data/images/roi-0000379.jpg\n",
      " copying: data/images/roi-0000380.jpg\n",
      " copying: data/images/roi-0000381.jpg\n",
      " copying: data/images/roi-0000382.jpg\n",
      " copying: data/images/roi-0000383.jpg\n",
      " copying: data/images/roi-0000384.jpg\n",
      " copying: data/images/roi-0000385.jpg\n",
      " copying: data/images/roi-0000386.jpg\n",
      " copying: data/images/roi-0000387.jpg\n",
      " copying: data/images/roi-0000388.jpg\n",
      " copying: data/images/roi-0000389.jpg\n",
      " copying: data/images/roi-0000390.jpg\n",
      " copying: data/images/roi-0000391.jpg\n",
      " copying: data/images/roi-0000392.jpg\n",
      " copying: data/images/roi-0000393.jpg\n",
      " copying: data/images/roi-0000394.jpg\n",
      " copying: data/images/roi-0000395.jpg\n",
      " copying: data/images/roi-0000396.jpg\n",
      " copying: data/images/roi-0000397.jpg\n",
      " copying: data/images/roi-0000398.jpg\n",
      " copying: data/images/roi-0000399.jpg\n",
      " copying: data/images/roi-0000400.jpg\n",
      " copying: data/images/roi-0000401.jpg\n",
      " copying: data/images/roi-0000402.jpg\n",
      " copying: data/images/roi-0000403.jpg\n",
      " copying: data/images/roi-0000404.jpg\n",
      " copying: data/images/roi-0000405.jpg\n",
      " copying: data/images/roi-0000406.jpg\n",
      " copying: data/images/roi-0000407.jpg\n",
      " copying: data/images/roi-0000408.jpg\n",
      " copying: data/images/roi-0000409.jpg\n",
      " copying: data/images/roi-0000410.jpg\n",
      " copying: data/images/roi-0000411.jpg\n",
      " copying: data/images/roi-0000412.jpg\n",
      " copying: data/images/roi-0000413.jpg\n",
      " copying: data/images/roi-0000414.jpg\n",
      " copying: data/images/roi-0000415.jpg\n",
      " copying: data/images/roi-0000416.jpg\n",
      " copying: data/images/roi-0000417.jpg\n",
      " copying: data/images/roi-0000418.jpg\n",
      " copying: data/images/roi-0000419.jpg\n",
      " copying: data/images/roi-0000420.jpg\n",
      " copying: data/images/roi-0000421.jpg\n",
      " copying: data/images/roi-0000422.jpg\n",
      " copying: data/images/roi-0000423.jpg\n",
      " copying: data/images/roi-0000424.jpg\n",
      " copying: data/images/roi-0000425.jpg\n",
      " copying: data/images/roi-0000426.jpg\n",
      " copying: data/images/roi-0000427.jpg\n",
      " copying: data/images/roi-0000428.jpg\n",
      " copying: data/images/roi-0000429.jpg\n",
      " copying: data/images/roi-0000430.jpg\n",
      " copying: data/images/roi-0000431.jpg\n",
      " copying: data/images/roi-0000432.jpg\n",
      " copying: data/images/roi-0000433.jpg\n",
      " copying: data/images/roi-0000434.jpg\n",
      " copying: data/images/roi-0000435.jpg\n",
      " copying: data/images/roi-0000436.jpg\n",
      " copying: data/images/roi-0000437.jpg\n",
      " copying: data/images/roi-0000438.jpg\n",
      " copying: data/images/roi-0000439.jpg\n",
      " copying: data/images/roi-0000440.jpg\n",
      " copying: data/images/roi-0000441.jpg\n",
      " copying: data/images/roi-0000442.jpg\n",
      " copying: data/images/roi-0000443.jpg\n",
      " copying: data/images/roi-0000444.jpg\n",
      " copying: data/images/roi-0000445.jpg\n",
      " copying: data/images/roi-0000446.jpg\n",
      " copying: data/images/roi-0000447.jpg\n",
      " copying: data/images/roi-0000448.jpg\n",
      " copying: data/images/roi-0000449.jpg\n",
      " copying: data/images/roi-0000450.jpg\n",
      " copying: data/images/roi-0000451.jpg\n",
      " copying: data/images/roi-0000452.jpg\n",
      " copying: data/images/roi-0000453.jpg\n",
      " copying: data/images/roi-0000454.jpg\n",
      " copying: data/images/roi-0000455.jpg\n",
      " copying: data/images/roi-0000456.jpg\n",
      " copying: data/images/roi-0000457.jpg\n",
      " copying: data/images/roi-0000458.jpg\n",
      " copying: data/images/roi-0000459.jpg\n",
      " copying: data/images/roi-0000460.jpg\n",
      " copying: data/images/roi-0000461.jpg\n",
      " copying: data/images/roi-0000462.jpg\n",
      " copying: data/images/roi-0000463.jpg\n",
      " copying: data/images/roi-0000464.jpg\n",
      " copying: data/images/roi-0000465.jpg\n",
      " copying: data/images/roi-0000466.jpg\n",
      " copying: data/images/roi-0000467.jpg\n",
      " copying: data/images/roi-0000468.jpg\n",
      " copying: data/images/roi-0000469.jpg\n",
      " copying: data/images/roi-0000470.jpg\n",
      " copying: data/images/roi-0000471.jpg\n",
      " copying: data/images/roi-0000472.jpg\n",
      " copying: data/images/roi-0000473.jpg\n",
      " copying: data/images/roi-0000474.jpg\n",
      " copying: data/images/roi-0000475.jpg\n",
      " copying: data/images/roi-0000476.jpg\n",
      " copying: data/images/roi-0000477.jpg\n",
      " copying: data/images/roi-0000478.jpg\n",
      " copying: data/images/roi-0000479.jpg\n",
      " copying: data/images/roi-0000480.jpg\n",
      " copying: data/images/roi-0000481.jpg\n",
      " copying: data/images/roi-0000482.jpg\n",
      " copying: data/images/roi-0000483.jpg\n",
      " copying: data/images/roi-0000484.jpg\n",
      " copying: data/images/roi-0000485.jpg\n",
      " copying: data/images/roi-0000486.jpg\n",
      " copying: data/images/roi-0000487.jpg\n",
      " copying: data/images/roi-0000488.jpg\n",
      " copying: data/images/roi-0000489.jpg\n",
      " copying: data/images/roi-0000490.jpg\n",
      " copying: data/images/roi-0000491.jpg\n",
      " copying: data/images/roi-0000492.jpg\n",
      " copying: data/images/roi-0000493.jpg\n",
      " copying: data/images/roi-0000494.jpg\n",
      " copying: data/images/roi-0000495.jpg\n",
      " copying: data/images/roi-0000496.jpg\n",
      " copying: data/images/roi-0000497.jpg\n",
      " copying: data/images/roi-0000498.jpg\n",
      " copying: data/images/roi-0000499.jpg\n",
      " copying: data/images/roi-0000500.jpg\n",
      " copying: data/images/roi-0000501.jpg\n",
      " copying: data/images/roi-0000502.jpg\n",
      " copying: data/images/roi-0000503.jpg\n",
      " copying: data/images/roi-0000504.jpg\n",
      " copying: data/images/roi-0000505.jpg\n",
      " copying: data/images/roi-0000506.jpg\n",
      " copying: data/images/roi-0000507.jpg\n",
      " copying: data/images/roi-0000508.jpg\n",
      " copying: data/images/roi-0000509.jpg\n",
      " copying: data/images/roi-0000510.jpg\n",
      " copying: data/images/roi-0000511.jpg\n",
      " copying: data/images/roi-0000512.jpg\n",
      " copying: data/images/roi-0000513.jpg\n",
      " copying: data/images/roi-0000514.jpg\n",
      " copying: data/images/roi-0000515.jpg\n",
      " copying: data/images/roi-0000516.jpg\n",
      " copying: data/images/roi-0000517.jpg\n",
      " copying: data/images/roi-0000518.jpg\n",
      " copying: data/images/roi-0000519.jpg\n",
      " copying: data/images/roi-0000520.jpg\n",
      " copying: data/images/roi-0000521.jpg\n",
      " copying: data/images/roi-0000522.jpg\n",
      " copying: data/images/roi-0000523.jpg\n",
      " copying: data/images/roi-0000524.jpg\n",
      " copying: data/images/roi-0000525.jpg\n",
      " copying: data/images/roi-0000526.jpg\n",
      " copying: data/images/roi-0000527.jpg\n",
      " copying: data/images/roi-0000528.jpg\n",
      " copying: data/images/roi-0000529.jpg\n",
      " copying: data/images/roi-0000530.jpg\n",
      " copying: data/images/roi-0000531.jpg\n",
      " copying: data/images/roi-0000532.jpg\n",
      " copying: data/images/roi-0000533.jpg\n",
      " copying: data/images/roi-0000534.jpg\n",
      " copying: data/images/roi-0000535.jpg\n",
      " copying: data/images/roi-0000536.jpg\n",
      " copying: data/images/roi-0000537.jpg\n",
      " copying: data/images/roi-0000538.jpg\n",
      " copying: data/images/roi-0000539.jpg\n",
      " copying: data/images/roi-0000540.jpg\n",
      " copying: data/images/roi-0000541.jpg\n",
      " copying: data/images/roi-0000542.jpg\n",
      " copying: data/images/roi-0000543.jpg\n",
      " copying: data/images/roi-0000544.jpg\n",
      " copying: data/images/roi-0000545.jpg\n",
      " copying: data/images/roi-0000546.jpg\n",
      " copying: data/images/roi-0000547.jpg\n",
      " copying: data/images/roi-0000548.jpg\n",
      " copying: data/images/roi-0000549.jpg\n",
      " copying: data/images/roi-0000550.jpg\n",
      " copying: data/images/roi-0000551.jpg\n",
      " copying: data/images/roi-0000552.jpg\n",
      " copying: data/images/roi-0000553.jpg\n",
      " copying: data/images/roi-0000554.jpg\n",
      " copying: data/images/roi-0000555.jpg\n",
      " copying: data/images/roi-0000556.jpg\n",
      " copying: data/images/roi-0000557.jpg\n",
      " copying: data/images/roi-0000558.jpg\n",
      " copying: data/images/roi-0000559.jpg\n",
      " copying: data/images/roi-0000560.jpg\n",
      " copying: data/images/roi-0000561.jpg\n",
      " copying: data/images/roi-0000562.jpg\n",
      " copying: data/images/roi-0000563.jpg\n",
      " copying: data/images/roi-0000564.jpg\n",
      " copying: data/images/roi-0000565.jpg\n",
      " copying: data/images/roi-0000566.jpg\n",
      " copying: data/images/roi-0000567.jpg\n",
      " copying: data/images/roi-0000568.jpg\n",
      " copying: data/images/roi-0000569.jpg\n",
      " copying: data/images/roi-0000570.jpg\n",
      " copying: data/images/roi-0000571.jpg\n",
      " copying: data/images/roi-0000572.jpg\n",
      " copying: data/images/roi-0000573.jpg\n",
      " copying: data/images/roi-0000574.jpg\n",
      " copying: data/images/roi-0000575.jpg\n",
      " copying: data/images/roi-0000576.jpg\n",
      " copying: data/images/roi-0000577.jpg\n",
      " copying: data/images/roi-0000578.jpg\n",
      " copying: data/images/roi-0000579.jpg\n",
      " copying: data/images/roi-0000580.jpg\n",
      " copying: data/images/roi-0000581.jpg\n",
      " copying: data/images/roi-0000582.jpg\n",
      " copying: data/images/roi-0000583.jpg\n",
      " copying: data/images/roi-0000584.jpg\n",
      " copying: data/images/roi-0000585.jpg\n",
      " copying: data/images/roi-0000586.jpg\n",
      " copying: data/images/roi-0000587.jpg\n",
      " copying: data/images/roi-0000588.jpg\n",
      " copying: data/images/roi-0000589.jpg\n",
      " copying: data/images/roi-0000590.jpg\n",
      " copying: data/images/roi-0000591.jpg\n",
      " copying: data/images/roi-0000592.jpg\n",
      " copying: data/images/roi-0000593.jpg\n",
      " copying: data/images/roi-0000594.jpg\n",
      " copying: data/images/roi-0000595.jpg\n",
      " copying: data/images/roi-0000596.jpg\n",
      " copying: data/images/roi-0000597.jpg\n",
      " copying: data/images/roi-0000598.jpg\n",
      " copying: data/images/roi-0000599.jpg\n",
      " copying: data/images/roi-0000600.jpg\n",
      " copying: data/images/roi-0000601.jpg\n",
      " copying: data/images/roi-0000602.jpg\n",
      " copying: data/images/roi-0000603.jpg\n",
      " copying: data/images/roi-0000604.jpg\n",
      " copying: data/images/roi-0000605.jpg\n",
      " copying: data/images/roi-0000606.jpg\n",
      " copying: data/images/roi-0000607.jpg\n",
      " copying: data/images/roi-0000608.jpg\n",
      " copying: data/images/roi-0000609.jpg\n",
      " copying: data/images/roi-0000610.jpg\n",
      " copying: data/images/roi-0000611.jpg\n",
      " copying: data/images/roi-0000612.jpg\n",
      " copying: data/images/roi-0000613.jpg\n",
      " copying: data/images/roi-0000614.jpg\n",
      " copying: data/images/roi-0000615.jpg\n",
      " copying: data/images/roi-0000616.jpg\n",
      " copying: data/images/roi-0000617.jpg\n",
      " copying: data/images/roi-0000618.jpg\n",
      " copying: data/images/roi-0000619.jpg\n",
      " copying: data/images/roi-0000620.jpg\n",
      " copying: data/images/roi-0000621.jpg\n",
      " copying: data/images/roi-0000622.jpg\n",
      " copying: data/images/roi-0000623.jpg\n",
      " copying: data/images/roi-0000624.jpg\n",
      " copying: data/images/roi-0000625.jpg\n",
      " copying: data/images/roi-0000626.jpg\n",
      " copying: data/images/roi-0000627.jpg\n",
      " copying: data/images/roi-0000628.jpg\n",
      " copying: data/images/roi-0000629.jpg\n",
      " copying: data/images/roi-0000630.jpg\n",
      " copying: data/images/roi-0000631.jpg\n",
      " copying: data/images/roi-0000632.jpg\n",
      " copying: data/images/roi-0000633.jpg\n",
      " copying: data/images/roi-0000634.jpg\n",
      " copying: data/images/roi-0000635.jpg\n",
      " copying: data/images/roi-0000636.jpg\n",
      " copying: data/images/roi-0000637.jpg\n",
      " copying: data/images/roi-0000638.jpg\n",
      " copying: data/images/roi-0000639.jpg\n",
      " copying: data/images/roi-0000640.jpg\n",
      " copying: data/images/roi-0000641.jpg\n",
      " copying: data/images/roi-0000642.jpg\n",
      " copying: data/images/roi-0000643.jpg\n",
      " copying: data/images/roi-0000644.jpg\n",
      " copying: data/images/roi-0000645.jpg\n",
      " copying: data/images/roi-0000646.jpg\n",
      " copying: data/images/roi-0000647.jpg\n",
      " copying: data/images/roi-0000648.jpg\n",
      " copying: data/images/roi-0000649.jpg\n",
      " copying: data/images/roi-0000650.jpg\n",
      " copying: data/images/roi-0000651.jpg\n",
      " copying: data/images/roi-0000652.jpg\n",
      " copying: data/images/roi-0000653.jpg\n",
      " copying: data/images/roi-0000654.jpg\n",
      " copying: data/images/roi-0000655.jpg\n",
      " copying: data/images/roi-0000656.jpg\n",
      " copying: data/images/roi-0000657.jpg\n",
      " copying: data/images/roi-0000658.jpg\n",
      " copying: data/images/roi-0000659.jpg\n",
      " copying: data/images/roi-0000660.jpg\n",
      " copying: data/images/roi-0000661.jpg\n",
      " copying: data/images/roi-0000662.jpg\n",
      " copying: data/images/roi-0000663.jpg\n",
      " copying: data/images/roi-0000664.jpg\n",
      " copying: data/images/roi-0000665.jpg\n",
      " copying: data/images/roi-0000666.jpg\n",
      " copying: data/images/roi-0000667.jpg\n",
      " copying: data/images/roi-0000668.jpg\n",
      " copying: data/images/roi-0000669.jpg\n",
      " copying: data/images/roi-0000670.jpg\n",
      " copying: data/images/roi-0000671.jpg\n",
      " copying: data/images/roi-0000672.jpg\n",
      " copying: data/images/roi-0000673.jpg\n",
      " copying: data/images/roi-0000674.jpg\n",
      " copying: data/images/roi-0000675.jpg\n",
      " copying: data/images/roi-0000676.jpg\n",
      " copying: data/images/roi-0000677.jpg\n",
      " copying: data/images/roi-0000678.jpg\n",
      " copying: data/images/roi-0000679.jpg\n",
      " copying: data/images/roi-0000680.jpg\n",
      " copying: data/images/roi-0000681.jpg\n",
      " copying: data/images/roi-0000682.jpg\n",
      " copying: data/images/roi-0000683.jpg\n",
      " copying: data/images/roi-0000684.jpg\n",
      " copying: data/images/roi-0000685.jpg\n",
      " copying: data/images/roi-0000686.jpg\n",
      " copying: data/images/roi-0000687.jpg\n",
      " copying: data/images/roi-0000688.jpg\n",
      " copying: data/images/roi-0000689.jpg\n",
      " copying: data/images/roi-0000690.jpg\n",
      " copying: data/images/roi-0000691.jpg\n",
      " copying: data/images/roi-0000692.jpg\n",
      " copying: data/images/roi-0000693.jpg\n",
      " copying: data/images/roi-0000694.jpg\n",
      " copying: data/images/roi-0000695.jpg\n",
      " copying: data/images/roi-0000696.jpg\n",
      " copying: data/images/roi-0000697.jpg\n",
      " copying: data/images/roi-0000698.jpg\n",
      " copying: data/images/roi-0000699.jpg\n",
      " copying: data/images/roi-0000700.jpg\n",
      " copying: data/images/roi-0000701.jpg\n",
      " copying: data/images/roi-0000702.jpg\n",
      " copying: data/images/roi-0000703.jpg\n",
      " copying: data/images/roi-0000704.jpg\n",
      " copying: data/images/roi-0000705.jpg\n",
      " copying: data/images/roi-0000706.jpg\n",
      " copying: data/images/roi-0000707.jpg\n",
      " copying: data/images/roi-0000708.jpg\n",
      " copying: data/images/roi-0000709.jpg\n",
      " copying: data/images/roi-0000710.jpg\n",
      " copying: data/images/roi-0000711.jpg\n",
      " copying: data/images/roi-0000712.jpg\n",
      " copying: data/images/roi-0000713.jpg\n",
      " copying: data/images/roi-0000714.jpg\n",
      " copying: data/images/roi-0000715.jpg\n",
      " copying: data/images/roi-0000716.jpg\n",
      " copying: data/images/roi-0000717.jpg\n",
      " copying: data/images/roi-0000718.jpg\n",
      " copying: data/images/roi-0000719.jpg\n",
      " copying: data/images/roi-0000720.jpg\n",
      " copying: data/images/roi-0000721.jpg\n",
      " copying: data/images/roi-0000722.jpg\n",
      " copying: data/images/roi-0000723.jpg\n",
      " copying: data/images/roi-0000724.jpg\n",
      " copying: data/images/roi-0000725.jpg\n",
      " copying: data/images/roi-0000726.jpg\n",
      " copying: data/images/roi-0000727.jpg\n",
      " copying: data/images/roi-0000728.jpg\n",
      " copying: data/images/roi-0000729.jpg\n",
      " copying: data/images/roi-0000730.jpg\n",
      " copying: data/images/roi-0000731.jpg\n",
      " copying: data/images/roi-0000732.jpg\n",
      " copying: data/images/roi-0000733.jpg\n",
      " copying: data/images/roi-0000734.jpg\n",
      " copying: data/images/roi-0000735.jpg\n",
      " copying: data/images/roi-0000736.jpg\n",
      " copying: data/images/roi-0000737.jpg\n",
      " copying: data/images/roi-0000738.jpg\n",
      " copying: data/images/roi-0000739.jpg\n",
      " copying: data/images/roi-0000740.jpg\n",
      " copying: data/images/roi-0000741.jpg\n",
      " copying: data/images/roi-0000742.jpg\n",
      " copying: data/images/roi-0000743.jpg\n",
      " copying: data/images/roi-0000744.jpg\n",
      " copying: data/images/roi-0000745.jpg\n",
      " copying: data/images/roi-0000746.jpg\n",
      " copying: data/images/roi-0000747.jpg\n",
      " copying: data/images/roi-0000748.jpg\n",
      " copying: data/images/roi-0000749.jpg\n",
      " copying: data/images/roi-0000750.jpg\n",
      " copying: data/images/roi-0000751.jpg\n",
      " copying: data/images/roi-0000752.jpg\n",
      " copying: data/images/roi-0000753.jpg\n",
      " copying: data/images/roi-0000754.jpg\n",
      " copying: data/images/roi-0000755.jpg\n",
      " copying: data/images/roi-0000756.jpg\n",
      " copying: data/images/roi-0000757.jpg\n",
      " copying: data/images/roi-0000758.jpg\n",
      " copying: data/images/roi-0000759.jpg\n",
      " copying: data/images/roi-0000760.jpg\n",
      " copying: data/images/roi-0000761.jpg\n",
      " copying: data/images/roi-0000762.jpg\n",
      " copying: data/images/roi-0000763.jpg\n",
      " copying: data/images/roi-0000764.jpg\n",
      " copying: data/images/roi-0000765.jpg\n",
      " copying: data/images/roi-0000766.jpg\n",
      " copying: data/images/roi-0000767.jpg\n",
      " copying: data/images/roi-0000768.jpg\n",
      " copying: data/images/roi-0000769.jpg\n",
      " copying: data/images/roi-0000770.jpg\n",
      " copying: data/images/roi-0000771.jpg\n",
      " copying: data/images/roi-0000772.jpg\n",
      " copying: data/images/roi-0000773.jpg\n",
      " copying: data/images/roi-0000774.jpg\n",
      " copying: data/images/roi-0000775.jpg\n",
      " copying: data/images/roi-0000776.jpg\n",
      " copying: data/images/roi-0000777.jpg\n",
      " copying: data/images/roi-0000778.jpg\n",
      " copying: data/images/roi-0000779.jpg\n",
      " copying: data/images/roi-0000780.jpg\n",
      " copying: data/images/roi-0000781.jpg\n",
      " copying: data/images/roi-0000782.jpg\n",
      " copying: data/images/roi-0000783.jpg\n",
      " copying: data/images/roi-0000784.jpg\n",
      " copying: data/images/roi-0000785.jpg\n",
      " copying: data/images/roi-0000786.jpg\n",
      " copying: data/images/roi-0000787.jpg\n",
      " copying: data/images/roi-0000788.jpg\n",
      " copying: data/images/roi-0000789.jpg\n",
      " copying: data/images/roi-0000790.jpg\n",
      " copying: data/images/roi-0000791.jpg\n",
      " copying: data/images/roi-0000792.jpg\n",
      " copying: data/images/roi-0000793.jpg\n",
      " copying: data/images/roi-0000794.jpg\n",
      " copying: data/images/roi-0000795.jpg\n",
      " copying: data/images/roi-0000796.jpg\n",
      " copying: data/images/roi-0000797.jpg\n",
      " copying: data/images/roi-0000798.jpg\n",
      " copying: data/images/roi-0000799.jpg\n",
      " copying: data/images/roi-0000800.jpg\n",
      " copying: data/images/roi-0000801.jpg\n",
      " copying: data/images/roi-0000802.jpg\n",
      " copying: data/images/roi-0000803.jpg\n",
      " copying: data/images/roi-0000804.jpg\n",
      " copying: data/images/roi-0000805.jpg\n",
      " copying: data/images/roi-0000806.jpg\n",
      " copying: data/images/roi-0000807.jpg\n",
      " copying: data/images/roi-0000808.jpg\n",
      " copying: data/images/roi-0000809.jpg\n",
      " copying: data/images/roi-0000810.jpg\n",
      " copying: data/images/roi-0000811.jpg\n",
      " copying: data/images/roi-0000812.jpg\n",
      " copying: data/images/roi-0000813.jpg\n",
      " copying: data/images/roi-0000814.jpg\n",
      " copying: data/images/roi-0000815.jpg\n",
      " copying: data/images/roi-0000816.jpg\n",
      " copying: data/images/roi-0000817.jpg\n",
      " copying: data/images/roi-0000818.jpg\n",
      " copying: data/images/roi-0000819.jpg\n",
      " copying: data/images/roi-0000820.jpg\n",
      " copying: data/images/roi-0000821.jpg\n",
      " copying: data/images/roi-0000822.jpg\n",
      " copying: data/images/roi-0000823.jpg\n",
      " copying: data/images/roi-0000824.jpg\n",
      " copying: data/images/thumb-0000001.jpg\n",
      " copying: data/images/thumb-0000002.jpg\n",
      " copying: data/images/thumb-0000003.jpg\n",
      " copying: data/images/thumb-0000004.jpg\n",
      " copying: data/images/thumb-0000005.jpg\n",
      " copying: data/images/thumb-0000006.jpg\n",
      " copying: data/images/thumb-0000007.jpg\n",
      " copying: data/images/thumb-0000008.jpg\n",
      " copying: data/images/thumb-0000009.jpg\n",
      " copying: data/images/thumb-0000010.jpg\n",
      " copying: data/images/thumb-0000011.jpg\n",
      " copying: data/images/thumb-0000012.jpg\n",
      " copying: data/images/thumb-0000013.jpg\n",
      " copying: data/images/thumb-0000014.jpg\n",
      " copying: data/images/thumb-0000015.jpg\n",
      " copying: data/images/thumb-0000016.jpg\n",
      " copying: data/images/thumb-0000017.jpg\n",
      " copying: data/images/thumb-0000018.jpg\n",
      " copying: data/images/thumb-0000019.jpg\n",
      " copying: data/images/thumb-0000020.jpg\n",
      " copying: data/images/thumb-0000021.jpg\n",
      " copying: data/images/thumb-0000022.jpg\n",
      " copying: data/images/thumb-0000023.jpg\n",
      " copying: data/images/thumb-0000024.jpg\n",
      " copying: data/images/thumb-0000025.jpg\n",
      " copying: data/images/thumb-0000026.jpg\n",
      " copying: data/images/thumb-0000027.jpg\n",
      " copying: data/images/thumb-0000028.jpg\n",
      " copying: data/images/thumb-0000029.jpg\n",
      " copying: data/images/thumb-0000030.jpg\n",
      " copying: data/images/thumb-0000031.jpg\n",
      " copying: data/images/thumb-0000032.jpg\n",
      " copying: data/images/thumb-0000033.jpg\n",
      " copying: data/images/thumb-0000034.jpg\n",
      " copying: data/images/thumb-0000035.jpg\n",
      " copying: data/images/thumb-0000036.jpg\n",
      " copying: data/images/thumb-0000037.jpg\n",
      " copying: data/images/thumb-0000038.jpg\n",
      " copying: data/images/thumb-0000039.jpg\n",
      " copying: data/images/thumb-0000040.jpg\n",
      " copying: data/images/thumb-0000041.jpg\n",
      " copying: data/images/thumb-0000042.jpg\n",
      " copying: data/images/thumb-0000043.jpg\n",
      " copying: data/images/thumb-0000044.jpg\n",
      " copying: data/images/thumb-0000045.jpg\n",
      " copying: data/images/thumb-0000046.jpg\n",
      " copying: data/images/thumb-0000047.jpg\n",
      " copying: data/images/thumb-0000048.jpg\n",
      " copying: data/images/thumb-0000049.jpg\n",
      " copying: data/images/thumb-0000050.jpg\n",
      " copying: data/images/thumb-0000051.jpg\n",
      " copying: data/images/thumb-0000052.jpg\n",
      " copying: data/images/thumb-0000053.jpg\n",
      " copying: data/images/thumb-0000054.jpg\n",
      " copying: data/images/thumb-0000055.jpg\n",
      " copying: data/images/thumb-0000056.jpg\n",
      " copying: data/images/thumb-0000057.jpg\n",
      " copying: data/images/thumb-0000058.jpg\n",
      " copying: data/images/thumb-0000059.jpg\n",
      " copying: data/images/thumb-0000060.jpg\n",
      " copying: data/images/thumb-0000061.jpg\n",
      " copying: data/images/thumb-0000062.jpg\n",
      " copying: data/images/thumb-0000063.jpg\n",
      " copying: data/images/thumb-0000064.jpg\n",
      " copying: data/images/thumb-0000065.jpg\n",
      " copying: data/images/thumb-0000066.jpg\n",
      " copying: data/images/thumb-0000067.jpg\n",
      " copying: data/images/thumb-0000068.jpg\n",
      " copying: data/images/thumb-0000069.jpg\n",
      " copying: data/images/thumb-0000070.jpg\n",
      " copying: data/images/thumb-0000071.jpg\n",
      " copying: data/images/thumb-0000072.jpg\n",
      " copying: data/images/thumb-0000073.jpg\n",
      " copying: data/images/thumb-0000074.jpg\n",
      " copying: data/images/thumb-0000075.jpg\n",
      " copying: data/images/thumb-0000076.jpg\n",
      " copying: data/images/thumb-0000077.jpg\n",
      " copying: data/images/thumb-0000078.jpg\n",
      " copying: data/images/thumb-0000079.jpg\n",
      " copying: data/images/thumb-0000080.jpg\n",
      " copying: data/images/thumb-0000081.jpg\n",
      " copying: data/images/thumb-0000082.jpg\n",
      " copying: data/images/thumb-0000083.jpg\n",
      " copying: data/images/thumb-0000084.jpg\n",
      " copying: data/images/thumb-0000085.jpg\n",
      " copying: data/images/thumb-0000086.jpg\n",
      " copying: data/images/thumb-0000087.jpg\n",
      " copying: data/images/thumb-0000088.jpg\n",
      " copying: data/images/thumb-0000089.jpg\n",
      " copying: data/images/thumb-0000090.jpg\n",
      " copying: data/images/thumb-0000091.jpg\n",
      " copying: data/images/thumb-0000092.jpg\n",
      " copying: data/images/thumb-0000093.jpg\n",
      " copying: data/images/thumb-0000094.jpg\n",
      " copying: data/images/thumb-0000095.jpg\n",
      " copying: data/images/thumb-0000096.jpg\n",
      " copying: data/images/thumb-0000097.jpg\n",
      " copying: data/images/thumb-0000098.jpg\n",
      " copying: data/images/thumb-0000099.jpg\n",
      " copying: data/images/thumb-0000100.jpg\n",
      " copying: data/images/thumb-0000101.jpg\n",
      " copying: data/images/thumb-0000102.jpg\n",
      " copying: data/images/thumb-0000103.jpg\n",
      " copying: data/images/thumb-0000104.jpg\n",
      " copying: data/images/thumb-0000105.jpg\n",
      " copying: data/images/thumb-0000106.jpg\n",
      " copying: data/images/thumb-0000107.jpg\n",
      " copying: data/images/thumb-0000108.jpg\n",
      " copying: data/images/thumb-0000109.jpg\n",
      " copying: data/images/thumb-0000110.jpg\n",
      " copying: data/images/thumb-0000111.jpg\n",
      " copying: data/images/thumb-0000112.jpg\n",
      " copying: data/images/thumb-0000113.jpg\n",
      " copying: data/images/thumb-0000114.jpg\n",
      " copying: data/images/thumb-0000115.jpg\n",
      " copying: data/images/thumb-0000116.jpg\n",
      " copying: data/images/thumb-0000117.jpg\n",
      " copying: data/images/thumb-0000118.jpg\n",
      " copying: data/images/thumb-0000119.jpg\n",
      " copying: data/images/thumb-0000120.jpg\n",
      " copying: data/images/thumb-0000121.jpg\n",
      " copying: data/images/thumb-0000122.jpg\n",
      " copying: data/images/thumb-0000123.jpg\n",
      " copying: data/images/thumb-0000124.jpg\n",
      " copying: data/images/thumb-0000125.jpg\n",
      " copying: data/images/thumb-0000126.jpg\n",
      " copying: data/images/thumb-0000127.jpg\n",
      " copying: data/images/thumb-0000128.jpg\n",
      " copying: data/images/thumb-0000129.jpg\n",
      " copying: data/images/thumb-0000130.jpg\n",
      " copying: data/images/thumb-0000131.jpg\n",
      " copying: data/images/thumb-0000132.jpg\n",
      " copying: data/images/thumb-0000133.jpg\n",
      " copying: data/images/thumb-0000134.jpg\n",
      " copying: data/images/thumb-0000135.jpg\n",
      " copying: data/images/thumb-0000136.jpg\n",
      " copying: data/images/thumb-0000137.jpg\n",
      " copying: data/images/thumb-0000138.jpg\n",
      " copying: data/images/thumb-0000139.jpg\n",
      " copying: data/images/thumb-0000140.jpg\n",
      " copying: data/images/thumb-0000141.jpg\n",
      " copying: data/images/thumb-0000142.jpg\n",
      " copying: data/images/thumb-0000143.jpg\n",
      " copying: data/images/thumb-0000144.jpg\n",
      " copying: data/images/thumb-0000145.jpg\n",
      " copying: data/images/thumb-0000146.jpg\n",
      " copying: data/images/thumb-0000147.jpg\n",
      " copying: data/images/thumb-0000148.jpg\n",
      " copying: data/images/thumb-0000149.jpg\n",
      " copying: data/images/thumb-0000150.jpg\n",
      " copying: data/images/thumb-0000151.jpg\n",
      " copying: data/images/thumb-0000152.jpg\n",
      " copying: data/images/thumb-0000153.jpg\n",
      " copying: data/images/thumb-0000154.jpg\n",
      " copying: data/images/thumb-0000155.jpg\n",
      " copying: data/images/thumb-0000156.jpg\n",
      " copying: data/images/thumb-0000157.jpg\n",
      " copying: data/images/thumb-0000158.jpg\n",
      " copying: data/images/thumb-0000159.jpg\n",
      " copying: data/images/thumb-0000160.jpg\n",
      " copying: data/images/thumb-0000161.jpg\n",
      " copying: data/images/thumb-0000162.jpg\n",
      " copying: data/images/thumb-0000163.jpg\n",
      " copying: data/images/thumb-0000164.jpg\n",
      " copying: data/images/thumb-0000165.jpg\n",
      " copying: data/images/thumb-0000166.jpg\n",
      " copying: data/images/thumb-0000167.jpg\n",
      " copying: data/images/thumb-0000168.jpg\n",
      " copying: data/images/thumb-0000169.jpg\n",
      " copying: data/images/thumb-0000170.jpg\n",
      " copying: data/images/thumb-0000171.jpg\n",
      " copying: data/images/thumb-0000172.jpg\n",
      " copying: data/images/thumb-0000173.jpg\n",
      " copying: data/images/thumb-0000174.jpg\n",
      " copying: data/images/thumb-0000175.jpg\n",
      " copying: data/images/thumb-0000176.jpg\n",
      " copying: data/images/thumb-0000177.jpg\n",
      " copying: data/images/thumb-0000178.jpg\n",
      " copying: data/images/thumb-0000179.jpg\n",
      " copying: data/images/thumb-0000180.jpg\n",
      " copying: data/images/thumb-0000181.jpg\n",
      " copying: data/images/thumb-0000182.jpg\n",
      " copying: data/images/thumb-0000183.jpg\n",
      " copying: data/images/thumb-0000184.jpg\n",
      " copying: data/images/thumb-0000185.jpg\n",
      " copying: data/images/thumb-0000186.jpg\n",
      " copying: data/images/thumb-0000187.jpg\n",
      " copying: data/images/thumb-0000188.jpg\n",
      " copying: data/images/thumb-0000189.jpg\n",
      " copying: data/images/thumb-0000190.jpg\n",
      " copying: data/images/thumb-0000191.jpg\n",
      " copying: data/images/thumb-0000192.jpg\n",
      " copying: data/images/thumb-0000193.jpg\n",
      " copying: data/images/thumb-0000194.jpg\n",
      " copying: data/images/thumb-0000195.jpg\n",
      " copying: data/images/thumb-0000196.jpg\n",
      " copying: data/images/thumb-0000197.jpg\n",
      " copying: data/images/thumb-0000198.jpg\n",
      " copying: data/images/thumb-0000199.jpg\n",
      " copying: data/images/thumb-0000200.jpg\n",
      " copying: data/images/thumb-0000201.jpg\n",
      " copying: data/images/thumb-0000202.jpg\n",
      " copying: data/images/thumb-0000203.jpg\n",
      " copying: data/images/thumb-0000204.jpg\n",
      " copying: data/images/thumb-0000205.jpg\n",
      " copying: data/images/thumb-0000206.jpg\n",
      " copying: data/images/thumb-0000207.jpg\n",
      " copying: data/images/thumb-0000208.jpg\n",
      " copying: data/images/thumb-0000209.jpg\n",
      " copying: data/images/thumb-0000210.jpg\n",
      " copying: data/images/thumb-0000211.jpg\n",
      " copying: data/images/thumb-0000212.jpg\n",
      " copying: data/images/thumb-0000213.jpg\n",
      " copying: data/images/thumb-0000214.jpg\n",
      " copying: data/images/thumb-0000215.jpg\n",
      " copying: data/images/thumb-0000216.jpg\n",
      " copying: data/images/thumb-0000217.jpg\n",
      " copying: data/images/thumb-0000218.jpg\n",
      " copying: data/images/thumb-0000219.jpg\n",
      " copying: data/images/thumb-0000220.jpg\n",
      " copying: data/images/thumb-0000221.jpg\n",
      " copying: data/images/thumb-0000222.jpg\n",
      " copying: data/images/thumb-0000223.jpg\n",
      " copying: data/images/thumb-0000224.jpg\n",
      " copying: data/images/thumb-0000225.jpg\n",
      " copying: data/images/thumb-0000226.jpg\n",
      " copying: data/images/thumb-0000227.jpg\n",
      " copying: data/images/thumb-0000228.jpg\n",
      " copying: data/images/thumb-0000229.jpg\n",
      " copying: data/images/thumb-0000230.jpg\n",
      " copying: data/images/thumb-0000231.jpg\n",
      " copying: data/images/thumb-0000232.jpg\n",
      " copying: data/images/thumb-0000233.jpg\n",
      " copying: data/images/thumb-0000234.jpg\n",
      " copying: data/images/thumb-0000235.jpg\n",
      " copying: data/images/thumb-0000236.jpg\n",
      " copying: data/images/thumb-0000237.jpg\n",
      " copying: data/images/thumb-0000238.jpg\n",
      " copying: data/images/thumb-0000239.jpg\n",
      " copying: data/images/thumb-0000240.jpg\n",
      " copying: data/images/thumb-0000241.jpg\n",
      " copying: data/images/thumb-0000242.jpg\n",
      " copying: data/images/thumb-0000243.jpg\n",
      " copying: data/images/thumb-0000244.jpg\n",
      " copying: data/images/thumb-0000245.jpg\n",
      " copying: data/images/thumb-0000246.jpg\n",
      " copying: data/images/thumb-0000247.jpg\n",
      " copying: data/images/thumb-0000248.jpg\n",
      " copying: data/images/thumb-0000249.jpg\n",
      " copying: data/images/thumb-0000250.jpg\n",
      " copying: data/images/thumb-0000251.jpg\n",
      " copying: data/images/thumb-0000252.jpg\n",
      " copying: data/images/thumb-0000253.jpg\n",
      " copying: data/images/thumb-0000254.jpg\n",
      " copying: data/images/thumb-0000255.jpg\n",
      " copying: data/images/thumb-0000256.jpg\n",
      " copying: data/images/thumb-0000257.jpg\n",
      " copying: data/images/thumb-0000258.jpg\n",
      " copying: data/images/thumb-0000259.jpg\n",
      " copying: data/images/thumb-0000260.jpg\n",
      " copying: data/images/thumb-0000261.jpg\n",
      " copying: data/images/thumb-0000262.jpg\n",
      " copying: data/images/thumb-0000263.jpg\n",
      " copying: data/images/thumb-0000264.jpg\n",
      " copying: data/images/thumb-0000265.jpg\n",
      " copying: data/images/thumb-0000266.jpg\n",
      " copying: data/images/thumb-0000267.jpg\n",
      " copying: data/images/thumb-0000268.jpg\n",
      " copying: data/images/thumb-0000269.jpg\n",
      " copying: data/images/thumb-0000270.jpg\n",
      " copying: data/images/thumb-0000271.jpg\n",
      " copying: data/images/thumb-0000272.jpg\n",
      " copying: data/images/thumb-0000273.jpg\n",
      " copying: data/images/thumb-0000274.jpg\n",
      " copying: data/images/thumb-0000275.jpg\n",
      " copying: data/images/thumb-0000276.jpg\n",
      " copying: data/images/thumb-0000277.jpg\n",
      " copying: data/images/thumb-0000278.jpg\n",
      " copying: data/images/thumb-0000279.jpg\n",
      " copying: data/images/thumb-0000280.jpg\n",
      " copying: data/images/thumb-0000281.jpg\n",
      " copying: data/images/thumb-0000282.jpg\n",
      " copying: data/images/thumb-0000283.jpg\n",
      " copying: data/images/thumb-0000284.jpg\n",
      " copying: data/images/thumb-0000285.jpg\n",
      " copying: data/images/thumb-0000286.jpg\n",
      " copying: data/images/thumb-0000287.jpg\n",
      " copying: data/images/thumb-0000288.jpg\n",
      " copying: data/images/thumb-0000289.jpg\n",
      " copying: data/images/thumb-0000290.jpg\n",
      " copying: data/images/thumb-0000291.jpg\n",
      " copying: data/images/thumb-0000292.jpg\n",
      " copying: data/images/thumb-0000293.jpg\n",
      " copying: data/images/thumb-0000294.jpg\n",
      " copying: data/images/thumb-0000295.jpg\n",
      " copying: data/images/thumb-0000296.jpg\n",
      " copying: data/images/thumb-0000297.jpg\n",
      " copying: data/images/thumb-0000298.jpg\n",
      " copying: data/images/thumb-0000299.jpg\n",
      " copying: data/images/thumb-0000300.jpg\n",
      " copying: data/images/thumb-0000301.jpg\n",
      " copying: data/images/thumb-0000302.jpg\n",
      " copying: data/images/thumb-0000303.jpg\n",
      " copying: data/images/thumb-0000304.jpg\n",
      " copying: data/images/thumb-0000305.jpg\n",
      " copying: data/images/thumb-0000306.jpg\n",
      " copying: data/images/thumb-0000307.jpg\n",
      " copying: data/images/thumb-0000308.jpg\n",
      " copying: data/images/thumb-0000309.jpg\n",
      " copying: data/images/thumb-0000310.jpg\n",
      " copying: data/images/thumb-0000311.jpg\n",
      " copying: data/images/thumb-0000312.jpg\n",
      " copying: data/images/thumb-0000313.jpg\n",
      " copying: data/images/thumb-0000314.jpg\n",
      " copying: data/images/thumb-0000315.jpg\n",
      " copying: data/images/thumb-0000316.jpg\n",
      " copying: data/images/thumb-0000317.jpg\n",
      " copying: data/images/thumb-0000318.jpg\n",
      " copying: data/images/thumb-0000319.jpg\n",
      " copying: data/images/thumb-0000320.jpg\n",
      " copying: data/images/thumb-0000321.jpg\n",
      " copying: data/images/thumb-0000322.jpg\n",
      " copying: data/images/thumb-0000323.jpg\n",
      " copying: data/images/thumb-0000324.jpg\n",
      " copying: data/images/thumb-0000325.jpg\n",
      " copying: data/images/thumb-0000326.jpg\n",
      " copying: data/images/thumb-0000327.jpg\n",
      " copying: data/images/thumb-0000328.jpg\n",
      " copying: data/images/thumb-0000329.jpg\n",
      " copying: data/images/thumb-0000330.jpg\n",
      " copying: data/images/thumb-0000331.jpg\n",
      " copying: data/images/thumb-0000332.jpg\n",
      " copying: data/images/thumb-0000333.jpg\n",
      " copying: data/images/thumb-0000334.jpg\n",
      " copying: data/images/thumb-0000335.jpg\n",
      " copying: data/images/thumb-0000336.jpg\n",
      " copying: data/images/thumb-0000337.jpg\n",
      " copying: data/images/thumb-0000338.jpg\n",
      " copying: data/images/thumb-0000339.jpg\n",
      " copying: data/images/thumb-0000340.jpg\n",
      " copying: data/images/thumb-0000341.jpg\n",
      " copying: data/images/thumb-0000342.jpg\n",
      " copying: data/images/thumb-0000343.jpg\n",
      " copying: data/images/thumb-0000344.jpg\n",
      " copying: data/images/thumb-0000345.jpg\n",
      " copying: data/images/thumb-0000346.jpg\n",
      " copying: data/images/thumb-0000347.jpg\n",
      " copying: data/images/thumb-0000348.jpg\n",
      " copying: data/images/thumb-0000349.jpg\n",
      " copying: data/images/thumb-0000350.jpg\n",
      " copying: data/images/thumb-0000351.jpg\n",
      " copying: data/images/thumb-0000352.jpg\n",
      " copying: data/images/thumb-0000353.jpg\n",
      " copying: data/images/thumb-0000354.jpg\n",
      " copying: data/images/thumb-0000355.jpg\n",
      " copying: data/images/thumb-0000356.jpg\n",
      " copying: data/images/thumb-0000357.jpg\n",
      " copying: data/images/thumb-0000358.jpg\n",
      " copying: data/images/thumb-0000359.jpg\n",
      " copying: data/images/thumb-0000360.jpg\n",
      " copying: data/images/thumb-0000361.jpg\n",
      " copying: data/images/thumb-0000362.jpg\n",
      " copying: data/images/thumb-0000363.jpg\n",
      " copying: data/images/thumb-0000364.jpg\n",
      " copying: data/images/thumb-0000365.jpg\n",
      " copying: data/images/thumb-0000366.jpg\n",
      " copying: data/images/thumb-0000367.jpg\n",
      " copying: data/images/thumb-0000368.jpg\n",
      " copying: data/images/thumb-0000369.jpg\n",
      " copying: data/images/thumb-0000370.jpg\n",
      " copying: data/images/thumb-0000371.jpg\n",
      " copying: data/images/thumb-0000372.jpg\n",
      " copying: data/images/thumb-0000373.jpg\n",
      " copying: data/images/thumb-0000374.jpg\n",
      " copying: data/images/thumb-0000375.jpg\n",
      " copying: data/images/thumb-0000376.jpg\n",
      " copying: data/images/thumb-0000377.jpg\n",
      " copying: data/images/thumb-0000378.jpg\n",
      " copying: data/images/thumb-0000379.jpg\n",
      " copying: data/images/thumb-0000380.jpg\n",
      " copying: data/images/thumb-0000381.jpg\n",
      " copying: data/images/thumb-0000382.jpg\n",
      " copying: data/images/thumb-0000383.jpg\n",
      " copying: data/images/thumb-0000384.jpg\n",
      " copying: data/images/thumb-0000385.jpg\n",
      " copying: data/images/thumb-0000386.jpg\n",
      " copying: data/images/thumb-0000387.jpg\n",
      " copying: data/images/thumb-0000388.jpg\n",
      " copying: data/images/thumb-0000389.jpg\n",
      " copying: data/images/thumb-0000390.jpg\n",
      " copying: data/images/thumb-0000391.jpg\n",
      " copying: data/images/thumb-0000392.jpg\n",
      " copying: data/images/thumb-0000393.jpg\n",
      " copying: data/images/thumb-0000394.jpg\n",
      " copying: data/images/thumb-0000395.jpg\n",
      " copying: data/images/thumb-0000396.jpg\n",
      " copying: data/images/thumb-0000397.jpg\n",
      " copying: data/images/thumb-0000398.jpg\n",
      " copying: data/images/thumb-0000399.jpg\n",
      " copying: data/images/thumb-0000400.jpg\n",
      " copying: data/images/thumb-0000401.jpg\n",
      " copying: data/images/thumb-0000402.jpg\n",
      " copying: data/images/thumb-0000403.jpg\n",
      " copying: data/images/thumb-0000404.jpg\n",
      " copying: data/images/thumb-0000405.jpg\n",
      " copying: data/images/thumb-0000406.jpg\n",
      " copying: data/images/thumb-0000407.jpg\n",
      " copying: data/images/thumb-0000408.jpg\n",
      " copying: data/images/thumb-0000409.jpg\n",
      " copying: data/images/thumb-0000410.jpg\n",
      " copying: data/images/thumb-0000411.jpg\n",
      " copying: data/images/thumb-0000412.jpg\n",
      " copying: data/images/thumb-0000413.jpg\n",
      " copying: data/images/thumb-0000414.jpg\n",
      " copying: data/images/thumb-0000415.jpg\n",
      " copying: data/images/thumb-0000416.jpg\n",
      " copying: data/images/thumb-0000417.jpg\n",
      " copying: data/images/thumb-0000418.jpg\n",
      " copying: data/images/thumb-0000419.jpg\n",
      " copying: data/images/thumb-0000420.jpg\n",
      " copying: data/images/thumb-0000421.jpg\n",
      " copying: data/images/thumb-0000422.jpg\n",
      " copying: data/images/thumb-0000423.jpg\n",
      " copying: data/images/thumb-0000424.jpg\n",
      " copying: data/images/thumb-0000425.jpg\n",
      " copying: data/images/thumb-0000426.jpg\n",
      " copying: data/images/thumb-0000427.jpg\n",
      " copying: data/images/thumb-0000428.jpg\n",
      " copying: data/images/thumb-0000429.jpg\n",
      " copying: data/images/thumb-0000430.jpg\n",
      " copying: data/images/thumb-0000431.jpg\n",
      " copying: data/images/thumb-0000432.jpg\n",
      " copying: data/images/thumb-0000433.jpg\n",
      " copying: data/images/thumb-0000434.jpg\n",
      " copying: data/images/thumb-0000435.jpg\n",
      " copying: data/images/thumb-0000436.jpg\n",
      " copying: data/images/thumb-0000437.jpg\n",
      " copying: data/images/thumb-0000438.jpg\n",
      " copying: data/images/thumb-0000439.jpg\n",
      " copying: data/images/thumb-0000440.jpg\n",
      " copying: data/images/thumb-0000441.jpg\n",
      " copying: data/images/thumb-0000442.jpg\n",
      " copying: data/images/thumb-0000443.jpg\n",
      " copying: data/images/thumb-0000444.jpg\n",
      " copying: data/images/thumb-0000445.jpg\n",
      " copying: data/images/thumb-0000446.jpg\n",
      " copying: data/images/thumb-0000447.jpg\n",
      " copying: data/images/thumb-0000448.jpg\n",
      " copying: data/images/thumb-0000449.jpg\n",
      " copying: data/images/thumb-0000450.jpg\n",
      " copying: data/images/thumb-0000451.jpg\n",
      " copying: data/images/thumb-0000452.jpg\n",
      " copying: data/images/thumb-0000453.jpg\n",
      " copying: data/images/thumb-0000454.jpg\n",
      " copying: data/images/thumb-0000455.jpg\n",
      " copying: data/images/thumb-0000456.jpg\n",
      " copying: data/images/thumb-0000457.jpg\n",
      " copying: data/images/thumb-0000458.jpg\n",
      " copying: data/images/thumb-0000459.jpg\n",
      " copying: data/images/thumb-0000460.jpg\n",
      " copying: data/images/thumb-0000461.jpg\n",
      " copying: data/images/thumb-0000462.jpg\n",
      " copying: data/images/thumb-0000463.jpg\n",
      " copying: data/images/thumb-0000464.jpg\n",
      " copying: data/images/thumb-0000465.jpg\n",
      " copying: data/images/thumb-0000466.jpg\n",
      " copying: data/images/thumb-0000467.jpg\n",
      " copying: data/images/thumb-0000468.jpg\n",
      " copying: data/images/thumb-0000469.jpg\n",
      " copying: data/images/thumb-0000470.jpg\n",
      " copying: data/images/thumb-0000471.jpg\n",
      " copying: data/images/thumb-0000472.jpg\n",
      " copying: data/images/thumb-0000473.jpg\n",
      " copying: data/images/thumb-0000474.jpg\n",
      " copying: data/images/thumb-0000475.jpg\n",
      " copying: data/images/thumb-0000476.jpg\n",
      " copying: data/images/thumb-0000477.jpg\n",
      " copying: data/images/thumb-0000478.jpg\n",
      " copying: data/images/thumb-0000479.jpg\n",
      " copying: data/images/thumb-0000480.jpg\n",
      " copying: data/images/thumb-0000481.jpg\n",
      " copying: data/images/thumb-0000482.jpg\n",
      " copying: data/images/thumb-0000483.jpg\n",
      " copying: data/images/thumb-0000484.jpg\n",
      " copying: data/images/thumb-0000485.jpg\n",
      " copying: data/images/thumb-0000486.jpg\n",
      " copying: data/images/thumb-0000487.jpg\n",
      " copying: data/images/thumb-0000488.jpg\n",
      " copying: data/images/thumb-0000489.jpg\n",
      " copying: data/images/thumb-0000490.jpg\n",
      " copying: data/images/thumb-0000491.jpg\n",
      " copying: data/images/thumb-0000492.jpg\n",
      " copying: data/images/thumb-0000493.jpg\n",
      " copying: data/images/thumb-0000494.jpg\n",
      " copying: data/images/thumb-0000495.jpg\n",
      " copying: data/images/thumb-0000496.jpg\n",
      " copying: data/images/thumb-0000497.jpg\n",
      " copying: data/images/thumb-0000498.jpg\n",
      " copying: data/images/thumb-0000499.jpg\n",
      " copying: data/images/thumb-0000500.jpg\n",
      " copying: data/images/thumb-0000501.jpg\n",
      " copying: data/images/thumb-0000502.jpg\n",
      " copying: data/images/thumb-0000503.jpg\n",
      " copying: data/images/thumb-0000504.jpg\n",
      " copying: data/images/thumb-0000505.jpg\n",
      " copying: data/images/thumb-0000506.jpg\n",
      " copying: data/images/thumb-0000507.jpg\n",
      " copying: data/images/thumb-0000508.jpg\n",
      " copying: data/images/thumb-0000509.jpg\n",
      " copying: data/images/thumb-0000510.jpg\n",
      " copying: data/images/thumb-0000511.jpg\n",
      " copying: data/images/thumb-0000512.jpg\n",
      " copying: data/images/thumb-0000513.jpg\n",
      " copying: data/images/thumb-0000514.jpg\n",
      " copying: data/images/thumb-0000515.jpg\n",
      " copying: data/images/thumb-0000516.jpg\n",
      " copying: data/images/thumb-0000517.jpg\n",
      " copying: data/images/thumb-0000518.jpg\n",
      " copying: data/images/thumb-0000519.jpg\n",
      " copying: data/images/thumb-0000520.jpg\n",
      " copying: data/images/thumb-0000521.jpg\n",
      " copying: data/images/thumb-0000522.jpg\n",
      " copying: data/images/thumb-0000523.jpg\n",
      " copying: data/images/thumb-0000524.jpg\n",
      " copying: data/images/thumb-0000525.jpg\n",
      " copying: data/images/thumb-0000526.jpg\n",
      " copying: data/images/thumb-0000527.jpg\n",
      " copying: data/images/thumb-0000528.jpg\n",
      " copying: data/images/thumb-0000529.jpg\n",
      " copying: data/images/thumb-0000530.jpg\n",
      " copying: data/images/thumb-0000531.jpg\n",
      " copying: data/images/thumb-0000532.jpg\n",
      " copying: data/images/thumb-0000533.jpg\n",
      " copying: data/images/thumb-0000534.jpg\n",
      " copying: data/images/thumb-0000535.jpg\n",
      " copying: data/images/thumb-0000536.jpg\n",
      " copying: data/images/thumb-0000537.jpg\n",
      " copying: data/images/thumb-0000538.jpg\n",
      " copying: data/images/thumb-0000539.jpg\n",
      " copying: data/images/thumb-0000540.jpg\n",
      " copying: data/images/thumb-0000541.jpg\n",
      " copying: data/images/thumb-0000542.jpg\n",
      " copying: data/images/thumb-0000543.jpg\n",
      " copying: data/images/thumb-0000544.jpg\n",
      " copying: data/images/thumb-0000545.jpg\n",
      " copying: data/images/thumb-0000546.jpg\n",
      " copying: data/images/thumb-0000547.jpg\n",
      " copying: data/images/thumb-0000548.jpg\n",
      " copying: data/images/thumb-0000549.jpg\n",
      " copying: data/images/thumb-0000550.jpg\n",
      " copying: data/images/thumb-0000551.jpg\n",
      " copying: data/images/thumb-0000552.jpg\n",
      " copying: data/images/thumb-0000553.jpg\n",
      " copying: data/images/thumb-0000554.jpg\n",
      " copying: data/images/thumb-0000555.jpg\n",
      " copying: data/images/thumb-0000556.jpg\n",
      " copying: data/images/thumb-0000557.jpg\n",
      " copying: data/images/thumb-0000558.jpg\n",
      " copying: data/images/thumb-0000559.jpg\n",
      " copying: data/images/thumb-0000560.jpg\n",
      " copying: data/images/thumb-0000561.jpg\n",
      " copying: data/images/thumb-0000562.jpg\n",
      " copying: data/images/thumb-0000563.jpg\n",
      " copying: data/images/thumb-0000564.jpg\n",
      " copying: data/images/thumb-0000565.jpg\n",
      " copying: data/images/thumb-0000566.jpg\n",
      " copying: data/images/thumb-0000567.jpg\n",
      " copying: data/images/thumb-0000568.jpg\n",
      " copying: data/images/thumb-0000569.jpg\n",
      " copying: data/images/thumb-0000570.jpg\n",
      " copying: data/images/thumb-0000571.jpg\n",
      " copying: data/images/thumb-0000572.jpg\n",
      " copying: data/images/thumb-0000573.jpg\n",
      " copying: data/images/thumb-0000574.jpg\n",
      " copying: data/images/thumb-0000575.jpg\n",
      " copying: data/images/thumb-0000576.jpg\n",
      " copying: data/images/thumb-0000577.jpg\n",
      " copying: data/images/thumb-0000578.jpg\n",
      " copying: data/images/thumb-0000579.jpg\n",
      " copying: data/images/thumb-0000580.jpg\n",
      " copying: data/images/thumb-0000581.jpg\n",
      " copying: data/images/thumb-0000582.jpg\n",
      " copying: data/images/thumb-0000583.jpg\n",
      " copying: data/images/thumb-0000584.jpg\n",
      " copying: data/images/thumb-0000585.jpg\n",
      " copying: data/images/thumb-0000586.jpg\n",
      " copying: data/images/thumb-0000587.jpg\n",
      " copying: data/images/thumb-0000588.jpg\n",
      " copying: data/images/thumb-0000589.jpg\n",
      " copying: data/images/thumb-0000590.jpg\n",
      " copying: data/images/thumb-0000591.jpg\n",
      " copying: data/images/thumb-0000592.jpg\n",
      " copying: data/images/thumb-0000593.jpg\n",
      " copying: data/images/thumb-0000594.jpg\n",
      " copying: data/images/thumb-0000595.jpg\n",
      " copying: data/images/thumb-0000596.jpg\n",
      " copying: data/images/thumb-0000597.jpg\n",
      " copying: data/images/thumb-0000598.jpg\n",
      " copying: data/images/thumb-0000599.jpg\n",
      " copying: data/images/thumb-0000600.jpg\n",
      " copying: data/images/thumb-0000601.jpg\n",
      " copying: data/images/thumb-0000602.jpg\n",
      " copying: data/images/thumb-0000603.jpg\n",
      " copying: data/images/thumb-0000604.jpg\n",
      " copying: data/images/thumb-0000605.jpg\n",
      " copying: data/images/thumb-0000606.jpg\n",
      " copying: data/images/thumb-0000607.jpg\n",
      " copying: data/images/thumb-0000608.jpg\n",
      " copying: data/images/thumb-0000609.jpg\n",
      " copying: data/images/thumb-0000610.jpg\n",
      " copying: data/images/thumb-0000611.jpg\n",
      " copying: data/images/thumb-0000612.jpg\n",
      " copying: data/images/thumb-0000613.jpg\n",
      " copying: data/images/thumb-0000614.jpg\n",
      " copying: data/images/thumb-0000615.jpg\n",
      " copying: data/images/thumb-0000616.jpg\n",
      " copying: data/images/thumb-0000617.jpg\n",
      " copying: data/images/thumb-0000618.jpg\n",
      " copying: data/images/thumb-0000619.jpg\n",
      " copying: data/images/thumb-0000620.jpg\n",
      " copying: data/images/thumb-0000621.jpg\n",
      " copying: data/images/thumb-0000622.jpg\n",
      " copying: data/images/thumb-0000623.jpg\n",
      " copying: data/images/thumb-0000624.jpg\n",
      " copying: data/images/thumb-0000625.jpg\n",
      " copying: data/images/thumb-0000626.jpg\n",
      " copying: data/images/thumb-0000627.jpg\n",
      " copying: data/images/thumb-0000628.jpg\n",
      " copying: data/images/thumb-0000629.jpg\n",
      " copying: data/images/thumb-0000630.jpg\n",
      " copying: data/images/thumb-0000631.jpg\n",
      " copying: data/images/thumb-0000632.jpg\n",
      " copying: data/images/thumb-0000633.jpg\n",
      " copying: data/images/thumb-0000634.jpg\n",
      " copying: data/images/thumb-0000635.jpg\n",
      " copying: data/images/thumb-0000636.jpg\n",
      " copying: data/images/thumb-0000637.jpg\n",
      " copying: data/images/thumb-0000638.jpg\n",
      " copying: data/images/thumb-0000639.jpg\n",
      " copying: data/images/thumb-0000640.jpg\n",
      " copying: data/images/thumb-0000641.jpg\n",
      " copying: data/images/thumb-0000642.jpg\n",
      " copying: data/images/thumb-0000643.jpg\n",
      " copying: data/images/thumb-0000644.jpg\n",
      " copying: data/images/thumb-0000645.jpg\n",
      " copying: data/images/thumb-0000646.jpg\n",
      " copying: data/images/thumb-0000647.jpg\n",
      " copying: data/images/thumb-0000648.jpg\n",
      " copying: data/images/thumb-0000649.jpg\n",
      " copying: data/images/thumb-0000650.jpg\n",
      " copying: data/images/thumb-0000651.jpg\n",
      " copying: data/images/thumb-0000652.jpg\n",
      " copying: data/images/thumb-0000653.jpg\n",
      " copying: data/images/thumb-0000654.jpg\n",
      " copying: data/images/thumb-0000655.jpg\n",
      " copying: data/images/thumb-0000656.jpg\n",
      " copying: data/images/thumb-0000657.jpg\n",
      " copying: data/images/thumb-0000658.jpg\n",
      " copying: data/images/thumb-0000659.jpg\n",
      " copying: data/images/thumb-0000660.jpg\n",
      " copying: data/images/thumb-0000661.jpg\n",
      " copying: data/images/thumb-0000662.jpg\n",
      " copying: data/images/thumb-0000663.jpg\n",
      " copying: data/images/thumb-0000664.jpg\n",
      " copying: data/images/thumb-0000665.jpg\n",
      " copying: data/images/thumb-0000666.jpg\n",
      " copying: data/images/thumb-0000667.jpg\n",
      " copying: data/images/thumb-0000668.jpg\n",
      " copying: data/images/thumb-0000669.jpg\n",
      " copying: data/images/thumb-0000670.jpg\n",
      " copying: data/images/thumb-0000671.jpg\n",
      " copying: data/images/thumb-0000672.jpg\n",
      " copying: data/images/thumb-0000673.jpg\n",
      " copying: data/images/thumb-0000674.jpg\n",
      " copying: data/images/thumb-0000675.jpg\n",
      " copying: data/images/thumb-0000676.jpg\n",
      " copying: data/images/thumb-0000677.jpg\n",
      " copying: data/images/thumb-0000678.jpg\n",
      " copying: data/images/thumb-0000679.jpg\n",
      " copying: data/images/thumb-0000680.jpg\n",
      " copying: data/images/thumb-0000681.jpg\n",
      " copying: data/images/thumb-0000682.jpg\n",
      " copying: data/images/thumb-0000683.jpg\n",
      " copying: data/images/thumb-0000684.jpg\n",
      " copying: data/images/thumb-0000685.jpg\n",
      " copying: data/images/thumb-0000686.jpg\n",
      " copying: data/images/thumb-0000687.jpg\n",
      " copying: data/images/thumb-0000688.jpg\n",
      " copying: data/images/thumb-0000689.jpg\n",
      " copying: data/images/thumb-0000690.jpg\n",
      " copying: data/images/thumb-0000691.jpg\n",
      " copying: data/images/thumb-0000692.jpg\n",
      " copying: data/images/thumb-0000693.jpg\n",
      " copying: data/images/thumb-0000694.jpg\n",
      " copying: data/images/thumb-0000695.jpg\n",
      " copying: data/images/thumb-0000696.jpg\n",
      " copying: data/images/thumb-0000697.jpg\n",
      " copying: data/images/thumb-0000698.jpg\n",
      " copying: data/images/thumb-0000699.jpg\n",
      " copying: data/images/thumb-0000700.jpg\n",
      " copying: data/images/thumb-0000701.jpg\n",
      " copying: data/images/thumb-0000702.jpg\n",
      " copying: data/images/thumb-0000703.jpg\n",
      " copying: data/images/thumb-0000704.jpg\n",
      " copying: data/images/thumb-0000705.jpg\n",
      " copying: data/images/thumb-0000706.jpg\n",
      " copying: data/images/thumb-0000707.jpg\n",
      " copying: data/images/thumb-0000708.jpg\n",
      " copying: data/images/thumb-0000709.jpg\n",
      " copying: data/images/thumb-0000710.jpg\n",
      " copying: data/images/thumb-0000711.jpg\n",
      " copying: data/images/thumb-0000712.jpg\n",
      " copying: data/images/thumb-0000713.jpg\n",
      " copying: data/images/thumb-0000714.jpg\n",
      " copying: data/images/thumb-0000715.jpg\n",
      " copying: data/images/thumb-0000716.jpg\n",
      " copying: data/images/thumb-0000717.jpg\n",
      " copying: data/images/thumb-0000718.jpg\n",
      " copying: data/images/thumb-0000719.jpg\n",
      " copying: data/images/thumb-0000720.jpg\n",
      " copying: data/images/thumb-0000721.jpg\n",
      " copying: data/images/thumb-0000722.jpg\n",
      " copying: data/images/thumb-0000723.jpg\n",
      " copying: data/images/thumb-0000724.jpg\n",
      " copying: data/images/thumb-0000725.jpg\n",
      " copying: data/images/thumb-0000726.jpg\n",
      " copying: data/images/thumb-0000727.jpg\n",
      " copying: data/images/thumb-0000728.jpg\n",
      " copying: data/images/thumb-0000729.jpg\n",
      " copying: data/images/thumb-0000730.jpg\n",
      " copying: data/images/thumb-0000731.jpg\n",
      " copying: data/images/thumb-0000732.jpg\n",
      " copying: data/images/thumb-0000733.jpg\n",
      " copying: data/images/thumb-0000734.jpg\n",
      " copying: data/images/thumb-0000735.jpg\n",
      " copying: data/images/thumb-0000736.jpg\n",
      " copying: data/images/thumb-0000737.jpg\n",
      " copying: data/images/thumb-0000738.jpg\n",
      " copying: data/images/thumb-0000739.jpg\n",
      " copying: data/images/thumb-0000740.jpg\n",
      " copying: data/images/thumb-0000741.jpg\n",
      " copying: data/images/thumb-0000742.jpg\n",
      " copying: data/images/thumb-0000743.jpg\n",
      " copying: data/images/thumb-0000744.jpg\n",
      " copying: data/images/thumb-0000745.jpg\n",
      " copying: data/images/thumb-0000746.jpg\n",
      " copying: data/images/thumb-0000747.jpg\n",
      " copying: data/images/thumb-0000748.jpg\n",
      " copying: data/images/thumb-0000749.jpg\n",
      " copying: data/images/thumb-0000750.jpg\n",
      " copying: data/images/thumb-0000751.jpg\n",
      " copying: data/images/thumb-0000752.jpg\n",
      " copying: data/images/thumb-0000753.jpg\n",
      " copying: data/images/thumb-0000754.jpg\n",
      " copying: data/images/thumb-0000755.jpg\n",
      " copying: data/images/thumb-0000756.jpg\n",
      " copying: data/images/thumb-0000757.jpg\n",
      " copying: data/images/thumb-0000758.jpg\n",
      " copying: data/images/thumb-0000759.jpg\n",
      " copying: data/images/thumb-0000760.jpg\n",
      " copying: data/images/thumb-0000761.jpg\n",
      " copying: data/images/thumb-0000762.jpg\n",
      " copying: data/images/thumb-0000763.jpg\n",
      " copying: data/images/thumb-0000764.jpg\n",
      " copying: data/images/thumb-0000765.jpg\n",
      " copying: data/images/thumb-0000766.jpg\n",
      " copying: data/images/thumb-0000767.jpg\n",
      " copying: data/images/thumb-0000768.jpg\n",
      " copying: data/images/thumb-0000769.jpg\n",
      " copying: data/images/thumb-0000770.jpg\n",
      " copying: data/images/thumb-0000771.jpg\n",
      " copying: data/images/thumb-0000772.jpg\n",
      " copying: data/images/thumb-0000773.jpg\n",
      " copying: data/images/thumb-0000774.jpg\n",
      " copying: data/images/thumb-0000775.jpg\n",
      " copying: data/images/thumb-0000776.jpg\n",
      " copying: data/images/thumb-0000777.jpg\n",
      " copying: data/images/thumb-0000778.jpg\n",
      " copying: data/images/thumb-0000779.jpg\n",
      " copying: data/images/thumb-0000780.jpg\n",
      " copying: data/images/thumb-0000781.jpg\n",
      " copying: data/images/thumb-0000782.jpg\n",
      " copying: data/images/thumb-0000783.jpg\n",
      " copying: data/images/thumb-0000784.jpg\n",
      " copying: data/images/thumb-0000785.jpg\n",
      " copying: data/images/thumb-0000786.jpg\n",
      " copying: data/images/thumb-0000787.jpg\n",
      " copying: data/images/thumb-0000788.jpg\n",
      " copying: data/images/thumb-0000789.jpg\n",
      " copying: data/images/thumb-0000790.jpg\n",
      " copying: data/images/thumb-0000791.jpg\n",
      " copying: data/images/thumb-0000792.jpg\n",
      " copying: data/images/thumb-0000793.jpg\n",
      " copying: data/images/thumb-0000794.jpg\n",
      " copying: data/images/thumb-0000795.jpg\n",
      " copying: data/images/thumb-0000796.jpg\n",
      " copying: data/images/thumb-0000797.jpg\n",
      " copying: data/images/thumb-0000798.jpg\n",
      " copying: data/images/thumb-0000799.jpg\n",
      " copying: data/images/thumb-0000800.jpg\n",
      " copying: data/images/thumb-0000801.jpg\n",
      " copying: data/images/thumb-0000802.jpg\n",
      " copying: data/images/thumb-0000803.jpg\n",
      " copying: data/images/thumb-0000804.jpg\n",
      " copying: data/images/thumb-0000805.jpg\n",
      " copying: data/images/thumb-0000806.jpg\n",
      " copying: data/images/thumb-0000807.jpg\n",
      " copying: data/images/thumb-0000808.jpg\n",
      " copying: data/images/thumb-0000809.jpg\n",
      " copying: data/images/thumb-0000810.jpg\n",
      " copying: data/images/thumb-0000811.jpg\n",
      " copying: data/images/thumb-0000812.jpg\n",
      " copying: data/images/thumb-0000813.jpg\n",
      " copying: data/images/thumb-0000814.jpg\n",
      " copying: data/images/thumb-0000815.jpg\n",
      " copying: data/images/thumb-0000816.jpg\n",
      " copying: data/images/thumb-0000817.jpg\n",
      " copying: data/images/thumb-0000818.jpg\n",
      " copying: data/images/thumb-0000819.jpg\n",
      " copying: data/images/thumb-0000820.jpg\n",
      " copying: data/images/thumb-0000821.jpg\n",
      " copying: data/images/thumb-0000822.jpg\n",
      " copying: data/images/thumb-0000823.jpg\n",
      " copying: data/images/thumb-0000824.jpg\n",
      " copying: data/metadata.dat\n",
      " copying: data/MRHistograms.txt\n",
      " copying: data/SightingData.csv\n",
      " copying: data/StripeCodes.txt\n",
      "Archive:  data-full.zip\n",
      "   creating: data/\n",
      "  inflating: data/.DS_Store          \n",
      "   creating: data/images/\n",
      "  inflating: data/images/img-0000001.jpg  \n",
      "  inflating: data/images/img-0000002.jpg  \n",
      "  inflating: data/images/img-0000003.jpg  \n",
      "  inflating: data/images/img-0000004.jpg  \n",
      "  inflating: data/images/img-0000005.jpg  \n",
      "  inflating: data/images/img-0000006.jpg  \n",
      "  inflating: data/images/img-0000007.jpg  \n",
      "  inflating: data/images/img-0000008.jpg  \n",
      "  inflating: data/images/img-0000009.jpg  \n",
      "  inflating: data/images/img-0000010.jpg  \n",
      "  inflating: data/images/img-0000011.jpg  \n",
      "  inflating: data/images/img-0000012.jpg  \n",
      "  inflating: data/images/img-0000013.jpg  \n",
      "  inflating: data/images/img-0000014.jpg  \n",
      "  inflating: data/images/img-0000015.jpg  \n",
      "  inflating: data/images/img-0000016.jpg  \n",
      "  inflating: data/images/img-0000017.jpg  \n",
      "  inflating: data/images/img-0000018.jpg  \n",
      "  inflating: data/images/img-0000019.jpg  \n",
      "  inflating: data/images/img-0000020.jpg  \n",
      "  inflating: data/images/img-0000021.jpg  \n",
      "  inflating: data/images/img-0000022.jpg  \n",
      "  inflating: data/images/img-0000023.jpg  \n",
      "  inflating: data/images/img-0000024.jpg  \n",
      "  inflating: data/images/img-0000025.jpg  \n",
      "  inflating: data/images/img-0000026.jpg  \n",
      "  inflating: data/images/img-0000027.jpg  \n",
      "  inflating: data/images/img-0000028.jpg  \n",
      "  inflating: data/images/img-0000029.jpg  \n",
      "  inflating: data/images/img-0000030.jpg  \n",
      "  inflating: data/images/img-0000031.jpg  \n",
      "  inflating: data/images/img-0000032.jpg  \n",
      "  inflating: data/images/img-0000033.jpg  \n",
      "  inflating: data/images/img-0000034.jpg  \n",
      "  inflating: data/images/img-0000035.jpg  \n",
      "  inflating: data/images/img-0000036.jpg  \n",
      "  inflating: data/images/img-0000037.jpg  \n",
      "  inflating: data/images/img-0000038.jpg  \n",
      "  inflating: data/images/img-0000039.jpg  \n",
      "  inflating: data/images/img-0000040.jpg  \n",
      "  inflating: data/images/img-0000041.jpg  \n",
      "  inflating: data/images/img-0000042.jpg  \n",
      "  inflating: data/images/img-0000043.jpg  \n",
      "  inflating: data/images/img-0000044.jpg  \n",
      "  inflating: data/images/img-0000045.jpg  \n",
      "  inflating: data/images/img-0000046.jpg  \n",
      "  inflating: data/images/img-0000047.jpg  \n",
      "  inflating: data/images/img-0000048.jpg  \n",
      "  inflating: data/images/img-0000049.jpg  \n",
      "  inflating: data/images/img-0000050.jpg  \n",
      "  inflating: data/images/img-0000051.jpg  \n",
      "  inflating: data/images/img-0000052.jpg  \n",
      "  inflating: data/images/img-0000053.jpg  \n",
      "  inflating: data/images/img-0000054.jpg  \n",
      "  inflating: data/images/img-0000055.jpg  \n",
      "  inflating: data/images/img-0000056.jpg  \n",
      "  inflating: data/images/img-0000057.jpg  \n",
      "  inflating: data/images/img-0000058.jpg  \n",
      "  inflating: data/images/img-0000059.jpg  \n",
      "  inflating: data/images/img-0000060.jpg  \n",
      "  inflating: data/images/img-0000061.jpg  \n",
      "  inflating: data/images/img-0000062.jpg  \n",
      "  inflating: data/images/img-0000063.jpg  \n",
      "  inflating: data/images/img-0000064.jpg  \n",
      "  inflating: data/images/img-0000065.jpg  \n",
      "  inflating: data/images/img-0000066.jpg  \n",
      "  inflating: data/images/img-0000067.jpg  \n",
      "  inflating: data/images/img-0000068.jpg  \n",
      "  inflating: data/images/img-0000069.jpg  \n",
      "  inflating: data/images/img-0000070.jpg  \n",
      "  inflating: data/images/img-0000071.jpg  \n",
      "  inflating: data/images/img-0000072.jpg  \n",
      "  inflating: data/images/img-0000073.jpg  \n",
      "  inflating: data/images/img-0000074.jpg  \n",
      "  inflating: data/images/img-0000075.jpg  \n",
      "  inflating: data/images/img-0000076.jpg  \n",
      "  inflating: data/images/img-0000077.jpg  \n",
      "  inflating: data/images/img-0000078.jpg  \n",
      "  inflating: data/images/img-0000079.jpg  \n",
      "  inflating: data/images/img-0000080.jpg  \n",
      "  inflating: data/images/img-0000081.jpg  \n",
      "  inflating: data/images/img-0000082.jpg  \n",
      "  inflating: data/images/img-0000083.jpg  \n",
      "  inflating: data/images/img-0000084.jpg  \n",
      "  inflating: data/images/img-0000085.jpg  \n",
      "  inflating: data/images/img-0000086.jpg  \n",
      "  inflating: data/images/img-0000087.jpg  \n",
      "  inflating: data/images/img-0000088.jpg  \n",
      "  inflating: data/images/img-0000089.jpg  \n",
      "  inflating: data/images/img-0000090.jpg  \n",
      "  inflating: data/images/img-0000091.jpg  \n",
      "  inflating: data/images/img-0000092.jpg  \n",
      "  inflating: data/images/img-0000093.jpg  \n",
      "  inflating: data/images/img-0000094.jpg  \n",
      "  inflating: data/images/img-0000095.jpg  \n",
      "  inflating: data/images/img-0000096.jpg  \n",
      "  inflating: data/images/img-0000097.jpg  \n",
      "  inflating: data/images/img-0000098.jpg  \n",
      "  inflating: data/images/img-0000099.jpg  \n",
      "  inflating: data/images/img-0000100.jpg  \n",
      "  inflating: data/images/img-0000101.jpg  \n",
      "  inflating: data/images/img-0000102.jpg  \n",
      "  inflating: data/images/img-0000103.jpg  \n",
      "  inflating: data/images/img-0000104.jpg  \n",
      "  inflating: data/images/img-0000105.jpg  \n",
      "  inflating: data/images/img-0000106.jpg  \n",
      "  inflating: data/images/img-0000107.jpg  \n",
      "  inflating: data/images/img-0000108.jpg  \n",
      "  inflating: data/images/img-0000109.jpg  \n",
      "  inflating: data/images/img-0000110.jpg  \n",
      "  inflating: data/images/img-0000111.jpg  \n",
      "  inflating: data/images/img-0000112.jpg  \n",
      "  inflating: data/images/img-0000113.jpg  \n",
      "  inflating: data/images/img-0000114.jpg  \n",
      "  inflating: data/images/img-0000115.jpg  \n",
      "  inflating: data/images/img-0000116.jpg  \n",
      "  inflating: data/images/img-0000117.jpg  \n",
      "  inflating: data/images/img-0000118.jpg  \n",
      "  inflating: data/images/img-0000119.jpg  \n",
      "  inflating: data/images/img-0000120.jpg  \n",
      "  inflating: data/images/img-0000121.jpg  \n",
      "  inflating: data/images/img-0000122.jpg  \n",
      "  inflating: data/images/img-0000123.jpg  \n",
      "  inflating: data/images/img-0000124.jpg  \n",
      "  inflating: data/images/img-0000125.jpg  \n",
      "  inflating: data/images/img-0000126.jpg  \n",
      "  inflating: data/images/img-0000127.jpg  \n",
      "  inflating: data/images/img-0000128.jpg  \n",
      "  inflating: data/images/img-0000129.jpg  \n",
      "  inflating: data/images/img-0000130.jpg  \n",
      "  inflating: data/images/img-0000131.jpg  \n",
      "  inflating: data/images/img-0000132.jpg  \n",
      "  inflating: data/images/img-0000133.jpg  \n",
      "  inflating: data/images/img-0000134.jpg  \n",
      "  inflating: data/images/img-0000135.jpg  \n",
      "  inflating: data/images/img-0000136.jpg  \n",
      "  inflating: data/images/img-0000137.jpg  \n",
      "  inflating: data/images/img-0000138.jpg  \n",
      "  inflating: data/images/img-0000139.jpg  \n",
      "  inflating: data/images/img-0000140.jpg  \n",
      "  inflating: data/images/img-0000141.jpg  \n",
      "  inflating: data/images/img-0000142.jpg  \n",
      "  inflating: data/images/img-0000143.jpg  \n",
      "  inflating: data/images/img-0000144.jpg  \n",
      "  inflating: data/images/img-0000145.jpg  \n",
      "  inflating: data/images/img-0000146.jpg  \n",
      "  inflating: data/images/img-0000147.jpg  \n",
      "  inflating: data/images/img-0000148.jpg  \n",
      "  inflating: data/images/img-0000149.jpg  \n",
      "  inflating: data/images/img-0000150.jpg  \n",
      "  inflating: data/images/img-0000151.jpg  \n",
      "  inflating: data/images/img-0000152.jpg  \n",
      "  inflating: data/images/img-0000153.jpg  \n",
      "  inflating: data/images/img-0000154.jpg  \n",
      "  inflating: data/images/img-0000155.jpg  \n",
      "  inflating: data/images/img-0000156.jpg  \n",
      "  inflating: data/images/img-0000157.jpg  \n",
      "  inflating: data/images/img-0000158.jpg  \n",
      "  inflating: data/images/img-0000159.jpg  \n",
      "  inflating: data/images/img-0000160.jpg  \n",
      "  inflating: data/images/img-0000161.jpg  \n",
      "  inflating: data/images/img-0000162.jpg  \n",
      "  inflating: data/images/img-0000163.jpg  \n",
      "  inflating: data/images/img-0000164.jpg  \n",
      "  inflating: data/images/img-0000165.jpg  \n",
      "  inflating: data/images/img-0000166.jpg  \n",
      "  inflating: data/images/img-0000167.jpg  \n",
      "  inflating: data/images/img-0000168.jpg  \n",
      "  inflating: data/images/img-0000169.jpg  \n",
      "  inflating: data/images/img-0000170.jpg  \n",
      "  inflating: data/images/img-0000171.jpg  \n",
      "  inflating: data/images/img-0000172.jpg  \n",
      "  inflating: data/images/img-0000173.jpg  \n",
      "  inflating: data/images/img-0000174.jpg  \n",
      "  inflating: data/images/img-0000175.jpg  \n",
      "  inflating: data/images/img-0000176.jpg  \n",
      "  inflating: data/images/img-0000177.jpg  \n",
      "  inflating: data/images/img-0000178.jpg  \n",
      "  inflating: data/images/img-0000179.jpg  \n",
      "  inflating: data/images/img-0000180.jpg  \n",
      "  inflating: data/images/img-0000181.jpg  \n",
      "  inflating: data/images/img-0000182.jpg  \n",
      "  inflating: data/images/img-0000183.jpg  \n",
      "  inflating: data/images/img-0000184.jpg  \n",
      "  inflating: data/images/img-0000185.jpg  \n",
      "  inflating: data/images/img-0000186.jpg  \n",
      "  inflating: data/images/img-0000187.jpg  \n",
      "  inflating: data/images/img-0000188.jpg  \n",
      "  inflating: data/images/img-0000189.jpg  \n",
      "  inflating: data/images/img-0000190.jpg  \n",
      "  inflating: data/images/img-0000191.jpg  \n",
      "  inflating: data/images/img-0000192.jpg  \n",
      "  inflating: data/images/img-0000193.jpg  \n",
      "  inflating: data/images/img-0000194.jpg  \n",
      "  inflating: data/images/img-0000195.jpg  \n",
      "  inflating: data/images/img-0000196.jpg  \n",
      "  inflating: data/images/img-0000197.jpg  \n",
      "  inflating: data/images/img-0000198.jpg  \n",
      "  inflating: data/images/img-0000199.jpg  \n",
      "  inflating: data/images/img-0000200.jpg  \n",
      "  inflating: data/images/img-0000201.jpg  \n",
      "  inflating: data/images/img-0000202.jpg  \n",
      "  inflating: data/images/img-0000203.jpg  \n",
      "  inflating: data/images/img-0000204.jpg  \n",
      "  inflating: data/images/img-0000205.jpg  \n",
      "  inflating: data/images/img-0000206.jpg  \n",
      "  inflating: data/images/img-0000207.jpg  \n",
      "  inflating: data/images/img-0000208.jpg  \n",
      "  inflating: data/images/img-0000209.jpg  \n",
      "  inflating: data/images/img-0000210.jpg  \n",
      "  inflating: data/images/img-0000211.jpg  \n",
      "  inflating: data/images/img-0000212.jpg  \n",
      "  inflating: data/images/img-0000213.jpg  \n",
      "  inflating: data/images/img-0000214.jpg  \n",
      "  inflating: data/images/img-0000215.jpg  \n",
      "  inflating: data/images/img-0000216.jpg  \n",
      "  inflating: data/images/img-0000217.jpg  \n",
      "  inflating: data/images/img-0000218.jpg  \n",
      "  inflating: data/images/img-0000219.jpg  \n",
      "  inflating: data/images/img-0000220.jpg  \n",
      "  inflating: data/images/img-0000221.jpg  \n",
      "  inflating: data/images/img-0000222.jpg  \n",
      "  inflating: data/images/img-0000223.jpg  \n",
      "  inflating: data/images/img-0000224.jpg  \n",
      "  inflating: data/images/img-0000225.jpg  \n",
      "  inflating: data/images/img-0000226.jpg  \n",
      "  inflating: data/images/img-0000227.jpg  \n",
      "  inflating: data/images/img-0000228.jpg  \n",
      "  inflating: data/images/img-0000229.jpg  \n",
      "  inflating: data/images/img-0000230.jpg  \n",
      "  inflating: data/images/img-0000231.jpg  \n",
      "  inflating: data/images/img-0000232.jpg  \n",
      "  inflating: data/images/img-0000233.jpg  \n",
      "  inflating: data/images/img-0000234.jpg  \n",
      "  inflating: data/images/img-0000235.jpg  \n",
      "  inflating: data/images/img-0000236.jpg  \n",
      "  inflating: data/images/img-0000237.jpg  \n",
      "  inflating: data/images/img-0000238.jpg  \n",
      "  inflating: data/images/img-0000239.jpg  \n",
      "  inflating: data/images/img-0000240.jpg  \n",
      "  inflating: data/images/img-0000241.jpg  \n",
      "  inflating: data/images/img-0000242.jpg  \n",
      "  inflating: data/images/img-0000243.jpg  \n",
      "  inflating: data/images/img-0000244.jpg  \n",
      "  inflating: data/images/img-0000245.jpg  \n",
      "  inflating: data/images/img-0000246.jpg  \n",
      "  inflating: data/images/img-0000247.jpg  \n",
      "  inflating: data/images/img-0000248.jpg  \n",
      "  inflating: data/images/img-0000249.jpg  \n",
      "  inflating: data/images/img-0000250.jpg  \n",
      "  inflating: data/images/img-0000251.jpg  \n",
      "  inflating: data/images/img-0000252.jpg  \n",
      "  inflating: data/images/img-0000253.jpg  \n",
      "  inflating: data/images/img-0000254.jpg  \n",
      "  inflating: data/images/img-0000255.jpg  \n",
      "  inflating: data/images/img-0000256.jpg  \n",
      "  inflating: data/images/img-0000257.jpg  \n",
      "  inflating: data/images/img-0000258.jpg  \n",
      "  inflating: data/images/img-0000259.jpg  \n",
      "  inflating: data/images/img-0000260.jpg  \n",
      "  inflating: data/images/img-0000261.jpg  \n",
      "  inflating: data/images/img-0000262.jpg  \n",
      "  inflating: data/images/img-0000263.jpg  \n",
      "  inflating: data/images/img-0000264.jpg  \n",
      "  inflating: data/images/img-0000265.jpg  \n",
      "  inflating: data/images/img-0000266.jpg  \n",
      "  inflating: data/images/img-0000267.jpg  \n",
      "  inflating: data/images/img-0000268.jpg  \n",
      "  inflating: data/images/img-0000269.jpg  \n",
      "  inflating: data/images/img-0000270.jpg  \n",
      "  inflating: data/images/img-0000271.jpg  \n",
      "  inflating: data/images/img-0000272.jpg  \n",
      "  inflating: data/images/img-0000273.jpg  \n",
      "  inflating: data/images/img-0000274.jpg  \n",
      "  inflating: data/images/img-0000275.jpg  \n",
      "  inflating: data/images/img-0000276.jpg  \n",
      "  inflating: data/images/img-0000277.jpg  \n",
      "  inflating: data/images/img-0000278.jpg  \n",
      "  inflating: data/images/img-0000279.jpg  \n",
      "  inflating: data/images/img-0000280.jpg  \n",
      "  inflating: data/images/img-0000281.jpg  \n",
      "  inflating: data/images/img-0000282.jpg  \n",
      "  inflating: data/images/img-0000283.jpg  \n",
      "  inflating: data/images/img-0000284.jpg  \n",
      "  inflating: data/images/img-0000285.jpg  \n",
      "  inflating: data/images/img-0000286.jpg  \n",
      "  inflating: data/images/img-0000287.jpg  \n",
      "  inflating: data/images/img-0000288.jpg  \n",
      "  inflating: data/images/img-0000289.jpg  \n",
      "  inflating: data/images/img-0000290.jpg  \n",
      "  inflating: data/images/img-0000291.jpg  \n",
      "  inflating: data/images/img-0000292.jpg  \n",
      "  inflating: data/images/img-0000293.jpg  \n",
      "  inflating: data/images/img-0000294.jpg  \n",
      "  inflating: data/images/img-0000295.jpg  \n",
      "  inflating: data/images/img-0000296.jpg  \n",
      "  inflating: data/images/img-0000297.jpg  \n",
      "  inflating: data/images/img-0000298.jpg  \n",
      "  inflating: data/images/img-0000299.jpg  \n",
      "  inflating: data/images/img-0000300.jpg  \n",
      "  inflating: data/images/img-0000301.jpg  \n",
      "  inflating: data/images/img-0000302.jpg  \n",
      "  inflating: data/images/img-0000303.jpg  \n",
      "  inflating: data/images/img-0000304.jpg  \n",
      "  inflating: data/images/img-0000305.jpg  \n",
      "  inflating: data/images/img-0000306.jpg  \n",
      "  inflating: data/images/img-0000307.jpg  \n",
      "  inflating: data/images/img-0000308.jpg  \n",
      "  inflating: data/images/img-0000309.jpg  \n",
      "  inflating: data/images/img-0000310.jpg  \n",
      "  inflating: data/images/img-0000311.jpg  \n",
      "  inflating: data/images/img-0000312.jpg  \n",
      "  inflating: data/images/img-0000313.jpg  \n",
      "  inflating: data/images/img-0000314.jpg  \n",
      "  inflating: data/images/img-0000315.jpg  \n",
      "  inflating: data/images/img-0000316.jpg  \n",
      "  inflating: data/images/img-0000317.jpg  \n",
      "  inflating: data/images/img-0000318.jpg  \n",
      "  inflating: data/images/img-0000319.jpg  \n",
      "  inflating: data/images/img-0000320.jpg  \n",
      "  inflating: data/images/img-0000321.jpg  \n",
      "  inflating: data/images/img-0000322.jpg  \n",
      "  inflating: data/images/img-0000323.jpg  \n",
      "  inflating: data/images/img-0000324.jpg  \n",
      "  inflating: data/images/img-0000325.jpg  \n",
      "  inflating: data/images/img-0000326.jpg  \n",
      "  inflating: data/images/img-0000327.jpg  \n",
      "  inflating: data/images/img-0000328.jpg  \n",
      "  inflating: data/images/img-0000329.jpg  \n",
      "  inflating: data/images/img-0000330.jpg  \n",
      "  inflating: data/images/img-0000331.jpg  \n",
      "  inflating: data/images/img-0000332.jpg  \n",
      "  inflating: data/images/img-0000333.jpg  \n",
      "  inflating: data/images/img-0000334.jpg  \n",
      "  inflating: data/images/img-0000335.jpg  \n",
      "  inflating: data/images/img-0000336.jpg  \n",
      "  inflating: data/images/img-0000337.jpg  \n",
      "  inflating: data/images/img-0000338.jpg  \n",
      "  inflating: data/images/img-0000339.jpg  \n",
      "  inflating: data/images/img-0000340.jpg  \n",
      "  inflating: data/images/img-0000341.jpg  \n",
      "  inflating: data/images/img-0000342.jpg  \n",
      "  inflating: data/images/img-0000343.jpg  \n",
      "  inflating: data/images/img-0000344.jpg  \n",
      "  inflating: data/images/img-0000345.jpg  \n",
      "  inflating: data/images/img-0000346.jpg  \n",
      "  inflating: data/images/img-0000347.jpg  \n",
      "  inflating: data/images/img-0000348.jpg  \n",
      "  inflating: data/images/img-0000349.jpg  \n",
      "  inflating: data/images/img-0000350.jpg  \n",
      "  inflating: data/images/img-0000351.jpg  \n",
      "  inflating: data/images/img-0000352.jpg  \n",
      "  inflating: data/images/img-0000353.jpg  \n",
      "  inflating: data/images/img-0000354.jpg  \n",
      "  inflating: data/images/img-0000355.jpg  \n",
      "  inflating: data/images/img-0000356.jpg  \n",
      "  inflating: data/images/img-0000357.jpg  \n",
      "  inflating: data/images/img-0000358.jpg  \n",
      "  inflating: data/images/img-0000359.jpg  \n",
      "  inflating: data/images/img-0000360.jpg  \n",
      "  inflating: data/images/img-0000361.jpg  \n",
      "  inflating: data/images/img-0000362.jpg  \n",
      "  inflating: data/images/img-0000363.jpg  \n",
      "  inflating: data/images/img-0000364.jpg  \n",
      "  inflating: data/images/img-0000365.jpg  \n",
      "  inflating: data/images/img-0000366.jpg  \n",
      "  inflating: data/images/img-0000367.jpg  \n",
      "  inflating: data/images/img-0000368.jpg  \n",
      "  inflating: data/images/img-0000369.jpg  \n",
      "  inflating: data/images/img-0000370.jpg  \n",
      "  inflating: data/images/img-0000371.jpg  \n",
      "  inflating: data/images/img-0000372.jpg  \n",
      "  inflating: data/images/img-0000373.jpg  \n",
      "  inflating: data/images/img-0000374.jpg  \n",
      "  inflating: data/images/img-0000375.jpg  \n",
      "  inflating: data/images/img-0000376.jpg  \n",
      "  inflating: data/images/img-0000377.jpg  \n",
      "  inflating: data/images/img-0000378.jpg  \n",
      "  inflating: data/images/img-0000379.jpg  \n",
      "  inflating: data/images/img-0000380.jpg  \n",
      "  inflating: data/images/img-0000381.jpg  \n",
      "  inflating: data/images/img-0000382.jpg  \n",
      "  inflating: data/images/img-0000383.jpg  \n",
      "  inflating: data/images/img-0000384.jpg  \n",
      "  inflating: data/images/img-0000385.jpg  \n",
      "  inflating: data/images/img-0000386.jpg  \n",
      "  inflating: data/images/img-0000387.jpg  \n",
      "  inflating: data/images/img-0000388.jpg  \n",
      "  inflating: data/images/img-0000389.jpg  \n",
      "  inflating: data/images/img-0000390.jpg  \n",
      "  inflating: data/images/img-0000391.jpg  \n",
      "  inflating: data/images/img-0000392.jpg  \n",
      "  inflating: data/images/img-0000393.jpg  \n",
      "  inflating: data/images/img-0000394.jpg  \n",
      "  inflating: data/images/img-0000395.jpg  \n",
      "  inflating: data/images/img-0000396.jpg  \n",
      "  inflating: data/images/img-0000397.jpg  \n",
      "  inflating: data/images/img-0000398.jpg  \n",
      "  inflating: data/images/img-0000399.jpg  \n",
      "  inflating: data/images/img-0000400.jpg  \n",
      "  inflating: data/images/img-0000401.jpg  \n",
      "  inflating: data/images/img-0000402.jpg  \n",
      "  inflating: data/images/img-0000403.jpg  \n",
      "  inflating: data/images/img-0000404.jpg  \n",
      "  inflating: data/images/img-0000405.jpg  \n",
      "  inflating: data/images/img-0000406.jpg  \n",
      "  inflating: data/images/img-0000407.jpg  \n",
      "  inflating: data/images/img-0000408.jpg  \n",
      "  inflating: data/images/img-0000409.jpg  \n",
      "  inflating: data/images/img-0000410.jpg  \n",
      "  inflating: data/images/img-0000411.jpg  \n",
      "  inflating: data/images/img-0000412.jpg  \n",
      "  inflating: data/images/img-0000413.jpg  \n",
      "  inflating: data/images/img-0000414.jpg  \n",
      "  inflating: data/images/img-0000415.jpg  \n",
      "  inflating: data/images/img-0000416.jpg  \n",
      "  inflating: data/images/img-0000417.jpg  \n",
      "  inflating: data/images/img-0000418.jpg  \n",
      "  inflating: data/images/img-0000419.jpg  \n",
      "  inflating: data/images/img-0000420.jpg  \n",
      "  inflating: data/images/img-0000421.jpg  \n",
      "  inflating: data/images/img-0000422.jpg  \n",
      "  inflating: data/images/img-0000423.jpg  \n",
      "  inflating: data/images/img-0000424.jpg  \n",
      "  inflating: data/images/img-0000425.jpg  \n",
      "  inflating: data/images/img-0000426.jpg  \n",
      "  inflating: data/images/img-0000427.jpg  \n",
      "  inflating: data/images/img-0000428.jpg  \n",
      "  inflating: data/images/img-0000429.jpg  \n",
      "  inflating: data/images/img-0000430.jpg  \n",
      "  inflating: data/images/img-0000431.jpg  \n",
      "  inflating: data/images/img-0000432.jpg  \n",
      "  inflating: data/images/img-0000433.jpg  \n",
      "  inflating: data/images/img-0000434.jpg  \n",
      "  inflating: data/images/img-0000435.jpg  \n",
      "  inflating: data/images/img-0000436.jpg  \n",
      "  inflating: data/images/img-0000437.jpg  \n",
      "  inflating: data/images/img-0000438.jpg  \n",
      "  inflating: data/images/img-0000439.jpg  \n",
      "  inflating: data/images/img-0000440.jpg  \n",
      "  inflating: data/images/img-0000441.jpg  \n",
      "  inflating: data/images/img-0000442.jpg  \n",
      "  inflating: data/images/img-0000443.jpg  \n",
      "  inflating: data/images/img-0000444.jpg  \n",
      "  inflating: data/images/img-0000445.jpg  \n",
      "  inflating: data/images/img-0000446.jpg  \n",
      "  inflating: data/images/img-0000447.jpg  \n",
      "  inflating: data/images/img-0000448.jpg  \n",
      "  inflating: data/images/img-0000449.jpg  \n",
      "  inflating: data/images/img-0000450.jpg  \n",
      "  inflating: data/images/img-0000451.jpg  \n",
      "  inflating: data/images/img-0000452.jpg  \n",
      "  inflating: data/images/img-0000453.jpg  \n",
      "  inflating: data/images/img-0000454.jpg  \n",
      "  inflating: data/images/img-0000455.jpg  \n",
      "  inflating: data/images/img-0000456.jpg  \n",
      "  inflating: data/images/img-0000457.jpg  \n",
      "  inflating: data/images/img-0000458.jpg  \n",
      "  inflating: data/images/img-0000459.jpg  \n",
      "  inflating: data/images/img-0000460.jpg  \n",
      "  inflating: data/images/img-0000461.jpg  \n",
      "  inflating: data/images/img-0000462.jpg  \n",
      "  inflating: data/images/img-0000463.jpg  \n",
      "  inflating: data/images/img-0000464.jpg  \n",
      "  inflating: data/images/img-0000465.jpg  \n",
      "  inflating: data/images/img-0000466.jpg  \n",
      "  inflating: data/images/img-0000467.jpg  \n",
      "  inflating: data/images/img-0000468.jpg  \n",
      "  inflating: data/images/img-0000469.jpg  \n",
      "  inflating: data/images/img-0000470.jpg  \n",
      "  inflating: data/images/img-0000471.jpg  \n",
      "  inflating: data/images/img-0000472.jpg  \n",
      "  inflating: data/images/img-0000473.jpg  \n",
      "  inflating: data/images/img-0000474.jpg  \n",
      "  inflating: data/images/img-0000475.jpg  \n",
      "  inflating: data/images/img-0000476.jpg  \n",
      "  inflating: data/images/img-0000477.jpg  \n",
      "  inflating: data/images/img-0000478.jpg  \n",
      "  inflating: data/images/img-0000479.jpg  \n",
      "  inflating: data/images/img-0000480.jpg  \n",
      "  inflating: data/images/img-0000481.jpg  \n",
      "  inflating: data/images/img-0000482.jpg  \n",
      "  inflating: data/images/img-0000483.jpg  \n",
      "  inflating: data/images/img-0000484.jpg  \n",
      "  inflating: data/images/img-0000485.jpg  \n",
      "  inflating: data/images/img-0000486.jpg  \n",
      "  inflating: data/images/img-0000487.jpg  \n",
      "  inflating: data/images/img-0000488.jpg  \n",
      "  inflating: data/images/img-0000489.jpg  \n",
      "  inflating: data/images/img-0000490.jpg  \n",
      "  inflating: data/images/img-0000491.jpg  \n",
      "  inflating: data/images/img-0000492.jpg  \n",
      "  inflating: data/images/img-0000493.jpg  \n",
      "  inflating: data/images/img-0000494.jpg  \n",
      "  inflating: data/images/img-0000495.jpg  \n",
      "  inflating: data/images/img-0000496.jpg  \n",
      "  inflating: data/images/img-0000497.jpg  \n",
      "  inflating: data/images/img-0000498.jpg  \n",
      "  inflating: data/images/img-0000499.jpg  \n",
      "  inflating: data/images/img-0000500.jpg  \n",
      "  inflating: data/images/img-0000501.jpg  \n",
      "  inflating: data/images/img-0000502.jpg  \n",
      "  inflating: data/images/img-0000503.jpg  \n",
      "  inflating: data/images/img-0000504.jpg  \n",
      "  inflating: data/images/img-0000505.jpg  \n",
      "  inflating: data/images/img-0000506.jpg  \n",
      "  inflating: data/images/img-0000507.jpg  \n",
      "  inflating: data/images/img-0000508.jpg  \n",
      "  inflating: data/images/img-0000509.jpg  \n",
      "  inflating: data/images/img-0000510.jpg  \n",
      "  inflating: data/images/img-0000511.jpg  \n",
      "  inflating: data/images/img-0000512.jpg  \n",
      "  inflating: data/images/img-0000513.jpg  \n",
      "  inflating: data/images/img-0000514.jpg  \n",
      "  inflating: data/images/img-0000515.jpg  \n",
      "  inflating: data/images/img-0000516.jpg  \n",
      "  inflating: data/images/img-0000517.jpg  \n",
      "  inflating: data/images/img-0000518.jpg  \n",
      "  inflating: data/images/img-0000519.jpg  \n",
      "  inflating: data/images/img-0000520.jpg  \n",
      "  inflating: data/images/img-0000521.jpg  \n",
      "  inflating: data/images/img-0000522.jpg  \n",
      "  inflating: data/images/img-0000523.jpg  \n",
      "  inflating: data/images/img-0000524.jpg  \n",
      "  inflating: data/images/img-0000525.jpg  \n",
      "  inflating: data/images/img-0000526.jpg  \n",
      "  inflating: data/images/img-0000527.jpg  \n",
      "  inflating: data/images/img-0000528.jpg  \n",
      "  inflating: data/images/img-0000529.jpg  \n",
      "  inflating: data/images/img-0000530.jpg  \n",
      "  inflating: data/images/img-0000531.jpg  \n",
      "  inflating: data/images/img-0000532.jpg  \n",
      "  inflating: data/images/img-0000533.jpg  \n",
      "  inflating: data/images/img-0000534.jpg  \n",
      "  inflating: data/images/img-0000535.jpg  \n",
      "  inflating: data/images/img-0000536.jpg  \n",
      "  inflating: data/images/img-0000537.jpg  \n",
      "  inflating: data/images/img-0000538.jpg  \n",
      "  inflating: data/images/img-0000539.jpg  \n",
      "  inflating: data/images/img-0000540.jpg  \n",
      "  inflating: data/images/img-0000541.jpg  \n",
      "  inflating: data/images/img-0000542.jpg  \n",
      "  inflating: data/images/img-0000543.jpg  \n",
      "  inflating: data/images/img-0000544.jpg  \n",
      "  inflating: data/images/img-0000545.jpg  \n",
      "  inflating: data/images/img-0000546.jpg  \n",
      "  inflating: data/images/img-0000547.jpg  \n",
      "  inflating: data/images/img-0000548.jpg  \n",
      "  inflating: data/images/img-0000549.jpg  \n",
      "  inflating: data/images/img-0000550.jpg  \n",
      "  inflating: data/images/img-0000551.jpg  \n",
      "  inflating: data/images/img-0000552.jpg  \n",
      "  inflating: data/images/img-0000553.jpg  \n",
      "  inflating: data/images/img-0000554.jpg  \n",
      "  inflating: data/images/img-0000555.jpg  \n",
      "  inflating: data/images/img-0000556.jpg  \n",
      "  inflating: data/images/img-0000557.jpg  \n",
      "  inflating: data/images/img-0000558.jpg  \n",
      "  inflating: data/images/img-0000559.jpg  \n",
      "  inflating: data/images/img-0000560.jpg  \n",
      "  inflating: data/images/img-0000561.jpg  \n",
      "  inflating: data/images/img-0000562.jpg  \n",
      "  inflating: data/images/img-0000563.jpg  \n",
      "  inflating: data/images/img-0000564.jpg  \n",
      "  inflating: data/images/img-0000565.jpg  \n",
      "  inflating: data/images/img-0000566.jpg  \n",
      "  inflating: data/images/img-0000567.jpg  \n",
      "  inflating: data/images/img-0000568.jpg  \n",
      "  inflating: data/images/img-0000569.jpg  \n",
      "  inflating: data/images/img-0000570.jpg  \n",
      "  inflating: data/images/img-0000571.jpg  \n",
      "  inflating: data/images/img-0000572.jpg  \n",
      "  inflating: data/images/img-0000573.jpg  \n",
      "  inflating: data/images/img-0000574.jpg  \n",
      "  inflating: data/images/img-0000575.jpg  \n",
      "  inflating: data/images/img-0000576.jpg  \n",
      "  inflating: data/images/img-0000577.jpg  \n",
      "  inflating: data/images/img-0000578.jpg  \n",
      "  inflating: data/images/img-0000579.jpg  \n",
      "  inflating: data/images/img-0000580.jpg  \n",
      "  inflating: data/images/img-0000581.jpg  \n",
      "  inflating: data/images/img-0000582.jpg  \n",
      "  inflating: data/images/img-0000583.jpg  \n",
      "  inflating: data/images/img-0000584.jpg  \n",
      "  inflating: data/images/img-0000585.jpg  \n",
      "  inflating: data/images/img-0000586.jpg  \n",
      "  inflating: data/images/img-0000587.jpg  \n",
      "  inflating: data/images/img-0000588.jpg  \n",
      "  inflating: data/images/img-0000589.jpg  \n",
      "  inflating: data/images/img-0000590.jpg  \n",
      "  inflating: data/images/img-0000591.jpg  \n",
      "  inflating: data/images/img-0000592.jpg  \n",
      "  inflating: data/images/img-0000593.jpg  \n",
      "  inflating: data/images/img-0000594.jpg  \n",
      "  inflating: data/images/img-0000595.jpg  \n",
      "  inflating: data/images/img-0000596.jpg  \n",
      "  inflating: data/images/img-0000597.jpg  \n",
      "  inflating: data/images/img-0000598.jpg  \n",
      "  inflating: data/images/img-0000599.jpg  \n",
      "  inflating: data/images/img-0000600.jpg  \n",
      "  inflating: data/images/img-0000601.jpg  \n",
      "  inflating: data/images/img-0000602.jpg  \n",
      "  inflating: data/images/img-0000603.jpg  \n",
      "  inflating: data/images/img-0000604.jpg  \n",
      "  inflating: data/images/img-0000605.jpg  \n",
      "  inflating: data/images/img-0000606.jpg  \n",
      "  inflating: data/images/img-0000607.jpg  \n",
      "  inflating: data/images/img-0000608.jpg  \n",
      "  inflating: data/images/img-0000609.jpg  \n",
      "  inflating: data/images/img-0000610.jpg  \n",
      "  inflating: data/images/img-0000611.jpg  \n",
      "  inflating: data/images/img-0000612.jpg  \n",
      "  inflating: data/images/img-0000613.jpg  \n",
      "  inflating: data/images/img-0000614.jpg  \n",
      "  inflating: data/images/img-0000615.jpg  \n",
      "  inflating: data/images/img-0000616.jpg  \n",
      "  inflating: data/images/img-0000617.jpg  \n",
      "  inflating: data/images/img-0000618.jpg  \n",
      "  inflating: data/images/img-0000619.jpg  \n",
      "  inflating: data/images/img-0000620.jpg  \n",
      "  inflating: data/images/img-0000621.jpg  \n",
      "  inflating: data/images/img-0000622.jpg  \n",
      "  inflating: data/images/img-0000623.jpg  \n",
      "  inflating: data/images/img-0000624.jpg  \n",
      "  inflating: data/images/img-0000625.jpg  \n",
      "  inflating: data/images/img-0000626.jpg  \n",
      "  inflating: data/images/img-0000627.jpg  \n",
      "  inflating: data/images/img-0000628.jpg  \n",
      "  inflating: data/images/img-0000629.jpg  \n",
      "  inflating: data/images/img-0000630.jpg  \n",
      "  inflating: data/images/img-0000631.jpg  \n",
      "  inflating: data/images/img-0000632.jpg  \n",
      "  inflating: data/images/img-0000633.jpg  \n",
      "  inflating: data/images/img-0000634.jpg  \n",
      "  inflating: data/images/img-0000635.jpg  \n",
      "  inflating: data/images/img-0000636.jpg  \n",
      "  inflating: data/images/img-0000637.jpg  \n",
      "  inflating: data/images/img-0000638.jpg  \n",
      "  inflating: data/images/img-0000639.jpg  \n",
      "  inflating: data/images/img-0000640.jpg  \n",
      "  inflating: data/images/img-0000641.jpg  \n",
      "  inflating: data/images/img-0000642.jpg  \n",
      "  inflating: data/images/img-0000643.jpg  \n",
      "  inflating: data/images/img-0000644.jpg  \n",
      "  inflating: data/images/img-0000645.jpg  \n",
      "  inflating: data/images/img-0000646.jpg  \n",
      "  inflating: data/images/img-0000647.jpg  \n",
      "  inflating: data/images/img-0000648.jpg  \n",
      "  inflating: data/images/img-0000649.jpg  \n",
      "  inflating: data/images/img-0000650.jpg  \n",
      "  inflating: data/images/img-0000651.jpg  \n",
      "  inflating: data/images/img-0000652.jpg  \n",
      "  inflating: data/images/img-0000653.jpg  \n",
      "  inflating: data/images/img-0000654.jpg  \n",
      "  inflating: data/images/img-0000655.jpg  \n",
      "  inflating: data/images/img-0000656.jpg  \n",
      "  inflating: data/images/img-0000657.jpg  \n",
      "  inflating: data/images/img-0000658.jpg  \n",
      "  inflating: data/images/img-0000659.jpg  \n",
      "  inflating: data/images/img-0000660.jpg  \n",
      "  inflating: data/images/img-0000661.jpg  \n",
      "  inflating: data/images/img-0000662.jpg  \n",
      "  inflating: data/images/img-0000663.jpg  \n",
      "  inflating: data/images/img-0000664.jpg  \n",
      "  inflating: data/images/img-0000665.jpg  \n",
      "  inflating: data/images/img-0000666.jpg  \n",
      "  inflating: data/images/img-0000667.jpg  \n",
      "  inflating: data/images/img-0000668.jpg  \n",
      "  inflating: data/images/img-0000669.jpg  \n",
      "  inflating: data/images/img-0000670.jpg  \n",
      "  inflating: data/images/img-0000671.jpg  \n",
      "  inflating: data/images/img-0000672.jpg  \n",
      "  inflating: data/images/img-0000673.jpg  \n",
      "  inflating: data/images/img-0000674.jpg  \n",
      "  inflating: data/images/img-0000675.jpg  \n",
      "  inflating: data/images/img-0000676.jpg  \n",
      "  inflating: data/images/img-0000677.jpg  \n",
      "  inflating: data/images/img-0000678.jpg  \n",
      "  inflating: data/images/img-0000679.jpg  \n",
      "  inflating: data/images/img-0000680.jpg  \n",
      "  inflating: data/images/img-0000681.jpg  \n",
      "  inflating: data/images/img-0000682.jpg  \n",
      "  inflating: data/images/img-0000683.jpg  \n",
      "  inflating: data/images/img-0000684.jpg  \n",
      "  inflating: data/images/img-0000685.jpg  \n",
      "  inflating: data/images/img-0000686.jpg  \n",
      "  inflating: data/images/img-0000687.jpg  \n",
      "  inflating: data/images/img-0000688.jpg  \n",
      "  inflating: data/images/img-0000689.jpg  \n",
      "  inflating: data/images/img-0000690.jpg  \n",
      "  inflating: data/images/img-0000691.jpg  \n",
      "  inflating: data/images/img-0000692.jpg  \n",
      "  inflating: data/images/img-0000693.jpg  \n",
      "  inflating: data/images/img-0000694.jpg  \n",
      "  inflating: data/images/img-0000695.jpg  \n",
      "  inflating: data/images/img-0000696.jpg  \n",
      "  inflating: data/images/img-0000697.jpg  \n",
      "  inflating: data/images/img-0000698.jpg  \n",
      "  inflating: data/images/img-0000699.jpg  \n",
      "  inflating: data/images/img-0000700.jpg  \n",
      "  inflating: data/images/img-0000701.jpg  \n",
      "  inflating: data/images/img-0000702.jpg  \n",
      "  inflating: data/images/img-0000703.jpg  \n",
      "  inflating: data/images/img-0000704.jpg  \n",
      "  inflating: data/images/img-0000705.jpg  \n",
      "  inflating: data/images/img-0000706.jpg  \n",
      "  inflating: data/images/img-0000707.jpg  \n",
      "  inflating: data/images/img-0000708.jpg  \n",
      "  inflating: data/images/img-0000709.jpg  \n",
      "  inflating: data/images/img-0000710.jpg  \n",
      "  inflating: data/images/img-0000711.jpg  \n",
      "  inflating: data/images/img-0000712.jpg  \n",
      "  inflating: data/images/img-0000713.jpg  \n",
      "  inflating: data/images/img-0000714.jpg  \n",
      "  inflating: data/images/img-0000715.jpg  \n",
      "  inflating: data/images/img-0000716.jpg  \n",
      "  inflating: data/images/img-0000717.jpg  \n",
      "  inflating: data/images/img-0000718.jpg  \n",
      "  inflating: data/images/img-0000719.jpg  \n",
      "  inflating: data/images/img-0000720.jpg  \n",
      "  inflating: data/images/img-0000721.jpg  \n",
      "  inflating: data/images/img-0000722.jpg  \n",
      "  inflating: data/images/img-0000723.jpg  \n",
      "  inflating: data/images/img-0000724.jpg  \n",
      "  inflating: data/images/img-0000725.jpg  \n",
      "  inflating: data/images/img-0000726.jpg  \n",
      "  inflating: data/images/img-0000727.jpg  \n",
      "  inflating: data/images/img-0000728.jpg  \n",
      "  inflating: data/images/img-0000729.jpg  \n",
      "  inflating: data/images/img-0000730.jpg  \n",
      "  inflating: data/images/img-0000731.jpg  \n",
      "  inflating: data/images/img-0000732.jpg  \n",
      "  inflating: data/images/img-0000733.jpg  \n",
      "  inflating: data/images/img-0000734.jpg  \n",
      "  inflating: data/images/img-0000735.jpg  \n",
      "  inflating: data/images/img-0000736.jpg  \n",
      "  inflating: data/images/img-0000737.jpg  \n",
      "  inflating: data/images/img-0000738.jpg  \n",
      "  inflating: data/images/img-0000739.jpg  \n",
      "  inflating: data/images/img-0000740.jpg  \n",
      "  inflating: data/images/img-0000741.jpg  \n",
      "  inflating: data/images/img-0000742.jpg  \n",
      "  inflating: data/images/img-0000743.jpg  \n",
      "  inflating: data/images/img-0000744.jpg  \n",
      "  inflating: data/images/img-0000745.jpg  \n",
      "  inflating: data/images/img-0000746.jpg  \n",
      "  inflating: data/images/img-0000747.jpg  \n",
      "  inflating: data/images/img-0000748.jpg  \n",
      "  inflating: data/images/img-0000749.jpg  \n",
      "  inflating: data/images/img-0000750.jpg  \n",
      "  inflating: data/images/img-0000751.jpg  \n",
      "  inflating: data/images/img-0000752.jpg  \n",
      "  inflating: data/images/img-0000753.jpg  \n",
      "  inflating: data/images/img-0000754.jpg  \n",
      "  inflating: data/images/img-0000755.jpg  \n",
      "  inflating: data/images/img-0000756.jpg  \n",
      "  inflating: data/images/img-0000757.jpg  \n",
      "  inflating: data/images/img-0000758.jpg  \n",
      "  inflating: data/images/img-0000759.jpg  \n",
      "  inflating: data/images/img-0000760.jpg  \n",
      "  inflating: data/images/img-0000761.jpg  \n",
      "  inflating: data/images/img-0000762.jpg  \n",
      "  inflating: data/images/img-0000763.jpg  \n",
      "  inflating: data/images/img-0000764.jpg  \n",
      "  inflating: data/images/img-0000765.jpg  \n",
      "  inflating: data/images/img-0000766.jpg  \n",
      "  inflating: data/images/img-0000767.jpg  \n",
      "  inflating: data/images/img-0000768.jpg  \n",
      "  inflating: data/images/img-0000769.jpg  \n",
      "  inflating: data/images/img-0000770.jpg  \n",
      "  inflating: data/images/img-0000771.jpg  \n",
      "  inflating: data/images/img-0000772.jpg  \n",
      "  inflating: data/images/img-0000773.jpg  \n",
      "  inflating: data/images/img-0000774.jpg  \n",
      "  inflating: data/images/img-0000775.jpg  \n",
      "  inflating: data/images/img-0000776.jpg  \n",
      "  inflating: data/images/img-0000777.jpg  \n",
      "  inflating: data/images/img-0000778.jpg  \n",
      "  inflating: data/images/img-0000779.jpg  \n",
      "  inflating: data/images/img-0000780.jpg  \n",
      "  inflating: data/images/img-0000781.jpg  \n",
      "  inflating: data/images/img-0000782.jpg  \n",
      "  inflating: data/images/img-0000783.jpg  \n",
      "  inflating: data/images/img-0000784.jpg  \n",
      "  inflating: data/images/img-0000785.jpg  \n",
      "  inflating: data/images/img-0000786.jpg  \n",
      "  inflating: data/images/img-0000787.jpg  \n",
      "  inflating: data/images/img-0000788.jpg  \n",
      "  inflating: data/images/img-0000789.jpg  \n",
      "  inflating: data/images/img-0000790.jpg  \n",
      "  inflating: data/images/img-0000791.jpg  \n",
      "  inflating: data/images/img-0000792.jpg  \n",
      "  inflating: data/images/img-0000793.jpg  \n",
      "  inflating: data/images/img-0000794.jpg  \n",
      "  inflating: data/images/img-0000795.jpg  \n",
      "  inflating: data/images/img-0000796.jpg  \n",
      "  inflating: data/images/img-0000797.jpg  \n",
      "  inflating: data/images/img-0000798.jpg  \n",
      "  inflating: data/images/img-0000799.jpg  \n",
      "  inflating: data/images/img-0000800.jpg  \n",
      "  inflating: data/images/img-0000801.jpg  \n",
      "  inflating: data/images/img-0000802.jpg  \n",
      "  inflating: data/images/img-0000803.jpg  \n",
      "  inflating: data/images/img-0000804.jpg  \n",
      "  inflating: data/images/img-0000805.jpg  \n",
      "  inflating: data/images/img-0000806.jpg  \n",
      "  inflating: data/images/img-0000807.jpg  \n",
      "  inflating: data/images/img-0000808.jpg  \n",
      "  inflating: data/images/img-0000809.jpg  \n",
      "  inflating: data/images/img-0000810.jpg  \n",
      "  inflating: data/images/img-0000811.jpg  \n",
      "  inflating: data/images/img-0000812.jpg  \n",
      "  inflating: data/images/img-0000813.jpg  \n",
      "  inflating: data/images/img-0000814.jpg  \n",
      "  inflating: data/images/img-0000815.jpg  \n",
      "  inflating: data/images/img-0000816.jpg  \n",
      "  inflating: data/images/img-0000817.jpg  \n",
      "  inflating: data/images/img-0000818.jpg  \n",
      "  inflating: data/images/img-0000819.jpg  \n",
      "  inflating: data/images/img-0000820.jpg  \n",
      "  inflating: data/images/img-0000821.jpg  \n",
      "  inflating: data/images/img-0000822.jpg  \n",
      "  inflating: data/images/img-0000823.jpg  \n",
      "  inflating: data/images/img-0000824.jpg  \n",
      "  inflating: data/images/roi-0000001.jpg  \n",
      "  inflating: data/images/roi-0000002.jpg  \n",
      "  inflating: data/images/roi-0000003.jpg  \n",
      "  inflating: data/images/roi-0000004.jpg  \n",
      "  inflating: data/images/roi-0000005.jpg  \n",
      "  inflating: data/images/roi-0000006.jpg  \n",
      "  inflating: data/images/roi-0000007.jpg  \n",
      "  inflating: data/images/roi-0000008.jpg  \n",
      "  inflating: data/images/roi-0000009.jpg  \n",
      "  inflating: data/images/roi-0000010.jpg  \n",
      "  inflating: data/images/roi-0000011.jpg  \n",
      "  inflating: data/images/roi-0000012.jpg  \n",
      "  inflating: data/images/roi-0000013.jpg  \n",
      "  inflating: data/images/roi-0000014.jpg  \n",
      "  inflating: data/images/roi-0000015.jpg  \n",
      "  inflating: data/images/roi-0000016.jpg  \n",
      "  inflating: data/images/roi-0000017.jpg  \n",
      "  inflating: data/images/roi-0000018.jpg  \n",
      "  inflating: data/images/roi-0000019.jpg  \n",
      "  inflating: data/images/roi-0000020.jpg  \n",
      "  inflating: data/images/roi-0000021.jpg  \n",
      "  inflating: data/images/roi-0000022.jpg  \n",
      "  inflating: data/images/roi-0000023.jpg  \n",
      "  inflating: data/images/roi-0000024.jpg  \n",
      "  inflating: data/images/roi-0000025.jpg  \n",
      "  inflating: data/images/roi-0000026.jpg  \n",
      "  inflating: data/images/roi-0000027.jpg  \n",
      "  inflating: data/images/roi-0000028.jpg  \n",
      "  inflating: data/images/roi-0000029.jpg  \n",
      "  inflating: data/images/roi-0000030.jpg  \n",
      "  inflating: data/images/roi-0000031.jpg  \n",
      "  inflating: data/images/roi-0000032.jpg  \n",
      "  inflating: data/images/roi-0000033.jpg  \n",
      "  inflating: data/images/roi-0000034.jpg  \n",
      "  inflating: data/images/roi-0000035.jpg  \n",
      "  inflating: data/images/roi-0000036.jpg  \n",
      "  inflating: data/images/roi-0000037.jpg  \n",
      "  inflating: data/images/roi-0000038.jpg  \n",
      "  inflating: data/images/roi-0000039.jpg  \n",
      "  inflating: data/images/roi-0000040.jpg  \n",
      "  inflating: data/images/roi-0000041.jpg  \n",
      "  inflating: data/images/roi-0000042.jpg  \n",
      "  inflating: data/images/roi-0000043.jpg  \n",
      "  inflating: data/images/roi-0000044.jpg  \n",
      "  inflating: data/images/roi-0000045.jpg  \n",
      "  inflating: data/images/roi-0000046.jpg  \n",
      "  inflating: data/images/roi-0000047.jpg  \n",
      "  inflating: data/images/roi-0000048.jpg  \n",
      "  inflating: data/images/roi-0000049.jpg  \n",
      "  inflating: data/images/roi-0000050.jpg  \n",
      "  inflating: data/images/roi-0000051.jpg  \n",
      "  inflating: data/images/roi-0000052.jpg  \n",
      "  inflating: data/images/roi-0000053.jpg  \n",
      "  inflating: data/images/roi-0000054.jpg  \n",
      "  inflating: data/images/roi-0000055.jpg  \n",
      "  inflating: data/images/roi-0000056.jpg  \n",
      "  inflating: data/images/roi-0000057.jpg  \n",
      "  inflating: data/images/roi-0000058.jpg  \n",
      "  inflating: data/images/roi-0000059.jpg  \n",
      "  inflating: data/images/roi-0000060.jpg  \n",
      "  inflating: data/images/roi-0000061.jpg  \n",
      "  inflating: data/images/roi-0000062.jpg  \n",
      "  inflating: data/images/roi-0000063.jpg  \n",
      "  inflating: data/images/roi-0000064.jpg  \n",
      "  inflating: data/images/roi-0000065.jpg  \n",
      "  inflating: data/images/roi-0000066.jpg  \n",
      "  inflating: data/images/roi-0000067.jpg  \n",
      "  inflating: data/images/roi-0000068.jpg  \n",
      "  inflating: data/images/roi-0000069.jpg  \n",
      "  inflating: data/images/roi-0000070.jpg  \n",
      "  inflating: data/images/roi-0000071.jpg  \n",
      "  inflating: data/images/roi-0000072.jpg  \n",
      "  inflating: data/images/roi-0000073.jpg  \n",
      "  inflating: data/images/roi-0000074.jpg  \n",
      "  inflating: data/images/roi-0000075.jpg  \n",
      "  inflating: data/images/roi-0000076.jpg  \n",
      "  inflating: data/images/roi-0000077.jpg  \n",
      "  inflating: data/images/roi-0000078.jpg  \n",
      "  inflating: data/images/roi-0000079.jpg  \n",
      "  inflating: data/images/roi-0000080.jpg  \n",
      "  inflating: data/images/roi-0000081.jpg  \n",
      "  inflating: data/images/roi-0000082.jpg  \n",
      "  inflating: data/images/roi-0000083.jpg  \n",
      "  inflating: data/images/roi-0000084.jpg  \n",
      "  inflating: data/images/roi-0000085.jpg  \n",
      "  inflating: data/images/roi-0000086.jpg  \n",
      "  inflating: data/images/roi-0000087.jpg  \n",
      "  inflating: data/images/roi-0000088.jpg  \n",
      "  inflating: data/images/roi-0000089.jpg  \n",
      "  inflating: data/images/roi-0000090.jpg  \n",
      "  inflating: data/images/roi-0000091.jpg  \n",
      "  inflating: data/images/roi-0000092.jpg  \n",
      "  inflating: data/images/roi-0000093.jpg  \n",
      "  inflating: data/images/roi-0000094.jpg  \n",
      "  inflating: data/images/roi-0000095.jpg  \n",
      "  inflating: data/images/roi-0000096.jpg  \n",
      "  inflating: data/images/roi-0000097.jpg  \n",
      "  inflating: data/images/roi-0000098.jpg  \n",
      "  inflating: data/images/roi-0000099.jpg  \n",
      "  inflating: data/images/roi-0000100.jpg  \n",
      "  inflating: data/images/roi-0000101.jpg  \n",
      "  inflating: data/images/roi-0000102.jpg  \n",
      "  inflating: data/images/roi-0000103.jpg  \n",
      "  inflating: data/images/roi-0000104.jpg  \n",
      "  inflating: data/images/roi-0000105.jpg  \n",
      "  inflating: data/images/roi-0000106.jpg  \n",
      "  inflating: data/images/roi-0000107.jpg  \n",
      "  inflating: data/images/roi-0000108.jpg  \n",
      "  inflating: data/images/roi-0000109.jpg  \n",
      "  inflating: data/images/roi-0000110.jpg  \n",
      "  inflating: data/images/roi-0000111.jpg  \n",
      "  inflating: data/images/roi-0000112.jpg  \n",
      "  inflating: data/images/roi-0000113.jpg  \n",
      "  inflating: data/images/roi-0000114.jpg  \n",
      "  inflating: data/images/roi-0000115.jpg  \n",
      "  inflating: data/images/roi-0000116.jpg  \n",
      "  inflating: data/images/roi-0000117.jpg  \n",
      "  inflating: data/images/roi-0000118.jpg  \n",
      "  inflating: data/images/roi-0000119.jpg  \n",
      "  inflating: data/images/roi-0000120.jpg  \n",
      "  inflating: data/images/roi-0000121.jpg  \n",
      "  inflating: data/images/roi-0000122.jpg  \n",
      "  inflating: data/images/roi-0000123.jpg  \n",
      "  inflating: data/images/roi-0000124.jpg  \n",
      "  inflating: data/images/roi-0000125.jpg  \n",
      "  inflating: data/images/roi-0000126.jpg  \n",
      "  inflating: data/images/roi-0000127.jpg  \n",
      "  inflating: data/images/roi-0000128.jpg  \n",
      "  inflating: data/images/roi-0000129.jpg  \n",
      "  inflating: data/images/roi-0000130.jpg  \n",
      "  inflating: data/images/roi-0000131.jpg  \n",
      "  inflating: data/images/roi-0000132.jpg  \n",
      "  inflating: data/images/roi-0000133.jpg  \n",
      "  inflating: data/images/roi-0000134.jpg  \n",
      "  inflating: data/images/roi-0000135.jpg  \n",
      "  inflating: data/images/roi-0000136.jpg  \n",
      "  inflating: data/images/roi-0000137.jpg  \n",
      "  inflating: data/images/roi-0000138.jpg  \n",
      "  inflating: data/images/roi-0000139.jpg  \n",
      "  inflating: data/images/roi-0000140.jpg  \n",
      "  inflating: data/images/roi-0000141.jpg  \n",
      "  inflating: data/images/roi-0000142.jpg  \n",
      "  inflating: data/images/roi-0000143.jpg  \n",
      "  inflating: data/images/roi-0000144.jpg  \n",
      "  inflating: data/images/roi-0000145.jpg  \n",
      "  inflating: data/images/roi-0000146.jpg  \n",
      "  inflating: data/images/roi-0000147.jpg  \n",
      "  inflating: data/images/roi-0000148.jpg  \n",
      "  inflating: data/images/roi-0000149.jpg  \n",
      "  inflating: data/images/roi-0000150.jpg  \n",
      "  inflating: data/images/roi-0000151.jpg  \n",
      "  inflating: data/images/roi-0000152.jpg  \n",
      "  inflating: data/images/roi-0000153.jpg  \n",
      "  inflating: data/images/roi-0000154.jpg  \n",
      "  inflating: data/images/roi-0000155.jpg  \n",
      "  inflating: data/images/roi-0000156.jpg  \n",
      "  inflating: data/images/roi-0000157.jpg  \n",
      "  inflating: data/images/roi-0000158.jpg  \n",
      "  inflating: data/images/roi-0000159.jpg  \n",
      "  inflating: data/images/roi-0000160.jpg  \n",
      "  inflating: data/images/roi-0000161.jpg  \n",
      "  inflating: data/images/roi-0000162.jpg  \n",
      "  inflating: data/images/roi-0000163.jpg  \n",
      "  inflating: data/images/roi-0000164.jpg  \n",
      "  inflating: data/images/roi-0000165.jpg  \n",
      "  inflating: data/images/roi-0000166.jpg  \n",
      "  inflating: data/images/roi-0000167.jpg  \n",
      "  inflating: data/images/roi-0000168.jpg  \n",
      "  inflating: data/images/roi-0000169.jpg  \n",
      "  inflating: data/images/roi-0000170.jpg  \n",
      "  inflating: data/images/roi-0000171.jpg  \n",
      "  inflating: data/images/roi-0000172.jpg  \n",
      "  inflating: data/images/roi-0000173.jpg  \n",
      "  inflating: data/images/roi-0000174.jpg  \n",
      "  inflating: data/images/roi-0000175.jpg  \n",
      "  inflating: data/images/roi-0000176.jpg  \n",
      "  inflating: data/images/roi-0000177.jpg  \n",
      "  inflating: data/images/roi-0000178.jpg  \n",
      "  inflating: data/images/roi-0000179.jpg  \n",
      "  inflating: data/images/roi-0000180.jpg  \n",
      "  inflating: data/images/roi-0000181.jpg  \n",
      "  inflating: data/images/roi-0000182.jpg  \n",
      "  inflating: data/images/roi-0000183.jpg  \n",
      "  inflating: data/images/roi-0000184.jpg  \n",
      "  inflating: data/images/roi-0000185.jpg  \n",
      "  inflating: data/images/roi-0000186.jpg  \n",
      "  inflating: data/images/roi-0000187.jpg  \n",
      "  inflating: data/images/roi-0000188.jpg  \n",
      "  inflating: data/images/roi-0000189.jpg  \n",
      "  inflating: data/images/roi-0000190.jpg  \n",
      "  inflating: data/images/roi-0000191.jpg  \n",
      "  inflating: data/images/roi-0000192.jpg  \n",
      "  inflating: data/images/roi-0000193.jpg  \n",
      "  inflating: data/images/roi-0000194.jpg  \n",
      "  inflating: data/images/roi-0000195.jpg  \n",
      "  inflating: data/images/roi-0000196.jpg  \n",
      "  inflating: data/images/roi-0000197.jpg  \n",
      "  inflating: data/images/roi-0000198.jpg  \n",
      "  inflating: data/images/roi-0000199.jpg  \n",
      "  inflating: data/images/roi-0000200.jpg  \n",
      "  inflating: data/images/roi-0000201.jpg  \n",
      "  inflating: data/images/roi-0000202.jpg  \n",
      "  inflating: data/images/roi-0000203.jpg  \n",
      "  inflating: data/images/roi-0000204.jpg  \n",
      "  inflating: data/images/roi-0000205.jpg  \n",
      "  inflating: data/images/roi-0000206.jpg  \n",
      "  inflating: data/images/roi-0000207.jpg  \n",
      "  inflating: data/images/roi-0000208.jpg  \n",
      "  inflating: data/images/roi-0000209.jpg  \n",
      "  inflating: data/images/roi-0000210.jpg  \n",
      "  inflating: data/images/roi-0000211.jpg  \n",
      "  inflating: data/images/roi-0000212.jpg  \n",
      "  inflating: data/images/roi-0000213.jpg  \n",
      "  inflating: data/images/roi-0000214.jpg  \n",
      "  inflating: data/images/roi-0000215.jpg  \n",
      "  inflating: data/images/roi-0000216.jpg  \n",
      "  inflating: data/images/roi-0000217.jpg  \n",
      "  inflating: data/images/roi-0000218.jpg  \n",
      "  inflating: data/images/roi-0000219.jpg  \n",
      "  inflating: data/images/roi-0000220.jpg  \n",
      "  inflating: data/images/roi-0000221.jpg  \n",
      "  inflating: data/images/roi-0000222.jpg  \n",
      "  inflating: data/images/roi-0000223.jpg  \n",
      "  inflating: data/images/roi-0000224.jpg  \n",
      "  inflating: data/images/roi-0000225.jpg  \n",
      "  inflating: data/images/roi-0000226.jpg  \n",
      "  inflating: data/images/roi-0000227.jpg  \n",
      "  inflating: data/images/roi-0000228.jpg  \n",
      "  inflating: data/images/roi-0000229.jpg  \n",
      "  inflating: data/images/roi-0000230.jpg  \n",
      "  inflating: data/images/roi-0000231.jpg  \n",
      "  inflating: data/images/roi-0000232.jpg  \n",
      "  inflating: data/images/roi-0000233.jpg  \n",
      "  inflating: data/images/roi-0000234.jpg  \n",
      "  inflating: data/images/roi-0000235.jpg  \n",
      "  inflating: data/images/roi-0000236.jpg  \n",
      "  inflating: data/images/roi-0000237.jpg  \n",
      "  inflating: data/images/roi-0000238.jpg  \n",
      "  inflating: data/images/roi-0000239.jpg  \n",
      "  inflating: data/images/roi-0000240.jpg  \n",
      "  inflating: data/images/roi-0000241.jpg  \n",
      "  inflating: data/images/roi-0000242.jpg  \n",
      "  inflating: data/images/roi-0000243.jpg  \n",
      "  inflating: data/images/roi-0000244.jpg  \n",
      "  inflating: data/images/roi-0000245.jpg  \n",
      "  inflating: data/images/roi-0000246.jpg  \n",
      "  inflating: data/images/roi-0000247.jpg  \n",
      "  inflating: data/images/roi-0000248.jpg  \n",
      "  inflating: data/images/roi-0000249.jpg  \n",
      "  inflating: data/images/roi-0000250.jpg  \n",
      "  inflating: data/images/roi-0000251.jpg  \n",
      "  inflating: data/images/roi-0000252.jpg  \n",
      "  inflating: data/images/roi-0000253.jpg  \n",
      "  inflating: data/images/roi-0000254.jpg  \n",
      "  inflating: data/images/roi-0000255.jpg  \n",
      "  inflating: data/images/roi-0000256.jpg  \n",
      "  inflating: data/images/roi-0000257.jpg  \n",
      "  inflating: data/images/roi-0000258.jpg  \n",
      "  inflating: data/images/roi-0000259.jpg  \n",
      "  inflating: data/images/roi-0000260.jpg  \n",
      "  inflating: data/images/roi-0000261.jpg  \n",
      "  inflating: data/images/roi-0000262.jpg  \n",
      "  inflating: data/images/roi-0000263.jpg  \n",
      "  inflating: data/images/roi-0000264.jpg  \n",
      "  inflating: data/images/roi-0000265.jpg  \n",
      "  inflating: data/images/roi-0000266.jpg  \n",
      "  inflating: data/images/roi-0000267.jpg  \n",
      "  inflating: data/images/roi-0000268.jpg  \n",
      "  inflating: data/images/roi-0000269.jpg  \n",
      "  inflating: data/images/roi-0000270.jpg  \n",
      "  inflating: data/images/roi-0000271.jpg  \n",
      "  inflating: data/images/roi-0000272.jpg  \n",
      "  inflating: data/images/roi-0000273.jpg  \n",
      "  inflating: data/images/roi-0000274.jpg  \n",
      "  inflating: data/images/roi-0000275.jpg  \n",
      "  inflating: data/images/roi-0000276.jpg  \n",
      "  inflating: data/images/roi-0000277.jpg  \n",
      "  inflating: data/images/roi-0000278.jpg  \n",
      "  inflating: data/images/roi-0000279.jpg  \n",
      "  inflating: data/images/roi-0000280.jpg  \n",
      "  inflating: data/images/roi-0000281.jpg  \n",
      "  inflating: data/images/roi-0000282.jpg  \n",
      "  inflating: data/images/roi-0000283.jpg  \n",
      "  inflating: data/images/roi-0000284.jpg  \n",
      "  inflating: data/images/roi-0000285.jpg  \n",
      "  inflating: data/images/roi-0000286.jpg  \n",
      "  inflating: data/images/roi-0000287.jpg  \n",
      "  inflating: data/images/roi-0000288.jpg  \n",
      "  inflating: data/images/roi-0000289.jpg  \n",
      "  inflating: data/images/roi-0000290.jpg  \n",
      "  inflating: data/images/roi-0000291.jpg  \n",
      "  inflating: data/images/roi-0000292.jpg  \n",
      "  inflating: data/images/roi-0000293.jpg  \n",
      "  inflating: data/images/roi-0000294.jpg  \n",
      "  inflating: data/images/roi-0000295.jpg  \n",
      "  inflating: data/images/roi-0000296.jpg  \n",
      "  inflating: data/images/roi-0000297.jpg  \n",
      "  inflating: data/images/roi-0000298.jpg  \n",
      "  inflating: data/images/roi-0000299.jpg  \n",
      "  inflating: data/images/roi-0000300.jpg  \n",
      "  inflating: data/images/roi-0000301.jpg  \n",
      "  inflating: data/images/roi-0000302.jpg  \n",
      "  inflating: data/images/roi-0000303.jpg  \n",
      "  inflating: data/images/roi-0000304.jpg  \n",
      "  inflating: data/images/roi-0000305.jpg  \n",
      "  inflating: data/images/roi-0000306.jpg  \n",
      "  inflating: data/images/roi-0000307.jpg  \n",
      "  inflating: data/images/roi-0000308.jpg  \n",
      "  inflating: data/images/roi-0000309.jpg  \n",
      "  inflating: data/images/roi-0000310.jpg  \n",
      "  inflating: data/images/roi-0000311.jpg  \n",
      "  inflating: data/images/roi-0000312.jpg  \n",
      "  inflating: data/images/roi-0000313.jpg  \n",
      "  inflating: data/images/roi-0000314.jpg  \n",
      "  inflating: data/images/roi-0000315.jpg  \n",
      "  inflating: data/images/roi-0000316.jpg  \n",
      "  inflating: data/images/roi-0000317.jpg  \n",
      "  inflating: data/images/roi-0000318.jpg  \n",
      "  inflating: data/images/roi-0000319.jpg  \n",
      "  inflating: data/images/roi-0000320.jpg  \n",
      "  inflating: data/images/roi-0000321.jpg  \n",
      "  inflating: data/images/roi-0000322.jpg  \n",
      "  inflating: data/images/roi-0000323.jpg  \n",
      "  inflating: data/images/roi-0000324.jpg  \n",
      "  inflating: data/images/roi-0000325.jpg  \n",
      "  inflating: data/images/roi-0000326.jpg  \n",
      "  inflating: data/images/roi-0000327.jpg  \n",
      "  inflating: data/images/roi-0000328.jpg  \n",
      "  inflating: data/images/roi-0000329.jpg  \n",
      "  inflating: data/images/roi-0000330.jpg  \n",
      "  inflating: data/images/roi-0000331.jpg  \n",
      "  inflating: data/images/roi-0000332.jpg  \n",
      "  inflating: data/images/roi-0000333.jpg  \n",
      "  inflating: data/images/roi-0000334.jpg  \n",
      "  inflating: data/images/roi-0000335.jpg  \n",
      "  inflating: data/images/roi-0000336.jpg  \n",
      "  inflating: data/images/roi-0000337.jpg  \n",
      "  inflating: data/images/roi-0000338.jpg  \n",
      "  inflating: data/images/roi-0000339.jpg  \n",
      "  inflating: data/images/roi-0000340.jpg  \n",
      "  inflating: data/images/roi-0000341.jpg  \n",
      "  inflating: data/images/roi-0000342.jpg  \n",
      "  inflating: data/images/roi-0000343.jpg  \n",
      "  inflating: data/images/roi-0000344.jpg  \n",
      "  inflating: data/images/roi-0000345.jpg  \n",
      "  inflating: data/images/roi-0000346.jpg  \n",
      "  inflating: data/images/roi-0000347.jpg  \n",
      "  inflating: data/images/roi-0000348.jpg  \n",
      "  inflating: data/images/roi-0000349.jpg  \n",
      "  inflating: data/images/roi-0000350.jpg  \n",
      "  inflating: data/images/roi-0000351.jpg  \n",
      "  inflating: data/images/roi-0000352.jpg  \n",
      "  inflating: data/images/roi-0000353.jpg  \n",
      "  inflating: data/images/roi-0000354.jpg  \n",
      "  inflating: data/images/roi-0000355.jpg  \n",
      "  inflating: data/images/roi-0000356.jpg  \n",
      "  inflating: data/images/roi-0000357.jpg  \n",
      "  inflating: data/images/roi-0000358.jpg  \n",
      "  inflating: data/images/roi-0000359.jpg  \n",
      "  inflating: data/images/roi-0000360.jpg  \n",
      "  inflating: data/images/roi-0000361.jpg  \n",
      "  inflating: data/images/roi-0000362.jpg  \n",
      "  inflating: data/images/roi-0000363.jpg  \n",
      "  inflating: data/images/roi-0000364.jpg  \n",
      "  inflating: data/images/roi-0000365.jpg  \n",
      "  inflating: data/images/roi-0000366.jpg  \n",
      "  inflating: data/images/roi-0000367.jpg  \n",
      "  inflating: data/images/roi-0000368.jpg  \n",
      "  inflating: data/images/roi-0000369.jpg  \n",
      "  inflating: data/images/roi-0000370.jpg  \n",
      "  inflating: data/images/roi-0000371.jpg  \n",
      "  inflating: data/images/roi-0000372.jpg  \n",
      "  inflating: data/images/roi-0000373.jpg  \n",
      "  inflating: data/images/roi-0000374.jpg  \n",
      "  inflating: data/images/roi-0000375.jpg  \n",
      "  inflating: data/images/roi-0000376.jpg  \n",
      "  inflating: data/images/roi-0000377.jpg  \n",
      "  inflating: data/images/roi-0000378.jpg  \n",
      "  inflating: data/images/roi-0000379.jpg  \n",
      "  inflating: data/images/roi-0000380.jpg  \n",
      "  inflating: data/images/roi-0000381.jpg  \n",
      "  inflating: data/images/roi-0000382.jpg  \n",
      "  inflating: data/images/roi-0000383.jpg  \n",
      "  inflating: data/images/roi-0000384.jpg  \n",
      "  inflating: data/images/roi-0000385.jpg  \n",
      "  inflating: data/images/roi-0000386.jpg  \n",
      "  inflating: data/images/roi-0000387.jpg  \n",
      "  inflating: data/images/roi-0000388.jpg  \n",
      "  inflating: data/images/roi-0000389.jpg  \n",
      "  inflating: data/images/roi-0000390.jpg  \n",
      "  inflating: data/images/roi-0000391.jpg  \n",
      "  inflating: data/images/roi-0000392.jpg  \n",
      "  inflating: data/images/roi-0000393.jpg  \n",
      "  inflating: data/images/roi-0000394.jpg  \n",
      "  inflating: data/images/roi-0000395.jpg  \n",
      "  inflating: data/images/roi-0000396.jpg  \n",
      "  inflating: data/images/roi-0000397.jpg  \n",
      "  inflating: data/images/roi-0000398.jpg  \n",
      "  inflating: data/images/roi-0000399.jpg  \n",
      "  inflating: data/images/roi-0000400.jpg  \n",
      "  inflating: data/images/roi-0000401.jpg  \n",
      "  inflating: data/images/roi-0000402.jpg  \n",
      "  inflating: data/images/roi-0000403.jpg  \n",
      "  inflating: data/images/roi-0000404.jpg  \n",
      "  inflating: data/images/roi-0000405.jpg  \n",
      "  inflating: data/images/roi-0000406.jpg  \n",
      "  inflating: data/images/roi-0000407.jpg  \n",
      "  inflating: data/images/roi-0000408.jpg  \n",
      "  inflating: data/images/roi-0000409.jpg  \n",
      "  inflating: data/images/roi-0000410.jpg  \n",
      "  inflating: data/images/roi-0000411.jpg  \n",
      "  inflating: data/images/roi-0000412.jpg  \n",
      "  inflating: data/images/roi-0000413.jpg  \n",
      "  inflating: data/images/roi-0000414.jpg  \n",
      "  inflating: data/images/roi-0000415.jpg  \n",
      "  inflating: data/images/roi-0000416.jpg  \n",
      "  inflating: data/images/roi-0000417.jpg  \n",
      "  inflating: data/images/roi-0000418.jpg  \n",
      "  inflating: data/images/roi-0000419.jpg  \n",
      "  inflating: data/images/roi-0000420.jpg  \n",
      "  inflating: data/images/roi-0000421.jpg  \n",
      "  inflating: data/images/roi-0000422.jpg  \n",
      "  inflating: data/images/roi-0000423.jpg  \n",
      "  inflating: data/images/roi-0000424.jpg  \n",
      "  inflating: data/images/roi-0000425.jpg  \n",
      "  inflating: data/images/roi-0000426.jpg  \n",
      "  inflating: data/images/roi-0000427.jpg  \n",
      "  inflating: data/images/roi-0000428.jpg  \n",
      "  inflating: data/images/roi-0000429.jpg  \n",
      "  inflating: data/images/roi-0000430.jpg  \n",
      "  inflating: data/images/roi-0000431.jpg  \n",
      "  inflating: data/images/roi-0000432.jpg  \n",
      "  inflating: data/images/roi-0000433.jpg  \n",
      "  inflating: data/images/roi-0000434.jpg  \n",
      "  inflating: data/images/roi-0000435.jpg  \n",
      "  inflating: data/images/roi-0000436.jpg  \n",
      "  inflating: data/images/roi-0000437.jpg  \n",
      "  inflating: data/images/roi-0000438.jpg  \n",
      "  inflating: data/images/roi-0000439.jpg  \n",
      "  inflating: data/images/roi-0000440.jpg  \n",
      "  inflating: data/images/roi-0000441.jpg  \n",
      "  inflating: data/images/roi-0000442.jpg  \n",
      "  inflating: data/images/roi-0000443.jpg  \n",
      "  inflating: data/images/roi-0000444.jpg  \n",
      "  inflating: data/images/roi-0000445.jpg  \n",
      "  inflating: data/images/roi-0000446.jpg  \n",
      "  inflating: data/images/roi-0000447.jpg  \n",
      "  inflating: data/images/roi-0000448.jpg  \n",
      "  inflating: data/images/roi-0000449.jpg  \n",
      "  inflating: data/images/roi-0000450.jpg  \n",
      "  inflating: data/images/roi-0000451.jpg  \n",
      "  inflating: data/images/roi-0000452.jpg  \n",
      "  inflating: data/images/roi-0000453.jpg  \n",
      "  inflating: data/images/roi-0000454.jpg  \n",
      "  inflating: data/images/roi-0000455.jpg  \n",
      "  inflating: data/images/roi-0000456.jpg  \n",
      "  inflating: data/images/roi-0000457.jpg  \n",
      "  inflating: data/images/roi-0000458.jpg  \n",
      "  inflating: data/images/roi-0000459.jpg  \n",
      "  inflating: data/images/roi-0000460.jpg  \n",
      "  inflating: data/images/roi-0000461.jpg  \n",
      "  inflating: data/images/roi-0000462.jpg  \n",
      "  inflating: data/images/roi-0000463.jpg  \n",
      "  inflating: data/images/roi-0000464.jpg  \n",
      "  inflating: data/images/roi-0000465.jpg  \n",
      "  inflating: data/images/roi-0000466.jpg  \n",
      "  inflating: data/images/roi-0000467.jpg  \n",
      "  inflating: data/images/roi-0000468.jpg  \n",
      "  inflating: data/images/roi-0000469.jpg  \n",
      "  inflating: data/images/roi-0000470.jpg  \n",
      "  inflating: data/images/roi-0000471.jpg  \n",
      "  inflating: data/images/roi-0000472.jpg  \n",
      "  inflating: data/images/roi-0000473.jpg  \n",
      "  inflating: data/images/roi-0000474.jpg  \n",
      "  inflating: data/images/roi-0000475.jpg  \n",
      "  inflating: data/images/roi-0000476.jpg  \n",
      "  inflating: data/images/roi-0000477.jpg  \n",
      "  inflating: data/images/roi-0000478.jpg  \n",
      "  inflating: data/images/roi-0000479.jpg  \n",
      "  inflating: data/images/roi-0000480.jpg  \n",
      "  inflating: data/images/roi-0000481.jpg  \n",
      "  inflating: data/images/roi-0000482.jpg  \n",
      "  inflating: data/images/roi-0000483.jpg  \n",
      "  inflating: data/images/roi-0000484.jpg  \n",
      "  inflating: data/images/roi-0000485.jpg  \n",
      "  inflating: data/images/roi-0000486.jpg  \n",
      "  inflating: data/images/roi-0000487.jpg  \n",
      "  inflating: data/images/roi-0000488.jpg  \n",
      "  inflating: data/images/roi-0000489.jpg  \n",
      "  inflating: data/images/roi-0000490.jpg  \n",
      "  inflating: data/images/roi-0000491.jpg  \n",
      "  inflating: data/images/roi-0000492.jpg  \n",
      "  inflating: data/images/roi-0000493.jpg  \n",
      "  inflating: data/images/roi-0000494.jpg  \n",
      "  inflating: data/images/roi-0000495.jpg  \n",
      "  inflating: data/images/roi-0000496.jpg  \n",
      "  inflating: data/images/roi-0000497.jpg  \n",
      "  inflating: data/images/roi-0000498.jpg  \n",
      "  inflating: data/images/roi-0000499.jpg  \n",
      "  inflating: data/images/roi-0000500.jpg  \n",
      "  inflating: data/images/roi-0000501.jpg  \n",
      "  inflating: data/images/roi-0000502.jpg  \n",
      "  inflating: data/images/roi-0000503.jpg  \n",
      "  inflating: data/images/roi-0000504.jpg  \n",
      "  inflating: data/images/roi-0000505.jpg  \n",
      "  inflating: data/images/roi-0000506.jpg  \n",
      "  inflating: data/images/roi-0000507.jpg  \n",
      "  inflating: data/images/roi-0000508.jpg  \n",
      "  inflating: data/images/roi-0000509.jpg  \n",
      "  inflating: data/images/roi-0000510.jpg  \n",
      "  inflating: data/images/roi-0000511.jpg  \n",
      "  inflating: data/images/roi-0000512.jpg  \n",
      "  inflating: data/images/roi-0000513.jpg  \n",
      "  inflating: data/images/roi-0000514.jpg  \n",
      "  inflating: data/images/roi-0000515.jpg  \n",
      "  inflating: data/images/roi-0000516.jpg  \n",
      "  inflating: data/images/roi-0000517.jpg  \n",
      "  inflating: data/images/roi-0000518.jpg  \n",
      "  inflating: data/images/roi-0000519.jpg  \n",
      "  inflating: data/images/roi-0000520.jpg  \n",
      "  inflating: data/images/roi-0000521.jpg  \n",
      "  inflating: data/images/roi-0000522.jpg  \n",
      "  inflating: data/images/roi-0000523.jpg  \n",
      "  inflating: data/images/roi-0000524.jpg  \n",
      "  inflating: data/images/roi-0000525.jpg  \n",
      "  inflating: data/images/roi-0000526.jpg  \n",
      "  inflating: data/images/roi-0000527.jpg  \n",
      "  inflating: data/images/roi-0000528.jpg  \n",
      "  inflating: data/images/roi-0000529.jpg  \n",
      "  inflating: data/images/roi-0000530.jpg  \n",
      "  inflating: data/images/roi-0000531.jpg  \n",
      "  inflating: data/images/roi-0000532.jpg  \n",
      "  inflating: data/images/roi-0000533.jpg  \n",
      "  inflating: data/images/roi-0000534.jpg  \n",
      "  inflating: data/images/roi-0000535.jpg  \n",
      "  inflating: data/images/roi-0000536.jpg  \n",
      "  inflating: data/images/roi-0000537.jpg  \n",
      "  inflating: data/images/roi-0000538.jpg  \n",
      "  inflating: data/images/roi-0000539.jpg  \n",
      "  inflating: data/images/roi-0000540.jpg  \n",
      "  inflating: data/images/roi-0000541.jpg  \n",
      "  inflating: data/images/roi-0000542.jpg  \n",
      "  inflating: data/images/roi-0000543.jpg  \n",
      "  inflating: data/images/roi-0000544.jpg  \n",
      "  inflating: data/images/roi-0000545.jpg  \n",
      "  inflating: data/images/roi-0000546.jpg  \n",
      "  inflating: data/images/roi-0000547.jpg  \n",
      "  inflating: data/images/roi-0000548.jpg  \n",
      "  inflating: data/images/roi-0000549.jpg  \n",
      "  inflating: data/images/roi-0000550.jpg  \n",
      "  inflating: data/images/roi-0000551.jpg  \n",
      "  inflating: data/images/roi-0000552.jpg  \n",
      "  inflating: data/images/roi-0000553.jpg  \n",
      "  inflating: data/images/roi-0000554.jpg  \n",
      "  inflating: data/images/roi-0000555.jpg  \n",
      "  inflating: data/images/roi-0000556.jpg  \n",
      "  inflating: data/images/roi-0000557.jpg  \n",
      "  inflating: data/images/roi-0000558.jpg  \n",
      "  inflating: data/images/roi-0000559.jpg  \n",
      "  inflating: data/images/roi-0000560.jpg  \n",
      "  inflating: data/images/roi-0000561.jpg  \n",
      "  inflating: data/images/roi-0000562.jpg  \n",
      "  inflating: data/images/roi-0000563.jpg  \n",
      "  inflating: data/images/roi-0000564.jpg  \n",
      "  inflating: data/images/roi-0000565.jpg  \n",
      "  inflating: data/images/roi-0000566.jpg  \n",
      "  inflating: data/images/roi-0000567.jpg  \n",
      "  inflating: data/images/roi-0000568.jpg  \n",
      "  inflating: data/images/roi-0000569.jpg  \n",
      "  inflating: data/images/roi-0000570.jpg  \n",
      "  inflating: data/images/roi-0000571.jpg  \n",
      "  inflating: data/images/roi-0000572.jpg  \n",
      "  inflating: data/images/roi-0000573.jpg  \n",
      "  inflating: data/images/roi-0000574.jpg  \n",
      "  inflating: data/images/roi-0000575.jpg  \n",
      "  inflating: data/images/roi-0000576.jpg  \n",
      "  inflating: data/images/roi-0000577.jpg  \n",
      "  inflating: data/images/roi-0000578.jpg  \n",
      "  inflating: data/images/roi-0000579.jpg  \n",
      "  inflating: data/images/roi-0000580.jpg  \n",
      "  inflating: data/images/roi-0000581.jpg  \n",
      "  inflating: data/images/roi-0000582.jpg  \n",
      "  inflating: data/images/roi-0000583.jpg  \n",
      "  inflating: data/images/roi-0000584.jpg  \n",
      "  inflating: data/images/roi-0000585.jpg  \n",
      "  inflating: data/images/roi-0000586.jpg  \n",
      "  inflating: data/images/roi-0000587.jpg  \n",
      "  inflating: data/images/roi-0000588.jpg  \n",
      "  inflating: data/images/roi-0000589.jpg  \n",
      "  inflating: data/images/roi-0000590.jpg  \n",
      "  inflating: data/images/roi-0000591.jpg  \n",
      "  inflating: data/images/roi-0000592.jpg  \n",
      "  inflating: data/images/roi-0000593.jpg  \n",
      "  inflating: data/images/roi-0000594.jpg  \n",
      "  inflating: data/images/roi-0000595.jpg  \n",
      "  inflating: data/images/roi-0000596.jpg  \n",
      "  inflating: data/images/roi-0000597.jpg  \n",
      "  inflating: data/images/roi-0000598.jpg  \n",
      "  inflating: data/images/roi-0000599.jpg  \n",
      "  inflating: data/images/roi-0000600.jpg  \n",
      "  inflating: data/images/roi-0000601.jpg  \n",
      "  inflating: data/images/roi-0000602.jpg  \n",
      "  inflating: data/images/roi-0000603.jpg  \n",
      "  inflating: data/images/roi-0000604.jpg  \n",
      "  inflating: data/images/roi-0000605.jpg  \n",
      "  inflating: data/images/roi-0000606.jpg  \n",
      "  inflating: data/images/roi-0000607.jpg  \n",
      "  inflating: data/images/roi-0000608.jpg  \n",
      "  inflating: data/images/roi-0000609.jpg  \n",
      "  inflating: data/images/roi-0000610.jpg  \n",
      "  inflating: data/images/roi-0000611.jpg  \n",
      "  inflating: data/images/roi-0000612.jpg  \n",
      "  inflating: data/images/roi-0000613.jpg  \n",
      "  inflating: data/images/roi-0000614.jpg  \n",
      "  inflating: data/images/roi-0000615.jpg  \n",
      "  inflating: data/images/roi-0000616.jpg  \n",
      "  inflating: data/images/roi-0000617.jpg  \n",
      "  inflating: data/images/roi-0000618.jpg  \n",
      "  inflating: data/images/roi-0000619.jpg  \n",
      "  inflating: data/images/roi-0000620.jpg  \n",
      "  inflating: data/images/roi-0000621.jpg  \n",
      "  inflating: data/images/roi-0000622.jpg  \n",
      "  inflating: data/images/roi-0000623.jpg  \n",
      "  inflating: data/images/roi-0000624.jpg  \n",
      "  inflating: data/images/roi-0000625.jpg  \n",
      "  inflating: data/images/roi-0000626.jpg  \n",
      "  inflating: data/images/roi-0000627.jpg  \n",
      "  inflating: data/images/roi-0000628.jpg  \n",
      "  inflating: data/images/roi-0000629.jpg  \n",
      "  inflating: data/images/roi-0000630.jpg  \n",
      "  inflating: data/images/roi-0000631.jpg  \n",
      "  inflating: data/images/roi-0000632.jpg  \n",
      "  inflating: data/images/roi-0000633.jpg  \n",
      "  inflating: data/images/roi-0000634.jpg  \n",
      "  inflating: data/images/roi-0000635.jpg  \n",
      "  inflating: data/images/roi-0000636.jpg  \n",
      "  inflating: data/images/roi-0000637.jpg  \n",
      "  inflating: data/images/roi-0000638.jpg  \n",
      "  inflating: data/images/roi-0000639.jpg  \n",
      "  inflating: data/images/roi-0000640.jpg  \n",
      "  inflating: data/images/roi-0000641.jpg  \n",
      "  inflating: data/images/roi-0000642.jpg  \n",
      "  inflating: data/images/roi-0000643.jpg  \n",
      "  inflating: data/images/roi-0000644.jpg  \n",
      "  inflating: data/images/roi-0000645.jpg  \n",
      "  inflating: data/images/roi-0000646.jpg  \n",
      "  inflating: data/images/roi-0000647.jpg  \n",
      "  inflating: data/images/roi-0000648.jpg  \n",
      "  inflating: data/images/roi-0000649.jpg  \n",
      "  inflating: data/images/roi-0000650.jpg  \n",
      "  inflating: data/images/roi-0000651.jpg  \n",
      "  inflating: data/images/roi-0000652.jpg  \n",
      "  inflating: data/images/roi-0000653.jpg  \n",
      "  inflating: data/images/roi-0000654.jpg  \n",
      "  inflating: data/images/roi-0000655.jpg  \n",
      "  inflating: data/images/roi-0000656.jpg  \n",
      "  inflating: data/images/roi-0000657.jpg  \n",
      "  inflating: data/images/roi-0000658.jpg  \n",
      "  inflating: data/images/roi-0000659.jpg  \n",
      "  inflating: data/images/roi-0000660.jpg  \n",
      "  inflating: data/images/roi-0000661.jpg  \n",
      "  inflating: data/images/roi-0000662.jpg  \n",
      "  inflating: data/images/roi-0000663.jpg  \n",
      "  inflating: data/images/roi-0000664.jpg  \n",
      "  inflating: data/images/roi-0000665.jpg  \n",
      "  inflating: data/images/roi-0000666.jpg  \n",
      "  inflating: data/images/roi-0000667.jpg  \n",
      "  inflating: data/images/roi-0000668.jpg  \n",
      "  inflating: data/images/roi-0000669.jpg  \n",
      "  inflating: data/images/roi-0000670.jpg  \n",
      "  inflating: data/images/roi-0000671.jpg  \n",
      "  inflating: data/images/roi-0000672.jpg  \n",
      "  inflating: data/images/roi-0000673.jpg  \n",
      "  inflating: data/images/roi-0000674.jpg  \n",
      "  inflating: data/images/roi-0000675.jpg  \n",
      "  inflating: data/images/roi-0000676.jpg  \n",
      "  inflating: data/images/roi-0000677.jpg  \n",
      "  inflating: data/images/roi-0000678.jpg  \n",
      "  inflating: data/images/roi-0000679.jpg  \n",
      "  inflating: data/images/roi-0000680.jpg  \n",
      "  inflating: data/images/roi-0000681.jpg  \n",
      "  inflating: data/images/roi-0000682.jpg  \n",
      "  inflating: data/images/roi-0000683.jpg  \n",
      "  inflating: data/images/roi-0000684.jpg  \n",
      "  inflating: data/images/roi-0000685.jpg  \n",
      "  inflating: data/images/roi-0000686.jpg  \n",
      "  inflating: data/images/roi-0000687.jpg  \n",
      "  inflating: data/images/roi-0000688.jpg  \n",
      "  inflating: data/images/roi-0000689.jpg  \n",
      "  inflating: data/images/roi-0000690.jpg  \n",
      "  inflating: data/images/roi-0000691.jpg  \n",
      "  inflating: data/images/roi-0000692.jpg  \n",
      "  inflating: data/images/roi-0000693.jpg  \n",
      "  inflating: data/images/roi-0000694.jpg  \n",
      "  inflating: data/images/roi-0000695.jpg  \n",
      "  inflating: data/images/roi-0000696.jpg  \n",
      "  inflating: data/images/roi-0000697.jpg  \n",
      "  inflating: data/images/roi-0000698.jpg  \n",
      "  inflating: data/images/roi-0000699.jpg  \n",
      "  inflating: data/images/roi-0000700.jpg  \n",
      "  inflating: data/images/roi-0000701.jpg  \n",
      "  inflating: data/images/roi-0000702.jpg  \n",
      "  inflating: data/images/roi-0000703.jpg  \n",
      "  inflating: data/images/roi-0000704.jpg  \n",
      "  inflating: data/images/roi-0000705.jpg  \n",
      "  inflating: data/images/roi-0000706.jpg  \n",
      "  inflating: data/images/roi-0000707.jpg  \n",
      "  inflating: data/images/roi-0000708.jpg  \n",
      "  inflating: data/images/roi-0000709.jpg  \n",
      "  inflating: data/images/roi-0000710.jpg  \n",
      "  inflating: data/images/roi-0000711.jpg  \n",
      "  inflating: data/images/roi-0000712.jpg  \n",
      "  inflating: data/images/roi-0000713.jpg  \n",
      "  inflating: data/images/roi-0000714.jpg  \n",
      "  inflating: data/images/roi-0000715.jpg  \n",
      "  inflating: data/images/roi-0000716.jpg  \n",
      "  inflating: data/images/roi-0000717.jpg  \n",
      "  inflating: data/images/roi-0000718.jpg  \n",
      "  inflating: data/images/roi-0000719.jpg  \n",
      "  inflating: data/images/roi-0000720.jpg  \n",
      "  inflating: data/images/roi-0000721.jpg  \n",
      "  inflating: data/images/roi-0000722.jpg  \n",
      "  inflating: data/images/roi-0000723.jpg  \n",
      "  inflating: data/images/roi-0000724.jpg  \n",
      "  inflating: data/images/roi-0000725.jpg  \n",
      "  inflating: data/images/roi-0000726.jpg  \n",
      "  inflating: data/images/roi-0000727.jpg  \n",
      "  inflating: data/images/roi-0000728.jpg  \n",
      "  inflating: data/images/roi-0000729.jpg  \n",
      "  inflating: data/images/roi-0000730.jpg  \n",
      "  inflating: data/images/roi-0000731.jpg  \n",
      "  inflating: data/images/roi-0000732.jpg  \n",
      "  inflating: data/images/roi-0000733.jpg  \n",
      "  inflating: data/images/roi-0000734.jpg  \n",
      "  inflating: data/images/roi-0000735.jpg  \n",
      "  inflating: data/images/roi-0000736.jpg  \n",
      "  inflating: data/images/roi-0000737.jpg  \n",
      "  inflating: data/images/roi-0000738.jpg  \n",
      "  inflating: data/images/roi-0000739.jpg  \n",
      "  inflating: data/images/roi-0000740.jpg  \n",
      "  inflating: data/images/roi-0000741.jpg  \n",
      "  inflating: data/images/roi-0000742.jpg  \n",
      "  inflating: data/images/roi-0000743.jpg  \n",
      "  inflating: data/images/roi-0000744.jpg  \n",
      "  inflating: data/images/roi-0000745.jpg  \n",
      "  inflating: data/images/roi-0000746.jpg  \n",
      "  inflating: data/images/roi-0000747.jpg  \n",
      "  inflating: data/images/roi-0000748.jpg  \n",
      "  inflating: data/images/roi-0000749.jpg  \n",
      "  inflating: data/images/roi-0000750.jpg  \n",
      "  inflating: data/images/roi-0000751.jpg  \n",
      "  inflating: data/images/roi-0000752.jpg  \n",
      "  inflating: data/images/roi-0000753.jpg  \n",
      "  inflating: data/images/roi-0000754.jpg  \n",
      "  inflating: data/images/roi-0000755.jpg  \n",
      "  inflating: data/images/roi-0000756.jpg  \n",
      "  inflating: data/images/roi-0000757.jpg  \n",
      "  inflating: data/images/roi-0000758.jpg  \n",
      "  inflating: data/images/roi-0000759.jpg  \n",
      "  inflating: data/images/roi-0000760.jpg  \n",
      "  inflating: data/images/roi-0000761.jpg  \n",
      "  inflating: data/images/roi-0000762.jpg  \n",
      "  inflating: data/images/roi-0000763.jpg  \n",
      "  inflating: data/images/roi-0000764.jpg  \n",
      "  inflating: data/images/roi-0000765.jpg  \n",
      "  inflating: data/images/roi-0000766.jpg  \n",
      "  inflating: data/images/roi-0000767.jpg  \n",
      "  inflating: data/images/roi-0000768.jpg  \n",
      "  inflating: data/images/roi-0000769.jpg  \n",
      "  inflating: data/images/roi-0000770.jpg  \n",
      "  inflating: data/images/roi-0000771.jpg  \n",
      "  inflating: data/images/roi-0000772.jpg  \n",
      "  inflating: data/images/roi-0000773.jpg  \n",
      "  inflating: data/images/roi-0000774.jpg  \n",
      "  inflating: data/images/roi-0000775.jpg  \n",
      "  inflating: data/images/roi-0000776.jpg  \n",
      "  inflating: data/images/roi-0000777.jpg  \n",
      "  inflating: data/images/roi-0000778.jpg  \n",
      "  inflating: data/images/roi-0000779.jpg  \n",
      "  inflating: data/images/roi-0000780.jpg  \n",
      "  inflating: data/images/roi-0000781.jpg  \n",
      "  inflating: data/images/roi-0000782.jpg  \n",
      "  inflating: data/images/roi-0000783.jpg  \n",
      "  inflating: data/images/roi-0000784.jpg  \n",
      "  inflating: data/images/roi-0000785.jpg  \n",
      "  inflating: data/images/roi-0000786.jpg  \n",
      "  inflating: data/images/roi-0000787.jpg  \n",
      "  inflating: data/images/roi-0000788.jpg  \n",
      "  inflating: data/images/roi-0000789.jpg  \n",
      "  inflating: data/images/roi-0000790.jpg  \n",
      "  inflating: data/images/roi-0000791.jpg  \n",
      "  inflating: data/images/roi-0000792.jpg  \n",
      "  inflating: data/images/roi-0000793.jpg  \n",
      "  inflating: data/images/roi-0000794.jpg  \n",
      "  inflating: data/images/roi-0000795.jpg  \n",
      "  inflating: data/images/roi-0000796.jpg  \n",
      "  inflating: data/images/roi-0000797.jpg  \n",
      "  inflating: data/images/roi-0000798.jpg  \n",
      "  inflating: data/images/roi-0000799.jpg  \n",
      "  inflating: data/images/roi-0000800.jpg  \n",
      "  inflating: data/images/roi-0000801.jpg  \n",
      "  inflating: data/images/roi-0000802.jpg  \n",
      "  inflating: data/images/roi-0000803.jpg  \n",
      "  inflating: data/images/roi-0000804.jpg  \n",
      "  inflating: data/images/roi-0000805.jpg  \n",
      "  inflating: data/images/roi-0000806.jpg  \n",
      "  inflating: data/images/roi-0000807.jpg  \n",
      "  inflating: data/images/roi-0000808.jpg  \n",
      "  inflating: data/images/roi-0000809.jpg  \n",
      "  inflating: data/images/roi-0000810.jpg  \n",
      "  inflating: data/images/roi-0000811.jpg  \n",
      "  inflating: data/images/roi-0000812.jpg  \n",
      "  inflating: data/images/roi-0000813.jpg  \n",
      "  inflating: data/images/roi-0000814.jpg  \n",
      "  inflating: data/images/roi-0000815.jpg  \n",
      "  inflating: data/images/roi-0000816.jpg  \n",
      "  inflating: data/images/roi-0000817.jpg  \n",
      "  inflating: data/images/roi-0000818.jpg  \n",
      "  inflating: data/images/roi-0000819.jpg  \n",
      "  inflating: data/images/roi-0000820.jpg  \n",
      "  inflating: data/images/roi-0000821.jpg  \n",
      "  inflating: data/images/roi-0000822.jpg  \n",
      "  inflating: data/images/roi-0000823.jpg  \n",
      "  inflating: data/images/roi-0000824.jpg  \n",
      "  inflating: data/images/thumb-0000001.jpg  \n",
      "  inflating: data/images/thumb-0000002.jpg  \n",
      "  inflating: data/images/thumb-0000003.jpg  \n",
      "  inflating: data/images/thumb-0000004.jpg  \n",
      "  inflating: data/images/thumb-0000005.jpg  \n",
      "  inflating: data/images/thumb-0000006.jpg  \n",
      "  inflating: data/images/thumb-0000007.jpg  \n",
      "  inflating: data/images/thumb-0000008.jpg  \n",
      "  inflating: data/images/thumb-0000009.jpg  \n",
      "  inflating: data/images/thumb-0000010.jpg  \n",
      "  inflating: data/images/thumb-0000011.jpg  \n",
      "  inflating: data/images/thumb-0000012.jpg  \n",
      "  inflating: data/images/thumb-0000013.jpg  \n",
      "  inflating: data/images/thumb-0000014.jpg  \n",
      "  inflating: data/images/thumb-0000015.jpg  \n",
      "  inflating: data/images/thumb-0000016.jpg  \n",
      "  inflating: data/images/thumb-0000017.jpg  \n",
      "  inflating: data/images/thumb-0000018.jpg  \n",
      "  inflating: data/images/thumb-0000019.jpg  \n",
      "  inflating: data/images/thumb-0000020.jpg  \n",
      "  inflating: data/images/thumb-0000021.jpg  \n",
      "  inflating: data/images/thumb-0000022.jpg  \n",
      "  inflating: data/images/thumb-0000023.jpg  \n",
      "  inflating: data/images/thumb-0000024.jpg  \n",
      "  inflating: data/images/thumb-0000025.jpg  \n",
      "  inflating: data/images/thumb-0000026.jpg  \n",
      "  inflating: data/images/thumb-0000027.jpg  \n",
      "  inflating: data/images/thumb-0000028.jpg  \n",
      "  inflating: data/images/thumb-0000029.jpg  \n",
      "  inflating: data/images/thumb-0000030.jpg  \n",
      "  inflating: data/images/thumb-0000031.jpg  \n",
      "  inflating: data/images/thumb-0000032.jpg  \n",
      "  inflating: data/images/thumb-0000033.jpg  \n",
      "  inflating: data/images/thumb-0000034.jpg  \n",
      "  inflating: data/images/thumb-0000035.jpg  \n",
      "  inflating: data/images/thumb-0000036.jpg  \n",
      "  inflating: data/images/thumb-0000037.jpg  \n",
      "  inflating: data/images/thumb-0000038.jpg  \n",
      "  inflating: data/images/thumb-0000039.jpg  \n",
      "  inflating: data/images/thumb-0000040.jpg  \n",
      "  inflating: data/images/thumb-0000041.jpg  \n",
      "  inflating: data/images/thumb-0000042.jpg  \n",
      "  inflating: data/images/thumb-0000043.jpg  \n",
      "  inflating: data/images/thumb-0000044.jpg  \n",
      "  inflating: data/images/thumb-0000045.jpg  \n",
      "  inflating: data/images/thumb-0000046.jpg  \n",
      "  inflating: data/images/thumb-0000047.jpg  \n",
      "  inflating: data/images/thumb-0000048.jpg  \n",
      "  inflating: data/images/thumb-0000049.jpg  \n",
      "  inflating: data/images/thumb-0000050.jpg  \n",
      "  inflating: data/images/thumb-0000051.jpg  \n",
      "  inflating: data/images/thumb-0000052.jpg  \n",
      "  inflating: data/images/thumb-0000053.jpg  \n",
      "  inflating: data/images/thumb-0000054.jpg  \n",
      "  inflating: data/images/thumb-0000055.jpg  \n",
      "  inflating: data/images/thumb-0000056.jpg  \n",
      "  inflating: data/images/thumb-0000057.jpg  \n",
      "  inflating: data/images/thumb-0000058.jpg  \n",
      "  inflating: data/images/thumb-0000059.jpg  \n",
      "  inflating: data/images/thumb-0000060.jpg  \n",
      "  inflating: data/images/thumb-0000061.jpg  \n",
      "  inflating: data/images/thumb-0000062.jpg  \n",
      "  inflating: data/images/thumb-0000063.jpg  \n",
      "  inflating: data/images/thumb-0000064.jpg  \n",
      "  inflating: data/images/thumb-0000065.jpg  \n",
      "  inflating: data/images/thumb-0000066.jpg  \n",
      "  inflating: data/images/thumb-0000067.jpg  \n",
      "  inflating: data/images/thumb-0000068.jpg  \n",
      "  inflating: data/images/thumb-0000069.jpg  \n",
      "  inflating: data/images/thumb-0000070.jpg  \n",
      "  inflating: data/images/thumb-0000071.jpg  \n",
      "  inflating: data/images/thumb-0000072.jpg  \n",
      "  inflating: data/images/thumb-0000073.jpg  \n",
      "  inflating: data/images/thumb-0000074.jpg  \n",
      "  inflating: data/images/thumb-0000075.jpg  \n",
      "  inflating: data/images/thumb-0000076.jpg  \n",
      "  inflating: data/images/thumb-0000077.jpg  \n",
      "  inflating: data/images/thumb-0000078.jpg  \n",
      "  inflating: data/images/thumb-0000079.jpg  \n",
      "  inflating: data/images/thumb-0000080.jpg  \n",
      "  inflating: data/images/thumb-0000081.jpg  \n",
      "  inflating: data/images/thumb-0000082.jpg  \n",
      "  inflating: data/images/thumb-0000083.jpg  \n",
      "  inflating: data/images/thumb-0000084.jpg  \n",
      "  inflating: data/images/thumb-0000085.jpg  \n",
      "  inflating: data/images/thumb-0000086.jpg  \n",
      "  inflating: data/images/thumb-0000087.jpg  \n",
      "  inflating: data/images/thumb-0000088.jpg  \n",
      "  inflating: data/images/thumb-0000089.jpg  \n",
      "  inflating: data/images/thumb-0000090.jpg  \n",
      "  inflating: data/images/thumb-0000091.jpg  \n",
      "  inflating: data/images/thumb-0000092.jpg  \n",
      "  inflating: data/images/thumb-0000093.jpg  \n",
      "  inflating: data/images/thumb-0000094.jpg  \n",
      "  inflating: data/images/thumb-0000095.jpg  \n",
      "  inflating: data/images/thumb-0000096.jpg  \n",
      "  inflating: data/images/thumb-0000097.jpg  \n",
      "  inflating: data/images/thumb-0000098.jpg  \n",
      "  inflating: data/images/thumb-0000099.jpg  \n",
      "  inflating: data/images/thumb-0000100.jpg  \n",
      "  inflating: data/images/thumb-0000101.jpg  \n",
      "  inflating: data/images/thumb-0000102.jpg  \n",
      "  inflating: data/images/thumb-0000103.jpg  \n",
      "  inflating: data/images/thumb-0000104.jpg  \n",
      "  inflating: data/images/thumb-0000105.jpg  \n",
      "  inflating: data/images/thumb-0000106.jpg  \n",
      "  inflating: data/images/thumb-0000107.jpg  \n",
      "  inflating: data/images/thumb-0000108.jpg  \n",
      "  inflating: data/images/thumb-0000109.jpg  \n",
      "  inflating: data/images/thumb-0000110.jpg  \n",
      "  inflating: data/images/thumb-0000111.jpg  \n",
      "  inflating: data/images/thumb-0000112.jpg  \n",
      "  inflating: data/images/thumb-0000113.jpg  \n",
      "  inflating: data/images/thumb-0000114.jpg  \n",
      "  inflating: data/images/thumb-0000115.jpg  \n",
      "  inflating: data/images/thumb-0000116.jpg  \n",
      "  inflating: data/images/thumb-0000117.jpg  \n",
      "  inflating: data/images/thumb-0000118.jpg  \n",
      "  inflating: data/images/thumb-0000119.jpg  \n",
      "  inflating: data/images/thumb-0000120.jpg  \n",
      "  inflating: data/images/thumb-0000121.jpg  \n",
      "  inflating: data/images/thumb-0000122.jpg  \n",
      "  inflating: data/images/thumb-0000123.jpg  \n",
      "  inflating: data/images/thumb-0000124.jpg  \n",
      "  inflating: data/images/thumb-0000125.jpg  \n",
      "  inflating: data/images/thumb-0000126.jpg  \n",
      "  inflating: data/images/thumb-0000127.jpg  \n",
      "  inflating: data/images/thumb-0000128.jpg  \n",
      "  inflating: data/images/thumb-0000129.jpg  \n",
      "  inflating: data/images/thumb-0000130.jpg  \n",
      "  inflating: data/images/thumb-0000131.jpg  \n",
      "  inflating: data/images/thumb-0000132.jpg  \n",
      "  inflating: data/images/thumb-0000133.jpg  \n",
      "  inflating: data/images/thumb-0000134.jpg  \n",
      "  inflating: data/images/thumb-0000135.jpg  \n",
      "  inflating: data/images/thumb-0000136.jpg  \n",
      "  inflating: data/images/thumb-0000137.jpg  \n",
      "  inflating: data/images/thumb-0000138.jpg  \n",
      "  inflating: data/images/thumb-0000139.jpg  \n",
      "  inflating: data/images/thumb-0000140.jpg  \n",
      "  inflating: data/images/thumb-0000141.jpg  \n",
      "  inflating: data/images/thumb-0000142.jpg  \n",
      "  inflating: data/images/thumb-0000143.jpg  \n",
      "  inflating: data/images/thumb-0000144.jpg  \n",
      "  inflating: data/images/thumb-0000145.jpg  \n",
      "  inflating: data/images/thumb-0000146.jpg  \n",
      "  inflating: data/images/thumb-0000147.jpg  \n",
      "  inflating: data/images/thumb-0000148.jpg  \n",
      "  inflating: data/images/thumb-0000149.jpg  \n",
      "  inflating: data/images/thumb-0000150.jpg  \n",
      "  inflating: data/images/thumb-0000151.jpg  \n",
      "  inflating: data/images/thumb-0000152.jpg  \n",
      "  inflating: data/images/thumb-0000153.jpg  \n",
      "  inflating: data/images/thumb-0000154.jpg  \n",
      "  inflating: data/images/thumb-0000155.jpg  \n",
      "  inflating: data/images/thumb-0000156.jpg  \n",
      "  inflating: data/images/thumb-0000157.jpg  \n",
      "  inflating: data/images/thumb-0000158.jpg  \n",
      "  inflating: data/images/thumb-0000159.jpg  \n",
      "  inflating: data/images/thumb-0000160.jpg  \n",
      "  inflating: data/images/thumb-0000161.jpg  \n",
      "  inflating: data/images/thumb-0000162.jpg  \n",
      "  inflating: data/images/thumb-0000163.jpg  \n",
      "  inflating: data/images/thumb-0000164.jpg  \n",
      "  inflating: data/images/thumb-0000165.jpg  \n",
      "  inflating: data/images/thumb-0000166.jpg  \n",
      "  inflating: data/images/thumb-0000167.jpg  \n",
      "  inflating: data/images/thumb-0000168.jpg  \n",
      "  inflating: data/images/thumb-0000169.jpg  \n",
      "  inflating: data/images/thumb-0000170.jpg  \n",
      "  inflating: data/images/thumb-0000171.jpg  \n",
      "  inflating: data/images/thumb-0000172.jpg  \n",
      "  inflating: data/images/thumb-0000173.jpg  \n",
      "  inflating: data/images/thumb-0000174.jpg  \n",
      "  inflating: data/images/thumb-0000175.jpg  \n",
      "  inflating: data/images/thumb-0000176.jpg  \n",
      "  inflating: data/images/thumb-0000177.jpg  \n",
      "  inflating: data/images/thumb-0000178.jpg  \n",
      "  inflating: data/images/thumb-0000179.jpg  \n",
      "  inflating: data/images/thumb-0000180.jpg  \n",
      "  inflating: data/images/thumb-0000181.jpg  \n",
      "  inflating: data/images/thumb-0000182.jpg  \n",
      "  inflating: data/images/thumb-0000183.jpg  \n",
      "  inflating: data/images/thumb-0000184.jpg  \n",
      "  inflating: data/images/thumb-0000185.jpg  \n",
      "  inflating: data/images/thumb-0000186.jpg  \n",
      "  inflating: data/images/thumb-0000187.jpg  \n",
      "  inflating: data/images/thumb-0000188.jpg  \n",
      "  inflating: data/images/thumb-0000189.jpg  \n",
      "  inflating: data/images/thumb-0000190.jpg  \n",
      "  inflating: data/images/thumb-0000191.jpg  \n",
      "  inflating: data/images/thumb-0000192.jpg  \n",
      "  inflating: data/images/thumb-0000193.jpg  \n",
      "  inflating: data/images/thumb-0000194.jpg  \n",
      "  inflating: data/images/thumb-0000195.jpg  \n",
      "  inflating: data/images/thumb-0000196.jpg  \n",
      "  inflating: data/images/thumb-0000197.jpg  \n",
      "  inflating: data/images/thumb-0000198.jpg  \n",
      "  inflating: data/images/thumb-0000199.jpg  \n",
      "  inflating: data/images/thumb-0000200.jpg  \n",
      "  inflating: data/images/thumb-0000201.jpg  \n",
      "  inflating: data/images/thumb-0000202.jpg  \n",
      "  inflating: data/images/thumb-0000203.jpg  \n",
      "  inflating: data/images/thumb-0000204.jpg  \n",
      "  inflating: data/images/thumb-0000205.jpg  \n",
      "  inflating: data/images/thumb-0000206.jpg  \n",
      "  inflating: data/images/thumb-0000207.jpg  \n",
      "  inflating: data/images/thumb-0000208.jpg  \n",
      "  inflating: data/images/thumb-0000209.jpg  \n",
      "  inflating: data/images/thumb-0000210.jpg  \n",
      "  inflating: data/images/thumb-0000211.jpg  \n",
      "  inflating: data/images/thumb-0000212.jpg  \n",
      "  inflating: data/images/thumb-0000213.jpg  \n",
      "  inflating: data/images/thumb-0000214.jpg  \n",
      "  inflating: data/images/thumb-0000215.jpg  \n",
      "  inflating: data/images/thumb-0000216.jpg  \n",
      "  inflating: data/images/thumb-0000217.jpg  \n",
      "  inflating: data/images/thumb-0000218.jpg  \n",
      "  inflating: data/images/thumb-0000219.jpg  \n",
      "  inflating: data/images/thumb-0000220.jpg  \n",
      "  inflating: data/images/thumb-0000221.jpg  \n",
      "  inflating: data/images/thumb-0000222.jpg  \n",
      "  inflating: data/images/thumb-0000223.jpg  \n",
      "  inflating: data/images/thumb-0000224.jpg  \n",
      "  inflating: data/images/thumb-0000225.jpg  \n",
      "  inflating: data/images/thumb-0000226.jpg  \n",
      "  inflating: data/images/thumb-0000227.jpg  \n",
      "  inflating: data/images/thumb-0000228.jpg  \n",
      "  inflating: data/images/thumb-0000229.jpg  \n",
      "  inflating: data/images/thumb-0000230.jpg  \n",
      "  inflating: data/images/thumb-0000231.jpg  \n",
      "  inflating: data/images/thumb-0000232.jpg  \n",
      "  inflating: data/images/thumb-0000233.jpg  \n",
      "  inflating: data/images/thumb-0000234.jpg  \n",
      "  inflating: data/images/thumb-0000235.jpg  \n",
      "  inflating: data/images/thumb-0000236.jpg  \n",
      "  inflating: data/images/thumb-0000237.jpg  \n",
      "  inflating: data/images/thumb-0000238.jpg  \n",
      "  inflating: data/images/thumb-0000239.jpg  \n",
      "  inflating: data/images/thumb-0000240.jpg  \n",
      "  inflating: data/images/thumb-0000241.jpg  \n",
      "  inflating: data/images/thumb-0000242.jpg  \n",
      "  inflating: data/images/thumb-0000243.jpg  \n",
      "  inflating: data/images/thumb-0000244.jpg  \n",
      "  inflating: data/images/thumb-0000245.jpg  \n",
      "  inflating: data/images/thumb-0000246.jpg  \n",
      "  inflating: data/images/thumb-0000247.jpg  \n",
      "  inflating: data/images/thumb-0000248.jpg  \n",
      "  inflating: data/images/thumb-0000249.jpg  \n",
      "  inflating: data/images/thumb-0000250.jpg  \n",
      "  inflating: data/images/thumb-0000251.jpg  \n",
      "  inflating: data/images/thumb-0000252.jpg  \n",
      "  inflating: data/images/thumb-0000253.jpg  \n",
      "  inflating: data/images/thumb-0000254.jpg  \n",
      "  inflating: data/images/thumb-0000255.jpg  \n",
      "  inflating: data/images/thumb-0000256.jpg  \n",
      "  inflating: data/images/thumb-0000257.jpg  \n",
      "  inflating: data/images/thumb-0000258.jpg  \n",
      "  inflating: data/images/thumb-0000259.jpg  \n",
      "  inflating: data/images/thumb-0000260.jpg  \n",
      "  inflating: data/images/thumb-0000261.jpg  \n",
      "  inflating: data/images/thumb-0000262.jpg  \n",
      "  inflating: data/images/thumb-0000263.jpg  \n",
      "  inflating: data/images/thumb-0000264.jpg  \n",
      "  inflating: data/images/thumb-0000265.jpg  \n",
      "  inflating: data/images/thumb-0000266.jpg  \n",
      "  inflating: data/images/thumb-0000267.jpg  \n",
      "  inflating: data/images/thumb-0000268.jpg  \n",
      "  inflating: data/images/thumb-0000269.jpg  \n",
      "  inflating: data/images/thumb-0000270.jpg  \n",
      "  inflating: data/images/thumb-0000271.jpg  \n",
      "  inflating: data/images/thumb-0000272.jpg  \n",
      "  inflating: data/images/thumb-0000273.jpg  \n",
      "  inflating: data/images/thumb-0000274.jpg  \n",
      "  inflating: data/images/thumb-0000275.jpg  \n",
      "  inflating: data/images/thumb-0000276.jpg  \n",
      "  inflating: data/images/thumb-0000277.jpg  \n",
      "  inflating: data/images/thumb-0000278.jpg  \n",
      "  inflating: data/images/thumb-0000279.jpg  \n",
      "  inflating: data/images/thumb-0000280.jpg  \n",
      "  inflating: data/images/thumb-0000281.jpg  \n",
      "  inflating: data/images/thumb-0000282.jpg  \n",
      "  inflating: data/images/thumb-0000283.jpg  \n",
      "  inflating: data/images/thumb-0000284.jpg  \n",
      "  inflating: data/images/thumb-0000285.jpg  \n",
      "  inflating: data/images/thumb-0000286.jpg  \n",
      "  inflating: data/images/thumb-0000287.jpg  \n",
      "  inflating: data/images/thumb-0000288.jpg  \n",
      "  inflating: data/images/thumb-0000289.jpg  \n",
      "  inflating: data/images/thumb-0000290.jpg  \n",
      "  inflating: data/images/thumb-0000291.jpg  \n",
      "  inflating: data/images/thumb-0000292.jpg  \n",
      "  inflating: data/images/thumb-0000293.jpg  \n",
      "  inflating: data/images/thumb-0000294.jpg  \n",
      "  inflating: data/images/thumb-0000295.jpg  \n",
      "  inflating: data/images/thumb-0000296.jpg  \n",
      "  inflating: data/images/thumb-0000297.jpg  \n",
      "  inflating: data/images/thumb-0000298.jpg  \n",
      "  inflating: data/images/thumb-0000299.jpg  \n",
      "  inflating: data/images/thumb-0000300.jpg  \n",
      "  inflating: data/images/thumb-0000301.jpg  \n",
      "  inflating: data/images/thumb-0000302.jpg  \n",
      "  inflating: data/images/thumb-0000303.jpg  \n",
      "  inflating: data/images/thumb-0000304.jpg  \n",
      "  inflating: data/images/thumb-0000305.jpg  \n",
      "  inflating: data/images/thumb-0000306.jpg  \n",
      "  inflating: data/images/thumb-0000307.jpg  \n",
      "  inflating: data/images/thumb-0000308.jpg  \n",
      "  inflating: data/images/thumb-0000309.jpg  \n",
      "  inflating: data/images/thumb-0000310.jpg  \n",
      "  inflating: data/images/thumb-0000311.jpg  \n",
      "  inflating: data/images/thumb-0000312.jpg  \n",
      "  inflating: data/images/thumb-0000313.jpg  \n",
      "  inflating: data/images/thumb-0000314.jpg  \n",
      "  inflating: data/images/thumb-0000315.jpg  \n",
      "  inflating: data/images/thumb-0000316.jpg  \n",
      "  inflating: data/images/thumb-0000317.jpg  \n",
      "  inflating: data/images/thumb-0000318.jpg  \n",
      "  inflating: data/images/thumb-0000319.jpg  \n",
      "  inflating: data/images/thumb-0000320.jpg  \n",
      "  inflating: data/images/thumb-0000321.jpg  \n",
      "  inflating: data/images/thumb-0000322.jpg  \n",
      "  inflating: data/images/thumb-0000323.jpg  \n",
      "  inflating: data/images/thumb-0000324.jpg  \n",
      "  inflating: data/images/thumb-0000325.jpg  \n",
      "  inflating: data/images/thumb-0000326.jpg  \n",
      "  inflating: data/images/thumb-0000327.jpg  \n",
      "  inflating: data/images/thumb-0000328.jpg  \n",
      "  inflating: data/images/thumb-0000329.jpg  \n",
      "  inflating: data/images/thumb-0000330.jpg  \n",
      "  inflating: data/images/thumb-0000331.jpg  \n",
      "  inflating: data/images/thumb-0000332.jpg  \n",
      "  inflating: data/images/thumb-0000333.jpg  \n",
      "  inflating: data/images/thumb-0000334.jpg  \n",
      "  inflating: data/images/thumb-0000335.jpg  \n",
      "  inflating: data/images/thumb-0000336.jpg  \n",
      "  inflating: data/images/thumb-0000337.jpg  \n",
      "  inflating: data/images/thumb-0000338.jpg  \n",
      "  inflating: data/images/thumb-0000339.jpg  \n",
      "  inflating: data/images/thumb-0000340.jpg  \n",
      "  inflating: data/images/thumb-0000341.jpg  \n",
      "  inflating: data/images/thumb-0000342.jpg  \n",
      "  inflating: data/images/thumb-0000343.jpg  \n",
      "  inflating: data/images/thumb-0000344.jpg  \n",
      "  inflating: data/images/thumb-0000345.jpg  \n",
      "  inflating: data/images/thumb-0000346.jpg  \n",
      "  inflating: data/images/thumb-0000347.jpg  \n",
      "  inflating: data/images/thumb-0000348.jpg  \n",
      "  inflating: data/images/thumb-0000349.jpg  \n",
      "  inflating: data/images/thumb-0000350.jpg  \n",
      "  inflating: data/images/thumb-0000351.jpg  \n",
      "  inflating: data/images/thumb-0000352.jpg  \n",
      "  inflating: data/images/thumb-0000353.jpg  \n",
      "  inflating: data/images/thumb-0000354.jpg  \n",
      "  inflating: data/images/thumb-0000355.jpg  \n",
      "  inflating: data/images/thumb-0000356.jpg  \n",
      "  inflating: data/images/thumb-0000357.jpg  \n",
      "  inflating: data/images/thumb-0000358.jpg  \n",
      "  inflating: data/images/thumb-0000359.jpg  \n",
      "  inflating: data/images/thumb-0000360.jpg  \n",
      "  inflating: data/images/thumb-0000361.jpg  \n",
      "  inflating: data/images/thumb-0000362.jpg  \n",
      "  inflating: data/images/thumb-0000363.jpg  \n",
      "  inflating: data/images/thumb-0000364.jpg  \n",
      "  inflating: data/images/thumb-0000365.jpg  \n",
      "  inflating: data/images/thumb-0000366.jpg  \n",
      "  inflating: data/images/thumb-0000367.jpg  \n",
      "  inflating: data/images/thumb-0000368.jpg  \n",
      "  inflating: data/images/thumb-0000369.jpg  \n",
      "  inflating: data/images/thumb-0000370.jpg  \n",
      "  inflating: data/images/thumb-0000371.jpg  \n",
      "  inflating: data/images/thumb-0000372.jpg  \n",
      "  inflating: data/images/thumb-0000373.jpg  \n",
      "  inflating: data/images/thumb-0000374.jpg  \n",
      "  inflating: data/images/thumb-0000375.jpg  \n",
      "  inflating: data/images/thumb-0000376.jpg  \n",
      "  inflating: data/images/thumb-0000377.jpg  \n",
      "  inflating: data/images/thumb-0000378.jpg  \n",
      "  inflating: data/images/thumb-0000379.jpg  \n",
      "  inflating: data/images/thumb-0000380.jpg  \n",
      "  inflating: data/images/thumb-0000381.jpg  \n",
      "  inflating: data/images/thumb-0000382.jpg  \n",
      "  inflating: data/images/thumb-0000383.jpg  \n",
      "  inflating: data/images/thumb-0000384.jpg  \n",
      "  inflating: data/images/thumb-0000385.jpg  \n",
      "  inflating: data/images/thumb-0000386.jpg  \n",
      "  inflating: data/images/thumb-0000387.jpg  \n",
      "  inflating: data/images/thumb-0000388.jpg  \n",
      "  inflating: data/images/thumb-0000389.jpg  \n",
      "  inflating: data/images/thumb-0000390.jpg  \n",
      "  inflating: data/images/thumb-0000391.jpg  \n",
      "  inflating: data/images/thumb-0000392.jpg  \n",
      "  inflating: data/images/thumb-0000393.jpg  \n",
      "  inflating: data/images/thumb-0000394.jpg  \n",
      "  inflating: data/images/thumb-0000395.jpg  \n",
      "  inflating: data/images/thumb-0000396.jpg  \n",
      "  inflating: data/images/thumb-0000397.jpg  \n",
      "  inflating: data/images/thumb-0000398.jpg  \n",
      "  inflating: data/images/thumb-0000399.jpg  \n",
      "  inflating: data/images/thumb-0000400.jpg  \n",
      "  inflating: data/images/thumb-0000401.jpg  \n",
      "  inflating: data/images/thumb-0000402.jpg  \n",
      "  inflating: data/images/thumb-0000403.jpg  \n",
      "  inflating: data/images/thumb-0000404.jpg  \n",
      "  inflating: data/images/thumb-0000405.jpg  \n",
      "  inflating: data/images/thumb-0000406.jpg  \n",
      "  inflating: data/images/thumb-0000407.jpg  \n",
      "  inflating: data/images/thumb-0000408.jpg  \n",
      "  inflating: data/images/thumb-0000409.jpg  \n",
      "  inflating: data/images/thumb-0000410.jpg  \n",
      "  inflating: data/images/thumb-0000411.jpg  \n",
      "  inflating: data/images/thumb-0000412.jpg  \n",
      "  inflating: data/images/thumb-0000413.jpg  \n",
      "  inflating: data/images/thumb-0000414.jpg  \n",
      "  inflating: data/images/thumb-0000415.jpg  \n",
      "  inflating: data/images/thumb-0000416.jpg  \n",
      "  inflating: data/images/thumb-0000417.jpg  \n",
      "  inflating: data/images/thumb-0000418.jpg  \n",
      "  inflating: data/images/thumb-0000419.jpg  \n",
      "  inflating: data/images/thumb-0000420.jpg  \n",
      "  inflating: data/images/thumb-0000421.jpg  \n",
      "  inflating: data/images/thumb-0000422.jpg  \n",
      "  inflating: data/images/thumb-0000423.jpg  \n",
      "  inflating: data/images/thumb-0000424.jpg  \n",
      "  inflating: data/images/thumb-0000425.jpg  \n",
      "  inflating: data/images/thumb-0000426.jpg  \n",
      "  inflating: data/images/thumb-0000427.jpg  \n",
      "  inflating: data/images/thumb-0000428.jpg  \n",
      "  inflating: data/images/thumb-0000429.jpg  \n",
      "  inflating: data/images/thumb-0000430.jpg  \n",
      "  inflating: data/images/thumb-0000431.jpg  \n",
      "  inflating: data/images/thumb-0000432.jpg  \n",
      "  inflating: data/images/thumb-0000433.jpg  \n",
      "  inflating: data/images/thumb-0000434.jpg  \n",
      "  inflating: data/images/thumb-0000435.jpg  \n",
      "  inflating: data/images/thumb-0000436.jpg  \n",
      "  inflating: data/images/thumb-0000437.jpg  \n",
      "  inflating: data/images/thumb-0000438.jpg  \n",
      "  inflating: data/images/thumb-0000439.jpg  \n",
      "  inflating: data/images/thumb-0000440.jpg  \n",
      "  inflating: data/images/thumb-0000441.jpg  \n",
      "  inflating: data/images/thumb-0000442.jpg  \n",
      "  inflating: data/images/thumb-0000443.jpg  \n",
      "  inflating: data/images/thumb-0000444.jpg  \n",
      "  inflating: data/images/thumb-0000445.jpg  \n",
      "  inflating: data/images/thumb-0000446.jpg  \n",
      "  inflating: data/images/thumb-0000447.jpg  \n",
      "  inflating: data/images/thumb-0000448.jpg  \n",
      "  inflating: data/images/thumb-0000449.jpg  \n",
      "  inflating: data/images/thumb-0000450.jpg  \n",
      "  inflating: data/images/thumb-0000451.jpg  \n",
      "  inflating: data/images/thumb-0000452.jpg  \n",
      "  inflating: data/images/thumb-0000453.jpg  \n",
      "  inflating: data/images/thumb-0000454.jpg  \n",
      "  inflating: data/images/thumb-0000455.jpg  \n",
      "  inflating: data/images/thumb-0000456.jpg  \n",
      "  inflating: data/images/thumb-0000457.jpg  \n",
      "  inflating: data/images/thumb-0000458.jpg  \n",
      "  inflating: data/images/thumb-0000459.jpg  \n",
      "  inflating: data/images/thumb-0000460.jpg  \n",
      "  inflating: data/images/thumb-0000461.jpg  \n",
      "  inflating: data/images/thumb-0000462.jpg  \n",
      "  inflating: data/images/thumb-0000463.jpg  \n",
      "  inflating: data/images/thumb-0000464.jpg  \n",
      "  inflating: data/images/thumb-0000465.jpg  \n",
      "  inflating: data/images/thumb-0000466.jpg  \n",
      "  inflating: data/images/thumb-0000467.jpg  \n",
      "  inflating: data/images/thumb-0000468.jpg  \n",
      "  inflating: data/images/thumb-0000469.jpg  \n",
      "  inflating: data/images/thumb-0000470.jpg  \n",
      "  inflating: data/images/thumb-0000471.jpg  \n",
      "  inflating: data/images/thumb-0000472.jpg  \n",
      "  inflating: data/images/thumb-0000473.jpg  \n",
      "  inflating: data/images/thumb-0000474.jpg  \n",
      "  inflating: data/images/thumb-0000475.jpg  \n",
      "  inflating: data/images/thumb-0000476.jpg  \n",
      "  inflating: data/images/thumb-0000477.jpg  \n",
      "  inflating: data/images/thumb-0000478.jpg  \n",
      "  inflating: data/images/thumb-0000479.jpg  \n",
      "  inflating: data/images/thumb-0000480.jpg  \n",
      "  inflating: data/images/thumb-0000481.jpg  \n",
      "  inflating: data/images/thumb-0000482.jpg  \n",
      "  inflating: data/images/thumb-0000483.jpg  \n",
      "  inflating: data/images/thumb-0000484.jpg  \n",
      "  inflating: data/images/thumb-0000485.jpg  \n",
      "  inflating: data/images/thumb-0000486.jpg  \n",
      "  inflating: data/images/thumb-0000487.jpg  \n",
      "  inflating: data/images/thumb-0000488.jpg  \n",
      "  inflating: data/images/thumb-0000489.jpg  \n",
      "  inflating: data/images/thumb-0000490.jpg  \n",
      "  inflating: data/images/thumb-0000491.jpg  \n",
      "  inflating: data/images/thumb-0000492.jpg  \n",
      "  inflating: data/images/thumb-0000493.jpg  \n",
      "  inflating: data/images/thumb-0000494.jpg  \n",
      "  inflating: data/images/thumb-0000495.jpg  \n",
      "  inflating: data/images/thumb-0000496.jpg  \n",
      "  inflating: data/images/thumb-0000497.jpg  \n",
      "  inflating: data/images/thumb-0000498.jpg  \n",
      "  inflating: data/images/thumb-0000499.jpg  \n",
      "  inflating: data/images/thumb-0000500.jpg  \n",
      "  inflating: data/images/thumb-0000501.jpg  \n",
      "  inflating: data/images/thumb-0000502.jpg  \n",
      "  inflating: data/images/thumb-0000503.jpg  \n",
      "  inflating: data/images/thumb-0000504.jpg  \n",
      "  inflating: data/images/thumb-0000505.jpg  \n",
      "  inflating: data/images/thumb-0000506.jpg  \n",
      "  inflating: data/images/thumb-0000507.jpg  \n",
      "  inflating: data/images/thumb-0000508.jpg  \n",
      "  inflating: data/images/thumb-0000509.jpg  \n",
      "  inflating: data/images/thumb-0000510.jpg  \n",
      "  inflating: data/images/thumb-0000511.jpg  \n",
      "  inflating: data/images/thumb-0000512.jpg  \n",
      "  inflating: data/images/thumb-0000513.jpg  \n",
      "  inflating: data/images/thumb-0000514.jpg  \n",
      "  inflating: data/images/thumb-0000515.jpg  \n",
      "  inflating: data/images/thumb-0000516.jpg  \n",
      "  inflating: data/images/thumb-0000517.jpg  \n",
      "  inflating: data/images/thumb-0000518.jpg  \n",
      "  inflating: data/images/thumb-0000519.jpg  \n",
      "  inflating: data/images/thumb-0000520.jpg  \n",
      "  inflating: data/images/thumb-0000521.jpg  \n",
      "  inflating: data/images/thumb-0000522.jpg  \n",
      "  inflating: data/images/thumb-0000523.jpg  \n",
      "  inflating: data/images/thumb-0000524.jpg  \n",
      "  inflating: data/images/thumb-0000525.jpg  \n",
      "  inflating: data/images/thumb-0000526.jpg  \n",
      "  inflating: data/images/thumb-0000527.jpg  \n",
      "  inflating: data/images/thumb-0000528.jpg  \n",
      "  inflating: data/images/thumb-0000529.jpg  \n",
      "  inflating: data/images/thumb-0000530.jpg  \n",
      "  inflating: data/images/thumb-0000531.jpg  \n",
      "  inflating: data/images/thumb-0000532.jpg  \n",
      "  inflating: data/images/thumb-0000533.jpg  \n",
      "  inflating: data/images/thumb-0000534.jpg  \n",
      "  inflating: data/images/thumb-0000535.jpg  \n",
      "  inflating: data/images/thumb-0000536.jpg  \n",
      "  inflating: data/images/thumb-0000537.jpg  \n",
      "  inflating: data/images/thumb-0000538.jpg  \n",
      "  inflating: data/images/thumb-0000539.jpg  \n",
      "  inflating: data/images/thumb-0000540.jpg  \n",
      "  inflating: data/images/thumb-0000541.jpg  \n",
      "  inflating: data/images/thumb-0000542.jpg  \n",
      "  inflating: data/images/thumb-0000543.jpg  \n",
      "  inflating: data/images/thumb-0000544.jpg  \n",
      "  inflating: data/images/thumb-0000545.jpg  \n",
      "  inflating: data/images/thumb-0000546.jpg  \n",
      "  inflating: data/images/thumb-0000547.jpg  \n",
      "  inflating: data/images/thumb-0000548.jpg  \n",
      "  inflating: data/images/thumb-0000549.jpg  \n",
      "  inflating: data/images/thumb-0000550.jpg  \n",
      "  inflating: data/images/thumb-0000551.jpg  \n",
      "  inflating: data/images/thumb-0000552.jpg  \n",
      "  inflating: data/images/thumb-0000553.jpg  \n",
      "  inflating: data/images/thumb-0000554.jpg  \n",
      "  inflating: data/images/thumb-0000555.jpg  \n",
      "  inflating: data/images/thumb-0000556.jpg  \n",
      "  inflating: data/images/thumb-0000557.jpg  \n",
      "  inflating: data/images/thumb-0000558.jpg  \n",
      "  inflating: data/images/thumb-0000559.jpg  \n",
      "  inflating: data/images/thumb-0000560.jpg  \n",
      "  inflating: data/images/thumb-0000561.jpg  \n",
      "  inflating: data/images/thumb-0000562.jpg  \n",
      "  inflating: data/images/thumb-0000563.jpg  \n",
      "  inflating: data/images/thumb-0000564.jpg  \n",
      "  inflating: data/images/thumb-0000565.jpg  \n",
      "  inflating: data/images/thumb-0000566.jpg  \n",
      "  inflating: data/images/thumb-0000567.jpg  \n",
      "  inflating: data/images/thumb-0000568.jpg  \n",
      "  inflating: data/images/thumb-0000569.jpg  \n",
      "  inflating: data/images/thumb-0000570.jpg  \n",
      "  inflating: data/images/thumb-0000571.jpg  \n",
      "  inflating: data/images/thumb-0000572.jpg  \n",
      "  inflating: data/images/thumb-0000573.jpg  \n",
      "  inflating: data/images/thumb-0000574.jpg  \n",
      "  inflating: data/images/thumb-0000575.jpg  \n",
      "  inflating: data/images/thumb-0000576.jpg  \n",
      "  inflating: data/images/thumb-0000577.jpg  \n",
      "  inflating: data/images/thumb-0000578.jpg  \n",
      "  inflating: data/images/thumb-0000579.jpg  \n",
      "  inflating: data/images/thumb-0000580.jpg  \n",
      "  inflating: data/images/thumb-0000581.jpg  \n",
      "  inflating: data/images/thumb-0000582.jpg  \n",
      "  inflating: data/images/thumb-0000583.jpg  \n",
      "  inflating: data/images/thumb-0000584.jpg  \n",
      "  inflating: data/images/thumb-0000585.jpg  \n",
      "  inflating: data/images/thumb-0000586.jpg  \n",
      "  inflating: data/images/thumb-0000587.jpg  \n",
      "  inflating: data/images/thumb-0000588.jpg  \n",
      "  inflating: data/images/thumb-0000589.jpg  \n",
      "  inflating: data/images/thumb-0000590.jpg  \n",
      "  inflating: data/images/thumb-0000591.jpg  \n",
      "  inflating: data/images/thumb-0000592.jpg  \n",
      "  inflating: data/images/thumb-0000593.jpg  \n",
      "  inflating: data/images/thumb-0000594.jpg  \n",
      "  inflating: data/images/thumb-0000595.jpg  \n",
      "  inflating: data/images/thumb-0000596.jpg  \n",
      "  inflating: data/images/thumb-0000597.jpg  \n",
      "  inflating: data/images/thumb-0000598.jpg  \n",
      "  inflating: data/images/thumb-0000599.jpg  \n",
      "  inflating: data/images/thumb-0000600.jpg  \n",
      "  inflating: data/images/thumb-0000601.jpg  \n",
      "  inflating: data/images/thumb-0000602.jpg  \n",
      "  inflating: data/images/thumb-0000603.jpg  \n",
      "  inflating: data/images/thumb-0000604.jpg  \n",
      "  inflating: data/images/thumb-0000605.jpg  \n",
      "  inflating: data/images/thumb-0000606.jpg  \n",
      "  inflating: data/images/thumb-0000607.jpg  \n",
      "  inflating: data/images/thumb-0000608.jpg  \n",
      "  inflating: data/images/thumb-0000609.jpg  \n",
      "  inflating: data/images/thumb-0000610.jpg  \n",
      "  inflating: data/images/thumb-0000611.jpg  \n",
      "  inflating: data/images/thumb-0000612.jpg  \n",
      "  inflating: data/images/thumb-0000613.jpg  \n",
      "  inflating: data/images/thumb-0000614.jpg  \n",
      "  inflating: data/images/thumb-0000615.jpg  \n",
      "  inflating: data/images/thumb-0000616.jpg  \n",
      "  inflating: data/images/thumb-0000617.jpg  \n",
      "  inflating: data/images/thumb-0000618.jpg  \n",
      "  inflating: data/images/thumb-0000619.jpg  \n",
      "  inflating: data/images/thumb-0000620.jpg  \n",
      "  inflating: data/images/thumb-0000621.jpg  \n",
      "  inflating: data/images/thumb-0000622.jpg  \n",
      "  inflating: data/images/thumb-0000623.jpg  \n",
      "  inflating: data/images/thumb-0000624.jpg  \n",
      "  inflating: data/images/thumb-0000625.jpg  \n",
      "  inflating: data/images/thumb-0000626.jpg  \n",
      "  inflating: data/images/thumb-0000627.jpg  \n",
      "  inflating: data/images/thumb-0000628.jpg  \n",
      "  inflating: data/images/thumb-0000629.jpg  \n",
      "  inflating: data/images/thumb-0000630.jpg  \n",
      "  inflating: data/images/thumb-0000631.jpg  \n",
      "  inflating: data/images/thumb-0000632.jpg  \n",
      "  inflating: data/images/thumb-0000633.jpg  \n",
      "  inflating: data/images/thumb-0000634.jpg  \n",
      "  inflating: data/images/thumb-0000635.jpg  \n",
      "  inflating: data/images/thumb-0000636.jpg  \n",
      "  inflating: data/images/thumb-0000637.jpg  \n",
      "  inflating: data/images/thumb-0000638.jpg  \n",
      "  inflating: data/images/thumb-0000639.jpg  \n",
      "  inflating: data/images/thumb-0000640.jpg  \n",
      "  inflating: data/images/thumb-0000641.jpg  \n",
      "  inflating: data/images/thumb-0000642.jpg  \n",
      "  inflating: data/images/thumb-0000643.jpg  \n",
      "  inflating: data/images/thumb-0000644.jpg  \n",
      "  inflating: data/images/thumb-0000645.jpg  \n",
      "  inflating: data/images/thumb-0000646.jpg  \n",
      "  inflating: data/images/thumb-0000647.jpg  \n",
      "  inflating: data/images/thumb-0000648.jpg  \n",
      "  inflating: data/images/thumb-0000649.jpg  \n",
      "  inflating: data/images/thumb-0000650.jpg  \n",
      "  inflating: data/images/thumb-0000651.jpg  \n",
      "  inflating: data/images/thumb-0000652.jpg  \n",
      "  inflating: data/images/thumb-0000653.jpg  \n",
      "  inflating: data/images/thumb-0000654.jpg  \n",
      "  inflating: data/images/thumb-0000655.jpg  \n",
      "  inflating: data/images/thumb-0000656.jpg  \n",
      "  inflating: data/images/thumb-0000657.jpg  \n",
      "  inflating: data/images/thumb-0000658.jpg  \n",
      "  inflating: data/images/thumb-0000659.jpg  \n",
      "  inflating: data/images/thumb-0000660.jpg  \n",
      "  inflating: data/images/thumb-0000661.jpg  \n",
      "  inflating: data/images/thumb-0000662.jpg  \n",
      "  inflating: data/images/thumb-0000663.jpg  \n",
      "  inflating: data/images/thumb-0000664.jpg  \n",
      "  inflating: data/images/thumb-0000665.jpg  \n",
      "  inflating: data/images/thumb-0000666.jpg  \n",
      "  inflating: data/images/thumb-0000667.jpg  \n",
      "  inflating: data/images/thumb-0000668.jpg  \n",
      "  inflating: data/images/thumb-0000669.jpg  \n",
      "  inflating: data/images/thumb-0000670.jpg  \n",
      "  inflating: data/images/thumb-0000671.jpg  \n",
      "  inflating: data/images/thumb-0000672.jpg  \n",
      "  inflating: data/images/thumb-0000673.jpg  \n",
      "  inflating: data/images/thumb-0000674.jpg  \n",
      "  inflating: data/images/thumb-0000675.jpg  \n",
      "  inflating: data/images/thumb-0000676.jpg  \n",
      "  inflating: data/images/thumb-0000677.jpg  \n",
      "  inflating: data/images/thumb-0000678.jpg  \n",
      "  inflating: data/images/thumb-0000679.jpg  \n",
      "  inflating: data/images/thumb-0000680.jpg  \n",
      "  inflating: data/images/thumb-0000681.jpg  \n",
      "  inflating: data/images/thumb-0000682.jpg  \n",
      "  inflating: data/images/thumb-0000683.jpg  \n",
      "  inflating: data/images/thumb-0000684.jpg  \n",
      "  inflating: data/images/thumb-0000685.jpg  \n",
      "  inflating: data/images/thumb-0000686.jpg  \n",
      "  inflating: data/images/thumb-0000687.jpg  \n",
      "  inflating: data/images/thumb-0000688.jpg  \n",
      "  inflating: data/images/thumb-0000689.jpg  \n",
      "  inflating: data/images/thumb-0000690.jpg  \n",
      "  inflating: data/images/thumb-0000691.jpg  \n",
      "  inflating: data/images/thumb-0000692.jpg  \n",
      "  inflating: data/images/thumb-0000693.jpg  \n",
      "  inflating: data/images/thumb-0000694.jpg  \n",
      "  inflating: data/images/thumb-0000695.jpg  \n",
      "  inflating: data/images/thumb-0000696.jpg  \n",
      "  inflating: data/images/thumb-0000697.jpg  \n",
      "  inflating: data/images/thumb-0000698.jpg  \n",
      "  inflating: data/images/thumb-0000699.jpg  \n",
      "  inflating: data/images/thumb-0000700.jpg  \n",
      "  inflating: data/images/thumb-0000701.jpg  \n",
      "  inflating: data/images/thumb-0000702.jpg  \n",
      "  inflating: data/images/thumb-0000703.jpg  \n",
      "  inflating: data/images/thumb-0000704.jpg  \n",
      "  inflating: data/images/thumb-0000705.jpg  \n",
      "  inflating: data/images/thumb-0000706.jpg  \n",
      "  inflating: data/images/thumb-0000707.jpg  \n",
      "  inflating: data/images/thumb-0000708.jpg  \n",
      "  inflating: data/images/thumb-0000709.jpg  \n",
      "  inflating: data/images/thumb-0000710.jpg  \n",
      "  inflating: data/images/thumb-0000711.jpg  \n",
      "  inflating: data/images/thumb-0000712.jpg  \n",
      "  inflating: data/images/thumb-0000713.jpg  \n",
      "  inflating: data/images/thumb-0000714.jpg  \n",
      "  inflating: data/images/thumb-0000715.jpg  \n",
      "  inflating: data/images/thumb-0000716.jpg  \n",
      "  inflating: data/images/thumb-0000717.jpg  \n",
      "  inflating: data/images/thumb-0000718.jpg  \n",
      "  inflating: data/images/thumb-0000719.jpg  \n",
      "  inflating: data/images/thumb-0000720.jpg  \n",
      "  inflating: data/images/thumb-0000721.jpg  \n",
      "  inflating: data/images/thumb-0000722.jpg  \n",
      "  inflating: data/images/thumb-0000723.jpg  \n",
      "  inflating: data/images/thumb-0000724.jpg  \n",
      "  inflating: data/images/thumb-0000725.jpg  \n",
      "  inflating: data/images/thumb-0000726.jpg  \n",
      "  inflating: data/images/thumb-0000727.jpg  \n",
      "  inflating: data/images/thumb-0000728.jpg  \n",
      "  inflating: data/images/thumb-0000729.jpg  \n",
      "  inflating: data/images/thumb-0000730.jpg  \n",
      "  inflating: data/images/thumb-0000731.jpg  \n",
      "  inflating: data/images/thumb-0000732.jpg  \n",
      "  inflating: data/images/thumb-0000733.jpg  \n",
      "  inflating: data/images/thumb-0000734.jpg  \n",
      "  inflating: data/images/thumb-0000735.jpg  \n",
      "  inflating: data/images/thumb-0000736.jpg  \n",
      "  inflating: data/images/thumb-0000737.jpg  \n",
      "  inflating: data/images/thumb-0000738.jpg  \n",
      "  inflating: data/images/thumb-0000739.jpg  \n",
      "  inflating: data/images/thumb-0000740.jpg  \n",
      "  inflating: data/images/thumb-0000741.jpg  \n",
      "  inflating: data/images/thumb-0000742.jpg  \n",
      "  inflating: data/images/thumb-0000743.jpg  \n",
      "  inflating: data/images/thumb-0000744.jpg  \n",
      "  inflating: data/images/thumb-0000745.jpg  \n",
      "  inflating: data/images/thumb-0000746.jpg  \n",
      "  inflating: data/images/thumb-0000747.jpg  \n",
      "  inflating: data/images/thumb-0000748.jpg  \n",
      "  inflating: data/images/thumb-0000749.jpg  \n",
      "  inflating: data/images/thumb-0000750.jpg  \n",
      "  inflating: data/images/thumb-0000751.jpg  \n",
      "  inflating: data/images/thumb-0000752.jpg  \n",
      "  inflating: data/images/thumb-0000753.jpg  \n",
      "  inflating: data/images/thumb-0000754.jpg  \n",
      "  inflating: data/images/thumb-0000755.jpg  \n",
      "  inflating: data/images/thumb-0000756.jpg  \n",
      "  inflating: data/images/thumb-0000757.jpg  \n",
      "  inflating: data/images/thumb-0000758.jpg  \n",
      "  inflating: data/images/thumb-0000759.jpg  \n",
      "  inflating: data/images/thumb-0000760.jpg  \n",
      "  inflating: data/images/thumb-0000761.jpg  \n",
      "  inflating: data/images/thumb-0000762.jpg  \n",
      "  inflating: data/images/thumb-0000763.jpg  \n",
      "  inflating: data/images/thumb-0000764.jpg  \n",
      "  inflating: data/images/thumb-0000765.jpg  \n",
      "  inflating: data/images/thumb-0000766.jpg  \n",
      "  inflating: data/images/thumb-0000767.jpg  \n",
      "  inflating: data/images/thumb-0000768.jpg  \n",
      "  inflating: data/images/thumb-0000769.jpg  \n",
      "  inflating: data/images/thumb-0000770.jpg  \n",
      "  inflating: data/images/thumb-0000771.jpg  \n",
      "  inflating: data/images/thumb-0000772.jpg  \n",
      "  inflating: data/images/thumb-0000773.jpg  \n",
      "  inflating: data/images/thumb-0000774.jpg  \n",
      "  inflating: data/images/thumb-0000775.jpg  \n",
      "  inflating: data/images/thumb-0000776.jpg  \n",
      "  inflating: data/images/thumb-0000777.jpg  \n",
      "  inflating: data/images/thumb-0000778.jpg  \n",
      "  inflating: data/images/thumb-0000779.jpg  \n",
      "  inflating: data/images/thumb-0000780.jpg  \n",
      "  inflating: data/images/thumb-0000781.jpg  \n",
      "  inflating: data/images/thumb-0000782.jpg  \n",
      "  inflating: data/images/thumb-0000783.jpg  \n",
      "  inflating: data/images/thumb-0000784.jpg  \n",
      "  inflating: data/images/thumb-0000785.jpg  \n",
      "  inflating: data/images/thumb-0000786.jpg  \n",
      "  inflating: data/images/thumb-0000787.jpg  \n",
      "  inflating: data/images/thumb-0000788.jpg  \n",
      "  inflating: data/images/thumb-0000789.jpg  \n",
      "  inflating: data/images/thumb-0000790.jpg  \n",
      "  inflating: data/images/thumb-0000791.jpg  \n",
      "  inflating: data/images/thumb-0000792.jpg  \n",
      "  inflating: data/images/thumb-0000793.jpg  \n",
      "  inflating: data/images/thumb-0000794.jpg  \n",
      "  inflating: data/images/thumb-0000795.jpg  \n",
      "  inflating: data/images/thumb-0000796.jpg  \n",
      "  inflating: data/images/thumb-0000797.jpg  \n",
      "  inflating: data/images/thumb-0000798.jpg  \n",
      "  inflating: data/images/thumb-0000799.jpg  \n",
      "  inflating: data/images/thumb-0000800.jpg  \n",
      "  inflating: data/images/thumb-0000801.jpg  \n",
      "  inflating: data/images/thumb-0000802.jpg  \n",
      "  inflating: data/images/thumb-0000803.jpg  \n",
      "  inflating: data/images/thumb-0000804.jpg  \n",
      "  inflating: data/images/thumb-0000805.jpg  \n",
      "  inflating: data/images/thumb-0000806.jpg  \n",
      "  inflating: data/images/thumb-0000807.jpg  \n",
      "  inflating: data/images/thumb-0000808.jpg  \n",
      "  inflating: data/images/thumb-0000809.jpg  \n",
      "  inflating: data/images/thumb-0000810.jpg  \n",
      "  inflating: data/images/thumb-0000811.jpg  \n",
      "  inflating: data/images/thumb-0000812.jpg  \n",
      "  inflating: data/images/thumb-0000813.jpg  \n",
      "  inflating: data/images/thumb-0000814.jpg  \n",
      "  inflating: data/images/thumb-0000815.jpg  \n",
      "  inflating: data/images/thumb-0000816.jpg  \n",
      "  inflating: data/images/thumb-0000817.jpg  \n",
      "  inflating: data/images/thumb-0000818.jpg  \n",
      "  inflating: data/images/thumb-0000819.jpg  \n",
      "  inflating: data/images/thumb-0000820.jpg  \n",
      "  inflating: data/images/thumb-0000821.jpg  \n",
      "  inflating: data/images/thumb-0000822.jpg  \n",
      "  inflating: data/images/thumb-0000823.jpg  \n",
      "  inflating: data/images/thumb-0000824.jpg  \n",
      "  inflating: data/metadata.dat       \n",
      "  inflating: data/MRHistograms.txt   \n",
      "  inflating: data/SightingData.csv   \n",
      "  inflating: data/StripeCodes.txt    \n",
      "DATASET StripeSpotter: FINISHED.\n",
      "\n"
     ]
    },
    {
     "name": "stderr",
     "output_type": "stream",
     "text": [
      "Epoch 0:   0%|                                                                | 0/7 [00:00<?, ?it/s]/opt/conda/lib/python3.10/multiprocessing/popen_fork.py:66: RuntimeWarning: os.fork() was called. os.fork() is incompatible with multithreaded code, and JAX is multithreaded, so this will likely lead to a deadlock.\n",
      "  self.pid = os.fork()\n",
      "Epoch 0:  86%|████████████████████████████████████████████████        | 6/7 [00:23<00:03,  3.67s/it]/opt/conda/lib/python3.10/multiprocessing/popen_fork.py:66: RuntimeWarning: os.fork() was called. os.fork() is incompatible with multithreaded code, and JAX is multithreaded, so this will likely lead to a deadlock.\n",
      "  self.pid = os.fork()\n",
      "Epoch 0: 100%|████████████████████████████████████████████████████████| 7/7 [00:24<00:00,  3.44s/it]\n"
     ]
    },
    {
     "name": "stdout",
     "output_type": "stream",
     "text": [
      "Epoch 1: Average Loss = 35.538238525390625\n"
     ]
    },
    {
     "name": "stderr",
     "output_type": "stream",
     "text": [
      "Epoch 1: 100%|████████████████████████████████████████████████████████| 7/7 [00:24<00:00,  3.43s/it]\n"
     ]
    },
    {
     "name": "stdout",
     "output_type": "stream",
     "text": [
      "Epoch 2: Average Loss = 33.823246002197266\n"
     ]
    },
    {
     "name": "stderr",
     "output_type": "stream",
     "text": [
      "Epoch 2: 100%|████████████████████████████████████████████████████████| 7/7 [00:24<00:00,  3.43s/it]\n"
     ]
    },
    {
     "name": "stdout",
     "output_type": "stream",
     "text": [
      "Epoch 3: Average Loss = 32.688720703125\n"
     ]
    },
    {
     "name": "stderr",
     "output_type": "stream",
     "text": [
      "Epoch 3: 100%|████████████████████████████████████████████████████████| 7/7 [00:24<00:00,  3.43s/it]\n"
     ]
    },
    {
     "name": "stdout",
     "output_type": "stream",
     "text": [
      "Epoch 4: Average Loss = 31.451457977294922\n"
     ]
    },
    {
     "name": "stderr",
     "output_type": "stream",
     "text": [
      "Epoch 4: 100%|████████████████████████████████████████████████████████| 7/7 [00:23<00:00,  3.40s/it]\n"
     ]
    },
    {
     "name": "stdout",
     "output_type": "stream",
     "text": [
      "Epoch 5: Average Loss = 30.00971031188965\n"
     ]
    },
    {
     "name": "stderr",
     "output_type": "stream",
     "text": [
      "Epoch 5: 100%|████████████████████████████████████████████████████████| 7/7 [00:23<00:00,  3.41s/it]\n"
     ]
    },
    {
     "name": "stdout",
     "output_type": "stream",
     "text": [
      "Epoch 6: Average Loss = 28.380115509033203\n"
     ]
    },
    {
     "name": "stderr",
     "output_type": "stream",
     "text": [
      "Epoch 6: 100%|████████████████████████████████████████████████████████| 7/7 [00:24<00:00,  3.49s/it]\n"
     ]
    },
    {
     "name": "stdout",
     "output_type": "stream",
     "text": [
      "Epoch 7: Average Loss = 26.2613582611084\n"
     ]
    },
    {
     "name": "stderr",
     "output_type": "stream",
     "text": [
      "Epoch 7: 100%|████████████████████████████████████████████████████████| 7/7 [00:24<00:00,  3.47s/it]\n"
     ]
    },
    {
     "name": "stdout",
     "output_type": "stream",
     "text": [
      "Epoch 8: Average Loss = 23.820409774780273\n"
     ]
    },
    {
     "name": "stderr",
     "output_type": "stream",
     "text": [
      "Epoch 8: 100%|████████████████████████████████████████████████████████| 7/7 [00:23<00:00,  3.42s/it]\n"
     ]
    },
    {
     "name": "stdout",
     "output_type": "stream",
     "text": [
      "Epoch 9: Average Loss = 21.58468246459961\n"
     ]
    },
    {
     "name": "stderr",
     "output_type": "stream",
     "text": [
      "Epoch 9: 100%|████████████████████████████████████████████████████████| 7/7 [00:24<00:00,  3.44s/it]\n"
     ]
    },
    {
     "name": "stdout",
     "output_type": "stream",
     "text": [
      "Epoch 10: Average Loss = 18.871822357177734\n"
     ]
    },
    {
     "name": "stderr",
     "output_type": "stream",
     "text": [
      "Epoch 10: 100%|███████████████████████████████████████████████████████| 7/7 [00:24<00:00,  3.43s/it]\n"
     ]
    },
    {
     "name": "stdout",
     "output_type": "stream",
     "text": [
      "Epoch 11: Average Loss = 16.716543197631836\n"
     ]
    },
    {
     "name": "stderr",
     "output_type": "stream",
     "text": [
      "Epoch 11: 100%|███████████████████████████████████████████████████████| 7/7 [00:24<00:00,  3.50s/it]\n"
     ]
    },
    {
     "name": "stdout",
     "output_type": "stream",
     "text": [
      "Epoch 12: Average Loss = 14.714719772338867\n"
     ]
    },
    {
     "name": "stderr",
     "output_type": "stream",
     "text": [
      "Epoch 12: 100%|███████████████████████████████████████████████████████| 7/7 [00:24<00:00,  3.47s/it]\n"
     ]
    },
    {
     "name": "stdout",
     "output_type": "stream",
     "text": [
      "Epoch 13: Average Loss = 13.221986770629883\n"
     ]
    },
    {
     "name": "stderr",
     "output_type": "stream",
     "text": [
      "Epoch 13: 100%|███████████████████████████████████████████████████████| 7/7 [00:23<00:00,  3.41s/it]\n"
     ]
    },
    {
     "name": "stdout",
     "output_type": "stream",
     "text": [
      "Epoch 14: Average Loss = 11.605237007141113\n"
     ]
    },
    {
     "name": "stderr",
     "output_type": "stream",
     "text": [
      "Epoch 14: 100%|███████████████████████████████████████████████████████| 7/7 [00:24<00:00,  3.46s/it]\n"
     ]
    },
    {
     "name": "stdout",
     "output_type": "stream",
     "text": [
      "Epoch 15: Average Loss = 10.596112251281738\n"
     ]
    },
    {
     "name": "stderr",
     "output_type": "stream",
     "text": [
      "Epoch 15: 100%|███████████████████████████████████████████████████████| 7/7 [00:24<00:00,  3.45s/it]\n"
     ]
    },
    {
     "name": "stdout",
     "output_type": "stream",
     "text": [
      "Epoch 16: Average Loss = 8.595183372497559\n"
     ]
    },
    {
     "name": "stderr",
     "output_type": "stream",
     "text": [
      "Epoch 16: 100%|███████████████████████████████████████████████████████| 7/7 [00:24<00:00,  3.47s/it]\n"
     ]
    },
    {
     "name": "stdout",
     "output_type": "stream",
     "text": [
      "Epoch 17: Average Loss = 7.42734956741333\n"
     ]
    },
    {
     "name": "stderr",
     "output_type": "stream",
     "text": [
      "Epoch 17: 100%|███████████████████████████████████████████████████████| 7/7 [00:23<00:00,  3.42s/it]\n"
     ]
    },
    {
     "name": "stdout",
     "output_type": "stream",
     "text": [
      "Epoch 18: Average Loss = 6.58345365524292\n"
     ]
    },
    {
     "name": "stderr",
     "output_type": "stream",
     "text": [
      "Epoch 18: 100%|███████████████████████████████████████████████████████| 7/7 [00:24<00:00,  3.45s/it]\n"
     ]
    },
    {
     "name": "stdout",
     "output_type": "stream",
     "text": [
      "Epoch 19: Average Loss = 5.542449474334717\n"
     ]
    },
    {
     "name": "stderr",
     "output_type": "stream",
     "text": [
      "Epoch 19: 100%|███████████████████████████████████████████████████████| 7/7 [00:23<00:00,  3.41s/it]"
     ]
    },
    {
     "name": "stdout",
     "output_type": "stream",
     "text": [
      "Epoch 20: Average Loss = 5.253093719482422\n"
     ]
    },
    {
     "name": "stderr",
     "output_type": "stream",
     "text": [
      "\n"
     ]
    }
   ],
   "source": [
    "# Download dataset (if not already downloaded)\n",
    "datasets.StripeSpotter.get_data('../data/StripeSpotter')\n",
    "# Load dataset metadata\n",
    "metadata = datasets.StripeSpotter('../data/StripeSpotter')\n",
    "transform = T.Compose([T.Resize([224, 224]), T.ToTensor(), T.Normalize(mean=(0.485, 0.456, 0.406), std=(0.229, 0.224, 0.225))])\n",
    "dataset = WildlifeDataset(metadata.df, metadata.root, transform=transform)\n",
    "\n",
    "\n",
    "# Download MegaDescriptor-T backbone from HuggingFace Hub\n",
    "backbone = timm.create_model('hf-hub:BVRA/MegaDescriptor-T-224', num_classes=0, pretrained=True)\n",
    "\n",
    "# Arcface loss - needs backbone output size and number of classes.\n",
    "objective = ArcFaceLoss(\n",
    "    num_classes=dataset.num_classes,\n",
    "    embedding_size=768,\n",
    "    margin=0.5,\n",
    "    scale=64\n",
    "    )\n",
    "\n",
    "# Optimize parameters in backbone and in objective using single optimizer.\n",
    "params = itertools.chain(backbone.parameters(), objective.parameters())\n",
    "optimizer = SGD(params=params, lr=0.001, momentum=0.9)\n",
    "\n",
    "def print_epoch_loss(trainer, epoch_data):\n",
    "    # This function will print the average loss at the end of each epoch\n",
    "    print(f\"Epoch {trainer.epoch}: Average Loss = {epoch_data['train_loss_epoch_avg']}\")\n",
    "\n",
    "\n",
    "trainer = BasicTrainer(\n",
    "    dataset=dataset,\n",
    "    model=backbone,\n",
    "    objective=objective,\n",
    "    optimizer=optimizer,\n",
    "    epochs=20,\n",
    "    device='cuda',\n",
    "    epoch_callback=print_epoch_loss\n",
    ")\n",
    "\n",
    "trainer.train()"
   ]
  },
  {
   "cell_type": "code",
   "execution_count": 38,
   "id": "51275db0",
   "metadata": {
    "execution": {
     "iopub.execute_input": "2024-08-06T05:06:57.432617Z",
     "iopub.status.busy": "2024-08-06T05:06:57.431703Z",
     "iopub.status.idle": "2024-08-06T05:06:57.752758Z",
     "shell.execute_reply": "2024-08-06T05:06:57.751953Z"
    },
    "papermill": {
     "duration": 0.635224,
     "end_time": "2024-08-06T05:06:57.755092",
     "exception": false,
     "start_time": "2024-08-06T05:06:57.119868",
     "status": "completed"
    },
    "tags": []
   },
   "outputs": [],
   "source": [
    "import torch\n",
    "trainer.save(\"retrained_chks\", file_name=\"arcfaceloass_StripeSpotter_retrained_checkpoint.pth\")"
   ]
  },
  {
   "cell_type": "code",
   "execution_count": 39,
   "id": "3774a09a",
   "metadata": {
    "execution": {
     "iopub.execute_input": "2024-08-06T05:06:58.439736Z",
     "iopub.status.busy": "2024-08-06T05:06:58.438620Z",
     "iopub.status.idle": "2024-08-06T05:06:58.447761Z",
     "shell.execute_reply": "2024-08-06T05:06:58.446682Z"
    },
    "papermill": {
     "duration": 0.332716,
     "end_time": "2024-08-06T05:06:58.449735",
     "exception": false,
     "start_time": "2024-08-06T05:06:58.117019",
     "status": "completed"
    },
    "tags": []
   },
   "outputs": [],
   "source": [
    "dataset_database_P = WildlifeDataset(metadata.df.iloc[100:,:], metadata.root, transform=transform)\n",
    "dataset_query_P = WildlifeDataset(metadata.df.iloc[:100,:], metadata.root, transform=transform)"
   ]
  },
  {
   "cell_type": "code",
   "execution_count": 40,
   "id": "4a05fb7a",
   "metadata": {
    "execution": {
     "iopub.execute_input": "2024-08-06T05:06:59.074445Z",
     "iopub.status.busy": "2024-08-06T05:06:59.073612Z",
     "iopub.status.idle": "2024-08-06T05:07:23.484596Z",
     "shell.execute_reply": "2024-08-06T05:07:23.483479Z"
    },
    "papermill": {
     "duration": 24.72293,
     "end_time": "2024-08-06T05:07:23.487097",
     "exception": false,
     "start_time": "2024-08-06T05:06:58.764167",
     "status": "completed"
    },
    "tags": []
   },
   "outputs": [
    {
     "name": "stderr",
     "output_type": "stream",
     "text": [
      "100%|█████████████████████████████████████████████████████████████████| 1/1 [00:03<00:00,  3.48s/it]\n",
      "100%|█████████████████████████████████████████████████████████████████| 6/6 [00:20<00:00,  3.48s/it]\n"
     ]
    }
   ],
   "source": [
    "# name = 'hf-hub:BVRA/MegaDescriptor-T-224'\n",
    "extractor_P = DeepFeatures(trainer.model , device = 'cuda')\n",
    "query_P, database_P = extractor_P(dataset_query_P), extractor_P(dataset_database_P)"
   ]
  },
  {
   "cell_type": "code",
   "execution_count": 41,
   "id": "3f8a7306",
   "metadata": {
    "execution": {
     "iopub.execute_input": "2024-08-06T05:07:24.112397Z",
     "iopub.status.busy": "2024-08-06T05:07:24.111467Z",
     "iopub.status.idle": "2024-08-06T05:07:24.121827Z",
     "shell.execute_reply": "2024-08-06T05:07:24.120702Z"
    },
    "papermill": {
     "duration": 0.324088,
     "end_time": "2024-08-06T05:07:24.123787",
     "exception": false,
     "start_time": "2024-08-06T05:07:23.799699",
     "status": "completed"
    },
    "tags": []
   },
   "outputs": [
    {
     "name": "stdout",
     "output_type": "stream",
     "text": [
      "{'cosine': array([[-0.01482271,  0.02251977,  0.05265947, ...,  0.0327915 ,\n",
      "        -0.08021441, -0.03684006],\n",
      "       [ 0.10741799,  0.05535059,  0.13566074, ...,  0.840462  ,\n",
      "         0.18438563, -0.09881208],\n",
      "       [ 0.19470608,  0.09089143, -0.02702202, ..., -0.00682867,\n",
      "        -0.04842671, -0.03993186],\n",
      "       ...,\n",
      "       [ 0.19450995,  0.18415596, -0.05738789, ...,  0.00270942,\n",
      "         0.12889415, -0.01274869],\n",
      "       [ 0.10239202,  0.0329514 , -0.17682053, ..., -0.03541449,\n",
      "         0.01095304, -0.0695518 ],\n",
      "       [ 0.00452232, -0.0351746 , -0.03980768, ...,  0.08968559,\n",
      "        -0.03407484, -0.06353452]], dtype=float32)}\n"
     ]
    }
   ],
   "source": [
    "similarity_function = CosineSimilarity()\n",
    "similarity_P = similarity_function(query_P, database_P)\n",
    "print(similarity_P)"
   ]
  },
  {
   "cell_type": "code",
   "execution_count": 42,
   "id": "efc7a1fa",
   "metadata": {
    "execution": {
     "iopub.execute_input": "2024-08-06T05:07:24.751124Z",
     "iopub.status.busy": "2024-08-06T05:07:24.750280Z",
     "iopub.status.idle": "2024-08-06T05:07:24.764573Z",
     "shell.execute_reply": "2024-08-06T05:07:24.763484Z"
    },
    "papermill": {
     "duration": 0.3291,
     "end_time": "2024-08-06T05:07:24.766909",
     "exception": false,
     "start_time": "2024-08-06T05:07:24.437809",
     "status": "completed"
    },
    "tags": []
   },
   "outputs": [
    {
     "name": "stdout",
     "output_type": "stream",
     "text": [
      "Predictions for 100 test Images:-\n",
      " ['09_212' 'S09_161' '08_085' '08_100' '09_200' 'OP05_625' '09_212'\n",
      " '02_149' '01_579' '08_034' '01_679' '08_078' '01_460' '10_002' '01_136'\n",
      " '09_212' '09_200' 'S09_111' '02_149' 'S09_069' '08_100' '01_363' '01_363'\n",
      " '08_078' '08_034' '01_805' '09_355' '08_085' 'OP05_546' '09_212' '08_100'\n",
      " 'S09_088' '09_182' 'S09_215' '02_162' '01_230' '08_085' '01_661'\n",
      " '02_1026' '09_185' '01_136' '01_661' '01_661' '02_161' '01_165' '02_161'\n",
      " 'S09_174' 'S09_067' '08_100' 'OP04_225' '02_149' 'S09_067' '09_200'\n",
      " '04_008' '01_661' '09_182' '01_805' '02_161' '10_002' '01_036' '02_149'\n",
      " '01_165' '09_212' 'S09_211' 'S09_215' '03_045' '01_579' 'OP04_225'\n",
      " '08_100' '08_100' '04_008' '09_212' 'OP05_625' 'OP05_625' '02_149'\n",
      " '01_230' '09_200' 'OP05_625' '01_661' 'OP04_225' '01_661' '09_212'\n",
      " 'S09_174' '01_679' '01_661' 'S09_067' 'S09_111' 'S09_112' '09_212'\n",
      " 'OP05_625' '02_161' '09_185' '04_008' '08_100' '01_460' '01_679'\n",
      " 'S09_111' '01_679' '01_036' 'S09_067']\n"
     ]
    },
    {
     "name": "stderr",
     "output_type": "stream",
     "text": [
      "/opt/conda/lib/python3.10/site-packages/wildlife_tools/inference/classifier.py:61: FutureWarning: DataFrame.fillna with 'method' is deprecated and will raise in a future version. Use obj.ffill() or obj.bfill() instead.\n",
      "  results = pd.DataFrame(results).T.fillna(method=\"ffill\").T\n"
     ]
    }
   ],
   "source": [
    "classifier_P = KnnClassifier(k=1, database_labels=dataset_database_P.labels_string)\n",
    "predictions_P = classifier_P(similarity_P['cosine'])\n",
    "print(\"Predictions for 100 test Images:-\\n\",predictions_P)"
   ]
  },
  {
   "cell_type": "code",
   "execution_count": 43,
   "id": "909bb750",
   "metadata": {
    "execution": {
     "iopub.execute_input": "2024-08-06T05:07:25.395981Z",
     "iopub.status.busy": "2024-08-06T05:07:25.395182Z",
     "iopub.status.idle": "2024-08-06T05:07:25.400552Z",
     "shell.execute_reply": "2024-08-06T05:07:25.399709Z"
    },
    "papermill": {
     "duration": 0.317186,
     "end_time": "2024-08-06T05:07:25.402760",
     "exception": false,
     "start_time": "2024-08-06T05:07:25.085574",
     "status": "completed"
    },
    "tags": []
   },
   "outputs": [
    {
     "name": "stdout",
     "output_type": "stream",
     "text": [
      "Accuracy on StripeSpotter data: 99.00%\n"
     ]
    }
   ],
   "source": [
    "accuracy_P = np.mean(dataset_query_P.labels_string == predictions_P)\n",
    "print(\"Accuracy on StripeSpotter data: {:.2f}%\".format(accuracy_P * 100))"
   ]
  },
  {
   "cell_type": "code",
   "execution_count": 44,
   "id": "faf4e306",
   "metadata": {
    "execution": {
     "iopub.execute_input": "2024-08-06T05:07:26.075231Z",
     "iopub.status.busy": "2024-08-06T05:07:26.074421Z",
     "iopub.status.idle": "2024-08-06T05:07:26.089852Z",
     "shell.execute_reply": "2024-08-06T05:07:26.088891Z"
    },
    "papermill": {
     "duration": 0.379077,
     "end_time": "2024-08-06T05:07:26.091692",
     "exception": false,
     "start_time": "2024-08-06T05:07:25.712615",
     "status": "completed"
    },
    "tags": []
   },
   "outputs": [
    {
     "name": "stdout",
     "output_type": "stream",
     "text": [
      "Precision: 0.992\n",
      "Recall: 0.99\n",
      "F1 Score: 0.9855555555555555\n"
     ]
    }
   ],
   "source": [
    "precision_P = precision_score(dataset_query_P.labels_string, predictions_P, average='weighted',zero_division=1)\n",
    "recall_P = recall_score(dataset_query_P.labels_string, predictions_P, average='weighted',zero_division=1)\n",
    "f1_P = f1_score(dataset_query_P.labels_string, predictions_P, average='weighted',zero_division=1)\n",
    "print(\"Precision:\", precision_P)\n",
    "print(\"Recall:\", recall_P)\n",
    "print(\"F1 Score:\", f1_P)"
   ]
  },
  {
   "cell_type": "markdown",
   "id": "94e43886",
   "metadata": {
    "papermill": {
     "duration": 0.310019,
     "end_time": "2024-08-06T05:07:26.711482",
     "exception": false,
     "start_time": "2024-08-06T05:07:26.401463",
     "status": "completed"
    },
    "tags": []
   },
   "source": [
    "**CZoo Dataset**"
   ]
  },
  {
   "cell_type": "code",
   "execution_count": 45,
   "id": "40288c08",
   "metadata": {
    "execution": {
     "iopub.execute_input": "2024-08-06T05:07:27.332594Z",
     "iopub.status.busy": "2024-08-06T05:07:27.331797Z",
     "iopub.status.idle": "2024-08-06T05:17:28.549864Z",
     "shell.execute_reply": "2024-08-06T05:17:28.548751Z"
    },
    "papermill": {
     "duration": 601.529857,
     "end_time": "2024-08-06T05:17:28.552154",
     "exception": false,
     "start_time": "2024-08-06T05:07:27.022297",
     "status": "completed"
    },
    "tags": []
   },
   "outputs": [
    {
     "name": "stdout",
     "output_type": "stream",
     "text": [
      "DATASET CZoo: DOWNLOADING STARTED.\n"
     ]
    },
    {
     "name": "stderr",
     "output_type": "stream",
     "text": [
      "master.zip: 634MB [00:19, 32.1MB/s]\n"
     ]
    },
    {
     "name": "stdout",
     "output_type": "stream",
     "text": [
      "DATASET CZoo: EXTRACTING STARTED.\n",
      "DATASET CZoo: FINISHED.\n",
      "\n"
     ]
    },
    {
     "name": "stderr",
     "output_type": "stream",
     "text": [
      "Epoch 0:   0%|                                                               | 0/17 [00:00<?, ?it/s]/opt/conda/lib/python3.10/multiprocessing/popen_fork.py:66: RuntimeWarning: os.fork() was called. os.fork() is incompatible with multithreaded code, and JAX is multithreaded, so this will likely lead to a deadlock.\n",
      "  self.pid = os.fork()\n",
      "Epoch 0:  94%|██████████████████████████████████████████████████▊   | 16/17 [00:28<00:01,  1.75s/it]/opt/conda/lib/python3.10/multiprocessing/popen_fork.py:66: RuntimeWarning: os.fork() was called. os.fork() is incompatible with multithreaded code, and JAX is multithreaded, so this will likely lead to a deadlock.\n",
      "  self.pid = os.fork()\n",
      "Epoch 0: 100%|██████████████████████████████████████████████████████| 17/17 [00:29<00:00,  1.73s/it]\n"
     ]
    },
    {
     "name": "stdout",
     "output_type": "stream",
     "text": [
      "Epoch 1: Average Loss = 32.347801208496094\n"
     ]
    },
    {
     "name": "stderr",
     "output_type": "stream",
     "text": [
      "Epoch 1: 100%|██████████████████████████████████████████████████████| 17/17 [00:29<00:00,  1.72s/it]\n"
     ]
    },
    {
     "name": "stdout",
     "output_type": "stream",
     "text": [
      "Epoch 2: Average Loss = 21.0889835357666\n"
     ]
    },
    {
     "name": "stderr",
     "output_type": "stream",
     "text": [
      "Epoch 2: 100%|██████████████████████████████████████████████████████| 17/17 [00:28<00:00,  1.66s/it]\n"
     ]
    },
    {
     "name": "stdout",
     "output_type": "stream",
     "text": [
      "Epoch 3: Average Loss = 10.945374488830566\n"
     ]
    },
    {
     "name": "stderr",
     "output_type": "stream",
     "text": [
      "Epoch 3: 100%|██████████████████████████████████████████████████████| 17/17 [00:29<00:00,  1.71s/it]\n"
     ]
    },
    {
     "name": "stdout",
     "output_type": "stream",
     "text": [
      "Epoch 4: Average Loss = 5.906420707702637\n"
     ]
    },
    {
     "name": "stderr",
     "output_type": "stream",
     "text": [
      "Epoch 4: 100%|██████████████████████████████████████████████████████| 17/17 [00:28<00:00,  1.71s/it]\n"
     ]
    },
    {
     "name": "stdout",
     "output_type": "stream",
     "text": [
      "Epoch 5: Average Loss = 3.504091262817383\n"
     ]
    },
    {
     "name": "stderr",
     "output_type": "stream",
     "text": [
      "Epoch 5: 100%|██████████████████████████████████████████████████████| 17/17 [00:28<00:00,  1.68s/it]\n"
     ]
    },
    {
     "name": "stdout",
     "output_type": "stream",
     "text": [
      "Epoch 6: Average Loss = 2.523857355117798\n"
     ]
    },
    {
     "name": "stderr",
     "output_type": "stream",
     "text": [
      "Epoch 6: 100%|██████████████████████████████████████████████████████| 17/17 [00:28<00:00,  1.68s/it]\n"
     ]
    },
    {
     "name": "stdout",
     "output_type": "stream",
     "text": [
      "Epoch 7: Average Loss = 2.0117383003234863\n"
     ]
    },
    {
     "name": "stderr",
     "output_type": "stream",
     "text": [
      "Epoch 7: 100%|██████████████████████████████████████████████████████| 17/17 [00:28<00:00,  1.70s/it]\n"
     ]
    },
    {
     "name": "stdout",
     "output_type": "stream",
     "text": [
      "Epoch 8: Average Loss = 1.647497296333313\n"
     ]
    },
    {
     "name": "stderr",
     "output_type": "stream",
     "text": [
      "Epoch 8: 100%|██████████████████████████████████████████████████████| 17/17 [00:28<00:00,  1.68s/it]\n"
     ]
    },
    {
     "name": "stdout",
     "output_type": "stream",
     "text": [
      "Epoch 9: Average Loss = 1.661150574684143\n"
     ]
    },
    {
     "name": "stderr",
     "output_type": "stream",
     "text": [
      "Epoch 9: 100%|██████████████████████████████████████████████████████| 17/17 [00:28<00:00,  1.69s/it]\n"
     ]
    },
    {
     "name": "stdout",
     "output_type": "stream",
     "text": [
      "Epoch 10: Average Loss = 1.3273173570632935\n"
     ]
    },
    {
     "name": "stderr",
     "output_type": "stream",
     "text": [
      "Epoch 10: 100%|█████████████████████████████████████████████████████| 17/17 [00:28<00:00,  1.70s/it]\n"
     ]
    },
    {
     "name": "stdout",
     "output_type": "stream",
     "text": [
      "Epoch 11: Average Loss = 1.1798405647277832\n"
     ]
    },
    {
     "name": "stderr",
     "output_type": "stream",
     "text": [
      "Epoch 11: 100%|█████████████████████████████████████████████████████| 17/17 [00:28<00:00,  1.70s/it]\n"
     ]
    },
    {
     "name": "stdout",
     "output_type": "stream",
     "text": [
      "Epoch 12: Average Loss = 1.0961227416992188\n"
     ]
    },
    {
     "name": "stderr",
     "output_type": "stream",
     "text": [
      "Epoch 12: 100%|█████████████████████████████████████████████████████| 17/17 [00:28<00:00,  1.69s/it]\n"
     ]
    },
    {
     "name": "stdout",
     "output_type": "stream",
     "text": [
      "Epoch 13: Average Loss = 1.018984079360962\n"
     ]
    },
    {
     "name": "stderr",
     "output_type": "stream",
     "text": [
      "Epoch 13: 100%|█████████████████████████████████████████████████████| 17/17 [00:28<00:00,  1.70s/it]\n"
     ]
    },
    {
     "name": "stdout",
     "output_type": "stream",
     "text": [
      "Epoch 14: Average Loss = 0.851070761680603\n"
     ]
    },
    {
     "name": "stderr",
     "output_type": "stream",
     "text": [
      "Epoch 14: 100%|█████████████████████████████████████████████████████| 17/17 [00:28<00:00,  1.69s/it]\n"
     ]
    },
    {
     "name": "stdout",
     "output_type": "stream",
     "text": [
      "Epoch 15: Average Loss = 0.906930685043335\n"
     ]
    },
    {
     "name": "stderr",
     "output_type": "stream",
     "text": [
      "Epoch 15: 100%|█████████████████████████████████████████████████████| 17/17 [00:28<00:00,  1.70s/it]\n"
     ]
    },
    {
     "name": "stdout",
     "output_type": "stream",
     "text": [
      "Epoch 16: Average Loss = 0.6622859835624695\n"
     ]
    },
    {
     "name": "stderr",
     "output_type": "stream",
     "text": [
      "Epoch 16: 100%|█████████████████████████████████████████████████████| 17/17 [00:28<00:00,  1.70s/it]\n"
     ]
    },
    {
     "name": "stdout",
     "output_type": "stream",
     "text": [
      "Epoch 17: Average Loss = 0.5993791222572327\n"
     ]
    },
    {
     "name": "stderr",
     "output_type": "stream",
     "text": [
      "Epoch 17: 100%|█████████████████████████████████████████████████████| 17/17 [00:28<00:00,  1.70s/it]\n"
     ]
    },
    {
     "name": "stdout",
     "output_type": "stream",
     "text": [
      "Epoch 18: Average Loss = 0.5814058184623718\n"
     ]
    },
    {
     "name": "stderr",
     "output_type": "stream",
     "text": [
      "Epoch 18: 100%|█████████████████████████████████████████████████████| 17/17 [00:28<00:00,  1.68s/it]\n"
     ]
    },
    {
     "name": "stdout",
     "output_type": "stream",
     "text": [
      "Epoch 19: Average Loss = 0.5263033509254456\n"
     ]
    },
    {
     "name": "stderr",
     "output_type": "stream",
     "text": [
      "Epoch 19: 100%|█████████████████████████████████████████████████████| 17/17 [00:28<00:00,  1.70s/it]"
     ]
    },
    {
     "name": "stdout",
     "output_type": "stream",
     "text": [
      "Epoch 20: Average Loss = 0.4195416569709778\n"
     ]
    },
    {
     "name": "stderr",
     "output_type": "stream",
     "text": [
      "\n"
     ]
    }
   ],
   "source": [
    "# Download dataset (if not already downloaded)\n",
    "datasets.CZoo.get_data('../data/CZoo')\n",
    "# Load dataset metadata\n",
    "metadata = datasets.CZoo('../data/CZoo')\n",
    "transform = T.Compose([T.Resize([224, 224]), T.ToTensor(), T.Normalize(mean=(0.485, 0.456, 0.406), std=(0.229, 0.224, 0.225))])\n",
    "dataset = WildlifeDataset(metadata.df, metadata.root, transform=transform)\n",
    "\n",
    "\n",
    "# Download MegaDescriptor-T backbone from HuggingFace Hub\n",
    "backbone = timm.create_model('hf-hub:BVRA/MegaDescriptor-T-224', num_classes=0, pretrained=True)\n",
    "\n",
    "# Arcface loss - needs backbone output size and number of classes.\n",
    "objective = ArcFaceLoss(\n",
    "    num_classes=dataset.num_classes,\n",
    "    embedding_size=768,\n",
    "    margin=0.5,\n",
    "    scale=64\n",
    "    )\n",
    "\n",
    "# Optimize parameters in backbone and in objective using single optimizer.\n",
    "params = itertools.chain(backbone.parameters(), objective.parameters())\n",
    "optimizer = SGD(params=params, lr=0.001, momentum=0.9)\n",
    "\n",
    "def print_epoch_loss(trainer, epoch_data):\n",
    "    # This function will print the average loss at the end of each epoch\n",
    "    print(f\"Epoch {trainer.epoch}: Average Loss = {epoch_data['train_loss_epoch_avg']}\")\n",
    "\n",
    "\n",
    "trainer = BasicTrainer(\n",
    "    dataset=dataset,\n",
    "    model=backbone,\n",
    "    objective=objective,\n",
    "    optimizer=optimizer,\n",
    "    epochs=20,\n",
    "    device='cuda',\n",
    "    epoch_callback=print_epoch_loss\n",
    ")\n",
    "\n",
    "trainer.train()"
   ]
  },
  {
   "cell_type": "code",
   "execution_count": 46,
   "id": "69573d84",
   "metadata": {
    "execution": {
     "iopub.execute_input": "2024-08-06T05:17:29.331141Z",
     "iopub.status.busy": "2024-08-06T05:17:29.330775Z",
     "iopub.status.idle": "2024-08-06T05:17:29.676178Z",
     "shell.execute_reply": "2024-08-06T05:17:29.675381Z"
    },
    "papermill": {
     "duration": 0.766088,
     "end_time": "2024-08-06T05:17:29.678555",
     "exception": false,
     "start_time": "2024-08-06T05:17:28.912467",
     "status": "completed"
    },
    "tags": []
   },
   "outputs": [],
   "source": [
    "import torch\n",
    "trainer.save(\"retrained_chks\", file_name=\"arcfaceloass_CZoo_retrained_checkpoint.pth\")"
   ]
  },
  {
   "cell_type": "code",
   "execution_count": 47,
   "id": "14754cb4",
   "metadata": {
    "execution": {
     "iopub.execute_input": "2024-08-06T05:17:30.410889Z",
     "iopub.status.busy": "2024-08-06T05:17:30.409829Z",
     "iopub.status.idle": "2024-08-06T05:17:48.068821Z",
     "shell.execute_reply": "2024-08-06T05:17:48.067715Z"
    },
    "papermill": {
     "duration": 18.030843,
     "end_time": "2024-08-06T05:17:48.071036",
     "exception": false,
     "start_time": "2024-08-06T05:17:30.040193",
     "status": "completed"
    },
    "tags": []
   },
   "outputs": [
    {
     "name": "stderr",
     "output_type": "stream",
     "text": [
      "100%|█████████████████████████████████████████████████████████████████| 1/1 [00:01<00:00,  1.67s/it]\n",
      "100%|███████████████████████████████████████████████████████████████| 16/16 [00:15<00:00,  1.00it/s]\n"
     ]
    }
   ],
   "source": [
    "dataset_database_P = WildlifeDataset(metadata.df.iloc[100:,:], metadata.root, transform=transform)\n",
    "dataset_query_P = WildlifeDataset(metadata.df.iloc[:100,:], metadata.root, transform=transform)\n",
    "\n",
    "# name = 'hf-hub:BVRA/MegaDescriptor-T-224'\n",
    "extractor_P = DeepFeatures(trainer.model , device = 'cuda')\n",
    "query_P, database_P = extractor_P(dataset_query_P), extractor_P(dataset_database_P)"
   ]
  },
  {
   "cell_type": "code",
   "execution_count": 48,
   "id": "9a0993ea",
   "metadata": {
    "execution": {
     "iopub.execute_input": "2024-08-06T05:17:48.794381Z",
     "iopub.status.busy": "2024-08-06T05:17:48.793523Z",
     "iopub.status.idle": "2024-08-06T05:17:48.806679Z",
     "shell.execute_reply": "2024-08-06T05:17:48.805435Z"
    },
    "papermill": {
     "duration": 0.375981,
     "end_time": "2024-08-06T05:17:48.808817",
     "exception": false,
     "start_time": "2024-08-06T05:17:48.432836",
     "status": "completed"
    },
    "tags": []
   },
   "outputs": [
    {
     "name": "stdout",
     "output_type": "stream",
     "text": [
      "{'cosine': array([[ 0.9278866 ,  0.93542147,  0.9249872 , ...,  0.05817145,\n",
      "        -0.04902707,  0.0166591 ],\n",
      "       [ 0.9573866 ,  0.9496364 ,  0.9387225 , ...,  0.07305826,\n",
      "        -0.03971243,  0.00935403],\n",
      "       [ 0.94516134,  0.95462775,  0.93582535, ...,  0.0483136 ,\n",
      "        -0.04772014,  0.02035457],\n",
      "       ...,\n",
      "       [ 0.9569787 ,  0.97808146,  0.9634459 , ...,  0.04226884,\n",
      "        -0.04084624,  0.04665694],\n",
      "       [ 0.9647658 ,  0.9765996 ,  0.96618026, ...,  0.04295793,\n",
      "        -0.05440514,  0.04071505],\n",
      "       [ 0.9610641 ,  0.9791463 ,  0.96649003, ...,  0.03189659,\n",
      "        -0.04389849,  0.03158419]], dtype=float32)}\n"
     ]
    }
   ],
   "source": [
    "similarity_function = CosineSimilarity()\n",
    "similarity_P = similarity_function(query_P, database_P)\n",
    "print(similarity_P)"
   ]
  },
  {
   "cell_type": "code",
   "execution_count": 49,
   "id": "8966221b",
   "metadata": {
    "execution": {
     "iopub.execute_input": "2024-08-06T05:17:49.529574Z",
     "iopub.status.busy": "2024-08-06T05:17:49.529212Z",
     "iopub.status.idle": "2024-08-06T05:17:49.543139Z",
     "shell.execute_reply": "2024-08-06T05:17:49.541941Z"
    },
    "papermill": {
     "duration": 0.376025,
     "end_time": "2024-08-06T05:17:49.545222",
     "exception": false,
     "start_time": "2024-08-06T05:17:49.169197",
     "status": "completed"
    },
    "tags": []
   },
   "outputs": [
    {
     "name": "stdout",
     "output_type": "stream",
     "text": [
      "Predictions for 100 test Images:-\n",
      " ['Alex' 'Alex' 'Alex' 'Jahaga' 'Jahaga' 'Alex' 'Alex' 'Jahaga' 'Alex'\n",
      " 'Jahaga' 'Alex' 'Alex' 'Alex' 'Alex' 'Alex' 'Alex' 'Alex' 'Alex' 'Alex'\n",
      " 'Alex' 'Alex' 'Alex' 'Alexandra' 'Alexandra' 'Alexandra' 'Alexandra'\n",
      " 'Alexandra' 'Alexandra' 'Alexandra' 'Alexandra' 'Alexandra' 'Alexandra'\n",
      " 'Alexandra' 'Gertrudia' 'Gertrudia' 'Gertrudia' 'Alexandra' 'Alexandra'\n",
      " 'Alexandra' 'Alexandra' 'Alexandra' 'Alexandra' 'Alexandra' 'Alexandra'\n",
      " 'Alexandra' 'Annett' 'Annett' 'Alexandra' 'Alexandra' 'Alexandra'\n",
      " 'Alexandra' 'Alexandra' 'Alexandra' 'Alexandra' 'Alexandra' 'Alexandra'\n",
      " 'Alexandra' 'Alexandra' 'Alexandra' 'Alexandra' 'Alexandra' 'Alexandra'\n",
      " 'Alexandra' 'Alexandra' 'Alexandra' 'Alexandra' 'Alexandra' 'Alexandra'\n",
      " 'Alexandra' 'Alexandra' 'Alexandra' 'Alexandra' 'Alexandra' 'Alexandra'\n",
      " 'Alexandra' 'Alexandra' 'Alexandra' 'Alexandra' 'Alexandra' 'Alexandra'\n",
      " 'Alexandra' 'Alexandra' 'Alexandra' 'Alexandra' 'Alexandra' 'Alexandra'\n",
      " 'Alexandra' 'Alexandra' 'Alexandra' 'Alexandra' 'Alexandra' 'Alexandra'\n",
      " 'Alexandra' 'Alexandra' 'Alex' 'Alex' 'Alex' 'Alex' 'Alex' 'Alex']\n"
     ]
    },
    {
     "name": "stderr",
     "output_type": "stream",
     "text": [
      "/opt/conda/lib/python3.10/site-packages/wildlife_tools/inference/classifier.py:61: FutureWarning: DataFrame.fillna with 'method' is deprecated and will raise in a future version. Use obj.ffill() or obj.bfill() instead.\n",
      "  results = pd.DataFrame(results).T.fillna(method=\"ffill\").T\n"
     ]
    }
   ],
   "source": [
    "classifier_P = KnnClassifier(k=1, database_labels=dataset_database_P.labels_string)\n",
    "predictions_P = classifier_P(similarity_P['cosine'])\n",
    "print(\"Predictions for 100 test Images:-\\n\",predictions_P)"
   ]
  },
  {
   "cell_type": "code",
   "execution_count": 50,
   "id": "84fc71c7",
   "metadata": {
    "execution": {
     "iopub.execute_input": "2024-08-06T05:17:50.284632Z",
     "iopub.status.busy": "2024-08-06T05:17:50.284262Z",
     "iopub.status.idle": "2024-08-06T05:17:50.289659Z",
     "shell.execute_reply": "2024-08-06T05:17:50.288807Z"
    },
    "papermill": {
     "duration": 0.379438,
     "end_time": "2024-08-06T05:17:50.291925",
     "exception": false,
     "start_time": "2024-08-06T05:17:49.912487",
     "status": "completed"
    },
    "tags": []
   },
   "outputs": [
    {
     "name": "stdout",
     "output_type": "stream",
     "text": [
      "Accuracy on Czoo data: 100.00%\n"
     ]
    }
   ],
   "source": [
    "accuracy_P = np.mean(dataset_query_P.labels_string == predictions_P)\n",
    "print(\"Accuracy on Czoo data: {:.2f}%\".format(accuracy_P * 100))"
   ]
  },
  {
   "cell_type": "code",
   "execution_count": 51,
   "id": "4d4e2df4",
   "metadata": {
    "execution": {
     "iopub.execute_input": "2024-08-06T05:17:51.062180Z",
     "iopub.status.busy": "2024-08-06T05:17:51.061823Z",
     "iopub.status.idle": "2024-08-06T05:17:51.078411Z",
     "shell.execute_reply": "2024-08-06T05:17:51.077483Z"
    },
    "papermill": {
     "duration": 0.378289,
     "end_time": "2024-08-06T05:17:51.080332",
     "exception": false,
     "start_time": "2024-08-06T05:17:50.702043",
     "status": "completed"
    },
    "tags": []
   },
   "outputs": [
    {
     "name": "stdout",
     "output_type": "stream",
     "text": [
      "Precision: 1.0\n",
      "Recall: 1.0\n",
      "F1 Score: 1.0\n"
     ]
    }
   ],
   "source": [
    "precision_P = precision_score(dataset_query_P.labels_string, predictions_P, average='weighted',zero_division=1)\n",
    "recall_P = recall_score(dataset_query_P.labels_string, predictions_P, average='weighted',zero_division=1)\n",
    "f1_P = f1_score(dataset_query_P.labels_string, predictions_P, average='weighted',zero_division=1)\n",
    "print(\"Precision:\", precision_P)\n",
    "print(\"Recall:\", recall_P)\n",
    "print(\"F1 Score:\", f1_P)"
   ]
  },
  {
   "cell_type": "markdown",
   "id": "9f6e89e6",
   "metadata": {
    "papermill": {
     "duration": 0.356742,
     "end_time": "2024-08-06T05:17:51.796619",
     "exception": false,
     "start_time": "2024-08-06T05:17:51.439877",
     "status": "completed"
    },
    "tags": []
   },
   "source": [
    "**CowDataset**"
   ]
  },
  {
   "cell_type": "code",
   "execution_count": 52,
   "id": "a283fdcb",
   "metadata": {
    "execution": {
     "iopub.execute_input": "2024-08-06T05:17:52.520168Z",
     "iopub.status.busy": "2024-08-06T05:17:52.519819Z",
     "iopub.status.idle": "2024-08-06T06:35:45.835821Z",
     "shell.execute_reply": "2024-08-06T06:35:45.834541Z"
    },
    "papermill": {
     "duration": 4673.680994,
     "end_time": "2024-08-06T06:35:45.838008",
     "exception": false,
     "start_time": "2024-08-06T05:17:52.157014",
     "status": "completed"
    },
    "tags": []
   },
   "outputs": [
    {
     "name": "stdout",
     "output_type": "stream",
     "text": [
      "DATASET CowDataset: DOWNLOADING STARTED.\n"
     ]
    },
    {
     "name": "stderr",
     "output_type": "stream",
     "text": [
      "31210192: 4.45GB [02:59, 24.8MB/s]                            \n"
     ]
    },
    {
     "name": "stdout",
     "output_type": "stream",
     "text": [
      "DATASET CowDataset: EXTRACTING STARTED.\n",
      "DATASET CowDataset: FINISHED.\n",
      "\n"
     ]
    },
    {
     "name": "stderr",
     "output_type": "stream",
     "text": [
      "Epoch 0:   0%|                                                               | 0/12 [00:00<?, ?it/s]/opt/conda/lib/python3.10/multiprocessing/popen_fork.py:66: RuntimeWarning: os.fork() was called. os.fork() is incompatible with multithreaded code, and JAX is multithreaded, so this will likely lead to a deadlock.\n",
      "  self.pid = os.fork()\n",
      "Epoch 0: 100%|██████████████████████████████████████████████████████| 12/12 [03:55<00:00, 17.63s/it]/opt/conda/lib/python3.10/multiprocessing/popen_fork.py:66: RuntimeWarning: os.fork() was called. os.fork() is incompatible with multithreaded code, and JAX is multithreaded, so this will likely lead to a deadlock.\n",
      "  self.pid = os.fork()\n",
      "Epoch 0: 100%|██████████████████████████████████████████████████████| 12/12 [03:55<00:00, 19.62s/it]\n"
     ]
    },
    {
     "name": "stdout",
     "output_type": "stream",
     "text": [
      "Epoch 1: Average Loss = 32.5689582824707\n"
     ]
    },
    {
     "name": "stderr",
     "output_type": "stream",
     "text": [
      "Epoch 1: 100%|██████████████████████████████████████████████████████| 12/12 [03:35<00:00, 17.97s/it]\n"
     ]
    },
    {
     "name": "stdout",
     "output_type": "stream",
     "text": [
      "Epoch 2: Average Loss = 26.36872673034668\n"
     ]
    },
    {
     "name": "stderr",
     "output_type": "stream",
     "text": [
      "Epoch 2: 100%|██████████████████████████████████████████████████████| 12/12 [03:46<00:00, 18.85s/it]\n"
     ]
    },
    {
     "name": "stdout",
     "output_type": "stream",
     "text": [
      "Epoch 3: Average Loss = 17.193836212158203\n"
     ]
    },
    {
     "name": "stderr",
     "output_type": "stream",
     "text": [
      "Epoch 3: 100%|██████████████████████████████████████████████████████| 12/12 [03:52<00:00, 19.36s/it]\n"
     ]
    },
    {
     "name": "stdout",
     "output_type": "stream",
     "text": [
      "Epoch 4: Average Loss = 8.434155464172363\n"
     ]
    },
    {
     "name": "stderr",
     "output_type": "stream",
     "text": [
      "Epoch 4: 100%|██████████████████████████████████████████████████████| 12/12 [03:44<00:00, 18.69s/it]\n"
     ]
    },
    {
     "name": "stdout",
     "output_type": "stream",
     "text": [
      "Epoch 5: Average Loss = 3.722186803817749\n"
     ]
    },
    {
     "name": "stderr",
     "output_type": "stream",
     "text": [
      "Epoch 5: 100%|██████████████████████████████████████████████████████| 12/12 [03:45<00:00, 18.83s/it]\n"
     ]
    },
    {
     "name": "stdout",
     "output_type": "stream",
     "text": [
      "Epoch 6: Average Loss = 1.775511622428894\n"
     ]
    },
    {
     "name": "stderr",
     "output_type": "stream",
     "text": [
      "Epoch 6: 100%|██████████████████████████████████████████████████████| 12/12 [03:54<00:00, 19.52s/it]\n"
     ]
    },
    {
     "name": "stdout",
     "output_type": "stream",
     "text": [
      "Epoch 7: Average Loss = 0.9877499938011169\n"
     ]
    },
    {
     "name": "stderr",
     "output_type": "stream",
     "text": [
      "Epoch 7: 100%|██████████████████████████████████████████████████████| 12/12 [03:55<00:00, 19.58s/it]\n"
     ]
    },
    {
     "name": "stdout",
     "output_type": "stream",
     "text": [
      "Epoch 8: Average Loss = 0.9953189492225647\n"
     ]
    },
    {
     "name": "stderr",
     "output_type": "stream",
     "text": [
      "Epoch 8: 100%|██████████████████████████████████████████████████████| 12/12 [03:52<00:00, 19.39s/it]\n"
     ]
    },
    {
     "name": "stdout",
     "output_type": "stream",
     "text": [
      "Epoch 9: Average Loss = 0.8318125605583191\n"
     ]
    },
    {
     "name": "stderr",
     "output_type": "stream",
     "text": [
      "Epoch 9: 100%|██████████████████████████████████████████████████████| 12/12 [03:37<00:00, 18.10s/it]\n"
     ]
    },
    {
     "name": "stdout",
     "output_type": "stream",
     "text": [
      "Epoch 10: Average Loss = 0.597977876663208\n"
     ]
    },
    {
     "name": "stderr",
     "output_type": "stream",
     "text": [
      "Epoch 10: 100%|█████████████████████████████████████████████████████| 12/12 [03:45<00:00, 18.81s/it]\n"
     ]
    },
    {
     "name": "stdout",
     "output_type": "stream",
     "text": [
      "Epoch 11: Average Loss = 0.41940855979919434\n"
     ]
    },
    {
     "name": "stderr",
     "output_type": "stream",
     "text": [
      "Epoch 11: 100%|█████████████████████████████████████████████████████| 12/12 [03:40<00:00, 18.36s/it]\n"
     ]
    },
    {
     "name": "stdout",
     "output_type": "stream",
     "text": [
      "Epoch 12: Average Loss = 0.3803325593471527\n"
     ]
    },
    {
     "name": "stderr",
     "output_type": "stream",
     "text": [
      "Epoch 12: 100%|█████████████████████████████████████████████████████| 12/12 [03:35<00:00, 17.95s/it]\n"
     ]
    },
    {
     "name": "stdout",
     "output_type": "stream",
     "text": [
      "Epoch 13: Average Loss = 0.3159600496292114\n"
     ]
    },
    {
     "name": "stderr",
     "output_type": "stream",
     "text": [
      "Epoch 13: 100%|█████████████████████████████████████████████████████| 12/12 [03:45<00:00, 18.79s/it]\n"
     ]
    },
    {
     "name": "stdout",
     "output_type": "stream",
     "text": [
      "Epoch 14: Average Loss = 0.3640749752521515\n"
     ]
    },
    {
     "name": "stderr",
     "output_type": "stream",
     "text": [
      "Epoch 14: 100%|█████████████████████████████████████████████████████| 12/12 [03:46<00:00, 18.91s/it]\n"
     ]
    },
    {
     "name": "stdout",
     "output_type": "stream",
     "text": [
      "Epoch 15: Average Loss = 0.21133951842784882\n"
     ]
    },
    {
     "name": "stderr",
     "output_type": "stream",
     "text": [
      "Epoch 15: 100%|█████████████████████████████████████████████████████| 12/12 [03:40<00:00, 18.39s/it]\n"
     ]
    },
    {
     "name": "stdout",
     "output_type": "stream",
     "text": [
      "Epoch 16: Average Loss = 0.3456186354160309\n"
     ]
    },
    {
     "name": "stderr",
     "output_type": "stream",
     "text": [
      "Epoch 16: 100%|█████████████████████████████████████████████████████| 12/12 [03:35<00:00, 17.98s/it]\n"
     ]
    },
    {
     "name": "stdout",
     "output_type": "stream",
     "text": [
      "Epoch 17: Average Loss = 0.23307020962238312\n"
     ]
    },
    {
     "name": "stderr",
     "output_type": "stream",
     "text": [
      "Epoch 17: 100%|█████████████████████████████████████████████████████| 12/12 [03:29<00:00, 17.49s/it]\n"
     ]
    },
    {
     "name": "stdout",
     "output_type": "stream",
     "text": [
      "Epoch 18: Average Loss = 0.27882352471351624\n"
     ]
    },
    {
     "name": "stderr",
     "output_type": "stream",
     "text": [
      "Epoch 18: 100%|█████████████████████████████████████████████████████| 12/12 [03:41<00:00, 18.46s/it]\n"
     ]
    },
    {
     "name": "stdout",
     "output_type": "stream",
     "text": [
      "Epoch 19: Average Loss = 0.34006571769714355\n"
     ]
    },
    {
     "name": "stderr",
     "output_type": "stream",
     "text": [
      "Epoch 19: 100%|█████████████████████████████████████████████████████| 12/12 [03:31<00:00, 17.62s/it]"
     ]
    },
    {
     "name": "stdout",
     "output_type": "stream",
     "text": [
      "Epoch 20: Average Loss = 0.21366126835346222\n"
     ]
    },
    {
     "name": "stderr",
     "output_type": "stream",
     "text": [
      "\n"
     ]
    }
   ],
   "source": [
    "# Download dataset (if not already downloaded)\n",
    "datasets.CowDataset.get_data('../data/CowDataset')\n",
    "# Load dataset metadata\n",
    "metadata = datasets.CowDataset('../data/CowDataset')\n",
    "transform = T.Compose([T.Resize([224, 224]), T.ToTensor(), T.Normalize(mean=(0.485, 0.456, 0.406), std=(0.229, 0.224, 0.225))])\n",
    "dataset = WildlifeDataset(metadata.df, metadata.root, transform=transform)\n",
    "\n",
    "\n",
    "# Download MegaDescriptor-T backbone from HuggingFace Hub\n",
    "backbone = timm.create_model('hf-hub:BVRA/MegaDescriptor-T-224', num_classes=0, pretrained=True)\n",
    "\n",
    "# Arcface loss - needs backbone output size and number of classes.\n",
    "objective = ArcFaceLoss(\n",
    "    num_classes=dataset.num_classes,\n",
    "    embedding_size=768,\n",
    "    margin=0.5,\n",
    "    scale=64\n",
    "    )\n",
    "\n",
    "# Optimize parameters in backbone and in objective using single optimizer.\n",
    "params = itertools.chain(backbone.parameters(), objective.parameters())\n",
    "optimizer = SGD(params=params, lr=0.001, momentum=0.9)\n",
    "\n",
    "def print_epoch_loss(trainer, epoch_data):\n",
    "    # This function will print the average loss at the end of each epoch\n",
    "    print(f\"Epoch {trainer.epoch}: Average Loss = {epoch_data['train_loss_epoch_avg']}\")\n",
    "\n",
    "\n",
    "trainer = BasicTrainer(\n",
    "    dataset=dataset,\n",
    "    model=backbone,\n",
    "    objective=objective,\n",
    "    optimizer=optimizer,\n",
    "    epochs=20,\n",
    "    device='cuda',\n",
    "    epoch_callback=print_epoch_loss\n",
    ")\n",
    "\n",
    "trainer.train()"
   ]
  },
  {
   "cell_type": "code",
   "execution_count": 53,
   "id": "71f4769c",
   "metadata": {
    "execution": {
     "iopub.execute_input": "2024-08-06T06:35:46.810281Z",
     "iopub.status.busy": "2024-08-06T06:35:46.809894Z",
     "iopub.status.idle": "2024-08-06T06:35:47.147400Z",
     "shell.execute_reply": "2024-08-06T06:35:47.146601Z"
    },
    "papermill": {
     "duration": 0.826281,
     "end_time": "2024-08-06T06:35:47.149823",
     "exception": false,
     "start_time": "2024-08-06T06:35:46.323542",
     "status": "completed"
    },
    "tags": []
   },
   "outputs": [],
   "source": [
    "import torch\n",
    "trainer.save(\"retrained_chks\", file_name=\"arcfaceloass_CowDataset_retrained_checkpoint.pth\")"
   ]
  },
  {
   "cell_type": "code",
   "execution_count": 54,
   "id": "f15f4d83",
   "metadata": {
    "execution": {
     "iopub.execute_input": "2024-08-06T06:35:48.195249Z",
     "iopub.status.busy": "2024-08-06T06:35:48.194889Z",
     "iopub.status.idle": "2024-08-06T06:39:42.457029Z",
     "shell.execute_reply": "2024-08-06T06:39:42.455898Z"
    },
    "papermill": {
     "duration": 235.193836,
     "end_time": "2024-08-06T06:39:42.896755",
     "exception": false,
     "start_time": "2024-08-06T06:35:47.702919",
     "status": "completed"
    },
    "tags": []
   },
   "outputs": [
    {
     "name": "stderr",
     "output_type": "stream",
     "text": [
      "100%|█████████████████████████████████████████████████████████████████| 1/1 [00:16<00:00, 16.19s/it]\n",
      "100%|███████████████████████████████████████████████████████████████| 11/11 [03:38<00:00, 19.82s/it]\n"
     ]
    }
   ],
   "source": [
    "dataset_database_P = WildlifeDataset(metadata.df.iloc[100:,:], metadata.root, transform=transform)\n",
    "dataset_query_P = WildlifeDataset(metadata.df.iloc[:100,:], metadata.root, transform=transform)\n",
    "\n",
    "# name = 'hf-hub:BVRA/MegaDescriptor-T-224'\n",
    "extractor_P = DeepFeatures(trainer.model , device = 'cuda')\n",
    "query_P, database_P = extractor_P(dataset_query_P), extractor_P(dataset_database_P)"
   ]
  },
  {
   "cell_type": "code",
   "execution_count": 55,
   "id": "a1f75856",
   "metadata": {
    "execution": {
     "iopub.execute_input": "2024-08-06T06:39:43.914278Z",
     "iopub.status.busy": "2024-08-06T06:39:43.913891Z",
     "iopub.status.idle": "2024-08-06T06:39:43.927631Z",
     "shell.execute_reply": "2024-08-06T06:39:43.926771Z"
    },
    "papermill": {
     "duration": 0.549222,
     "end_time": "2024-08-06T06:39:43.930006",
     "exception": false,
     "start_time": "2024-08-06T06:39:43.380784",
     "status": "completed"
    },
    "tags": []
   },
   "outputs": [
    {
     "name": "stdout",
     "output_type": "stream",
     "text": [
      "{'cosine': array([[-0.08821815, -0.01579853, -0.03447824, ...,  0.04288876,\n",
      "        -0.01770647, -0.01339302],\n",
      "       [-0.08671182, -0.05336584, -0.17106716, ..., -0.18728513,\n",
      "         0.06460956, -0.00323403],\n",
      "       [-0.04771869, -0.00236316, -0.04375275, ...,  0.06956739,\n",
      "        -0.04608474, -0.0469218 ],\n",
      "       ...,\n",
      "       [-0.12251632, -0.03238332, -0.04642313, ...,  0.06367704,\n",
      "        -0.00817465, -0.00484858],\n",
      "       [ 0.05575105, -0.20818332,  0.04779074, ..., -0.03088545,\n",
      "        -0.06632924, -0.06450051],\n",
      "       [-0.09239939, -0.08780532, -0.01422473, ..., -0.16310996,\n",
      "         0.9376149 ,  0.9442916 ]], dtype=float32)}\n"
     ]
    }
   ],
   "source": [
    "similarity_function = CosineSimilarity()\n",
    "similarity_P = similarity_function(query_P, database_P)\n",
    "print(similarity_P)"
   ]
  },
  {
   "cell_type": "code",
   "execution_count": 56,
   "id": "b6ca6e89",
   "metadata": {
    "execution": {
     "iopub.execute_input": "2024-08-06T06:39:44.921781Z",
     "iopub.status.busy": "2024-08-06T06:39:44.921392Z",
     "iopub.status.idle": "2024-08-06T06:39:44.937353Z",
     "shell.execute_reply": "2024-08-06T06:39:44.936386Z"
    },
    "papermill": {
     "duration": 0.507603,
     "end_time": "2024-08-06T06:39:44.939517",
     "exception": false,
     "start_time": "2024-08-06T06:39:44.431914",
     "status": "completed"
    },
    "tags": []
   },
   "outputs": [
    {
     "name": "stdout",
     "output_type": "stream",
     "text": [
      "Predictions for 100 test Images:-\n",
      " ['2' '9' '2' '13' '1' '6' '4' '7' '1' '4' '10' '9' '13' '3' '6' '10' '6'\n",
      " '4' '2' '13' '6' '2' '2' '9' '8' '8' '4' '7' '2' '12' '6' '6' '2' '4' '5'\n",
      " '2' '7' '9' '4' '5' '9' '11' '1' '8' '8' '1' '9' '4' '3' '7' '12' '1' '2'\n",
      " '5' '5' '9' '4' '1' '10' '3' '11' '12' '5' '3' '6' '5' '5' '2' '7' '11'\n",
      " '8' '5' '3' '9' '8' '7' '2' '1' '11' '1' '6' '3' '12' '6' '3' '8' '10'\n",
      " '11' '7' '6' '1' '8' '6' '3' '11' '10' '10' '2' '3' '13']\n"
     ]
    },
    {
     "name": "stderr",
     "output_type": "stream",
     "text": [
      "/opt/conda/lib/python3.10/site-packages/wildlife_tools/inference/classifier.py:61: FutureWarning: DataFrame.fillna with 'method' is deprecated and will raise in a future version. Use obj.ffill() or obj.bfill() instead.\n",
      "  results = pd.DataFrame(results).T.fillna(method=\"ffill\").T\n"
     ]
    }
   ],
   "source": [
    "classifier_P = KnnClassifier(k=1, database_labels=dataset_database_P.labels_string)\n",
    "predictions_P = classifier_P(similarity_P['cosine'])\n",
    "print(\"Predictions for 100 test Images:-\\n\",predictions_P)"
   ]
  },
  {
   "cell_type": "code",
   "execution_count": 57,
   "id": "caf94cd2",
   "metadata": {
    "execution": {
     "iopub.execute_input": "2024-08-06T06:39:45.988050Z",
     "iopub.status.busy": "2024-08-06T06:39:45.987696Z",
     "iopub.status.idle": "2024-08-06T06:39:45.992973Z",
     "shell.execute_reply": "2024-08-06T06:39:45.992038Z"
    },
    "papermill": {
     "duration": 0.495349,
     "end_time": "2024-08-06T06:39:45.995369",
     "exception": false,
     "start_time": "2024-08-06T06:39:45.500020",
     "status": "completed"
    },
    "tags": []
   },
   "outputs": [
    {
     "name": "stdout",
     "output_type": "stream",
     "text": [
      "Accuracy on CowDataset data: 100.00%\n"
     ]
    }
   ],
   "source": [
    "accuracy_P = np.mean(dataset_query_P.labels_string == predictions_P)\n",
    "print(\"Accuracy on CowDataset data: {:.2f}%\".format(accuracy_P * 100))"
   ]
  },
  {
   "cell_type": "code",
   "execution_count": 58,
   "id": "e1174071",
   "metadata": {
    "execution": {
     "iopub.execute_input": "2024-08-06T06:39:46.978521Z",
     "iopub.status.busy": "2024-08-06T06:39:46.978168Z",
     "iopub.status.idle": "2024-08-06T06:39:46.992585Z",
     "shell.execute_reply": "2024-08-06T06:39:46.991690Z"
    },
    "papermill": {
     "duration": 0.509663,
     "end_time": "2024-08-06T06:39:46.994384",
     "exception": false,
     "start_time": "2024-08-06T06:39:46.484721",
     "status": "completed"
    },
    "tags": []
   },
   "outputs": [
    {
     "name": "stdout",
     "output_type": "stream",
     "text": [
      "Precision: 1.0\n",
      "Recall: 1.0\n",
      "F1 Score: 1.0\n"
     ]
    }
   ],
   "source": [
    "precision_P = precision_score(dataset_query_P.labels_string, predictions_P, average='weighted',zero_division=1)\n",
    "recall_P = recall_score(dataset_query_P.labels_string, predictions_P, average='weighted',zero_division=1)\n",
    "f1_P = f1_score(dataset_query_P.labels_string, predictions_P, average='weighted',zero_division=1)\n",
    "print(\"Precision:\", precision_P)\n",
    "print(\"Recall:\", recall_P)\n",
    "print(\"F1 Score:\", f1_P)"
   ]
  },
  {
   "cell_type": "markdown",
   "id": "df6c6346",
   "metadata": {
    "papermill": {
     "duration": 0.488961,
     "end_time": "2024-08-06T06:39:47.971941",
     "exception": false,
     "start_time": "2024-08-06T06:39:47.482980",
     "status": "completed"
    },
    "tags": []
   },
   "source": []
  },
  {
   "cell_type": "markdown",
   "id": "044ae8f6",
   "metadata": {
    "papermill": {
     "duration": 0.550634,
     "end_time": "2024-08-06T06:39:49.013985",
     "exception": false,
     "start_time": "2024-08-06T06:39:48.463351",
     "status": "completed"
    },
    "tags": []
   },
   "source": [
    " # **On New Unseen Dataset**"
   ]
  },
  {
   "cell_type": "markdown",
   "id": "8962bff5",
   "metadata": {
    "papermill": {
     "duration": 0.502308,
     "end_time": "2024-08-06T06:39:50.007473",
     "exception": false,
     "start_time": "2024-08-06T06:39:49.505165",
     "status": "completed"
    },
    "tags": []
   },
   "source": [
    "**DogFaceNet Dataset**"
   ]
  },
  {
   "cell_type": "code",
   "execution_count": 59,
   "id": "093f573e",
   "metadata": {
    "execution": {
     "iopub.execute_input": "2024-08-06T06:39:50.997238Z",
     "iopub.status.busy": "2024-08-06T06:39:50.996883Z",
     "iopub.status.idle": "2024-08-06T07:16:35.957851Z",
     "shell.execute_reply": "2024-08-06T07:16:35.956721Z"
    },
    "papermill": {
     "duration": 2205.452427,
     "end_time": "2024-08-06T07:16:35.959885",
     "exception": false,
     "start_time": "2024-08-06T06:39:50.507458",
     "status": "completed"
    },
    "tags": []
   },
   "outputs": [
    {
     "name": "stdout",
     "output_type": "stream",
     "text": [
      "DATASET DogFaceNet: DOWNLOADING STARTED.\n"
     ]
    },
    {
     "name": "stderr",
     "output_type": "stream",
     "text": [
      "DogFaceNet_Dataset_224_1.zip: 75.6MB [00:01, 68.9MB/s]                            \n"
     ]
    },
    {
     "name": "stdout",
     "output_type": "stream",
     "text": [
      "DATASET DogFaceNet: EXTRACTING STARTED.\n",
      "DATASET DogFaceNet: FINISHED.\n",
      "\n"
     ]
    },
    {
     "name": "stderr",
     "output_type": "stream",
     "text": [
      "Epoch 0:   0%|                                                               | 0/66 [00:00<?, ?it/s]/opt/conda/lib/python3.10/multiprocessing/popen_fork.py:66: RuntimeWarning: os.fork() was called. os.fork() is incompatible with multithreaded code, and JAX is multithreaded, so this will likely lead to a deadlock.\n",
      "  self.pid = os.fork()\n",
      "Epoch 0:  98%|█████████████████████████████████████████████████████▏| 65/66 [01:48<00:01,  1.65s/it]/opt/conda/lib/python3.10/multiprocessing/popen_fork.py:66: RuntimeWarning: os.fork() was called. os.fork() is incompatible with multithreaded code, and JAX is multithreaded, so this will likely lead to a deadlock.\n",
      "  self.pid = os.fork()\n",
      "Epoch 0: 100%|██████████████████████████████████████████████████████| 66/66 [01:49<00:00,  1.65s/it]\n"
     ]
    },
    {
     "name": "stdout",
     "output_type": "stream",
     "text": [
      "Epoch 1: Average Loss = 39.3543586730957\n"
     ]
    },
    {
     "name": "stderr",
     "output_type": "stream",
     "text": [
      "Epoch 1: 100%|██████████████████████████████████████████████████████| 66/66 [01:49<00:00,  1.66s/it]\n"
     ]
    },
    {
     "name": "stdout",
     "output_type": "stream",
     "text": [
      "Epoch 2: Average Loss = 38.3873291015625\n"
     ]
    },
    {
     "name": "stderr",
     "output_type": "stream",
     "text": [
      "Epoch 2: 100%|██████████████████████████████████████████████████████| 66/66 [01:49<00:00,  1.67s/it]\n"
     ]
    },
    {
     "name": "stdout",
     "output_type": "stream",
     "text": [
      "Epoch 3: Average Loss = 38.091426849365234\n"
     ]
    },
    {
     "name": "stderr",
     "output_type": "stream",
     "text": [
      "Epoch 3: 100%|██████████████████████████████████████████████████████| 66/66 [01:49<00:00,  1.67s/it]\n"
     ]
    },
    {
     "name": "stdout",
     "output_type": "stream",
     "text": [
      "Epoch 4: Average Loss = 37.79237747192383\n"
     ]
    },
    {
     "name": "stderr",
     "output_type": "stream",
     "text": [
      "Epoch 4: 100%|██████████████████████████████████████████████████████| 66/66 [01:50<00:00,  1.67s/it]\n"
     ]
    },
    {
     "name": "stdout",
     "output_type": "stream",
     "text": [
      "Epoch 5: Average Loss = 37.39148712158203\n"
     ]
    },
    {
     "name": "stderr",
     "output_type": "stream",
     "text": [
      "Epoch 5: 100%|██████████████████████████████████████████████████████| 66/66 [01:50<00:00,  1.67s/it]\n"
     ]
    },
    {
     "name": "stdout",
     "output_type": "stream",
     "text": [
      "Epoch 6: Average Loss = 36.894535064697266\n"
     ]
    },
    {
     "name": "stderr",
     "output_type": "stream",
     "text": [
      "Epoch 6: 100%|██████████████████████████████████████████████████████| 66/66 [01:50<00:00,  1.67s/it]\n"
     ]
    },
    {
     "name": "stdout",
     "output_type": "stream",
     "text": [
      "Epoch 7: Average Loss = 36.31243896484375\n"
     ]
    },
    {
     "name": "stderr",
     "output_type": "stream",
     "text": [
      "Epoch 7: 100%|██████████████████████████████████████████████████████| 66/66 [01:49<00:00,  1.66s/it]\n"
     ]
    },
    {
     "name": "stdout",
     "output_type": "stream",
     "text": [
      "Epoch 8: Average Loss = 35.66225051879883\n"
     ]
    },
    {
     "name": "stderr",
     "output_type": "stream",
     "text": [
      "Epoch 8: 100%|██████████████████████████████████████████████████████| 66/66 [01:50<00:00,  1.67s/it]\n"
     ]
    },
    {
     "name": "stdout",
     "output_type": "stream",
     "text": [
      "Epoch 9: Average Loss = 34.950721740722656\n"
     ]
    },
    {
     "name": "stderr",
     "output_type": "stream",
     "text": [
      "Epoch 9: 100%|██████████████████████████████████████████████████████| 66/66 [01:50<00:00,  1.67s/it]\n"
     ]
    },
    {
     "name": "stdout",
     "output_type": "stream",
     "text": [
      "Epoch 10: Average Loss = 34.20945358276367\n"
     ]
    },
    {
     "name": "stderr",
     "output_type": "stream",
     "text": [
      "Epoch 10: 100%|█████████████████████████████████████████████████████| 66/66 [01:50<00:00,  1.67s/it]\n"
     ]
    },
    {
     "name": "stdout",
     "output_type": "stream",
     "text": [
      "Epoch 11: Average Loss = 33.51028823852539\n"
     ]
    },
    {
     "name": "stderr",
     "output_type": "stream",
     "text": [
      "Epoch 11: 100%|█████████████████████████████████████████████████████| 66/66 [01:50<00:00,  1.67s/it]\n"
     ]
    },
    {
     "name": "stdout",
     "output_type": "stream",
     "text": [
      "Epoch 12: Average Loss = 32.80500793457031\n"
     ]
    },
    {
     "name": "stderr",
     "output_type": "stream",
     "text": [
      "Epoch 12: 100%|█████████████████████████████████████████████████████| 66/66 [01:50<00:00,  1.67s/it]\n"
     ]
    },
    {
     "name": "stdout",
     "output_type": "stream",
     "text": [
      "Epoch 13: Average Loss = 32.00899887084961\n"
     ]
    },
    {
     "name": "stderr",
     "output_type": "stream",
     "text": [
      "Epoch 13: 100%|█████████████████████████████████████████████████████| 66/66 [01:50<00:00,  1.67s/it]\n"
     ]
    },
    {
     "name": "stdout",
     "output_type": "stream",
     "text": [
      "Epoch 14: Average Loss = 31.375303268432617\n"
     ]
    },
    {
     "name": "stderr",
     "output_type": "stream",
     "text": [
      "Epoch 14: 100%|█████████████████████████████████████████████████████| 66/66 [01:50<00:00,  1.67s/it]\n"
     ]
    },
    {
     "name": "stdout",
     "output_type": "stream",
     "text": [
      "Epoch 15: Average Loss = 30.618921279907227\n"
     ]
    },
    {
     "name": "stderr",
     "output_type": "stream",
     "text": [
      "Epoch 15: 100%|█████████████████████████████████████████████████████| 66/66 [01:50<00:00,  1.67s/it]\n"
     ]
    },
    {
     "name": "stdout",
     "output_type": "stream",
     "text": [
      "Epoch 16: Average Loss = 29.893253326416016\n"
     ]
    },
    {
     "name": "stderr",
     "output_type": "stream",
     "text": [
      "Epoch 16: 100%|█████████████████████████████████████████████████████| 66/66 [01:50<00:00,  1.67s/it]\n"
     ]
    },
    {
     "name": "stdout",
     "output_type": "stream",
     "text": [
      "Epoch 17: Average Loss = 29.204029083251953\n"
     ]
    },
    {
     "name": "stderr",
     "output_type": "stream",
     "text": [
      "Epoch 17: 100%|█████████████████████████████████████████████████████| 66/66 [01:50<00:00,  1.67s/it]\n"
     ]
    },
    {
     "name": "stdout",
     "output_type": "stream",
     "text": [
      "Epoch 18: Average Loss = 28.51412582397461\n"
     ]
    },
    {
     "name": "stderr",
     "output_type": "stream",
     "text": [
      "Epoch 18: 100%|█████████████████████████████████████████████████████| 66/66 [01:50<00:00,  1.67s/it]\n"
     ]
    },
    {
     "name": "stdout",
     "output_type": "stream",
     "text": [
      "Epoch 19: Average Loss = 27.900630950927734\n"
     ]
    },
    {
     "name": "stderr",
     "output_type": "stream",
     "text": [
      "Epoch 19: 100%|█████████████████████████████████████████████████████| 66/66 [01:49<00:00,  1.66s/it]"
     ]
    },
    {
     "name": "stdout",
     "output_type": "stream",
     "text": [
      "Epoch 20: Average Loss = 27.2148494720459\n"
     ]
    },
    {
     "name": "stderr",
     "output_type": "stream",
     "text": [
      "\n"
     ]
    }
   ],
   "source": [
    "\n",
    "# Download dataset (if not already downloaded)\n",
    "datasets.DogFaceNet.get_data('../data/DogFaceNet')\n",
    "\n",
    "# Load dataset metadata\n",
    "metadata = datasets.DogFaceNet('../data/DogFaceNet')\n",
    "transform = T.Compose([T.Resize([224, 224]), T.ToTensor(), T.Normalize(mean=(0.485, 0.456, 0.406), std=(0.229, 0.224, 0.225))])\n",
    "dataset = WildlifeDataset(metadata.df, metadata.root, transform=transform)\n",
    "\n",
    "\n",
    "# Download MegaDescriptor-T backbone from HuggingFace Hub\n",
    "backbone = timm.create_model('hf-hub:BVRA/MegaDescriptor-T-224', num_classes=0, pretrained=True)\n",
    "\n",
    "# Arcface loss - needs backbone output size and number of classes.\n",
    "objective = ArcFaceLoss(\n",
    "    num_classes=dataset.num_classes,\n",
    "    embedding_size=768,\n",
    "    margin=0.5,\n",
    "    scale=64\n",
    "    )\n",
    "\n",
    "# Optimize parameters in backbone and in objective using single optimizer.\n",
    "params = itertools.chain(backbone.parameters(), objective.parameters())\n",
    "optimizer = SGD(params=params, lr=0.001, momentum=0.9)\n",
    "\n",
    "def print_epoch_loss(trainer, epoch_data):\n",
    "    # This function will print the average loss at the end of each epoch\n",
    "    print(f\"Epoch {trainer.epoch}: Average Loss = {epoch_data['train_loss_epoch_avg']}\")\n",
    "\n",
    "\n",
    "trainer = BasicTrainer(\n",
    "    dataset=dataset,\n",
    "    model=backbone,\n",
    "    objective=objective,\n",
    "    optimizer=optimizer,\n",
    "    epochs=20,\n",
    "    device='cuda',\n",
    "    epoch_callback=print_epoch_loss\n",
    ")\n",
    "\n",
    "trainer.train()"
   ]
  },
  {
   "cell_type": "code",
   "execution_count": 60,
   "id": "9d313edf",
   "metadata": {
    "execution": {
     "iopub.execute_input": "2024-08-06T07:16:37.160977Z",
     "iopub.status.busy": "2024-08-06T07:16:37.160192Z",
     "iopub.status.idle": "2024-08-06T07:16:37.508913Z",
     "shell.execute_reply": "2024-08-06T07:16:37.507896Z"
    },
    "papermill": {
     "duration": 0.95024,
     "end_time": "2024-08-06T07:16:37.511300",
     "exception": false,
     "start_time": "2024-08-06T07:16:36.561060",
     "status": "completed"
    },
    "tags": []
   },
   "outputs": [],
   "source": [
    "import torch\n",
    "trainer.save(\"retrained_chks\", file_name=\"arcfaceloass_DogFaceNet_retrained_checkpoint.pth\")"
   ]
  },
  {
   "cell_type": "code",
   "execution_count": 61,
   "id": "3dfdc9b3",
   "metadata": {
    "execution": {
     "iopub.execute_input": "2024-08-06T07:16:38.707676Z",
     "iopub.status.busy": "2024-08-06T07:16:38.707314Z",
     "iopub.status.idle": "2024-08-06T07:16:38.715965Z",
     "shell.execute_reply": "2024-08-06T07:16:38.715064Z"
    },
    "papermill": {
     "duration": 0.612084,
     "end_time": "2024-08-06T07:16:38.717945",
     "exception": false,
     "start_time": "2024-08-06T07:16:38.105861",
     "status": "completed"
    },
    "tags": []
   },
   "outputs": [],
   "source": [
    "dataset_database_P = WildlifeDataset(metadata.df.iloc[100:,:], metadata.root, transform=transform)\n",
    "dataset_query_P = WildlifeDataset(metadata.df.iloc[:100,:], metadata.root, transform=transform)"
   ]
  },
  {
   "cell_type": "code",
   "execution_count": 62,
   "id": "4e82c2b1",
   "metadata": {
    "execution": {
     "iopub.execute_input": "2024-08-06T07:16:39.989526Z",
     "iopub.status.busy": "2024-08-06T07:16:39.988670Z",
     "iopub.status.idle": "2024-08-06T07:17:20.532454Z",
     "shell.execute_reply": "2024-08-06T07:17:20.531160Z"
    },
    "papermill": {
     "duration": 41.152342,
     "end_time": "2024-08-06T07:17:20.534750",
     "exception": false,
     "start_time": "2024-08-06T07:16:39.382408",
     "status": "completed"
    },
    "tags": []
   },
   "outputs": [
    {
     "name": "stderr",
     "output_type": "stream",
     "text": [
      "100%|█████████████████████████████████████████████████████████████████| 1/1 [00:00<00:00,  1.14it/s]\n",
      "100%|███████████████████████████████████████████████████████████████| 65/65 [00:39<00:00,  1.64it/s]\n"
     ]
    }
   ],
   "source": [
    "# name = 'hf-hub:BVRA/MegaDescriptor-T-224'\n",
    "extractor_P = DeepFeatures(trainer.model , device = 'cuda')\n",
    "query_P, database_P = extractor_P(dataset_query_P), extractor_P(dataset_database_P)"
   ]
  },
  {
   "cell_type": "code",
   "execution_count": 63,
   "id": "b9b80c8b",
   "metadata": {
    "execution": {
     "iopub.execute_input": "2024-08-06T07:17:21.754065Z",
     "iopub.status.busy": "2024-08-06T07:17:21.753681Z",
     "iopub.status.idle": "2024-08-06T07:17:21.797565Z",
     "shell.execute_reply": "2024-08-06T07:17:21.796684Z"
    },
    "papermill": {
     "duration": 0.650387,
     "end_time": "2024-08-06T07:17:21.799815",
     "exception": false,
     "start_time": "2024-08-06T07:17:21.149428",
     "status": "completed"
    },
    "tags": []
   },
   "outputs": [
    {
     "name": "stdout",
     "output_type": "stream",
     "text": [
      "{'cosine': array([[-0.19835502, -0.00824073,  0.03312841, ...,  0.08426014,\n",
      "         0.0105888 , -0.08770564],\n",
      "       [-0.04444366, -0.05371714,  0.0981549 , ..., -0.07689315,\n",
      "        -0.0124583 , -0.04216375],\n",
      "       [-0.06403714, -0.05218634,  0.00577466, ...,  0.11319457,\n",
      "         0.02078415,  0.01869084],\n",
      "       ...,\n",
      "       [-0.04116895, -0.03853647,  0.05523988, ..., -0.06938845,\n",
      "        -0.03596522,  0.08614846],\n",
      "       [-0.0715552 ,  0.11094338,  0.00110462, ..., -0.09182444,\n",
      "         0.04303921,  0.04647809],\n",
      "       [-0.06242361,  0.02907601, -0.05520296, ..., -0.00641352,\n",
      "         0.08603434, -0.04300848]], dtype=float32)}\n"
     ]
    }
   ],
   "source": [
    "similarity_function = CosineSimilarity()\n",
    "similarity_P = similarity_function(query_P, database_P)\n",
    "print(similarity_P)"
   ]
  },
  {
   "cell_type": "code",
   "execution_count": 64,
   "id": "7acee08d",
   "metadata": {
    "execution": {
     "iopub.execute_input": "2024-08-06T07:17:23.086982Z",
     "iopub.status.busy": "2024-08-06T07:17:23.086116Z",
     "iopub.status.idle": "2024-08-06T07:17:23.109427Z",
     "shell.execute_reply": "2024-08-06T07:17:23.108299Z"
    },
    "papermill": {
     "duration": 0.631139,
     "end_time": "2024-08-06T07:17:23.111637",
     "exception": false,
     "start_time": "2024-08-06T07:17:22.480498",
     "status": "completed"
    },
    "tags": []
   },
   "outputs": [
    {
     "name": "stdout",
     "output_type": "stream",
     "text": [
      "Predictions for 100 test Images:-\n",
      " ['1223' '182' '919' '1122' '428' '378' '1063' '426' '470' '405' '764'\n",
      " '880' '671' '1339' '432' '673' '1075' '274' '296' '234' '1039' '991'\n",
      " '485' '425' '280' '407' '858' '1248' '1232' '896' '892' '448' '240' '251'\n",
      " '448' '930' '223' '210' '345' '763' '622' '1324' '158' '127' '961' '1254'\n",
      " '1139' '208' '513' '424' '293' '415' '825' '147' '373' '192' '333' '333'\n",
      " '1314' '957' '329' '89' '189' '100' '122' '631' '367' '646' '26' '903'\n",
      " '621' '673' '174' '474' '1169' '458' '473' '149' '373' '622' '540' '919'\n",
      " '589' '913' '782' '1357' '361' '417' '1324' '953' '183' '200' '299' '191'\n",
      " '397' '187' '270' '563' '1020' '1074']\n"
     ]
    },
    {
     "name": "stderr",
     "output_type": "stream",
     "text": [
      "/opt/conda/lib/python3.10/site-packages/wildlife_tools/inference/classifier.py:61: FutureWarning: DataFrame.fillna with 'method' is deprecated and will raise in a future version. Use obj.ffill() or obj.bfill() instead.\n",
      "  results = pd.DataFrame(results).T.fillna(method=\"ffill\").T\n"
     ]
    }
   ],
   "source": [
    "classifier_P = KnnClassifier(k=1, database_labels=dataset_database_P.labels_string)\n",
    "predictions_P = classifier_P(similarity_P['cosine'])\n",
    "print(\"Predictions for 100 test Images:-\\n\",predictions_P)"
   ]
  },
  {
   "cell_type": "code",
   "execution_count": 65,
   "id": "d0add1d5",
   "metadata": {
    "execution": {
     "iopub.execute_input": "2024-08-06T07:17:24.320504Z",
     "iopub.status.busy": "2024-08-06T07:17:24.320146Z",
     "iopub.status.idle": "2024-08-06T07:17:24.325548Z",
     "shell.execute_reply": "2024-08-06T07:17:24.324708Z"
    },
    "papermill": {
     "duration": 0.611147,
     "end_time": "2024-08-06T07:17:24.327877",
     "exception": false,
     "start_time": "2024-08-06T07:17:23.716730",
     "status": "completed"
    },
    "tags": []
   },
   "outputs": [
    {
     "name": "stdout",
     "output_type": "stream",
     "text": [
      "Accuracy on DogFaceNet data: 90.00%\n"
     ]
    }
   ],
   "source": [
    "accuracy_P = np.mean(dataset_query_P.labels_string == predictions_P)\n",
    "print(\"Accuracy on DogFaceNet data: {:.2f}%\".format(accuracy_P * 100))"
   ]
  },
  {
   "cell_type": "code",
   "execution_count": 66,
   "id": "8a8d1e15",
   "metadata": {
    "execution": {
     "iopub.execute_input": "2024-08-06T07:17:25.533007Z",
     "iopub.status.busy": "2024-08-06T07:17:25.532405Z",
     "iopub.status.idle": "2024-08-06T07:17:25.549736Z",
     "shell.execute_reply": "2024-08-06T07:17:25.548760Z"
    },
    "papermill": {
     "duration": 0.620065,
     "end_time": "2024-08-06T07:17:25.551993",
     "exception": false,
     "start_time": "2024-08-06T07:17:24.931928",
     "status": "completed"
    },
    "tags": []
   },
   "outputs": [
    {
     "name": "stdout",
     "output_type": "stream",
     "text": [
      "Precision: 1.0\n",
      "Recall: 0.9\n",
      "F1 Score: 0.9033333333333334\n"
     ]
    }
   ],
   "source": [
    "precision_P = precision_score(dataset_query_P.labels_string, predictions_P, average='weighted',zero_division=1)\n",
    "recall_P = recall_score(dataset_query_P.labels_string, predictions_P, average='weighted',zero_division=1)\n",
    "f1_P = f1_score(dataset_query_P.labels_string, predictions_P, average='weighted',zero_division=1)\n",
    "print(\"Precision:\", precision_P)\n",
    "print(\"Recall:\", recall_P)\n",
    "print(\"F1 Score:\", f1_P)"
   ]
  },
  {
   "cell_type": "code",
   "execution_count": null,
   "id": "eb772330",
   "metadata": {
    "papermill": {
     "duration": 0.605066,
     "end_time": "2024-08-06T07:17:26.842625",
     "exception": false,
     "start_time": "2024-08-06T07:17:26.237559",
     "status": "completed"
    },
    "tags": []
   },
   "outputs": [],
   "source": []
  }
 ],
 "metadata": {
  "kaggle": {
   "accelerator": "nvidiaTeslaT4",
   "dataSources": [],
   "isGpuEnabled": true,
   "isInternetEnabled": true,
   "language": "python",
   "sourceType": "notebook"
  },
  "kernelspec": {
   "display_name": "Python 3",
   "language": "python",
   "name": "python3"
  },
  "language_info": {
   "codemirror_mode": {
    "name": "ipython",
    "version": 3
   },
   "file_extension": ".py",
   "mimetype": "text/x-python",
   "name": "python",
   "nbconvert_exporter": "python",
   "pygments_lexer": "ipython3",
   "version": "3.10.13"
  },
  "papermill": {
   "default_parameters": {},
   "duration": 13332.554093,
   "end_time": "2024-08-06T07:17:30.544572",
   "environment_variables": {},
   "exception": null,
   "input_path": "__notebook__.ipynb",
   "output_path": "__notebook__.ipynb",
   "parameters": {},
   "start_time": "2024-08-06T03:35:17.990479",
   "version": "2.5.0"
  },
  "widgets": {
   "application/vnd.jupyter.widget-state+json": {
    "state": {
     "0091bbdbaa7444fb996553b9171c2071": {
      "model_module": "@jupyter-widgets/base",
      "model_module_version": "1.2.0",
      "model_name": "LayoutModel",
      "state": {
       "_model_module": "@jupyter-widgets/base",
       "_model_module_version": "1.2.0",
       "_model_name": "LayoutModel",
       "_view_count": null,
       "_view_module": "@jupyter-widgets/base",
       "_view_module_version": "1.2.0",
       "_view_name": "LayoutView",
       "align_content": null,
       "align_items": null,
       "align_self": null,
       "border": null,
       "bottom": null,
       "display": null,
       "flex": null,
       "flex_flow": null,
       "grid_area": null,
       "grid_auto_columns": null,
       "grid_auto_flow": null,
       "grid_auto_rows": null,
       "grid_column": null,
       "grid_gap": null,
       "grid_row": null,
       "grid_template_areas": null,
       "grid_template_columns": null,
       "grid_template_rows": null,
       "height": null,
       "justify_content": null,
       "justify_items": null,
       "left": null,
       "margin": null,
       "max_height": null,
       "max_width": null,
       "min_height": null,
       "min_width": null,
       "object_fit": null,
       "object_position": null,
       "order": null,
       "overflow": null,
       "overflow_x": null,
       "overflow_y": null,
       "padding": null,
       "right": null,
       "top": null,
       "visibility": null,
       "width": null
      }
     },
     "0e3e6be0f4c64168a91c4f9452dd6b70": {
      "model_module": "@jupyter-widgets/base",
      "model_module_version": "1.2.0",
      "model_name": "LayoutModel",
      "state": {
       "_model_module": "@jupyter-widgets/base",
       "_model_module_version": "1.2.0",
       "_model_name": "LayoutModel",
       "_view_count": null,
       "_view_module": "@jupyter-widgets/base",
       "_view_module_version": "1.2.0",
       "_view_name": "LayoutView",
       "align_content": null,
       "align_items": null,
       "align_self": null,
       "border": null,
       "bottom": null,
       "display": null,
       "flex": null,
       "flex_flow": null,
       "grid_area": null,
       "grid_auto_columns": null,
       "grid_auto_flow": null,
       "grid_auto_rows": null,
       "grid_column": null,
       "grid_gap": null,
       "grid_row": null,
       "grid_template_areas": null,
       "grid_template_columns": null,
       "grid_template_rows": null,
       "height": null,
       "justify_content": null,
       "justify_items": null,
       "left": null,
       "margin": null,
       "max_height": null,
       "max_width": null,
       "min_height": null,
       "min_width": null,
       "object_fit": null,
       "object_position": null,
       "order": null,
       "overflow": null,
       "overflow_x": null,
       "overflow_y": null,
       "padding": null,
       "right": null,
       "top": null,
       "visibility": null,
       "width": null
      }
     },
     "1a1f7cb2baa54bcc87283dd7194638a5": {
      "model_module": "@jupyter-widgets/controls",
      "model_module_version": "1.5.0",
      "model_name": "HBoxModel",
      "state": {
       "_dom_classes": [],
       "_model_module": "@jupyter-widgets/controls",
       "_model_module_version": "1.5.0",
       "_model_name": "HBoxModel",
       "_view_count": null,
       "_view_module": "@jupyter-widgets/controls",
       "_view_module_version": "1.5.0",
       "_view_name": "HBoxView",
       "box_style": "",
       "children": [
        "IPY_MODEL_5db291f9238e42ffb69cbab491dbd5c0",
        "IPY_MODEL_95c15a5da8c94ad5b39fc367dab0600c",
        "IPY_MODEL_3d25fcfd97d548549f9b2f8bac87dc70"
       ],
       "layout": "IPY_MODEL_0e3e6be0f4c64168a91c4f9452dd6b70"
      }
     },
     "1df4736e6db143e58338041c6eb0189c": {
      "model_module": "@jupyter-widgets/controls",
      "model_module_version": "1.5.0",
      "model_name": "HBoxModel",
      "state": {
       "_dom_classes": [],
       "_model_module": "@jupyter-widgets/controls",
       "_model_module_version": "1.5.0",
       "_model_name": "HBoxModel",
       "_view_count": null,
       "_view_module": "@jupyter-widgets/controls",
       "_view_module_version": "1.5.0",
       "_view_name": "HBoxView",
       "box_style": "",
       "children": [
        "IPY_MODEL_cbe66f7b32b7406a8faa93e5b2f5ee9b",
        "IPY_MODEL_9046cf937b2e4aa99b76dffc5100874f",
        "IPY_MODEL_497bc55c76bb4ec7a949819facd4b6c9"
       ],
       "layout": "IPY_MODEL_5d6b7e5f27cf4cb49e30538fb5a593d4"
      }
     },
     "1f4053d93749472fb8e590bb20cdd4f0": {
      "model_module": "@jupyter-widgets/base",
      "model_module_version": "1.2.0",
      "model_name": "LayoutModel",
      "state": {
       "_model_module": "@jupyter-widgets/base",
       "_model_module_version": "1.2.0",
       "_model_name": "LayoutModel",
       "_view_count": null,
       "_view_module": "@jupyter-widgets/base",
       "_view_module_version": "1.2.0",
       "_view_name": "LayoutView",
       "align_content": null,
       "align_items": null,
       "align_self": null,
       "border": null,
       "bottom": null,
       "display": null,
       "flex": null,
       "flex_flow": null,
       "grid_area": null,
       "grid_auto_columns": null,
       "grid_auto_flow": null,
       "grid_auto_rows": null,
       "grid_column": null,
       "grid_gap": null,
       "grid_row": null,
       "grid_template_areas": null,
       "grid_template_columns": null,
       "grid_template_rows": null,
       "height": null,
       "justify_content": null,
       "justify_items": null,
       "left": null,
       "margin": null,
       "max_height": null,
       "max_width": null,
       "min_height": null,
       "min_width": null,
       "object_fit": null,
       "object_position": null,
       "order": null,
       "overflow": null,
       "overflow_x": null,
       "overflow_y": null,
       "padding": null,
       "right": null,
       "top": null,
       "visibility": null,
       "width": null
      }
     },
     "27e2f9bbd0e146e1970c59bdbfa1af21": {
      "model_module": "@jupyter-widgets/controls",
      "model_module_version": "1.5.0",
      "model_name": "DescriptionStyleModel",
      "state": {
       "_model_module": "@jupyter-widgets/controls",
       "_model_module_version": "1.5.0",
       "_model_name": "DescriptionStyleModel",
       "_view_count": null,
       "_view_module": "@jupyter-widgets/base",
       "_view_module_version": "1.2.0",
       "_view_name": "StyleView",
       "description_width": ""
      }
     },
     "3d25fcfd97d548549f9b2f8bac87dc70": {
      "model_module": "@jupyter-widgets/controls",
      "model_module_version": "1.5.0",
      "model_name": "HTMLModel",
      "state": {
       "_dom_classes": [],
       "_model_module": "@jupyter-widgets/controls",
       "_model_module_version": "1.5.0",
       "_model_name": "HTMLModel",
       "_view_count": null,
       "_view_module": "@jupyter-widgets/controls",
       "_view_module_version": "1.5.0",
       "_view_name": "HTMLView",
       "description": "",
       "description_tooltip": null,
       "layout": "IPY_MODEL_dc25c6502a3c4d55b987f66ce25f7130",
       "placeholder": "​",
       "style": "IPY_MODEL_c8b9df33eb8b44e4801c9f91125a7f28",
       "value": " 204M/204M [00:01&lt;00:00, 245MB/s]"
      }
     },
     "497bc55c76bb4ec7a949819facd4b6c9": {
      "model_module": "@jupyter-widgets/controls",
      "model_module_version": "1.5.0",
      "model_name": "HTMLModel",
      "state": {
       "_dom_classes": [],
       "_model_module": "@jupyter-widgets/controls",
       "_model_module_version": "1.5.0",
       "_model_name": "HTMLModel",
       "_view_count": null,
       "_view_module": "@jupyter-widgets/controls",
       "_view_module_version": "1.5.0",
       "_view_name": "HTMLView",
       "description": "",
       "description_tooltip": null,
       "layout": "IPY_MODEL_6a1c6971f0574e80ad1b2c4a707056ea",
       "placeholder": "​",
       "style": "IPY_MODEL_c58f33688ffc424b94868fc845fd8052",
       "value": " 609/609 [00:00&lt;00:00, 50.3kB/s]"
      }
     },
     "5b2bdcb470224405938c85ead9fd5606": {
      "model_module": "@jupyter-widgets/base",
      "model_module_version": "1.2.0",
      "model_name": "LayoutModel",
      "state": {
       "_model_module": "@jupyter-widgets/base",
       "_model_module_version": "1.2.0",
       "_model_name": "LayoutModel",
       "_view_count": null,
       "_view_module": "@jupyter-widgets/base",
       "_view_module_version": "1.2.0",
       "_view_name": "LayoutView",
       "align_content": null,
       "align_items": null,
       "align_self": null,
       "border": null,
       "bottom": null,
       "display": null,
       "flex": null,
       "flex_flow": null,
       "grid_area": null,
       "grid_auto_columns": null,
       "grid_auto_flow": null,
       "grid_auto_rows": null,
       "grid_column": null,
       "grid_gap": null,
       "grid_row": null,
       "grid_template_areas": null,
       "grid_template_columns": null,
       "grid_template_rows": null,
       "height": null,
       "justify_content": null,
       "justify_items": null,
       "left": null,
       "margin": null,
       "max_height": null,
       "max_width": null,
       "min_height": null,
       "min_width": null,
       "object_fit": null,
       "object_position": null,
       "order": null,
       "overflow": null,
       "overflow_x": null,
       "overflow_y": null,
       "padding": null,
       "right": null,
       "top": null,
       "visibility": null,
       "width": null
      }
     },
     "5d6b7e5f27cf4cb49e30538fb5a593d4": {
      "model_module": "@jupyter-widgets/base",
      "model_module_version": "1.2.0",
      "model_name": "LayoutModel",
      "state": {
       "_model_module": "@jupyter-widgets/base",
       "_model_module_version": "1.2.0",
       "_model_name": "LayoutModel",
       "_view_count": null,
       "_view_module": "@jupyter-widgets/base",
       "_view_module_version": "1.2.0",
       "_view_name": "LayoutView",
       "align_content": null,
       "align_items": null,
       "align_self": null,
       "border": null,
       "bottom": null,
       "display": null,
       "flex": null,
       "flex_flow": null,
       "grid_area": null,
       "grid_auto_columns": null,
       "grid_auto_flow": null,
       "grid_auto_rows": null,
       "grid_column": null,
       "grid_gap": null,
       "grid_row": null,
       "grid_template_areas": null,
       "grid_template_columns": null,
       "grid_template_rows": null,
       "height": null,
       "justify_content": null,
       "justify_items": null,
       "left": null,
       "margin": null,
       "max_height": null,
       "max_width": null,
       "min_height": null,
       "min_width": null,
       "object_fit": null,
       "object_position": null,
       "order": null,
       "overflow": null,
       "overflow_x": null,
       "overflow_y": null,
       "padding": null,
       "right": null,
       "top": null,
       "visibility": null,
       "width": null
      }
     },
     "5db291f9238e42ffb69cbab491dbd5c0": {
      "model_module": "@jupyter-widgets/controls",
      "model_module_version": "1.5.0",
      "model_name": "HTMLModel",
      "state": {
       "_dom_classes": [],
       "_model_module": "@jupyter-widgets/controls",
       "_model_module_version": "1.5.0",
       "_model_name": "HTMLModel",
       "_view_count": null,
       "_view_module": "@jupyter-widgets/controls",
       "_view_module_version": "1.5.0",
       "_view_name": "HTMLView",
       "description": "",
       "description_tooltip": null,
       "layout": "IPY_MODEL_1f4053d93749472fb8e590bb20cdd4f0",
       "placeholder": "​",
       "style": "IPY_MODEL_27e2f9bbd0e146e1970c59bdbfa1af21",
       "value": "pytorch_model.bin: 100%"
      }
     },
     "6a1c6971f0574e80ad1b2c4a707056ea": {
      "model_module": "@jupyter-widgets/base",
      "model_module_version": "1.2.0",
      "model_name": "LayoutModel",
      "state": {
       "_model_module": "@jupyter-widgets/base",
       "_model_module_version": "1.2.0",
       "_model_name": "LayoutModel",
       "_view_count": null,
       "_view_module": "@jupyter-widgets/base",
       "_view_module_version": "1.2.0",
       "_view_name": "LayoutView",
       "align_content": null,
       "align_items": null,
       "align_self": null,
       "border": null,
       "bottom": null,
       "display": null,
       "flex": null,
       "flex_flow": null,
       "grid_area": null,
       "grid_auto_columns": null,
       "grid_auto_flow": null,
       "grid_auto_rows": null,
       "grid_column": null,
       "grid_gap": null,
       "grid_row": null,
       "grid_template_areas": null,
       "grid_template_columns": null,
       "grid_template_rows": null,
       "height": null,
       "justify_content": null,
       "justify_items": null,
       "left": null,
       "margin": null,
       "max_height": null,
       "max_width": null,
       "min_height": null,
       "min_width": null,
       "object_fit": null,
       "object_position": null,
       "order": null,
       "overflow": null,
       "overflow_x": null,
       "overflow_y": null,
       "padding": null,
       "right": null,
       "top": null,
       "visibility": null,
       "width": null
      }
     },
     "7911bb3cd8bf4ff49cead0f9b3ab79e5": {
      "model_module": "@jupyter-widgets/base",
      "model_module_version": "1.2.0",
      "model_name": "LayoutModel",
      "state": {
       "_model_module": "@jupyter-widgets/base",
       "_model_module_version": "1.2.0",
       "_model_name": "LayoutModel",
       "_view_count": null,
       "_view_module": "@jupyter-widgets/base",
       "_view_module_version": "1.2.0",
       "_view_name": "LayoutView",
       "align_content": null,
       "align_items": null,
       "align_self": null,
       "border": null,
       "bottom": null,
       "display": null,
       "flex": null,
       "flex_flow": null,
       "grid_area": null,
       "grid_auto_columns": null,
       "grid_auto_flow": null,
       "grid_auto_rows": null,
       "grid_column": null,
       "grid_gap": null,
       "grid_row": null,
       "grid_template_areas": null,
       "grid_template_columns": null,
       "grid_template_rows": null,
       "height": null,
       "justify_content": null,
       "justify_items": null,
       "left": null,
       "margin": null,
       "max_height": null,
       "max_width": null,
       "min_height": null,
       "min_width": null,
       "object_fit": null,
       "object_position": null,
       "order": null,
       "overflow": null,
       "overflow_x": null,
       "overflow_y": null,
       "padding": null,
       "right": null,
       "top": null,
       "visibility": null,
       "width": null
      }
     },
     "9046cf937b2e4aa99b76dffc5100874f": {
      "model_module": "@jupyter-widgets/controls",
      "model_module_version": "1.5.0",
      "model_name": "FloatProgressModel",
      "state": {
       "_dom_classes": [],
       "_model_module": "@jupyter-widgets/controls",
       "_model_module_version": "1.5.0",
       "_model_name": "FloatProgressModel",
       "_view_count": null,
       "_view_module": "@jupyter-widgets/controls",
       "_view_module_version": "1.5.0",
       "_view_name": "ProgressView",
       "bar_style": "success",
       "description": "",
       "description_tooltip": null,
       "layout": "IPY_MODEL_0091bbdbaa7444fb996553b9171c2071",
       "max": 609.0,
       "min": 0.0,
       "orientation": "horizontal",
       "style": "IPY_MODEL_b0fec7a53e144707b0fd5c4517a739e4",
       "value": 609.0
      }
     },
     "95c15a5da8c94ad5b39fc367dab0600c": {
      "model_module": "@jupyter-widgets/controls",
      "model_module_version": "1.5.0",
      "model_name": "FloatProgressModel",
      "state": {
       "_dom_classes": [],
       "_model_module": "@jupyter-widgets/controls",
       "_model_module_version": "1.5.0",
       "_model_name": "FloatProgressModel",
       "_view_count": null,
       "_view_module": "@jupyter-widgets/controls",
       "_view_module_version": "1.5.0",
       "_view_name": "ProgressView",
       "bar_style": "success",
       "description": "",
       "description_tooltip": null,
       "layout": "IPY_MODEL_5b2bdcb470224405938c85ead9fd5606",
       "max": 204267588.0,
       "min": 0.0,
       "orientation": "horizontal",
       "style": "IPY_MODEL_e34a41785fb046d692491ef040d8a342",
       "value": 204267588.0
      }
     },
     "b0fec7a53e144707b0fd5c4517a739e4": {
      "model_module": "@jupyter-widgets/controls",
      "model_module_version": "1.5.0",
      "model_name": "ProgressStyleModel",
      "state": {
       "_model_module": "@jupyter-widgets/controls",
       "_model_module_version": "1.5.0",
       "_model_name": "ProgressStyleModel",
       "_view_count": null,
       "_view_module": "@jupyter-widgets/base",
       "_view_module_version": "1.2.0",
       "_view_name": "StyleView",
       "bar_color": null,
       "description_width": ""
      }
     },
     "c58f33688ffc424b94868fc845fd8052": {
      "model_module": "@jupyter-widgets/controls",
      "model_module_version": "1.5.0",
      "model_name": "DescriptionStyleModel",
      "state": {
       "_model_module": "@jupyter-widgets/controls",
       "_model_module_version": "1.5.0",
       "_model_name": "DescriptionStyleModel",
       "_view_count": null,
       "_view_module": "@jupyter-widgets/base",
       "_view_module_version": "1.2.0",
       "_view_name": "StyleView",
       "description_width": ""
      }
     },
     "c8b9df33eb8b44e4801c9f91125a7f28": {
      "model_module": "@jupyter-widgets/controls",
      "model_module_version": "1.5.0",
      "model_name": "DescriptionStyleModel",
      "state": {
       "_model_module": "@jupyter-widgets/controls",
       "_model_module_version": "1.5.0",
       "_model_name": "DescriptionStyleModel",
       "_view_count": null,
       "_view_module": "@jupyter-widgets/base",
       "_view_module_version": "1.2.0",
       "_view_name": "StyleView",
       "description_width": ""
      }
     },
     "cbe66f7b32b7406a8faa93e5b2f5ee9b": {
      "model_module": "@jupyter-widgets/controls",
      "model_module_version": "1.5.0",
      "model_name": "HTMLModel",
      "state": {
       "_dom_classes": [],
       "_model_module": "@jupyter-widgets/controls",
       "_model_module_version": "1.5.0",
       "_model_name": "HTMLModel",
       "_view_count": null,
       "_view_module": "@jupyter-widgets/controls",
       "_view_module_version": "1.5.0",
       "_view_name": "HTMLView",
       "description": "",
       "description_tooltip": null,
       "layout": "IPY_MODEL_7911bb3cd8bf4ff49cead0f9b3ab79e5",
       "placeholder": "​",
       "style": "IPY_MODEL_d49ccd68f7c947569812ea92fcf0a9a3",
       "value": "config.json: 100%"
      }
     },
     "d49ccd68f7c947569812ea92fcf0a9a3": {
      "model_module": "@jupyter-widgets/controls",
      "model_module_version": "1.5.0",
      "model_name": "DescriptionStyleModel",
      "state": {
       "_model_module": "@jupyter-widgets/controls",
       "_model_module_version": "1.5.0",
       "_model_name": "DescriptionStyleModel",
       "_view_count": null,
       "_view_module": "@jupyter-widgets/base",
       "_view_module_version": "1.2.0",
       "_view_name": "StyleView",
       "description_width": ""
      }
     },
     "dc25c6502a3c4d55b987f66ce25f7130": {
      "model_module": "@jupyter-widgets/base",
      "model_module_version": "1.2.0",
      "model_name": "LayoutModel",
      "state": {
       "_model_module": "@jupyter-widgets/base",
       "_model_module_version": "1.2.0",
       "_model_name": "LayoutModel",
       "_view_count": null,
       "_view_module": "@jupyter-widgets/base",
       "_view_module_version": "1.2.0",
       "_view_name": "LayoutView",
       "align_content": null,
       "align_items": null,
       "align_self": null,
       "border": null,
       "bottom": null,
       "display": null,
       "flex": null,
       "flex_flow": null,
       "grid_area": null,
       "grid_auto_columns": null,
       "grid_auto_flow": null,
       "grid_auto_rows": null,
       "grid_column": null,
       "grid_gap": null,
       "grid_row": null,
       "grid_template_areas": null,
       "grid_template_columns": null,
       "grid_template_rows": null,
       "height": null,
       "justify_content": null,
       "justify_items": null,
       "left": null,
       "margin": null,
       "max_height": null,
       "max_width": null,
       "min_height": null,
       "min_width": null,
       "object_fit": null,
       "object_position": null,
       "order": null,
       "overflow": null,
       "overflow_x": null,
       "overflow_y": null,
       "padding": null,
       "right": null,
       "top": null,
       "visibility": null,
       "width": null
      }
     },
     "e34a41785fb046d692491ef040d8a342": {
      "model_module": "@jupyter-widgets/controls",
      "model_module_version": "1.5.0",
      "model_name": "ProgressStyleModel",
      "state": {
       "_model_module": "@jupyter-widgets/controls",
       "_model_module_version": "1.5.0",
       "_model_name": "ProgressStyleModel",
       "_view_count": null,
       "_view_module": "@jupyter-widgets/base",
       "_view_module_version": "1.2.0",
       "_view_name": "StyleView",
       "bar_color": null,
       "description_width": ""
      }
     }
    },
    "version_major": 2,
    "version_minor": 0
   }
  }
 },
 "nbformat": 4,
 "nbformat_minor": 5
}
