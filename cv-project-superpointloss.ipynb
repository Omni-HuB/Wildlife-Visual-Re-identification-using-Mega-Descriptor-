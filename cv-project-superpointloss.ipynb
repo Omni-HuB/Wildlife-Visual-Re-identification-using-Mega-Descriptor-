{
 "cells": [
  {
   "cell_type": "code",
   "execution_count": 1,
   "id": "c64225cf",
   "metadata": {
    "_cell_guid": "b1076dfc-b9ad-4769-8c92-a6c4dae69d19",
    "_uuid": "8f2839f25d086af736a60e9eeb907d3b93b6e0e5",
    "execution": {
     "iopub.execute_input": "2024-08-03T08:30:16.905116Z",
     "iopub.status.busy": "2024-08-03T08:30:16.903727Z",
     "iopub.status.idle": "2024-08-03T08:30:31.949530Z",
     "shell.execute_reply": "2024-08-03T08:30:31.948199Z"
    },
    "papermill": {
     "duration": 15.0532,
     "end_time": "2024-08-03T08:30:31.951825",
     "exception": false,
     "start_time": "2024-08-03T08:30:16.898625",
     "status": "completed"
    },
    "tags": []
   },
   "outputs": [
    {
     "name": "stdout",
     "output_type": "stream",
     "text": [
      "Collecting wildlife-datasets\r\n",
      "  Downloading wildlife_datasets-1.0.4-py3-none-any.whl.metadata (11 kB)\r\n",
      "Requirement already satisfied: numpy>=1.19.4 in /opt/conda/lib/python3.10/site-packages (from wildlife-datasets) (1.26.4)\r\n",
      "Requirement already satisfied: pandas>=1.1.4 in /opt/conda/lib/python3.10/site-packages (from wildlife-datasets) (2.2.2)\r\n",
      "Requirement already satisfied: tqdm>=4.62.3 in /opt/conda/lib/python3.10/site-packages (from wildlife-datasets) (4.66.4)\r\n",
      "Requirement already satisfied: opencv-python>=4.5.5.62 in /opt/conda/lib/python3.10/site-packages (from wildlife-datasets) (4.10.0.84)\r\n",
      "Requirement already satisfied: Pillow>=7.1.2 in /opt/conda/lib/python3.10/site-packages (from wildlife-datasets) (9.5.0)\r\n",
      "Requirement already satisfied: scikit-learn>=1.0.1 in /opt/conda/lib/python3.10/site-packages (from wildlife-datasets) (1.2.2)\r\n",
      "Requirement already satisfied: matplotlib>=3.5.1 in /opt/conda/lib/python3.10/site-packages (from wildlife-datasets) (3.7.5)\r\n",
      "Collecting gdown (from wildlife-datasets)\r\n",
      "  Downloading gdown-5.2.0-py3-none-any.whl.metadata (5.8 kB)\r\n",
      "Requirement already satisfied: kaggle in /opt/conda/lib/python3.10/site-packages (from wildlife-datasets) (1.6.14)\r\n",
      "Requirement already satisfied: contourpy>=1.0.1 in /opt/conda/lib/python3.10/site-packages (from matplotlib>=3.5.1->wildlife-datasets) (1.2.0)\r\n",
      "Requirement already satisfied: cycler>=0.10 in /opt/conda/lib/python3.10/site-packages (from matplotlib>=3.5.1->wildlife-datasets) (0.12.1)\r\n",
      "Requirement already satisfied: fonttools>=4.22.0 in /opt/conda/lib/python3.10/site-packages (from matplotlib>=3.5.1->wildlife-datasets) (4.47.0)\r\n",
      "Requirement already satisfied: kiwisolver>=1.0.1 in /opt/conda/lib/python3.10/site-packages (from matplotlib>=3.5.1->wildlife-datasets) (1.4.5)\r\n",
      "Requirement already satisfied: packaging>=20.0 in /opt/conda/lib/python3.10/site-packages (from matplotlib>=3.5.1->wildlife-datasets) (21.3)\r\n",
      "Requirement already satisfied: pyparsing>=2.3.1 in /opt/conda/lib/python3.10/site-packages (from matplotlib>=3.5.1->wildlife-datasets) (3.1.1)\r\n",
      "Requirement already satisfied: python-dateutil>=2.7 in /opt/conda/lib/python3.10/site-packages (from matplotlib>=3.5.1->wildlife-datasets) (2.9.0.post0)\r\n",
      "Requirement already satisfied: pytz>=2020.1 in /opt/conda/lib/python3.10/site-packages (from pandas>=1.1.4->wildlife-datasets) (2023.3.post1)\r\n",
      "Requirement already satisfied: tzdata>=2022.7 in /opt/conda/lib/python3.10/site-packages (from pandas>=1.1.4->wildlife-datasets) (2023.4)\r\n",
      "Requirement already satisfied: scipy>=1.3.2 in /opt/conda/lib/python3.10/site-packages (from scikit-learn>=1.0.1->wildlife-datasets) (1.11.4)\r\n",
      "Requirement already satisfied: joblib>=1.1.1 in /opt/conda/lib/python3.10/site-packages (from scikit-learn>=1.0.1->wildlife-datasets) (1.4.2)\r\n",
      "Requirement already satisfied: threadpoolctl>=2.0.0 in /opt/conda/lib/python3.10/site-packages (from scikit-learn>=1.0.1->wildlife-datasets) (3.2.0)\r\n",
      "Requirement already satisfied: beautifulsoup4 in /opt/conda/lib/python3.10/site-packages (from gdown->wildlife-datasets) (4.12.2)\r\n",
      "Requirement already satisfied: filelock in /opt/conda/lib/python3.10/site-packages (from gdown->wildlife-datasets) (3.13.1)\r\n",
      "Requirement already satisfied: requests[socks] in /opt/conda/lib/python3.10/site-packages (from gdown->wildlife-datasets) (2.32.3)\r\n",
      "Requirement already satisfied: six>=1.10 in /opt/conda/lib/python3.10/site-packages (from kaggle->wildlife-datasets) (1.16.0)\r\n",
      "Requirement already satisfied: certifi>=2023.7.22 in /opt/conda/lib/python3.10/site-packages (from kaggle->wildlife-datasets) (2024.7.4)\r\n",
      "Requirement already satisfied: python-slugify in /opt/conda/lib/python3.10/site-packages (from kaggle->wildlife-datasets) (8.0.4)\r\n",
      "Requirement already satisfied: urllib3 in /opt/conda/lib/python3.10/site-packages (from kaggle->wildlife-datasets) (1.26.18)\r\n",
      "Requirement already satisfied: bleach in /opt/conda/lib/python3.10/site-packages (from kaggle->wildlife-datasets) (6.1.0)\r\n",
      "Requirement already satisfied: soupsieve>1.2 in /opt/conda/lib/python3.10/site-packages (from beautifulsoup4->gdown->wildlife-datasets) (2.5)\r\n",
      "Requirement already satisfied: webencodings in /opt/conda/lib/python3.10/site-packages (from bleach->kaggle->wildlife-datasets) (0.5.1)\r\n",
      "Requirement already satisfied: text-unidecode>=1.3 in /opt/conda/lib/python3.10/site-packages (from python-slugify->kaggle->wildlife-datasets) (1.3)\r\n",
      "Requirement already satisfied: charset-normalizer<4,>=2 in /opt/conda/lib/python3.10/site-packages (from requests[socks]->gdown->wildlife-datasets) (3.3.2)\r\n",
      "Requirement already satisfied: idna<4,>=2.5 in /opt/conda/lib/python3.10/site-packages (from requests[socks]->gdown->wildlife-datasets) (3.6)\r\n",
      "Requirement already satisfied: PySocks!=1.5.7,>=1.5.6 in /opt/conda/lib/python3.10/site-packages (from requests[socks]->gdown->wildlife-datasets) (1.7.1)\r\n",
      "Downloading wildlife_datasets-1.0.4-py3-none-any.whl (46 kB)\r\n",
      "\u001b[2K   \u001b[90m━━━━━━━━━━━━━━━━━━━━━━━━━━━━━━━━━━━━━━━━\u001b[0m \u001b[32m46.4/46.4 kB\u001b[0m \u001b[31m1.2 MB/s\u001b[0m eta \u001b[36m0:00:00\u001b[0m\r\n",
      "\u001b[?25hDownloading gdown-5.2.0-py3-none-any.whl (18 kB)\r\n",
      "Installing collected packages: gdown, wildlife-datasets\r\n",
      "Successfully installed gdown-5.2.0 wildlife-datasets-1.0.4\r\n",
      "Note: you may need to restart the kernel to use updated packages.\n"
     ]
    }
   ],
   "source": [
    "%pip install wildlife-datasets"
   ]
  },
  {
   "cell_type": "code",
   "execution_count": 2,
   "id": "6bd3573c",
   "metadata": {
    "execution": {
     "iopub.execute_input": "2024-08-03T08:30:31.960671Z",
     "iopub.status.busy": "2024-08-03T08:30:31.960280Z",
     "iopub.status.idle": "2024-08-03T08:30:49.744589Z",
     "shell.execute_reply": "2024-08-03T08:30:49.742860Z"
    },
    "papermill": {
     "duration": 17.7917,
     "end_time": "2024-08-03T08:30:49.747136",
     "exception": false,
     "start_time": "2024-08-03T08:30:31.955436",
     "status": "completed"
    },
    "tags": []
   },
   "outputs": [
    {
     "name": "stdout",
     "output_type": "stream",
     "text": [
      "Collecting wildlife-tools\r\n",
      "  Downloading wildlife_tools-0.0.9-py3-none-any.whl.metadata (9.3 kB)\r\n",
      "Requirement already satisfied: torch>=2.0.1 in /opt/conda/lib/python3.10/site-packages (from wildlife-tools) (2.1.2+cpu)\r\n",
      "Requirement already satisfied: timm>=0.9.2 in /opt/conda/lib/python3.10/site-packages (from wildlife-tools) (1.0.7)\r\n",
      "Requirement already satisfied: numpy>=1.19.4 in /opt/conda/lib/python3.10/site-packages (from wildlife-tools) (1.26.4)\r\n",
      "Requirement already satisfied: pandas>=1.1.4 in /opt/conda/lib/python3.10/site-packages (from wildlife-tools) (2.2.2)\r\n",
      "Requirement already satisfied: tqdm>=4.62.3 in /opt/conda/lib/python3.10/site-packages (from wildlife-tools) (4.66.4)\r\n",
      "Requirement already satisfied: opencv-python>=4.5.5.62 in /opt/conda/lib/python3.10/site-packages (from wildlife-tools) (4.10.0.84)\r\n",
      "Requirement already satisfied: Pillow>=7.1.2 in /opt/conda/lib/python3.10/site-packages (from wildlife-tools) (9.5.0)\r\n",
      "Requirement already satisfied: scikit-learn>=1.0.1 in /opt/conda/lib/python3.10/site-packages (from wildlife-tools) (1.2.2)\r\n",
      "Collecting pycocotools (from wildlife-tools)\r\n",
      "  Downloading pycocotools-2.0.8-cp310-cp310-manylinux_2_17_x86_64.manylinux2014_x86_64.whl.metadata (1.1 kB)\r\n",
      "Requirement already satisfied: tensorboard in /opt/conda/lib/python3.10/site-packages (from wildlife-tools) (2.15.1)\r\n",
      "Collecting pytorch-metric-learning (from wildlife-tools)\r\n",
      "  Downloading pytorch_metric_learning-2.6.0-py3-none-any.whl.metadata (17 kB)\r\n",
      "Requirement already satisfied: transformers>=4.30.2 in /opt/conda/lib/python3.10/site-packages (from wildlife-tools) (4.42.3)\r\n",
      "Requirement already satisfied: wildlife-datasets>=0.3.4 in /opt/conda/lib/python3.10/site-packages (from wildlife-tools) (1.0.4)\r\n",
      "Requirement already satisfied: kornia>=0.6.12 in /opt/conda/lib/python3.10/site-packages (from wildlife-tools) (0.7.3)\r\n",
      "Collecting faiss-gpu (from wildlife-tools)\r\n",
      "  Downloading faiss_gpu-1.7.2-cp310-cp310-manylinux_2_17_x86_64.manylinux2014_x86_64.whl.metadata (1.4 kB)\r\n",
      "Requirement already satisfied: kornia-rs>=0.1.0 in /opt/conda/lib/python3.10/site-packages (from kornia>=0.6.12->wildlife-tools) (0.1.4)\r\n",
      "Requirement already satisfied: packaging in /opt/conda/lib/python3.10/site-packages (from kornia>=0.6.12->wildlife-tools) (21.3)\r\n",
      "Requirement already satisfied: python-dateutil>=2.8.2 in /opt/conda/lib/python3.10/site-packages (from pandas>=1.1.4->wildlife-tools) (2.9.0.post0)\r\n",
      "Requirement already satisfied: pytz>=2020.1 in /opt/conda/lib/python3.10/site-packages (from pandas>=1.1.4->wildlife-tools) (2023.3.post1)\r\n",
      "Requirement already satisfied: tzdata>=2022.7 in /opt/conda/lib/python3.10/site-packages (from pandas>=1.1.4->wildlife-tools) (2023.4)\r\n",
      "Requirement already satisfied: scipy>=1.3.2 in /opt/conda/lib/python3.10/site-packages (from scikit-learn>=1.0.1->wildlife-tools) (1.11.4)\r\n",
      "Requirement already satisfied: joblib>=1.1.1 in /opt/conda/lib/python3.10/site-packages (from scikit-learn>=1.0.1->wildlife-tools) (1.4.2)\r\n",
      "Requirement already satisfied: threadpoolctl>=2.0.0 in /opt/conda/lib/python3.10/site-packages (from scikit-learn>=1.0.1->wildlife-tools) (3.2.0)\r\n",
      "Requirement already satisfied: torchvision in /opt/conda/lib/python3.10/site-packages (from timm>=0.9.2->wildlife-tools) (0.16.2+cpu)\r\n",
      "Requirement already satisfied: pyyaml in /opt/conda/lib/python3.10/site-packages (from timm>=0.9.2->wildlife-tools) (6.0.1)\r\n",
      "Requirement already satisfied: huggingface_hub in /opt/conda/lib/python3.10/site-packages (from timm>=0.9.2->wildlife-tools) (0.23.4)\r\n",
      "Requirement already satisfied: safetensors in /opt/conda/lib/python3.10/site-packages (from timm>=0.9.2->wildlife-tools) (0.4.3)\r\n",
      "Requirement already satisfied: filelock in /opt/conda/lib/python3.10/site-packages (from torch>=2.0.1->wildlife-tools) (3.13.1)\r\n",
      "Requirement already satisfied: typing-extensions in /opt/conda/lib/python3.10/site-packages (from torch>=2.0.1->wildlife-tools) (4.9.0)\r\n",
      "Requirement already satisfied: sympy in /opt/conda/lib/python3.10/site-packages (from torch>=2.0.1->wildlife-tools) (1.13.0)\r\n",
      "Requirement already satisfied: networkx in /opt/conda/lib/python3.10/site-packages (from torch>=2.0.1->wildlife-tools) (3.2.1)\r\n",
      "Requirement already satisfied: jinja2 in /opt/conda/lib/python3.10/site-packages (from torch>=2.0.1->wildlife-tools) (3.1.2)\r\n",
      "Requirement already satisfied: fsspec in /opt/conda/lib/python3.10/site-packages (from torch>=2.0.1->wildlife-tools) (2024.5.0)\r\n",
      "Requirement already satisfied: regex!=2019.12.17 in /opt/conda/lib/python3.10/site-packages (from transformers>=4.30.2->wildlife-tools) (2023.12.25)\r\n",
      "Requirement already satisfied: requests in /opt/conda/lib/python3.10/site-packages (from transformers>=4.30.2->wildlife-tools) (2.32.3)\r\n",
      "Requirement already satisfied: tokenizers<0.20,>=0.19 in /opt/conda/lib/python3.10/site-packages (from transformers>=4.30.2->wildlife-tools) (0.19.1)\r\n",
      "Requirement already satisfied: matplotlib>=3.5.1 in /opt/conda/lib/python3.10/site-packages (from wildlife-datasets>=0.3.4->wildlife-tools) (3.7.5)\r\n",
      "Requirement already satisfied: gdown in /opt/conda/lib/python3.10/site-packages (from wildlife-datasets>=0.3.4->wildlife-tools) (5.2.0)\r\n",
      "Requirement already satisfied: kaggle in /opt/conda/lib/python3.10/site-packages (from wildlife-datasets>=0.3.4->wildlife-tools) (1.6.14)\r\n",
      "Requirement already satisfied: absl-py>=0.4 in /opt/conda/lib/python3.10/site-packages (from tensorboard->wildlife-tools) (1.4.0)\r\n",
      "Requirement already satisfied: grpcio>=1.48.2 in /opt/conda/lib/python3.10/site-packages (from tensorboard->wildlife-tools) (1.60.0)\r\n",
      "Requirement already satisfied: google-auth<3,>=1.6.3 in /opt/conda/lib/python3.10/site-packages (from tensorboard->wildlife-tools) (2.26.1)\r\n",
      "Requirement already satisfied: google-auth-oauthlib<2,>=0.5 in /opt/conda/lib/python3.10/site-packages (from tensorboard->wildlife-tools) (1.2.0)\r\n",
      "Requirement already satisfied: markdown>=2.6.8 in /opt/conda/lib/python3.10/site-packages (from tensorboard->wildlife-tools) (3.5.2)\r\n",
      "Requirement already satisfied: protobuf<4.24,>=3.19.6 in /opt/conda/lib/python3.10/site-packages (from tensorboard->wildlife-tools) (3.20.3)\r\n",
      "Requirement already satisfied: setuptools>=41.0.0 in /opt/conda/lib/python3.10/site-packages (from tensorboard->wildlife-tools) (69.0.3)\r\n",
      "Requirement already satisfied: six>1.9 in /opt/conda/lib/python3.10/site-packages (from tensorboard->wildlife-tools) (1.16.0)\r\n",
      "Requirement already satisfied: tensorboard-data-server<0.8.0,>=0.7.0 in /opt/conda/lib/python3.10/site-packages (from tensorboard->wildlife-tools) (0.7.2)\r\n",
      "Requirement already satisfied: werkzeug>=1.0.1 in /opt/conda/lib/python3.10/site-packages (from tensorboard->wildlife-tools) (3.0.3)\r\n",
      "Requirement already satisfied: cachetools<6.0,>=2.0.0 in /opt/conda/lib/python3.10/site-packages (from google-auth<3,>=1.6.3->tensorboard->wildlife-tools) (4.2.4)\r\n",
      "Requirement already satisfied: pyasn1-modules>=0.2.1 in /opt/conda/lib/python3.10/site-packages (from google-auth<3,>=1.6.3->tensorboard->wildlife-tools) (0.3.0)\r\n",
      "Requirement already satisfied: rsa<5,>=3.1.4 in /opt/conda/lib/python3.10/site-packages (from google-auth<3,>=1.6.3->tensorboard->wildlife-tools) (4.9)\r\n",
      "Requirement already satisfied: requests-oauthlib>=0.7.0 in /opt/conda/lib/python3.10/site-packages (from google-auth-oauthlib<2,>=0.5->tensorboard->wildlife-tools) (1.3.1)\r\n",
      "Requirement already satisfied: contourpy>=1.0.1 in /opt/conda/lib/python3.10/site-packages (from matplotlib>=3.5.1->wildlife-datasets>=0.3.4->wildlife-tools) (1.2.0)\r\n",
      "Requirement already satisfied: cycler>=0.10 in /opt/conda/lib/python3.10/site-packages (from matplotlib>=3.5.1->wildlife-datasets>=0.3.4->wildlife-tools) (0.12.1)\r\n",
      "Requirement already satisfied: fonttools>=4.22.0 in /opt/conda/lib/python3.10/site-packages (from matplotlib>=3.5.1->wildlife-datasets>=0.3.4->wildlife-tools) (4.47.0)\r\n",
      "Requirement already satisfied: kiwisolver>=1.0.1 in /opt/conda/lib/python3.10/site-packages (from matplotlib>=3.5.1->wildlife-datasets>=0.3.4->wildlife-tools) (1.4.5)\r\n",
      "Requirement already satisfied: pyparsing>=2.3.1 in /opt/conda/lib/python3.10/site-packages (from matplotlib>=3.5.1->wildlife-datasets>=0.3.4->wildlife-tools) (3.1.1)\r\n",
      "Requirement already satisfied: charset-normalizer<4,>=2 in /opt/conda/lib/python3.10/site-packages (from requests->transformers>=4.30.2->wildlife-tools) (3.3.2)\r\n",
      "Requirement already satisfied: idna<4,>=2.5 in /opt/conda/lib/python3.10/site-packages (from requests->transformers>=4.30.2->wildlife-tools) (3.6)\r\n",
      "Requirement already satisfied: urllib3<3,>=1.21.1 in /opt/conda/lib/python3.10/site-packages (from requests->transformers>=4.30.2->wildlife-tools) (1.26.18)\r\n",
      "Requirement already satisfied: certifi>=2017.4.17 in /opt/conda/lib/python3.10/site-packages (from requests->transformers>=4.30.2->wildlife-tools) (2024.7.4)\r\n",
      "Requirement already satisfied: MarkupSafe>=2.1.1 in /opt/conda/lib/python3.10/site-packages (from werkzeug>=1.0.1->tensorboard->wildlife-tools) (2.1.3)\r\n",
      "Requirement already satisfied: beautifulsoup4 in /opt/conda/lib/python3.10/site-packages (from gdown->wildlife-datasets>=0.3.4->wildlife-tools) (4.12.2)\r\n",
      "Requirement already satisfied: python-slugify in /opt/conda/lib/python3.10/site-packages (from kaggle->wildlife-datasets>=0.3.4->wildlife-tools) (8.0.4)\r\n",
      "Requirement already satisfied: bleach in /opt/conda/lib/python3.10/site-packages (from kaggle->wildlife-datasets>=0.3.4->wildlife-tools) (6.1.0)\r\n",
      "Requirement already satisfied: mpmath<1.4,>=1.1.0 in /opt/conda/lib/python3.10/site-packages (from sympy->torch>=2.0.1->wildlife-tools) (1.3.0)\r\n",
      "Requirement already satisfied: pyasn1<0.6.0,>=0.4.6 in /opt/conda/lib/python3.10/site-packages (from pyasn1-modules>=0.2.1->google-auth<3,>=1.6.3->tensorboard->wildlife-tools) (0.5.1)\r\n",
      "Requirement already satisfied: oauthlib>=3.0.0 in /opt/conda/lib/python3.10/site-packages (from requests-oauthlib>=0.7.0->google-auth-oauthlib<2,>=0.5->tensorboard->wildlife-tools) (3.2.2)\r\n",
      "Requirement already satisfied: soupsieve>1.2 in /opt/conda/lib/python3.10/site-packages (from beautifulsoup4->gdown->wildlife-datasets>=0.3.4->wildlife-tools) (2.5)\r\n",
      "Requirement already satisfied: webencodings in /opt/conda/lib/python3.10/site-packages (from bleach->kaggle->wildlife-datasets>=0.3.4->wildlife-tools) (0.5.1)\r\n",
      "Requirement already satisfied: text-unidecode>=1.3 in /opt/conda/lib/python3.10/site-packages (from python-slugify->kaggle->wildlife-datasets>=0.3.4->wildlife-tools) (1.3)\r\n",
      "Requirement already satisfied: PySocks!=1.5.7,>=1.5.6 in /opt/conda/lib/python3.10/site-packages (from requests[socks]->gdown->wildlife-datasets>=0.3.4->wildlife-tools) (1.7.1)\r\n",
      "Downloading wildlife_tools-0.0.9-py3-none-any.whl (25 kB)\r\n",
      "Downloading faiss_gpu-1.7.2-cp310-cp310-manylinux_2_17_x86_64.manylinux2014_x86_64.whl (85.5 MB)\r\n",
      "\u001b[2K   \u001b[90m━━━━━━━━━━━━━━━━━━━━━━━━━━━━━━━━━━━━━━━━\u001b[0m \u001b[32m85.5/85.5 MB\u001b[0m \u001b[31m17.8 MB/s\u001b[0m eta \u001b[36m0:00:00\u001b[0m\r\n",
      "\u001b[?25hDownloading pycocotools-2.0.8-cp310-cp310-manylinux_2_17_x86_64.manylinux2014_x86_64.whl (427 kB)\r\n",
      "\u001b[2K   \u001b[90m━━━━━━━━━━━━━━━━━━━━━━━━━━━━━━━━━━━━━━━━\u001b[0m \u001b[32m427.8/427.8 kB\u001b[0m \u001b[31m20.9 MB/s\u001b[0m eta \u001b[36m0:00:00\u001b[0m\r\n",
      "\u001b[?25hDownloading pytorch_metric_learning-2.6.0-py3-none-any.whl (119 kB)\r\n",
      "\u001b[2K   \u001b[90m━━━━━━━━━━━━━━━━━━━━━━━━━━━━━━━━━━━━━━━━\u001b[0m \u001b[32m119.3/119.3 kB\u001b[0m \u001b[31m6.3 MB/s\u001b[0m eta \u001b[36m0:00:00\u001b[0m\r\n",
      "\u001b[?25hInstalling collected packages: faiss-gpu, pytorch-metric-learning, pycocotools, wildlife-tools\r\n",
      "Successfully installed faiss-gpu-1.7.2 pycocotools-2.0.8 pytorch-metric-learning-2.6.0 wildlife-tools-0.0.9\r\n",
      "Note: you may need to restart the kernel to use updated packages.\n"
     ]
    }
   ],
   "source": [
    "%pip install wildlife-tools"
   ]
  },
  {
   "cell_type": "code",
   "execution_count": 3,
   "id": "15ef3b5e",
   "metadata": {
    "execution": {
     "iopub.execute_input": "2024-08-03T08:30:49.765418Z",
     "iopub.status.busy": "2024-08-03T08:30:49.764398Z",
     "iopub.status.idle": "2024-08-03T08:31:01.908209Z",
     "shell.execute_reply": "2024-08-03T08:31:01.906678Z"
    },
    "papermill": {
     "duration": 12.156845,
     "end_time": "2024-08-03T08:31:01.911105",
     "exception": false,
     "start_time": "2024-08-03T08:30:49.754260",
     "status": "completed"
    },
    "tags": []
   },
   "outputs": [
    {
     "name": "stdout",
     "output_type": "stream",
     "text": [
      "Requirement already satisfied: timm in /opt/conda/lib/python3.10/site-packages (1.0.7)\r\n",
      "Requirement already satisfied: torch in /opt/conda/lib/python3.10/site-packages (from timm) (2.1.2+cpu)\r\n",
      "Requirement already satisfied: torchvision in /opt/conda/lib/python3.10/site-packages (from timm) (0.16.2+cpu)\r\n",
      "Requirement already satisfied: pyyaml in /opt/conda/lib/python3.10/site-packages (from timm) (6.0.1)\r\n",
      "Requirement already satisfied: huggingface_hub in /opt/conda/lib/python3.10/site-packages (from timm) (0.23.4)\r\n",
      "Requirement already satisfied: safetensors in /opt/conda/lib/python3.10/site-packages (from timm) (0.4.3)\r\n",
      "Requirement already satisfied: filelock in /opt/conda/lib/python3.10/site-packages (from huggingface_hub->timm) (3.13.1)\r\n",
      "Requirement already satisfied: fsspec>=2023.5.0 in /opt/conda/lib/python3.10/site-packages (from huggingface_hub->timm) (2024.5.0)\r\n",
      "Requirement already satisfied: packaging>=20.9 in /opt/conda/lib/python3.10/site-packages (from huggingface_hub->timm) (21.3)\r\n",
      "Requirement already satisfied: requests in /opt/conda/lib/python3.10/site-packages (from huggingface_hub->timm) (2.32.3)\r\n",
      "Requirement already satisfied: tqdm>=4.42.1 in /opt/conda/lib/python3.10/site-packages (from huggingface_hub->timm) (4.66.4)\r\n",
      "Requirement already satisfied: typing-extensions>=3.7.4.3 in /opt/conda/lib/python3.10/site-packages (from huggingface_hub->timm) (4.9.0)\r\n",
      "Requirement already satisfied: sympy in /opt/conda/lib/python3.10/site-packages (from torch->timm) (1.13.0)\r\n",
      "Requirement already satisfied: networkx in /opt/conda/lib/python3.10/site-packages (from torch->timm) (3.2.1)\r\n",
      "Requirement already satisfied: jinja2 in /opt/conda/lib/python3.10/site-packages (from torch->timm) (3.1.2)\r\n",
      "Requirement already satisfied: numpy in /opt/conda/lib/python3.10/site-packages (from torchvision->timm) (1.26.4)\r\n",
      "Requirement already satisfied: pillow!=8.3.*,>=5.3.0 in /opt/conda/lib/python3.10/site-packages (from torchvision->timm) (9.5.0)\r\n",
      "Requirement already satisfied: pyparsing!=3.0.5,>=2.0.2 in /opt/conda/lib/python3.10/site-packages (from packaging>=20.9->huggingface_hub->timm) (3.1.1)\r\n",
      "Requirement already satisfied: MarkupSafe>=2.0 in /opt/conda/lib/python3.10/site-packages (from jinja2->torch->timm) (2.1.3)\r\n",
      "Requirement already satisfied: charset-normalizer<4,>=2 in /opt/conda/lib/python3.10/site-packages (from requests->huggingface_hub->timm) (3.3.2)\r\n",
      "Requirement already satisfied: idna<4,>=2.5 in /opt/conda/lib/python3.10/site-packages (from requests->huggingface_hub->timm) (3.6)\r\n",
      "Requirement already satisfied: urllib3<3,>=1.21.1 in /opt/conda/lib/python3.10/site-packages (from requests->huggingface_hub->timm) (1.26.18)\r\n",
      "Requirement already satisfied: certifi>=2017.4.17 in /opt/conda/lib/python3.10/site-packages (from requests->huggingface_hub->timm) (2024.7.4)\r\n",
      "Requirement already satisfied: mpmath<1.4,>=1.1.0 in /opt/conda/lib/python3.10/site-packages (from sympy->torch->timm) (1.3.0)\r\n",
      "Note: you may need to restart the kernel to use updated packages.\n"
     ]
    }
   ],
   "source": [
    "%pip install timm"
   ]
  },
  {
   "cell_type": "code",
   "execution_count": null,
   "id": "83ddaf08",
   "metadata": {
    "papermill": {
     "duration": 0.007506,
     "end_time": "2024-08-03T08:31:01.926539",
     "exception": false,
     "start_time": "2024-08-03T08:31:01.919033",
     "status": "completed"
    },
    "tags": []
   },
   "outputs": [],
   "source": []
  },
  {
   "cell_type": "code",
   "execution_count": 4,
   "id": "eae2adc8",
   "metadata": {
    "execution": {
     "iopub.execute_input": "2024-08-03T08:31:01.943618Z",
     "iopub.status.busy": "2024-08-03T08:31:01.943214Z",
     "iopub.status.idle": "2024-08-03T08:31:01.948620Z",
     "shell.execute_reply": "2024-08-03T08:31:01.947365Z"
    },
    "papermill": {
     "duration": 0.016801,
     "end_time": "2024-08-03T08:31:01.950897",
     "exception": false,
     "start_time": "2024-08-03T08:31:01.934096",
     "status": "completed"
    },
    "tags": []
   },
   "outputs": [],
   "source": [
    "# from wildlife_tools.features import  SuperPointFeatures\n",
    "# import wildlife_tools.features\n",
    "# help(wildlife_tools.features)"
   ]
  },
  {
   "cell_type": "code",
   "execution_count": 5,
   "id": "cdb03d25",
   "metadata": {
    "execution": {
     "iopub.execute_input": "2024-08-03T08:31:01.968513Z",
     "iopub.status.busy": "2024-08-03T08:31:01.967436Z",
     "iopub.status.idle": "2024-08-03T08:31:01.975140Z",
     "shell.execute_reply": "2024-08-03T08:31:01.973950Z"
    },
    "papermill": {
     "duration": 0.01901,
     "end_time": "2024-08-03T08:31:01.977533",
     "exception": false,
     "start_time": "2024-08-03T08:31:01.958523",
     "status": "completed"
    },
    "tags": []
   },
   "outputs": [],
   "source": [
    "# import numpy as np\n",
    "# from PIL import Image\n",
    "# import torchvision.transforms as T\n",
    "# from wildlife_datasets import datasets\n",
    "# from wildlife_tools.data import WildlifeDataset\n",
    "# from wildlife_tools.features import SIFTFeatures\n",
    "# import cv2  # Import OpenCV for SIFT\n",
    "\n",
    "\n",
    "\n",
    "# # Download dataset (if not already downloaded)\n",
    "# datasets.CZoo.get_data('../data/CZoo')\n",
    "\n",
    "# # Load dataset metadata\n",
    "# metadata_CZoo = datasets.CZoo('../data/CZoo')\n",
    "\n",
    "# # Define transformations: resize, convert to PIL Image, convert to grayscale, and convert to numpy array\n",
    "# transform = T.Compose([\n",
    "#     T.Resize([224, 224]),  # Resize the image\n",
    "#     # T.ToPILImage(),  # Convert tensor to PIL Image\n",
    "#     T.Grayscale(),  # Convert to grayscale\n",
    "#     # T.ToTensor(),  # Convert PIL Image to numpy array\n",
    "#     # lambda x: (x * 255).astype(np.uint8)  # Convert to 8-bit integer format\n",
    "# ])\n",
    "\n",
    "# # Create datasets with transformations\n",
    "# dataset = WildlifeDataset(metadata_CZoo.df, metadata_CZoo.root, transform=transform)\n",
    "# dataset_database_CZoo = WildlifeDataset(metadata_CZoo.df.iloc[100:], metadata_CZoo.root, transform=transform)\n",
    "# dataset_query_CZoo = WildlifeDataset(metadata_CZoo.df.iloc[:100], metadata_CZoo.root, transform=transform)\n",
    "\n",
    "# # Initialize SIFT extractor\n",
    "# sift = cv2.SIFT_create()\n",
    "# extractor_CZoo =  SuperPointFeatures()\n",
    "\n",
    "# query_CZoo, database_CZoo = extractor_CZoo(dataset_query_CZoo), extractor_CZoo(dataset_database_CZoo)\n",
    "\n",
    "# print(f'First 5 query features shape: {[i.shape for i in query_CZoo[:5]]}')\n",
    "# print(f'First 5 database features shape: {[i.shape for i in database_CZoo[:5]]}')\n",
    "\n",
    "# import timm\n",
    "# import pandas as pd\n",
    "# import torchvision.transforms as T\n",
    "\n",
    "# from wildlife_tools.data import WildlifeDataset, SplitMetadata\n",
    "# from wildlife_tools.features import SIFTFeatures\n",
    "# from wildlife_tools.similarity import MatchDescriptors\n",
    "# from wildlife_tools.inference import KnnClassifier\n",
    "\n",
    "# similarity = MatchDescriptors(descriptor_dim=128, thresholds=[0.8])\n",
    "# sim = similarity(query_CZoo, database_CZoo)[0.8]\n",
    "\n",
    "# print(\"Number of SIFT correspondences after 0.8 ratio test threshold: \\n\", sim)\n",
    "\n",
    "\n",
    "# classifier_CZoo = KnnClassifier(k=1, database_labels=dataset_database_CZoo.labels_string)\n",
    "# predictions_CZoo = classifier_CZoo(sim)\n",
    "\n",
    "# print(\"Predictions for 100 test Images:-\\n\",predictions_CZoo)\n",
    "# accuracy_CZoo = np.mean(dataset_query_CZoo.labels_string == predictions_CZoo)\n",
    "# print(\"Accuracy on CZoo data: {:.2f}%\".format(accuracy_CZoo * 100))\n",
    "\n",
    "\n",
    "\n",
    "# # Nearest neigbour classifier using the similarity\n",
    "# classifier = KnnClassifier(k=1, database_labels=dataset_database_CZoo.labels_string)\n",
    "# preds = classifier(sim)\n",
    "# print(\"Prediction \\t\", preds)\n",
    "# print(\"Ground truth \\t\", dataset_query_CZoo.labels_string)\n",
    "\n",
    "# acc = sum(preds == dataset_query_CZoo.labels_string) / len(dataset_query_CZoo.labels_string)\n",
    "# print('\\n Accuracy: ', acc*100,\"%\")\n",
    "\n"
   ]
  }
 ],
 "metadata": {
  "kaggle": {
   "accelerator": "none",
   "dataSources": [],
   "isGpuEnabled": false,
   "isInternetEnabled": true,
   "language": "python",
   "sourceType": "notebook"
  },
  "kernelspec": {
   "display_name": "Python 3",
   "language": "python",
   "name": "python3"
  },
  "language_info": {
   "codemirror_mode": {
    "name": "ipython",
    "version": 3
   },
   "file_extension": ".py",
   "mimetype": "text/x-python",
   "name": "python",
   "nbconvert_exporter": "python",
   "pygments_lexer": "ipython3",
   "version": "3.10.13"
  },
  "papermill": {
   "default_parameters": {},
   "duration": 48.390179,
   "end_time": "2024-08-03T08:31:02.406157",
   "environment_variables": {},
   "exception": null,
   "input_path": "__notebook__.ipynb",
   "output_path": "__notebook__.ipynb",
   "parameters": {},
   "start_time": "2024-08-03T08:30:14.015978",
   "version": "2.5.0"
  }
 },
 "nbformat": 4,
 "nbformat_minor": 5
}
